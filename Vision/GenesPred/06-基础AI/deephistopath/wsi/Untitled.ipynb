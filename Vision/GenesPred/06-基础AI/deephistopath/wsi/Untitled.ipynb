{
 "cells": [
  {
   "cell_type": "code",
   "execution_count": 1,
   "id": "be7d6fcd-b7f0-4a65-b29e-fdd428818e13",
   "metadata": {},
   "outputs": [
    {
     "name": "stdout",
     "output_type": "stream",
     "text": [
      "['TCGA-3L-AA1B-01Z-00-DX1.8923A151-A690-40B7-9E5A-FCBEDFC2394F.svs', 'TCGA-3L-AA1B-01Z-00-DX2.17CE3683-F4B1-4978-A281-8F620C4D77B4.svs', 'TCGA-4N-A93T-01Z-00-DX1.82E240B1-22C3-46E3-891F-0DCE35C43F8B.svs', 'TCGA-4N-A93T-01Z-00-DX2.875E7F95-A6D4-4BEB-A331-F9D8080898C2.svs', 'TCGA-5M-AATE-01Z-00-DX1.483FFD2F-61A1-477E-8F94-157383803FC7.svs', 'TCGA-A6-2676-01Z-00-DX1.c465f6e0-b47c-48e9-bdb1-67077bb16c67.svs']\n",
      "Opening Slide #1: /root/data1/zhangkuo/切片DX/train/M0/TCGA-3L-AA1B-01Z-00-DX2.17CE3683-F4B1-4978-A281-8F620C4D77B4.svs\n",
      "slide.py:696: DeprecationWarning: BILINEAR is deprecated and will be removed in Pillow 10 (2023-07-01). Use Resampling.BILINEAR instead.\n",
      "  img = whole_slide_image.resize((new_w, new_h), PIL.Image.BILINEAR)\n",
      "Saving image to: /root/data1/zhangkuo/切片DX-training/train/M0/TCGA-3L-AA1B-01Z-00-DX2.17CE3683-F4B1-4978-A281-8F620C4D77B4.png\n",
      "slide.py:739: DeprecationWarning: BILINEAR is deprecated and will be removed in Pillow 10 (2023-07-01). Use Resampling.BILINEAR instead.\n",
      "  img = pil_img.resize(max_size, PIL.Image.BILINEAR)\n",
      "Opening Slide #2: /root/data1/zhangkuo/切片DX/train/M0/TCGA-4N-A93T-01Z-00-DX1.82E240B1-22C3-46E3-891F-0DCE35C43F8B.svs\n",
      "Saving image to: /root/data1/zhangkuo/切片DX-training/train/M0/TCGA-4N-A93T-01Z-00-DX1.82E240B1-22C3-46E3-891F-0DCE35C43F8B.png\n",
      "Opening Slide #3: /root/data1/zhangkuo/切片DX/train/M0/TCGA-4N-A93T-01Z-00-DX2.875E7F95-A6D4-4BEB-A331-F9D8080898C2.svs\n",
      "Saving image to: /root/data1/zhangkuo/切片DX-training/train/M0/TCGA-4N-A93T-01Z-00-DX2.875E7F95-A6D4-4BEB-A331-F9D8080898C2.png\n",
      "Opening Slide #4: /root/data1/zhangkuo/切片DX/train/M0/TCGA-5M-AATE-01Z-00-DX1.483FFD2F-61A1-477E-8F94-157383803FC7.svs\n",
      "Saving image to: /root/data1/zhangkuo/切片DX-training/train/M0/TCGA-5M-AATE-01Z-00-DX1.483FFD2F-61A1-477E-8F94-157383803FC7.png\n",
      "Opening Slide #5: /root/data1/zhangkuo/切片DX/train/M0/TCGA-A6-2676-01Z-00-DX1.c465f6e0-b47c-48e9-bdb1-67077bb16c67.svs\n",
      "Saving image to: /root/data1/zhangkuo/切片DX-training/train/M0/TCGA-A6-2676-01Z-00-DX1.c465f6e0-b47c-48e9-bdb1-67077bb16c67.png\n",
      "Traceback (most recent call last):\n",
      "  File \"slide.py\", line 1085, in <module>\n",
      "    singleprocess_training_slides_to_images()\n",
      "  File \"slide.py\", line 782, in singleprocess_training_slides_to_images\n",
      "    training_slide_range_to_images(1, num_train_images)\n",
      "  File \"slide.py\", line 771, in training_slide_range_to_images\n",
      "    training_slide_to_image(slide_num)\n",
      "  File \"slide.py\", line 664, in training_slide_to_image\n",
      "    img, large_w, large_h, new_w, new_h = slide_to_scaled_pil_image(slide_number)\n",
      "  File \"slide.py\", line 686, in slide_to_scaled_pil_image\n",
      "    slide_filepath = get_training_slide_path(slide_number)\n",
      "  File \"slide.py\", line 158, in get_training_slide_path\n",
      "    slide_filepath = os.path.join(SRC_TRAIN_DIR, files[slide_number])\n",
      "IndexError: list index out of range\n"
     ]
    }
   ],
   "source": [
    "!python3 slide.py"
   ]
  },
  {
   "cell_type": "code",
   "execution_count": 2,
   "id": "46e1608c-ea70-4336-b207-eb95fff6806e",
   "metadata": {},
   "outputs": [
    {
     "name": "stdout",
     "output_type": "stream",
     "text": [
      "Collecting openslide-python\n",
      "  Downloading openslide-python-1.2.0.tar.gz (338 kB)\n",
      "\u001b[K     |████████████████████████████████| 338 kB 58 kB/s eta 0:00:011\n",
      "\u001b[?25hRequirement already satisfied: Pillow in /usr/local/lib/python3.8/dist-packages (from openslide-python) (9.1.0)\n",
      "Building wheels for collected packages: openslide-python\n",
      "  Building wheel for openslide-python (setup.py) ... \u001b[?25ldone\n",
      "\u001b[?25h  Created wheel for openslide-python: filename=openslide_python-1.2.0-cp38-cp38-linux_x86_64.whl size=28178 sha256=0c730387b787de10d5061a2b0f8c1a5e87a396da4312289699fa16269f00559d\n",
      "  Stored in directory: /root/.cache/pip/wheels/ae/74/4e/f8654d229eb249d1345e3df0191030ad77e7a6a2114df7cd28\n",
      "Successfully built openslide-python\n",
      "Installing collected packages: openslide-python\n",
      "Successfully installed openslide-python-1.2.0\n"
     ]
    }
   ],
   "source": [
    "!pip install openslide-python"
   ]
  },
  {
   "cell_type": "code",
   "execution_count": null,
   "id": "f4d692f2-91ec-4f07-9e72-e9e43bc9840b",
   "metadata": {},
   "outputs": [],
   "source": [
    "data1/zhangkuo/切片DX/train"
   ]
  }
 ],
 "metadata": {
  "kernelspec": {
   "display_name": "Python 3 (ipykernel)",
   "language": "python",
   "name": "python3"
  },
  "language_info": {
   "codemirror_mode": {
    "name": "ipython",
    "version": 3
   },
   "file_extension": ".py",
   "mimetype": "text/x-python",
   "name": "python",
   "nbconvert_exporter": "python",
   "pygments_lexer": "ipython3",
   "version": "3.8.10"
  }
 },
 "nbformat": 4,
 "nbformat_minor": 5
}
