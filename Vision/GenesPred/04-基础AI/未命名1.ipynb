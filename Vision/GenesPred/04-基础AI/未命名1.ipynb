{
 "cells": [
  {
   "cell_type": "code",
   "execution_count": 1,
   "metadata": {},
   "outputs": [],
   "source": [
    "from BCBio import GFF\n"
   ]
  },
  {
   "cell_type": "code",
   "execution_count": 2,
   "metadata": {},
   "outputs": [],
   "source": [
    "# in_handle = open(r\"F:\\01 科研项目数据-2022\\06-基础AI\\human.gtf\",'r')\n",
    "# for rec in GFF.parse(in_handle):\n",
    "#     for feature in rec.features:\n",
    "#         if feature.type == \"region\":\n",
    "#             chromo = feature.qualifiers['ID'][0]\n",
    "#             chrid = chromo.split(\":\")[0]\n",
    "#             chrLen = chromo.split(\"..\")[1]\n",
    "#             print(chrid,chrLen)"
   ]
  },
  {
   "cell_type": "code",
   "execution_count": 3,
   "metadata": {},
   "outputs": [],
   "source": [
    "path = r\"F:\\01 科研项目数据-2022\\06-基础AI\\human.gtf\""
   ]
  },
  {
   "cell_type": "code",
   "execution_count": 4,
   "metadata": {},
   "outputs": [
    {
     "data": {
      "text/plain": [
       "Counter({'transcribed_unprocessed_pseudogene': 925,\n",
       "         'unprocessed_pseudogene': 2627,\n",
       "         'miRNA': 1879,\n",
       "         'lncRNA': 16887,\n",
       "         'protein_coding': 19941,\n",
       "         'processed_pseudogene': 10168,\n",
       "         'snRNA': 1901,\n",
       "         'transcribed_processed_pseudogene': 498,\n",
       "         'misc_RNA': 2211,\n",
       "         'TEC': 1061,\n",
       "         'transcribed_unitary_pseudogene': 137,\n",
       "         'snoRNA': 943,\n",
       "         'scaRNA': 49,\n",
       "         'rRNA_pseudogene': 500,\n",
       "         'unitary_pseudogene': 97,\n",
       "         'polymorphic_pseudogene': 42,\n",
       "         'pseudogene': 18,\n",
       "         'rRNA': 52,\n",
       "         'IG_V_pseudogene': 188,\n",
       "         'ribozyme': 8,\n",
       "         'sRNA': 5,\n",
       "         'TR_V_gene': 106,\n",
       "         'TR_V_pseudogene': 33,\n",
       "         'TR_D_gene': 4,\n",
       "         'TR_J_gene': 79,\n",
       "         'TR_C_gene': 6,\n",
       "         'TR_J_pseudogene': 4,\n",
       "         'IG_C_gene': 14,\n",
       "         'IG_C_pseudogene': 9,\n",
       "         'IG_J_gene': 18,\n",
       "         'IG_J_pseudogene': 3,\n",
       "         'IG_D_gene': 37,\n",
       "         'IG_V_gene': 144,\n",
       "         'IG_pseudogene': 1,\n",
       "         'translated_processed_pseudogene': 2,\n",
       "         'scRNA': 1,\n",
       "         'vaultRNA': 1,\n",
       "         'translated_unprocessed_pseudogene': 1,\n",
       "         'Mt_tRNA': 22,\n",
       "         'Mt_rRNA': 2})"
      ]
     },
     "execution_count": 4,
     "metadata": {},
     "output_type": "execute_result"
    }
   ],
   "source": [
    "from BCBio import GFF\n",
    "from collections import Counter\n",
    "\n",
    "biotype = []\n",
    "\n",
    "in_handle = open(path,'r')\n",
    "\n",
    "for rec in GFF.parse(in_handle):\n",
    "    for feature in rec.features:\n",
    "        if feature.type == \"gene\":\n",
    "            biotype.append(feature.qualifiers['gene_biotype'][0])\n",
    "            \n",
    "in_handle.close()\n",
    "len(biotype)\n",
    "biotype[0:15]\n",
    "\n",
    "Counter(biotype)"
   ]
  },
  {
   "cell_type": "code",
   "execution_count": 5,
   "metadata": {},
   "outputs": [],
   "source": [
    "def get_gene_info(gencode_filename):\n",
    "    gene_dict = {}\n",
    "    with open(gencode_filename, \"r\") as gencode_file, open(\"gene_dict.csv\", \"w+\") as gene_dict_file:\n",
    "        effective_genes_num = 0\n",
    "\n",
    "        for line in gencode_file:  # read line by line\n",
    "\n",
    "            if line[0:3] != \"chr\":  # skip useless lines\n",
    "                continue\n",
    "\n",
    "            # separate line into 9 parts\n",
    "            # …… \\t …… \\t line_info_type \\t …… \\t …… \\t …… \\t …… \\t …… \\t gene_info \\t\n",
    "            line_info = line.split(\"\\t\")\n",
    "            if line_info[2] != \"gene\":  # skip unimportant lines\n",
    "                continue\n",
    "\n",
    "            # eg.gene_id \"ENSG00000223972.5\"; gene_type \"transcribed_unprocessed_pseudogene\"; gene_name \"DDX11L1\"; ……\n",
    "            gene_info = line_info[8].split(\" \")\n",
    "            gene_id = gene_info[1].split(\".\")[0][1:]\n",
    "            gene_name = gene_info[5][1:-2]\n",
    "\n",
    "            gene_dict[gene_id] = gene_name\n",
    "            gene_dict_info = gene_id + \",\" + gene_name + \"\\n\"\n",
    "            gene_dict_file.write(gene_dict_info)\n",
    "\n",
    "            effective_genes_num += 1\n",
    "\n",
    "        print(\"Effective genes number found in \" + gencode_filename + \" is \" + str(effective_genes_num))\n",
    "        return gene_dict\n",
    "\n",
    "\n",
    "def transformENSGid(gencode_filename, tcga_filename):\n",
    "    gene_dict = get_gene_info(gencode_filename)\n",
    "\n",
    "    transformedENSGid_num = 0\n",
    "\n",
    "    with open(tcga_filename, \"r\") as tcga_data, open(\"TCGAfpkm_transformed.xls\", \"w+\") as new_tcga_data_file:\n",
    "        for line in tcga_data:\n",
    "\n",
    "            if line[0:4] != \"ENSG\":  # skip useless lines\n",
    "                new_tcga_data_file.write(line)\n",
    "                continue\n",
    "\n",
    "            # separate line into several parts\n",
    "            line_info = line.split(\"\\t\")\n",
    "\n",
    "            # get gene_id\n",
    "            gene_id = line_info[0].split(\".\")[0]\n",
    "\n",
    "            # transform\n",
    "            try:\n",
    "                line_info[0] = gene_dict[gene_id]\n",
    "            except:\n",
    "                continue  # skip useless lines\n",
    "\n",
    "            # generate new line\n",
    "            new_line = \"\\t\"\n",
    "            new_line = new_line.join(line_info)\n",
    "            new_tcga_data_file.write(new_line)\n",
    "\n",
    "            transformedENSGid_num += 1\n",
    "\n",
    "        print(\"Transformed ENSGID in \" + tcga_filename + \" is \" + str(transformedENSGid_num) + \".\")\n",
    "\n",
    "\n",
    "# if __name__ == \"__main__\":\n",
    "#     # get file \"gencode.v38.chr_patch_hapl_scaff.basic.annotation.gtf\" from gencode database\n",
    "#     # https://www.gencodegenes.org/human/\n",
    "\n",
    "#     transformENSGid(\"gencode.v38.chr_patch_hapl_scaff.basic.annotation.gtf\", \"TCGAfpkm.xls\")\n",
    "#     # transformENSGid(\"gencode.v38.chr_patch_hapl_scaff.annotation.gtf\",\"TCGAfpkm.xls\")\n"
   ]
  },
  {
   "cell_type": "code",
   "execution_count": 6,
   "metadata": {},
   "outputs": [
    {
     "name": "stdout",
     "output_type": "stream",
     "text": [
      "Effective genes number found in F:\\01 科研项目数据-2022\\06-基础AI\\human.gtf is 0\n"
     ]
    },
    {
     "ename": "FileNotFoundError",
     "evalue": "[Errno 2] No such file or directory: 'TCGAfpkm.xls'",
     "output_type": "error",
     "traceback": [
      "\u001b[1;31m---------------------------------------------------------------------------\u001b[0m",
      "\u001b[1;31mFileNotFoundError\u001b[0m                         Traceback (most recent call last)",
      "\u001b[1;32m<ipython-input-6-36bc5949fc78>\u001b[0m in \u001b[0;36m<module>\u001b[1;34m\u001b[0m\n\u001b[1;32m----> 1\u001b[1;33m \u001b[0mtransformENSGid\u001b[0m\u001b[1;33m(\u001b[0m\u001b[1;34mr\"F:\\01 科研项目数据-2022\\06-基础AI\\human.gtf\"\u001b[0m\u001b[1;33m,\u001b[0m \u001b[1;34m\"TCGAfpkm.xls\"\u001b[0m\u001b[1;33m)\u001b[0m\u001b[1;33m\u001b[0m\u001b[1;33m\u001b[0m\u001b[0m\n\u001b[0m",
      "\u001b[1;32m<ipython-input-5-3cb7b777e964>\u001b[0m in \u001b[0;36mtransformENSGid\u001b[1;34m(gencode_filename, tcga_filename)\u001b[0m\n\u001b[0;32m     35\u001b[0m     \u001b[0mtransformedENSGid_num\u001b[0m \u001b[1;33m=\u001b[0m \u001b[1;36m0\u001b[0m\u001b[1;33m\u001b[0m\u001b[1;33m\u001b[0m\u001b[0m\n\u001b[0;32m     36\u001b[0m \u001b[1;33m\u001b[0m\u001b[0m\n\u001b[1;32m---> 37\u001b[1;33m     \u001b[1;32mwith\u001b[0m \u001b[0mopen\u001b[0m\u001b[1;33m(\u001b[0m\u001b[0mtcga_filename\u001b[0m\u001b[1;33m,\u001b[0m \u001b[1;34m\"r\"\u001b[0m\u001b[1;33m)\u001b[0m \u001b[1;32mas\u001b[0m \u001b[0mtcga_data\u001b[0m\u001b[1;33m,\u001b[0m \u001b[0mopen\u001b[0m\u001b[1;33m(\u001b[0m\u001b[1;34m\"TCGAfpkm_transformed.xls\"\u001b[0m\u001b[1;33m,\u001b[0m \u001b[1;34m\"w+\"\u001b[0m\u001b[1;33m)\u001b[0m \u001b[1;32mas\u001b[0m \u001b[0mnew_tcga_data_file\u001b[0m\u001b[1;33m:\u001b[0m\u001b[1;33m\u001b[0m\u001b[1;33m\u001b[0m\u001b[0m\n\u001b[0m\u001b[0;32m     38\u001b[0m         \u001b[1;32mfor\u001b[0m \u001b[0mline\u001b[0m \u001b[1;32min\u001b[0m \u001b[0mtcga_data\u001b[0m\u001b[1;33m:\u001b[0m\u001b[1;33m\u001b[0m\u001b[1;33m\u001b[0m\u001b[0m\n\u001b[0;32m     39\u001b[0m \u001b[1;33m\u001b[0m\u001b[0m\n",
      "\u001b[1;31mFileNotFoundError\u001b[0m: [Errno 2] No such file or directory: 'TCGAfpkm.xls'"
     ]
    }
   ],
   "source": [
    "transformENSGid(r\"F:\\01 科研项目数据-2022\\06-基础AI\\human.gtf\", \"TCGAfpkm.xls\")"
   ]
  },
  {
   "cell_type": "code",
   "execution_count": 7,
   "metadata": {},
   "outputs": [
    {
     "name": "stdout",
     "output_type": "stream",
     "text": [
      "Effective genes number found in F:\\01 科研项目数据-2022\\06-基础AI\\human.gtf is 0\n"
     ]
    }
   ],
   "source": [
    "gene_dict = get_gene_info(r\"F:\\01 科研项目数据-2022\\06-基础AI\\human.gtf\")"
   ]
  },
  {
   "cell_type": "code",
   "execution_count": 41,
   "metadata": {},
   "outputs": [],
   "source": [
    "gencode_filename = r\"F:\\01 科研项目数据-2022\\06-基础AI\\human.gtf\""
   ]
  },
  {
   "cell_type": "code",
   "execution_count": 42,
   "metadata": {},
   "outputs": [],
   "source": [
    "gene_dict = {}"
   ]
  },
  {
   "cell_type": "code",
   "execution_count": 10,
   "metadata": {},
   "outputs": [],
   "source": [
    "with open(gencode_filename, \"r\") as gencode_file:\n",
    "    effective_genes_num = 0\n",
    "    for line in gencode_file: \n",
    "        if line[0:2] == \"#!\":\n",
    "            continue\n",
    "#         print(line)\n",
    "        line_info = line.split(\"\\t\")\n",
    "        \n",
    "        if line_info[2] != \"gene\":  # skip unimportant lines\n",
    "            continue\n",
    "        gene_info = line_info[8].split(\" \")\n",
    "        gene_id = gene_info[1]\n",
    "        gene_name = gene_info[5]\n",
    "#         print(gene_id, gene_name)\n",
    "        gene_id=gene_id.replace('\"','')\n",
    "        new_gene_id=gene_id.replace(';','')\n",
    "        gene_name=gene_name.replace('\"','')\n",
    "        new_gene_name=gene_name.replace(';','')\n",
    "        gene_dict[new_gene_id] = new_gene_name\n",
    "        effective_genes_num += 1\n",
    "#         if effective_genes_num > 10:\n",
    "#             break\n",
    "#             # eg.gene_id \"ENSG00000223972.5\"; gene_type \"transcribed_unprocessed_pseudogene\"; gene_name \"DDX11L1\"; ……\n",
    "#             gene_info = line_info[8].split(\" \")\n",
    "#             gene_id = gene_info[1].split(\".\")[0][1:]\n",
    "#             gene_name = gene_info[5][1:-2]\n",
    "#             print(gene_info)\n",
    "# #             gene_dict[gene_id] = gene_name\n",
    "# #             gene_dict_info = gene_id + \",\" + gene_name + \"\\n\"\n",
    "# #             gene_dict_file.write(gene_dict_info)\n",
    "\n",
    "#             effective_genes_num += 1\n",
    "#             if effective_genes_num > 10:\n",
    "#                 break\n",
    "\n",
    "#         print(\"Effective genes number found in \" + gencode_filename + \" is \" + str(effective_genes_num))"
   ]
  },
  {
   "cell_type": "code",
   "execution_count": 11,
   "metadata": {},
   "outputs": [],
   "source": [
    "import pandas as pd\n"
   ]
  },
  {
   "cell_type": "code",
   "execution_count": 12,
   "metadata": {},
   "outputs": [],
   "source": [
    "df = pd.read_csv(r\"F:\\01 科研项目数据-2022\\06-基础AI\\TCGA-COAD-counts\\sample0803\\Diff_genes_all.csv\")"
   ]
  },
  {
   "cell_type": "code",
   "execution_count": 14,
   "metadata": {},
   "outputs": [
    {
     "name": "stdout",
     "output_type": "stream",
     "text": [
      "ENSG00000185087\n",
      "ENSG00000226958\n",
      "ENSG00000251164\n",
      "ENSG00000278309\n",
      "ENSG00000279487\n"
     ]
    }
   ],
   "source": [
    "gennames = []\n",
    "for index, row in df.iterrows():\n",
    "    \n",
    "    gend_id = row[1]\n",
    "    try:\n",
    "        genname = gene_dict[gend_id]\n",
    "    except:\n",
    "        print(gend_id)\n",
    "        genname = \"\"\n",
    "    \n",
    "    gennames.append(genname)"
   ]
  },
  {
   "cell_type": "code",
   "execution_count": 15,
   "metadata": {},
   "outputs": [],
   "source": [
    "df['gene_name'] = gennames"
   ]
  },
  {
   "cell_type": "code",
   "execution_count": 16,
   "metadata": {},
   "outputs": [
    {
     "data": {
      "text/html": [
       "<div>\n",
       "<style scoped>\n",
       "    .dataframe tbody tr th:only-of-type {\n",
       "        vertical-align: middle;\n",
       "    }\n",
       "\n",
       "    .dataframe tbody tr th {\n",
       "        vertical-align: top;\n",
       "    }\n",
       "\n",
       "    .dataframe thead th {\n",
       "        text-align: right;\n",
       "    }\n",
       "</style>\n",
       "<table border=\"1\" class=\"dataframe\">\n",
       "  <thead>\n",
       "    <tr style=\"text-align: right;\">\n",
       "      <th></th>\n",
       "      <th>Unnamed: 0</th>\n",
       "      <th>gene_id</th>\n",
       "      <th>gene_name</th>\n",
       "    </tr>\n",
       "  </thead>\n",
       "  <tbody>\n",
       "    <tr>\n",
       "      <th>0</th>\n",
       "      <td>0</td>\n",
       "      <td>ENSG00000007171</td>\n",
       "      <td>NOS2</td>\n",
       "    </tr>\n",
       "    <tr>\n",
       "      <th>1</th>\n",
       "      <td>1</td>\n",
       "      <td>ENSG00000021826</td>\n",
       "      <td>CPS1</td>\n",
       "    </tr>\n",
       "    <tr>\n",
       "      <th>2</th>\n",
       "      <td>2</td>\n",
       "      <td>ENSG00000026559</td>\n",
       "      <td>KCNG1</td>\n",
       "    </tr>\n",
       "    <tr>\n",
       "      <th>3</th>\n",
       "      <td>3</td>\n",
       "      <td>ENSG00000057468</td>\n",
       "      <td>MSH4</td>\n",
       "    </tr>\n",
       "    <tr>\n",
       "      <th>4</th>\n",
       "      <td>4</td>\n",
       "      <td>ENSG00000058404</td>\n",
       "      <td>CAMK2B</td>\n",
       "    </tr>\n",
       "    <tr>\n",
       "      <th>...</th>\n",
       "      <td>...</td>\n",
       "      <td>...</td>\n",
       "      <td>...</td>\n",
       "    </tr>\n",
       "    <tr>\n",
       "      <th>423</th>\n",
       "      <td>423</td>\n",
       "      <td>ENSG00000279835</td>\n",
       "      <td>AL121785.1</td>\n",
       "    </tr>\n",
       "    <tr>\n",
       "      <th>424</th>\n",
       "      <td>424</td>\n",
       "      <td>ENSG00000279905</td>\n",
       "      <td>AC063926.3</td>\n",
       "    </tr>\n",
       "    <tr>\n",
       "      <th>425</th>\n",
       "      <td>425</td>\n",
       "      <td>ENSG00000280228</td>\n",
       "      <td>AC079753.1</td>\n",
       "    </tr>\n",
       "    <tr>\n",
       "      <th>426</th>\n",
       "      <td>426</td>\n",
       "      <td>ENSG00000280800</td>\n",
       "      <td>FP671120.7</td>\n",
       "    </tr>\n",
       "    <tr>\n",
       "      <th>427</th>\n",
       "      <td>427</td>\n",
       "      <td>ENSG00000281383</td>\n",
       "      <td>FP671120.8</td>\n",
       "    </tr>\n",
       "  </tbody>\n",
       "</table>\n",
       "<p>428 rows × 3 columns</p>\n",
       "</div>"
      ],
      "text/plain": [
       "     Unnamed: 0          gene_id   gene_name\n",
       "0             0  ENSG00000007171        NOS2\n",
       "1             1  ENSG00000021826        CPS1\n",
       "2             2  ENSG00000026559       KCNG1\n",
       "3             3  ENSG00000057468        MSH4\n",
       "4             4  ENSG00000058404      CAMK2B\n",
       "..          ...              ...         ...\n",
       "423         423  ENSG00000279835  AL121785.1\n",
       "424         424  ENSG00000279905  AC063926.3\n",
       "425         425  ENSG00000280228  AC079753.1\n",
       "426         426  ENSG00000280800  FP671120.7\n",
       "427         427  ENSG00000281383  FP671120.8\n",
       "\n",
       "[428 rows x 3 columns]"
      ]
     },
     "execution_count": 16,
     "metadata": {},
     "output_type": "execute_result"
    }
   ],
   "source": [
    "df"
   ]
  },
  {
   "cell_type": "code",
   "execution_count": 17,
   "metadata": {},
   "outputs": [],
   "source": [
    "\n",
    "df.to_csv(r'F:\\01 科研项目数据-2022\\06-基础AI\\Diff_genes_name0804.csv', index=False, float_format=\"string\")"
   ]
  },
  {
   "cell_type": "code",
   "execution_count": 1,
   "metadata": {},
   "outputs": [],
   "source": [
    "import os\n",
    "import pandas as pd"
   ]
  },
  {
   "cell_type": "code",
   "execution_count": 5,
   "metadata": {},
   "outputs": [],
   "source": [
    "files1 = os.listdir(r\"G:\\基础+AI\\切片数据分类\\M0\")\n",
    "files2 = os.listdir(r\"G:\\基础+AI\\切片数据分类\\M1\")\n",
    "files3 = os.listdir(r\"G:\\基础+AI\\切片数据分类-未用\\Mx\")\n",
    "# files1 = os.listdir(r\"G:\\基础+AI\\切片数据分类\\M0\")"
   ]
  },
  {
   "cell_type": "code",
   "execution_count": 7,
   "metadata": {},
   "outputs": [],
   "source": [
    "files = files1+files2+files3"
   ]
  },
  {
   "cell_type": "code",
   "execution_count": 9,
   "metadata": {},
   "outputs": [
    {
     "data": {
      "text/plain": [
       "453"
      ]
     },
     "execution_count": 9,
     "metadata": {},
     "output_type": "execute_result"
    }
   ],
   "source": [
    "len(files)"
   ]
  },
  {
   "cell_type": "code",
   "execution_count": 10,
   "metadata": {},
   "outputs": [],
   "source": [
    "pd.DataFrame(files).to_csv(r\"files.csv\")"
   ]
  },
  {
   "cell_type": "code",
   "execution_count": 1,
   "metadata": {},
   "outputs": [],
   "source": [
    "import os\n",
    "\n",
    "import glob"
   ]
  },
  {
   "cell_type": "code",
   "execution_count": 29,
   "metadata": {},
   "outputs": [],
   "source": [
    "files = glob.glob(r\"Z:\\模型算法组\\训练数据\\zhangkuo\\基础AI\\DX0810-color-result0816/*/*.png\")"
   ]
  },
  {
   "cell_type": "code",
   "execution_count": 30,
   "metadata": {},
   "outputs": [
    {
     "data": {
      "text/plain": [
       "294418"
      ]
     },
     "execution_count": 30,
     "metadata": {},
     "output_type": "execute_result"
    }
   ],
   "source": [
    "len(files)"
   ]
  },
  {
   "cell_type": "code",
   "execution_count": 31,
   "metadata": {},
   "outputs": [],
   "source": [
    "folds = os.listdir(r\"Z:\\模型算法组\\训练数据\\zhangkuo\\基础AI\\DX0810-color-result0816\")"
   ]
  },
  {
   "cell_type": "code",
   "execution_count": 32,
   "metadata": {},
   "outputs": [],
   "source": [
    "path = r\"Z:\\模型算法组\\训练数据\\zhangkuo\\基础AI\\DX0810-tiles_png\""
   ]
  },
  {
   "cell_type": "code",
   "execution_count": 33,
   "metadata": {},
   "outputs": [],
   "source": [
    "tiles_files = []\n",
    "for fold in folds:\n",
    "    sp = os.path.join(path, fold)\n",
    "    _files = os.listdir(sp)\n",
    "    tiles_files += _files"
   ]
  },
  {
   "cell_type": "code",
   "execution_count": 34,
   "metadata": {},
   "outputs": [
    {
     "data": {
      "text/plain": [
       "294566"
      ]
     },
     "execution_count": 34,
     "metadata": {},
     "output_type": "execute_result"
    }
   ],
   "source": [
    "len(tiles_files)"
   ]
  },
  {
   "cell_type": "code",
   "execution_count": 35,
   "metadata": {},
   "outputs": [
    {
     "data": {
      "text/plain": [
       "52"
      ]
     },
     "execution_count": 35,
     "metadata": {},
     "output_type": "execute_result"
    }
   ],
   "source": [
    "len(folds)"
   ]
  },
  {
   "cell_type": "code",
   "execution_count": 21,
   "metadata": {},
   "outputs": [
    {
     "data": {
      "text/plain": [
       "-12138"
      ]
     },
     "execution_count": 21,
     "metadata": {},
     "output_type": "execute_result"
    }
   ],
   "source": [
    "282428-294566"
   ]
  },
  {
   "cell_type": "code",
   "execution_count": 37,
   "metadata": {},
   "outputs": [
    {
     "data": {
      "text/plain": [
       "446"
      ]
     },
     "execution_count": 37,
     "metadata": {},
     "output_type": "execute_result"
    }
   ],
   "source": [
    "49+266+66+13+52"
   ]
  },
  {
   "cell_type": "code",
   "execution_count": 40,
   "metadata": {},
   "outputs": [
    {
     "data": {
      "text/plain": [
       "1.5"
      ]
     },
     "execution_count": 40,
     "metadata": {},
     "output_type": "execute_result"
    }
   ],
   "source": [
    "round(1.53, 1)"
   ]
  },
  {
   "cell_type": "code",
   "execution_count": null,
   "metadata": {},
   "outputs": [],
   "source": []
  }
 ],
 "metadata": {
  "kernelspec": {
   "display_name": "Python 3 (ipykernel)",
   "language": "python",
   "name": "python3"
  },
  "language_info": {
   "codemirror_mode": {
    "name": "ipython",
    "version": 3
   },
   "file_extension": ".py",
   "mimetype": "text/x-python",
   "name": "python",
   "nbconvert_exporter": "python",
   "pygments_lexer": "ipython3",
   "version": "3.9.12"
  }
 },
 "nbformat": 4,
 "nbformat_minor": 4
}
