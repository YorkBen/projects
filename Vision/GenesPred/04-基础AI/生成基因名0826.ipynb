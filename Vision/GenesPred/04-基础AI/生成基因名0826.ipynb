{
 "cells": [
  {
   "cell_type": "code",
   "execution_count": 1,
   "metadata": {},
   "outputs": [],
   "source": [
    "from BCBio import GFF\n",
    "path = r\"F:\\01 科研项目数据-2022\\06-基础AI\\human.gtf\"\n",
    "from BCBio import GFF\n",
    "from collections import Counter\n"
   ]
  },
  {
   "cell_type": "code",
   "execution_count": 2,
   "metadata": {},
   "outputs": [
    {
     "data": {
      "text/plain": [
       "Counter({'transcribed_unprocessed_pseudogene': 925,\n",
       "         'unprocessed_pseudogene': 2627,\n",
       "         'miRNA': 1879,\n",
       "         'lncRNA': 16887,\n",
       "         'protein_coding': 19941,\n",
       "         'processed_pseudogene': 10168,\n",
       "         'snRNA': 1901,\n",
       "         'transcribed_processed_pseudogene': 498,\n",
       "         'misc_RNA': 2211,\n",
       "         'TEC': 1061,\n",
       "         'transcribed_unitary_pseudogene': 137,\n",
       "         'snoRNA': 943,\n",
       "         'scaRNA': 49,\n",
       "         'rRNA_pseudogene': 500,\n",
       "         'unitary_pseudogene': 97,\n",
       "         'polymorphic_pseudogene': 42,\n",
       "         'pseudogene': 18,\n",
       "         'rRNA': 52,\n",
       "         'IG_V_pseudogene': 188,\n",
       "         'ribozyme': 8,\n",
       "         'sRNA': 5,\n",
       "         'TR_V_gene': 106,\n",
       "         'TR_V_pseudogene': 33,\n",
       "         'TR_D_gene': 4,\n",
       "         'TR_J_gene': 79,\n",
       "         'TR_C_gene': 6,\n",
       "         'TR_J_pseudogene': 4,\n",
       "         'IG_C_gene': 14,\n",
       "         'IG_C_pseudogene': 9,\n",
       "         'IG_J_gene': 18,\n",
       "         'IG_J_pseudogene': 3,\n",
       "         'IG_D_gene': 37,\n",
       "         'IG_V_gene': 144,\n",
       "         'IG_pseudogene': 1,\n",
       "         'translated_processed_pseudogene': 2,\n",
       "         'scRNA': 1,\n",
       "         'vaultRNA': 1,\n",
       "         'translated_unprocessed_pseudogene': 1,\n",
       "         'Mt_tRNA': 22,\n",
       "         'Mt_rRNA': 2})"
      ]
     },
     "execution_count": 2,
     "metadata": {},
     "output_type": "execute_result"
    }
   ],
   "source": [
    "biotype = []\n",
    "\n",
    "in_handle = open(path,'r')\n",
    "\n",
    "for rec in GFF.parse(in_handle):\n",
    "    for feature in rec.features:\n",
    "        if feature.type == \"gene\":\n",
    "            biotype.append(feature.qualifiers['gene_biotype'][0])\n",
    "            \n",
    "in_handle.close()\n",
    "len(biotype)\n",
    "biotype[0:15]\n",
    "\n",
    "Counter(biotype)"
   ]
  },
  {
   "cell_type": "code",
   "execution_count": 3,
   "metadata": {},
   "outputs": [],
   "source": [
    "def get_gene_info(gencode_filename):\n",
    "    gene_dict = {}\n",
    "    with open(gencode_filename, \"r\") as gencode_file, open(\"gene_dict.csv\", \"w+\") as gene_dict_file:\n",
    "        effective_genes_num = 0\n",
    "\n",
    "        for line in gencode_file:  # read line by line\n",
    "\n",
    "            if line[0:3] != \"chr\":  # skip useless lines\n",
    "                continue\n",
    "\n",
    "            # separate line into 9 parts\n",
    "            # …… \\t …… \\t line_info_type \\t …… \\t …… \\t …… \\t …… \\t …… \\t gene_info \\t\n",
    "            line_info = line.split(\"\\t\")\n",
    "            if line_info[2] != \"gene\":  # skip unimportant lines\n",
    "                continue\n",
    "\n",
    "            # eg.gene_id \"ENSG00000223972.5\"; gene_type \"transcribed_unprocessed_pseudogene\"; gene_name \"DDX11L1\"; ……\n",
    "            gene_info = line_info[8].split(\" \")\n",
    "            gene_id = gene_info[1].split(\".\")[0][1:]\n",
    "            gene_name = gene_info[5][1:-2]\n",
    "\n",
    "            gene_dict[gene_id] = gene_name\n",
    "            gene_dict_info = gene_id + \",\" + gene_name + \"\\n\"\n",
    "            gene_dict_file.write(gene_dict_info)\n",
    "\n",
    "            effective_genes_num += 1\n",
    "\n",
    "        print(\"Effective genes number found in \" + gencode_filename + \" is \" + str(effective_genes_num))\n",
    "        return gene_dict\n",
    "\n",
    "\n",
    "def transformENSGid(gencode_filename, tcga_filename):\n",
    "    gene_dict = get_gene_info(gencode_filename)\n",
    "\n",
    "    transformedENSGid_num = 0\n",
    "\n",
    "    with open(tcga_filename, \"r\") as tcga_data, open(\"TCGAfpkm_transformed.xls\", \"w+\") as new_tcga_data_file:\n",
    "        for line in tcga_data:\n",
    "\n",
    "            if line[0:4] != \"ENSG\":  # skip useless lines\n",
    "                new_tcga_data_file.write(line)\n",
    "                continue\n",
    "\n",
    "            # separate line into several parts\n",
    "            line_info = line.split(\"\\t\")\n",
    "\n",
    "            # get gene_id\n",
    "            gene_id = line_info[0].split(\".\")[0]\n",
    "\n",
    "            # transform\n",
    "            try:\n",
    "                line_info[0] = gene_dict[gene_id]\n",
    "            except:\n",
    "                continue  # skip useless lines\n",
    "\n",
    "            # generate new line\n",
    "            new_line = \"\\t\"\n",
    "            new_line = new_line.join(line_info)\n",
    "            new_tcga_data_file.write(new_line)\n",
    "\n",
    "            transformedENSGid_num += 1\n",
    "\n",
    "        print(\"Transformed ENSGID in \" + tcga_filename + \" is \" + str(transformedENSGid_num) + \".\")\n"
   ]
  },
  {
   "cell_type": "code",
   "execution_count": 4,
   "metadata": {},
   "outputs": [
    {
     "name": "stdout",
     "output_type": "stream",
     "text": [
      "Effective genes number found in F:\\01 科研项目数据-2022\\06-基础AI\\human.gtf is 0\n"
     ]
    }
   ],
   "source": [
    "gene_dict = get_gene_info(r\"F:\\01 科研项目数据-2022\\06-基础AI\\human.gtf\")"
   ]
  },
  {
   "cell_type": "code",
   "execution_count": 5,
   "metadata": {},
   "outputs": [],
   "source": [
    "gencode_filename = r\"F:\\01 科研项目数据-2022\\06-基础AI\\human.gtf\""
   ]
  },
  {
   "cell_type": "code",
   "execution_count": 6,
   "metadata": {},
   "outputs": [],
   "source": [
    "gene_dict = {}\n",
    "with open(gencode_filename, \"r\") as gencode_file:\n",
    "    effective_genes_num = 0\n",
    "    for line in gencode_file: \n",
    "        if line[0:2] == \"#!\":\n",
    "            continue\n",
    "#         print(line)\n",
    "        line_info = line.split(\"\\t\")\n",
    "        \n",
    "        if line_info[2] != \"gene\":  # skip unimportant lines\n",
    "            continue\n",
    "        gene_info = line_info[8].split(\" \")\n",
    "        gene_id = gene_info[1]\n",
    "        gene_name = gene_info[5]\n",
    "\n",
    "        gene_id=gene_id.replace('\"','')\n",
    "        new_gene_id=gene_id.replace(';','')\n",
    "        gene_name=gene_name.replace('\"','')\n",
    "        new_gene_name=gene_name.replace(';','')\n",
    "        gene_dict[new_gene_id] = new_gene_name\n",
    "        effective_genes_num += 1"
   ]
  },
  {
   "cell_type": "code",
   "execution_count": 7,
   "metadata": {},
   "outputs": [
    {
     "data": {
      "text/plain": [
       "60624"
      ]
     },
     "execution_count": 7,
     "metadata": {},
     "output_type": "execute_result"
    }
   ],
   "source": [
    "len(gene_dict)"
   ]
  },
  {
   "cell_type": "code",
   "execution_count": 10,
   "metadata": {},
   "outputs": [],
   "source": [
    "ids = []\n",
    "namses = []\n",
    "\n",
    "for key, val in gene_dict.items():\n",
    "    ids.append(key)\n",
    "    namses.append(val)"
   ]
  },
  {
   "cell_type": "code",
   "execution_count": 11,
   "metadata": {},
   "outputs": [],
   "source": [
    "import pandas as pd"
   ]
  },
  {
   "cell_type": "code",
   "execution_count": 12,
   "metadata": {},
   "outputs": [],
   "source": [
    "gene_names = pd.DataFrame(data = {\"gene_id\" : ids, \"genn_name\": namses})\n",
    "gene_names.to_csv(r\"F:\\01 科研项目数据-2022\\06-基础AI\\gene_names.csv\")"
   ]
  },
  {
   "cell_type": "code",
   "execution_count": null,
   "metadata": {},
   "outputs": [],
   "source": []
  }
 ],
 "metadata": {
  "kernelspec": {
   "display_name": "Python 3 (ipykernel)",
   "language": "python",
   "name": "python3"
  },
  "language_info": {
   "codemirror_mode": {
    "name": "ipython",
    "version": 3
   },
   "file_extension": ".py",
   "mimetype": "text/x-python",
   "name": "python",
   "nbconvert_exporter": "python",
   "pygments_lexer": "ipython3",
   "version": "3.9.12"
  }
 },
 "nbformat": 4,
 "nbformat_minor": 4
}
