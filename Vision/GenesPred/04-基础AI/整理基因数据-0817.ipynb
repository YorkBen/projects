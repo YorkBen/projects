{
 "cells": [
  {
   "cell_type": "code",
   "execution_count": 1,
   "metadata": {},
   "outputs": [],
   "source": [
    "import os\n",
    "import pandas as pd\n",
    "# log2(count+1)\n",
    "import numpy as np"
   ]
  },
  {
   "cell_type": "code",
   "execution_count": 2,
   "metadata": {},
   "outputs": [],
   "source": [
    "tsv_file = r\"F:\\01 科研项目数据-2022\\06-基础AI\\TCGA-COAD-counts\\TCGA-COAD.htseq_counts.tsv\""
   ]
  },
  {
   "cell_type": "code",
   "execution_count": 3,
   "metadata": {},
   "outputs": [],
   "source": [
    "df = pd.read_csv(tsv_file, sep='\\t')"
   ]
  },
  {
   "cell_type": "code",
   "execution_count": 4,
   "metadata": {},
   "outputs": [
    {
     "data": {
      "text/html": [
       "<div>\n",
       "<style scoped>\n",
       "    .dataframe tbody tr th:only-of-type {\n",
       "        vertical-align: middle;\n",
       "    }\n",
       "\n",
       "    .dataframe tbody tr th {\n",
       "        vertical-align: top;\n",
       "    }\n",
       "\n",
       "    .dataframe thead th {\n",
       "        text-align: right;\n",
       "    }\n",
       "</style>\n",
       "<table border=\"1\" class=\"dataframe\">\n",
       "  <thead>\n",
       "    <tr style=\"text-align: right;\">\n",
       "      <th></th>\n",
       "      <th>Ensembl_ID</th>\n",
       "      <th>TCGA-DM-A288-01A</th>\n",
       "      <th>TCGA-QL-A97D-01A</th>\n",
       "      <th>TCGA-CM-6164-01A</th>\n",
       "      <th>TCGA-G4-6299-01A</th>\n",
       "      <th>TCGA-AA-3542-01A</th>\n",
       "      <th>TCGA-AZ-4615-01A</th>\n",
       "      <th>TCGA-AA-3549-01A</th>\n",
       "      <th>TCGA-AY-4071-01A</th>\n",
       "      <th>TCGA-CM-4752-01A</th>\n",
       "      <th>...</th>\n",
       "      <th>TCGA-A6-5661-01B</th>\n",
       "      <th>TCGA-G4-6295-01A</th>\n",
       "      <th>TCGA-AA-A01C-01A</th>\n",
       "      <th>TCGA-G4-6588-01A</th>\n",
       "      <th>TCGA-A6-2680-01A</th>\n",
       "      <th>TCGA-AA-3977-01A</th>\n",
       "      <th>TCGA-AA-3561-01A</th>\n",
       "      <th>TCGA-AA-3973-01A</th>\n",
       "      <th>TCGA-A6-6653-01A</th>\n",
       "      <th>TCGA-AA-3555-01A</th>\n",
       "    </tr>\n",
       "  </thead>\n",
       "  <tbody>\n",
       "    <tr>\n",
       "      <th>0</th>\n",
       "      <td>ENSG00000000003.13</td>\n",
       "      <td>10.985842</td>\n",
       "      <td>12.391512</td>\n",
       "      <td>13.857787</td>\n",
       "      <td>9.807355</td>\n",
       "      <td>11.945810</td>\n",
       "      <td>11.198445</td>\n",
       "      <td>12.779514</td>\n",
       "      <td>13.194449</td>\n",
       "      <td>13.308197</td>\n",
       "      <td>...</td>\n",
       "      <td>9.025140</td>\n",
       "      <td>11.719817</td>\n",
       "      <td>10.959278</td>\n",
       "      <td>10.745674</td>\n",
       "      <td>11.896711</td>\n",
       "      <td>10.777255</td>\n",
       "      <td>12.537218</td>\n",
       "      <td>13.066426</td>\n",
       "      <td>11.440350</td>\n",
       "      <td>10.808964</td>\n",
       "    </tr>\n",
       "    <tr>\n",
       "      <th>1</th>\n",
       "      <td>ENSG00000000005.5</td>\n",
       "      <td>3.700440</td>\n",
       "      <td>7.531381</td>\n",
       "      <td>6.714246</td>\n",
       "      <td>1.000000</td>\n",
       "      <td>4.700440</td>\n",
       "      <td>1.000000</td>\n",
       "      <td>5.392317</td>\n",
       "      <td>6.339850</td>\n",
       "      <td>4.321928</td>\n",
       "      <td>...</td>\n",
       "      <td>1.000000</td>\n",
       "      <td>0.000000</td>\n",
       "      <td>3.169925</td>\n",
       "      <td>0.000000</td>\n",
       "      <td>4.643856</td>\n",
       "      <td>4.247928</td>\n",
       "      <td>4.643856</td>\n",
       "      <td>4.087463</td>\n",
       "      <td>2.584963</td>\n",
       "      <td>0.000000</td>\n",
       "    </tr>\n",
       "    <tr>\n",
       "      <th>2</th>\n",
       "      <td>ENSG00000000419.11</td>\n",
       "      <td>11.163650</td>\n",
       "      <td>11.798472</td>\n",
       "      <td>12.496354</td>\n",
       "      <td>11.004220</td>\n",
       "      <td>10.139551</td>\n",
       "      <td>9.908393</td>\n",
       "      <td>10.202124</td>\n",
       "      <td>10.658211</td>\n",
       "      <td>10.812177</td>\n",
       "      <td>...</td>\n",
       "      <td>7.965784</td>\n",
       "      <td>12.240791</td>\n",
       "      <td>9.226412</td>\n",
       "      <td>10.348728</td>\n",
       "      <td>9.753217</td>\n",
       "      <td>9.436712</td>\n",
       "      <td>10.927778</td>\n",
       "      <td>10.238405</td>\n",
       "      <td>9.598053</td>\n",
       "      <td>10.090112</td>\n",
       "    </tr>\n",
       "    <tr>\n",
       "      <th>3</th>\n",
       "      <td>ENSG00000000457.12</td>\n",
       "      <td>9.262095</td>\n",
       "      <td>9.581201</td>\n",
       "      <td>9.419960</td>\n",
       "      <td>9.903882</td>\n",
       "      <td>6.303781</td>\n",
       "      <td>8.247928</td>\n",
       "      <td>8.022368</td>\n",
       "      <td>8.129283</td>\n",
       "      <td>8.055282</td>\n",
       "      <td>...</td>\n",
       "      <td>8.668885</td>\n",
       "      <td>9.044394</td>\n",
       "      <td>6.357552</td>\n",
       "      <td>8.894818</td>\n",
       "      <td>8.044394</td>\n",
       "      <td>7.727920</td>\n",
       "      <td>9.342075</td>\n",
       "      <td>9.033423</td>\n",
       "      <td>8.285402</td>\n",
       "      <td>8.787903</td>\n",
       "    </tr>\n",
       "    <tr>\n",
       "      <th>4</th>\n",
       "      <td>ENSG00000000460.15</td>\n",
       "      <td>8.303781</td>\n",
       "      <td>9.350939</td>\n",
       "      <td>9.310613</td>\n",
       "      <td>9.501837</td>\n",
       "      <td>6.569856</td>\n",
       "      <td>7.442943</td>\n",
       "      <td>7.936638</td>\n",
       "      <td>7.584963</td>\n",
       "      <td>7.629357</td>\n",
       "      <td>...</td>\n",
       "      <td>7.614710</td>\n",
       "      <td>8.643856</td>\n",
       "      <td>6.247928</td>\n",
       "      <td>9.079485</td>\n",
       "      <td>8.299208</td>\n",
       "      <td>7.247928</td>\n",
       "      <td>9.428360</td>\n",
       "      <td>7.942515</td>\n",
       "      <td>8.426265</td>\n",
       "      <td>8.317413</td>\n",
       "    </tr>\n",
       "  </tbody>\n",
       "</table>\n",
       "<p>5 rows × 513 columns</p>\n",
       "</div>"
      ],
      "text/plain": [
       "           Ensembl_ID  TCGA-DM-A288-01A  TCGA-QL-A97D-01A  TCGA-CM-6164-01A  \\\n",
       "0  ENSG00000000003.13         10.985842         12.391512         13.857787   \n",
       "1   ENSG00000000005.5          3.700440          7.531381          6.714246   \n",
       "2  ENSG00000000419.11         11.163650         11.798472         12.496354   \n",
       "3  ENSG00000000457.12          9.262095          9.581201          9.419960   \n",
       "4  ENSG00000000460.15          8.303781          9.350939          9.310613   \n",
       "\n",
       "   TCGA-G4-6299-01A  TCGA-AA-3542-01A  TCGA-AZ-4615-01A  TCGA-AA-3549-01A  \\\n",
       "0          9.807355         11.945810         11.198445         12.779514   \n",
       "1          1.000000          4.700440          1.000000          5.392317   \n",
       "2         11.004220         10.139551          9.908393         10.202124   \n",
       "3          9.903882          6.303781          8.247928          8.022368   \n",
       "4          9.501837          6.569856          7.442943          7.936638   \n",
       "\n",
       "   TCGA-AY-4071-01A  TCGA-CM-4752-01A  ...  TCGA-A6-5661-01B  \\\n",
       "0         13.194449         13.308197  ...          9.025140   \n",
       "1          6.339850          4.321928  ...          1.000000   \n",
       "2         10.658211         10.812177  ...          7.965784   \n",
       "3          8.129283          8.055282  ...          8.668885   \n",
       "4          7.584963          7.629357  ...          7.614710   \n",
       "\n",
       "   TCGA-G4-6295-01A  TCGA-AA-A01C-01A  TCGA-G4-6588-01A  TCGA-A6-2680-01A  \\\n",
       "0         11.719817         10.959278         10.745674         11.896711   \n",
       "1          0.000000          3.169925          0.000000          4.643856   \n",
       "2         12.240791          9.226412         10.348728          9.753217   \n",
       "3          9.044394          6.357552          8.894818          8.044394   \n",
       "4          8.643856          6.247928          9.079485          8.299208   \n",
       "\n",
       "   TCGA-AA-3977-01A  TCGA-AA-3561-01A  TCGA-AA-3973-01A  TCGA-A6-6653-01A  \\\n",
       "0         10.777255         12.537218         13.066426         11.440350   \n",
       "1          4.247928          4.643856          4.087463          2.584963   \n",
       "2          9.436712         10.927778         10.238405          9.598053   \n",
       "3          7.727920          9.342075          9.033423          8.285402   \n",
       "4          7.247928          9.428360          7.942515          8.426265   \n",
       "\n",
       "   TCGA-AA-3555-01A  \n",
       "0         10.808964  \n",
       "1          0.000000  \n",
       "2         10.090112  \n",
       "3          8.787903  \n",
       "4          8.317413  \n",
       "\n",
       "[5 rows x 513 columns]"
      ]
     },
     "execution_count": 4,
     "metadata": {},
     "output_type": "execute_result"
    }
   ],
   "source": [
    "df.head()"
   ]
  },
  {
   "cell_type": "code",
   "execution_count": 5,
   "metadata": {},
   "outputs": [],
   "source": [
    "col_names = []\n",
    "for index, row in df.iteritems():\n",
    "    col_names.append(index)"
   ]
  },
  {
   "cell_type": "code",
   "execution_count": 6,
   "metadata": {},
   "outputs": [],
   "source": [
    "for col_name in col_names[1:]:\n",
    "#     print(df[col_name])\n",
    "    df[col_name] = df[col_name].map(lambda x: 2**x - 1)"
   ]
  },
  {
   "cell_type": "code",
   "execution_count": 7,
   "metadata": {},
   "outputs": [
    {
     "data": {
      "text/html": [
       "<div>\n",
       "<style scoped>\n",
       "    .dataframe tbody tr th:only-of-type {\n",
       "        vertical-align: middle;\n",
       "    }\n",
       "\n",
       "    .dataframe tbody tr th {\n",
       "        vertical-align: top;\n",
       "    }\n",
       "\n",
       "    .dataframe thead th {\n",
       "        text-align: right;\n",
       "    }\n",
       "</style>\n",
       "<table border=\"1\" class=\"dataframe\">\n",
       "  <thead>\n",
       "    <tr style=\"text-align: right;\">\n",
       "      <th></th>\n",
       "      <th>Ensembl_ID</th>\n",
       "      <th>TCGA-DM-A288-01A</th>\n",
       "      <th>TCGA-QL-A97D-01A</th>\n",
       "      <th>TCGA-CM-6164-01A</th>\n",
       "      <th>TCGA-G4-6299-01A</th>\n",
       "      <th>TCGA-AA-3542-01A</th>\n",
       "      <th>TCGA-AZ-4615-01A</th>\n",
       "      <th>TCGA-AA-3549-01A</th>\n",
       "      <th>TCGA-AY-4071-01A</th>\n",
       "      <th>TCGA-CM-4752-01A</th>\n",
       "      <th>...</th>\n",
       "      <th>TCGA-A6-5661-01B</th>\n",
       "      <th>TCGA-G4-6295-01A</th>\n",
       "      <th>TCGA-AA-A01C-01A</th>\n",
       "      <th>TCGA-G4-6588-01A</th>\n",
       "      <th>TCGA-A6-2680-01A</th>\n",
       "      <th>TCGA-AA-3977-01A</th>\n",
       "      <th>TCGA-AA-3561-01A</th>\n",
       "      <th>TCGA-AA-3973-01A</th>\n",
       "      <th>TCGA-A6-6653-01A</th>\n",
       "      <th>TCGA-AA-3555-01A</th>\n",
       "    </tr>\n",
       "  </thead>\n",
       "  <tbody>\n",
       "    <tr>\n",
       "      <th>0</th>\n",
       "      <td>ENSG00000000003.13</td>\n",
       "      <td>2027.0</td>\n",
       "      <td>5372.0</td>\n",
       "      <td>14845.0</td>\n",
       "      <td>895.0</td>\n",
       "      <td>3944.0</td>\n",
       "      <td>2349.0</td>\n",
       "      <td>7030.0</td>\n",
       "      <td>9373.0</td>\n",
       "      <td>10142.0</td>\n",
       "      <td>...</td>\n",
       "      <td>520.0</td>\n",
       "      <td>3372.0</td>\n",
       "      <td>1990.0</td>\n",
       "      <td>1716.0</td>\n",
       "      <td>3812.0</td>\n",
       "      <td>1754.0</td>\n",
       "      <td>5943.0</td>\n",
       "      <td>8577.0</td>\n",
       "      <td>2778.0</td>\n",
       "      <td>1793.0</td>\n",
       "    </tr>\n",
       "    <tr>\n",
       "      <th>1</th>\n",
       "      <td>ENSG00000000005.5</td>\n",
       "      <td>12.0</td>\n",
       "      <td>184.0</td>\n",
       "      <td>104.0</td>\n",
       "      <td>1.0</td>\n",
       "      <td>25.0</td>\n",
       "      <td>1.0</td>\n",
       "      <td>41.0</td>\n",
       "      <td>80.0</td>\n",
       "      <td>19.0</td>\n",
       "      <td>...</td>\n",
       "      <td>1.0</td>\n",
       "      <td>0.0</td>\n",
       "      <td>8.0</td>\n",
       "      <td>0.0</td>\n",
       "      <td>24.0</td>\n",
       "      <td>18.0</td>\n",
       "      <td>24.0</td>\n",
       "      <td>16.0</td>\n",
       "      <td>5.0</td>\n",
       "      <td>0.0</td>\n",
       "    </tr>\n",
       "    <tr>\n",
       "      <th>2</th>\n",
       "      <td>ENSG00000000419.11</td>\n",
       "      <td>2293.0</td>\n",
       "      <td>3561.0</td>\n",
       "      <td>5777.0</td>\n",
       "      <td>2053.0</td>\n",
       "      <td>1127.0</td>\n",
       "      <td>960.0</td>\n",
       "      <td>1177.0</td>\n",
       "      <td>1615.0</td>\n",
       "      <td>1797.0</td>\n",
       "      <td>...</td>\n",
       "      <td>249.0</td>\n",
       "      <td>4839.0</td>\n",
       "      <td>598.0</td>\n",
       "      <td>1303.0</td>\n",
       "      <td>862.0</td>\n",
       "      <td>692.0</td>\n",
       "      <td>1947.0</td>\n",
       "      <td>1207.0</td>\n",
       "      <td>774.0</td>\n",
       "      <td>1089.0</td>\n",
       "    </tr>\n",
       "    <tr>\n",
       "      <th>3</th>\n",
       "      <td>ENSG00000000457.12</td>\n",
       "      <td>613.0</td>\n",
       "      <td>765.0</td>\n",
       "      <td>684.0</td>\n",
       "      <td>957.0</td>\n",
       "      <td>78.0</td>\n",
       "      <td>303.0</td>\n",
       "      <td>259.0</td>\n",
       "      <td>279.0</td>\n",
       "      <td>265.0</td>\n",
       "      <td>...</td>\n",
       "      <td>406.0</td>\n",
       "      <td>527.0</td>\n",
       "      <td>81.0</td>\n",
       "      <td>475.0</td>\n",
       "      <td>263.0</td>\n",
       "      <td>211.0</td>\n",
       "      <td>648.0</td>\n",
       "      <td>523.0</td>\n",
       "      <td>311.0</td>\n",
       "      <td>441.0</td>\n",
       "    </tr>\n",
       "    <tr>\n",
       "      <th>4</th>\n",
       "      <td>ENSG00000000460.15</td>\n",
       "      <td>315.0</td>\n",
       "      <td>652.0</td>\n",
       "      <td>634.0</td>\n",
       "      <td>724.0</td>\n",
       "      <td>94.0</td>\n",
       "      <td>173.0</td>\n",
       "      <td>244.0</td>\n",
       "      <td>191.0</td>\n",
       "      <td>197.0</td>\n",
       "      <td>...</td>\n",
       "      <td>195.0</td>\n",
       "      <td>399.0</td>\n",
       "      <td>75.0</td>\n",
       "      <td>540.0</td>\n",
       "      <td>314.0</td>\n",
       "      <td>151.0</td>\n",
       "      <td>688.0</td>\n",
       "      <td>245.0</td>\n",
       "      <td>343.0</td>\n",
       "      <td>318.0</td>\n",
       "    </tr>\n",
       "  </tbody>\n",
       "</table>\n",
       "<p>5 rows × 513 columns</p>\n",
       "</div>"
      ],
      "text/plain": [
       "           Ensembl_ID  TCGA-DM-A288-01A  TCGA-QL-A97D-01A  TCGA-CM-6164-01A  \\\n",
       "0  ENSG00000000003.13            2027.0            5372.0           14845.0   \n",
       "1   ENSG00000000005.5              12.0             184.0             104.0   \n",
       "2  ENSG00000000419.11            2293.0            3561.0            5777.0   \n",
       "3  ENSG00000000457.12             613.0             765.0             684.0   \n",
       "4  ENSG00000000460.15             315.0             652.0             634.0   \n",
       "\n",
       "   TCGA-G4-6299-01A  TCGA-AA-3542-01A  TCGA-AZ-4615-01A  TCGA-AA-3549-01A  \\\n",
       "0             895.0            3944.0            2349.0            7030.0   \n",
       "1               1.0              25.0               1.0              41.0   \n",
       "2            2053.0            1127.0             960.0            1177.0   \n",
       "3             957.0              78.0             303.0             259.0   \n",
       "4             724.0              94.0             173.0             244.0   \n",
       "\n",
       "   TCGA-AY-4071-01A  TCGA-CM-4752-01A  ...  TCGA-A6-5661-01B  \\\n",
       "0            9373.0           10142.0  ...             520.0   \n",
       "1              80.0              19.0  ...               1.0   \n",
       "2            1615.0            1797.0  ...             249.0   \n",
       "3             279.0             265.0  ...             406.0   \n",
       "4             191.0             197.0  ...             195.0   \n",
       "\n",
       "   TCGA-G4-6295-01A  TCGA-AA-A01C-01A  TCGA-G4-6588-01A  TCGA-A6-2680-01A  \\\n",
       "0            3372.0            1990.0            1716.0            3812.0   \n",
       "1               0.0               8.0               0.0              24.0   \n",
       "2            4839.0             598.0            1303.0             862.0   \n",
       "3             527.0              81.0             475.0             263.0   \n",
       "4             399.0              75.0             540.0             314.0   \n",
       "\n",
       "   TCGA-AA-3977-01A  TCGA-AA-3561-01A  TCGA-AA-3973-01A  TCGA-A6-6653-01A  \\\n",
       "0            1754.0            5943.0            8577.0            2778.0   \n",
       "1              18.0              24.0              16.0               5.0   \n",
       "2             692.0            1947.0            1207.0             774.0   \n",
       "3             211.0             648.0             523.0             311.0   \n",
       "4             151.0             688.0             245.0             343.0   \n",
       "\n",
       "   TCGA-AA-3555-01A  \n",
       "0            1793.0  \n",
       "1               0.0  \n",
       "2            1089.0  \n",
       "3             441.0  \n",
       "4             318.0  \n",
       "\n",
       "[5 rows x 513 columns]"
      ]
     },
     "execution_count": 7,
     "metadata": {},
     "output_type": "execute_result"
    }
   ],
   "source": [
    "df.head()"
   ]
  },
  {
   "cell_type": "code",
   "execution_count": 8,
   "metadata": {},
   "outputs": [],
   "source": [
    "new_col_names = []\n",
    "for col_name in col_names:\n",
    "    if \"TCGA\" in col_name:\n",
    "        new_col_names.append(col_name[:12])\n",
    "    else:\n",
    "        new_col_names.append(col_name)\n",
    "# 457"
   ]
  },
  {
   "cell_type": "code",
   "execution_count": 9,
   "metadata": {},
   "outputs": [],
   "source": [
    "# from pandas.core.frame import DataFrame\n",
    "\n",
    "# c={\"a\" : new_col_names}#将列表a，b转换成字典\n",
    "# data=DataFrame(c)#将字典转换成为数据框\n",
    "# # print(data)\n",
    "# data.to_csv(r\"F:\\01 科研项目数据-2022\\06-基础AI\\TCGA-COAD-counts\\4_all.csv\", index=False)"
   ]
  },
  {
   "cell_type": "code",
   "execution_count": 10,
   "metadata": {},
   "outputs": [
    {
     "data": {
      "text/plain": [
       "513"
      ]
     },
     "execution_count": 10,
     "metadata": {},
     "output_type": "execute_result"
    }
   ],
   "source": [
    "len(new_col_names)"
   ]
  },
  {
   "cell_type": "code",
   "execution_count": 11,
   "metadata": {},
   "outputs": [],
   "source": [
    "col_dict = {}\n",
    "for idx, col in enumerate(col_names):\n",
    "    col_dict[col] = new_col_names[idx]"
   ]
  },
  {
   "cell_type": "code",
   "execution_count": 12,
   "metadata": {},
   "outputs": [],
   "source": [
    "df.rename(columns=col_dict, inplace = True)"
   ]
  },
  {
   "cell_type": "code",
   "execution_count": 13,
   "metadata": {},
   "outputs": [
    {
     "data": {
      "text/plain": [
       "513"
      ]
     },
     "execution_count": 13,
     "metadata": {},
     "output_type": "execute_result"
    }
   ],
   "source": [
    "col_names = []\n",
    "for index, row in df.iteritems():\n",
    "    col_names.append(index)\n",
    "len(col_names)"
   ]
  },
  {
   "cell_type": "code",
   "execution_count": 14,
   "metadata": {},
   "outputs": [
    {
     "data": {
      "text/plain": [
       "(457, 56)"
      ]
     },
     "execution_count": 14,
     "metadata": {},
     "output_type": "execute_result"
    }
   ],
   "source": [
    "col_names_list = []\n",
    "del_col_names = []\n",
    "for idx, col_name in enumerate(col_names):\n",
    "    if col_name not in col_names_list:\n",
    "        col_names_list.append(col_name)\n",
    "    else:\n",
    "        del_col_names.append(col_name)\n",
    "len(col_names_list), len(del_col_names)"
   ]
  },
  {
   "cell_type": "code",
   "execution_count": 15,
   "metadata": {},
   "outputs": [],
   "source": [
    "# 去重\n",
    "df = df.loc[:,~df.columns.duplicated()]"
   ]
  },
  {
   "cell_type": "code",
   "execution_count": 16,
   "metadata": {},
   "outputs": [
    {
     "data": {
      "text/plain": [
       "457"
      ]
     },
     "execution_count": 16,
     "metadata": {},
     "output_type": "execute_result"
    }
   ],
   "source": [
    "df.shape[1]"
   ]
  },
  {
   "cell_type": "code",
   "execution_count": 17,
   "metadata": {},
   "outputs": [],
   "source": [
    "# del_idxs"
   ]
  },
  {
   "cell_type": "code",
   "execution_count": 18,
   "metadata": {},
   "outputs": [
    {
     "data": {
      "text/html": [
       "<div>\n",
       "<style scoped>\n",
       "    .dataframe tbody tr th:only-of-type {\n",
       "        vertical-align: middle;\n",
       "    }\n",
       "\n",
       "    .dataframe tbody tr th {\n",
       "        vertical-align: top;\n",
       "    }\n",
       "\n",
       "    .dataframe thead th {\n",
       "        text-align: right;\n",
       "    }\n",
       "</style>\n",
       "<table border=\"1\" class=\"dataframe\">\n",
       "  <thead>\n",
       "    <tr style=\"text-align: right;\">\n",
       "      <th></th>\n",
       "      <th>Ensembl_ID</th>\n",
       "      <th>TCGA-DM-A288</th>\n",
       "      <th>TCGA-QL-A97D</th>\n",
       "      <th>TCGA-CM-6164</th>\n",
       "      <th>TCGA-G4-6299</th>\n",
       "      <th>TCGA-AA-3542</th>\n",
       "      <th>TCGA-AZ-4615</th>\n",
       "      <th>TCGA-AA-3549</th>\n",
       "      <th>TCGA-AY-4071</th>\n",
       "      <th>TCGA-CM-4752</th>\n",
       "      <th>...</th>\n",
       "      <th>TCGA-AA-3502</th>\n",
       "      <th>TCGA-AA-A02E</th>\n",
       "      <th>TCGA-G4-6295</th>\n",
       "      <th>TCGA-AA-A01C</th>\n",
       "      <th>TCGA-G4-6588</th>\n",
       "      <th>TCGA-AA-3977</th>\n",
       "      <th>TCGA-AA-3561</th>\n",
       "      <th>TCGA-AA-3973</th>\n",
       "      <th>TCGA-A6-6653</th>\n",
       "      <th>TCGA-AA-3555</th>\n",
       "    </tr>\n",
       "  </thead>\n",
       "  <tbody>\n",
       "    <tr>\n",
       "      <th>0</th>\n",
       "      <td>ENSG00000000003.13</td>\n",
       "      <td>2027.0</td>\n",
       "      <td>5372.0</td>\n",
       "      <td>14845.0</td>\n",
       "      <td>895.0</td>\n",
       "      <td>3944.0</td>\n",
       "      <td>2349.0</td>\n",
       "      <td>7030.0</td>\n",
       "      <td>9373.0</td>\n",
       "      <td>10142.0</td>\n",
       "      <td>...</td>\n",
       "      <td>3545.0</td>\n",
       "      <td>2337.0</td>\n",
       "      <td>3372.0</td>\n",
       "      <td>1990.0</td>\n",
       "      <td>1716.0</td>\n",
       "      <td>1754.0</td>\n",
       "      <td>5943.0</td>\n",
       "      <td>8577.0</td>\n",
       "      <td>2778.0</td>\n",
       "      <td>1793.0</td>\n",
       "    </tr>\n",
       "    <tr>\n",
       "      <th>1</th>\n",
       "      <td>ENSG00000000005.5</td>\n",
       "      <td>12.0</td>\n",
       "      <td>184.0</td>\n",
       "      <td>104.0</td>\n",
       "      <td>1.0</td>\n",
       "      <td>25.0</td>\n",
       "      <td>1.0</td>\n",
       "      <td>41.0</td>\n",
       "      <td>80.0</td>\n",
       "      <td>19.0</td>\n",
       "      <td>...</td>\n",
       "      <td>10.0</td>\n",
       "      <td>16.0</td>\n",
       "      <td>0.0</td>\n",
       "      <td>8.0</td>\n",
       "      <td>0.0</td>\n",
       "      <td>18.0</td>\n",
       "      <td>24.0</td>\n",
       "      <td>16.0</td>\n",
       "      <td>5.0</td>\n",
       "      <td>0.0</td>\n",
       "    </tr>\n",
       "    <tr>\n",
       "      <th>2</th>\n",
       "      <td>ENSG00000000419.11</td>\n",
       "      <td>2293.0</td>\n",
       "      <td>3561.0</td>\n",
       "      <td>5777.0</td>\n",
       "      <td>2053.0</td>\n",
       "      <td>1127.0</td>\n",
       "      <td>960.0</td>\n",
       "      <td>1177.0</td>\n",
       "      <td>1615.0</td>\n",
       "      <td>1797.0</td>\n",
       "      <td>...</td>\n",
       "      <td>477.0</td>\n",
       "      <td>911.0</td>\n",
       "      <td>4839.0</td>\n",
       "      <td>598.0</td>\n",
       "      <td>1303.0</td>\n",
       "      <td>692.0</td>\n",
       "      <td>1947.0</td>\n",
       "      <td>1207.0</td>\n",
       "      <td>774.0</td>\n",
       "      <td>1089.0</td>\n",
       "    </tr>\n",
       "    <tr>\n",
       "      <th>3</th>\n",
       "      <td>ENSG00000000457.12</td>\n",
       "      <td>613.0</td>\n",
       "      <td>765.0</td>\n",
       "      <td>684.0</td>\n",
       "      <td>957.0</td>\n",
       "      <td>78.0</td>\n",
       "      <td>303.0</td>\n",
       "      <td>259.0</td>\n",
       "      <td>279.0</td>\n",
       "      <td>265.0</td>\n",
       "      <td>...</td>\n",
       "      <td>331.0</td>\n",
       "      <td>393.0</td>\n",
       "      <td>527.0</td>\n",
       "      <td>81.0</td>\n",
       "      <td>475.0</td>\n",
       "      <td>211.0</td>\n",
       "      <td>648.0</td>\n",
       "      <td>523.0</td>\n",
       "      <td>311.0</td>\n",
       "      <td>441.0</td>\n",
       "    </tr>\n",
       "    <tr>\n",
       "      <th>4</th>\n",
       "      <td>ENSG00000000460.15</td>\n",
       "      <td>315.0</td>\n",
       "      <td>652.0</td>\n",
       "      <td>634.0</td>\n",
       "      <td>724.0</td>\n",
       "      <td>94.0</td>\n",
       "      <td>173.0</td>\n",
       "      <td>244.0</td>\n",
       "      <td>191.0</td>\n",
       "      <td>197.0</td>\n",
       "      <td>...</td>\n",
       "      <td>150.0</td>\n",
       "      <td>247.0</td>\n",
       "      <td>399.0</td>\n",
       "      <td>75.0</td>\n",
       "      <td>540.0</td>\n",
       "      <td>151.0</td>\n",
       "      <td>688.0</td>\n",
       "      <td>245.0</td>\n",
       "      <td>343.0</td>\n",
       "      <td>318.0</td>\n",
       "    </tr>\n",
       "  </tbody>\n",
       "</table>\n",
       "<p>5 rows × 457 columns</p>\n",
       "</div>"
      ],
      "text/plain": [
       "           Ensembl_ID  TCGA-DM-A288  TCGA-QL-A97D  TCGA-CM-6164  TCGA-G4-6299  \\\n",
       "0  ENSG00000000003.13        2027.0        5372.0       14845.0         895.0   \n",
       "1   ENSG00000000005.5          12.0         184.0         104.0           1.0   \n",
       "2  ENSG00000000419.11        2293.0        3561.0        5777.0        2053.0   \n",
       "3  ENSG00000000457.12         613.0         765.0         684.0         957.0   \n",
       "4  ENSG00000000460.15         315.0         652.0         634.0         724.0   \n",
       "\n",
       "   TCGA-AA-3542  TCGA-AZ-4615  TCGA-AA-3549  TCGA-AY-4071  TCGA-CM-4752  ...  \\\n",
       "0        3944.0        2349.0        7030.0        9373.0       10142.0  ...   \n",
       "1          25.0           1.0          41.0          80.0          19.0  ...   \n",
       "2        1127.0         960.0        1177.0        1615.0        1797.0  ...   \n",
       "3          78.0         303.0         259.0         279.0         265.0  ...   \n",
       "4          94.0         173.0         244.0         191.0         197.0  ...   \n",
       "\n",
       "   TCGA-AA-3502  TCGA-AA-A02E  TCGA-G4-6295  TCGA-AA-A01C  TCGA-G4-6588  \\\n",
       "0        3545.0        2337.0        3372.0        1990.0        1716.0   \n",
       "1          10.0          16.0           0.0           8.0           0.0   \n",
       "2         477.0         911.0        4839.0         598.0        1303.0   \n",
       "3         331.0         393.0         527.0          81.0         475.0   \n",
       "4         150.0         247.0         399.0          75.0         540.0   \n",
       "\n",
       "   TCGA-AA-3977  TCGA-AA-3561  TCGA-AA-3973  TCGA-A6-6653  TCGA-AA-3555  \n",
       "0        1754.0        5943.0        8577.0        2778.0        1793.0  \n",
       "1          18.0          24.0          16.0           5.0           0.0  \n",
       "2         692.0        1947.0        1207.0         774.0        1089.0  \n",
       "3         211.0         648.0         523.0         311.0         441.0  \n",
       "4         151.0         688.0         245.0         343.0         318.0  \n",
       "\n",
       "[5 rows x 457 columns]"
      ]
     },
     "execution_count": 18,
     "metadata": {},
     "output_type": "execute_result"
    }
   ],
   "source": [
    "df.head()"
   ]
  },
  {
   "cell_type": "code",
   "execution_count": 19,
   "metadata": {},
   "outputs": [
    {
     "data": {
      "text/plain": [
       "53"
      ]
     },
     "execution_count": 19,
     "metadata": {},
     "output_type": "execute_result"
    }
   ],
   "source": [
    "new_del_col_names = list(set(del_col_names))\n",
    "len(new_del_col_names)"
   ]
  },
  {
   "cell_type": "code",
   "execution_count": 20,
   "metadata": {},
   "outputs": [
    {
     "data": {
      "text/html": [
       "<div>\n",
       "<style scoped>\n",
       "    .dataframe tbody tr th:only-of-type {\n",
       "        vertical-align: middle;\n",
       "    }\n",
       "\n",
       "    .dataframe tbody tr th {\n",
       "        vertical-align: top;\n",
       "    }\n",
       "\n",
       "    .dataframe thead th {\n",
       "        text-align: right;\n",
       "    }\n",
       "</style>\n",
       "<table border=\"1\" class=\"dataframe\">\n",
       "  <thead>\n",
       "    <tr style=\"text-align: right;\">\n",
       "      <th></th>\n",
       "      <th>Ensembl_ID</th>\n",
       "      <th>TCGA-DM-A288</th>\n",
       "      <th>TCGA-QL-A97D</th>\n",
       "      <th>TCGA-CM-6164</th>\n",
       "      <th>TCGA-G4-6299</th>\n",
       "      <th>TCGA-AA-3542</th>\n",
       "      <th>TCGA-AZ-4615</th>\n",
       "      <th>TCGA-AA-3549</th>\n",
       "      <th>TCGA-AY-4071</th>\n",
       "      <th>TCGA-CM-4752</th>\n",
       "      <th>...</th>\n",
       "      <th>TCGA-AA-3502</th>\n",
       "      <th>TCGA-AA-A02E</th>\n",
       "      <th>TCGA-G4-6295</th>\n",
       "      <th>TCGA-AA-A01C</th>\n",
       "      <th>TCGA-G4-6588</th>\n",
       "      <th>TCGA-AA-3977</th>\n",
       "      <th>TCGA-AA-3561</th>\n",
       "      <th>TCGA-AA-3973</th>\n",
       "      <th>TCGA-A6-6653</th>\n",
       "      <th>TCGA-AA-3555</th>\n",
       "    </tr>\n",
       "  </thead>\n",
       "  <tbody>\n",
       "    <tr>\n",
       "      <th>0</th>\n",
       "      <td>ENSG00000000003.13</td>\n",
       "      <td>2027.0</td>\n",
       "      <td>5372.0</td>\n",
       "      <td>14845.0</td>\n",
       "      <td>895.0</td>\n",
       "      <td>3944.0</td>\n",
       "      <td>2349.0</td>\n",
       "      <td>7030.0</td>\n",
       "      <td>9373.0</td>\n",
       "      <td>10142.0</td>\n",
       "      <td>...</td>\n",
       "      <td>3545.0</td>\n",
       "      <td>2337.0</td>\n",
       "      <td>3372.0</td>\n",
       "      <td>1990.0</td>\n",
       "      <td>1716.0</td>\n",
       "      <td>1754.0</td>\n",
       "      <td>5943.0</td>\n",
       "      <td>8577.0</td>\n",
       "      <td>2778.0</td>\n",
       "      <td>1793.0</td>\n",
       "    </tr>\n",
       "    <tr>\n",
       "      <th>1</th>\n",
       "      <td>ENSG00000000005.5</td>\n",
       "      <td>12.0</td>\n",
       "      <td>184.0</td>\n",
       "      <td>104.0</td>\n",
       "      <td>1.0</td>\n",
       "      <td>25.0</td>\n",
       "      <td>1.0</td>\n",
       "      <td>41.0</td>\n",
       "      <td>80.0</td>\n",
       "      <td>19.0</td>\n",
       "      <td>...</td>\n",
       "      <td>10.0</td>\n",
       "      <td>16.0</td>\n",
       "      <td>0.0</td>\n",
       "      <td>8.0</td>\n",
       "      <td>0.0</td>\n",
       "      <td>18.0</td>\n",
       "      <td>24.0</td>\n",
       "      <td>16.0</td>\n",
       "      <td>5.0</td>\n",
       "      <td>0.0</td>\n",
       "    </tr>\n",
       "    <tr>\n",
       "      <th>2</th>\n",
       "      <td>ENSG00000000419.11</td>\n",
       "      <td>2293.0</td>\n",
       "      <td>3561.0</td>\n",
       "      <td>5777.0</td>\n",
       "      <td>2053.0</td>\n",
       "      <td>1127.0</td>\n",
       "      <td>960.0</td>\n",
       "      <td>1177.0</td>\n",
       "      <td>1615.0</td>\n",
       "      <td>1797.0</td>\n",
       "      <td>...</td>\n",
       "      <td>477.0</td>\n",
       "      <td>911.0</td>\n",
       "      <td>4839.0</td>\n",
       "      <td>598.0</td>\n",
       "      <td>1303.0</td>\n",
       "      <td>692.0</td>\n",
       "      <td>1947.0</td>\n",
       "      <td>1207.0</td>\n",
       "      <td>774.0</td>\n",
       "      <td>1089.0</td>\n",
       "    </tr>\n",
       "    <tr>\n",
       "      <th>3</th>\n",
       "      <td>ENSG00000000457.12</td>\n",
       "      <td>613.0</td>\n",
       "      <td>765.0</td>\n",
       "      <td>684.0</td>\n",
       "      <td>957.0</td>\n",
       "      <td>78.0</td>\n",
       "      <td>303.0</td>\n",
       "      <td>259.0</td>\n",
       "      <td>279.0</td>\n",
       "      <td>265.0</td>\n",
       "      <td>...</td>\n",
       "      <td>331.0</td>\n",
       "      <td>393.0</td>\n",
       "      <td>527.0</td>\n",
       "      <td>81.0</td>\n",
       "      <td>475.0</td>\n",
       "      <td>211.0</td>\n",
       "      <td>648.0</td>\n",
       "      <td>523.0</td>\n",
       "      <td>311.0</td>\n",
       "      <td>441.0</td>\n",
       "    </tr>\n",
       "    <tr>\n",
       "      <th>4</th>\n",
       "      <td>ENSG00000000460.15</td>\n",
       "      <td>315.0</td>\n",
       "      <td>652.0</td>\n",
       "      <td>634.0</td>\n",
       "      <td>724.0</td>\n",
       "      <td>94.0</td>\n",
       "      <td>173.0</td>\n",
       "      <td>244.0</td>\n",
       "      <td>191.0</td>\n",
       "      <td>197.0</td>\n",
       "      <td>...</td>\n",
       "      <td>150.0</td>\n",
       "      <td>247.0</td>\n",
       "      <td>399.0</td>\n",
       "      <td>75.0</td>\n",
       "      <td>540.0</td>\n",
       "      <td>151.0</td>\n",
       "      <td>688.0</td>\n",
       "      <td>245.0</td>\n",
       "      <td>343.0</td>\n",
       "      <td>318.0</td>\n",
       "    </tr>\n",
       "  </tbody>\n",
       "</table>\n",
       "<p>5 rows × 457 columns</p>\n",
       "</div>"
      ],
      "text/plain": [
       "           Ensembl_ID  TCGA-DM-A288  TCGA-QL-A97D  TCGA-CM-6164  TCGA-G4-6299  \\\n",
       "0  ENSG00000000003.13        2027.0        5372.0       14845.0         895.0   \n",
       "1   ENSG00000000005.5          12.0         184.0         104.0           1.0   \n",
       "2  ENSG00000000419.11        2293.0        3561.0        5777.0        2053.0   \n",
       "3  ENSG00000000457.12         613.0         765.0         684.0         957.0   \n",
       "4  ENSG00000000460.15         315.0         652.0         634.0         724.0   \n",
       "\n",
       "   TCGA-AA-3542  TCGA-AZ-4615  TCGA-AA-3549  TCGA-AY-4071  TCGA-CM-4752  ...  \\\n",
       "0        3944.0        2349.0        7030.0        9373.0       10142.0  ...   \n",
       "1          25.0           1.0          41.0          80.0          19.0  ...   \n",
       "2        1127.0         960.0        1177.0        1615.0        1797.0  ...   \n",
       "3          78.0         303.0         259.0         279.0         265.0  ...   \n",
       "4          94.0         173.0         244.0         191.0         197.0  ...   \n",
       "\n",
       "   TCGA-AA-3502  TCGA-AA-A02E  TCGA-G4-6295  TCGA-AA-A01C  TCGA-G4-6588  \\\n",
       "0        3545.0        2337.0        3372.0        1990.0        1716.0   \n",
       "1          10.0          16.0           0.0           8.0           0.0   \n",
       "2         477.0         911.0        4839.0         598.0        1303.0   \n",
       "3         331.0         393.0         527.0          81.0         475.0   \n",
       "4         150.0         247.0         399.0          75.0         540.0   \n",
       "\n",
       "   TCGA-AA-3977  TCGA-AA-3561  TCGA-AA-3973  TCGA-A6-6653  TCGA-AA-3555  \n",
       "0        1754.0        5943.0        8577.0        2778.0        1793.0  \n",
       "1          18.0          24.0          16.0           5.0           0.0  \n",
       "2         692.0        1947.0        1207.0         774.0        1089.0  \n",
       "3         211.0         648.0         523.0         311.0         441.0  \n",
       "4         151.0         688.0         245.0         343.0         318.0  \n",
       "\n",
       "[5 rows x 457 columns]"
      ]
     },
     "execution_count": 20,
     "metadata": {},
     "output_type": "execute_result"
    }
   ],
   "source": [
    "df.head()"
   ]
  },
  {
   "cell_type": "code",
   "execution_count": 21,
   "metadata": {},
   "outputs": [],
   "source": [
    "df0 = pd.read_csv(r\"F:\\01 科研项目数据-2022\\06-基础AI\\TCGA-COAD-counts\\低.csv\", encoding='gbk')\n",
    "m0_list = list(df0['Ensembl_ID'])\n",
    "df1 = pd.read_csv(r\"F:\\01 科研项目数据-2022\\06-基础AI\\TCGA-COAD-counts\\高.csv\", encoding='gbk')\n",
    "m1_list = list(df1['Ensembl_ID'])"
   ]
  },
  {
   "cell_type": "code",
   "execution_count": 22,
   "metadata": {},
   "outputs": [
    {
     "data": {
      "text/plain": [
       "(217, 218)"
      ]
     },
     "execution_count": 22,
     "metadata": {},
     "output_type": "execute_result"
    }
   ],
   "source": [
    "len(m0_list),len(m1_list)"
   ]
  },
  {
   "cell_type": "code",
   "execution_count": 26,
   "metadata": {},
   "outputs": [
    {
     "data": {
      "text/plain": [
       "457"
      ]
     },
     "execution_count": 26,
     "metadata": {},
     "output_type": "execute_result"
    }
   ],
   "source": [
    "col_names = []\n",
    "for index, row in df.iteritems():\n",
    "    col_names.append(index)\n",
    "len(col_names)"
   ]
  },
  {
   "cell_type": "code",
   "execution_count": 27,
   "metadata": {},
   "outputs": [],
   "source": [
    "jiyin_names = col_names[1:]"
   ]
  },
  {
   "cell_type": "code",
   "execution_count": 28,
   "metadata": {},
   "outputs": [
    {
     "data": {
      "text/plain": [
       "456"
      ]
     },
     "execution_count": 28,
     "metadata": {},
     "output_type": "execute_result"
    }
   ],
   "source": [
    "len(jiyin_names)"
   ]
  },
  {
   "cell_type": "code",
   "execution_count": 32,
   "metadata": {},
   "outputs": [],
   "source": [
    "# len(m0_list)"
   ]
  },
  {
   "cell_type": "code",
   "execution_count": 31,
   "metadata": {},
   "outputs": [
    {
     "data": {
      "text/plain": [
       "217"
      ]
     },
     "execution_count": 31,
     "metadata": {},
     "output_type": "execute_result"
    }
   ],
   "source": [
    "m0_names = []\n",
    "m0_not_list = []\n",
    "for _name in jiyin_names:\n",
    "    if _name in m0_list:\n",
    "        m0_names.append(_name)\n",
    "    \n",
    "len(m0_names)"
   ]
  },
  {
   "cell_type": "code",
   "execution_count": 32,
   "metadata": {},
   "outputs": [
    {
     "data": {
      "text/plain": [
       "218"
      ]
     },
     "execution_count": 32,
     "metadata": {},
     "output_type": "execute_result"
    }
   ],
   "source": [
    "m1_names = []\n",
    "m1_not_list = []\n",
    "for _name in jiyin_names:\n",
    "    if _name in m1_list:\n",
    "        m1_names.append(_name)\n",
    "# for _name in m1_list:\n",
    "#     m1_names.append(_name)\n",
    "    \n",
    "len(m1_names)"
   ]
  },
  {
   "cell_type": "code",
   "execution_count": 36,
   "metadata": {},
   "outputs": [
    {
     "data": {
      "text/plain": [
       "(218, 0)"
      ]
     },
     "execution_count": 36,
     "metadata": {},
     "output_type": "execute_result"
    }
   ],
   "source": [
    "m0_names = [\"Ensembl_ID\"]\n",
    "m0_not_list = []\n",
    "for _name in m0_list:\n",
    "    if _name in col_names:\n",
    "        m0_names.append(_name)\n",
    "    else:\n",
    "        m0_not_list.append(_name)\n",
    "len(m0_names), len(m0_not_list)"
   ]
  },
  {
   "cell_type": "code",
   "execution_count": 37,
   "metadata": {},
   "outputs": [
    {
     "data": {
      "text/plain": [
       "(219, 0)"
      ]
     },
     "execution_count": 37,
     "metadata": {},
     "output_type": "execute_result"
    }
   ],
   "source": [
    "m1_names = [\"Ensembl_ID\"]\n",
    "m1_not_list = []\n",
    "for _name in m1_list:\n",
    "    if _name in col_names:\n",
    "        m1_names.append(_name)\n",
    "    else:\n",
    "        m1_not_list.append(_name)\n",
    "len(m1_names), len(m1_not_list)"
   ]
  },
  {
   "cell_type": "code",
   "execution_count": 38,
   "metadata": {},
   "outputs": [],
   "source": [
    "# m0_not_list"
   ]
  },
  {
   "cell_type": "code",
   "execution_count": 39,
   "metadata": {},
   "outputs": [],
   "source": [
    "# m1_not_list"
   ]
  },
  {
   "cell_type": "code",
   "execution_count": 40,
   "metadata": {},
   "outputs": [
    {
     "name": "stdout",
     "output_type": "stream",
     "text": [
      "218\n"
     ]
    }
   ],
   "source": [
    "m0_df = df[m0_names]\n",
    "print(m0_df.shape[1])\n",
    "m0_df.to_csv(r\"F:\\01 科研项目数据-2022\\06-基础AI\\TCGA-COAD-counts\\low_all.csv\", index=False)"
   ]
  },
  {
   "cell_type": "code",
   "execution_count": 41,
   "metadata": {},
   "outputs": [
    {
     "name": "stdout",
     "output_type": "stream",
     "text": [
      "219\n"
     ]
    }
   ],
   "source": [
    "m1_df = df[m1_names]\n",
    "print(m1_df.shape[1])\n",
    "m1_df.to_csv(r\"F:\\01 科研项目数据-2022\\06-基础AI\\TCGA-COAD-counts\\high_all.csv\", index=False)"
   ]
  },
  {
   "cell_type": "code",
   "execution_count": 31,
   "metadata": {},
   "outputs": [],
   "source": [
    "import shutil"
   ]
  },
  {
   "cell_type": "code",
   "execution_count": 33,
   "metadata": {},
   "outputs": [],
   "source": [
    "for _file in m1_not_list:\n",
    "    src_path = os.path.join(r\"G:\\基础+AI\\切片数据分类\\M1\", _file)\n",
    "    tar_path = os.path.join(r\"G:\\基础+AI\\切片数据分类-未用\\M1\", _file)\n",
    "    shutil.move(src_path, tar_path)"
   ]
  },
  {
   "cell_type": "code",
   "execution_count": 83,
   "metadata": {},
   "outputs": [
    {
     "data": {
      "text/plain": [
       "['TCGA-AA-3695']"
      ]
     },
     "execution_count": 83,
     "metadata": {},
     "output_type": "execute_result"
    }
   ],
   "source": [
    "m1_not_list"
   ]
  },
  {
   "cell_type": "code",
   "execution_count": null,
   "metadata": {},
   "outputs": [],
   "source": []
  },
  {
   "cell_type": "code",
   "execution_count": 42,
   "metadata": {},
   "outputs": [],
   "source": [
    "import pandas as pd\n",
    "\n",
    "genes = pd.read_csv(r\"F:\\01 科研项目数据-2022\\06-基础AI\\TCGA-COAD-counts\\sample0817\\DESeq2_gene_diff_all_0817.csv\", header = 0, index_col=None)\n",
    "\n",
    "gene_list = []\n",
    "\n",
    "for i in range(len(genes)):\n",
    "    if genes.padj[i] < 0.05 and abs(genes.log2FoldChange[i]) > 1:\n",
    "        gene_list.append(str(genes.gene_id[i]).split(sep='.')[0])\n",
    "\n",
    "gene_list = pd.DataFrame(data = {\"gene_id\" : gene_list})\n",
    "gene_list.to_csv(r\"F:\\01 科研项目数据-2022\\06-基础AI\\TCGA-COAD-counts\\sample0817\\Diff_genes_all.csv\")"
   ]
  },
  {
   "cell_type": "code",
   "execution_count": 43,
   "metadata": {},
   "outputs": [],
   "source": [
    "# 生成基因名\n"
   ]
  },
  {
   "cell_type": "code",
   "execution_count": 1,
   "metadata": {},
   "outputs": [],
   "source": [
    "from BCBio import GFF\n",
    "path = r\"F:\\01 科研项目数据-2022\\06-基础AI\\human.gtf\"\n",
    "from BCBio import GFF\n",
    "from collections import Counter\n",
    "\n"
   ]
  },
  {
   "cell_type": "code",
   "execution_count": null,
   "metadata": {},
   "outputs": [],
   "source": [
    "biotype = []\n",
    "\n",
    "in_handle = open(path,'r')\n",
    "\n",
    "for rec in GFF.parse(in_handle):\n",
    "    for feature in rec.features:\n",
    "        if feature.type == \"gene\":\n",
    "            biotype.append(feature.qualifiers['gene_biotype'][0])\n",
    "            \n",
    "in_handle.close()\n",
    "len(biotype)\n",
    "biotype[0:15]\n",
    "\n",
    "Counter(biotype)"
   ]
  },
  {
   "cell_type": "code",
   "execution_count": 2,
   "metadata": {},
   "outputs": [],
   "source": [
    "def get_gene_info(gencode_filename):\n",
    "    gene_dict = {}\n",
    "    with open(gencode_filename, \"r\") as gencode_file, open(\"gene_dict.csv\", \"w+\") as gene_dict_file:\n",
    "        effective_genes_num = 0\n",
    "\n",
    "        for line in gencode_file:  # read line by line\n",
    "\n",
    "            if line[0:3] != \"chr\":  # skip useless lines\n",
    "                continue\n",
    "\n",
    "            # separate line into 9 parts\n",
    "            # …… \\t …… \\t line_info_type \\t …… \\t …… \\t …… \\t …… \\t …… \\t gene_info \\t\n",
    "            line_info = line.split(\"\\t\")\n",
    "            if line_info[2] != \"gene\":  # skip unimportant lines\n",
    "                continue\n",
    "\n",
    "            # eg.gene_id \"ENSG00000223972.5\"; gene_type \"transcribed_unprocessed_pseudogene\"; gene_name \"DDX11L1\"; ……\n",
    "            gene_info = line_info[8].split(\" \")\n",
    "            gene_id = gene_info[1].split(\".\")[0][1:]\n",
    "            gene_name = gene_info[5][1:-2]\n",
    "\n",
    "            gene_dict[gene_id] = gene_name\n",
    "            gene_dict_info = gene_id + \",\" + gene_name + \"\\n\"\n",
    "            gene_dict_file.write(gene_dict_info)\n",
    "\n",
    "            effective_genes_num += 1\n",
    "\n",
    "        print(\"Effective genes number found in \" + gencode_filename + \" is \" + str(effective_genes_num))\n",
    "        return gene_dict\n",
    "\n",
    "\n",
    "def transformENSGid(gencode_filename, tcga_filename):\n",
    "    gene_dict = get_gene_info(gencode_filename)\n",
    "\n",
    "    transformedENSGid_num = 0\n",
    "\n",
    "    with open(tcga_filename, \"r\") as tcga_data, open(\"TCGAfpkm_transformed.xls\", \"w+\") as new_tcga_data_file:\n",
    "        for line in tcga_data:\n",
    "\n",
    "            if line[0:4] != \"ENSG\":  # skip useless lines\n",
    "                new_tcga_data_file.write(line)\n",
    "                continue\n",
    "\n",
    "            # separate line into several parts\n",
    "            line_info = line.split(\"\\t\")\n",
    "\n",
    "            # get gene_id\n",
    "            gene_id = line_info[0].split(\".\")[0]\n",
    "\n",
    "            # transform\n",
    "            try:\n",
    "                line_info[0] = gene_dict[gene_id]\n",
    "            except:\n",
    "                continue  # skip useless lines\n",
    "\n",
    "            # generate new line\n",
    "            new_line = \"\\t\"\n",
    "            new_line = new_line.join(line_info)\n",
    "            new_tcga_data_file.write(new_line)\n",
    "\n",
    "            transformedENSGid_num += 1\n",
    "\n",
    "        print(\"Transformed ENSGID in \" + tcga_filename + \" is \" + str(transformedENSGid_num) + \".\")\n"
   ]
  },
  {
   "cell_type": "code",
   "execution_count": 3,
   "metadata": {},
   "outputs": [
    {
     "name": "stdout",
     "output_type": "stream",
     "text": [
      "Effective genes number found in F:\\01 科研项目数据-2022\\06-基础AI\\human.gtf is 0\n"
     ]
    }
   ],
   "source": [
    "gene_dict = get_gene_info(r\"F:\\01 科研项目数据-2022\\06-基础AI\\human.gtf\")"
   ]
  },
  {
   "cell_type": "code",
   "execution_count": 4,
   "metadata": {},
   "outputs": [],
   "source": [
    "gencode_filename = r\"F:\\01 科研项目数据-2022\\06-基础AI\\human.gtf\""
   ]
  },
  {
   "cell_type": "code",
   "execution_count": 5,
   "metadata": {},
   "outputs": [],
   "source": [
    "gene_dict = {}\n",
    "with open(gencode_filename, \"r\") as gencode_file:\n",
    "    effective_genes_num = 0\n",
    "    for line in gencode_file: \n",
    "        if line[0:2] == \"#!\":\n",
    "            continue\n",
    "#         print(line)\n",
    "        line_info = line.split(\"\\t\")\n",
    "        \n",
    "        if line_info[2] != \"gene\":  # skip unimportant lines\n",
    "            continue\n",
    "        gene_info = line_info[8].split(\" \")\n",
    "        gene_id = gene_info[1]\n",
    "        gene_name = gene_info[5]\n",
    "\n",
    "        gene_id=gene_id.replace('\"','')\n",
    "        new_gene_id=gene_id.replace(';','')\n",
    "        gene_name=gene_name.replace('\"','')\n",
    "        new_gene_name=gene_name.replace(';','')\n",
    "        gene_dict[new_gene_id] = new_gene_name\n",
    "        effective_genes_num += 1"
   ]
  },
  {
   "cell_type": "code",
   "execution_count": 1,
   "metadata": {},
   "outputs": [],
   "source": [
    "import pandas as pd"
   ]
  },
  {
   "cell_type": "code",
   "execution_count": 8,
   "metadata": {},
   "outputs": [
    {
     "name": "stdout",
     "output_type": "stream",
     "text": [
      "ENSG00000219448\n",
      "ENSG00000233878\n",
      "ENSG00000249430\n",
      "ENSG00000255354\n",
      "ENSG00000255778\n",
      "ENSG00000258486\n",
      "ENSG00000264604\n",
      "ENSG00000275301\n",
      "ENSG00000276104\n",
      "ENSG00000276933\n",
      "ENSG00000276967\n",
      "ENSG00000279877\n",
      "ENSG00000280696\n",
      "ENSG00000280888\n",
      "ENSG00000281239\n"
     ]
    }
   ],
   "source": [
    "df = pd.read_csv(r\"F:\\01 科研项目数据-2022\\06-基础AI\\TCGA-COAD-counts\\sample0817\\Diff_genes_all.csv\")\n",
    "gennames = []\n",
    "for index, row in df.iterrows():\n",
    "    gend_id = row[1]\n",
    "    try:\n",
    "        genname = gene_dict[gend_id]\n",
    "    except:\n",
    "        print(gend_id)\n",
    "        genname = \"\"\n",
    "    \n",
    "    gennames.append(genname)"
   ]
  },
  {
   "cell_type": "code",
   "execution_count": 9,
   "metadata": {},
   "outputs": [],
   "source": [
    "df['gene_name'] = gennames\n",
    "df.to_csv(r'F:\\01 科研项目数据-2022\\06-基础AI\\TCGA-COAD-counts\\sample0817\\Diff_genes_name0817.csv', index=False, float_format=\"string\")"
   ]
  },
  {
   "cell_type": "code",
   "execution_count": 2,
   "metadata": {},
   "outputs": [],
   "source": [
    "def round_of_rating(number):\n",
    "    \"\"\"Round a number to the closest half integer.\n",
    "    >>> round_of_rating(1.3)\n",
    "    1.5\n",
    "    >>> round_of_rating(2.6)\n",
    "    2.5\n",
    "    >>> round_of_rating(3.0)\n",
    "    3.0\n",
    "    >>> round_of_rating(4.1)\n",
    "    4.0\"\"\"\n",
    "\n",
    "    return round(number * 2) / 2"
   ]
  },
  {
   "cell_type": "code",
   "execution_count": 11,
   "metadata": {},
   "outputs": [
    {
     "data": {
      "text/plain": [
       "2.0"
      ]
     },
     "execution_count": 11,
     "metadata": {},
     "output_type": "execute_result"
    }
   ],
   "source": [
    "round_of_rating(1.76)"
   ]
  },
  {
   "cell_type": "code",
   "execution_count": 12,
   "metadata": {},
   "outputs": [],
   "source": [
    "a = [1]"
   ]
  },
  {
   "cell_type": "code",
   "execution_count": 26,
   "metadata": {},
   "outputs": [
    {
     "data": {
      "text/plain": [
       "[1, 2, 2, 2, 2, 2, 4, 6]"
      ]
     },
     "execution_count": 26,
     "metadata": {},
     "output_type": "execute_result"
    }
   ],
   "source": [
    "a.append(6)\n",
    "a"
   ]
  },
  {
   "cell_type": "code",
   "execution_count": 27,
   "metadata": {},
   "outputs": [
    {
     "data": {
      "text/plain": [
       "[2, 2, 2, 4, 6]"
      ]
     },
     "execution_count": 27,
     "metadata": {},
     "output_type": "execute_result"
    }
   ],
   "source": [
    "a[-5:]"
   ]
  },
  {
   "cell_type": "code",
   "execution_count": null,
   "metadata": {},
   "outputs": [],
   "source": []
  },
  {
   "cell_type": "code",
   "execution_count": null,
   "metadata": {},
   "outputs": [],
   "source": []
  }
 ],
 "metadata": {
  "kernelspec": {
   "display_name": "Python 3 (ipykernel)",
   "language": "python",
   "name": "python3"
  },
  "language_info": {
   "codemirror_mode": {
    "name": "ipython",
    "version": 3
   },
   "file_extension": ".py",
   "mimetype": "text/x-python",
   "name": "python",
   "nbconvert_exporter": "python",
   "pygments_lexer": "ipython3",
   "version": "3.9.12"
  }
 },
 "nbformat": 4,
 "nbformat_minor": 4
}
