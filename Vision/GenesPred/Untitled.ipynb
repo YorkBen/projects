{
 "cells": [
  {
   "cell_type": "code",
   "execution_count": 1,
   "id": "f9294a95",
   "metadata": {},
   "outputs": [
    {
     "name": "stdout",
     "output_type": "stream",
     "text": [
      "177\n"
     ]
    }
   ],
   "source": [
    "import os\n",
    "from PIL import Image\n",
    "import numpy as np\n",
    "png_base_path = r'\\\\192.168.0.60\\public\\模型算法组\\训练数据\\zhangkuo\\基础AI\\DX-color-result0727'\n",
    "txt_base_path = r'\\\\192.168.0.60\\public\\模型算法组\\训练数据\\zhangkuo\\基础AI\\DX-color-result0727特征'\n",
    "png_dirs = [png_base_path + e for e in [r'\\train\\M0', r'\\train\\M1', r'\\test\\M0', r'\\test\\M1']]\n",
    "txt_dirs = [txt_base_path + e for e in [r'\\train\\M0', r'\\train\\M1', r'\\test\\M0', r'\\test\\M1']]\n",
    "\n",
    "# exclude_folders = []\n",
    "# for idx, dir_ in enumerate(png_dirs):\n",
    "#     for folder in os.listdir(dir_):\n",
    "#         folder_path = os.path.join(dir_, folder)\n",
    "#         file_path = os.path.join(txt_dirs[idx], folder + '.txt')\n",
    "#         if os.path.exists(file_path):\n",
    "#             png_num = len(os.listdir(folder_path))\n",
    "#             with open(file_path) as f:\n",
    "#                 txt_num = len(f.readlines())\n",
    "#                 print('png num: %s, txt num: %s' % (png_num, txt_num))\n",
    "#                 if txt_num == png_num:\n",
    "#                     exclude_folders.append(folder_path)\n",
    "                    \n",
    "# print(exclude_folders)\n",
    "\n",
    "exclude_folders = []\n",
    "for idx, dir_ in enumerate(txt_dirs):\n",
    "    for file in os.listdir(dir_):\n",
    "        file_path = os.path.join(dir_, file)\n",
    "        folder_path = os.path.join(png_dirs[idx], file.replace('.txt', ''))\n",
    "        if os.path.isfile(file_path) and os.path.getsize(file_path) > 0:\n",
    "            exclude_folders.append(folder_path)\n",
    "print(len(exclude_folders))"
   ]
  },
  {
   "cell_type": "code",
   "execution_count": 2,
   "id": "41b5c393",
   "metadata": {},
   "outputs": [
    {
     "name": "stdout",
     "output_type": "stream",
     "text": [
      "dir: \\\\192.168.0.60\\public\\模型算法组\\训练数据\\zhangkuo\\基础AI\\DX-color-result0727\\train\\M0\n",
      "dir: \\\\192.168.0.60\\public\\模型算法组\\训练数据\\zhangkuo\\基础AI\\DX-color-result0727\\train\\M1\n",
      "\\\\192.168.0.60\\public\\模型算法组\\训练数据\\zhangkuo\\基础AI\\DX-color-result0727\\train\\M1\\TCGA-CM-4747-01Z-00-DX1.e0fac451-1322-464e-b718-174e9db33f39\\TCGA-CM-4747-01Z-00-DX1.e0fac451-1322-464e-b718-174e9db33f39#tile-r26-c113-x57344-y12800-w512-h512.png\n",
      "\\\\192.168.0.60\\public\\模型算法组\\训练数据\\zhangkuo\\基础AI\\DX-color-result0727\\train\\M1\\TCGA-G4-6297-01Z-00-DX1.3e37fa8b-c10e-4e44-9933-5bcbbe088fe0\\TCGA-G4-6297-01Z-00-DX1.3e37fa8b-c10e-4e44-9933-5bcbbe088fe0#tile-r65-c114-x57860-y32778-w512-h512.png\n",
      "dir: \\\\192.168.0.60\\public\\模型算法组\\训练数据\\zhangkuo\\基础AI\\DX-color-result0727\\test\\M0\n",
      "dir: \\\\192.168.0.60\\public\\模型算法组\\训练数据\\zhangkuo\\基础AI\\DX-color-result0727\\test\\M1\n"
     ]
    }
   ],
   "source": [
    "import shutil\n",
    "for idx, dir_ in enumerate(png_dirs):\n",
    "    print('dir: %s' % dir_)\n",
    "    for folder in os.listdir(dir_):\n",
    "        folder_path = os.path.join(dir_, folder)\n",
    "        print(folder_path)\n",
    "        if folder_path in exclude_folders:\n",
    "            continue\n",
    "# folder = os.path.join(r'\\\\192.168.0.60\\public\\模型算法组\\训练数据\\zhangkuo\\基础AI\\DX-color-result0727\\train\\M0', \n",
    "#                       'TCGA-CK-5916-01Z-00-DX1.726a78b1-e64f-4dd6-8f7e-e43e98f1f453')\n",
    "        for img_name in os.listdir(folder_path):\n",
    "            img_path = os.path.join(folder_path, img_name)\n",
    "            save_path = os.path.join(r'C:\\Users\\Administrator\\Desktop\\1', img_name)\n",
    "            if os.path.getsize(img_path) == 0:\n",
    "                print(img_path)\n",
    "                shutil.move(img_path, save_path)"
   ]
  },
  {
   "cell_type": "code",
   "execution_count": null,
   "id": "58055144",
   "metadata": {},
   "outputs": [],
   "source": []
  }
 ],
 "metadata": {
  "kernelspec": {
   "display_name": "Python 3 (ipykernel)",
   "language": "python",
   "name": "python3"
  },
  "language_info": {
   "codemirror_mode": {
    "name": "ipython",
    "version": 3
   },
   "file_extension": ".py",
   "mimetype": "text/x-python",
   "name": "python",
   "nbconvert_exporter": "python",
   "pygments_lexer": "ipython3",
   "version": "3.9.12"
  }
 },
 "nbformat": 4,
 "nbformat_minor": 5
}
