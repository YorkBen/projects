{
 "cells": [
  {
   "cell_type": "markdown",
   "metadata": {},
   "source": [
    "# ca数据训练\n",
    "## 导入相应的包\n"
   ]
  },
  {
   "cell_type": "code",
   "execution_count": 1,
   "metadata": {},
   "outputs": [
    {
     "name": "stderr",
     "output_type": "stream",
     "text": [
      "2022-05-30 13:57:42,865 - INFO - __init__.py - init_logger - 58 - ini  logger file D:\\projects\\Vision\\Lib\\logs\\kernel-cb4125db-90f1-4583-8fc5-dd42e7237662.log\n"
     ]
    },
    {
     "name": "stdout",
     "output_type": "stream",
     "text": [
      "use temp dir:d:\\znyx\\temp\n"
     ]
    }
   ],
   "source": [
    "import os\n",
    "import sys\n",
    "import cv2\n",
    "\n",
    "import matplotlib.pyplot as plt\n",
    "plt.rcParams['font.sans-serif']=['SimHei'] #用来正常显示中文标签\n",
    "plt.rcParams['axes.unicode_minus']=False #用来正常显示负号\n",
    "\n",
    "import numpy as np\n",
    "import tensorflow as tf\n",
    "\n",
    "\n",
    "# 数据增强\n",
    "from tensorflow.keras.preprocessing.image import ImageDataGenerator\n",
    "\n",
    "from tensorflow.keras.callbacks import EarlyStopping, ModelCheckpoint, ReduceLROnPlateau\n",
    "from tensorflow.keras import backend as K\n",
    "from tensorflow.keras.utils import to_categorical\n",
    "\n",
    "from tensorflow.keras.applications import MobileNetV2, ResNet50, Xception, EfficientNetB4\n",
    "from tensorflow.keras.layers import GlobalAveragePooling2D, Dense, Dropout\n",
    "from tensorflow.keras.models import Model, model_from_json\n",
    "\n",
    "# 添加路径，以能正常导入mbsh、trainer\n",
    "sys.path.insert(0, r\"..\\Lib\\trainer\")\n",
    "\n",
    "\n",
    "\n",
    "from mbsh import create_app\n",
    "from mbsh.core.models import SmallModel\n",
    "from mbsh.core.images import read_to_pd,TrainArgs\n",
    "from mbsh.core.plot import Plot\n",
    "\n",
    "from trainer import Trainer\n",
    "\n",
    "# tf.compat.v1.disable_eager_execution()"
   ]
  },
  {
   "cell_type": "code",
   "execution_count": null,
   "metadata": {},
   "outputs": [],
   "source": [
    "# from tensorflow.compat.v1 import ConfigProto\n",
    "# from tensorflow.compat.v1 import InteractiveSession\n",
    " \n",
    "# config = ConfigProto()\n",
    "# config.gpu_options.allow_growth = True\n",
    "# session = InteractiveSession(config=config)"
   ]
  },
  {
   "cell_type": "code",
   "execution_count": 2,
   "metadata": {},
   "outputs": [],
   "source": [
    "physical_devices = tf.config.list_physical_devices('GPU')\n",
    "for device in physical_devices:\n",
    "  tf.config.experimental.set_memory_growth(device, True)"
   ]
  },
  {
   "cell_type": "code",
   "execution_count": 5,
   "metadata": {},
   "outputs": [],
   "source": [
    "# model_id = 100 ResNet 模型 loss: 0.2732 - acc: 0.9096 - val_loss: 0.4109 - val_acc: 0.8740"
   ]
  },
  {
   "cell_type": "markdown",
   "metadata": {},
   "source": [
    "##  路径常量设置"
   ]
  },
  {
   "cell_type": "code",
   "execution_count": 3,
   "metadata": {},
   "outputs": [],
   "source": [
    "# 样本数据根目录\n",
    "# 根目录下res中按分类标签存放各类型图像\n",
    "# cache目录存放训练的结果模型\n",
    "# \n",
    "# root_path = r'/home/endoangel/public/模型算法组/训练数据/zhangkuo/imgs_wei_29'\n",
    "root_path = r'\\\\192.168.0.154\\数据\\口咽部\\大部位27分类'\n",
    "# 是否使用平衡数据做训练\n",
    "use_increase = False\n",
    "\n",
    "# 训练采用的模型名称\n",
    "model_name = 'effi'\n",
    "\n",
    "\n",
    "# 模型保存id\n",
    "model_id = 2802\n",
    "\n",
    "\n",
    "IMG_SIZE = 224\n",
    "img_size = (IMG_SIZE, IMG_SIZE)\n",
    "\n",
    "# img_size = (360,360)\n",
    "# 训练迭代次数\n",
    "epochs = 50\n",
    "\n",
    "\n",
    "# 训练每批次样本数\n",
    "batch_size = 16"
   ]
  },
  {
   "cell_type": "code",
   "execution_count": 4,
   "metadata": {},
   "outputs": [
    {
     "name": "stderr",
     "output_type": "stream",
     "text": [
      "2022-05-30 13:57:49,138 - INFO - __init__.py - create_app - 71 - db url =sqlite:///D:\\projects\\Vision\\Lib\\trainer\\../data\\production.db\n"
     ]
    }
   ],
   "source": [
    "# app创建\n",
    "app = create_app(os.getenv('FLASK_CONFIG') or 'default')\n",
    "app.app_context().push()"
   ]
  },
  {
   "cell_type": "code",
   "execution_count": 5,
   "metadata": {},
   "outputs": [
    {
     "name": "stdout",
     "output_type": "stream",
     "text": [
      "['0-不确定', '1-食管', '2-贲门', '3-前壁', '4-后壁', '5-大弯', '6-小弯侧', '7-前壁', '8-后壁', '9-小弯', '10-大弯侧', '11-前壁', '12-后壁', '13-小弯', '14-大弯侧', '15-十二指肠球部', '16-十二指肠降部', '17-后壁', '18-前壁', '19-小弯侧', '20-前壁', '21-后壁', '22-小弯', '23-前壁', '24-后壁', '25-大弯', '26-小弯侧', '27-咽部']\n"
     ]
    }
   ],
   "source": [
    "cache_path = root_path + '/cache'\n",
    "res_path = root_path + '/res'\n",
    "\n",
    "# res数据分割后的训练和验证集目录\n",
    "res_train_path = root_path + '/res_train'\n",
    "res_test_path = root_path + '/res_val'\n",
    "\n",
    "# 数据平衡后的训练和验证集目录\n",
    "train_path = root_path + '/train'\n",
    "test_path = root_path + '/test'\n",
    "\n",
    "# 图片预测错误存放目录\n",
    "pred_err_path = root_path + '/pred_err_effi'\n",
    "\n",
    "\n",
    "# trainer创建\n",
    "\n",
    "# 从数据库获取model信息，如果数据库还未建立相应的记录可查询一个已存在的，再自行修改sm的desc_list\n",
    "# sm = SmallModel.query.get(sm_name)\n",
    "\n",
    "# 生成 trainer\n",
    "sm_name = 'ca'\n",
    "# sm_desc_list =  [\"喉\",\"上颚\",\"咽后壁\",\"右梨状窝\",\"左梨状窝\"]\n",
    "sm_desc_list =  [\"不确定\", \"食管\",\"贲门\",\"前壁\",\"后壁\",\"大弯\",\"小弯侧\",\"前壁\", \n",
    "                \"后壁\",\"小弯\",\"大弯侧\",\"前壁\",\"后壁\",\"小弯\",\"大弯侧\",\n",
    "                 \"十二指肠球部\", \"十二指肠降部\",\"后壁\",\"前壁\",\"小弯侧\",\"前壁\",\"后壁\",\n",
    "                 \"小弯\",\"前壁\",\"后壁\",\"大弯\",\"小弯侧\",\"咽部\"]\n",
    "# 食管、贲门、正镜胃体中上部（前壁、后壁、大弯、小弯侧）、正镜胃体下部（前壁、后壁、小弯、大弯侧）、\n",
    "# 胃窦（前壁、后壁、小弯、大弯侧）、十二指肠（球部和降部）、\n",
    "# 倒镜胃角（后壁、前壁、小弯侧）、倒镜胃体中上部（前壁、后壁、小弯）、倒镜胃底（前壁、后壁、大弯、小弯侧\n",
    "\n",
    "sm = SmallModel(sm_name)\n",
    "\n",
    "sm.desc_list = sm_desc_list\n",
    "trainer = Trainer(sm)\n",
    "trainer.img_size = img_size\n",
    "trainer.target_fold = root_path\n",
    "\n",
    "# 类型个数\n",
    "types_num = len(trainer.desc_list)\n",
    "\n",
    "desc_list = [str(x) + '-' + trainer.desc_list[x] for x in range(0,types_num)]\n",
    "print(desc_list)"
   ]
  },
  {
   "cell_type": "markdown",
   "metadata": {},
   "source": [
    "## 开始训练\n",
    "### 数据增强"
   ]
  },
  {
   "cell_type": "code",
   "execution_count": 6,
   "metadata": {},
   "outputs": [
    {
     "name": "stdout",
     "output_type": "stream",
     "text": [
      "Found 70552 images belonging to 28 classes.\n",
      "Found 7395 images belonging to 28 classes.\n"
     ]
    }
   ],
   "source": [
    "def img_rgb2_bgr(img):\n",
    "    return img[: , : , : : -1]\n",
    "\n",
    "# 图片生成器\n",
    "# https://keras-cn.readthedocs.io/en/latest/preprocessing/image/#imagedatagenerator\n",
    "train_datagen =  ImageDataGenerator(       \n",
    "        width_shift_range=0.1,\n",
    "        height_shift_range=0.1,\n",
    "        shear_range=0.1,\n",
    "        rotation_range=10,\n",
    "        zoom_range=0.1,\n",
    "        fill_mode='constant',\n",
    "#         vertical_flip=True,\n",
    "#         horizontal_flip=True,\n",
    "        preprocessing_function = img_rgb2_bgr,\n",
    "    )\n",
    "\n",
    "test_datagen =  ImageDataGenerator(\n",
    "        fill_mode='constant',\n",
    "        preprocessing_function = img_rgb2_bgr,\n",
    "    )\n",
    "\n",
    "# 训练数据与测试数据\n",
    "cls_mode = 'binary' if types_num == 2 else 'categorical'\n",
    "train_generator = train_datagen.flow_from_directory(\n",
    "        res_train_path,\n",
    "        target_size = img_size,\n",
    "        batch_size = batch_size,\n",
    "        class_mode = cls_mode)\n",
    "test_generator = test_datagen.flow_from_directory(\n",
    "        res_test_path,\n",
    "        target_size = img_size,\n",
    "        batch_size = batch_size,\n",
    "        class_mode = cls_mode)\n",
    "\n",
    "train_samples = train_generator.samples\n",
    "valid_samples = test_generator.samples"
   ]
  },
  {
   "cell_type": "markdown",
   "metadata": {},
   "source": [
    "### 训练\n",
    "#### 先全部冻结训练"
   ]
  },
  {
   "cell_type": "code",
   "execution_count": 7,
   "metadata": {
    "scrolled": true
   },
   "outputs": [
    {
     "name": "stderr",
     "output_type": "stream",
     "text": [
      "2022-05-30 13:58:12,190 - DEBUG - attrs.py - __getitem__ - 77 - Creating converter from 3 to 5\n"
     ]
    }
   ],
   "source": [
    "IMG_SHAPE = (IMG_SIZE, IMG_SIZE, 3)\n",
    "# Create the base model EfficientNetB4\n",
    "base_model = EfficientNetB4(input_shape=IMG_SHAPE,include_top=False, weights='imagenet')\n",
    "# 冻结所有层\n",
    "# base_model.trainable = False\n",
    "base_model.trainable = True"
   ]
  },
  {
   "cell_type": "code",
   "execution_count": 8,
   "metadata": {},
   "outputs": [
    {
     "name": "stderr",
     "output_type": "stream",
     "text": [
      "C:\\ProgramData\\Anaconda3\\lib\\site-packages\\keras\\optimizers\\optimizer_v2\\adam.py:110: UserWarning: The `lr` argument is deprecated, use `learning_rate` instead.\n",
      "  super(Adam, self).__init__(name, **kwargs)\n"
     ]
    }
   ],
   "source": [
    "from tensorflow.keras.optimizers import SGD, Adam\n",
    "setting = (1, 'sigmoid', 'binary_crossentropy') if types_num == 2 else (types_num, 'softmax', 'categorical_crossentropy')\n",
    "# Add a classification head\n",
    "x = GlobalAveragePooling2D()(base_model.output)\n",
    "x = Dropout(0.5)(x)\n",
    "prediction = Dense(setting[0], activation=setting[1], name='dense')(x)\n",
    "\n",
    "model = Model(base_model.input, prediction)\n",
    "\n",
    "# model = trainer.load_model(22)\n",
    "base_learning_rate = 0.001\n",
    "Adam = Adam(lr=base_learning_rate/10)\n",
    "model.compile(optimizer=Adam, loss=setting[2], metrics=['accuracy'])\n"
   ]
  },
  {
   "cell_type": "code",
   "execution_count": 9,
   "metadata": {},
   "outputs": [
    {
     "name": "stdout",
     "output_type": "stream",
     "text": [
      "Number of layers in the base model:  475\n"
     ]
    }
   ],
   "source": [
    "print(\"Number of layers in the base model: \", len(base_model.layers))\n",
    "# 在 fine_tune_at 之后放开训练,根据情况修改  175\n",
    "fine_tune_at = 813\n",
    "\n",
    "# Freeze all the layers before the `fine_tune_at` layer\n",
    "for layer in model.layers[:fine_tune_at]:\n",
    "    layer.trainable =  True"
   ]
  },
  {
   "cell_type": "code",
   "execution_count": 10,
   "metadata": {},
   "outputs": [
    {
     "name": "stdout",
     "output_type": "stream",
     "text": [
      "Model: \"model\"\n",
      "__________________________________________________________________________________________________\n",
      " Layer (type)                   Output Shape         Param #     Connected to                     \n",
      "==================================================================================================\n",
      " input_1 (InputLayer)           [(None, 224, 224, 3  0           []                               \n",
      "                                )]                                                                \n",
      "                                                                                                  \n",
      " rescaling (Rescaling)          (None, 224, 224, 3)  0           ['input_1[0][0]']                \n",
      "                                                                                                  \n",
      " normalization (Normalization)  (None, 224, 224, 3)  7           ['rescaling[0][0]']              \n",
      "                                                                                                  \n",
      " tf.math.truediv (TFOpLambda)   (None, 224, 224, 3)  0           ['normalization[0][0]']          \n",
      "                                                                                                  \n",
      " stem_conv_pad (ZeroPadding2D)  (None, 225, 225, 3)  0           ['tf.math.truediv[0][0]']        \n",
      "                                                                                                  \n",
      " stem_conv (Conv2D)             (None, 112, 112, 48  1296        ['stem_conv_pad[0][0]']          \n",
      "                                )                                                                 \n",
      "                                                                                                  \n",
      " stem_bn (BatchNormalization)   (None, 112, 112, 48  192         ['stem_conv[0][0]']              \n",
      "                                )                                                                 \n",
      "                                                                                                  \n",
      " stem_activation (Activation)   (None, 112, 112, 48  0           ['stem_bn[0][0]']                \n",
      "                                )                                                                 \n",
      "                                                                                                  \n",
      " block1a_dwconv (DepthwiseConv2  (None, 112, 112, 48  432        ['stem_activation[0][0]']        \n",
      " D)                             )                                                                 \n",
      "                                                                                                  \n",
      " block1a_bn (BatchNormalization  (None, 112, 112, 48  192        ['block1a_dwconv[0][0]']         \n",
      " )                              )                                                                 \n",
      "                                                                                                  \n",
      " block1a_activation (Activation  (None, 112, 112, 48  0          ['block1a_bn[0][0]']             \n",
      " )                              )                                                                 \n",
      "                                                                                                  \n",
      " block1a_se_squeeze (GlobalAver  (None, 48)          0           ['block1a_activation[0][0]']     \n",
      " agePooling2D)                                                                                    \n",
      "                                                                                                  \n",
      " block1a_se_reshape (Reshape)   (None, 1, 1, 48)     0           ['block1a_se_squeeze[0][0]']     \n",
      "                                                                                                  \n",
      " block1a_se_reduce (Conv2D)     (None, 1, 1, 12)     588         ['block1a_se_reshape[0][0]']     \n",
      "                                                                                                  \n",
      " block1a_se_expand (Conv2D)     (None, 1, 1, 48)     624         ['block1a_se_reduce[0][0]']      \n",
      "                                                                                                  \n",
      " block1a_se_excite (Multiply)   (None, 112, 112, 48  0           ['block1a_activation[0][0]',     \n",
      "                                )                                 'block1a_se_expand[0][0]']      \n",
      "                                                                                                  \n",
      " block1a_project_conv (Conv2D)  (None, 112, 112, 24  1152        ['block1a_se_excite[0][0]']      \n",
      "                                )                                                                 \n",
      "                                                                                                  \n",
      " block1a_project_bn (BatchNorma  (None, 112, 112, 24  96         ['block1a_project_conv[0][0]']   \n",
      " lization)                      )                                                                 \n",
      "                                                                                                  \n",
      " block1b_dwconv (DepthwiseConv2  (None, 112, 112, 24  216        ['block1a_project_bn[0][0]']     \n",
      " D)                             )                                                                 \n",
      "                                                                                                  \n",
      " block1b_bn (BatchNormalization  (None, 112, 112, 24  96         ['block1b_dwconv[0][0]']         \n",
      " )                              )                                                                 \n",
      "                                                                                                  \n",
      " block1b_activation (Activation  (None, 112, 112, 24  0          ['block1b_bn[0][0]']             \n",
      " )                              )                                                                 \n",
      "                                                                                                  \n",
      " block1b_se_squeeze (GlobalAver  (None, 24)          0           ['block1b_activation[0][0]']     \n",
      " agePooling2D)                                                                                    \n",
      "                                                                                                  \n",
      " block1b_se_reshape (Reshape)   (None, 1, 1, 24)     0           ['block1b_se_squeeze[0][0]']     \n",
      "                                                                                                  \n",
      " block1b_se_reduce (Conv2D)     (None, 1, 1, 6)      150         ['block1b_se_reshape[0][0]']     \n",
      "                                                                                                  \n",
      " block1b_se_expand (Conv2D)     (None, 1, 1, 24)     168         ['block1b_se_reduce[0][0]']      \n",
      "                                                                                                  \n",
      " block1b_se_excite (Multiply)   (None, 112, 112, 24  0           ['block1b_activation[0][0]',     \n",
      "                                )                                 'block1b_se_expand[0][0]']      \n",
      "                                                                                                  \n",
      " block1b_project_conv (Conv2D)  (None, 112, 112, 24  576         ['block1b_se_excite[0][0]']      \n",
      "                                )                                                                 \n",
      "                                                                                                  \n",
      " block1b_project_bn (BatchNorma  (None, 112, 112, 24  96         ['block1b_project_conv[0][0]']   \n",
      " lization)                      )                                                                 \n",
      "                                                                                                  \n",
      " block1b_drop (Dropout)         (None, 112, 112, 24  0           ['block1b_project_bn[0][0]']     \n",
      "                                )                                                                 \n",
      "                                                                                                  \n",
      " block1b_add (Add)              (None, 112, 112, 24  0           ['block1b_drop[0][0]',           \n",
      "                                )                                 'block1a_project_bn[0][0]']     \n",
      "                                                                                                  \n"
     ]
    },
    {
     "name": "stdout",
     "output_type": "stream",
     "text": [
      " block2a_expand_conv (Conv2D)   (None, 112, 112, 14  3456        ['block1b_add[0][0]']            \n",
      "                                4)                                                                \n",
      "                                                                                                  \n",
      " block2a_expand_bn (BatchNormal  (None, 112, 112, 14  576        ['block2a_expand_conv[0][0]']    \n",
      " ization)                       4)                                                                \n",
      "                                                                                                  \n",
      " block2a_expand_activation (Act  (None, 112, 112, 14  0          ['block2a_expand_bn[0][0]']      \n",
      " ivation)                       4)                                                                \n",
      "                                                                                                  \n",
      " block2a_dwconv_pad (ZeroPaddin  (None, 113, 113, 14  0          ['block2a_expand_activation[0][0]\n",
      " g2D)                           4)                               ']                               \n",
      "                                                                                                  \n",
      " block2a_dwconv (DepthwiseConv2  (None, 56, 56, 144)  1296       ['block2a_dwconv_pad[0][0]']     \n",
      " D)                                                                                               \n",
      "                                                                                                  \n",
      " block2a_bn (BatchNormalization  (None, 56, 56, 144)  576        ['block2a_dwconv[0][0]']         \n",
      " )                                                                                                \n",
      "                                                                                                  \n",
      " block2a_activation (Activation  (None, 56, 56, 144)  0          ['block2a_bn[0][0]']             \n",
      " )                                                                                                \n",
      "                                                                                                  \n",
      " block2a_se_squeeze (GlobalAver  (None, 144)         0           ['block2a_activation[0][0]']     \n",
      " agePooling2D)                                                                                    \n",
      "                                                                                                  \n",
      " block2a_se_reshape (Reshape)   (None, 1, 1, 144)    0           ['block2a_se_squeeze[0][0]']     \n",
      "                                                                                                  \n",
      " block2a_se_reduce (Conv2D)     (None, 1, 1, 6)      870         ['block2a_se_reshape[0][0]']     \n",
      "                                                                                                  \n",
      " block2a_se_expand (Conv2D)     (None, 1, 1, 144)    1008        ['block2a_se_reduce[0][0]']      \n",
      "                                                                                                  \n",
      " block2a_se_excite (Multiply)   (None, 56, 56, 144)  0           ['block2a_activation[0][0]',     \n",
      "                                                                  'block2a_se_expand[0][0]']      \n",
      "                                                                                                  \n",
      " block2a_project_conv (Conv2D)  (None, 56, 56, 32)   4608        ['block2a_se_excite[0][0]']      \n",
      "                                                                                                  \n",
      " block2a_project_bn (BatchNorma  (None, 56, 56, 32)  128         ['block2a_project_conv[0][0]']   \n",
      " lization)                                                                                        \n",
      "                                                                                                  \n",
      " block2b_expand_conv (Conv2D)   (None, 56, 56, 192)  6144        ['block2a_project_bn[0][0]']     \n",
      "                                                                                                  \n",
      " block2b_expand_bn (BatchNormal  (None, 56, 56, 192)  768        ['block2b_expand_conv[0][0]']    \n",
      " ization)                                                                                         \n",
      "                                                                                                  \n",
      " block2b_expand_activation (Act  (None, 56, 56, 192)  0          ['block2b_expand_bn[0][0]']      \n",
      " ivation)                                                                                         \n",
      "                                                                                                  \n",
      " block2b_dwconv (DepthwiseConv2  (None, 56, 56, 192)  1728       ['block2b_expand_activation[0][0]\n",
      " D)                                                              ']                               \n",
      "                                                                                                  \n",
      " block2b_bn (BatchNormalization  (None, 56, 56, 192)  768        ['block2b_dwconv[0][0]']         \n",
      " )                                                                                                \n",
      "                                                                                                  \n",
      " block2b_activation (Activation  (None, 56, 56, 192)  0          ['block2b_bn[0][0]']             \n",
      " )                                                                                                \n",
      "                                                                                                  \n",
      " block2b_se_squeeze (GlobalAver  (None, 192)         0           ['block2b_activation[0][0]']     \n",
      " agePooling2D)                                                                                    \n",
      "                                                                                                  \n",
      " block2b_se_reshape (Reshape)   (None, 1, 1, 192)    0           ['block2b_se_squeeze[0][0]']     \n",
      "                                                                                                  \n",
      " block2b_se_reduce (Conv2D)     (None, 1, 1, 8)      1544        ['block2b_se_reshape[0][0]']     \n",
      "                                                                                                  \n",
      " block2b_se_expand (Conv2D)     (None, 1, 1, 192)    1728        ['block2b_se_reduce[0][0]']      \n",
      "                                                                                                  \n",
      " block2b_se_excite (Multiply)   (None, 56, 56, 192)  0           ['block2b_activation[0][0]',     \n",
      "                                                                  'block2b_se_expand[0][0]']      \n",
      "                                                                                                  \n",
      " block2b_project_conv (Conv2D)  (None, 56, 56, 32)   6144        ['block2b_se_excite[0][0]']      \n",
      "                                                                                                  \n",
      " block2b_project_bn (BatchNorma  (None, 56, 56, 32)  128         ['block2b_project_conv[0][0]']   \n",
      " lization)                                                                                        \n",
      "                                                                                                  \n",
      " block2b_drop (Dropout)         (None, 56, 56, 32)   0           ['block2b_project_bn[0][0]']     \n",
      "                                                                                                  \n",
      " block2b_add (Add)              (None, 56, 56, 32)   0           ['block2b_drop[0][0]',           \n",
      "                                                                  'block2a_project_bn[0][0]']     \n",
      "                                                                                                  \n",
      " block2c_expand_conv (Conv2D)   (None, 56, 56, 192)  6144        ['block2b_add[0][0]']            \n",
      "                                                                                                  \n",
      " block2c_expand_bn (BatchNormal  (None, 56, 56, 192)  768        ['block2c_expand_conv[0][0]']    \n",
      " ization)                                                                                         \n",
      "                                                                                                  \n",
      " block2c_expand_activation (Act  (None, 56, 56, 192)  0          ['block2c_expand_bn[0][0]']      \n"
     ]
    },
    {
     "name": "stdout",
     "output_type": "stream",
     "text": [
      " ivation)                                                                                         \n",
      "                                                                                                  \n",
      " block2c_dwconv (DepthwiseConv2  (None, 56, 56, 192)  1728       ['block2c_expand_activation[0][0]\n",
      " D)                                                              ']                               \n",
      "                                                                                                  \n",
      " block2c_bn (BatchNormalization  (None, 56, 56, 192)  768        ['block2c_dwconv[0][0]']         \n",
      " )                                                                                                \n",
      "                                                                                                  \n",
      " block2c_activation (Activation  (None, 56, 56, 192)  0          ['block2c_bn[0][0]']             \n",
      " )                                                                                                \n",
      "                                                                                                  \n",
      " block2c_se_squeeze (GlobalAver  (None, 192)         0           ['block2c_activation[0][0]']     \n",
      " agePooling2D)                                                                                    \n",
      "                                                                                                  \n",
      " block2c_se_reshape (Reshape)   (None, 1, 1, 192)    0           ['block2c_se_squeeze[0][0]']     \n",
      "                                                                                                  \n",
      " block2c_se_reduce (Conv2D)     (None, 1, 1, 8)      1544        ['block2c_se_reshape[0][0]']     \n",
      "                                                                                                  \n",
      " block2c_se_expand (Conv2D)     (None, 1, 1, 192)    1728        ['block2c_se_reduce[0][0]']      \n",
      "                                                                                                  \n",
      " block2c_se_excite (Multiply)   (None, 56, 56, 192)  0           ['block2c_activation[0][0]',     \n",
      "                                                                  'block2c_se_expand[0][0]']      \n",
      "                                                                                                  \n",
      " block2c_project_conv (Conv2D)  (None, 56, 56, 32)   6144        ['block2c_se_excite[0][0]']      \n",
      "                                                                                                  \n",
      " block2c_project_bn (BatchNorma  (None, 56, 56, 32)  128         ['block2c_project_conv[0][0]']   \n",
      " lization)                                                                                        \n",
      "                                                                                                  \n",
      " block2c_drop (Dropout)         (None, 56, 56, 32)   0           ['block2c_project_bn[0][0]']     \n",
      "                                                                                                  \n",
      " block2c_add (Add)              (None, 56, 56, 32)   0           ['block2c_drop[0][0]',           \n",
      "                                                                  'block2b_add[0][0]']            \n",
      "                                                                                                  \n",
      " block2d_expand_conv (Conv2D)   (None, 56, 56, 192)  6144        ['block2c_add[0][0]']            \n",
      "                                                                                                  \n",
      " block2d_expand_bn (BatchNormal  (None, 56, 56, 192)  768        ['block2d_expand_conv[0][0]']    \n",
      " ization)                                                                                         \n",
      "                                                                                                  \n",
      " block2d_expand_activation (Act  (None, 56, 56, 192)  0          ['block2d_expand_bn[0][0]']      \n",
      " ivation)                                                                                         \n",
      "                                                                                                  \n",
      " block2d_dwconv (DepthwiseConv2  (None, 56, 56, 192)  1728       ['block2d_expand_activation[0][0]\n",
      " D)                                                              ']                               \n",
      "                                                                                                  \n",
      " block2d_bn (BatchNormalization  (None, 56, 56, 192)  768        ['block2d_dwconv[0][0]']         \n",
      " )                                                                                                \n",
      "                                                                                                  \n",
      " block2d_activation (Activation  (None, 56, 56, 192)  0          ['block2d_bn[0][0]']             \n",
      " )                                                                                                \n",
      "                                                                                                  \n",
      " block2d_se_squeeze (GlobalAver  (None, 192)         0           ['block2d_activation[0][0]']     \n",
      " agePooling2D)                                                                                    \n",
      "                                                                                                  \n",
      " block2d_se_reshape (Reshape)   (None, 1, 1, 192)    0           ['block2d_se_squeeze[0][0]']     \n",
      "                                                                                                  \n",
      " block2d_se_reduce (Conv2D)     (None, 1, 1, 8)      1544        ['block2d_se_reshape[0][0]']     \n",
      "                                                                                                  \n",
      " block2d_se_expand (Conv2D)     (None, 1, 1, 192)    1728        ['block2d_se_reduce[0][0]']      \n",
      "                                                                                                  \n",
      " block2d_se_excite (Multiply)   (None, 56, 56, 192)  0           ['block2d_activation[0][0]',     \n",
      "                                                                  'block2d_se_expand[0][0]']      \n",
      "                                                                                                  \n",
      " block2d_project_conv (Conv2D)  (None, 56, 56, 32)   6144        ['block2d_se_excite[0][0]']      \n",
      "                                                                                                  \n",
      " block2d_project_bn (BatchNorma  (None, 56, 56, 32)  128         ['block2d_project_conv[0][0]']   \n",
      " lization)                                                                                        \n",
      "                                                                                                  \n",
      " block2d_drop (Dropout)         (None, 56, 56, 32)   0           ['block2d_project_bn[0][0]']     \n",
      "                                                                                                  \n",
      " block2d_add (Add)              (None, 56, 56, 32)   0           ['block2d_drop[0][0]',           \n",
      "                                                                  'block2c_add[0][0]']            \n",
      "                                                                                                  \n",
      " block3a_expand_conv (Conv2D)   (None, 56, 56, 192)  6144        ['block2d_add[0][0]']            \n",
      "                                                                                                  \n",
      " block3a_expand_bn (BatchNormal  (None, 56, 56, 192)  768        ['block3a_expand_conv[0][0]']    \n",
      " ization)                                                                                         \n",
      "                                                                                                  \n",
      " block3a_expand_activation (Act  (None, 56, 56, 192)  0          ['block3a_expand_bn[0][0]']      \n",
      " ivation)                                                                                         \n",
      "                                                                                                  \n",
      " block3a_dwconv_pad (ZeroPaddin  (None, 59, 59, 192)  0          ['block3a_expand_activation[0][0]\n",
      " g2D)                                                            ']                               \n",
      "                                                                                                  \n"
     ]
    },
    {
     "name": "stdout",
     "output_type": "stream",
     "text": [
      " block3a_dwconv (DepthwiseConv2  (None, 28, 28, 192)  4800       ['block3a_dwconv_pad[0][0]']     \n",
      " D)                                                                                               \n",
      "                                                                                                  \n",
      " block3a_bn (BatchNormalization  (None, 28, 28, 192)  768        ['block3a_dwconv[0][0]']         \n",
      " )                                                                                                \n",
      "                                                                                                  \n",
      " block3a_activation (Activation  (None, 28, 28, 192)  0          ['block3a_bn[0][0]']             \n",
      " )                                                                                                \n",
      "                                                                                                  \n",
      " block3a_se_squeeze (GlobalAver  (None, 192)         0           ['block3a_activation[0][0]']     \n",
      " agePooling2D)                                                                                    \n",
      "                                                                                                  \n",
      " block3a_se_reshape (Reshape)   (None, 1, 1, 192)    0           ['block3a_se_squeeze[0][0]']     \n",
      "                                                                                                  \n",
      " block3a_se_reduce (Conv2D)     (None, 1, 1, 8)      1544        ['block3a_se_reshape[0][0]']     \n",
      "                                                                                                  \n",
      " block3a_se_expand (Conv2D)     (None, 1, 1, 192)    1728        ['block3a_se_reduce[0][0]']      \n",
      "                                                                                                  \n",
      " block3a_se_excite (Multiply)   (None, 28, 28, 192)  0           ['block3a_activation[0][0]',     \n",
      "                                                                  'block3a_se_expand[0][0]']      \n",
      "                                                                                                  \n",
      " block3a_project_conv (Conv2D)  (None, 28, 28, 56)   10752       ['block3a_se_excite[0][0]']      \n",
      "                                                                                                  \n",
      " block3a_project_bn (BatchNorma  (None, 28, 28, 56)  224         ['block3a_project_conv[0][0]']   \n",
      " lization)                                                                                        \n",
      "                                                                                                  \n",
      " block3b_expand_conv (Conv2D)   (None, 28, 28, 336)  18816       ['block3a_project_bn[0][0]']     \n",
      "                                                                                                  \n",
      " block3b_expand_bn (BatchNormal  (None, 28, 28, 336)  1344       ['block3b_expand_conv[0][0]']    \n",
      " ization)                                                                                         \n",
      "                                                                                                  \n",
      " block3b_expand_activation (Act  (None, 28, 28, 336)  0          ['block3b_expand_bn[0][0]']      \n",
      " ivation)                                                                                         \n",
      "                                                                                                  \n",
      " block3b_dwconv (DepthwiseConv2  (None, 28, 28, 336)  8400       ['block3b_expand_activation[0][0]\n",
      " D)                                                              ']                               \n",
      "                                                                                                  \n",
      " block3b_bn (BatchNormalization  (None, 28, 28, 336)  1344       ['block3b_dwconv[0][0]']         \n",
      " )                                                                                                \n",
      "                                                                                                  \n",
      " block3b_activation (Activation  (None, 28, 28, 336)  0          ['block3b_bn[0][0]']             \n",
      " )                                                                                                \n",
      "                                                                                                  \n",
      " block3b_se_squeeze (GlobalAver  (None, 336)         0           ['block3b_activation[0][0]']     \n",
      " agePooling2D)                                                                                    \n",
      "                                                                                                  \n",
      " block3b_se_reshape (Reshape)   (None, 1, 1, 336)    0           ['block3b_se_squeeze[0][0]']     \n",
      "                                                                                                  \n",
      " block3b_se_reduce (Conv2D)     (None, 1, 1, 14)     4718        ['block3b_se_reshape[0][0]']     \n",
      "                                                                                                  \n",
      " block3b_se_expand (Conv2D)     (None, 1, 1, 336)    5040        ['block3b_se_reduce[0][0]']      \n",
      "                                                                                                  \n",
      " block3b_se_excite (Multiply)   (None, 28, 28, 336)  0           ['block3b_activation[0][0]',     \n",
      "                                                                  'block3b_se_expand[0][0]']      \n",
      "                                                                                                  \n",
      " block3b_project_conv (Conv2D)  (None, 28, 28, 56)   18816       ['block3b_se_excite[0][0]']      \n",
      "                                                                                                  \n",
      " block3b_project_bn (BatchNorma  (None, 28, 28, 56)  224         ['block3b_project_conv[0][0]']   \n",
      " lization)                                                                                        \n",
      "                                                                                                  \n",
      " block3b_drop (Dropout)         (None, 28, 28, 56)   0           ['block3b_project_bn[0][0]']     \n",
      "                                                                                                  \n",
      " block3b_add (Add)              (None, 28, 28, 56)   0           ['block3b_drop[0][0]',           \n",
      "                                                                  'block3a_project_bn[0][0]']     \n",
      "                                                                                                  \n",
      " block3c_expand_conv (Conv2D)   (None, 28, 28, 336)  18816       ['block3b_add[0][0]']            \n",
      "                                                                                                  \n",
      " block3c_expand_bn (BatchNormal  (None, 28, 28, 336)  1344       ['block3c_expand_conv[0][0]']    \n",
      " ization)                                                                                         \n",
      "                                                                                                  \n",
      " block3c_expand_activation (Act  (None, 28, 28, 336)  0          ['block3c_expand_bn[0][0]']      \n",
      " ivation)                                                                                         \n",
      "                                                                                                  \n",
      " block3c_dwconv (DepthwiseConv2  (None, 28, 28, 336)  8400       ['block3c_expand_activation[0][0]\n",
      " D)                                                              ']                               \n",
      "                                                                                                  \n",
      " block3c_bn (BatchNormalization  (None, 28, 28, 336)  1344       ['block3c_dwconv[0][0]']         \n",
      " )                                                                                                \n",
      "                                                                                                  \n",
      " block3c_activation (Activation  (None, 28, 28, 336)  0          ['block3c_bn[0][0]']             \n",
      " )                                                                                                \n",
      "                                                                                                  \n",
      " block3c_se_squeeze (GlobalAver  (None, 336)         0           ['block3c_activation[0][0]']     \n"
     ]
    },
    {
     "name": "stdout",
     "output_type": "stream",
     "text": [
      " agePooling2D)                                                                                    \n",
      "                                                                                                  \n",
      " block3c_se_reshape (Reshape)   (None, 1, 1, 336)    0           ['block3c_se_squeeze[0][0]']     \n",
      "                                                                                                  \n",
      " block3c_se_reduce (Conv2D)     (None, 1, 1, 14)     4718        ['block3c_se_reshape[0][0]']     \n",
      "                                                                                                  \n",
      " block3c_se_expand (Conv2D)     (None, 1, 1, 336)    5040        ['block3c_se_reduce[0][0]']      \n",
      "                                                                                                  \n",
      " block3c_se_excite (Multiply)   (None, 28, 28, 336)  0           ['block3c_activation[0][0]',     \n",
      "                                                                  'block3c_se_expand[0][0]']      \n",
      "                                                                                                  \n",
      " block3c_project_conv (Conv2D)  (None, 28, 28, 56)   18816       ['block3c_se_excite[0][0]']      \n",
      "                                                                                                  \n",
      " block3c_project_bn (BatchNorma  (None, 28, 28, 56)  224         ['block3c_project_conv[0][0]']   \n",
      " lization)                                                                                        \n",
      "                                                                                                  \n",
      " block3c_drop (Dropout)         (None, 28, 28, 56)   0           ['block3c_project_bn[0][0]']     \n",
      "                                                                                                  \n",
      " block3c_add (Add)              (None, 28, 28, 56)   0           ['block3c_drop[0][0]',           \n",
      "                                                                  'block3b_add[0][0]']            \n",
      "                                                                                                  \n",
      " block3d_expand_conv (Conv2D)   (None, 28, 28, 336)  18816       ['block3c_add[0][0]']            \n",
      "                                                                                                  \n",
      " block3d_expand_bn (BatchNormal  (None, 28, 28, 336)  1344       ['block3d_expand_conv[0][0]']    \n",
      " ization)                                                                                         \n",
      "                                                                                                  \n",
      " block3d_expand_activation (Act  (None, 28, 28, 336)  0          ['block3d_expand_bn[0][0]']      \n",
      " ivation)                                                                                         \n",
      "                                                                                                  \n",
      " block3d_dwconv (DepthwiseConv2  (None, 28, 28, 336)  8400       ['block3d_expand_activation[0][0]\n",
      " D)                                                              ']                               \n",
      "                                                                                                  \n",
      " block3d_bn (BatchNormalization  (None, 28, 28, 336)  1344       ['block3d_dwconv[0][0]']         \n",
      " )                                                                                                \n",
      "                                                                                                  \n",
      " block3d_activation (Activation  (None, 28, 28, 336)  0          ['block3d_bn[0][0]']             \n",
      " )                                                                                                \n",
      "                                                                                                  \n",
      " block3d_se_squeeze (GlobalAver  (None, 336)         0           ['block3d_activation[0][0]']     \n",
      " agePooling2D)                                                                                    \n",
      "                                                                                                  \n",
      " block3d_se_reshape (Reshape)   (None, 1, 1, 336)    0           ['block3d_se_squeeze[0][0]']     \n",
      "                                                                                                  \n",
      " block3d_se_reduce (Conv2D)     (None, 1, 1, 14)     4718        ['block3d_se_reshape[0][0]']     \n",
      "                                                                                                  \n",
      " block3d_se_expand (Conv2D)     (None, 1, 1, 336)    5040        ['block3d_se_reduce[0][0]']      \n",
      "                                                                                                  \n",
      " block3d_se_excite (Multiply)   (None, 28, 28, 336)  0           ['block3d_activation[0][0]',     \n",
      "                                                                  'block3d_se_expand[0][0]']      \n",
      "                                                                                                  \n",
      " block3d_project_conv (Conv2D)  (None, 28, 28, 56)   18816       ['block3d_se_excite[0][0]']      \n",
      "                                                                                                  \n",
      " block3d_project_bn (BatchNorma  (None, 28, 28, 56)  224         ['block3d_project_conv[0][0]']   \n",
      " lization)                                                                                        \n",
      "                                                                                                  \n",
      " block3d_drop (Dropout)         (None, 28, 28, 56)   0           ['block3d_project_bn[0][0]']     \n",
      "                                                                                                  \n",
      " block3d_add (Add)              (None, 28, 28, 56)   0           ['block3d_drop[0][0]',           \n",
      "                                                                  'block3c_add[0][0]']            \n",
      "                                                                                                  \n",
      " block4a_expand_conv (Conv2D)   (None, 28, 28, 336)  18816       ['block3d_add[0][0]']            \n",
      "                                                                                                  \n",
      " block4a_expand_bn (BatchNormal  (None, 28, 28, 336)  1344       ['block4a_expand_conv[0][0]']    \n",
      " ization)                                                                                         \n",
      "                                                                                                  \n",
      " block4a_expand_activation (Act  (None, 28, 28, 336)  0          ['block4a_expand_bn[0][0]']      \n",
      " ivation)                                                                                         \n",
      "                                                                                                  \n",
      " block4a_dwconv_pad (ZeroPaddin  (None, 29, 29, 336)  0          ['block4a_expand_activation[0][0]\n",
      " g2D)                                                            ']                               \n",
      "                                                                                                  \n",
      " block4a_dwconv (DepthwiseConv2  (None, 14, 14, 336)  3024       ['block4a_dwconv_pad[0][0]']     \n",
      " D)                                                                                               \n",
      "                                                                                                  \n",
      " block4a_bn (BatchNormalization  (None, 14, 14, 336)  1344       ['block4a_dwconv[0][0]']         \n",
      " )                                                                                                \n",
      "                                                                                                  \n",
      " block4a_activation (Activation  (None, 14, 14, 336)  0          ['block4a_bn[0][0]']             \n",
      " )                                                                                                \n",
      "                                                                                                  \n",
      " block4a_se_squeeze (GlobalAver  (None, 336)         0           ['block4a_activation[0][0]']     \n",
      " agePooling2D)                                                                                    \n",
      "                                                                                                  \n"
     ]
    },
    {
     "name": "stdout",
     "output_type": "stream",
     "text": [
      " block4a_se_reshape (Reshape)   (None, 1, 1, 336)    0           ['block4a_se_squeeze[0][0]']     \n",
      "                                                                                                  \n",
      " block4a_se_reduce (Conv2D)     (None, 1, 1, 14)     4718        ['block4a_se_reshape[0][0]']     \n",
      "                                                                                                  \n",
      " block4a_se_expand (Conv2D)     (None, 1, 1, 336)    5040        ['block4a_se_reduce[0][0]']      \n",
      "                                                                                                  \n",
      " block4a_se_excite (Multiply)   (None, 14, 14, 336)  0           ['block4a_activation[0][0]',     \n",
      "                                                                  'block4a_se_expand[0][0]']      \n",
      "                                                                                                  \n",
      " block4a_project_conv (Conv2D)  (None, 14, 14, 112)  37632       ['block4a_se_excite[0][0]']      \n",
      "                                                                                                  \n",
      " block4a_project_bn (BatchNorma  (None, 14, 14, 112)  448        ['block4a_project_conv[0][0]']   \n",
      " lization)                                                                                        \n",
      "                                                                                                  \n",
      " block4b_expand_conv (Conv2D)   (None, 14, 14, 672)  75264       ['block4a_project_bn[0][0]']     \n",
      "                                                                                                  \n",
      " block4b_expand_bn (BatchNormal  (None, 14, 14, 672)  2688       ['block4b_expand_conv[0][0]']    \n",
      " ization)                                                                                         \n",
      "                                                                                                  \n",
      " block4b_expand_activation (Act  (None, 14, 14, 672)  0          ['block4b_expand_bn[0][0]']      \n",
      " ivation)                                                                                         \n",
      "                                                                                                  \n",
      " block4b_dwconv (DepthwiseConv2  (None, 14, 14, 672)  6048       ['block4b_expand_activation[0][0]\n",
      " D)                                                              ']                               \n",
      "                                                                                                  \n",
      " block4b_bn (BatchNormalization  (None, 14, 14, 672)  2688       ['block4b_dwconv[0][0]']         \n",
      " )                                                                                                \n",
      "                                                                                                  \n",
      " block4b_activation (Activation  (None, 14, 14, 672)  0          ['block4b_bn[0][0]']             \n",
      " )                                                                                                \n",
      "                                                                                                  \n",
      " block4b_se_squeeze (GlobalAver  (None, 672)         0           ['block4b_activation[0][0]']     \n",
      " agePooling2D)                                                                                    \n",
      "                                                                                                  \n",
      " block4b_se_reshape (Reshape)   (None, 1, 1, 672)    0           ['block4b_se_squeeze[0][0]']     \n",
      "                                                                                                  \n",
      " block4b_se_reduce (Conv2D)     (None, 1, 1, 28)     18844       ['block4b_se_reshape[0][0]']     \n",
      "                                                                                                  \n",
      " block4b_se_expand (Conv2D)     (None, 1, 1, 672)    19488       ['block4b_se_reduce[0][0]']      \n",
      "                                                                                                  \n",
      " block4b_se_excite (Multiply)   (None, 14, 14, 672)  0           ['block4b_activation[0][0]',     \n",
      "                                                                  'block4b_se_expand[0][0]']      \n",
      "                                                                                                  \n",
      " block4b_project_conv (Conv2D)  (None, 14, 14, 112)  75264       ['block4b_se_excite[0][0]']      \n",
      "                                                                                                  \n",
      " block4b_project_bn (BatchNorma  (None, 14, 14, 112)  448        ['block4b_project_conv[0][0]']   \n",
      " lization)                                                                                        \n",
      "                                                                                                  \n",
      " block4b_drop (Dropout)         (None, 14, 14, 112)  0           ['block4b_project_bn[0][0]']     \n",
      "                                                                                                  \n",
      " block4b_add (Add)              (None, 14, 14, 112)  0           ['block4b_drop[0][0]',           \n",
      "                                                                  'block4a_project_bn[0][0]']     \n",
      "                                                                                                  \n",
      " block4c_expand_conv (Conv2D)   (None, 14, 14, 672)  75264       ['block4b_add[0][0]']            \n",
      "                                                                                                  \n",
      " block4c_expand_bn (BatchNormal  (None, 14, 14, 672)  2688       ['block4c_expand_conv[0][0]']    \n",
      " ization)                                                                                         \n",
      "                                                                                                  \n",
      " block4c_expand_activation (Act  (None, 14, 14, 672)  0          ['block4c_expand_bn[0][0]']      \n",
      " ivation)                                                                                         \n",
      "                                                                                                  \n",
      " block4c_dwconv (DepthwiseConv2  (None, 14, 14, 672)  6048       ['block4c_expand_activation[0][0]\n",
      " D)                                                              ']                               \n",
      "                                                                                                  \n",
      " block4c_bn (BatchNormalization  (None, 14, 14, 672)  2688       ['block4c_dwconv[0][0]']         \n",
      " )                                                                                                \n",
      "                                                                                                  \n",
      " block4c_activation (Activation  (None, 14, 14, 672)  0          ['block4c_bn[0][0]']             \n",
      " )                                                                                                \n",
      "                                                                                                  \n",
      " block4c_se_squeeze (GlobalAver  (None, 672)         0           ['block4c_activation[0][0]']     \n",
      " agePooling2D)                                                                                    \n",
      "                                                                                                  \n",
      " block4c_se_reshape (Reshape)   (None, 1, 1, 672)    0           ['block4c_se_squeeze[0][0]']     \n",
      "                                                                                                  \n",
      " block4c_se_reduce (Conv2D)     (None, 1, 1, 28)     18844       ['block4c_se_reshape[0][0]']     \n",
      "                                                                                                  \n",
      " block4c_se_expand (Conv2D)     (None, 1, 1, 672)    19488       ['block4c_se_reduce[0][0]']      \n",
      "                                                                                                  \n",
      " block4c_se_excite (Multiply)   (None, 14, 14, 672)  0           ['block4c_activation[0][0]',     \n",
      "                                                                  'block4c_se_expand[0][0]']      \n",
      "                                                                                                  \n",
      " block4c_project_conv (Conv2D)  (None, 14, 14, 112)  75264       ['block4c_se_excite[0][0]']      \n"
     ]
    },
    {
     "name": "stdout",
     "output_type": "stream",
     "text": [
      "                                                                                                  \n",
      " block4c_project_bn (BatchNorma  (None, 14, 14, 112)  448        ['block4c_project_conv[0][0]']   \n",
      " lization)                                                                                        \n",
      "                                                                                                  \n",
      " block4c_drop (Dropout)         (None, 14, 14, 112)  0           ['block4c_project_bn[0][0]']     \n",
      "                                                                                                  \n",
      " block4c_add (Add)              (None, 14, 14, 112)  0           ['block4c_drop[0][0]',           \n",
      "                                                                  'block4b_add[0][0]']            \n",
      "                                                                                                  \n",
      " block4d_expand_conv (Conv2D)   (None, 14, 14, 672)  75264       ['block4c_add[0][0]']            \n",
      "                                                                                                  \n",
      " block4d_expand_bn (BatchNormal  (None, 14, 14, 672)  2688       ['block4d_expand_conv[0][0]']    \n",
      " ization)                                                                                         \n",
      "                                                                                                  \n",
      " block4d_expand_activation (Act  (None, 14, 14, 672)  0          ['block4d_expand_bn[0][0]']      \n",
      " ivation)                                                                                         \n",
      "                                                                                                  \n",
      " block4d_dwconv (DepthwiseConv2  (None, 14, 14, 672)  6048       ['block4d_expand_activation[0][0]\n",
      " D)                                                              ']                               \n",
      "                                                                                                  \n",
      " block4d_bn (BatchNormalization  (None, 14, 14, 672)  2688       ['block4d_dwconv[0][0]']         \n",
      " )                                                                                                \n",
      "                                                                                                  \n",
      " block4d_activation (Activation  (None, 14, 14, 672)  0          ['block4d_bn[0][0]']             \n",
      " )                                                                                                \n",
      "                                                                                                  \n",
      " block4d_se_squeeze (GlobalAver  (None, 672)         0           ['block4d_activation[0][0]']     \n",
      " agePooling2D)                                                                                    \n",
      "                                                                                                  \n",
      " block4d_se_reshape (Reshape)   (None, 1, 1, 672)    0           ['block4d_se_squeeze[0][0]']     \n",
      "                                                                                                  \n",
      " block4d_se_reduce (Conv2D)     (None, 1, 1, 28)     18844       ['block4d_se_reshape[0][0]']     \n",
      "                                                                                                  \n",
      " block4d_se_expand (Conv2D)     (None, 1, 1, 672)    19488       ['block4d_se_reduce[0][0]']      \n",
      "                                                                                                  \n",
      " block4d_se_excite (Multiply)   (None, 14, 14, 672)  0           ['block4d_activation[0][0]',     \n",
      "                                                                  'block4d_se_expand[0][0]']      \n",
      "                                                                                                  \n",
      " block4d_project_conv (Conv2D)  (None, 14, 14, 112)  75264       ['block4d_se_excite[0][0]']      \n",
      "                                                                                                  \n",
      " block4d_project_bn (BatchNorma  (None, 14, 14, 112)  448        ['block4d_project_conv[0][0]']   \n",
      " lization)                                                                                        \n",
      "                                                                                                  \n",
      " block4d_drop (Dropout)         (None, 14, 14, 112)  0           ['block4d_project_bn[0][0]']     \n",
      "                                                                                                  \n",
      " block4d_add (Add)              (None, 14, 14, 112)  0           ['block4d_drop[0][0]',           \n",
      "                                                                  'block4c_add[0][0]']            \n",
      "                                                                                                  \n",
      " block4e_expand_conv (Conv2D)   (None, 14, 14, 672)  75264       ['block4d_add[0][0]']            \n",
      "                                                                                                  \n",
      " block4e_expand_bn (BatchNormal  (None, 14, 14, 672)  2688       ['block4e_expand_conv[0][0]']    \n",
      " ization)                                                                                         \n",
      "                                                                                                  \n",
      " block4e_expand_activation (Act  (None, 14, 14, 672)  0          ['block4e_expand_bn[0][0]']      \n",
      " ivation)                                                                                         \n",
      "                                                                                                  \n",
      " block4e_dwconv (DepthwiseConv2  (None, 14, 14, 672)  6048       ['block4e_expand_activation[0][0]\n",
      " D)                                                              ']                               \n",
      "                                                                                                  \n",
      " block4e_bn (BatchNormalization  (None, 14, 14, 672)  2688       ['block4e_dwconv[0][0]']         \n",
      " )                                                                                                \n",
      "                                                                                                  \n",
      " block4e_activation (Activation  (None, 14, 14, 672)  0          ['block4e_bn[0][0]']             \n",
      " )                                                                                                \n",
      "                                                                                                  \n",
      " block4e_se_squeeze (GlobalAver  (None, 672)         0           ['block4e_activation[0][0]']     \n",
      " agePooling2D)                                                                                    \n",
      "                                                                                                  \n",
      " block4e_se_reshape (Reshape)   (None, 1, 1, 672)    0           ['block4e_se_squeeze[0][0]']     \n",
      "                                                                                                  \n",
      " block4e_se_reduce (Conv2D)     (None, 1, 1, 28)     18844       ['block4e_se_reshape[0][0]']     \n",
      "                                                                                                  \n",
      " block4e_se_expand (Conv2D)     (None, 1, 1, 672)    19488       ['block4e_se_reduce[0][0]']      \n",
      "                                                                                                  \n",
      " block4e_se_excite (Multiply)   (None, 14, 14, 672)  0           ['block4e_activation[0][0]',     \n",
      "                                                                  'block4e_se_expand[0][0]']      \n",
      "                                                                                                  \n",
      " block4e_project_conv (Conv2D)  (None, 14, 14, 112)  75264       ['block4e_se_excite[0][0]']      \n",
      "                                                                                                  \n",
      " block4e_project_bn (BatchNorma  (None, 14, 14, 112)  448        ['block4e_project_conv[0][0]']   \n",
      " lization)                                                                                        \n",
      "                                                                                                  \n",
      " block4e_drop (Dropout)         (None, 14, 14, 112)  0           ['block4e_project_bn[0][0]']     \n"
     ]
    },
    {
     "name": "stdout",
     "output_type": "stream",
     "text": [
      "                                                                                                  \n",
      " block4e_add (Add)              (None, 14, 14, 112)  0           ['block4e_drop[0][0]',           \n",
      "                                                                  'block4d_add[0][0]']            \n",
      "                                                                                                  \n",
      " block4f_expand_conv (Conv2D)   (None, 14, 14, 672)  75264       ['block4e_add[0][0]']            \n",
      "                                                                                                  \n",
      " block4f_expand_bn (BatchNormal  (None, 14, 14, 672)  2688       ['block4f_expand_conv[0][0]']    \n",
      " ization)                                                                                         \n",
      "                                                                                                  \n",
      " block4f_expand_activation (Act  (None, 14, 14, 672)  0          ['block4f_expand_bn[0][0]']      \n",
      " ivation)                                                                                         \n",
      "                                                                                                  \n",
      " block4f_dwconv (DepthwiseConv2  (None, 14, 14, 672)  6048       ['block4f_expand_activation[0][0]\n",
      " D)                                                              ']                               \n",
      "                                                                                                  \n",
      " block4f_bn (BatchNormalization  (None, 14, 14, 672)  2688       ['block4f_dwconv[0][0]']         \n",
      " )                                                                                                \n",
      "                                                                                                  \n",
      " block4f_activation (Activation  (None, 14, 14, 672)  0          ['block4f_bn[0][0]']             \n",
      " )                                                                                                \n",
      "                                                                                                  \n",
      " block4f_se_squeeze (GlobalAver  (None, 672)         0           ['block4f_activation[0][0]']     \n",
      " agePooling2D)                                                                                    \n",
      "                                                                                                  \n",
      " block4f_se_reshape (Reshape)   (None, 1, 1, 672)    0           ['block4f_se_squeeze[0][0]']     \n",
      "                                                                                                  \n",
      " block4f_se_reduce (Conv2D)     (None, 1, 1, 28)     18844       ['block4f_se_reshape[0][0]']     \n",
      "                                                                                                  \n",
      " block4f_se_expand (Conv2D)     (None, 1, 1, 672)    19488       ['block4f_se_reduce[0][0]']      \n",
      "                                                                                                  \n",
      " block4f_se_excite (Multiply)   (None, 14, 14, 672)  0           ['block4f_activation[0][0]',     \n",
      "                                                                  'block4f_se_expand[0][0]']      \n",
      "                                                                                                  \n",
      " block4f_project_conv (Conv2D)  (None, 14, 14, 112)  75264       ['block4f_se_excite[0][0]']      \n",
      "                                                                                                  \n",
      " block4f_project_bn (BatchNorma  (None, 14, 14, 112)  448        ['block4f_project_conv[0][0]']   \n",
      " lization)                                                                                        \n",
      "                                                                                                  \n",
      " block4f_drop (Dropout)         (None, 14, 14, 112)  0           ['block4f_project_bn[0][0]']     \n",
      "                                                                                                  \n",
      " block4f_add (Add)              (None, 14, 14, 112)  0           ['block4f_drop[0][0]',           \n",
      "                                                                  'block4e_add[0][0]']            \n",
      "                                                                                                  \n",
      " block5a_expand_conv (Conv2D)   (None, 14, 14, 672)  75264       ['block4f_add[0][0]']            \n",
      "                                                                                                  \n",
      " block5a_expand_bn (BatchNormal  (None, 14, 14, 672)  2688       ['block5a_expand_conv[0][0]']    \n",
      " ization)                                                                                         \n",
      "                                                                                                  \n",
      " block5a_expand_activation (Act  (None, 14, 14, 672)  0          ['block5a_expand_bn[0][0]']      \n",
      " ivation)                                                                                         \n",
      "                                                                                                  \n",
      " block5a_dwconv (DepthwiseConv2  (None, 14, 14, 672)  16800      ['block5a_expand_activation[0][0]\n",
      " D)                                                              ']                               \n",
      "                                                                                                  \n",
      " block5a_bn (BatchNormalization  (None, 14, 14, 672)  2688       ['block5a_dwconv[0][0]']         \n",
      " )                                                                                                \n",
      "                                                                                                  \n",
      " block5a_activation (Activation  (None, 14, 14, 672)  0          ['block5a_bn[0][0]']             \n",
      " )                                                                                                \n",
      "                                                                                                  \n",
      " block5a_se_squeeze (GlobalAver  (None, 672)         0           ['block5a_activation[0][0]']     \n",
      " agePooling2D)                                                                                    \n",
      "                                                                                                  \n",
      " block5a_se_reshape (Reshape)   (None, 1, 1, 672)    0           ['block5a_se_squeeze[0][0]']     \n",
      "                                                                                                  \n",
      " block5a_se_reduce (Conv2D)     (None, 1, 1, 28)     18844       ['block5a_se_reshape[0][0]']     \n",
      "                                                                                                  \n",
      " block5a_se_expand (Conv2D)     (None, 1, 1, 672)    19488       ['block5a_se_reduce[0][0]']      \n",
      "                                                                                                  \n",
      " block5a_se_excite (Multiply)   (None, 14, 14, 672)  0           ['block5a_activation[0][0]',     \n",
      "                                                                  'block5a_se_expand[0][0]']      \n",
      "                                                                                                  \n",
      " block5a_project_conv (Conv2D)  (None, 14, 14, 160)  107520      ['block5a_se_excite[0][0]']      \n",
      "                                                                                                  \n",
      " block5a_project_bn (BatchNorma  (None, 14, 14, 160)  640        ['block5a_project_conv[0][0]']   \n",
      " lization)                                                                                        \n",
      "                                                                                                  \n",
      " block5b_expand_conv (Conv2D)   (None, 14, 14, 960)  153600      ['block5a_project_bn[0][0]']     \n",
      "                                                                                                  \n",
      " block5b_expand_bn (BatchNormal  (None, 14, 14, 960)  3840       ['block5b_expand_conv[0][0]']    \n",
      " ization)                                                                                         \n",
      "                                                                                                  \n",
      " block5b_expand_activation (Act  (None, 14, 14, 960)  0          ['block5b_expand_bn[0][0]']      \n"
     ]
    },
    {
     "name": "stdout",
     "output_type": "stream",
     "text": [
      " ivation)                                                                                         \n",
      "                                                                                                  \n",
      " block5b_dwconv (DepthwiseConv2  (None, 14, 14, 960)  24000      ['block5b_expand_activation[0][0]\n",
      " D)                                                              ']                               \n",
      "                                                                                                  \n",
      " block5b_bn (BatchNormalization  (None, 14, 14, 960)  3840       ['block5b_dwconv[0][0]']         \n",
      " )                                                                                                \n",
      "                                                                                                  \n",
      " block5b_activation (Activation  (None, 14, 14, 960)  0          ['block5b_bn[0][0]']             \n",
      " )                                                                                                \n",
      "                                                                                                  \n",
      " block5b_se_squeeze (GlobalAver  (None, 960)         0           ['block5b_activation[0][0]']     \n",
      " agePooling2D)                                                                                    \n",
      "                                                                                                  \n",
      " block5b_se_reshape (Reshape)   (None, 1, 1, 960)    0           ['block5b_se_squeeze[0][0]']     \n",
      "                                                                                                  \n",
      " block5b_se_reduce (Conv2D)     (None, 1, 1, 40)     38440       ['block5b_se_reshape[0][0]']     \n",
      "                                                                                                  \n",
      " block5b_se_expand (Conv2D)     (None, 1, 1, 960)    39360       ['block5b_se_reduce[0][0]']      \n",
      "                                                                                                  \n",
      " block5b_se_excite (Multiply)   (None, 14, 14, 960)  0           ['block5b_activation[0][0]',     \n",
      "                                                                  'block5b_se_expand[0][0]']      \n",
      "                                                                                                  \n",
      " block5b_project_conv (Conv2D)  (None, 14, 14, 160)  153600      ['block5b_se_excite[0][0]']      \n",
      "                                                                                                  \n",
      " block5b_project_bn (BatchNorma  (None, 14, 14, 160)  640        ['block5b_project_conv[0][0]']   \n",
      " lization)                                                                                        \n",
      "                                                                                                  \n",
      " block5b_drop (Dropout)         (None, 14, 14, 160)  0           ['block5b_project_bn[0][0]']     \n",
      "                                                                                                  \n",
      " block5b_add (Add)              (None, 14, 14, 160)  0           ['block5b_drop[0][0]',           \n",
      "                                                                  'block5a_project_bn[0][0]']     \n",
      "                                                                                                  \n",
      " block5c_expand_conv (Conv2D)   (None, 14, 14, 960)  153600      ['block5b_add[0][0]']            \n",
      "                                                                                                  \n",
      " block5c_expand_bn (BatchNormal  (None, 14, 14, 960)  3840       ['block5c_expand_conv[0][0]']    \n",
      " ization)                                                                                         \n",
      "                                                                                                  \n",
      " block5c_expand_activation (Act  (None, 14, 14, 960)  0          ['block5c_expand_bn[0][0]']      \n",
      " ivation)                                                                                         \n",
      "                                                                                                  \n",
      " block5c_dwconv (DepthwiseConv2  (None, 14, 14, 960)  24000      ['block5c_expand_activation[0][0]\n",
      " D)                                                              ']                               \n",
      "                                                                                                  \n",
      " block5c_bn (BatchNormalization  (None, 14, 14, 960)  3840       ['block5c_dwconv[0][0]']         \n",
      " )                                                                                                \n",
      "                                                                                                  \n",
      " block5c_activation (Activation  (None, 14, 14, 960)  0          ['block5c_bn[0][0]']             \n",
      " )                                                                                                \n",
      "                                                                                                  \n",
      " block5c_se_squeeze (GlobalAver  (None, 960)         0           ['block5c_activation[0][0]']     \n",
      " agePooling2D)                                                                                    \n",
      "                                                                                                  \n",
      " block5c_se_reshape (Reshape)   (None, 1, 1, 960)    0           ['block5c_se_squeeze[0][0]']     \n",
      "                                                                                                  \n",
      " block5c_se_reduce (Conv2D)     (None, 1, 1, 40)     38440       ['block5c_se_reshape[0][0]']     \n",
      "                                                                                                  \n",
      " block5c_se_expand (Conv2D)     (None, 1, 1, 960)    39360       ['block5c_se_reduce[0][0]']      \n",
      "                                                                                                  \n",
      " block5c_se_excite (Multiply)   (None, 14, 14, 960)  0           ['block5c_activation[0][0]',     \n",
      "                                                                  'block5c_se_expand[0][0]']      \n",
      "                                                                                                  \n",
      " block5c_project_conv (Conv2D)  (None, 14, 14, 160)  153600      ['block5c_se_excite[0][0]']      \n",
      "                                                                                                  \n",
      " block5c_project_bn (BatchNorma  (None, 14, 14, 160)  640        ['block5c_project_conv[0][0]']   \n",
      " lization)                                                                                        \n",
      "                                                                                                  \n",
      " block5c_drop (Dropout)         (None, 14, 14, 160)  0           ['block5c_project_bn[0][0]']     \n",
      "                                                                                                  \n",
      " block5c_add (Add)              (None, 14, 14, 160)  0           ['block5c_drop[0][0]',           \n",
      "                                                                  'block5b_add[0][0]']            \n",
      "                                                                                                  \n",
      " block5d_expand_conv (Conv2D)   (None, 14, 14, 960)  153600      ['block5c_add[0][0]']            \n",
      "                                                                                                  \n",
      " block5d_expand_bn (BatchNormal  (None, 14, 14, 960)  3840       ['block5d_expand_conv[0][0]']    \n",
      " ization)                                                                                         \n",
      "                                                                                                  \n",
      " block5d_expand_activation (Act  (None, 14, 14, 960)  0          ['block5d_expand_bn[0][0]']      \n",
      " ivation)                                                                                         \n",
      "                                                                                                  \n",
      " block5d_dwconv (DepthwiseConv2  (None, 14, 14, 960)  24000      ['block5d_expand_activation[0][0]\n",
      " D)                                                              ']                               \n",
      "                                                                                                  \n"
     ]
    },
    {
     "name": "stdout",
     "output_type": "stream",
     "text": [
      " block5d_bn (BatchNormalization  (None, 14, 14, 960)  3840       ['block5d_dwconv[0][0]']         \n",
      " )                                                                                                \n",
      "                                                                                                  \n",
      " block5d_activation (Activation  (None, 14, 14, 960)  0          ['block5d_bn[0][0]']             \n",
      " )                                                                                                \n",
      "                                                                                                  \n",
      " block5d_se_squeeze (GlobalAver  (None, 960)         0           ['block5d_activation[0][0]']     \n",
      " agePooling2D)                                                                                    \n",
      "                                                                                                  \n",
      " block5d_se_reshape (Reshape)   (None, 1, 1, 960)    0           ['block5d_se_squeeze[0][0]']     \n",
      "                                                                                                  \n",
      " block5d_se_reduce (Conv2D)     (None, 1, 1, 40)     38440       ['block5d_se_reshape[0][0]']     \n",
      "                                                                                                  \n",
      " block5d_se_expand (Conv2D)     (None, 1, 1, 960)    39360       ['block5d_se_reduce[0][0]']      \n",
      "                                                                                                  \n",
      " block5d_se_excite (Multiply)   (None, 14, 14, 960)  0           ['block5d_activation[0][0]',     \n",
      "                                                                  'block5d_se_expand[0][0]']      \n",
      "                                                                                                  \n",
      " block5d_project_conv (Conv2D)  (None, 14, 14, 160)  153600      ['block5d_se_excite[0][0]']      \n",
      "                                                                                                  \n",
      " block5d_project_bn (BatchNorma  (None, 14, 14, 160)  640        ['block5d_project_conv[0][0]']   \n",
      " lization)                                                                                        \n",
      "                                                                                                  \n",
      " block5d_drop (Dropout)         (None, 14, 14, 160)  0           ['block5d_project_bn[0][0]']     \n",
      "                                                                                                  \n",
      " block5d_add (Add)              (None, 14, 14, 160)  0           ['block5d_drop[0][0]',           \n",
      "                                                                  'block5c_add[0][0]']            \n",
      "                                                                                                  \n",
      " block5e_expand_conv (Conv2D)   (None, 14, 14, 960)  153600      ['block5d_add[0][0]']            \n",
      "                                                                                                  \n",
      " block5e_expand_bn (BatchNormal  (None, 14, 14, 960)  3840       ['block5e_expand_conv[0][0]']    \n",
      " ization)                                                                                         \n",
      "                                                                                                  \n",
      " block5e_expand_activation (Act  (None, 14, 14, 960)  0          ['block5e_expand_bn[0][0]']      \n",
      " ivation)                                                                                         \n",
      "                                                                                                  \n",
      " block5e_dwconv (DepthwiseConv2  (None, 14, 14, 960)  24000      ['block5e_expand_activation[0][0]\n",
      " D)                                                              ']                               \n",
      "                                                                                                  \n",
      " block5e_bn (BatchNormalization  (None, 14, 14, 960)  3840       ['block5e_dwconv[0][0]']         \n",
      " )                                                                                                \n",
      "                                                                                                  \n",
      " block5e_activation (Activation  (None, 14, 14, 960)  0          ['block5e_bn[0][0]']             \n",
      " )                                                                                                \n",
      "                                                                                                  \n",
      " block5e_se_squeeze (GlobalAver  (None, 960)         0           ['block5e_activation[0][0]']     \n",
      " agePooling2D)                                                                                    \n",
      "                                                                                                  \n",
      " block5e_se_reshape (Reshape)   (None, 1, 1, 960)    0           ['block5e_se_squeeze[0][0]']     \n",
      "                                                                                                  \n",
      " block5e_se_reduce (Conv2D)     (None, 1, 1, 40)     38440       ['block5e_se_reshape[0][0]']     \n",
      "                                                                                                  \n",
      " block5e_se_expand (Conv2D)     (None, 1, 1, 960)    39360       ['block5e_se_reduce[0][0]']      \n",
      "                                                                                                  \n",
      " block5e_se_excite (Multiply)   (None, 14, 14, 960)  0           ['block5e_activation[0][0]',     \n",
      "                                                                  'block5e_se_expand[0][0]']      \n",
      "                                                                                                  \n",
      " block5e_project_conv (Conv2D)  (None, 14, 14, 160)  153600      ['block5e_se_excite[0][0]']      \n",
      "                                                                                                  \n",
      " block5e_project_bn (BatchNorma  (None, 14, 14, 160)  640        ['block5e_project_conv[0][0]']   \n",
      " lization)                                                                                        \n",
      "                                                                                                  \n",
      " block5e_drop (Dropout)         (None, 14, 14, 160)  0           ['block5e_project_bn[0][0]']     \n",
      "                                                                                                  \n",
      " block5e_add (Add)              (None, 14, 14, 160)  0           ['block5e_drop[0][0]',           \n",
      "                                                                  'block5d_add[0][0]']            \n",
      "                                                                                                  \n",
      " block5f_expand_conv (Conv2D)   (None, 14, 14, 960)  153600      ['block5e_add[0][0]']            \n",
      "                                                                                                  \n",
      " block5f_expand_bn (BatchNormal  (None, 14, 14, 960)  3840       ['block5f_expand_conv[0][0]']    \n",
      " ization)                                                                                         \n",
      "                                                                                                  \n",
      " block5f_expand_activation (Act  (None, 14, 14, 960)  0          ['block5f_expand_bn[0][0]']      \n",
      " ivation)                                                                                         \n",
      "                                                                                                  \n",
      " block5f_dwconv (DepthwiseConv2  (None, 14, 14, 960)  24000      ['block5f_expand_activation[0][0]\n",
      " D)                                                              ']                               \n",
      "                                                                                                  \n",
      " block5f_bn (BatchNormalization  (None, 14, 14, 960)  3840       ['block5f_dwconv[0][0]']         \n",
      " )                                                                                                \n",
      "                                                                                                  \n",
      " block5f_activation (Activation  (None, 14, 14, 960)  0          ['block5f_bn[0][0]']             \n",
      " )                                                                                                \n"
     ]
    },
    {
     "name": "stdout",
     "output_type": "stream",
     "text": [
      "                                                                                                  \n",
      " block5f_se_squeeze (GlobalAver  (None, 960)         0           ['block5f_activation[0][0]']     \n",
      " agePooling2D)                                                                                    \n",
      "                                                                                                  \n",
      " block5f_se_reshape (Reshape)   (None, 1, 1, 960)    0           ['block5f_se_squeeze[0][0]']     \n",
      "                                                                                                  \n",
      " block5f_se_reduce (Conv2D)     (None, 1, 1, 40)     38440       ['block5f_se_reshape[0][0]']     \n",
      "                                                                                                  \n",
      " block5f_se_expand (Conv2D)     (None, 1, 1, 960)    39360       ['block5f_se_reduce[0][0]']      \n",
      "                                                                                                  \n",
      " block5f_se_excite (Multiply)   (None, 14, 14, 960)  0           ['block5f_activation[0][0]',     \n",
      "                                                                  'block5f_se_expand[0][0]']      \n",
      "                                                                                                  \n",
      " block5f_project_conv (Conv2D)  (None, 14, 14, 160)  153600      ['block5f_se_excite[0][0]']      \n",
      "                                                                                                  \n",
      " block5f_project_bn (BatchNorma  (None, 14, 14, 160)  640        ['block5f_project_conv[0][0]']   \n",
      " lization)                                                                                        \n",
      "                                                                                                  \n",
      " block5f_drop (Dropout)         (None, 14, 14, 160)  0           ['block5f_project_bn[0][0]']     \n",
      "                                                                                                  \n",
      " block5f_add (Add)              (None, 14, 14, 160)  0           ['block5f_drop[0][0]',           \n",
      "                                                                  'block5e_add[0][0]']            \n",
      "                                                                                                  \n",
      " block6a_expand_conv (Conv2D)   (None, 14, 14, 960)  153600      ['block5f_add[0][0]']            \n",
      "                                                                                                  \n",
      " block6a_expand_bn (BatchNormal  (None, 14, 14, 960)  3840       ['block6a_expand_conv[0][0]']    \n",
      " ization)                                                                                         \n",
      "                                                                                                  \n",
      " block6a_expand_activation (Act  (None, 14, 14, 960)  0          ['block6a_expand_bn[0][0]']      \n",
      " ivation)                                                                                         \n",
      "                                                                                                  \n",
      " block6a_dwconv_pad (ZeroPaddin  (None, 17, 17, 960)  0          ['block6a_expand_activation[0][0]\n",
      " g2D)                                                            ']                               \n",
      "                                                                                                  \n",
      " block6a_dwconv (DepthwiseConv2  (None, 7, 7, 960)   24000       ['block6a_dwconv_pad[0][0]']     \n",
      " D)                                                                                               \n",
      "                                                                                                  \n",
      " block6a_bn (BatchNormalization  (None, 7, 7, 960)   3840        ['block6a_dwconv[0][0]']         \n",
      " )                                                                                                \n",
      "                                                                                                  \n",
      " block6a_activation (Activation  (None, 7, 7, 960)   0           ['block6a_bn[0][0]']             \n",
      " )                                                                                                \n",
      "                                                                                                  \n",
      " block6a_se_squeeze (GlobalAver  (None, 960)         0           ['block6a_activation[0][0]']     \n",
      " agePooling2D)                                                                                    \n",
      "                                                                                                  \n",
      " block6a_se_reshape (Reshape)   (None, 1, 1, 960)    0           ['block6a_se_squeeze[0][0]']     \n",
      "                                                                                                  \n",
      " block6a_se_reduce (Conv2D)     (None, 1, 1, 40)     38440       ['block6a_se_reshape[0][0]']     \n",
      "                                                                                                  \n",
      " block6a_se_expand (Conv2D)     (None, 1, 1, 960)    39360       ['block6a_se_reduce[0][0]']      \n",
      "                                                                                                  \n",
      " block6a_se_excite (Multiply)   (None, 7, 7, 960)    0           ['block6a_activation[0][0]',     \n",
      "                                                                  'block6a_se_expand[0][0]']      \n",
      "                                                                                                  \n",
      " block6a_project_conv (Conv2D)  (None, 7, 7, 272)    261120      ['block6a_se_excite[0][0]']      \n",
      "                                                                                                  \n",
      " block6a_project_bn (BatchNorma  (None, 7, 7, 272)   1088        ['block6a_project_conv[0][0]']   \n",
      " lization)                                                                                        \n",
      "                                                                                                  \n",
      " block6b_expand_conv (Conv2D)   (None, 7, 7, 1632)   443904      ['block6a_project_bn[0][0]']     \n",
      "                                                                                                  \n",
      " block6b_expand_bn (BatchNormal  (None, 7, 7, 1632)  6528        ['block6b_expand_conv[0][0]']    \n",
      " ization)                                                                                         \n",
      "                                                                                                  \n",
      " block6b_expand_activation (Act  (None, 7, 7, 1632)  0           ['block6b_expand_bn[0][0]']      \n",
      " ivation)                                                                                         \n",
      "                                                                                                  \n",
      " block6b_dwconv (DepthwiseConv2  (None, 7, 7, 1632)  40800       ['block6b_expand_activation[0][0]\n",
      " D)                                                              ']                               \n",
      "                                                                                                  \n",
      " block6b_bn (BatchNormalization  (None, 7, 7, 1632)  6528        ['block6b_dwconv[0][0]']         \n",
      " )                                                                                                \n",
      "                                                                                                  \n",
      " block6b_activation (Activation  (None, 7, 7, 1632)  0           ['block6b_bn[0][0]']             \n",
      " )                                                                                                \n",
      "                                                                                                  \n",
      " block6b_se_squeeze (GlobalAver  (None, 1632)        0           ['block6b_activation[0][0]']     \n",
      " agePooling2D)                                                                                    \n",
      "                                                                                                  \n",
      " block6b_se_reshape (Reshape)   (None, 1, 1, 1632)   0           ['block6b_se_squeeze[0][0]']     \n",
      "                                                                                                  \n",
      " block6b_se_reduce (Conv2D)     (None, 1, 1, 68)     111044      ['block6b_se_reshape[0][0]']     \n"
     ]
    },
    {
     "name": "stdout",
     "output_type": "stream",
     "text": [
      "                                                                                                  \n",
      " block6b_se_expand (Conv2D)     (None, 1, 1, 1632)   112608      ['block6b_se_reduce[0][0]']      \n",
      "                                                                                                  \n",
      " block6b_se_excite (Multiply)   (None, 7, 7, 1632)   0           ['block6b_activation[0][0]',     \n",
      "                                                                  'block6b_se_expand[0][0]']      \n",
      "                                                                                                  \n",
      " block6b_project_conv (Conv2D)  (None, 7, 7, 272)    443904      ['block6b_se_excite[0][0]']      \n",
      "                                                                                                  \n",
      " block6b_project_bn (BatchNorma  (None, 7, 7, 272)   1088        ['block6b_project_conv[0][0]']   \n",
      " lization)                                                                                        \n",
      "                                                                                                  \n",
      " block6b_drop (Dropout)         (None, 7, 7, 272)    0           ['block6b_project_bn[0][0]']     \n",
      "                                                                                                  \n",
      " block6b_add (Add)              (None, 7, 7, 272)    0           ['block6b_drop[0][0]',           \n",
      "                                                                  'block6a_project_bn[0][0]']     \n",
      "                                                                                                  \n",
      " block6c_expand_conv (Conv2D)   (None, 7, 7, 1632)   443904      ['block6b_add[0][0]']            \n",
      "                                                                                                  \n",
      " block6c_expand_bn (BatchNormal  (None, 7, 7, 1632)  6528        ['block6c_expand_conv[0][0]']    \n",
      " ization)                                                                                         \n",
      "                                                                                                  \n",
      " block6c_expand_activation (Act  (None, 7, 7, 1632)  0           ['block6c_expand_bn[0][0]']      \n",
      " ivation)                                                                                         \n",
      "                                                                                                  \n",
      " block6c_dwconv (DepthwiseConv2  (None, 7, 7, 1632)  40800       ['block6c_expand_activation[0][0]\n",
      " D)                                                              ']                               \n",
      "                                                                                                  \n",
      " block6c_bn (BatchNormalization  (None, 7, 7, 1632)  6528        ['block6c_dwconv[0][0]']         \n",
      " )                                                                                                \n",
      "                                                                                                  \n",
      " block6c_activation (Activation  (None, 7, 7, 1632)  0           ['block6c_bn[0][0]']             \n",
      " )                                                                                                \n",
      "                                                                                                  \n",
      " block6c_se_squeeze (GlobalAver  (None, 1632)        0           ['block6c_activation[0][0]']     \n",
      " agePooling2D)                                                                                    \n",
      "                                                                                                  \n",
      " block6c_se_reshape (Reshape)   (None, 1, 1, 1632)   0           ['block6c_se_squeeze[0][0]']     \n",
      "                                                                                                  \n",
      " block6c_se_reduce (Conv2D)     (None, 1, 1, 68)     111044      ['block6c_se_reshape[0][0]']     \n",
      "                                                                                                  \n",
      " block6c_se_expand (Conv2D)     (None, 1, 1, 1632)   112608      ['block6c_se_reduce[0][0]']      \n",
      "                                                                                                  \n",
      " block6c_se_excite (Multiply)   (None, 7, 7, 1632)   0           ['block6c_activation[0][0]',     \n",
      "                                                                  'block6c_se_expand[0][0]']      \n",
      "                                                                                                  \n",
      " block6c_project_conv (Conv2D)  (None, 7, 7, 272)    443904      ['block6c_se_excite[0][0]']      \n",
      "                                                                                                  \n",
      " block6c_project_bn (BatchNorma  (None, 7, 7, 272)   1088        ['block6c_project_conv[0][0]']   \n",
      " lization)                                                                                        \n",
      "                                                                                                  \n",
      " block6c_drop (Dropout)         (None, 7, 7, 272)    0           ['block6c_project_bn[0][0]']     \n",
      "                                                                                                  \n",
      " block6c_add (Add)              (None, 7, 7, 272)    0           ['block6c_drop[0][0]',           \n",
      "                                                                  'block6b_add[0][0]']            \n",
      "                                                                                                  \n",
      " block6d_expand_conv (Conv2D)   (None, 7, 7, 1632)   443904      ['block6c_add[0][0]']            \n",
      "                                                                                                  \n",
      " block6d_expand_bn (BatchNormal  (None, 7, 7, 1632)  6528        ['block6d_expand_conv[0][0]']    \n",
      " ization)                                                                                         \n",
      "                                                                                                  \n",
      " block6d_expand_activation (Act  (None, 7, 7, 1632)  0           ['block6d_expand_bn[0][0]']      \n",
      " ivation)                                                                                         \n",
      "                                                                                                  \n",
      " block6d_dwconv (DepthwiseConv2  (None, 7, 7, 1632)  40800       ['block6d_expand_activation[0][0]\n",
      " D)                                                              ']                               \n",
      "                                                                                                  \n",
      " block6d_bn (BatchNormalization  (None, 7, 7, 1632)  6528        ['block6d_dwconv[0][0]']         \n",
      " )                                                                                                \n",
      "                                                                                                  \n",
      " block6d_activation (Activation  (None, 7, 7, 1632)  0           ['block6d_bn[0][0]']             \n",
      " )                                                                                                \n",
      "                                                                                                  \n",
      " block6d_se_squeeze (GlobalAver  (None, 1632)        0           ['block6d_activation[0][0]']     \n",
      " agePooling2D)                                                                                    \n",
      "                                                                                                  \n",
      " block6d_se_reshape (Reshape)   (None, 1, 1, 1632)   0           ['block6d_se_squeeze[0][0]']     \n",
      "                                                                                                  \n",
      " block6d_se_reduce (Conv2D)     (None, 1, 1, 68)     111044      ['block6d_se_reshape[0][0]']     \n",
      "                                                                                                  \n",
      " block6d_se_expand (Conv2D)     (None, 1, 1, 1632)   112608      ['block6d_se_reduce[0][0]']      \n",
      "                                                                                                  \n",
      " block6d_se_excite (Multiply)   (None, 7, 7, 1632)   0           ['block6d_activation[0][0]',     \n",
      "                                                                  'block6d_se_expand[0][0]']      \n"
     ]
    },
    {
     "name": "stdout",
     "output_type": "stream",
     "text": [
      "                                                                                                  \n",
      " block6d_project_conv (Conv2D)  (None, 7, 7, 272)    443904      ['block6d_se_excite[0][0]']      \n",
      "                                                                                                  \n",
      " block6d_project_bn (BatchNorma  (None, 7, 7, 272)   1088        ['block6d_project_conv[0][0]']   \n",
      " lization)                                                                                        \n",
      "                                                                                                  \n",
      " block6d_drop (Dropout)         (None, 7, 7, 272)    0           ['block6d_project_bn[0][0]']     \n",
      "                                                                                                  \n",
      " block6d_add (Add)              (None, 7, 7, 272)    0           ['block6d_drop[0][0]',           \n",
      "                                                                  'block6c_add[0][0]']            \n",
      "                                                                                                  \n",
      " block6e_expand_conv (Conv2D)   (None, 7, 7, 1632)   443904      ['block6d_add[0][0]']            \n",
      "                                                                                                  \n",
      " block6e_expand_bn (BatchNormal  (None, 7, 7, 1632)  6528        ['block6e_expand_conv[0][0]']    \n",
      " ization)                                                                                         \n",
      "                                                                                                  \n",
      " block6e_expand_activation (Act  (None, 7, 7, 1632)  0           ['block6e_expand_bn[0][0]']      \n",
      " ivation)                                                                                         \n",
      "                                                                                                  \n",
      " block6e_dwconv (DepthwiseConv2  (None, 7, 7, 1632)  40800       ['block6e_expand_activation[0][0]\n",
      " D)                                                              ']                               \n",
      "                                                                                                  \n",
      " block6e_bn (BatchNormalization  (None, 7, 7, 1632)  6528        ['block6e_dwconv[0][0]']         \n",
      " )                                                                                                \n",
      "                                                                                                  \n",
      " block6e_activation (Activation  (None, 7, 7, 1632)  0           ['block6e_bn[0][0]']             \n",
      " )                                                                                                \n",
      "                                                                                                  \n",
      " block6e_se_squeeze (GlobalAver  (None, 1632)        0           ['block6e_activation[0][0]']     \n",
      " agePooling2D)                                                                                    \n",
      "                                                                                                  \n",
      " block6e_se_reshape (Reshape)   (None, 1, 1, 1632)   0           ['block6e_se_squeeze[0][0]']     \n",
      "                                                                                                  \n",
      " block6e_se_reduce (Conv2D)     (None, 1, 1, 68)     111044      ['block6e_se_reshape[0][0]']     \n",
      "                                                                                                  \n",
      " block6e_se_expand (Conv2D)     (None, 1, 1, 1632)   112608      ['block6e_se_reduce[0][0]']      \n",
      "                                                                                                  \n",
      " block6e_se_excite (Multiply)   (None, 7, 7, 1632)   0           ['block6e_activation[0][0]',     \n",
      "                                                                  'block6e_se_expand[0][0]']      \n",
      "                                                                                                  \n",
      " block6e_project_conv (Conv2D)  (None, 7, 7, 272)    443904      ['block6e_se_excite[0][0]']      \n",
      "                                                                                                  \n",
      " block6e_project_bn (BatchNorma  (None, 7, 7, 272)   1088        ['block6e_project_conv[0][0]']   \n",
      " lization)                                                                                        \n",
      "                                                                                                  \n",
      " block6e_drop (Dropout)         (None, 7, 7, 272)    0           ['block6e_project_bn[0][0]']     \n",
      "                                                                                                  \n",
      " block6e_add (Add)              (None, 7, 7, 272)    0           ['block6e_drop[0][0]',           \n",
      "                                                                  'block6d_add[0][0]']            \n",
      "                                                                                                  \n",
      " block6f_expand_conv (Conv2D)   (None, 7, 7, 1632)   443904      ['block6e_add[0][0]']            \n",
      "                                                                                                  \n",
      " block6f_expand_bn (BatchNormal  (None, 7, 7, 1632)  6528        ['block6f_expand_conv[0][0]']    \n",
      " ization)                                                                                         \n",
      "                                                                                                  \n",
      " block6f_expand_activation (Act  (None, 7, 7, 1632)  0           ['block6f_expand_bn[0][0]']      \n",
      " ivation)                                                                                         \n",
      "                                                                                                  \n",
      " block6f_dwconv (DepthwiseConv2  (None, 7, 7, 1632)  40800       ['block6f_expand_activation[0][0]\n",
      " D)                                                              ']                               \n",
      "                                                                                                  \n",
      " block6f_bn (BatchNormalization  (None, 7, 7, 1632)  6528        ['block6f_dwconv[0][0]']         \n",
      " )                                                                                                \n",
      "                                                                                                  \n",
      " block6f_activation (Activation  (None, 7, 7, 1632)  0           ['block6f_bn[0][0]']             \n",
      " )                                                                                                \n",
      "                                                                                                  \n",
      " block6f_se_squeeze (GlobalAver  (None, 1632)        0           ['block6f_activation[0][0]']     \n",
      " agePooling2D)                                                                                    \n",
      "                                                                                                  \n",
      " block6f_se_reshape (Reshape)   (None, 1, 1, 1632)   0           ['block6f_se_squeeze[0][0]']     \n",
      "                                                                                                  \n",
      " block6f_se_reduce (Conv2D)     (None, 1, 1, 68)     111044      ['block6f_se_reshape[0][0]']     \n",
      "                                                                                                  \n",
      " block6f_se_expand (Conv2D)     (None, 1, 1, 1632)   112608      ['block6f_se_reduce[0][0]']      \n",
      "                                                                                                  \n",
      " block6f_se_excite (Multiply)   (None, 7, 7, 1632)   0           ['block6f_activation[0][0]',     \n",
      "                                                                  'block6f_se_expand[0][0]']      \n",
      "                                                                                                  \n",
      " block6f_project_conv (Conv2D)  (None, 7, 7, 272)    443904      ['block6f_se_excite[0][0]']      \n",
      "                                                                                                  \n",
      " block6f_project_bn (BatchNorma  (None, 7, 7, 272)   1088        ['block6f_project_conv[0][0]']   \n",
      " lization)                                                                                        \n"
     ]
    },
    {
     "name": "stdout",
     "output_type": "stream",
     "text": [
      "                                                                                                  \n",
      " block6f_drop (Dropout)         (None, 7, 7, 272)    0           ['block6f_project_bn[0][0]']     \n",
      "                                                                                                  \n",
      " block6f_add (Add)              (None, 7, 7, 272)    0           ['block6f_drop[0][0]',           \n",
      "                                                                  'block6e_add[0][0]']            \n",
      "                                                                                                  \n",
      " block6g_expand_conv (Conv2D)   (None, 7, 7, 1632)   443904      ['block6f_add[0][0]']            \n",
      "                                                                                                  \n",
      " block6g_expand_bn (BatchNormal  (None, 7, 7, 1632)  6528        ['block6g_expand_conv[0][0]']    \n",
      " ization)                                                                                         \n",
      "                                                                                                  \n",
      " block6g_expand_activation (Act  (None, 7, 7, 1632)  0           ['block6g_expand_bn[0][0]']      \n",
      " ivation)                                                                                         \n",
      "                                                                                                  \n",
      " block6g_dwconv (DepthwiseConv2  (None, 7, 7, 1632)  40800       ['block6g_expand_activation[0][0]\n",
      " D)                                                              ']                               \n",
      "                                                                                                  \n",
      " block6g_bn (BatchNormalization  (None, 7, 7, 1632)  6528        ['block6g_dwconv[0][0]']         \n",
      " )                                                                                                \n",
      "                                                                                                  \n",
      " block6g_activation (Activation  (None, 7, 7, 1632)  0           ['block6g_bn[0][0]']             \n",
      " )                                                                                                \n",
      "                                                                                                  \n",
      " block6g_se_squeeze (GlobalAver  (None, 1632)        0           ['block6g_activation[0][0]']     \n",
      " agePooling2D)                                                                                    \n",
      "                                                                                                  \n",
      " block6g_se_reshape (Reshape)   (None, 1, 1, 1632)   0           ['block6g_se_squeeze[0][0]']     \n",
      "                                                                                                  \n",
      " block6g_se_reduce (Conv2D)     (None, 1, 1, 68)     111044      ['block6g_se_reshape[0][0]']     \n",
      "                                                                                                  \n",
      " block6g_se_expand (Conv2D)     (None, 1, 1, 1632)   112608      ['block6g_se_reduce[0][0]']      \n",
      "                                                                                                  \n",
      " block6g_se_excite (Multiply)   (None, 7, 7, 1632)   0           ['block6g_activation[0][0]',     \n",
      "                                                                  'block6g_se_expand[0][0]']      \n",
      "                                                                                                  \n",
      " block6g_project_conv (Conv2D)  (None, 7, 7, 272)    443904      ['block6g_se_excite[0][0]']      \n",
      "                                                                                                  \n",
      " block6g_project_bn (BatchNorma  (None, 7, 7, 272)   1088        ['block6g_project_conv[0][0]']   \n",
      " lization)                                                                                        \n",
      "                                                                                                  \n",
      " block6g_drop (Dropout)         (None, 7, 7, 272)    0           ['block6g_project_bn[0][0]']     \n",
      "                                                                                                  \n",
      " block6g_add (Add)              (None, 7, 7, 272)    0           ['block6g_drop[0][0]',           \n",
      "                                                                  'block6f_add[0][0]']            \n",
      "                                                                                                  \n",
      " block6h_expand_conv (Conv2D)   (None, 7, 7, 1632)   443904      ['block6g_add[0][0]']            \n",
      "                                                                                                  \n",
      " block6h_expand_bn (BatchNormal  (None, 7, 7, 1632)  6528        ['block6h_expand_conv[0][0]']    \n",
      " ization)                                                                                         \n",
      "                                                                                                  \n",
      " block6h_expand_activation (Act  (None, 7, 7, 1632)  0           ['block6h_expand_bn[0][0]']      \n",
      " ivation)                                                                                         \n",
      "                                                                                                  \n",
      " block6h_dwconv (DepthwiseConv2  (None, 7, 7, 1632)  40800       ['block6h_expand_activation[0][0]\n",
      " D)                                                              ']                               \n",
      "                                                                                                  \n",
      " block6h_bn (BatchNormalization  (None, 7, 7, 1632)  6528        ['block6h_dwconv[0][0]']         \n",
      " )                                                                                                \n",
      "                                                                                                  \n",
      " block6h_activation (Activation  (None, 7, 7, 1632)  0           ['block6h_bn[0][0]']             \n",
      " )                                                                                                \n",
      "                                                                                                  \n",
      " block6h_se_squeeze (GlobalAver  (None, 1632)        0           ['block6h_activation[0][0]']     \n",
      " agePooling2D)                                                                                    \n",
      "                                                                                                  \n",
      " block6h_se_reshape (Reshape)   (None, 1, 1, 1632)   0           ['block6h_se_squeeze[0][0]']     \n",
      "                                                                                                  \n",
      " block6h_se_reduce (Conv2D)     (None, 1, 1, 68)     111044      ['block6h_se_reshape[0][0]']     \n",
      "                                                                                                  \n",
      " block6h_se_expand (Conv2D)     (None, 1, 1, 1632)   112608      ['block6h_se_reduce[0][0]']      \n",
      "                                                                                                  \n",
      " block6h_se_excite (Multiply)   (None, 7, 7, 1632)   0           ['block6h_activation[0][0]',     \n",
      "                                                                  'block6h_se_expand[0][0]']      \n",
      "                                                                                                  \n",
      " block6h_project_conv (Conv2D)  (None, 7, 7, 272)    443904      ['block6h_se_excite[0][0]']      \n",
      "                                                                                                  \n",
      " block6h_project_bn (BatchNorma  (None, 7, 7, 272)   1088        ['block6h_project_conv[0][0]']   \n",
      " lization)                                                                                        \n",
      "                                                                                                  \n",
      " block6h_drop (Dropout)         (None, 7, 7, 272)    0           ['block6h_project_bn[0][0]']     \n",
      "                                                                                                  \n",
      " block6h_add (Add)              (None, 7, 7, 272)    0           ['block6h_drop[0][0]',           \n",
      "                                                                  'block6g_add[0][0]']            \n"
     ]
    },
    {
     "name": "stdout",
     "output_type": "stream",
     "text": [
      "                                                                                                  \n",
      " block7a_expand_conv (Conv2D)   (None, 7, 7, 1632)   443904      ['block6h_add[0][0]']            \n",
      "                                                                                                  \n",
      " block7a_expand_bn (BatchNormal  (None, 7, 7, 1632)  6528        ['block7a_expand_conv[0][0]']    \n",
      " ization)                                                                                         \n",
      "                                                                                                  \n",
      " block7a_expand_activation (Act  (None, 7, 7, 1632)  0           ['block7a_expand_bn[0][0]']      \n",
      " ivation)                                                                                         \n",
      "                                                                                                  \n",
      " block7a_dwconv (DepthwiseConv2  (None, 7, 7, 1632)  14688       ['block7a_expand_activation[0][0]\n",
      " D)                                                              ']                               \n",
      "                                                                                                  \n",
      " block7a_bn (BatchNormalization  (None, 7, 7, 1632)  6528        ['block7a_dwconv[0][0]']         \n",
      " )                                                                                                \n",
      "                                                                                                  \n",
      " block7a_activation (Activation  (None, 7, 7, 1632)  0           ['block7a_bn[0][0]']             \n",
      " )                                                                                                \n",
      "                                                                                                  \n",
      " block7a_se_squeeze (GlobalAver  (None, 1632)        0           ['block7a_activation[0][0]']     \n",
      " agePooling2D)                                                                                    \n",
      "                                                                                                  \n",
      " block7a_se_reshape (Reshape)   (None, 1, 1, 1632)   0           ['block7a_se_squeeze[0][0]']     \n",
      "                                                                                                  \n",
      " block7a_se_reduce (Conv2D)     (None, 1, 1, 68)     111044      ['block7a_se_reshape[0][0]']     \n",
      "                                                                                                  \n",
      " block7a_se_expand (Conv2D)     (None, 1, 1, 1632)   112608      ['block7a_se_reduce[0][0]']      \n",
      "                                                                                                  \n",
      " block7a_se_excite (Multiply)   (None, 7, 7, 1632)   0           ['block7a_activation[0][0]',     \n",
      "                                                                  'block7a_se_expand[0][0]']      \n",
      "                                                                                                  \n",
      " block7a_project_conv (Conv2D)  (None, 7, 7, 448)    731136      ['block7a_se_excite[0][0]']      \n",
      "                                                                                                  \n",
      " block7a_project_bn (BatchNorma  (None, 7, 7, 448)   1792        ['block7a_project_conv[0][0]']   \n",
      " lization)                                                                                        \n",
      "                                                                                                  \n",
      " block7b_expand_conv (Conv2D)   (None, 7, 7, 2688)   1204224     ['block7a_project_bn[0][0]']     \n",
      "                                                                                                  \n",
      " block7b_expand_bn (BatchNormal  (None, 7, 7, 2688)  10752       ['block7b_expand_conv[0][0]']    \n",
      " ization)                                                                                         \n",
      "                                                                                                  \n",
      " block7b_expand_activation (Act  (None, 7, 7, 2688)  0           ['block7b_expand_bn[0][0]']      \n",
      " ivation)                                                                                         \n",
      "                                                                                                  \n",
      " block7b_dwconv (DepthwiseConv2  (None, 7, 7, 2688)  24192       ['block7b_expand_activation[0][0]\n",
      " D)                                                              ']                               \n",
      "                                                                                                  \n",
      " block7b_bn (BatchNormalization  (None, 7, 7, 2688)  10752       ['block7b_dwconv[0][0]']         \n",
      " )                                                                                                \n",
      "                                                                                                  \n",
      " block7b_activation (Activation  (None, 7, 7, 2688)  0           ['block7b_bn[0][0]']             \n",
      " )                                                                                                \n",
      "                                                                                                  \n",
      " block7b_se_squeeze (GlobalAver  (None, 2688)        0           ['block7b_activation[0][0]']     \n",
      " agePooling2D)                                                                                    \n",
      "                                                                                                  \n",
      " block7b_se_reshape (Reshape)   (None, 1, 1, 2688)   0           ['block7b_se_squeeze[0][0]']     \n",
      "                                                                                                  \n",
      " block7b_se_reduce (Conv2D)     (None, 1, 1, 112)    301168      ['block7b_se_reshape[0][0]']     \n",
      "                                                                                                  \n",
      " block7b_se_expand (Conv2D)     (None, 1, 1, 2688)   303744      ['block7b_se_reduce[0][0]']      \n",
      "                                                                                                  \n",
      " block7b_se_excite (Multiply)   (None, 7, 7, 2688)   0           ['block7b_activation[0][0]',     \n",
      "                                                                  'block7b_se_expand[0][0]']      \n",
      "                                                                                                  \n",
      " block7b_project_conv (Conv2D)  (None, 7, 7, 448)    1204224     ['block7b_se_excite[0][0]']      \n",
      "                                                                                                  \n",
      " block7b_project_bn (BatchNorma  (None, 7, 7, 448)   1792        ['block7b_project_conv[0][0]']   \n",
      " lization)                                                                                        \n",
      "                                                                                                  \n",
      " block7b_drop (Dropout)         (None, 7, 7, 448)    0           ['block7b_project_bn[0][0]']     \n",
      "                                                                                                  \n",
      " block7b_add (Add)              (None, 7, 7, 448)    0           ['block7b_drop[0][0]',           \n",
      "                                                                  'block7a_project_bn[0][0]']     \n",
      "                                                                                                  \n",
      " top_conv (Conv2D)              (None, 7, 7, 1792)   802816      ['block7b_add[0][0]']            \n",
      "                                                                                                  \n",
      " top_bn (BatchNormalization)    (None, 7, 7, 1792)   7168        ['top_conv[0][0]']               \n",
      "                                                                                                  \n",
      " top_activation (Activation)    (None, 7, 7, 1792)   0           ['top_bn[0][0]']                 \n",
      "                                                                                                  \n",
      " global_average_pooling2d (Glob  (None, 1792)        0           ['top_activation[0][0]']         \n",
      " alAveragePooling2D)                                                                              \n",
      "                                                                                                  \n"
     ]
    },
    {
     "name": "stdout",
     "output_type": "stream",
     "text": [
      " dropout (Dropout)              (None, 1792)         0           ['global_average_pooling2d[0][0]'\n",
      "                                                                 ]                                \n",
      "                                                                                                  \n",
      " dense (Dense)                  (None, 28)           50204       ['dropout[0][0]']                \n",
      "                                                                                                  \n",
      "==================================================================================================\n",
      "Total params: 17,724,027\n",
      "Trainable params: 17,598,820\n",
      "Non-trainable params: 125,207\n",
      "__________________________________________________________________________________________________\n"
     ]
    }
   ],
   "source": [
    "model.summary()"
   ]
  },
  {
   "cell_type": "code",
   "execution_count": 11,
   "metadata": {},
   "outputs": [],
   "source": [
    "def fit_gen(model, model_id, epochs=5):\n",
    "    class_mode = 'binary' if types_num == 2 else 'categorical'\n",
    "    print(\"train from imgs model_id=%s ,class_mode=%s\" % (model_id, class_mode))\n",
    "                \n",
    "    # 创建cache目录\n",
    "    if not os.path.exists(cache_path):\n",
    "        os.mkdir(cache_path)\n",
    "    \n",
    "    weight_path = cache_path + '/weights' + str(model_id) + '.hdf5'\n",
    "    \n",
    "    # EarlyStoppingy原型：\n",
    "    # EarlyStopping(monitor='val_loss', min_delta=0, patience=0, verbose=0, mode='auto', baseline=None, restore_best_weights=False)\n",
    "    early_stop = EarlyStopping(monitor='val_loss', patience=8)\n",
    "    \n",
    "    # ModelCheckpoint原型：\n",
    "    # ModelCheckpoint(filepath, monitor='val_loss', verbose=0, save_best_only=False, save_weights_only=False, mode='auto', period=1)\n",
    "    check_point = ModelCheckpoint(weight_path, monitor='val_loss', save_best_only=True, save_weights_only=True)\n",
    "    \n",
    "    # callbacks设置\n",
    "    callbacks = [early_stop, check_point]\n",
    "    \n",
    "    \n",
    "    history = model.fit(\n",
    "        train_generator,\n",
    "        epochs = epochs,\n",
    "        steps_per_epoch = train_samples // batch_size,\n",
    "        validation_data = test_generator,\n",
    "        validation_steps = valid_samples // batch_size,\n",
    "        callbacks = callbacks)\n",
    "    return history"
   ]
  },
  {
   "cell_type": "code",
   "execution_count": 12,
   "metadata": {},
   "outputs": [],
   "source": [
    "from PIL import ImageFile\n",
    "ImageFile.LOAD_TRUNCATED_IMAGES = True"
   ]
  },
  {
   "cell_type": "code",
   "execution_count": 17,
   "metadata": {},
   "outputs": [],
   "source": [
    "import logging\n",
    "logging.basicConfig(level=logging.INFO)"
   ]
  },
  {
   "cell_type": "code",
   "execution_count": 18,
   "metadata": {
    "scrolled": true
   },
   "outputs": [
    {
     "name": "stderr",
     "output_type": "stream",
     "text": [
      "2022-05-30 14:00:15,094 - DEBUG - Image.py - close - 606 - Error closing: fp\n",
      "2022-05-30 14:00:15,105 - DEBUG - Image.py - close - 606 - Error closing: fp\n",
      "2022-05-30 14:00:15,117 - DEBUG - Image.py - close - 606 - Error closing: fp\n",
      "2022-05-30 14:00:15,129 - DEBUG - Image.py - close - 606 - Error closing: fp\n",
      "2022-05-30 14:00:15,140 - DEBUG - Image.py - close - 606 - Error closing: fp\n",
      "2022-05-30 14:00:15,152 - DEBUG - Image.py - close - 606 - Error closing: fp\n",
      "2022-05-30 14:00:15,165 - DEBUG - Image.py - close - 606 - Error closing: fp\n",
      "2022-05-30 14:00:15,177 - DEBUG - Image.py - close - 606 - Error closing: fp\n",
      "2022-05-30 14:00:15,188 - DEBUG - Image.py - close - 606 - Error closing: fp\n",
      "2022-05-30 14:00:15,200 - DEBUG - Image.py - close - 606 - Error closing: fp\n",
      "2022-05-30 14:00:15,211 - DEBUG - Image.py - close - 606 - Error closing: fp\n",
      "2022-05-30 14:00:15,235 - DEBUG - Image.py - close - 606 - Error closing: fp\n",
      "2022-05-30 14:00:15,246 - DEBUG - Image.py - close - 606 - Error closing: fp\n",
      "2022-05-30 14:00:15,262 - DEBUG - Image.py - close - 606 - Error closing: fp\n",
      "2022-05-30 14:00:15,277 - DEBUG - Image.py - close - 606 - Error closing: fp\n"
     ]
    },
    {
     "name": "stdout",
     "output_type": "stream",
     "text": [
      "train from imgs model_id=2802 ,class_mode=categorical\n"
     ]
    },
    {
     "name": "stderr",
     "output_type": "stream",
     "text": [
      "2022-05-30 14:00:15,292 - DEBUG - Image.py - close - 606 - Error closing: fp\n"
     ]
    },
    {
     "name": "stdout",
     "output_type": "stream",
     "text": [
      "Epoch 1/50\n"
     ]
    },
    {
     "name": "stderr",
     "output_type": "stream",
     "text": [
      "2022-05-30 14:00:15,372 - DEBUG - Image.py - close - 606 - Error closing: fp\n",
      "2022-05-30 14:00:15,386 - DEBUG - Image.py - close - 606 - Error closing: fp\n",
      "2022-05-30 14:00:15,399 - DEBUG - Image.py - close - 606 - Error closing: fp\n",
      "2022-05-30 14:00:15,410 - DEBUG - Image.py - close - 606 - Error closing: fp\n",
      "2022-05-30 14:00:15,421 - DEBUG - Image.py - close - 606 - Error closing: fp\n",
      "2022-05-30 14:00:15,433 - DEBUG - Image.py - close - 606 - Error closing: fp\n",
      "2022-05-30 14:00:15,446 - DEBUG - Image.py - close - 606 - Error closing: fp\n",
      "2022-05-30 14:00:15,458 - DEBUG - Image.py - close - 606 - Error closing: fp\n",
      "2022-05-30 14:00:15,469 - DEBUG - Image.py - close - 606 - Error closing: fp\n",
      "2022-05-30 14:00:15,481 - DEBUG - Image.py - close - 606 - Error closing: fp\n",
      "2022-05-30 14:00:15,492 - DEBUG - Image.py - close - 606 - Error closing: fp\n",
      "2022-05-30 14:00:15,503 - DEBUG - Image.py - close - 606 - Error closing: fp\n",
      "2022-05-30 14:00:15,515 - DEBUG - Image.py - close - 606 - Error closing: fp\n",
      "2022-05-30 14:00:15,527 - DEBUG - Image.py - close - 606 - Error closing: fp\n",
      "2022-05-30 14:00:15,539 - DEBUG - Image.py - close - 606 - Error closing: fp\n",
      "2022-05-30 14:00:15,550 - DEBUG - Image.py - close - 606 - Error closing: fp\n",
      "2022-05-30 14:00:15,566 - DEBUG - Image.py - close - 606 - Error closing: fp\n",
      "2022-05-30 14:00:15,581 - DEBUG - Image.py - close - 606 - Error closing: fp\n",
      "2022-05-30 14:00:15,593 - DEBUG - Image.py - close - 606 - Error closing: fp\n",
      "2022-05-30 14:00:15,608 - DEBUG - Image.py - close - 606 - Error closing: fp\n",
      "2022-05-30 14:00:15,632 - DEBUG - Image.py - close - 606 - Error closing: fp\n",
      "2022-05-30 14:00:15,643 - DEBUG - Image.py - close - 606 - Error closing: fp\n",
      "2022-05-30 14:00:15,654 - DEBUG - Image.py - close - 606 - Error closing: fp\n",
      "2022-05-30 14:00:15,665 - DEBUG - Image.py - close - 606 - Error closing: fp\n",
      "2022-05-30 14:00:15,677 - DEBUG - Image.py - close - 606 - Error closing: fp\n",
      "2022-05-30 14:00:15,689 - DEBUG - Image.py - close - 606 - Error closing: fp\n",
      "2022-05-30 14:00:15,701 - DEBUG - Image.py - close - 606 - Error closing: fp\n",
      "2022-05-30 14:00:15,712 - DEBUG - Image.py - close - 606 - Error closing: fp\n",
      "2022-05-30 14:00:15,724 - DEBUG - Image.py - close - 606 - Error closing: fp\n",
      "2022-05-30 14:00:15,736 - DEBUG - Image.py - close - 606 - Error closing: fp\n",
      "2022-05-30 14:00:15,753 - DEBUG - Image.py - close - 606 - Error closing: fp\n",
      "2022-05-30 14:00:15,764 - DEBUG - Image.py - close - 606 - Error closing: fp\n"
     ]
    },
    {
     "name": "stdout",
     "output_type": "stream",
     "text": [
      "\r",
      "   1/4409 [..............................] - ETA: 56:42 - loss: 3.2208 - accuracy: 0.0625"
     ]
    },
    {
     "name": "stderr",
     "output_type": "stream",
     "text": [
      "2022-05-30 14:00:16,138 - DEBUG - Image.py - close - 606 - Error closing: fp\n",
      "2022-05-30 14:00:16,152 - DEBUG - Image.py - close - 606 - Error closing: fp\n",
      "2022-05-30 14:00:16,163 - DEBUG - Image.py - close - 606 - Error closing: fp\n",
      "2022-05-30 14:00:16,175 - DEBUG - Image.py - close - 606 - Error closing: fp\n",
      "2022-05-30 14:00:16,186 - DEBUG - Image.py - close - 606 - Error closing: fp\n",
      "2022-05-30 14:00:16,201 - DEBUG - Image.py - close - 606 - Error closing: fp\n",
      "2022-05-30 14:00:16,216 - DEBUG - Image.py - close - 606 - Error closing: fp\n",
      "2022-05-30 14:00:16,227 - DEBUG - Image.py - close - 606 - Error closing: fp\n",
      "2022-05-30 14:00:16,238 - DEBUG - Image.py - close - 606 - Error closing: fp\n",
      "2022-05-30 14:00:16,254 - DEBUG - Image.py - close - 606 - Error closing: fp\n",
      "2022-05-30 14:00:16,266 - DEBUG - Image.py - close - 606 - Error closing: fp\n",
      "2022-05-30 14:00:16,282 - DEBUG - Image.py - close - 606 - Error closing: fp\n",
      "2022-05-30 14:00:16,293 - DEBUG - Image.py - close - 606 - Error closing: fp\n",
      "2022-05-30 14:00:16,308 - DEBUG - Image.py - close - 606 - Error closing: fp\n",
      "2022-05-30 14:00:16,319 - DEBUG - Image.py - close - 606 - Error closing: fp\n",
      "2022-05-30 14:00:16,330 - DEBUG - Image.py - close - 606 - Error closing: fp\n"
     ]
    },
    {
     "name": "stdout",
     "output_type": "stream",
     "text": [
      "\b\b\b\b\b\b\b\b\b\b\b\b\b\b\b\b\b\b\b\b\b\b\b\b\b\b\b\b\b\b\b\b\b\b\b\b\b\b\b\b\b\b\b\b\b\b\b\b\b\b\b\b\b\b\b\b\b\b\b\b\b\b\b\b\b\b\b\b\b\b\b\b\b\b\b\b\b\b\b\b\b\b\b\b\b\b\b\b\b\r",
      "   2/4409 [..............................] - ETA: 24:36 - loss: 3.2292 - accuracy: 0.0312"
     ]
    },
    {
     "name": "stderr",
     "output_type": "stream",
     "text": [
      "2022-05-30 14:00:16,473 - DEBUG - Image.py - close - 606 - Error closing: fp\n",
      "2022-05-30 14:00:16,487 - DEBUG - Image.py - close - 606 - Error closing: fp\n",
      "2022-05-30 14:00:16,499 - DEBUG - Image.py - close - 606 - Error closing: fp\n",
      "2022-05-30 14:00:16,510 - DEBUG - Image.py - close - 606 - Error closing: fp\n",
      "2022-05-30 14:00:16,522 - DEBUG - Image.py - close - 606 - Error closing: fp\n",
      "2022-05-30 14:00:16,534 - DEBUG - Image.py - close - 606 - Error closing: fp\n",
      "2022-05-30 14:00:16,545 - DEBUG - Image.py - close - 606 - Error closing: fp\n",
      "2022-05-30 14:00:16,560 - DEBUG - Image.py - close - 606 - Error closing: fp\n",
      "2022-05-30 14:00:16,575 - DEBUG - Image.py - close - 606 - Error closing: fp\n",
      "2022-05-30 14:00:16,586 - DEBUG - Image.py - close - 606 - Error closing: fp\n",
      "2022-05-30 14:00:16,601 - DEBUG - Image.py - close - 606 - Error closing: fp\n",
      "2022-05-30 14:00:16,617 - DEBUG - Image.py - close - 606 - Error closing: fp\n",
      "2022-05-30 14:00:16,628 - DEBUG - Image.py - close - 606 - Error closing: fp\n",
      "2022-05-30 14:00:16,639 - DEBUG - Image.py - close - 606 - Error closing: fp\n",
      "2022-05-30 14:00:16,651 - DEBUG - Image.py - close - 606 - Error closing: fp\n",
      "2022-05-30 14:00:16,662 - DEBUG - Image.py - close - 606 - Error closing: fp\n"
     ]
    },
    {
     "name": "stdout",
     "output_type": "stream",
     "text": [
      "\b\b\b\b\b\b\b\b\b\b\b\b\b\b\b\b\b\b\b\b\b\b\b\b\b\b\b\b\b\b\b\b\b\b\b\b\b\b\b\b\b\b\b\b\b\b\b\b\b\b\b\b\b\b\b\b\b\b\b\b\b\b\b\b\b\b\b\b\b\b\b\b\b\b\b\b\b\b\b\b\b\b\b\b\b\b\b\b\b\r",
      "   3/4409 [..............................] - ETA: 24:42 - loss: 3.2574 - accuracy: 0.0417"
     ]
    },
    {
     "name": "stderr",
     "output_type": "stream",
     "text": [
      "2022-05-30 14:00:16,807 - DEBUG - Image.py - close - 606 - Error closing: fp\n",
      "2022-05-30 14:00:16,822 - DEBUG - Image.py - close - 606 - Error closing: fp\n",
      "2022-05-30 14:00:16,834 - DEBUG - Image.py - close - 606 - Error closing: fp\n",
      "2022-05-30 14:00:16,845 - DEBUG - Image.py - close - 606 - Error closing: fp\n",
      "2022-05-30 14:00:16,856 - DEBUG - Image.py - close - 606 - Error closing: fp\n",
      "2022-05-30 14:00:16,867 - DEBUG - Image.py - close - 606 - Error closing: fp\n",
      "2022-05-30 14:00:16,879 - DEBUG - Image.py - close - 606 - Error closing: fp\n",
      "2022-05-30 14:00:16,893 - DEBUG - Image.py - close - 606 - Error closing: fp\n",
      "2022-05-30 14:00:16,908 - DEBUG - Image.py - close - 606 - Error closing: fp\n",
      "2022-05-30 14:00:16,931 - DEBUG - Image.py - close - 606 - Error closing: fp\n",
      "2022-05-30 14:00:16,942 - DEBUG - Image.py - close - 606 - Error closing: fp\n",
      "2022-05-30 14:00:16,953 - DEBUG - Image.py - close - 606 - Error closing: fp\n",
      "2022-05-30 14:00:16,970 - DEBUG - Image.py - close - 606 - Error closing: fp\n",
      "2022-05-30 14:00:16,981 - DEBUG - Image.py - close - 606 - Error closing: fp\n",
      "2022-05-30 14:00:16,992 - DEBUG - Image.py - close - 606 - Error closing: fp\n",
      "2022-05-30 14:00:17,007 - DEBUG - Image.py - close - 606 - Error closing: fp\n"
     ]
    },
    {
     "name": "stdout",
     "output_type": "stream",
     "text": [
      "\b\b\b\b\b\b\b\b\b\b\b\b\b\b\b\b\b\b\b\b\b\b\b\b\b\b\b\b\b\b\b\b\b\b\b\b\b\b\b\b\b\b\b\b\b\b\b\b\b\b\b\b\b\b\b\b\b\b\b\b\b\b\b\b\b\b\b\b\b\b\b\b\b\b\b\b\b\b\b\b\b\b\b\b\b\b\b\b\b\r",
      "   4/4409 [..............................] - ETA: 24:38 - loss: 3.2709 - accuracy: 0.0469"
     ]
    },
    {
     "name": "stderr",
     "output_type": "stream",
     "text": [
      "2022-05-30 14:00:17,144 - DEBUG - Image.py - close - 606 - Error closing: fp\n",
      "2022-05-30 14:00:17,162 - DEBUG - Image.py - close - 606 - Error closing: fp\n",
      "2022-05-30 14:00:17,173 - DEBUG - Image.py - close - 606 - Error closing: fp\n",
      "2022-05-30 14:00:17,185 - DEBUG - Image.py - close - 606 - Error closing: fp\n",
      "2022-05-30 14:00:17,197 - DEBUG - Image.py - close - 606 - Error closing: fp\n",
      "2022-05-30 14:00:17,208 - DEBUG - Image.py - close - 606 - Error closing: fp\n",
      "2022-05-30 14:00:17,219 - DEBUG - Image.py - close - 606 - Error closing: fp\n",
      "2022-05-30 14:00:17,237 - DEBUG - Image.py - close - 606 - Error closing: fp\n",
      "2022-05-30 14:00:17,262 - DEBUG - Image.py - close - 606 - Error closing: fp\n",
      "2022-05-30 14:00:17,275 - DEBUG - Image.py - close - 606 - Error closing: fp\n",
      "2022-05-30 14:00:17,286 - DEBUG - Image.py - close - 606 - Error closing: fp\n",
      "2022-05-30 14:00:17,298 - DEBUG - Image.py - close - 606 - Error closing: fp\n",
      "2022-05-30 14:00:17,310 - DEBUG - Image.py - close - 606 - Error closing: fp\n",
      "2022-05-30 14:00:17,321 - DEBUG - Image.py - close - 606 - Error closing: fp\n",
      "2022-05-30 14:00:17,333 - DEBUG - Image.py - close - 606 - Error closing: fp\n",
      "2022-05-30 14:00:17,345 - DEBUG - Image.py - close - 606 - Error closing: fp\n"
     ]
    },
    {
     "name": "stdout",
     "output_type": "stream",
     "text": [
      "\b\b\b\b\b\b\b\b\b\b\b\b\b\b\b\b\b\b\b\b\b\b\b\b\b\b\b\b\b\b\b\b\b\b\b\b\b\b\b\b\b\b\b\b\b\b\b\b\b\b\b\b\b\b\b\b\b\b\b\b\b\b\b\b\b\b\b\b\b\b\b\b\b\b\b\b\b\b\b\b\b\b\b\b\b\b\b\b\b\r",
      "   5/4409 [..............................] - ETA: 24:45 - loss: 3.2672 - accuracy: 0.0375"
     ]
    },
    {
     "name": "stderr",
     "output_type": "stream",
     "text": [
      "2022-05-30 14:00:17,484 - DEBUG - Image.py - close - 606 - Error closing: fp\n",
      "2022-05-30 14:00:17,501 - DEBUG - Image.py - close - 606 - Error closing: fp\n",
      "2022-05-30 14:00:17,513 - DEBUG - Image.py - close - 606 - Error closing: fp\n",
      "2022-05-30 14:00:17,525 - DEBUG - Image.py - close - 606 - Error closing: fp\n",
      "2022-05-30 14:00:17,544 - DEBUG - Image.py - close - 606 - Error closing: fp\n",
      "2022-05-30 14:00:17,557 - DEBUG - Image.py - close - 606 - Error closing: fp\n",
      "2022-05-30 14:00:17,570 - DEBUG - Image.py - close - 606 - Error closing: fp\n",
      "2022-05-30 14:00:17,582 - DEBUG - Image.py - close - 606 - Error closing: fp\n",
      "2022-05-30 14:00:17,596 - DEBUG - Image.py - close - 606 - Error closing: fp\n",
      "2022-05-30 14:00:17,607 - DEBUG - Image.py - close - 606 - Error closing: fp\n",
      "2022-05-30 14:00:17,625 - DEBUG - Image.py - close - 606 - Error closing: fp\n",
      "2022-05-30 14:00:17,639 - DEBUG - Image.py - close - 606 - Error closing: fp\n",
      "2022-05-30 14:00:17,651 - DEBUG - Image.py - close - 606 - Error closing: fp\n",
      "2022-05-30 14:00:17,662 - DEBUG - Image.py - close - 606 - Error closing: fp\n",
      "2022-05-30 14:00:17,673 - DEBUG - Image.py - close - 606 - Error closing: fp\n",
      "2022-05-30 14:00:17,684 - DEBUG - Image.py - close - 606 - Error closing: fp\n"
     ]
    },
    {
     "name": "stdout",
     "output_type": "stream",
     "text": [
      "\b\b\b\b\b\b\b\b\b\b\b\b\b\b\b\b\b\b\b\b\b\b\b\b\b\b\b\b\b\b\b\b\b\b\b\b\b\b\b\b\b\b\b\b\b\b\b\b\b\b\b\b\b\b\b\b\b\b\b\b\b\b\b\b\b\b\b\b\b\b\b\b\b\b\b\b\b\b\b\b\b\b\b\b\b\b\b\b\b\r",
      "   6/4409 [..............................] - ETA: 24:42 - loss: 3.2842 - accuracy: 0.0521"
     ]
    },
    {
     "name": "stderr",
     "output_type": "stream",
     "text": [
      "2022-05-30 14:00:17,823 - DEBUG - Image.py - close - 606 - Error closing: fp\n",
      "2022-05-30 14:00:17,837 - DEBUG - Image.py - close - 606 - Error closing: fp\n",
      "2022-05-30 14:00:17,848 - DEBUG - Image.py - close - 606 - Error closing: fp\n",
      "2022-05-30 14:00:17,859 - DEBUG - Image.py - close - 606 - Error closing: fp\n",
      "2022-05-30 14:00:17,871 - DEBUG - Image.py - close - 606 - Error closing: fp\n",
      "2022-05-30 14:00:17,888 - DEBUG - Image.py - close - 606 - Error closing: fp\n",
      "2022-05-30 14:00:17,902 - DEBUG - Image.py - close - 606 - Error closing: fp\n",
      "2022-05-30 14:00:17,914 - DEBUG - Image.py - close - 606 - Error closing: fp\n",
      "2022-05-30 14:00:17,942 - DEBUG - Image.py - close - 606 - Error closing: fp\n",
      "2022-05-30 14:00:17,956 - DEBUG - Image.py - close - 606 - Error closing: fp\n",
      "2022-05-30 14:00:17,967 - DEBUG - Image.py - close - 606 - Error closing: fp\n",
      "2022-05-30 14:00:17,982 - DEBUG - Image.py - close - 606 - Error closing: fp\n",
      "2022-05-30 14:00:17,993 - DEBUG - Image.py - close - 606 - Error closing: fp\n",
      "2022-05-30 14:00:18,006 - DEBUG - Image.py - close - 606 - Error closing: fp\n",
      "2022-05-30 14:00:18,017 - DEBUG - Image.py - close - 606 - Error closing: fp\n",
      "2022-05-30 14:00:18,028 - DEBUG - Image.py - close - 606 - Error closing: fp\n"
     ]
    },
    {
     "name": "stdout",
     "output_type": "stream",
     "text": [
      "\b\b\b\b\b\b\b\b\b\b\b\b\b\b\b\b\b\b\b\b\b\b\b\b\b\b\b\b\b\b\b\b\b\b\b\b\b\b\b\b\b\b\b\b\b\b\b\b\b\b\b\b\b\b\b\b\b\b\b\b\b\b\b\b\b\b\b\b\b\b\b\b\b\b\b\b\b\b\b\b\b\b\b\b\b\b\b\b\b\r",
      "   7/4409 [..............................] - ETA: 24:47 - loss: 3.2728 - accuracy: 0.0625"
     ]
    },
    {
     "name": "stderr",
     "output_type": "stream",
     "text": [
      "2022-05-30 14:00:18,163 - DEBUG - Image.py - close - 606 - Error closing: fp\n",
      "2022-05-30 14:00:18,176 - DEBUG - Image.py - close - 606 - Error closing: fp\n",
      "2022-05-30 14:00:18,192 - DEBUG - Image.py - close - 606 - Error closing: fp\n",
      "2022-05-30 14:00:18,203 - DEBUG - Image.py - close - 606 - Error closing: fp\n",
      "2022-05-30 14:00:18,224 - DEBUG - Image.py - close - 606 - Error closing: fp\n",
      "2022-05-30 14:00:18,236 - DEBUG - Image.py - close - 606 - Error closing: fp\n",
      "2022-05-30 14:00:18,248 - DEBUG - Image.py - close - 606 - Error closing: fp\n",
      "2022-05-30 14:00:18,258 - DEBUG - Image.py - close - 606 - Error closing: fp\n",
      "2022-05-30 14:00:18,273 - DEBUG - Image.py - close - 606 - Error closing: fp\n",
      "2022-05-30 14:00:18,284 - DEBUG - Image.py - close - 606 - Error closing: fp\n",
      "2022-05-30 14:00:18,296 - DEBUG - Image.py - close - 606 - Error closing: fp\n",
      "2022-05-30 14:00:18,308 - DEBUG - Image.py - close - 606 - Error closing: fp\n",
      "2022-05-30 14:00:18,323 - DEBUG - Image.py - close - 606 - Error closing: fp\n",
      "2022-05-30 14:00:18,334 - DEBUG - Image.py - close - 606 - Error closing: fp\n",
      "2022-05-30 14:00:18,346 - DEBUG - Image.py - close - 606 - Error closing: fp\n",
      "2022-05-30 14:00:18,358 - DEBUG - Image.py - close - 606 - Error closing: fp\n"
     ]
    },
    {
     "name": "stdout",
     "output_type": "stream",
     "text": [
      "\b\b\b\b\b\b\b\b\b\b\b\b\b\b\b\b\b\b\b\b\b\b\b\b\b\b\b\b\b\b\b\b\b\b\b\b\b\b\b\b\b\b\b\b\b\b\b\b\b\b\b\b\b\b\b\b\b\b\b\b\b\b\b\b\b\b\b\b\b\b\b\b\b\b\b\b\b\b\b\b\b\b\b\b\b\b\b\b\b\r",
      "   8/4409 [..............................] - ETA: 24:48 - loss: 3.2574 - accuracy: 0.0781"
     ]
    },
    {
     "name": "stderr",
     "output_type": "stream",
     "text": [
      "2022-05-30 14:00:18,503 - DEBUG - Image.py - close - 606 - Error closing: fp\n",
      "2022-05-30 14:00:18,517 - DEBUG - Image.py - close - 606 - Error closing: fp\n",
      "2022-05-30 14:00:18,530 - DEBUG - Image.py - close - 606 - Error closing: fp\n",
      "2022-05-30 14:00:18,546 - DEBUG - Image.py - close - 606 - Error closing: fp\n",
      "2022-05-30 14:00:18,563 - DEBUG - Image.py - close - 606 - Error closing: fp\n",
      "2022-05-30 14:00:18,576 - DEBUG - Image.py - close - 606 - Error closing: fp\n",
      "2022-05-30 14:00:18,588 - DEBUG - Image.py - close - 606 - Error closing: fp\n",
      "2022-05-30 14:00:18,604 - DEBUG - Image.py - close - 606 - Error closing: fp\n",
      "2022-05-30 14:00:18,616 - DEBUG - Image.py - close - 606 - Error closing: fp\n",
      "2022-05-30 14:00:18,627 - DEBUG - Image.py - close - 606 - Error closing: fp\n",
      "2022-05-30 14:00:18,639 - DEBUG - Image.py - close - 606 - Error closing: fp\n",
      "2022-05-30 14:00:18,655 - DEBUG - Image.py - close - 606 - Error closing: fp\n",
      "2022-05-30 14:00:18,666 - DEBUG - Image.py - close - 606 - Error closing: fp\n",
      "2022-05-30 14:00:18,678 - DEBUG - Image.py - close - 606 - Error closing: fp\n",
      "2022-05-30 14:00:18,689 - DEBUG - Image.py - close - 606 - Error closing: fp\n",
      "2022-05-30 14:00:18,700 - DEBUG - Image.py - close - 606 - Error closing: fp\n"
     ]
    },
    {
     "name": "stdout",
     "output_type": "stream",
     "text": [
      "\b\b\b\b\b\b\b\b\b\b\b\b\b\b\b\b\b\b\b\b\b\b\b\b\b\b\b\b\b\b\b\b\b\b\b\b\b\b\b\b\b\b\b\b\b\b\b\b\b\b\b\b\b\b\b\b\b\b\b\b\b\b\b\b\b\b\b\b\b\b\b\b\b\b\b\b\b\b\b\b\b\b\b\b\b\b\b\b\b\r",
      "   9/4409 [..............................] - ETA: 24:46 - loss: 3.2558 - accuracy: 0.0903"
     ]
    },
    {
     "name": "stderr",
     "output_type": "stream",
     "text": [
      "2022-05-30 14:00:18,845 - DEBUG - Image.py - close - 606 - Error closing: fp\n",
      "2022-05-30 14:00:18,858 - DEBUG - Image.py - close - 606 - Error closing: fp\n",
      "2022-05-30 14:00:18,873 - DEBUG - Image.py - close - 606 - Error closing: fp\n",
      "2022-05-30 14:00:18,884 - DEBUG - Image.py - close - 606 - Error closing: fp\n",
      "2022-05-30 14:00:18,896 - DEBUG - Image.py - close - 606 - Error closing: fp\n",
      "2022-05-30 14:00:18,907 - DEBUG - Image.py - close - 606 - Error closing: fp\n",
      "2022-05-30 14:00:18,928 - DEBUG - Image.py - close - 606 - Error closing: fp\n",
      "2022-05-30 14:00:18,942 - DEBUG - Image.py - close - 606 - Error closing: fp\n",
      "2022-05-30 14:00:18,960 - DEBUG - Image.py - close - 606 - Error closing: fp\n",
      "2022-05-30 14:00:18,975 - DEBUG - Image.py - close - 606 - Error closing: fp\n",
      "2022-05-30 14:00:18,989 - DEBUG - Image.py - close - 606 - Error closing: fp\n",
      "2022-05-30 14:00:19,000 - DEBUG - Image.py - close - 606 - Error closing: fp\n",
      "2022-05-30 14:00:19,011 - DEBUG - Image.py - close - 606 - Error closing: fp\n",
      "2022-05-30 14:00:19,022 - DEBUG - Image.py - close - 606 - Error closing: fp\n",
      "2022-05-30 14:00:19,033 - DEBUG - Image.py - close - 606 - Error closing: fp\n",
      "2022-05-30 14:00:19,044 - DEBUG - Image.py - close - 606 - Error closing: fp\n"
     ]
    },
    {
     "name": "stdout",
     "output_type": "stream",
     "text": [
      "\b\b\b\b\b\b\b\b\b\b\b\b\b\b\b\b\b\b\b\b\b\b\b\b\b\b\b\b\b\b\b\b\b\b\b\b\b\b\b\b\b\b\b\b\b\b\b\b\b\b\b\b\b\b\b\b\b\b\b\b\b\b\b\b\b\b\b\b\b\b\b\b\b\b\b\b\b\b\b\b\b\b\b\b\b\b\b\b\b\r",
      "  10/4409 [..............................] - ETA: 24:48 - loss: 3.2569 - accuracy: 0.0875"
     ]
    },
    {
     "name": "stderr",
     "output_type": "stream",
     "text": [
      "2022-05-30 14:00:19,179 - DEBUG - Image.py - close - 606 - Error closing: fp\n",
      "2022-05-30 14:00:19,192 - DEBUG - Image.py - close - 606 - Error closing: fp\n",
      "2022-05-30 14:00:19,210 - DEBUG - Image.py - close - 606 - Error closing: fp\n",
      "2022-05-30 14:00:19,222 - DEBUG - Image.py - close - 606 - Error closing: fp\n",
      "2022-05-30 14:00:19,233 - DEBUG - Image.py - close - 606 - Error closing: fp\n",
      "2022-05-30 14:00:19,244 - DEBUG - Image.py - close - 606 - Error closing: fp\n",
      "2022-05-30 14:00:19,257 - DEBUG - Image.py - close - 606 - Error closing: fp\n",
      "2022-05-30 14:00:19,269 - DEBUG - Image.py - close - 606 - Error closing: fp\n",
      "2022-05-30 14:00:19,287 - DEBUG - Image.py - close - 606 - Error closing: fp\n",
      "2022-05-30 14:00:19,299 - DEBUG - Image.py - close - 606 - Error closing: fp\n",
      "2022-05-30 14:00:19,311 - DEBUG - Image.py - close - 606 - Error closing: fp\n",
      "2022-05-30 14:00:19,323 - DEBUG - Image.py - close - 606 - Error closing: fp\n",
      "2022-05-30 14:00:19,338 - DEBUG - Image.py - close - 606 - Error closing: fp\n",
      "2022-05-30 14:00:19,353 - DEBUG - Image.py - close - 606 - Error closing: fp\n",
      "2022-05-30 14:00:19,364 - DEBUG - Image.py - close - 606 - Error closing: fp\n",
      "2022-05-30 14:00:19,376 - DEBUG - Image.py - close - 606 - Error closing: fp\n"
     ]
    },
    {
     "name": "stdout",
     "output_type": "stream",
     "text": [
      "\b\b\b\b\b\b\b\b\b\b\b\b\b\b\b\b\b\b\b\b\b\b\b\b\b\b\b\b\b\b\b\b\b\b\b\b\b\b\b\b\b\b\b\b\b\b\b\b\b\b\b\b\b\b\b\b\b\b\b\b\b\b\b\b\b\b\b\b\b\b\b\b\b\b\b\b\b\b\b\b\b\b\b\b\b\b\b\b\b\r",
      "  11/4409 [..............................] - ETA: 24:48 - loss: 3.2405 - accuracy: 0.0966"
     ]
    },
    {
     "name": "stderr",
     "output_type": "stream",
     "text": [
      "2022-05-30 14:00:19,518 - DEBUG - Image.py - close - 606 - Error closing: fp\n",
      "2022-05-30 14:00:19,530 - DEBUG - Image.py - close - 606 - Error closing: fp\n",
      "2022-05-30 14:00:19,549 - DEBUG - Image.py - close - 606 - Error closing: fp\n",
      "2022-05-30 14:00:19,561 - DEBUG - Image.py - close - 606 - Error closing: fp\n",
      "2022-05-30 14:00:19,573 - DEBUG - Image.py - close - 606 - Error closing: fp\n",
      "2022-05-30 14:00:19,588 - DEBUG - Image.py - close - 606 - Error closing: fp\n",
      "2022-05-30 14:00:19,599 - DEBUG - Image.py - close - 606 - Error closing: fp\n",
      "2022-05-30 14:00:19,611 - DEBUG - Image.py - close - 606 - Error closing: fp\n",
      "2022-05-30 14:00:19,622 - DEBUG - Image.py - close - 606 - Error closing: fp\n",
      "2022-05-30 14:00:19,634 - DEBUG - Image.py - close - 606 - Error closing: fp\n",
      "2022-05-30 14:00:19,645 - DEBUG - Image.py - close - 606 - Error closing: fp\n",
      "2022-05-30 14:00:19,656 - DEBUG - Image.py - close - 606 - Error closing: fp\n",
      "2022-05-30 14:00:19,668 - DEBUG - Image.py - close - 606 - Error closing: fp\n",
      "2022-05-30 14:00:19,679 - DEBUG - Image.py - close - 606 - Error closing: fp\n",
      "2022-05-30 14:00:19,690 - DEBUG - Image.py - close - 606 - Error closing: fp\n",
      "2022-05-30 14:00:19,702 - DEBUG - Image.py - close - 606 - Error closing: fp\n"
     ]
    },
    {
     "name": "stdout",
     "output_type": "stream",
     "text": [
      "\b\b\b\b\b\b\b\b\b\b\b\b\b\b\b\b\b\b\b\b\b\b\b\b\b\b\b\b\b\b\b\b\b\b\b\b\b\b\b\b\b\b\b\b\b\b\b\b\b\b\b\b\b\b\b\b\b\b\b\b\b\b\b\b\b\b\b\b\b\b\b\b\b\b\b\b\b\b\b\b\b\b\b\b\b\b\b\b\b\r",
      "  12/4409 [..............................] - ETA: 24:52 - loss: 3.2467 - accuracy: 0.0938"
     ]
    },
    {
     "name": "stderr",
     "output_type": "stream",
     "text": [
      "2022-05-30 14:00:19,878 - DEBUG - Image.py - close - 606 - Error closing: fp\n",
      "2022-05-30 14:00:19,894 - DEBUG - Image.py - close - 606 - Error closing: fp\n",
      "2022-05-30 14:00:19,906 - DEBUG - Image.py - close - 606 - Error closing: fp\n",
      "2022-05-30 14:00:19,921 - DEBUG - Image.py - close - 606 - Error closing: fp\n",
      "2022-05-30 14:00:19,935 - DEBUG - Image.py - close - 606 - Error closing: fp\n",
      "2022-05-30 14:00:19,947 - DEBUG - Image.py - close - 606 - Error closing: fp\n",
      "2022-05-30 14:00:19,958 - DEBUG - Image.py - close - 606 - Error closing: fp\n",
      "2022-05-30 14:00:19,971 - DEBUG - Image.py - close - 606 - Error closing: fp\n",
      "2022-05-30 14:00:19,986 - DEBUG - Image.py - close - 606 - Error closing: fp\n",
      "2022-05-30 14:00:20,001 - DEBUG - Image.py - close - 606 - Error closing: fp\n",
      "2022-05-30 14:00:20,015 - DEBUG - Image.py - close - 606 - Error closing: fp\n",
      "2022-05-30 14:00:20,025 - DEBUG - Image.py - close - 606 - Error closing: fp\n",
      "2022-05-30 14:00:20,037 - DEBUG - Image.py - close - 606 - Error closing: fp\n",
      "2022-05-30 14:00:20,047 - DEBUG - Image.py - close - 606 - Error closing: fp\n",
      "2022-05-30 14:00:20,059 - DEBUG - Image.py - close - 606 - Error closing: fp\n",
      "2022-05-30 14:00:20,070 - DEBUG - Image.py - close - 606 - Error closing: fp\n"
     ]
    },
    {
     "name": "stdout",
     "output_type": "stream",
     "text": [
      "\b\b\b\b\b\b\b\b\b\b\b\b\b\b\b\b\b\b\b\b\b\b\b\b\b\b\b\b\b\b\b\b\b\b\b\b\b\b\b\b\b\b\b\b\b\b\b\b\b\b\b\b\b\b\b\b\b\b\b\b\b\b\b\b\b\b\b\b\b\b\b\b\b\b\b\b\b\b\b\b\b\b\b\b\b\b\b\b\b\r",
      "  13/4409 [..............................] - ETA: 24:51 - loss: 3.2450 - accuracy: 0.0962"
     ]
    },
    {
     "name": "stderr",
     "output_type": "stream",
     "text": [
      "2022-05-30 14:00:20,206 - DEBUG - Image.py - close - 606 - Error closing: fp\n",
      "2022-05-30 14:00:20,220 - DEBUG - Image.py - close - 606 - Error closing: fp\n",
      "2022-05-30 14:00:20,231 - DEBUG - Image.py - close - 606 - Error closing: fp\n",
      "2022-05-30 14:00:20,243 - DEBUG - Image.py - close - 606 - Error closing: fp\n",
      "2022-05-30 14:00:20,255 - DEBUG - Image.py - close - 606 - Error closing: fp\n",
      "2022-05-30 14:00:20,266 - DEBUG - Image.py - close - 606 - Error closing: fp\n",
      "2022-05-30 14:00:20,281 - DEBUG - Image.py - close - 606 - Error closing: fp\n",
      "2022-05-30 14:00:20,293 - DEBUG - Image.py - close - 606 - Error closing: fp\n",
      "2022-05-30 14:00:20,304 - DEBUG - Image.py - close - 606 - Error closing: fp\n",
      "2022-05-30 14:00:20,322 - DEBUG - Image.py - close - 606 - Error closing: fp\n",
      "2022-05-30 14:00:20,334 - DEBUG - Image.py - close - 606 - Error closing: fp\n",
      "2022-05-30 14:00:20,358 - DEBUG - Image.py - close - 606 - Error closing: fp\n",
      "2022-05-30 14:00:20,369 - DEBUG - Image.py - close - 606 - Error closing: fp\n",
      "2022-05-30 14:00:20,380 - DEBUG - Image.py - close - 606 - Error closing: fp\n",
      "2022-05-30 14:00:20,391 - DEBUG - Image.py - close - 606 - Error closing: fp\n",
      "2022-05-30 14:00:20,402 - DEBUG - Image.py - close - 606 - Error closing: fp\n"
     ]
    },
    {
     "name": "stdout",
     "output_type": "stream",
     "text": [
      "\b\b\b\b\b\b\b\b\b\b\b\b\b\b\b\b\b\b\b\b\b\b\b\b\b\b\b\b\b\b\b\b\b\b\b\b\b\b\b\b\b\b\b\b\b\b\b\b\b\b\b\b\b\b\b\b\b\b\b\b\b\b\b\b\b\b\b\b\b\b\b\b\b\b\b\b\b\b\b\b\b\b\b\b\b\b\b\b\b\r",
      "  14/4409 [..............................] - ETA: 24:50 - loss: 3.2377 - accuracy: 0.1027"
     ]
    },
    {
     "name": "stderr",
     "output_type": "stream",
     "text": [
      "2022-05-30 14:00:20,544 - DEBUG - Image.py - close - 606 - Error closing: fp\n",
      "2022-05-30 14:00:20,562 - DEBUG - Image.py - close - 606 - Error closing: fp\n",
      "2022-05-30 14:00:20,575 - DEBUG - Image.py - close - 606 - Error closing: fp\n",
      "2022-05-30 14:00:20,586 - DEBUG - Image.py - close - 606 - Error closing: fp\n",
      "2022-05-30 14:00:20,599 - DEBUG - Image.py - close - 606 - Error closing: fp\n",
      "2022-05-30 14:00:20,613 - DEBUG - Image.py - close - 606 - Error closing: fp\n",
      "2022-05-30 14:00:20,630 - DEBUG - Image.py - close - 606 - Error closing: fp\n",
      "2022-05-30 14:00:20,642 - DEBUG - Image.py - close - 606 - Error closing: fp\n",
      "2022-05-30 14:00:20,659 - DEBUG - Image.py - close - 606 - Error closing: fp\n",
      "2022-05-30 14:00:20,670 - DEBUG - Image.py - close - 606 - Error closing: fp\n",
      "2022-05-30 14:00:20,682 - DEBUG - Image.py - close - 606 - Error closing: fp\n",
      "2022-05-30 14:00:20,695 - DEBUG - Image.py - close - 606 - Error closing: fp\n",
      "2022-05-30 14:00:20,711 - DEBUG - Image.py - close - 606 - Error closing: fp\n",
      "2022-05-30 14:00:20,723 - DEBUG - Image.py - close - 606 - Error closing: fp\n",
      "2022-05-30 14:00:20,735 - DEBUG - Image.py - close - 606 - Error closing: fp\n",
      "2022-05-30 14:00:20,750 - DEBUG - Image.py - close - 606 - Error closing: fp\n"
     ]
    },
    {
     "name": "stdout",
     "output_type": "stream",
     "text": [
      "\b\b\b\b\b\b\b\b\b\b\b\b\b\b\b\b\b\b\b\b\b\b\b\b\b\b\b\b\b\b\b\b\b\b\b\b\b\b\b\b\b\b\b\b\b\b\b\b\b\b\b\b\b\b\b\b\b\b\b\b\b\b\b\b\b\b\b\b\b\b\b\b\b\b\b\b\b\b\b\b\b\b\b\b\b\b\b\b\b\r",
      "  15/4409 [..............................] - ETA: 24:49 - loss: 3.2238 - accuracy: 0.1167"
     ]
    },
    {
     "name": "stderr",
     "output_type": "stream",
     "text": [
      "2022-05-30 14:00:20,882 - DEBUG - Image.py - close - 606 - Error closing: fp\n",
      "2022-05-30 14:00:20,898 - DEBUG - Image.py - close - 606 - Error closing: fp\n",
      "2022-05-30 14:00:20,910 - DEBUG - Image.py - close - 606 - Error closing: fp\n",
      "2022-05-30 14:00:20,921 - DEBUG - Image.py - close - 606 - Error closing: fp\n",
      "2022-05-30 14:00:20,936 - DEBUG - Image.py - close - 606 - Error closing: fp\n",
      "2022-05-30 14:00:20,947 - DEBUG - Image.py - close - 606 - Error closing: fp\n",
      "2022-05-30 14:00:20,959 - DEBUG - Image.py - close - 606 - Error closing: fp\n",
      "2022-05-30 14:00:20,973 - DEBUG - Image.py - close - 606 - Error closing: fp\n",
      "2022-05-30 14:00:20,987 - DEBUG - Image.py - close - 606 - Error closing: fp\n",
      "2022-05-30 14:00:21,002 - DEBUG - Image.py - close - 606 - Error closing: fp\n",
      "2022-05-30 14:00:21,016 - DEBUG - Image.py - close - 606 - Error closing: fp\n",
      "2022-05-30 14:00:21,034 - DEBUG - Image.py - close - 606 - Error closing: fp\n",
      "2022-05-30 14:00:21,046 - DEBUG - Image.py - close - 606 - Error closing: fp\n",
      "2022-05-30 14:00:21,056 - DEBUG - Image.py - close - 606 - Error closing: fp\n",
      "2022-05-30 14:00:21,068 - DEBUG - Image.py - close - 606 - Error closing: fp\n",
      "2022-05-30 14:00:21,079 - DEBUG - Image.py - close - 606 - Error closing: fp\n"
     ]
    },
    {
     "name": "stdout",
     "output_type": "stream",
     "text": [
      "\b\b\b\b\b\b\b\b\b\b\b\b\b\b\b\b\b\b\b\b\b\b\b\b\b\b\b\b\b\b\b\b\b\b\b\b\b\b\b\b\b\b\b\b\b\b\b\b\b\b\b\b\b\b\b\b\b\b\b\b\b\b\b\b\b\b\b\b\b\b\b\b\b\b\b\b\b\b\b\b\b\b\b\b\b\b\b\b\b\r",
      "  16/4409 [..............................] - ETA: 24:51 - loss: 3.2162 - accuracy: 0.1133"
     ]
    },
    {
     "name": "stderr",
     "output_type": "stream",
     "text": [
      "2022-05-30 14:00:21,227 - DEBUG - Image.py - close - 606 - Error closing: fp\n",
      "2022-05-30 14:00:21,240 - DEBUG - Image.py - close - 606 - Error closing: fp\n",
      "2022-05-30 14:00:21,257 - DEBUG - Image.py - close - 606 - Error closing: fp\n",
      "2022-05-30 14:00:21,269 - DEBUG - Image.py - close - 606 - Error closing: fp\n",
      "2022-05-30 14:00:21,280 - DEBUG - Image.py - close - 606 - Error closing: fp\n",
      "2022-05-30 14:00:21,291 - DEBUG - Image.py - close - 606 - Error closing: fp\n",
      "2022-05-30 14:00:21,305 - DEBUG - Image.py - close - 606 - Error closing: fp\n",
      "2022-05-30 14:00:21,319 - DEBUG - Image.py - close - 606 - Error closing: fp\n",
      "2022-05-30 14:00:21,332 - DEBUG - Image.py - close - 606 - Error closing: fp\n",
      "2022-05-30 14:00:21,347 - DEBUG - Image.py - close - 606 - Error closing: fp\n",
      "2022-05-30 14:00:21,359 - DEBUG - Image.py - close - 606 - Error closing: fp\n",
      "2022-05-30 14:00:21,381 - DEBUG - Image.py - close - 606 - Error closing: fp\n",
      "2022-05-30 14:00:21,397 - DEBUG - Image.py - close - 606 - Error closing: fp\n",
      "2022-05-30 14:00:21,416 - DEBUG - Image.py - close - 606 - Error closing: fp\n",
      "2022-05-30 14:00:21,430 - DEBUG - Image.py - close - 606 - Error closing: fp\n",
      "2022-05-30 14:00:21,442 - DEBUG - Image.py - close - 606 - Error closing: fp\n"
     ]
    },
    {
     "name": "stdout",
     "output_type": "stream",
     "text": [
      "\b\b\b\b\b\b\b\b\b\b\b\b\b\b\b\b\b\b\b\b\b\b\b\b\b\b\b\b\b\b\b\b\b\b\b\b\b\b\b\b\b\b\b\b\b\b\b\b\b\b\b\b\b\b\b\b\b\b\b\b\b\b\b\b\b\b\b\b\b\b\b\b\b\b\b\b\b\b\b\b\b\b\b\b\b\b\b\b\b\r",
      "  17/4409 [..............................] - ETA: 24:52 - loss: 3.2106 - accuracy: 0.1140"
     ]
    },
    {
     "name": "stderr",
     "output_type": "stream",
     "text": [
      "2022-05-30 14:00:21,571 - DEBUG - Image.py - close - 606 - Error closing: fp\n",
      "2022-05-30 14:00:21,586 - DEBUG - Image.py - close - 606 - Error closing: fp\n",
      "2022-05-30 14:00:21,598 - DEBUG - Image.py - close - 606 - Error closing: fp\n",
      "2022-05-30 14:00:21,609 - DEBUG - Image.py - close - 606 - Error closing: fp\n",
      "2022-05-30 14:00:21,621 - DEBUG - Image.py - close - 606 - Error closing: fp\n",
      "2022-05-30 14:00:21,632 - DEBUG - Image.py - close - 606 - Error closing: fp\n",
      "2022-05-30 14:00:21,644 - DEBUG - Image.py - close - 606 - Error closing: fp\n",
      "2022-05-30 14:00:21,656 - DEBUG - Image.py - close - 606 - Error closing: fp\n",
      "2022-05-30 14:00:21,668 - DEBUG - Image.py - close - 606 - Error closing: fp\n",
      "2022-05-30 14:00:21,680 - DEBUG - Image.py - close - 606 - Error closing: fp\n",
      "2022-05-30 14:00:21,691 - DEBUG - Image.py - close - 606 - Error closing: fp\n",
      "2022-05-30 14:00:21,702 - DEBUG - Image.py - close - 606 - Error closing: fp\n",
      "2022-05-30 14:00:21,716 - DEBUG - Image.py - close - 606 - Error closing: fp\n",
      "2022-05-30 14:00:21,728 - DEBUG - Image.py - close - 606 - Error closing: fp\n",
      "2022-05-30 14:00:21,741 - DEBUG - Image.py - close - 606 - Error closing: fp\n",
      "2022-05-30 14:00:21,752 - DEBUG - Image.py - close - 606 - Error closing: fp\n"
     ]
    },
    {
     "name": "stdout",
     "output_type": "stream",
     "text": [
      "\b\b\b\b\b\b\b\b\b\b\b\b\b\b\b\b\b\b\b\b\b\b\b\b\b\b\b\b\b\b\b\b\b\b\b\b\b\b\b\b\b\b\b\b\b\b\b\b\b\b\b\b\b\b\b\b\b\b\b\b\b\b\b\b\b\b\b\b\b\b\b\b\b\b\b\b\b\b\b\b\b\b\b\b\b\b\b\b\b\r",
      "  18/4409 [..............................] - ETA: 24:50 - loss: 3.2048 - accuracy: 0.1146"
     ]
    },
    {
     "name": "stderr",
     "output_type": "stream",
     "text": [
      "2022-05-30 14:00:21,906 - DEBUG - Image.py - close - 606 - Error closing: fp\n",
      "2022-05-30 14:00:21,919 - DEBUG - Image.py - close - 606 - Error closing: fp\n",
      "2022-05-30 14:00:21,931 - DEBUG - Image.py - close - 606 - Error closing: fp\n",
      "2022-05-30 14:00:21,948 - DEBUG - Image.py - close - 606 - Error closing: fp\n",
      "2022-05-30 14:00:21,972 - DEBUG - Image.py - close - 606 - Error closing: fp\n",
      "2022-05-30 14:00:21,985 - DEBUG - Image.py - close - 606 - Error closing: fp\n",
      "2022-05-30 14:00:21,996 - DEBUG - Image.py - close - 606 - Error closing: fp\n",
      "2022-05-30 14:00:22,009 - DEBUG - Image.py - close - 606 - Error closing: fp\n",
      "2022-05-30 14:00:22,023 - DEBUG - Image.py - close - 606 - Error closing: fp\n",
      "2022-05-30 14:00:22,035 - DEBUG - Image.py - close - 606 - Error closing: fp\n",
      "2022-05-30 14:00:22,046 - DEBUG - Image.py - close - 606 - Error closing: fp\n",
      "2022-05-30 14:00:22,057 - DEBUG - Image.py - close - 606 - Error closing: fp\n",
      "2022-05-30 14:00:22,069 - DEBUG - Image.py - close - 606 - Error closing: fp\n",
      "2022-05-30 14:00:22,086 - DEBUG - Image.py - close - 606 - Error closing: fp\n",
      "2022-05-30 14:00:22,100 - DEBUG - Image.py - close - 606 - Error closing: fp\n",
      "2022-05-30 14:00:22,111 - DEBUG - Image.py - close - 606 - Error closing: fp\n"
     ]
    },
    {
     "name": "stdout",
     "output_type": "stream",
     "text": [
      "\b\b\b\b\b\b\b\b\b\b\b\b\b\b\b\b\b\b\b\b\b\b\b\b\b\b\b\b\b\b\b\b\b\b\b\b\b\b\b\b\b\b\b\b\b\b\b\b\b\b\b\b\b\b\b\b\b\b\b\b\b\b\b\b\b\b\b\b\b\b\b\b\b\b\b\b\b\b\b\b\b\b\b\b\b\b\b\b\b\r",
      "  19/4409 [..............................] - ETA: 24:48 - loss: 3.2094 - accuracy: 0.1118"
     ]
    },
    {
     "name": "stderr",
     "output_type": "stream",
     "text": [
      "2022-05-30 14:00:22,239 - DEBUG - Image.py - close - 606 - Error closing: fp\n",
      "2022-05-30 14:00:22,252 - DEBUG - Image.py - close - 606 - Error closing: fp\n",
      "2022-05-30 14:00:22,264 - DEBUG - Image.py - close - 606 - Error closing: fp\n",
      "2022-05-30 14:00:22,275 - DEBUG - Image.py - close - 606 - Error closing: fp\n",
      "2022-05-30 14:00:22,287 - DEBUG - Image.py - close - 606 - Error closing: fp\n",
      "2022-05-30 14:00:22,298 - DEBUG - Image.py - close - 606 - Error closing: fp\n",
      "2022-05-30 14:00:22,313 - DEBUG - Image.py - close - 606 - Error closing: fp\n",
      "2022-05-30 14:00:22,328 - DEBUG - Image.py - close - 606 - Error closing: fp\n",
      "2022-05-30 14:00:22,341 - DEBUG - Image.py - close - 606 - Error closing: fp\n",
      "2022-05-30 14:00:22,353 - DEBUG - Image.py - close - 606 - Error closing: fp\n",
      "2022-05-30 14:00:22,364 - DEBUG - Image.py - close - 606 - Error closing: fp\n",
      "2022-05-30 14:00:22,375 - DEBUG - Image.py - close - 606 - Error closing: fp\n",
      "2022-05-30 14:00:22,387 - DEBUG - Image.py - close - 606 - Error closing: fp\n",
      "2022-05-30 14:00:22,398 - DEBUG - Image.py - close - 606 - Error closing: fp\n",
      "2022-05-30 14:00:22,409 - DEBUG - Image.py - close - 606 - Error closing: fp\n",
      "2022-05-30 14:00:22,420 - DEBUG - Image.py - close - 606 - Error closing: fp\n"
     ]
    },
    {
     "name": "stdout",
     "output_type": "stream",
     "text": [
      "\b\b\b\b\b\b\b\b\b\b\b\b\b\b\b\b\b\b\b\b\b\b\b\b\b\b\b\b\b\b\b\b\b\b\b\b\b\b\b\b\b\b\b\b\b\b\b\b\b\b\b\b\b\b\b\b\b\b\b\b\b\b\b\b\b\b\b\b\b\b\b\b\b\b\b\b\b\b\b\b\b\b\b\b\b\b\b\b\b\r",
      "  20/4409 [..............................] - ETA: 24:48 - loss: 3.1919 - accuracy: 0.1187"
     ]
    },
    {
     "name": "stderr",
     "output_type": "stream",
     "text": [
      "2022-05-30 14:00:22,576 - DEBUG - Image.py - close - 606 - Error closing: fp\n",
      "2022-05-30 14:00:22,589 - DEBUG - Image.py - close - 606 - Error closing: fp\n",
      "2022-05-30 14:00:22,600 - DEBUG - Image.py - close - 606 - Error closing: fp\n",
      "2022-05-30 14:00:22,611 - DEBUG - Image.py - close - 606 - Error closing: fp\n",
      "2022-05-30 14:00:22,625 - DEBUG - Image.py - close - 606 - Error closing: fp\n",
      "2022-05-30 14:00:22,636 - DEBUG - Image.py - close - 606 - Error closing: fp\n",
      "2022-05-30 14:00:22,647 - DEBUG - Image.py - close - 606 - Error closing: fp\n",
      "2022-05-30 14:00:22,662 - DEBUG - Image.py - close - 606 - Error closing: fp\n",
      "2022-05-30 14:00:22,673 - DEBUG - Image.py - close - 606 - Error closing: fp\n",
      "2022-05-30 14:00:22,687 - DEBUG - Image.py - close - 606 - Error closing: fp\n",
      "2022-05-30 14:00:22,698 - DEBUG - Image.py - close - 606 - Error closing: fp\n",
      "2022-05-30 14:00:22,711 - DEBUG - Image.py - close - 606 - Error closing: fp\n",
      "2022-05-30 14:00:22,723 - DEBUG - Image.py - close - 606 - Error closing: fp\n",
      "2022-05-30 14:00:22,737 - DEBUG - Image.py - close - 606 - Error closing: fp\n",
      "2022-05-30 14:00:22,749 - DEBUG - Image.py - close - 606 - Error closing: fp\n",
      "2022-05-30 14:00:22,761 - DEBUG - Image.py - close - 606 - Error closing: fp\n"
     ]
    },
    {
     "name": "stdout",
     "output_type": "stream",
     "text": [
      "\b\b\b\b\b\b\b\b\b\b\b\b\b\b\b\b\b\b\b\b\b\b\b\b\b\b\b\b\b\b\b\b\b\b\b\b\b\b\b\b\b\b\b\b\b\b\b\b\b\b\b\b\b\b\b\b\b\b\b\b\b\b\b\b\b\b\b\b\b\b\b\b\b\b\b\b\b\b\b\b\b\b\b\b\b\b\b\b\b\r",
      "  21/4409 [..............................] - ETA: 24:46 - loss: 3.1963 - accuracy: 0.1161"
     ]
    },
    {
     "name": "stderr",
     "output_type": "stream",
     "text": [
      "2022-05-30 14:00:22,909 - DEBUG - Image.py - close - 606 - Error closing: fp\n",
      "2022-05-30 14:00:22,924 - DEBUG - Image.py - close - 606 - Error closing: fp\n",
      "2022-05-30 14:00:22,939 - DEBUG - Image.py - close - 606 - Error closing: fp\n",
      "2022-05-30 14:00:22,951 - DEBUG - Image.py - close - 606 - Error closing: fp\n",
      "2022-05-30 14:00:22,963 - DEBUG - Image.py - close - 606 - Error closing: fp\n",
      "2022-05-30 14:00:22,975 - DEBUG - Image.py - close - 606 - Error closing: fp\n",
      "2022-05-30 14:00:22,987 - DEBUG - Image.py - close - 606 - Error closing: fp\n",
      "2022-05-30 14:00:23,002 - DEBUG - Image.py - close - 606 - Error closing: fp\n",
      "2022-05-30 14:00:23,013 - DEBUG - Image.py - close - 606 - Error closing: fp\n",
      "2022-05-30 14:00:23,032 - DEBUG - Image.py - close - 606 - Error closing: fp\n",
      "2022-05-30 14:00:23,044 - DEBUG - Image.py - close - 606 - Error closing: fp\n",
      "2022-05-30 14:00:23,056 - DEBUG - Image.py - close - 606 - Error closing: fp\n",
      "2022-05-30 14:00:23,068 - DEBUG - Image.py - close - 606 - Error closing: fp\n",
      "2022-05-30 14:00:23,080 - DEBUG - Image.py - close - 606 - Error closing: fp\n",
      "2022-05-30 14:00:23,092 - DEBUG - Image.py - close - 606 - Error closing: fp\n",
      "2022-05-30 14:00:23,112 - DEBUG - Image.py - close - 606 - Error closing: fp\n"
     ]
    },
    {
     "name": "stdout",
     "output_type": "stream",
     "text": [
      "\b\b\b\b\b\b\b\b\b\b\b\b\b\b\b\b\b\b\b\b\b\b\b\b\b\b\b\b\b\b\b\b\b\b\b\b\b\b\b\b\b\b\b\b\b\b\b\b\b\b\b\b\b\b\b\b\b\b\b\b\b\b\b\b\b\b\b\b\b\b\b\b\b\b\b\b\b\b\b\b\b\b\b\b\b\b\b\b\b\r",
      "  22/4409 [..............................] - ETA: 24:47 - loss: 3.1961 - accuracy: 0.1165"
     ]
    },
    {
     "name": "stderr",
     "output_type": "stream",
     "text": [
      "2022-05-30 14:00:23,257 - DEBUG - Image.py - close - 606 - Error closing: fp\n",
      "2022-05-30 14:00:23,274 - DEBUG - Image.py - close - 606 - Error closing: fp\n",
      "2022-05-30 14:00:23,286 - DEBUG - Image.py - close - 606 - Error closing: fp\n",
      "2022-05-30 14:00:23,298 - DEBUG - Image.py - close - 606 - Error closing: fp\n",
      "2022-05-30 14:00:23,309 - DEBUG - Image.py - close - 606 - Error closing: fp\n",
      "2022-05-30 14:00:23,321 - DEBUG - Image.py - close - 606 - Error closing: fp\n",
      "2022-05-30 14:00:23,332 - DEBUG - Image.py - close - 606 - Error closing: fp\n",
      "2022-05-30 14:00:23,347 - DEBUG - Image.py - close - 606 - Error closing: fp\n",
      "2022-05-30 14:00:23,359 - DEBUG - Image.py - close - 606 - Error closing: fp\n",
      "2022-05-30 14:00:23,372 - DEBUG - Image.py - close - 606 - Error closing: fp\n",
      "2022-05-30 14:00:23,384 - DEBUG - Image.py - close - 606 - Error closing: fp\n",
      "2022-05-30 14:00:23,395 - DEBUG - Image.py - close - 606 - Error closing: fp\n",
      "2022-05-30 14:00:23,407 - DEBUG - Image.py - close - 606 - Error closing: fp\n",
      "2022-05-30 14:00:23,420 - DEBUG - Image.py - close - 606 - Error closing: fp\n",
      "2022-05-30 14:00:23,431 - DEBUG - Image.py - close - 606 - Error closing: fp\n",
      "2022-05-30 14:00:23,443 - DEBUG - Image.py - close - 606 - Error closing: fp\n"
     ]
    },
    {
     "name": "stdout",
     "output_type": "stream",
     "text": [
      "\b\b\b\b\b\b\b\b\b\b\b\b\b\b\b\b\b\b\b\b\b\b\b\b\b\b\b\b\b\b\b\b\b\b\b\b\b\b\b\b\b\b\b\b\b\b\b\b\b\b\b\b\b\b\b\b\b\b\b\b\b\b\b\b\b\b\b\b\b\b\b\b\b\b\b\b\b\b\b\b\b\b\b\b\b\b\b\b\b\r",
      "  23/4409 [..............................] - ETA: 24:47 - loss: 3.1982 - accuracy: 0.1114"
     ]
    },
    {
     "name": "stderr",
     "output_type": "stream",
     "text": [
      "2022-05-30 14:00:23,599 - DEBUG - Image.py - close - 606 - Error closing: fp\n",
      "2022-05-30 14:00:23,612 - DEBUG - Image.py - close - 606 - Error closing: fp\n",
      "2022-05-30 14:00:23,624 - DEBUG - Image.py - close - 606 - Error closing: fp\n",
      "2022-05-30 14:00:23,636 - DEBUG - Image.py - close - 606 - Error closing: fp\n",
      "2022-05-30 14:00:23,648 - DEBUG - Image.py - close - 606 - Error closing: fp\n",
      "2022-05-30 14:00:23,662 - DEBUG - Image.py - close - 606 - Error closing: fp\n",
      "2022-05-30 14:00:23,673 - DEBUG - Image.py - close - 606 - Error closing: fp\n",
      "2022-05-30 14:00:23,684 - DEBUG - Image.py - close - 606 - Error closing: fp\n",
      "2022-05-30 14:00:23,696 - DEBUG - Image.py - close - 606 - Error closing: fp\n",
      "2022-05-30 14:00:23,714 - DEBUG - Image.py - close - 606 - Error closing: fp\n",
      "2022-05-30 14:00:23,728 - DEBUG - Image.py - close - 606 - Error closing: fp\n",
      "2022-05-30 14:00:23,739 - DEBUG - Image.py - close - 606 - Error closing: fp\n",
      "2022-05-30 14:00:23,750 - DEBUG - Image.py - close - 606 - Error closing: fp\n",
      "2022-05-30 14:00:23,764 - DEBUG - Image.py - close - 606 - Error closing: fp\n",
      "2022-05-30 14:00:23,775 - DEBUG - Image.py - close - 606 - Error closing: fp\n",
      "2022-05-30 14:00:23,786 - DEBUG - Image.py - close - 606 - Error closing: fp\n"
     ]
    },
    {
     "name": "stdout",
     "output_type": "stream",
     "text": [
      "\b\b\b\b\b\b\b\b\b\b\b\b\b\b\b\b\b\b\b\b\b\b\b\b\b\b\b\b\b\b\b\b\b\b\b\b\b\b\b\b\b\b\b\b\b\b\b\b\b\b\b\b\b\b\b\b\b\b\b\b\b\b\b\b\b\b\b\b\b\b\b\b\b\b\b\b\b\b\b\b\b\b\b\b\b\b\b\b\b\r",
      "  24/4409 [..............................] - ETA: 24:46 - loss: 3.2036 - accuracy: 0.1094"
     ]
    },
    {
     "name": "stderr",
     "output_type": "stream",
     "text": [
      "2022-05-30 14:00:23,929 - DEBUG - Image.py - close - 606 - Error closing: fp\n",
      "2022-05-30 14:00:23,944 - DEBUG - Image.py - close - 606 - Error closing: fp\n",
      "2022-05-30 14:00:23,955 - DEBUG - Image.py - close - 606 - Error closing: fp\n",
      "2022-05-30 14:00:23,967 - DEBUG - Image.py - close - 606 - Error closing: fp\n",
      "2022-05-30 14:00:23,980 - DEBUG - Image.py - close - 606 - Error closing: fp\n",
      "2022-05-30 14:00:23,994 - DEBUG - Image.py - close - 606 - Error closing: fp\n",
      "2022-05-30 14:00:24,004 - DEBUG - Image.py - close - 606 - Error closing: fp\n",
      "2022-05-30 14:00:24,018 - DEBUG - Image.py - close - 606 - Error closing: fp\n",
      "2022-05-30 14:00:24,029 - DEBUG - Image.py - close - 606 - Error closing: fp\n",
      "2022-05-30 14:00:24,041 - DEBUG - Image.py - close - 606 - Error closing: fp\n",
      "2022-05-30 14:00:24,053 - DEBUG - Image.py - close - 606 - Error closing: fp\n",
      "2022-05-30 14:00:24,064 - DEBUG - Image.py - close - 606 - Error closing: fp\n",
      "2022-05-30 14:00:24,080 - DEBUG - Image.py - close - 606 - Error closing: fp\n",
      "2022-05-30 14:00:24,091 - DEBUG - Image.py - close - 606 - Error closing: fp\n",
      "2022-05-30 14:00:24,104 - DEBUG - Image.py - close - 606 - Error closing: fp\n",
      "2022-05-30 14:00:24,115 - DEBUG - Image.py - close - 606 - Error closing: fp\n"
     ]
    },
    {
     "name": "stdout",
     "output_type": "stream",
     "text": [
      "\b\b\b\b\b\b\b\b\b\b\b\b\b\b\b\b\b\b\b\b\b\b\b\b\b\b\b\b\b\b\b\b\b\b\b\b\b\b\b\b\b\b\b\b\b\b\b\b\b\b\b\b\b\b\b\b\b\b\b\b\b\b\b\b\b\b\b\b\b\b\b\b\b\b\b\b\b\b\b\b\b\b\b\b\b\b\b\b\b\r",
      "  25/4409 [..............................] - ETA: 24:44 - loss: 3.2050 - accuracy: 0.1100"
     ]
    },
    {
     "name": "stderr",
     "output_type": "stream",
     "text": [
      "2022-05-30 14:00:24,260 - DEBUG - Image.py - close - 606 - Error closing: fp\n",
      "2022-05-30 14:00:24,274 - DEBUG - Image.py - close - 606 - Error closing: fp\n",
      "2022-05-30 14:00:24,286 - DEBUG - Image.py - close - 606 - Error closing: fp\n",
      "2022-05-30 14:00:24,296 - DEBUG - Image.py - close - 606 - Error closing: fp\n",
      "2022-05-30 14:00:24,309 - DEBUG - Image.py - close - 606 - Error closing: fp\n",
      "2022-05-30 14:00:24,325 - DEBUG - Image.py - close - 606 - Error closing: fp\n",
      "2022-05-30 14:00:24,336 - DEBUG - Image.py - close - 606 - Error closing: fp\n",
      "2022-05-30 14:00:24,348 - DEBUG - Image.py - close - 606 - Error closing: fp\n",
      "2022-05-30 14:00:24,360 - DEBUG - Image.py - close - 606 - Error closing: fp\n",
      "2022-05-30 14:00:24,371 - DEBUG - Image.py - close - 606 - Error closing: fp\n",
      "2022-05-30 14:00:24,386 - DEBUG - Image.py - close - 606 - Error closing: fp\n",
      "2022-05-30 14:00:24,397 - DEBUG - Image.py - close - 606 - Error closing: fp\n",
      "2022-05-30 14:00:24,408 - DEBUG - Image.py - close - 606 - Error closing: fp\n",
      "2022-05-30 14:00:24,421 - DEBUG - Image.py - close - 606 - Error closing: fp\n",
      "2022-05-30 14:00:24,431 - DEBUG - Image.py - close - 606 - Error closing: fp\n",
      "2022-05-30 14:00:24,442 - DEBUG - Image.py - close - 606 - Error closing: fp\n"
     ]
    },
    {
     "name": "stdout",
     "output_type": "stream",
     "text": [
      "\b\b\b\b\b\b\b\b\b\b\b\b\b\b\b\b\b\b\b\b\b\b\b\b\b\b\b\b\b\b\b\b\b\b\b\b\b\b\b\b\b\b\b\b\b\b\b\b\b\b\b\b\b\b\b\b\b\b\b\b\b\b\b\b\b\b\b\b\b\b\b\b\b\b\b\b\b\b\b\b\b\b\b\b\b\b\b\b\b\r",
      "  26/4409 [..............................] - ETA: 24:44 - loss: 3.1987 - accuracy: 0.1082"
     ]
    },
    {
     "name": "stderr",
     "output_type": "stream",
     "text": [
      "2022-05-30 14:00:24,600 - DEBUG - Image.py - close - 606 - Error closing: fp\n",
      "2022-05-30 14:00:24,614 - DEBUG - Image.py - close - 606 - Error closing: fp\n",
      "2022-05-30 14:00:24,625 - DEBUG - Image.py - close - 606 - Error closing: fp\n",
      "2022-05-30 14:00:24,637 - DEBUG - Image.py - close - 606 - Error closing: fp\n",
      "2022-05-30 14:00:24,648 - DEBUG - Image.py - close - 606 - Error closing: fp\n",
      "2022-05-30 14:00:24,659 - DEBUG - Image.py - close - 606 - Error closing: fp\n",
      "2022-05-30 14:00:24,671 - DEBUG - Image.py - close - 606 - Error closing: fp\n",
      "2022-05-30 14:00:24,683 - DEBUG - Image.py - close - 606 - Error closing: fp\n",
      "2022-05-30 14:00:24,700 - DEBUG - Image.py - close - 606 - Error closing: fp\n",
      "2022-05-30 14:00:24,712 - DEBUG - Image.py - close - 606 - Error closing: fp\n",
      "2022-05-30 14:00:24,726 - DEBUG - Image.py - close - 606 - Error closing: fp\n",
      "2022-05-30 14:00:24,737 - DEBUG - Image.py - close - 606 - Error closing: fp\n",
      "2022-05-30 14:00:24,749 - DEBUG - Image.py - close - 606 - Error closing: fp\n",
      "2022-05-30 14:00:24,764 - DEBUG - Image.py - close - 606 - Error closing: fp\n",
      "2022-05-30 14:00:24,775 - DEBUG - Image.py - close - 606 - Error closing: fp\n",
      "2022-05-30 14:00:24,786 - DEBUG - Image.py - close - 606 - Error closing: fp\n"
     ]
    },
    {
     "name": "stdout",
     "output_type": "stream",
     "text": [
      "\b\b\b\b\b\b\b\b\b\b\b\b\b\b\b\b\b\b\b\b\b\b\b\b\b\b\b\b\b\b\b\b\b\b\b\b\b\b\b\b\b\b\b\b\b\b\b\b\b\b\b\b\b\b\b\b\b\b\b\b\b\b\b\b\b\b\b\b\b\b\b\b\b\b\b\b\b\b\b\b\b\b\b\b\b\b\b\b\b\r",
      "  27/4409 [..............................] - ETA: 24:44 - loss: 3.2018 - accuracy: 0.1088"
     ]
    },
    {
     "name": "stderr",
     "output_type": "stream",
     "text": [
      "2022-05-30 14:00:24,951 - DEBUG - Image.py - close - 606 - Error closing: fp\n",
      "2022-05-30 14:00:24,968 - DEBUG - Image.py - close - 606 - Error closing: fp\n",
      "2022-05-30 14:00:24,985 - DEBUG - Image.py - close - 606 - Error closing: fp\n",
      "2022-05-30 14:00:24,997 - DEBUG - Image.py - close - 606 - Error closing: fp\n",
      "2022-05-30 14:00:25,011 - DEBUG - Image.py - close - 606 - Error closing: fp\n",
      "2022-05-30 14:00:25,022 - DEBUG - Image.py - close - 606 - Error closing: fp\n",
      "2022-05-30 14:00:25,037 - DEBUG - Image.py - close - 606 - Error closing: fp\n",
      "2022-05-30 14:00:25,051 - DEBUG - Image.py - close - 606 - Error closing: fp\n",
      "2022-05-30 14:00:25,063 - DEBUG - Image.py - close - 606 - Error closing: fp\n",
      "2022-05-30 14:00:25,074 - DEBUG - Image.py - close - 606 - Error closing: fp\n",
      "2022-05-30 14:00:25,086 - DEBUG - Image.py - close - 606 - Error closing: fp\n",
      "2022-05-30 14:00:25,108 - DEBUG - Image.py - close - 606 - Error closing: fp\n",
      "2022-05-30 14:00:25,120 - DEBUG - Image.py - close - 606 - Error closing: fp\n",
      "2022-05-30 14:00:25,131 - DEBUG - Image.py - close - 606 - Error closing: fp\n",
      "2022-05-30 14:00:25,142 - DEBUG - Image.py - close - 606 - Error closing: fp\n",
      "2022-05-30 14:00:25,153 - DEBUG - Image.py - close - 606 - Error closing: fp\n"
     ]
    },
    {
     "name": "stdout",
     "output_type": "stream",
     "text": [
      "\b\b\b\b\b\b\b\b\b\b\b\b\b\b\b\b\b\b\b\b\b\b\b\b\b\b\b\b\b\b\b\b\b\b\b\b\b\b\b\b\b\b\b\b\b\b\b\b\b\b\b\b\b\b\b\b\b\b\b\b\b\b\b\b\b\b\b\b\b\b\b\b\b\b\b\b\b\b\b\b\b\b\b\b\b\b\b\b\b\r",
      "  28/4409 [..............................] - ETA: 24:44 - loss: 3.1930 - accuracy: 0.1161"
     ]
    },
    {
     "name": "stderr",
     "output_type": "stream",
     "text": [
      "2022-05-30 14:00:25,286 - DEBUG - Image.py - close - 606 - Error closing: fp\n",
      "2022-05-30 14:00:25,299 - DEBUG - Image.py - close - 606 - Error closing: fp\n",
      "2022-05-30 14:00:25,311 - DEBUG - Image.py - close - 606 - Error closing: fp\n",
      "2022-05-30 14:00:25,326 - DEBUG - Image.py - close - 606 - Error closing: fp\n",
      "2022-05-30 14:00:25,340 - DEBUG - Image.py - close - 606 - Error closing: fp\n",
      "2022-05-30 14:00:25,352 - DEBUG - Image.py - close - 606 - Error closing: fp\n",
      "2022-05-30 14:00:25,364 - DEBUG - Image.py - close - 606 - Error closing: fp\n",
      "2022-05-30 14:00:25,379 - DEBUG - Image.py - close - 606 - Error closing: fp\n",
      "2022-05-30 14:00:25,393 - DEBUG - Image.py - close - 606 - Error closing: fp\n",
      "2022-05-30 14:00:25,408 - DEBUG - Image.py - close - 606 - Error closing: fp\n",
      "2022-05-30 14:00:25,422 - DEBUG - Image.py - close - 606 - Error closing: fp\n",
      "2022-05-30 14:00:25,435 - DEBUG - Image.py - close - 606 - Error closing: fp\n",
      "2022-05-30 14:00:25,450 - DEBUG - Image.py - close - 606 - Error closing: fp\n",
      "2022-05-30 14:00:25,461 - DEBUG - Image.py - close - 606 - Error closing: fp\n",
      "2022-05-30 14:00:25,472 - DEBUG - Image.py - close - 606 - Error closing: fp\n",
      "2022-05-30 14:00:25,484 - DEBUG - Image.py - close - 606 - Error closing: fp\n"
     ]
    },
    {
     "name": "stdout",
     "output_type": "stream",
     "text": [
      "\b\b\b\b\b\b\b\b\b\b\b\b\b\b\b\b\b\b\b\b\b\b\b\b\b\b\b\b\b\b\b\b\b\b\b\b\b\b\b\b\b\b\b\b\b\b\b\b\b\b\b\b\b\b\b\b\b\b\b\b\b\b\b\b\b\b\b\b\b\b\b\b\b\b\b\b\b\b\b\b\b\b\b\b\b\b\b\b\b\r",
      "  29/4409 [..............................] - ETA: 24:44 - loss: 3.1933 - accuracy: 0.1164"
     ]
    },
    {
     "name": "stderr",
     "output_type": "stream",
     "text": [
      "2022-05-30 14:00:25,629 - DEBUG - Image.py - close - 606 - Error closing: fp\n",
      "2022-05-30 14:00:25,642 - DEBUG - Image.py - close - 606 - Error closing: fp\n",
      "2022-05-30 14:00:25,655 - DEBUG - Image.py - close - 606 - Error closing: fp\n",
      "2022-05-30 14:00:25,666 - DEBUG - Image.py - close - 606 - Error closing: fp\n",
      "2022-05-30 14:00:25,678 - DEBUG - Image.py - close - 606 - Error closing: fp\n",
      "2022-05-30 14:00:25,699 - DEBUG - Image.py - close - 606 - Error closing: fp\n",
      "2022-05-30 14:00:25,719 - DEBUG - Image.py - close - 606 - Error closing: fp\n",
      "2022-05-30 14:00:25,737 - DEBUG - Image.py - close - 606 - Error closing: fp\n",
      "2022-05-30 14:00:25,748 - DEBUG - Image.py - close - 606 - Error closing: fp\n",
      "2022-05-30 14:00:25,760 - DEBUG - Image.py - close - 606 - Error closing: fp\n",
      "2022-05-30 14:00:25,772 - DEBUG - Image.py - close - 606 - Error closing: fp\n",
      "2022-05-30 14:00:25,785 - DEBUG - Image.py - close - 606 - Error closing: fp\n",
      "2022-05-30 14:00:25,797 - DEBUG - Image.py - close - 606 - Error closing: fp\n",
      "2022-05-30 14:00:25,808 - DEBUG - Image.py - close - 606 - Error closing: fp\n",
      "2022-05-30 14:00:25,819 - DEBUG - Image.py - close - 606 - Error closing: fp\n",
      "2022-05-30 14:00:25,832 - DEBUG - Image.py - close - 606 - Error closing: fp\n"
     ]
    },
    {
     "name": "stdout",
     "output_type": "stream",
     "text": [
      "\b\b\b\b\b\b\b\b\b\b\b\b\b\b\b\b\b\b\b\b\b\b\b\b\b\b\b\b\b\b\b\b\b\b\b\b\b\b\b\b\b\b\b\b\b\b\b\b\b\b\b\b\b\b\b\b\b\b\b\b\b\b\b\b\b\b\b\b\b\b\b\b\b\b\b\b\b\b\b\b\b\b\b\b\b\b\b\b\b\r",
      "  30/4409 [..............................] - ETA: 24:44 - loss: 3.1934 - accuracy: 0.1187"
     ]
    },
    {
     "name": "stderr",
     "output_type": "stream",
     "text": [
      "2022-05-30 14:00:25,968 - DEBUG - Image.py - close - 606 - Error closing: fp\n",
      "2022-05-30 14:00:25,983 - DEBUG - Image.py - close - 606 - Error closing: fp\n",
      "2022-05-30 14:00:25,995 - DEBUG - Image.py - close - 606 - Error closing: fp\n",
      "2022-05-30 14:00:26,006 - DEBUG - Image.py - close - 606 - Error closing: fp\n",
      "2022-05-30 14:00:26,020 - DEBUG - Image.py - close - 606 - Error closing: fp\n",
      "2022-05-30 14:00:26,032 - DEBUG - Image.py - close - 606 - Error closing: fp\n",
      "2022-05-30 14:00:26,044 - DEBUG - Image.py - close - 606 - Error closing: fp\n",
      "2022-05-30 14:00:26,056 - DEBUG - Image.py - close - 606 - Error closing: fp\n",
      "2022-05-30 14:00:26,067 - DEBUG - Image.py - close - 606 - Error closing: fp\n",
      "2022-05-30 14:00:26,079 - DEBUG - Image.py - close - 606 - Error closing: fp\n",
      "2022-05-30 14:00:26,092 - DEBUG - Image.py - close - 606 - Error closing: fp\n",
      "2022-05-30 14:00:26,108 - DEBUG - Image.py - close - 606 - Error closing: fp\n",
      "2022-05-30 14:00:26,120 - DEBUG - Image.py - close - 606 - Error closing: fp\n",
      "2022-05-30 14:00:26,131 - DEBUG - Image.py - close - 606 - Error closing: fp\n",
      "2022-05-30 14:00:26,143 - DEBUG - Image.py - close - 606 - Error closing: fp\n",
      "2022-05-30 14:00:26,155 - DEBUG - Image.py - close - 606 - Error closing: fp\n"
     ]
    },
    {
     "name": "stdout",
     "output_type": "stream",
     "text": [
      "\b\b\b\b\b\b\b\b\b\b\b\b\b\b\b\b\b\b\b\b\b\b\b\b\b\b\b\b\b\b\b\b\b\b\b\b\b\b\b\b\b\b\b\b\b\b\b\b\b\b\b\b\b\b\b\b\b\b\b\b\b\b\b\b\b\b\b\b\b\b\b\b\b\b\b\b\b\b\b\b\b\b\b\b\b\b\b\b\b\r",
      "  31/4409 [..............................] - ETA: 24:43 - loss: 3.1894 - accuracy: 0.1169"
     ]
    },
    {
     "name": "stderr",
     "output_type": "stream",
     "text": [
      "2022-05-30 14:00:26,298 - DEBUG - Image.py - close - 606 - Error closing: fp\n",
      "2022-05-30 14:00:26,311 - DEBUG - Image.py - close - 606 - Error closing: fp\n",
      "2022-05-30 14:00:26,323 - DEBUG - Image.py - close - 606 - Error closing: fp\n",
      "2022-05-30 14:00:26,335 - DEBUG - Image.py - close - 606 - Error closing: fp\n",
      "2022-05-30 14:00:26,347 - DEBUG - Image.py - close - 606 - Error closing: fp\n",
      "2022-05-30 14:00:26,359 - DEBUG - Image.py - close - 606 - Error closing: fp\n",
      "2022-05-30 14:00:26,370 - DEBUG - Image.py - close - 606 - Error closing: fp\n",
      "2022-05-30 14:00:26,387 - DEBUG - Image.py - close - 606 - Error closing: fp\n",
      "2022-05-30 14:00:26,402 - DEBUG - Image.py - close - 606 - Error closing: fp\n",
      "2022-05-30 14:00:26,419 - DEBUG - Image.py - close - 606 - Error closing: fp\n",
      "2022-05-30 14:00:26,430 - DEBUG - Image.py - close - 606 - Error closing: fp\n",
      "2022-05-30 14:00:26,443 - DEBUG - Image.py - close - 606 - Error closing: fp\n",
      "2022-05-30 14:00:26,457 - DEBUG - Image.py - close - 606 - Error closing: fp\n",
      "2022-05-30 14:00:26,470 - DEBUG - Image.py - close - 606 - Error closing: fp\n",
      "2022-05-30 14:00:26,482 - DEBUG - Image.py - close - 606 - Error closing: fp\n",
      "2022-05-30 14:00:26,495 - DEBUG - Image.py - close - 606 - Error closing: fp\n"
     ]
    },
    {
     "name": "stdout",
     "output_type": "stream",
     "text": [
      "\b\b\b\b\b\b\b\b\b\b\b\b\b\b\b\b\b\b\b\b\b\b\b\b\b\b\b\b\b\b\b\b\b\b\b\b\b\b\b\b\b\b\b\b\b\b\b\b\b\b\b\b\b\b\b\b\b\b\b\b\b\b\b\b\b\b\b\b\b\b\b\b\b\b\b\b\b\b\b\b\b\b\b\b\b\b\b\b\b\r",
      "  32/4409 [..............................] - ETA: 24:41 - loss: 3.1895 - accuracy: 0.1152"
     ]
    },
    {
     "name": "stderr",
     "output_type": "stream",
     "text": [
      "2022-05-30 14:00:26,632 - DEBUG - Image.py - close - 606 - Error closing: fp\n",
      "2022-05-30 14:00:26,647 - DEBUG - Image.py - close - 606 - Error closing: fp\n",
      "2022-05-30 14:00:26,660 - DEBUG - Image.py - close - 606 - Error closing: fp\n",
      "2022-05-30 14:00:26,672 - DEBUG - Image.py - close - 606 - Error closing: fp\n",
      "2022-05-30 14:00:26,683 - DEBUG - Image.py - close - 606 - Error closing: fp\n",
      "2022-05-30 14:00:26,696 - DEBUG - Image.py - close - 606 - Error closing: fp\n",
      "2022-05-30 14:00:26,716 - DEBUG - Image.py - close - 606 - Error closing: fp\n",
      "2022-05-30 14:00:26,728 - DEBUG - Image.py - close - 606 - Error closing: fp\n",
      "2022-05-30 14:00:26,740 - DEBUG - Image.py - close - 606 - Error closing: fp\n",
      "2022-05-30 14:00:26,756 - DEBUG - Image.py - close - 606 - Error closing: fp\n",
      "2022-05-30 14:00:26,767 - DEBUG - Image.py - close - 606 - Error closing: fp\n",
      "2022-05-30 14:00:26,787 - DEBUG - Image.py - close - 606 - Error closing: fp\n"
     ]
    },
    {
     "ename": "KeyboardInterrupt",
     "evalue": "",
     "output_type": "error",
     "traceback": [
      "\u001b[1;31m---------------------------------------------------------------------------\u001b[0m",
      "\u001b[1;31mKeyboardInterrupt\u001b[0m                         Traceback (most recent call last)",
      "\u001b[1;32mC:\\Users\\ADMINI~1\\AppData\\Local\\Temp/ipykernel_12460/3366380130.py\u001b[0m in \u001b[0;36m<module>\u001b[1;34m\u001b[0m\n\u001b[1;32m----> 1\u001b[1;33m \u001b[0mhistory\u001b[0m \u001b[1;33m=\u001b[0m \u001b[0mfit_gen\u001b[0m\u001b[1;33m(\u001b[0m\u001b[0mmodel\u001b[0m\u001b[1;33m,\u001b[0m \u001b[0mmodel_id\u001b[0m\u001b[1;33m,\u001b[0m \u001b[0mepochs\u001b[0m\u001b[1;33m=\u001b[0m\u001b[1;36m50\u001b[0m \u001b[1;33m)\u001b[0m\u001b[1;33m\u001b[0m\u001b[1;33m\u001b[0m\u001b[0m\n\u001b[0m",
      "\u001b[1;32mC:\\Users\\ADMINI~1\\AppData\\Local\\Temp/ipykernel_12460/2495440311.py\u001b[0m in \u001b[0;36mfit_gen\u001b[1;34m(model, model_id, epochs)\u001b[0m\n\u001b[0;32m     21\u001b[0m \u001b[1;33m\u001b[0m\u001b[0m\n\u001b[0;32m     22\u001b[0m \u001b[1;33m\u001b[0m\u001b[0m\n\u001b[1;32m---> 23\u001b[1;33m     history = model.fit(\n\u001b[0m\u001b[0;32m     24\u001b[0m         \u001b[0mtrain_generator\u001b[0m\u001b[1;33m,\u001b[0m\u001b[1;33m\u001b[0m\u001b[1;33m\u001b[0m\u001b[0m\n\u001b[0;32m     25\u001b[0m         \u001b[0mepochs\u001b[0m \u001b[1;33m=\u001b[0m \u001b[0mepochs\u001b[0m\u001b[1;33m,\u001b[0m\u001b[1;33m\u001b[0m\u001b[1;33m\u001b[0m\u001b[0m\n",
      "\u001b[1;32mC:\\ProgramData\\Anaconda3\\lib\\site-packages\\keras\\utils\\traceback_utils.py\u001b[0m in \u001b[0;36merror_handler\u001b[1;34m(*args, **kwargs)\u001b[0m\n\u001b[0;32m     62\u001b[0m     \u001b[0mfiltered_tb\u001b[0m \u001b[1;33m=\u001b[0m \u001b[1;32mNone\u001b[0m\u001b[1;33m\u001b[0m\u001b[1;33m\u001b[0m\u001b[0m\n\u001b[0;32m     63\u001b[0m     \u001b[1;32mtry\u001b[0m\u001b[1;33m:\u001b[0m\u001b[1;33m\u001b[0m\u001b[1;33m\u001b[0m\u001b[0m\n\u001b[1;32m---> 64\u001b[1;33m       \u001b[1;32mreturn\u001b[0m \u001b[0mfn\u001b[0m\u001b[1;33m(\u001b[0m\u001b[1;33m*\u001b[0m\u001b[0margs\u001b[0m\u001b[1;33m,\u001b[0m \u001b[1;33m**\u001b[0m\u001b[0mkwargs\u001b[0m\u001b[1;33m)\u001b[0m\u001b[1;33m\u001b[0m\u001b[1;33m\u001b[0m\u001b[0m\n\u001b[0m\u001b[0;32m     65\u001b[0m     \u001b[1;32mexcept\u001b[0m \u001b[0mException\u001b[0m \u001b[1;32mas\u001b[0m \u001b[0me\u001b[0m\u001b[1;33m:\u001b[0m  \u001b[1;31m# pylint: disable=broad-except\u001b[0m\u001b[1;33m\u001b[0m\u001b[1;33m\u001b[0m\u001b[0m\n\u001b[0;32m     66\u001b[0m       \u001b[0mfiltered_tb\u001b[0m \u001b[1;33m=\u001b[0m \u001b[0m_process_traceback_frames\u001b[0m\u001b[1;33m(\u001b[0m\u001b[0me\u001b[0m\u001b[1;33m.\u001b[0m\u001b[0m__traceback__\u001b[0m\u001b[1;33m)\u001b[0m\u001b[1;33m\u001b[0m\u001b[1;33m\u001b[0m\u001b[0m\n",
      "\u001b[1;32mC:\\ProgramData\\Anaconda3\\lib\\site-packages\\keras\\engine\\training.py\u001b[0m in \u001b[0;36mfit\u001b[1;34m(self, x, y, batch_size, epochs, verbose, callbacks, validation_split, validation_data, shuffle, class_weight, sample_weight, initial_epoch, steps_per_epoch, validation_steps, validation_batch_size, validation_freq, max_queue_size, workers, use_multiprocessing)\u001b[0m\n\u001b[0;32m   1407\u001b[0m                 _r=1):\n\u001b[0;32m   1408\u001b[0m               \u001b[0mcallbacks\u001b[0m\u001b[1;33m.\u001b[0m\u001b[0mon_train_batch_begin\u001b[0m\u001b[1;33m(\u001b[0m\u001b[0mstep\u001b[0m\u001b[1;33m)\u001b[0m\u001b[1;33m\u001b[0m\u001b[1;33m\u001b[0m\u001b[0m\n\u001b[1;32m-> 1409\u001b[1;33m               \u001b[0mtmp_logs\u001b[0m \u001b[1;33m=\u001b[0m \u001b[0mself\u001b[0m\u001b[1;33m.\u001b[0m\u001b[0mtrain_function\u001b[0m\u001b[1;33m(\u001b[0m\u001b[0miterator\u001b[0m\u001b[1;33m)\u001b[0m\u001b[1;33m\u001b[0m\u001b[1;33m\u001b[0m\u001b[0m\n\u001b[0m\u001b[0;32m   1410\u001b[0m               \u001b[1;32mif\u001b[0m \u001b[0mdata_handler\u001b[0m\u001b[1;33m.\u001b[0m\u001b[0mshould_sync\u001b[0m\u001b[1;33m:\u001b[0m\u001b[1;33m\u001b[0m\u001b[1;33m\u001b[0m\u001b[0m\n\u001b[0;32m   1411\u001b[0m                 \u001b[0mcontext\u001b[0m\u001b[1;33m.\u001b[0m\u001b[0masync_wait\u001b[0m\u001b[1;33m(\u001b[0m\u001b[1;33m)\u001b[0m\u001b[1;33m\u001b[0m\u001b[1;33m\u001b[0m\u001b[0m\n",
      "\u001b[1;32mC:\\ProgramData\\Anaconda3\\lib\\site-packages\\tensorflow\\python\\util\\traceback_utils.py\u001b[0m in \u001b[0;36merror_handler\u001b[1;34m(*args, **kwargs)\u001b[0m\n\u001b[0;32m    148\u001b[0m     \u001b[0mfiltered_tb\u001b[0m \u001b[1;33m=\u001b[0m \u001b[1;32mNone\u001b[0m\u001b[1;33m\u001b[0m\u001b[1;33m\u001b[0m\u001b[0m\n\u001b[0;32m    149\u001b[0m     \u001b[1;32mtry\u001b[0m\u001b[1;33m:\u001b[0m\u001b[1;33m\u001b[0m\u001b[1;33m\u001b[0m\u001b[0m\n\u001b[1;32m--> 150\u001b[1;33m       \u001b[1;32mreturn\u001b[0m \u001b[0mfn\u001b[0m\u001b[1;33m(\u001b[0m\u001b[1;33m*\u001b[0m\u001b[0margs\u001b[0m\u001b[1;33m,\u001b[0m \u001b[1;33m**\u001b[0m\u001b[0mkwargs\u001b[0m\u001b[1;33m)\u001b[0m\u001b[1;33m\u001b[0m\u001b[1;33m\u001b[0m\u001b[0m\n\u001b[0m\u001b[0;32m    151\u001b[0m     \u001b[1;32mexcept\u001b[0m \u001b[0mException\u001b[0m \u001b[1;32mas\u001b[0m \u001b[0me\u001b[0m\u001b[1;33m:\u001b[0m\u001b[1;33m\u001b[0m\u001b[1;33m\u001b[0m\u001b[0m\n\u001b[0;32m    152\u001b[0m       \u001b[0mfiltered_tb\u001b[0m \u001b[1;33m=\u001b[0m \u001b[0m_process_traceback_frames\u001b[0m\u001b[1;33m(\u001b[0m\u001b[0me\u001b[0m\u001b[1;33m.\u001b[0m\u001b[0m__traceback__\u001b[0m\u001b[1;33m)\u001b[0m\u001b[1;33m\u001b[0m\u001b[1;33m\u001b[0m\u001b[0m\n",
      "\u001b[1;32mC:\\ProgramData\\Anaconda3\\lib\\site-packages\\tensorflow\\python\\eager\\def_function.py\u001b[0m in \u001b[0;36m__call__\u001b[1;34m(self, *args, **kwds)\u001b[0m\n\u001b[0;32m    913\u001b[0m \u001b[1;33m\u001b[0m\u001b[0m\n\u001b[0;32m    914\u001b[0m       \u001b[1;32mwith\u001b[0m \u001b[0mOptionalXlaContext\u001b[0m\u001b[1;33m(\u001b[0m\u001b[0mself\u001b[0m\u001b[1;33m.\u001b[0m\u001b[0m_jit_compile\u001b[0m\u001b[1;33m)\u001b[0m\u001b[1;33m:\u001b[0m\u001b[1;33m\u001b[0m\u001b[1;33m\u001b[0m\u001b[0m\n\u001b[1;32m--> 915\u001b[1;33m         \u001b[0mresult\u001b[0m \u001b[1;33m=\u001b[0m \u001b[0mself\u001b[0m\u001b[1;33m.\u001b[0m\u001b[0m_call\u001b[0m\u001b[1;33m(\u001b[0m\u001b[1;33m*\u001b[0m\u001b[0margs\u001b[0m\u001b[1;33m,\u001b[0m \u001b[1;33m**\u001b[0m\u001b[0mkwds\u001b[0m\u001b[1;33m)\u001b[0m\u001b[1;33m\u001b[0m\u001b[1;33m\u001b[0m\u001b[0m\n\u001b[0m\u001b[0;32m    916\u001b[0m \u001b[1;33m\u001b[0m\u001b[0m\n\u001b[0;32m    917\u001b[0m       \u001b[0mnew_tracing_count\u001b[0m \u001b[1;33m=\u001b[0m \u001b[0mself\u001b[0m\u001b[1;33m.\u001b[0m\u001b[0mexperimental_get_tracing_count\u001b[0m\u001b[1;33m(\u001b[0m\u001b[1;33m)\u001b[0m\u001b[1;33m\u001b[0m\u001b[1;33m\u001b[0m\u001b[0m\n",
      "\u001b[1;32mC:\\ProgramData\\Anaconda3\\lib\\site-packages\\tensorflow\\python\\eager\\def_function.py\u001b[0m in \u001b[0;36m_call\u001b[1;34m(self, *args, **kwds)\u001b[0m\n\u001b[0;32m    945\u001b[0m       \u001b[1;31m# In this case we have created variables on the first call, so we run the\u001b[0m\u001b[1;33m\u001b[0m\u001b[1;33m\u001b[0m\u001b[0m\n\u001b[0;32m    946\u001b[0m       \u001b[1;31m# defunned version which is guaranteed to never create variables.\u001b[0m\u001b[1;33m\u001b[0m\u001b[1;33m\u001b[0m\u001b[0m\n\u001b[1;32m--> 947\u001b[1;33m       \u001b[1;32mreturn\u001b[0m \u001b[0mself\u001b[0m\u001b[1;33m.\u001b[0m\u001b[0m_stateless_fn\u001b[0m\u001b[1;33m(\u001b[0m\u001b[1;33m*\u001b[0m\u001b[0margs\u001b[0m\u001b[1;33m,\u001b[0m \u001b[1;33m**\u001b[0m\u001b[0mkwds\u001b[0m\u001b[1;33m)\u001b[0m  \u001b[1;31m# pylint: disable=not-callable\u001b[0m\u001b[1;33m\u001b[0m\u001b[1;33m\u001b[0m\u001b[0m\n\u001b[0m\u001b[0;32m    948\u001b[0m     \u001b[1;32melif\u001b[0m \u001b[0mself\u001b[0m\u001b[1;33m.\u001b[0m\u001b[0m_stateful_fn\u001b[0m \u001b[1;32mis\u001b[0m \u001b[1;32mnot\u001b[0m \u001b[1;32mNone\u001b[0m\u001b[1;33m:\u001b[0m\u001b[1;33m\u001b[0m\u001b[1;33m\u001b[0m\u001b[0m\n\u001b[0;32m    949\u001b[0m       \u001b[1;31m# Release the lock early so that multiple threads can perform the call\u001b[0m\u001b[1;33m\u001b[0m\u001b[1;33m\u001b[0m\u001b[0m\n",
      "\u001b[1;32mC:\\ProgramData\\Anaconda3\\lib\\site-packages\\tensorflow\\python\\eager\\function.py\u001b[0m in \u001b[0;36m__call__\u001b[1;34m(self, *args, **kwargs)\u001b[0m\n\u001b[0;32m   2451\u001b[0m       (graph_function,\n\u001b[0;32m   2452\u001b[0m        filtered_flat_args) = self._maybe_define_function(args, kwargs)\n\u001b[1;32m-> 2453\u001b[1;33m     return graph_function._call_flat(\n\u001b[0m\u001b[0;32m   2454\u001b[0m         filtered_flat_args, captured_inputs=graph_function.captured_inputs)  # pylint: disable=protected-access\n\u001b[0;32m   2455\u001b[0m \u001b[1;33m\u001b[0m\u001b[0m\n",
      "\u001b[1;32mC:\\ProgramData\\Anaconda3\\lib\\site-packages\\tensorflow\\python\\eager\\function.py\u001b[0m in \u001b[0;36m_call_flat\u001b[1;34m(self, args, captured_inputs, cancellation_manager)\u001b[0m\n\u001b[0;32m   1858\u001b[0m         and executing_eagerly):\n\u001b[0;32m   1859\u001b[0m       \u001b[1;31m# No tape is watching; skip to running the function.\u001b[0m\u001b[1;33m\u001b[0m\u001b[1;33m\u001b[0m\u001b[0m\n\u001b[1;32m-> 1860\u001b[1;33m       return self._build_call_outputs(self._inference_function.call(\n\u001b[0m\u001b[0;32m   1861\u001b[0m           ctx, args, cancellation_manager=cancellation_manager))\n\u001b[0;32m   1862\u001b[0m     forward_backward = self._select_forward_and_backward_functions(\n",
      "\u001b[1;32mC:\\ProgramData\\Anaconda3\\lib\\site-packages\\tensorflow\\python\\eager\\function.py\u001b[0m in \u001b[0;36mcall\u001b[1;34m(self, ctx, args, cancellation_manager)\u001b[0m\n\u001b[0;32m    495\u001b[0m       \u001b[1;32mwith\u001b[0m \u001b[0m_InterpolateFunctionError\u001b[0m\u001b[1;33m(\u001b[0m\u001b[0mself\u001b[0m\u001b[1;33m)\u001b[0m\u001b[1;33m:\u001b[0m\u001b[1;33m\u001b[0m\u001b[1;33m\u001b[0m\u001b[0m\n\u001b[0;32m    496\u001b[0m         \u001b[1;32mif\u001b[0m \u001b[0mcancellation_manager\u001b[0m \u001b[1;32mis\u001b[0m \u001b[1;32mNone\u001b[0m\u001b[1;33m:\u001b[0m\u001b[1;33m\u001b[0m\u001b[1;33m\u001b[0m\u001b[0m\n\u001b[1;32m--> 497\u001b[1;33m           outputs = execute.execute(\n\u001b[0m\u001b[0;32m    498\u001b[0m               \u001b[0mstr\u001b[0m\u001b[1;33m(\u001b[0m\u001b[0mself\u001b[0m\u001b[1;33m.\u001b[0m\u001b[0msignature\u001b[0m\u001b[1;33m.\u001b[0m\u001b[0mname\u001b[0m\u001b[1;33m)\u001b[0m\u001b[1;33m,\u001b[0m\u001b[1;33m\u001b[0m\u001b[1;33m\u001b[0m\u001b[0m\n\u001b[0;32m    499\u001b[0m               \u001b[0mnum_outputs\u001b[0m\u001b[1;33m=\u001b[0m\u001b[0mself\u001b[0m\u001b[1;33m.\u001b[0m\u001b[0m_num_outputs\u001b[0m\u001b[1;33m,\u001b[0m\u001b[1;33m\u001b[0m\u001b[1;33m\u001b[0m\u001b[0m\n",
      "\u001b[1;32mC:\\ProgramData\\Anaconda3\\lib\\site-packages\\tensorflow\\python\\eager\\execute.py\u001b[0m in \u001b[0;36mquick_execute\u001b[1;34m(op_name, num_outputs, inputs, attrs, ctx, name)\u001b[0m\n\u001b[0;32m     52\u001b[0m   \u001b[1;32mtry\u001b[0m\u001b[1;33m:\u001b[0m\u001b[1;33m\u001b[0m\u001b[1;33m\u001b[0m\u001b[0m\n\u001b[0;32m     53\u001b[0m     \u001b[0mctx\u001b[0m\u001b[1;33m.\u001b[0m\u001b[0mensure_initialized\u001b[0m\u001b[1;33m(\u001b[0m\u001b[1;33m)\u001b[0m\u001b[1;33m\u001b[0m\u001b[1;33m\u001b[0m\u001b[0m\n\u001b[1;32m---> 54\u001b[1;33m     tensors = pywrap_tfe.TFE_Py_Execute(ctx._handle, device_name, op_name,\n\u001b[0m\u001b[0;32m     55\u001b[0m                                         inputs, attrs, num_outputs)\n\u001b[0;32m     56\u001b[0m   \u001b[1;32mexcept\u001b[0m \u001b[0mcore\u001b[0m\u001b[1;33m.\u001b[0m\u001b[0m_NotOkStatusException\u001b[0m \u001b[1;32mas\u001b[0m \u001b[0me\u001b[0m\u001b[1;33m:\u001b[0m\u001b[1;33m\u001b[0m\u001b[1;33m\u001b[0m\u001b[0m\n",
      "\u001b[1;31mKeyboardInterrupt\u001b[0m: "
     ]
    },
    {
     "name": "stderr",
     "output_type": "stream",
     "text": [
      "2022-05-30 14:00:26,804 - DEBUG - Image.py - close - 606 - Error closing: fp\n"
     ]
    }
   ],
   "source": [
    "history = fit_gen(model, model_id, epochs=50 )"
   ]
  },
  {
   "cell_type": "markdown",
   "metadata": {},
   "source": [
    "## 保存模型"
   ]
  },
  {
   "cell_type": "code",
   "execution_count": 16,
   "metadata": {},
   "outputs": [
    {
     "name": "stderr",
     "output_type": "stream",
     "text": [
      "2022-02-25 13:30:12,661 - INFO - trainer.py - save_model - 368 - save model success ,num=200\n"
     ]
    }
   ],
   "source": [
    "trainer.save_model(model, model_id)"
   ]
  },
  {
   "cell_type": "code",
   "execution_count": 17,
   "metadata": {},
   "outputs": [
    {
     "name": "stdout",
     "output_type": "stream",
     "text": [
      "The autoreload extension is already loaded. To reload it, use:\n",
      "  %reload_ext autoreload\n"
     ]
    }
   ],
   "source": [
    "import matplotlib.pyplot as plt\n",
    "plt.rcParams['font.sans-serif']=['SimHei'] #用来正常显示中文标签\n",
    "plt.rcParams['axes.unicode_minus']=False #用来正常显示负号\n",
    "# show images inline\n",
    "%matplotlib inline\n",
    "\n",
    "# automatically reload modules when they have changed\n",
    "%load_ext autoreload\n",
    "%autoreload 2"
   ]
  },
  {
   "cell_type": "code",
   "execution_count": 18,
   "metadata": {},
   "outputs": [
    {
     "data": {
      "image/png": "[encoded data removed]",
      "text/plain": [
       "<Figure size 432x288 with 2 Axes>"
      ]
     },
     "metadata": {
      "needs_background": "light"
     },
     "output_type": "display_data"
    }
   ],
   "source": [
    "def show_history(history):\n",
    "    fig, axes = plt.subplots(nrows=1,ncols=2)\n",
    "    ax=axes[0]\n",
    "\n",
    "    ax.plot(history['loss'])\n",
    "    ax.plot(history['val_loss'])\n",
    "    ax.legend(['train','test'],loc='upper right')\n",
    "    ax.set_title('loss'.format(1))\n",
    "    ax.set_xlabel('epoch')\n",
    "    ax.set_ylabel('loss')\n",
    "\n",
    "    ax=axes[1]\n",
    "    ax.plot(history['accuracy'])\n",
    "    ax.plot(history['val_accuracy'])\n",
    "    ax.legend(['train','test'],loc='best')\n",
    "    ax.set_title('acc'.format(1))\n",
    "    ax.set_xlabel('epoch')\n",
    "    ax.set_ylabel('accuracy')\n",
    "    fig.tight_layout()\n",
    "    plt.savefig(os.path.join(root_path,\"训练曲线.png\"))\n",
    "    plt.savefig(\"训练曲线.png\")\n",
    "    plt.show() \n",
    "    \n",
    "show_history(history.history)"
   ]
  },
  {
   "cell_type": "markdown",
   "metadata": {},
   "source": [
    "## 测试集测试"
   ]
  },
  {
   "cell_type": "code",
   "execution_count": 19,
   "metadata": {},
   "outputs": [
    {
     "data": {
      "text/plain": [
       "200"
      ]
     },
     "execution_count": 19,
     "metadata": {},
     "output_type": "execute_result"
    }
   ],
   "source": [
    "model_id"
   ]
  },
  {
   "cell_type": "code",
   "execution_count": 20,
   "metadata": {
    "scrolled": false
   },
   "outputs": [
    {
     "name": "stderr",
     "output_type": "stream",
     "text": [
      "2022-02-25 13:31:02,372 - INFO - trainer.py - load_model - 353 - load weights 200\n"
     ]
    }
   ],
   "source": [
    "K.clear_session()\n",
    "model = None\n",
    "# trainer.target_fold = r\"E:\\projects\\znyx-trainer\\job\\resnet_efficient\\imgs_me_mang\"\n",
    "model = trainer.load_model(model_id)\n",
    "# 加载训练中的最优模型\n",
    "# model.load_weights(trainer.get_weight_file(24))\n"
   ]
  },
  {
   "cell_type": "code",
   "execution_count": 21,
   "metadata": {
    "scrolled": false
   },
   "outputs": [
    {
     "name": "stdout",
     "output_type": "stream",
     "text": [
      "find 5 from E:\\projects\\znyx-trainer\\job\\口咽部\\第7轮_整图\\valid_date\n",
      "load data from fold finished ,count=181\n",
      "6/6 [==============================] - 1s 196ms/step\n"
     ]
    },
    {
     "name": "stderr",
     "output_type": "stream",
     "text": [
      "2022-02-25 13:31:10,258 - INFO - plot.py - show_matrix - 167 - save plot image to E:\\projects\\znyx-trainer\\job\\口咽部\\第8轮\\2022-02-25-13-31_975.png \n",
      "2022-02-25 13:31:10,259 - INFO - plot.py - show_matrix - 174 - accurracy:0.994475138121547\n"
     ]
    },
    {
     "name": "stdout",
     "output_type": "stream",
     "text": [
      "cast-246ms, fold: ['E:\\\\projects\\\\znyx-trainer\\\\job\\\\口咽部\\\\第7轮_整图\\\\valid_date'] ,accurracy:99\n",
      "Confusion matrix, without normalization\n",
      "[[90  0  0  0  0]\n",
      " [ 0 25  1  0  0]\n",
      " [ 0  0 30  0  0]\n",
      " [ 0  0  0 26  0]\n",
      " [ 0  0  0  0  9]]\n"
     ]
    },
    {
     "data": {
      "text/plain": [
       "<Figure size 432x288 with 0 Axes>"
      ]
     },
     "metadata": {},
     "output_type": "display_data"
    },
    {
     "data": {
      "image/png": "[encoded data removed]",
      "text/plain": [
       "<Figure size 576x576 with 2 Axes>"
      ]
     },
     "metadata": {
      "needs_background": "light"
     },
     "output_type": "display_data"
    },
    {
     "name": "stdout",
     "output_type": "stream",
     "text": [
      "['0-喉', '1-上颚', '2-咽后壁', '3-右梨状窝', '4-左梨状窝']\n"
     ]
    }
   ],
   "source": [
    "use_increase = True\n",
    "# 显示预测准确度、混淆矩阵，保持混淆矩阵图到root_path\n",
    "test_path = r\"E:\\projects\\znyx-trainer\\job\\口咽部\\第7轮_整图\\valid_date\"\n",
    "acc, y_pred, y_true, file_test = trainer.predict_data([test_path if use_increase else res_test_path], model = model)\n",
    "path = Plot.show_matrix(y_pred, y_true, types_num, root_path)\n",
    "plt.show()\n",
    "\n",
    "print(desc_list)    "
   ]
  },
  {
   "cell_type": "code",
   "execution_count": 9,
   "metadata": {},
   "outputs": [
    {
     "name": "stdout",
     "output_type": "stream",
     "text": [
      "find 5 from E:\\projects\\znyx-trainer\\job\\口咽部\\第6轮\\valid_data\n",
      "load data from fold finished ,count=170\n",
      "6/6 [==============================] - 1s 175ms/step\n"
     ]
    },
    {
     "name": "stderr",
     "output_type": "stream",
     "text": [
      "2022-02-23 10:37:54,930 - INFO - plot.py - show_matrix - 167 - save plot image to E:\\projects\\znyx-trainer\\job\\口咽部\\第6轮\\2022-02-23-10-37_383.png \n",
      "2022-02-23 10:37:54,931 - INFO - plot.py - show_matrix - 174 - accurracy:0.9588235294117647\n"
     ]
    },
    {
     "name": "stdout",
     "output_type": "stream",
     "text": [
      "cast-58ms, fold: ['E:\\\\projects\\\\znyx-trainer\\\\job\\\\口咽部\\\\第6轮\\\\valid_data'] ,accurracy:95\n",
      "Confusion matrix, without normalization\n",
      "[[90  0  0  0  0]\n",
      " [ 0 25  1  0  0]\n",
      " [ 0  0 30  0  0]\n",
      " [ 0  0  0 16  0]\n",
      " [ 1  0  0  5  2]]\n"
     ]
    },
    {
     "data": {
      "text/plain": [
       "<Figure size 432x288 with 0 Axes>"
      ]
     },
     "metadata": {},
     "output_type": "display_data"
    },
    {
     "data": {
      "image/png": "[encoded data removed]",
      "text/plain": [
       "<Figure size 576x576 with 2 Axes>"
      ]
     },
     "metadata": {
      "needs_background": "light"
     },
     "output_type": "display_data"
    },
    {
     "name": "stdout",
     "output_type": "stream",
     "text": [
      "['0-喉', '1-上颚', '2-咽后壁', '3-右梨状窝', '4-左梨状窝']\n"
     ]
    }
   ],
   "source": [
    "use_increase = True\n",
    "# 显示预测准确度、混淆矩阵，保持混淆矩阵图到root_path\n",
    "test_path = r\"E:\\projects\\znyx-trainer\\job\\口咽部\\第6轮\\valid_data\"\n",
    "acc, y_pred, y_true, file_test = trainer.predict_data([test_path if use_increase else res_test_path], model = model)\n",
    "path = Plot.show_matrix(y_pred, y_true, types_num, root_path)\n",
    "plt.show()\n",
    "\n",
    "print(desc_list)    "
   ]
  },
  {
   "cell_type": "code",
   "execution_count": null,
   "metadata": {
    "collapsed": true
   },
   "outputs": [],
   "source": [
    "use_increase = True\n",
    "# 显示预测准确度、混淆矩阵，保持混淆矩阵图到root_path\n",
    "acc, y_pred, y_true, file_test = trainer.predict_data([test_path if use_increase else res_test_path], model = model,binary_threshold=optimal_threshold)\n",
    "path = Plot.show_matrix(y_pred, y_true, types_num, root_path)\n",
    "plt.show()\n",
    "\n",
    "print(desc_list)"
   ]
  },
  {
   "cell_type": "code",
   "execution_count": null,
   "metadata": {
    "collapsed": true
   },
   "outputs": [],
   "source": [
    "acc: 98.51%\n",
    "0: 98.69%\n",
    "1: 98.35%"
   ]
  },
  {
   "cell_type": "code",
   "execution_count": null,
   "metadata": {
    "collapsed": true
   },
   "outputs": [],
   "source": []
  },
  {
   "cell_type": "code",
   "execution_count": 9,
   "metadata": {
    "collapsed": true
   },
   "outputs": [],
   "source": []
  },
  {
   "cell_type": "code",
   "execution_count": 20,
   "metadata": {
    "collapsed": true
   },
   "outputs": [],
   "source": [
    "from datetime import datetime\n",
    "def predict_imgs(imgs_path0,imgs_path1,model):\n",
    "    # 获取该路径下所有图片\n",
    "    files_list0=fetch_all_files(imgs_path0,file_exts=[\".jpg\", \".Jpg\", \".jpeg\", \".PNG\", \".png\", \".Bmp\", \".bmp\", \".BMP\", \".JPG\"])\n",
    "    files_list0=sort_by_file_name(files_list0)\n",
    "\n",
    "    files_list1=fetch_all_files(imgs_path1,file_exts=[\".jpg\", \".Jpg\", \".jpeg\", \".PNG\", \".png\", \".Bmp\", \".bmp\", \".BMP\", \".JPG\"])\n",
    "    files_list1=sort_by_file_name(files_list1)\n",
    "    \n",
    "    label0 = [0] * len(files_list0)\n",
    "    label1 = [1] * len(files_list1)\n",
    "    files_list = files_list0 + files_list1\n",
    "    label = label0 + label1\n",
    "    x_test = []\n",
    "    X = []\n",
    "\n",
    "    for file in files_list:\n",
    "        img = read_img_file(file)\n",
    "        img = cv2.resize(img,(224,224))\n",
    "        x_test.append(img)\n",
    "\n",
    "    for x in x_test:\n",
    "        x = np.array(x,dtype=\"float32\")\n",
    "        if x.shape[2] != 3:\n",
    "            x = x[:, :, :3]\n",
    "        X.append(x)\n",
    "\n",
    "    X= np.asarray(X)\n",
    "\n",
    "    predictions_list = model.predict(X, verbose=1)\n",
    "    \n",
    "    start_time = datetime.now().timestamp()\n",
    "    for x in x_test[:100]:\n",
    "        x = np.array(x,dtype=\"float32\")\n",
    "        if x.shape[2] != 3:\n",
    "            x = x[:, :, :3]\n",
    "        data = np.expand_dims(x, axis=0)\n",
    "        predictions = model.predict(data)[0]\n",
    "    end_time = datetime.now().timestamp()\n",
    "    during_time = end_time - start_time\n",
    "    \n",
    "    return label,predictions_list,files_list,during_time\n",
    "\n",
    "def cal_acc(label,pred):\n",
    "    print(\"阈值   综合精度          灵敏度            特异度   \")\n",
    "    for tr in [ x for x in range(1,101,1)]:\n",
    "        tn,tp,P_all,N_all =0,0,0,0\n",
    "\n",
    "        for i,y_true in enumerate(label):\n",
    "            if y_true ==0:\n",
    "                N_all+=1\n",
    "                if pred[i]>tr:\n",
    "                    y_pred =1\n",
    "                else:\n",
    "                    y_pred =0\n",
    "                if y_pred == y_true:\n",
    "                    tn+=1\n",
    "            if y_true ==1:\n",
    "                P_all+=1\n",
    "                if pred[i]>tr:\n",
    "                    y_pred =1\n",
    "                else:\n",
    "                    y_pred =0\n",
    "                if y_pred == y_true:\n",
    "                    tp+=1\n",
    "        \n",
    "        print(tr,(tp+tn)/(P_all+N_all),tp/P_all,tn/N_all)"
   ]
  },
  {
   "cell_type": "code",
   "execution_count": 21,
   "metadata": {
    "scrolled": true
   },
   "outputs": [
    {
     "name": "stdout",
     "output_type": "stream",
     "text": [
      "49/49 [==============================] - 5s 96ms/step\n"
     ]
    }
   ],
   "source": [
    "from mbsh.core.images import sort_by_file_name,load_img_data,fetch_all_files,read_img_file\n",
    "imgs_path0 = r\"E:\\projects\\znyx-trainer\\job\\resnet_efficient\\imgs_me_ca\\gl_whu_test\\0\"\n",
    "imgs_path1 = r\"E:\\projects\\znyx-trainer\\job\\resnet_efficient\\imgs_me_ca\\gl_whu_test\\1\"\n",
    "label,predictions_list,files_list,time = predict_imgs(imgs_path0,imgs_path1,model)"
   ]
  },
  {
   "cell_type": "code",
   "execution_count": 22,
   "metadata": {},
   "outputs": [
    {
     "name": "stdout",
     "output_type": "stream",
     "text": [
      "3.1885647773742676\n"
     ]
    }
   ],
   "source": [
    "print(time)"
   ]
  },
  {
   "cell_type": "code",
   "execution_count": 23,
   "metadata": {
    "scrolled": true
   },
   "outputs": [
    {
     "name": "stdout",
     "output_type": "stream",
     "text": [
      "最佳阈值：8.858472853899002  ROC面积：0.9719418564527259\n",
      "阈值   综合精度          灵敏度            特异度   \n",
      "1 0.7037037037037037 0.9875776397515528 0.5738636363636364\n",
      "2 0.8310591293047433 0.9648033126293996 0.7698863636363636\n",
      "3 0.8745938921377517 0.9565217391304348 0.8371212121212122\n",
      "4 0.8953866146848602 0.9316770186335404 0.8787878787878788\n",
      "5 0.907732293697206 0.9109730848861284 0.90625\n",
      "6 0.9155295646523717 0.8985507246376812 0.9232954545454546\n",
      "7 0.916829109811566 0.8861283643892339 0.9308712121212122\n",
      "8 0.9207277452891488 0.8799171842650103 0.9393939393939394\n",
      "9 0.9259259259259259 0.8674948240165632 0.9526515151515151\n",
      "10 0.9252761533463287 0.8530020703933747 0.9583333333333334\n",
      "11 0.9272254710851202 0.8488612836438924 0.9630681818181818\n",
      "12 0.9259259259259259 0.8364389233954451 0.9668560606060606\n",
      "13 0.9252761533463287 0.8281573498964804 0.9696969696969697\n",
      "14 0.9246263807667316 0.8178053830227743 0.9734848484848485\n",
      "15 0.9246263807667316 0.8115942028985508 0.9763257575757576\n",
      "16 0.9213775178687459 0.7991718426501035 0.9772727272727273\n",
      "17 0.9194282001299545 0.7908902691511387 0.978219696969697\n",
      "18 0.9200779727095516 0.7888198757763976 0.9801136363636364\n",
      "19 0.9194282001299545 0.7805383022774327 0.9829545454545454\n",
      "20 0.9200779727095516 0.7784679089026915 0.9848484848484849\n",
      "21 0.9194282001299545 0.7763975155279503 0.9848484848484849\n",
      "22 0.9155295646523717 0.7639751552795031 0.9848484848484849\n",
      "23 0.9122807017543859 0.7494824016563147 0.9867424242424242\n",
      "24 0.9103313840155945 0.7412008281573499 0.9876893939393939\n",
      "25 0.9103313840155945 0.7412008281573499 0.9876893939393939\n",
      "26 0.9096816114359974 0.7391304347826086 0.9876893939393939\n",
      "27 0.9090318388564003 0.7370600414078675 0.9876893939393939\n",
      "28 0.9064327485380117 0.7287784679089027 0.9876893939393939\n",
      "29 0.9057829759584145 0.7246376811594203 0.9886363636363636\n",
      "30 0.9044834307992202 0.7184265010351967 0.9895833333333334\n",
      "31 0.9051332033788174 0.7184265010351967 0.990530303030303\n",
      "32 0.9038336582196231 0.7122153209109731 0.9914772727272727\n",
      "33 0.9025341130604289 0.7060041407867494 0.9924242424242424\n",
      "34 0.8999350227420403 0.6977225672877847 0.9924242424242424\n",
      "35 0.898635477582846 0.6935817805383023 0.9924242424242424\n",
      "36 0.8992852501624431 0.6935817805383023 0.9933712121212122\n",
      "37 0.898635477582846 0.6915113871635611 0.9933712121212122\n",
      "38 0.8973359324236517 0.6873706004140787 0.9933712121212122\n",
      "39 0.8947368421052632 0.6790890269151139 0.9933712121212122\n",
      "40 0.8934372969460689 0.6749482401656315 0.9933712121212122\n",
      "41 0.8908382066276803 0.6666666666666666 0.9933712121212122\n",
      "42 0.8888888888888888 0.6583850931677019 0.9943181818181818\n",
      "43 0.884990253411306 0.6459627329192547 0.9943181818181818\n",
      "44 0.8843404808317089 0.6418219461697723 0.9952651515151515\n",
      "45 0.8836907082521117 0.639751552795031 0.9952651515151515\n",
      "46 0.8817413905133203 0.6314699792960663 0.9962121212121212\n",
      "47 0.8804418453541261 0.6273291925465838 0.9962121212121212\n",
      "48 0.8797920727745289 0.6252587991718427 0.9962121212121212\n",
      "49 0.8784925276153346 0.6211180124223602 0.9962121212121212\n",
      "50 0.8765432098765432 0.6128364389233955 0.9971590909090909\n",
      "51 0.875893437296946 0.6107660455486542 0.9971590909090909\n",
      "52 0.8745938921377517 0.6066252587991718 0.9971590909090909\n",
      "53 0.8726445743989604 0.6004140786749482 0.9971590909090909\n",
      "54 0.8713450292397661 0.5962732919254659 0.9971590909090909\n",
      "55 0.8713450292397661 0.5942028985507246 0.9981060606060606\n",
      "56 0.8674463937621832 0.5817805383022774 0.9981060606060606\n",
      "57 0.866146848602989 0.577639751552795 0.9981060606060606\n",
      "58 0.8635477582846004 0.5693581780538303 0.9981060606060606\n",
      "59 0.8628979857050032 0.567287784679089 0.9981060606060606\n",
      "60 0.8622482131254061 0.5652173913043478 0.9981060606060606\n",
      "61 0.8596491228070176 0.556935817805383 0.9981060606060606\n",
      "62 0.8583495776478233 0.5527950310559007 0.9981060606060606\n",
      "63 0.8576998050682261 0.5507246376811594 0.9981060606060606\n",
      "64 0.857050032488629 0.5486542443064182 0.9981060606060606\n",
      "65 0.8557504873294347 0.5445134575569358 0.9981060606060606\n",
      "66 0.852501624431449 0.5341614906832298 0.9981060606060606\n",
      "67 0.8512020792722547 0.5279503105590062 0.9990530303030303\n",
      "68 0.8466536712150747 0.5134575569358178 0.9990530303030303\n",
      "69 0.8460038986354775 0.5113871635610766 0.9990530303030303\n",
      "70 0.8421052631578947 0.4989648033126294 0.9990530303030303\n",
      "71 0.8408057179987004 0.494824016563147 0.9990530303030303\n",
      "72 0.8408057179987004 0.494824016563147 0.9990530303030303\n",
      "73 0.838856400259909 0.4886128364389234 0.9990530303030303\n",
      "74 0.8369070825211176 0.4803312629399586 1.0\n",
      "75 0.834307992202729 0.4720496894409938 1.0\n",
      "76 0.8304093567251462 0.45962732919254656 1.0\n",
      "77 0.8271604938271605 0.4492753623188406 1.0\n",
      "78 0.8271604938271605 0.4492753623188406 1.0\n",
      "79 0.8239116309291747 0.4389233954451346 1.0\n",
      "80 0.8219623131903834 0.432712215320911 1.0\n",
      "81 0.8193632228719948 0.4244306418219462 1.0\n",
      "82 0.816114359974009 0.4140786749482402 1.0\n",
      "83 0.8135152696556205 0.4057971014492754 1.0\n",
      "84 0.806367771280052 0.3830227743271222 1.0\n",
      "85 0.8024691358024691 0.37060041407867494 1.0\n",
      "86 0.8011695906432749 0.36645962732919257 1.0\n",
      "87 0.7966211825860948 0.35196687370600416 1.0\n",
      "88 0.792722547108512 0.33954451345755693 1.0\n",
      "89 0.788174139051332 0.3250517598343685 1.0\n",
      "90 0.7823261858349577 0.3064182194616977 1.0\n",
      "91 0.7803768680961664 0.3002070393374741 1.0\n",
      "92 0.7751786874593892 0.2836438923395445 1.0\n",
      "93 0.7725795971410007 0.2753623188405797 1.0\n",
      "94 0.7615334632878492 0.2401656314699793 1.0\n",
      "95 0.7563352826510721 0.2236024844720497 1.0\n",
      "96 0.7517868745938922 0.20910973084886128 1.0\n",
      "97 0.7400909681611436 0.17184265010351968 1.0\n",
      "98 0.723196881091618 0.11801242236024845 1.0\n",
      "99 0.7089018843404808 0.07246376811594203 1.0\n",
      "100 0.6861598440545809 0.0 1.0\n"
     ]
    }
   ],
   "source": [
    "pred = []\n",
    "for prediction in predictions_list:\n",
    "    conf = (prediction[0])*100\n",
    "    pred.append(conf)\n",
    "    \n",
    "from sklearn.metrics import roc_curve, auc\n",
    "fpr,tpr,thresholds = roc_curve(label,pred)\n",
    "roc_auc = auc(fpr, tpr)\n",
    "\n",
    "optimal_idx = np.argmax(tpr - fpr)\n",
    "optimal_threshold = thresholds[optimal_idx]\n",
    "print(\"最佳阈值：%s  ROC面积：%s\"%(optimal_threshold,roc_auc))\n",
    "\n",
    "cal_acc(label,pred)"
   ]
  },
  {
   "cell_type": "code",
   "execution_count": null,
   "metadata": {
    "collapsed": true
   },
   "outputs": [],
   "source": []
  }
 ],
 "metadata": {
  "kernelspec": {
   "display_name": "Python 3 (ipykernel)",
   "language": "python",
   "name": "python3"
  },
  "language_info": {
   "codemirror_mode": {
    "name": "ipython",
    "version": 3
   },
   "file_extension": ".py",
   "mimetype": "text/x-python",
   "name": "python",
   "nbconvert_exporter": "python",
   "pygments_lexer": "ipython3",
   "version": "3.9.7"
  },
  "toc": {
   "base_numbering": 1,
   "nav_menu": {},
   "number_sections": true,
   "sideBar": true,
   "skip_h1_title": false,
   "title_cell": "Table of Contents",
   "title_sidebar": "Contents",
   "toc_cell": false,
   "toc_position": {},
   "toc_section_display": true,
   "toc_window_display": false
  }
 },
 "nbformat": 4,
 "nbformat_minor": 4
}
