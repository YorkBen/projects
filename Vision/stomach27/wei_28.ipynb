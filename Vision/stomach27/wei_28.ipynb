{
 "cells": [
  {
   "cell_type": "markdown",
   "metadata": {},
   "source": [
    "# 体内外数据训练\n",
    "## 导入相应的包\n"
   ]
  },
  {
   "cell_type": "code",
   "execution_count": 1,
   "metadata": {},
   "outputs": [
    {
     "ename": "ImportError",
     "evalue": "cannot import name 'to_categorical' from 'tensorflow.python.keras.utils' (c:\\users\\admin\\anaconda3\\envs\\mydl\\lib\\site-packages\\tensorflow\\python\\keras\\utils\\__init__.py)",
     "output_type": "error",
     "traceback": [
      "\u001b[1;31m---------------------------------------------------------------------------\u001b[0m",
      "\u001b[1;31mImportError\u001b[0m                               Traceback (most recent call last)",
      "\u001b[1;32m<ipython-input-1-bd30f4bf3a86>\u001b[0m in \u001b[0;36m<module>\u001b[1;34m\u001b[0m\n\u001b[0;32m     13\u001b[0m \u001b[1;32mfrom\u001b[0m \u001b[0mtensorflow\u001b[0m\u001b[1;33m.\u001b[0m\u001b[0mpython\u001b[0m\u001b[1;33m.\u001b[0m\u001b[0mkeras\u001b[0m\u001b[1;33m.\u001b[0m\u001b[0mcallbacks\u001b[0m \u001b[1;32mimport\u001b[0m \u001b[0mEarlyStopping\u001b[0m\u001b[1;33m,\u001b[0m \u001b[0mModelCheckpoint\u001b[0m\u001b[1;33m,\u001b[0m \u001b[0mReduceLROnPlateau\u001b[0m\u001b[1;33m\u001b[0m\u001b[1;33m\u001b[0m\u001b[0m\n\u001b[0;32m     14\u001b[0m \u001b[1;32mfrom\u001b[0m \u001b[0mtensorflow\u001b[0m\u001b[1;33m.\u001b[0m\u001b[0mpython\u001b[0m\u001b[1;33m.\u001b[0m\u001b[0mkeras\u001b[0m \u001b[1;32mimport\u001b[0m \u001b[0mbackend\u001b[0m \u001b[1;32mas\u001b[0m \u001b[0mK\u001b[0m\u001b[1;33m\u001b[0m\u001b[1;33m\u001b[0m\u001b[0m\n\u001b[1;32m---> 15\u001b[1;33m \u001b[1;32mfrom\u001b[0m \u001b[0mtensorflow\u001b[0m\u001b[1;33m.\u001b[0m\u001b[0mpython\u001b[0m\u001b[1;33m.\u001b[0m\u001b[0mkeras\u001b[0m\u001b[1;33m.\u001b[0m\u001b[0mutils\u001b[0m \u001b[1;32mimport\u001b[0m \u001b[0mto_categorical\u001b[0m\u001b[1;33m\u001b[0m\u001b[1;33m\u001b[0m\u001b[0m\n\u001b[0m\u001b[0;32m     16\u001b[0m \u001b[1;33m\u001b[0m\u001b[0m\n\u001b[0;32m     17\u001b[0m \u001b[1;32mfrom\u001b[0m \u001b[0mtensorflow\u001b[0m\u001b[1;33m.\u001b[0m\u001b[0mpython\u001b[0m\u001b[1;33m.\u001b[0m\u001b[0mkeras\u001b[0m\u001b[1;33m.\u001b[0m\u001b[0mapplications\u001b[0m \u001b[1;32mimport\u001b[0m \u001b[0mMobileNetV2\u001b[0m\u001b[1;33m,\u001b[0m \u001b[0mResNet50\u001b[0m\u001b[1;33m\u001b[0m\u001b[1;33m\u001b[0m\u001b[0m\n",
      "\u001b[1;31mImportError\u001b[0m: cannot import name 'to_categorical' from 'tensorflow.python.keras.utils' (c:\\users\\admin\\anaconda3\\envs\\mydl\\lib\\site-packages\\tensorflow\\python\\keras\\utils\\__init__.py)"
     ]
    }
   ],
   "source": [
    "import os\n",
    "import sys\n",
    "\n",
    "import matplotlib.pyplot as plt\n",
    "plt.rcParams['font.sans-serif']=['SimHei'] #用来正常显示中文标签\n",
    "plt.rcParams['axes.unicode_minus']=False #用来正常显示负号\n",
    "\n",
    "\n",
    "\n",
    "import numpy as np\n",
    "\n",
    "from tensorflow.python.keras.preprocessing.image import ImageDataGenerator\n",
    "from tensorflow.python.keras.callbacks import EarlyStopping, ModelCheckpoint, ReduceLROnPlateau\n",
    "from tensorflow.python.keras import backend as K\n",
    "from tensorflow.python.keras.utils import to_categorical\n",
    "\n",
    "from tensorflow.python.keras.applications import MobileNetV2, ResNet50\n",
    "from tensorflow.python.keras.layers import GlobalAveragePooling2D, Dense, Dropout\n",
    "from tensorflow.python.keras.models import Model, model_from_json\n",
    "# 添加路径，以能正常导入mbsh、trainer\n",
    "sys.path.insert(0, '../../trainer')\n",
    "\n",
    "\n",
    "\n",
    "from mbsh import create_app\n",
    "from mbsh.core.models import SmallModel\n",
    "from mbsh.core.images import read_to_pd,TrainArgs\n",
    "from mbsh.core.plot import Plot\n",
    "\n",
    "from trainer import Trainer"
   ]
  },
  {
   "cell_type": "code",
   "execution_count": 2,
   "metadata": {},
   "outputs": [],
   "source": [
    "# model_id = 100 ResNet 模型 loss: 0.2732 - acc: 0.9096 - val_loss: 0.4109 - val_acc: 0.8740"
   ]
  },
  {
   "cell_type": "markdown",
   "metadata": {},
   "source": [
    "##  路径常量设置"
   ]
  },
  {
   "cell_type": "code",
   "execution_count": 3,
   "metadata": {},
   "outputs": [],
   "source": [
    "# 样本数据根目录\n",
    "# 根目录下res中按分类标签存放各类型图像\n",
    "# cache目录存放训练的结果模型\n",
    "# \n",
    "root_path = r\"\\\\192.168.0.154\\数据\\口咽部\\大部位27分类\"\n",
    "\n",
    "# 是否使用平衡数据做训练\n",
    "use_increase = False\n",
    "\n",
    "# 训练采用的模型名称\n",
    "model_name = 'resnet'\n",
    "\n",
    "# 模型保存id\n",
    "model_id = 28011\n",
    "\n",
    "\n",
    "IMG_SIZE = 224\n",
    "img_size = (IMG_SIZE, IMG_SIZE)\n",
    "\n",
    "# img_size = (360,360)\n",
    "# 训练迭代次数\n",
    "epochs = 3\n",
    "\n",
    "\n",
    "# 训练每批次样本数\n",
    "batch_size = 16 "
   ]
  },
  {
   "cell_type": "code",
   "execution_count": 4,
   "metadata": {},
   "outputs": [
    {
     "name": "stderr",
     "output_type": "stream",
     "text": [
      "2021-01-15 14:24:57,395 - INFO - __init__.py - create_app - 71 - db url =sqlite:///E:\\projects\\znyx-trainer\\trainer\\../data\\production.db\n"
     ]
    }
   ],
   "source": [
    "# app创建\n",
    "app = create_app(os.getenv('FLASK_CONFIG') or 'default')\n",
    "app.app_context().push()"
   ]
  },
  {
   "cell_type": "code",
   "execution_count": 5,
   "metadata": {},
   "outputs": [
    {
     "name": "stdout",
     "output_type": "stream",
     "text": [
      "['0-无法判断', '1-食管', '2-贲门', '3-胃窦#大弯', '4-胃窦#后壁', '5-胃窦#前壁', '6-胃窦#小弯', '7-十二指肠球部', '8-十二指肠降部', '9-正镜胃体下部#大弯', '10-正镜胃体下部#后壁', '11-正镜胃体下部#前壁', '12-正镜胃体下部#小弯', '13-正镜胃体中上部#大弯', '14-正镜胃体中上部#后壁', '15-正镜胃体中上部#前壁', '16-正镜胃体中上部#小弯', '17-倒镜胃底#大弯', '18-倒镜胃底#后壁', '19-倒镜胃底#前壁', '20-倒镜胃底#小弯', '21-倒镜胃体中上部#后壁', '22-倒镜胃体中上部#前壁', '23-倒镜胃体中上部#小弯', '24-倒镜胃角#后壁', '25-倒镜胃角#前壁', '26-倒镜胃角#小弯', '27-胃#口舌部', '28-胃#咽食部']\n"
     ]
    }
   ],
   "source": [
    "cache_path = root_path + '/cache'\n",
    "res_path = root_path + '/res'\n",
    "\n",
    "# res数据分割后的训练和验证集目录\n",
    "res_train_path = root_path + '/res_train'\n",
    "res_test_path = root_path + '/res_test'\n",
    "\n",
    "# 数据平衡后的训练和验证集目录\n",
    "train_path = root_path + '/train'\n",
    "test_path = root_path + '/test'\n",
    "\n",
    "# 图片预测错误存放目录\n",
    "pred_err_path = root_path + '/pred_err'\n",
    "\n",
    "\n",
    "# trainer创建\n",
    "\n",
    "# 从数据库获取model信息，如果数据库还未建立相应的记录可查询一个已存在的，再自行修改sm的desc_list\n",
    "# sm = SmallModel.query.get(sm_name)\n",
    "\n",
    "# 生成 trainer\n",
    "sm_name = '胃29模型'\n",
    "sm_desc_list =  ['无法判断', '食管', '贲门', '胃窦#大弯', '胃窦#后壁', '胃窦#前壁', '胃窦#小弯', '十二指肠球部', \n",
    "                 '十二指肠降部', '正镜胃体下部#大弯', '正镜胃体下部#后壁', '正镜胃体下部#前壁', '正镜胃体下部#小弯',\n",
    "                 '正镜胃体中上部#大弯', '正镜胃体中上部#后壁', '正镜胃体中上部#前壁', '正镜胃体中上部#小弯','倒镜胃底#大弯', \n",
    "                 '倒镜胃底#后壁', '倒镜胃底#前壁', '倒镜胃底#小弯','倒镜胃体中上部#后壁', '倒镜胃体中上部#前壁', \n",
    "                 '倒镜胃体中上部#小弯','倒镜胃角#后壁', '倒镜胃角#前壁', '倒镜胃角#小弯', '胃#咽部']\n",
    "sm = SmallModel(sm_name)\n",
    "\n",
    "\n",
    "sm.desc_list = sm_desc_list\n",
    "trainer = Trainer(sm)\n",
    "trainer.img_size = img_size\n",
    "trainer.target_fold = root_path\n",
    "\n",
    "# 类型个数\n",
    "types_num = len(trainer.desc_list)\n",
    "\n",
    "desc_list = [str(x) + '-' + trainer.desc_list[x] for x in range(0,types_num)]\n",
    "print(desc_list)"
   ]
  },
  {
   "cell_type": "markdown",
   "metadata": {},
   "source": [
    "## 开始训练\n",
    "### 数据增强"
   ]
  },
  {
   "cell_type": "code",
   "execution_count": 5,
   "metadata": {},
   "outputs": [
    {
     "name": "stdout",
     "output_type": "stream",
     "text": [
      "Found 66216 images belonging to 29 classes.\n",
      "Found 7356 images belonging to 29 classes.\n"
     ]
    }
   ],
   "source": [
    "def img_rgb2_bgr(img):\n",
    "    return img[: , : , : : -1]\n",
    "\n",
    "# 图片生成器\n",
    "# https://keras-cn.readthedocs.io/en/latest/preprocessing/image/#imagedatagenerator\n",
    "train_datagen =  ImageDataGenerator(       \n",
    "        width_shift_range=0.1,\n",
    "        height_shift_range=0.1,\n",
    "        shear_range=0.1,\n",
    "        rotation_range=10,\n",
    "        zoom_range=0.1,\n",
    "        fill_mode='constant',\n",
    "#         vertical_flip=True,\n",
    "#         horizontal_flip=True,\n",
    "        preprocessing_function = img_rgb2_bgr,\n",
    "    )\n",
    "\n",
    "test_datagen =  ImageDataGenerator(\n",
    "        fill_mode='constant',\n",
    "        preprocessing_function = img_rgb2_bgr,\n",
    "    )\n",
    "\n",
    "# 训练数据与测试数据\n",
    "cls_mode = 'binary' if types_num == 2 else 'categorical'\n",
    "train_generator = train_datagen.flow_from_directory(\n",
    "        res_train_path,\n",
    "        target_size = img_size,\n",
    "        batch_size = batch_size,\n",
    "        class_mode = cls_mode)\n",
    "test_generator = test_datagen.flow_from_directory(\n",
    "        res_test_path,\n",
    "        target_size = img_size,\n",
    "        batch_size = batch_size,\n",
    "        class_mode = cls_mode)\n",
    "\n",
    "train_samples = train_generator.samples\n",
    "valid_samples = test_generator.samples"
   ]
  },
  {
   "cell_type": "markdown",
   "metadata": {},
   "source": [
    "### 训练\n",
    "#### 先全部冻结训练"
   ]
  },
  {
   "cell_type": "code",
   "execution_count": 6,
   "metadata": {},
   "outputs": [
    {
     "name": "stdout",
     "output_type": "stream",
     "text": [
      "WARNING:tensorflow:From C:\\Users\\Administrator.DESKTOP-L8FVK5M\\anaconda3\\lib\\site-packages\\tensorflow\\python\\ops\\resource_variable_ops.py:435: colocate_with (from tensorflow.python.framework.ops) is deprecated and will be removed in a future version.\n",
      "Instructions for updating:\n",
      "Colocations handled automatically by placer.\n"
     ]
    },
    {
     "name": "stderr",
     "output_type": "stream",
     "text": [
      "2020-09-05 14:27:39,967 - WARNING - deprecation.py - new_func - 323 - From C:\\Users\\Administrator.DESKTOP-L8FVK5M\\anaconda3\\lib\\site-packages\\tensorflow\\python\\ops\\resource_variable_ops.py:435: colocate_with (from tensorflow.python.framework.ops) is deprecated and will be removed in a future version.\n",
      "Instructions for updating:\n",
      "Colocations handled automatically by placer.\n",
      "C:\\Users\\Administrator.DESKTOP-L8FVK5M\\anaconda3\\lib\\site-packages\\keras_applications\\resnet50.py:265: UserWarning: The output shape of `ResNet50(include_top=False)` has been changed since Keras 2.2.0.\n",
      "  warnings.warn('The output shape of `ResNet50(include_top=False)` '\n"
     ]
    }
   ],
   "source": [
    "IMG_SHAPE = (IMG_SIZE, IMG_SIZE, 3)\n",
    "# Create the base model Resnet50\n",
    "base_model = ResNet50(input_shape=IMG_SHAPE,include_top=False, weights='imagenet')\n",
    "# base_model = MobileNetV2(input_shape=IMG_SHAPE,include_top=False, weights='imagenet')\n",
    "# 冻结所有层\n",
    "base_model.trainable = False\n",
    "# base_model.trainable = True"
   ]
  },
  {
   "cell_type": "code",
   "execution_count": 7,
   "metadata": {},
   "outputs": [
    {
     "name": "stdout",
     "output_type": "stream",
     "text": [
      "WARNING:tensorflow:From C:\\Users\\Administrator.DESKTOP-L8FVK5M\\anaconda3\\lib\\site-packages\\tensorflow\\python\\keras\\layers\\core.py:143: calling dropout (from tensorflow.python.ops.nn_ops) with keep_prob is deprecated and will be removed in a future version.\n",
      "Instructions for updating:\n",
      "Please use `rate` instead of `keep_prob`. Rate should be set to `rate = 1 - keep_prob`.\n"
     ]
    },
    {
     "name": "stderr",
     "output_type": "stream",
     "text": [
      "2020-09-05 14:27:44,278 - WARNING - deprecation.py - new_func - 506 - From C:\\Users\\Administrator.DESKTOP-L8FVK5M\\anaconda3\\lib\\site-packages\\tensorflow\\python\\keras\\layers\\core.py:143: calling dropout (from tensorflow.python.ops.nn_ops) with keep_prob is deprecated and will be removed in a future version.\n",
      "Instructions for updating:\n",
      "Please use `rate` instead of `keep_prob`. Rate should be set to `rate = 1 - keep_prob`.\n"
     ]
    }
   ],
   "source": [
    "from tensorflow.python.keras.optimizers import SGD\n",
    "setting = (1, 'sigmoid', 'binary_crossentropy') if types_num == 2 else (types_num, 'softmax', 'categorical_crossentropy')\n",
    "# Add a classification head\n",
    "x = GlobalAveragePooling2D()(base_model.output)\n",
    "x = Dropout(0.5)(x)\n",
    "prediction = Dense(setting[0], activation=setting[1], name='dense')(x)\n",
    "\n",
    "model = Model(base_model.input, prediction)\n",
    "\n",
    "    \n",
    "base_learning_rate = 0.0001\n",
    "sgd = SGD(lr=base_learning_rate, decay=1e-6, momentum=0.9, nesterov=True)\n",
    "model.compile(optimizer=sgd, loss=setting[2], metrics=['accuracy'])\n"
   ]
  },
  {
   "cell_type": "code",
   "execution_count": 8,
   "metadata": {},
   "outputs": [],
   "source": [
    "def fit_gen(model, model_id, epochs=5):\n",
    "    class_mode = 'binary' if types_num == 2 else 'categorical'\n",
    "    print(\"train from imgs model_id=%s ,class_mode=%s\" % (model_id, class_mode))\n",
    "\n",
    "    # 创建cache目录\n",
    "    if not os.path.exists(cache_path):\n",
    "        os.mkdir(cache_path)\n",
    "    \n",
    "    weight_path = cache_path + '/weights' + str(model_id) + '.hdf5'\n",
    "\n",
    "    # EarlyStoppingy原型：\n",
    "    # EarlyStopping(monitor='val_loss', min_delta=0, patience=0, verbose=0, mode='auto', baseline=None, restore_best_weights=False)\n",
    "    early_stop = EarlyStopping(monitor='val_loss', patience=10)\n",
    "\n",
    "    # ModelCheckpoint原型：\n",
    "    # ModelCheckpoint(filepath, monitor='val_loss', verbose=0, save_best_only=False, save_weights_only=False, mode='auto', period=1)\n",
    "    check_point = ModelCheckpoint(weight_path, monitor='val_loss', save_best_only=True, save_weights_only=True)\n",
    "\n",
    "    # callbacks设置\n",
    "    callbacks = [early_stop, check_point]\n",
    "    \n",
    "    \n",
    "    history = model.fit(\n",
    "        train_generator,\n",
    "        epochs = epochs,\n",
    "        steps_per_epoch = train_samples // batch_size,\n",
    "        validation_data = test_generator,\n",
    "        validation_steps = valid_samples // batch_size,\n",
    "        callbacks = callbacks)\n",
    "    return history"
   ]
  },
  {
   "cell_type": "code",
   "execution_count": 9,
   "metadata": {},
   "outputs": [
    {
     "name": "stdout",
     "output_type": "stream",
     "text": [
      "train from imgs model_id=100 ,class_mode=categorical\n",
      "WARNING:tensorflow:From C:\\Users\\Administrator.DESKTOP-L8FVK5M\\anaconda3\\lib\\site-packages\\tensorflow\\python\\ops\\math_ops.py:3066: to_int32 (from tensorflow.python.ops.math_ops) is deprecated and will be removed in a future version.\n",
      "Instructions for updating:\n",
      "Use tf.cast instead.\n"
     ]
    },
    {
     "name": "stderr",
     "output_type": "stream",
     "text": [
      "2020-09-05 14:27:44,479 - WARNING - deprecation.py - new_func - 323 - From C:\\Users\\Administrator.DESKTOP-L8FVK5M\\anaconda3\\lib\\site-packages\\tensorflow\\python\\ops\\math_ops.py:3066: to_int32 (from tensorflow.python.ops.math_ops) is deprecated and will be removed in a future version.\n",
      "Instructions for updating:\n",
      "Use tf.cast instead.\n"
     ]
    },
    {
     "name": "stdout",
     "output_type": "stream",
     "text": [
      "Epoch 1/20\n",
      "230/230 [==============================] - 103s 448ms/step - loss: 0.6866 - acc: 0.7766\n",
      "2070/2070 [==============================] - 1494s 722ms/step - loss: 1.7867 - acc: 0.4822 - val_loss: 0.6866 - val_acc: 0.7766\n",
      "Epoch 2/20\n",
      "230/230 [==============================] - 22s 98ms/step - loss: 0.5216 - acc: 0.8250 2s - loss: 0.5180 - acc: 0 - ETA: 2s - los\n",
      "2070/2070 [==============================] - 696s 336ms/step - loss: 0.7648 - acc: 0.7485 - val_loss: 0.5216 - val_acc: 0.8250\n",
      "Epoch 3/20\n",
      "230/230 [==============================] - 22s 97ms/step - loss: 0.4614 - acc: 0.8438\n",
      "2070/2070 [==============================] - 656s 317ms/step - loss: 0.6065 - acc: 0.7972 - val_loss: 0.4614 - val_acc: 0.8438\n",
      "Epoch 4/20\n",
      "230/230 [==============================] - 23s 98ms/step - loss: 0.4328 - acc: 0.8528\n",
      "2070/2070 [==============================] - 696s 336ms/step - loss: 0.5292 - acc: 0.8228 - val_loss: 0.4328 - val_acc: 0.8528\n",
      "Epoch 5/20\n",
      "230/230 [==============================] - 23s 101ms/step - loss: 0.4149 - acc: 0.8598\n",
      "2070/2070 [==============================] - 673s 325ms/step - loss: 0.4766 - acc: 0.8383 - val_loss: 0.4149 - val_acc: 0.8598\n",
      "Epoch 6/20\n",
      "230/230 [==============================] - 23s 100ms/step - loss: 0.3948 - acc: 0.8631\n",
      "2070/2070 [==============================] - 692s 334ms/step - loss: 0.4448 - acc: 0.8488 - val_loss: 0.3948 - val_acc: 0.8631\n",
      "Epoch 7/20\n",
      "230/230 [==============================] - 23s 100ms/step - loss: 0.4298 - acc: 0.85491s - loss: 0.4317 -\n",
      "2070/2070 [==============================] - 674s 326ms/step - loss: 0.4133 - acc: 0.8592 - val_loss: 0.4298 - val_acc: 0.8549\n",
      "Epoch 8/20\n",
      "230/230 [==============================] - 23s 102ms/step - loss: 0.3931 - acc: 0.8656\n",
      "2070/2070 [==============================] - 715s 345ms/step - loss: 0.3923 - acc: 0.8660 - val_loss: 0.3931 - val_acc: 0.8656\n",
      "Epoch 9/20\n",
      "230/230 [==============================] - 23s 101ms/step - loss: 0.3841 - acc: 0.8698\n",
      "2070/2070 [==============================] - 671s 324ms/step - loss: 0.3667 - acc: 0.8730 - val_loss: 0.3841 - val_acc: 0.8698\n",
      "Epoch 10/20\n",
      "230/230 [==============================] - 23s 99ms/step - loss: 0.3818 - acc: 0.8714 2s -\n",
      "2070/2070 [==============================] - 702s 339ms/step - loss: 0.3456 - acc: 0.8808 - val_loss: 0.3818 - val_acc: 0.8714\n",
      "Epoch 11/20\n",
      "230/230 [==============================] - 23s 99ms/step - loss: 0.3909 - acc: 0.8673\n",
      "2070/2070 [==============================] - 682s 330ms/step - loss: 0.3310 - acc: 0.8859 - val_loss: 0.3909 - val_acc: 0.8673\n",
      "Epoch 12/20\n",
      "230/230 [==============================] - 23s 100ms/step - loss: 0.3743 - acc: 0.8743\n",
      "2070/2070 [==============================] - 693s 335ms/step - loss: 0.3186 - acc: 0.8889 - val_loss: 0.3743 - val_acc: 0.8743\n",
      "Epoch 13/20\n",
      "230/230 [==============================] - 23s 100ms/step - loss: 0.3552 - acc: 0.8838\n",
      "2070/2070 [==============================] - 678s 328ms/step - loss: 0.3001 - acc: 0.8948 - val_loss: 0.3552 - val_acc: 0.8838\n",
      "Epoch 14/20\n",
      "230/230 [==============================] - 24s 105ms/step - loss: 0.3976 - acc: 0.8723\n",
      "2070/2070 [==============================] - 719s 347ms/step - loss: 0.2887 - acc: 0.9001 - val_loss: 0.3976 - val_acc: 0.8723\n",
      "Epoch 15/20\n",
      "230/230 [==============================] - 23s 101ms/step - loss: 0.3720 - acc: 0.8768\n",
      "2070/2070 [==============================] - 698s 337ms/step - loss: 0.2775 - acc: 0.9031 - val_loss: 0.3720 - val_acc: 0.8768\n",
      "Epoch 16/20\n",
      "230/230 [==============================] - 23s 102ms/step - loss: 0.3606 - acc: 0.8787\n",
      "2070/2070 [==============================] - 680s 328ms/step - loss: 0.2616 - acc: 0.9072 - val_loss: 0.3606 - val_acc: 0.8787\n",
      "Epoch 17/20\n",
      "230/230 [==============================] - 23s 101ms/step - loss: 0.3574 - acc: 0.8846\n",
      "2070/2070 [==============================] - 682s 329ms/step - loss: 0.2542 - acc: 0.9111 - val_loss: 0.3574 - val_acc: 0.8846\n",
      "Epoch 18/20\n",
      "230/230 [==============================] - 23s 102ms/step - loss: 0.3628 - acc: 0.8825\n",
      "2070/2070 [==============================] - 690s 333ms/step - loss: 0.2446 - acc: 0.9137 - val_loss: 0.3628 - val_acc: 0.8825\n",
      "Epoch 19/20\n",
      "230/230 [==============================] - 23s 102ms/step - loss: 0.3503 - acc: 0.8849\n",
      "2070/2070 [==============================] - 676s 327ms/step - loss: 0.2309 - acc: 0.9190 - val_loss: 0.3503 - val_acc: 0.8849\n",
      "Epoch 20/20\n",
      "230/230 [==============================] - 23s 101ms/step - loss: 0.3803 - acc: 0.8824\n",
      "2070/2070 [==============================] - 682s 329ms/step - loss: 0.2221 - acc: 0.9218 - val_loss: 0.3803 - val_acc: 0.8824\n"
     ]
    }
   ],
   "source": [
    "history = fit_gen(model, model_id, epochs=20)"
   ]
  },
  {
   "cell_type": "code",
   "execution_count": 10,
   "metadata": {},
   "outputs": [
    {
     "name": "stdout",
     "output_type": "stream",
     "text": [
      "Number of layers in the base model:  175\n"
     ]
    }
   ],
   "source": [
    "base_model.trainable = True\n",
    "# Let's take a look to see how many layers are in the base model\n",
    "print(\"Number of layers in the base model: \", len(base_model.layers))\n",
    "# 在 fine_tune_at 之后放开训练,根据情况修改 \n",
    "fine_tune_at = 120\n",
    "\n",
    "# Freeze all the layers before the `fine_tune_at` layer\n",
    "for layer in base_model.layers[:fine_tune_at]:\n",
    "    layer.trainable =  False\n",
    "    \n",
    "x = GlobalAveragePooling2D()(base_model.output)\n",
    "x = Dropout(0.5)(x)\n",
    "prediction = Dense(setting[0], activation=setting[1], name='dense')(x)\n",
    "\n",
    "model = Model(base_model.input, prediction)\n",
    "\n",
    "\n",
    "# base_learning_rate = 0.0001\n",
    "sgd = SGD(lr=base_learning_rate/10, decay=1e-6, momentum=0.9, nesterov=True)\n",
    "model.compile(optimizer=sgd, loss=setting[2], metrics=['accuracy'])\n"
   ]
  },
  {
   "cell_type": "code",
   "execution_count": 11,
   "metadata": {},
   "outputs": [
    {
     "name": "stdout",
     "output_type": "stream",
     "text": [
      "train from imgs model_id=100 ,class_mode=categorical\n",
      "Epoch 1/100\n",
      "230/230 [==============================] - 23s 100ms/step - loss: 0.8917 - acc: 0.79431s - loss: 0.8\n",
      "2070/2070 [==============================] - 665s 321ms/step - loss: 2.2107 - acc: 0.4199 - val_loss: 0.8917 - val_acc: 0.7943\n",
      "Epoch 2/100\n",
      "230/230 [==============================] - 24s 103ms/step - loss: 0.5345 - acc: 0.8532\n",
      "2070/2070 [==============================] - 676s 327ms/step - loss: 0.9038 - acc: 0.7737 - val_loss: 0.5345 - val_acc: 0.8532\n",
      "Epoch 3/100\n",
      "230/230 [==============================] - 23s 101ms/step - loss: 0.4563 - acc: 0.8601\n",
      "2070/2070 [==============================] - 660s 319ms/step - loss: 0.6149 - acc: 0.8346 - val_loss: 0.4563 - val_acc: 0.8601\n",
      "Epoch 4/100\n",
      "230/230 [==============================] - 24s 103ms/step - loss: 0.4321 - acc: 0.8635\n",
      "2070/2070 [==============================] - 677s 327ms/step - loss: 0.5051 - acc: 0.8563 - val_loss: 0.4321 - val_acc: 0.8635\n",
      "Epoch 5/100\n",
      "230/230 [==============================] - 23s 102ms/step - loss: 0.4212 - acc: 0.8643\n",
      "2070/2070 [==============================] - 679s 328ms/step - loss: 0.4516 - acc: 0.8665 - val_loss: 0.4212 - val_acc: 0.8643\n",
      "Epoch 6/100\n",
      "230/230 [==============================] - 23s 101ms/step - loss: 0.4139 - acc: 0.8675\n",
      "2070/2070 [==============================] - 662s 320ms/step - loss: 0.4207 - acc: 0.8707 - val_loss: 0.4139 - val_acc: 0.8675\n",
      "Epoch 7/100\n",
      "230/230 [==============================] - 23s 101ms/step - loss: 0.4100 - acc: 0.8673\n",
      "2070/2070 [==============================] - 663s 320ms/step - loss: 0.3931 - acc: 0.8785 - val_loss: 0.4100 - val_acc: 0.8673\n",
      "Epoch 8/100\n",
      "230/230 [==============================] - 23s 100ms/step - loss: 0.4101 - acc: 0.8694\n",
      "2070/2070 [==============================] - 669s 323ms/step - loss: 0.3770 - acc: 0.8810 - val_loss: 0.4101 - val_acc: 0.8694\n",
      "Epoch 9/100\n",
      "230/230 [==============================] - 23s 101ms/step - loss: 0.4066 - acc: 0.8699\n",
      "2070/2070 [==============================] - 660s 319ms/step - loss: 0.3667 - acc: 0.8845 - val_loss: 0.4066 - val_acc: 0.8699\n",
      "Epoch 10/100\n",
      "230/230 [==============================] - 23s 101ms/step - loss: 0.4071 - acc: 0.8691\n",
      "2070/2070 [==============================] - 661s 320ms/step - loss: 0.3516 - acc: 0.8876 - val_loss: 0.4071 - val_acc: 0.8691\n",
      "Epoch 11/100\n",
      "230/230 [==============================] - 23s 102ms/step - loss: 0.4081 - acc: 0.8703\n",
      "2070/2070 [==============================] - 661s 319ms/step - loss: 0.3432 - acc: 0.8905 - val_loss: 0.4081 - val_acc: 0.8703\n",
      "Epoch 12/100\n",
      "230/230 [==============================] - 23s 101ms/step - loss: 0.4072 - acc: 0.8704\n",
      "2070/2070 [==============================] - 671s 324ms/step - loss: 0.3365 - acc: 0.8913 - val_loss: 0.4072 - val_acc: 0.8704\n",
      "Epoch 13/100\n",
      "230/230 [==============================] - 23s 101ms/step - loss: 0.4073 - acc: 0.8706\n",
      "2070/2070 [==============================] - 659s 318ms/step - loss: 0.3310 - acc: 0.8915 - val_loss: 0.4073 - val_acc: 0.8706\n",
      "Epoch 14/100\n",
      "230/230 [==============================] - 23s 101ms/step - loss: 0.4049 - acc: 0.87062s - l\n",
      "2070/2070 [==============================] - 661s 319ms/step - loss: 0.3207 - acc: 0.8957 - val_loss: 0.4049 - val_acc: 0.8706\n",
      "Epoch 15/100\n",
      "230/230 [==============================] - 23s 101ms/step - loss: 0.4032 - acc: 0.8725\n",
      "2070/2070 [==============================] - 661s 320ms/step - loss: 0.3158 - acc: 0.8986 - val_loss: 0.4032 - val_acc: 0.8725\n",
      "Epoch 16/100\n",
      "230/230 [==============================] - 23s 101ms/step - loss: 0.4039 - acc: 0.8725\n",
      "2070/2070 [==============================] - 667s 322ms/step - loss: 0.3075 - acc: 0.8992 - val_loss: 0.4039 - val_acc: 0.8725\n",
      "Epoch 17/100\n",
      "230/230 [==============================] - 23s 101ms/step - loss: 0.4053 - acc: 0.87221s - loss: 0.4039 - acc: - ETA: 1s - loss: 0.4000 -\n",
      "2070/2070 [==============================] - 659s 318ms/step - loss: 0.3027 - acc: 0.9002 - val_loss: 0.4053 - val_acc: 0.8722\n",
      "Epoch 18/100\n",
      "230/230 [==============================] - 23s 102ms/step - loss: 0.4076 - acc: 0.8719\n",
      "2070/2070 [==============================] - 663s 320ms/step - loss: 0.3025 - acc: 0.9013 - val_loss: 0.4076 - val_acc: 0.8719\n",
      "Epoch 19/100\n",
      "230/230 [==============================] - 23s 100ms/step - loss: 0.4085 - acc: 0.8732\n",
      "2070/2070 [==============================] - 658s 318ms/step - loss: 0.2942 - acc: 0.9034 - val_loss: 0.4085 - val_acc: 0.8732\n",
      "Epoch 20/100\n",
      "230/230 [==============================] - 23s 101ms/step - loss: 0.4078 - acc: 0.8723\n",
      "2070/2070 [==============================] - 694s 335ms/step - loss: 0.2930 - acc: 0.9033 - val_loss: 0.4078 - val_acc: 0.8723\n",
      "Epoch 21/100\n",
      "230/230 [==============================] - 23s 99ms/step - loss: 0.4069 - acc: 0.8728\n",
      "2070/2070 [==============================] - 661s 319ms/step - loss: 0.2860 - acc: 0.9045 - val_loss: 0.4069 - val_acc: 0.8728\n",
      "Epoch 22/100\n",
      "230/230 [==============================] - 23s 101ms/step - loss: 0.4054 - acc: 0.8728TA: 3\n",
      "2070/2070 [==============================] - 713s 344ms/step - loss: 0.2843 - acc: 0.9059 - val_loss: 0.4054 - val_acc: 0.8728\n",
      "Epoch 23/100\n",
      "230/230 [==============================] - 23s 100ms/step - loss: 0.4061 - acc: 0.8744\n",
      "2070/2070 [==============================] - 667s 322ms/step - loss: 0.2817 - acc: 0.9069 - val_loss: 0.4061 - val_acc: 0.8744\n",
      "Epoch 24/100\n",
      "230/230 [==============================] - 23s 101ms/step - loss: 0.4094 - acc: 0.8732\n",
      "2070/2070 [==============================] - 661s 319ms/step - loss: 0.2809 - acc: 0.9070 - val_loss: 0.4094 - val_acc: 0.8732\n",
      "Epoch 25/100\n",
      "230/230 [==============================] - 24s 103ms/step - loss: 0.4109 - acc: 0.8740\n",
      "2070/2070 [==============================] - 662s 320ms/step - loss: 0.2732 - acc: 0.9096 - val_loss: 0.4109 - val_acc: 0.8740\n"
     ]
    }
   ],
   "source": [
    "history = fit_gen(model, model_id, epochs=100)"
   ]
  },
  {
   "cell_type": "markdown",
   "metadata": {},
   "source": [
    "## 保存模型"
   ]
  },
  {
   "cell_type": "code",
   "execution_count": 12,
   "metadata": {},
   "outputs": [
    {
     "name": "stderr",
     "output_type": "stream",
     "text": [
      "2020-09-05 23:08:38,103 - INFO - trainer.py - save_model - 452 - save model success ,num=100\n"
     ]
    }
   ],
   "source": [
    "trainer.save_model(model, model_id)"
   ]
  },
  {
   "cell_type": "code",
   "execution_count": 7,
   "metadata": {},
   "outputs": [],
   "source": [
    "model_id = 100"
   ]
  },
  {
   "cell_type": "markdown",
   "metadata": {},
   "source": [
    "## 测试集测试"
   ]
  },
  {
   "cell_type": "code",
   "execution_count": 8,
   "metadata": {},
   "outputs": [
    {
     "name": "stdout",
     "output_type": "stream",
     "text": [
      "WARNING:tensorflow:From C:\\Users\\admin\\Anaconda3\\lib\\site-packages\\tensorflow\\python\\ops\\resource_variable_ops.py:435: colocate_with (from tensorflow.python.framework.ops) is deprecated and will be removed in a future version.\n",
      "Instructions for updating:\n",
      "Colocations handled automatically by placer.\n"
     ]
    },
    {
     "name": "stderr",
     "output_type": "stream",
     "text": [
      "2021-01-15 14:25:40,821 - WARNING - deprecation.py - new_func - 323 - From C:\\Users\\admin\\Anaconda3\\lib\\site-packages\\tensorflow\\python\\ops\\resource_variable_ops.py:435: colocate_with (from tensorflow.python.framework.ops) is deprecated and will be removed in a future version.\n",
      "Instructions for updating:\n",
      "Colocations handled automatically by placer.\n"
     ]
    },
    {
     "name": "stdout",
     "output_type": "stream",
     "text": [
      "WARNING:tensorflow:From C:\\Users\\admin\\Anaconda3\\lib\\site-packages\\tensorflow\\python\\keras\\layers\\core.py:143: calling dropout (from tensorflow.python.ops.nn_ops) with keep_prob is deprecated and will be removed in a future version.\n",
      "Instructions for updating:\n",
      "Please use `rate` instead of `keep_prob`. Rate should be set to `rate = 1 - keep_prob`.\n"
     ]
    },
    {
     "name": "stderr",
     "output_type": "stream",
     "text": [
      "2021-01-15 14:25:43,934 - WARNING - deprecation.py - new_func - 506 - From C:\\Users\\admin\\Anaconda3\\lib\\site-packages\\tensorflow\\python\\keras\\layers\\core.py:143: calling dropout (from tensorflow.python.ops.nn_ops) with keep_prob is deprecated and will be removed in a future version.\n",
      "Instructions for updating:\n",
      "Please use `rate` instead of `keep_prob`. Rate should be set to `rate = 1 - keep_prob`.\n",
      "2021-01-15 14:25:45,861 - INFO - trainer.py - load_model - 439 - load weights 100\n"
     ]
    }
   ],
   "source": [
    "model = trainer.load_model(model_id)\n",
    "# 加载训练中的最优模型\n",
    "# model.load_weights(trainer.get_weight_file(model_id))\n"
   ]
  },
  {
   "cell_type": "code",
   "execution_count": 11,
   "metadata": {},
   "outputs": [
    {
     "name": "stdout",
     "output_type": "stream",
     "text": [
      "find 29 from F:\\!backup\\E盘\\projects\\znyx-trainer\\job_2020\\imgs_wei_29/res_test\n",
      "load data from fold finished ,count=7356\n",
      "7356/7356 [==============================] - 17s 2ms/sample\n",
      "cast139ms, fold: ['F:\\\\!backup\\\\E盘\\\\projects\\\\znyx-trainer\\\\job_2020\\\\imgs_wei_29/res_test'] ,accurracy:87\n",
      "Confusion matrix, without normalization\n",
      "[[225   1   1   1   1   2   3   5   1   1   2   3   0   3   1   1   1   0\n",
      "    1   0   0   0   0   0   1   2   0   0   2]\n",
      " [  0 268  13   1   1   0   0   0   0   0   0   0   0   0   0   0   1   0\n",
      "    0   0   0   0   0   0   0   0   0   0   0]\n",
      " [  2  23 223   0   1   3   3   0   1   0   0   0   0   1   0   0   1   0\n",
      "    0   0   1   0   0   0   0   0   0   0   3]\n",
      " [  0   0   1 240  24  43   2   0   1   7   1   0   1   0   0   0   0   0\n",
      "    0   0   0   0   0   0   0   0   0   0   0]\n",
      " [  2   0   0  11 262   1  11   0   0   0   1   0   0   0   0   0   0   0\n",
      "    0   0   0   0   0   0   1   0   0   0   0]\n",
      " [  0   0   0   8   1 333  11   0   0   0   0   0   0   0   0   0   0   0\n",
      "    0   0   0   0   0   0   0   2   0   0   0]\n",
      " [  3   0   1   1   1   7 329   0   0   0   0   0   0   0   0   0   0   0\n",
      "    0   0   0   0   0   0   2   3   1   0   0]\n",
      " [  5   0   0   1   1   4   4 196   8   2   0   5   0   0   0   0   0   0\n",
      "    0   1   0   0   0   0   0   2   0   0   0]\n",
      " [  0   0   0   1   1   0   0   6 241   0   0   0   0   0   0   0   1   0\n",
      "    0   0   0   0   0   0   0   0   0   0   0]\n",
      " [  4   0   0   6   0   1   0   1   0 179  10  17   2   5   0   0   1   0\n",
      "    0   0   0   0   0   0   0   0   0   0   0]\n",
      " [  2   1   0   0   1   0   0   0   0  15 137   0   4   0   9   0   2   1\n",
      "    0   0   0   0   0   0   0   0   0   0   0]\n",
      " [  1   0   0   0   0   2   0   0   0  10   1 142   7   1   2   8   0   0\n",
      "    0   0   0   0   0   0   0   0   0   0   0]\n",
      " [  0   0   0   0   1   0   2   1   0   1   2   4 173   0   0   4  19   0\n",
      "    0   0   0   0   0   0   1   0   0   0   0]\n",
      " [  2   0   1   0   0   0   0   2   0   7   0   2   0 324  14  25   5   3\n",
      "    0   0   0   0   0   0   0   0   0   0   0]\n",
      " [  2   0   0   0   0   0   1   0   0   3   7   0   0  11 151   0  15   0\n",
      "    0   0   0   1   0   0   2   0   0   0   0]\n",
      " [  0   0   0   0   0   0   0   0   0   1   0   2   1  16   2 120   4   0\n",
      "    0   0   0   0   1   0   0   0   0   0   0]\n",
      " [  0   1   0   0   0   0   1   0   0   0   1   0   2   0   8   4 279   0\n",
      "    0   0   0   0   0   2   0   0   0   0   0]\n",
      " [  0   0   0   0   0   0   0   0   0   1   0   0   0   2   0   0   0 272\n",
      "   16  25   0   0   0   0   0   1   0   0   0]\n",
      " [  0   0   0   0   0   0   0   0   0   0   0   0   0   0   0   0   0  10\n",
      "  199   3   4   4   0   0   0   0   0   0   0]\n",
      " [  0   0   0   0   0   0   0   0   0   0   0   0   0   0   0   0   0   6\n",
      "    0 377   2   0   6   1   1   0   1   0   0]\n",
      " [  0   0   0   0   0   0   0   0   0   0   0   0   0   0   0   0   0   0\n",
      "    1   1 182   2   1   6   2   0   0   0   0]\n",
      " [  0   0   0   0   0   0   0   0   0   0   0   0   0   0   1   1   0   0\n",
      "    4   0   1 159   9  11   0   0   0   0   0]\n",
      " [  0   0   0   0   0   0   0   0   0   0   0   0   0   0   0   0   0   0\n",
      "    0  12   0  12 160  26   0   0   0   0   0]\n",
      " [  0   0   0   0   0   0   0   0   0   0   0   0   0   0   0   0   0   0\n",
      "    0   1  11  21  19 227   1   2   0   0   0]\n",
      " [  0   0   0   0   0   0   1   0   0   0   0   0   0   0   0   0   1   0\n",
      "    0   1   0   0   0   1 314   1   6   0   0]\n",
      " [  0   0   0   0   0   1   1   0   0   0   0   0   0   0   0   0   0   0\n",
      "    0   0   0   0   0   1   1 293   9   0   0]\n",
      " [  0   0   0   0   0   0   4   0   0   0   0   0   0   0   0   0   1   0\n",
      "    0   0   0   0   0   1  22  49 156   0   0]\n",
      " [  1   1   0   0   0   0   0   0   0   0   0   0   0   0   0   0   0   0\n",
      "    0   0   0   0   0   0   0   0   0 136   3]\n",
      " [  3   3   1   1   0   0   0   0   1   0   0   1   0   0   0   0   0   0\n",
      "    0   0   0   0   0   0   0   0   0   5 134]]\n",
      "测试结果:\n",
      "acc: 87.43%\n",
      "0: 87.21%\n",
      "1: 94.37%\n",
      "2: 85.11%\n",
      "3: 75.00%\n",
      "4: 90.66%\n",
      "5: 93.80%\n",
      "6: 94.54%\n",
      "7: 85.59%\n",
      "8: 96.40%\n",
      "9: 79.20%\n",
      "10: 79.65%\n",
      "11: 81.61%\n",
      "12: 83.17%\n",
      "13: 84.16%\n",
      "14: 78.24%\n",
      "15: 81.63%\n",
      "16: 93.62%\n",
      "17: 85.80%\n",
      "18: 90.45%\n",
      "19: 95.69%\n",
      "20: 93.33%\n",
      "21: 85.48%\n",
      "22: 76.19%\n",
      "23: 80.50%\n",
      "24: 96.62%\n",
      "25: 95.75%\n",
      "26: 66.95%\n",
      "27: 96.45%\n",
      "28: 89.93%\n",
      "\n"
     ]
    },
    {
     "name": "stderr",
     "output_type": "stream",
     "text": [
      "2021-01-15 14:28:37,289 - INFO - plot.py - show_matrix - 177 - save plot image to F:\\!backup\\E盘\\projects\\znyx-trainer\\job_2020\\imgs_wei_29\\2021-01-15-14-28_342.png \n",
      "2021-01-15 14:28:37,291 - INFO - plot.py - show_matrix - 184 - accurracy:0.8742523110386079\n"
     ]
    },
    {
     "data": {
      "text/plain": [
       "<Figure size 432x288 with 0 Axes>"
      ]
     },
     "metadata": {},
     "output_type": "display_data"
    },
    {
     "data": {
      "image/png": "[encoded data removed]",
      "text/plain": [
       "<Figure size 576x576 with 2 Axes>"
      ]
     },
     "metadata": {
      "needs_background": "light"
     },
     "output_type": "display_data"
    },
    {
     "name": "stdout",
     "output_type": "stream",
     "text": [
      "['0-无法判断', '1-食管', '2-贲门', '3-胃窦#大弯', '4-胃窦#后壁', '5-胃窦#前壁', '6-胃窦#小弯', '7-十二指肠球部', '8-十二指肠降部', '9-正镜胃体下部#大弯', '10-正镜胃体下部#后壁', '11-正镜胃体下部#前壁', '12-正镜胃体下部#小弯', '13-正镜胃体中上部#大弯', '14-正镜胃体中上部#后壁', '15-正镜胃体中上部#前壁', '16-正镜胃体中上部#小弯', '17-倒镜胃底#大弯', '18-倒镜胃底#后壁', '19-倒镜胃底#前壁', '20-倒镜胃底#小弯', '21-倒镜胃体中上部#后壁', '22-倒镜胃体中上部#前壁', '23-倒镜胃体中上部#小弯', '24-倒镜胃角#后壁', '25-倒镜胃角#前壁', '26-倒镜胃角#小弯', '27-胃#口舌部', '28-胃#咽食部']\n"
     ]
    }
   ],
   "source": [
    "\n",
    "use_increase = True\n",
    "# 显示预测准确度、混淆矩阵，保持混淆矩阵图到root_path\n",
    "test_path = res_test_path\n",
    "acc, y_pred, y_true, file_test,_ = trainer.predict_data([test_path if use_increase else res_test_path], model = model,binary_threshold=0.5)\n",
    "path = Plot.show_matrix(y_pred, y_true, types_num, root_path)\n",
    "plt.show()\n",
    "\n",
    "print(desc_list)    \n",
    " "
   ]
  },
  {
   "cell_type": "code",
   "execution_count": null,
   "metadata": {},
   "outputs": [],
   "source": [
    "use_increase = True\n",
    "# 显示预测准确度、混淆矩阵，保持混淆矩阵图到root_path\n",
    "acc, y_pred, y_true, file_test = trainer.predict_data([test_path if use_increase else res_test_path], model = model,binary_threshold=optimal_threshold)\n",
    "path = Plot.show_matrix(y_pred, y_true, types_num, root_path)\n",
    "plt.show()\n",
    "\n",
    "print(desc_list)"
   ]
  },
  {
   "cell_type": "code",
   "execution_count": null,
   "metadata": {},
   "outputs": [],
   "source": [
    "acc: 98.51%\n",
    "0: 98.69%\n",
    "1: 98.35%"
   ]
  },
  {
   "cell_type": "code",
   "execution_count": 34,
   "metadata": {},
   "outputs": [
    {
     "name": "stdout",
     "output_type": "stream",
     "text": [
      "0.8853171155516942\n"
     ]
    }
   ],
   "source": [
    "## 测试\n",
    "\n",
    "import cv2\n",
    "from natsort import natsorted\n",
    "\n",
    "from mbsh.core.images import sort_by_file_name,load_img_data,fetch_all_files\n",
    "imgs_path0 = r'E:\\tmp\\001_0_171315_2020_09_03_05_51_257'\n",
    "\n",
    "nums = 0\n",
    "# 获取该路径下所有图片\n",
    "files = os.listdir(imgs_path0)\n",
    "files = natsorted(files)\n",
    "src_size = 224\n",
    "new_size = 224\n",
    "def read_img(path):\n",
    "    img = cv2.imdecode(np.fromfile(path, dtype=np.uint8), cv2.IMREAD_UNCHANGED) #cv2.imread(path)\n",
    "    img = cv2.resize(img, (src_size, src_size), cv2.INTER_LINEAR)\n",
    "        \n",
    "    return img\n",
    "\n",
    "# self.lesion_similar = self.beta2 * self.lesion_similar + (1 - self.beta2) * similarity\n",
    "pred = 0\n",
    "for file in files:\n",
    "    fpath = os.path.join(imgs_path0, file)\n",
    "    img = read_img(fpath)\n",
    "    \n",
    "    x = np.array(img,dtype=\"float32\")\n",
    "\n",
    "#     xx = np.random.randint(0, src_size-new_size)\n",
    "#     yy = np.random.randint(0, src_size-new_size)\n",
    "    xx=int((src_size-new_size)//2)\n",
    "    yy=int((src_size-new_size)//2)\n",
    "    x = x[xx:xx+new_size, yy:yy+new_size,:]\n",
    "    \n",
    "    if x.shape[2] != 3:\n",
    "        \n",
    "        x = x[:, :, :3]\n",
    "        \n",
    "    predictions = model.predict(np.asarray([x]), verbose=0)\n",
    "    \n",
    "    if predictions[0][0] > 0.5:\n",
    "        nums += 1\n",
    "#     pred = 0.8 * pred + (1 - 0.8) * predictions[0][0]     \n",
    "#     print(file,\": \",predictions[0][0])\n",
    "        \n",
    "print(nums/len(files))\n",
    "# 224 0.8637037037037038\n",
    "#256  0.9807407407407407\n",
    "# 232 0.9348148148148148\n",
    "#     print(file,\": \",predictions[0][0])\n",
    "# 212张\n",
    "# 224  0.37264150943396224\n",
    "# 256 0.7688679245283019\n",
    "# 300 0.9669811320754716"
   ]
  },
  {
   "cell_type": "code",
   "execution_count": null,
   "metadata": {},
   "outputs": [],
   "source": [
    "\n",
    "    y = np.random.randint(0, h-size)\n",
    "    x = np.random.randint(0, w-size)\n",
    "\n",
    "    image = image[y:y+size, x:x+size, :]"
   ]
  },
  {
   "cell_type": "code",
   "execution_count": 28,
   "metadata": {},
   "outputs": [],
   "source": [
    "import cv2\n",
    "from mbsh.core.images import sort_by_file_name,load_img_data,fetch_all_files\n",
    "imgs_path0 = r'E:\\projects\\znyx-trainer\\job_2020\\imgs_in_out\\test\\00'\n",
    "imgs_path1 = r'E:\\projects\\znyx-trainer\\job_2020\\imgs_in_out\\test\\01'\n",
    "binary_threshold = 0.5\n",
    "pred0_0 = 0\n",
    "pred0_1 = 0\n",
    "pred1_0 = 0\n",
    "pred1_1 = 0\n",
    "\n",
    "src_size = 300\n",
    "new_size = 224\n",
    "# 获取该路径下所有图片\n",
    "files_list0=fetch_all_files(imgs_path0)\n",
    "files_list0=sort_by_file_name(files_list0)\n",
    "\n",
    "files_list1=fetch_all_files(imgs_path1)\n",
    "files_list1=sort_by_file_name(files_list1)\n",
    "label0 = [0] * len(files_list0)\n",
    "label1 = [1] * len(files_list1)\n",
    "files_list = files_list0 + files_list1\n",
    "label = label0 + label1\n",
    "x_test = []\n",
    "X = []\n",
    "def read_img(path):\n",
    "    img = cv2.imdecode(np.fromfile(path, dtype=np.uint8), cv2.IMREAD_UNCHANGED) #cv2.imread(path)\n",
    "    img = cv2.resize(img, (src_size, src_size), cv2.INTER_LINEAR)\n",
    "    return img\n",
    "\n",
    "for file in files_list0:\n",
    "    img = read_img(file)\n",
    "    x_test.append(img)\n",
    "\n",
    "for x in x_test:\n",
    "    x = np.array(x,dtype=\"float32\")\n",
    "    \n",
    "    xx = np.random.randint(0, src_size-new_size)\n",
    "    yy = np.random.randint(0, src_size-new_size)\n",
    "\n",
    "    xx=int((src_size-new_size)//2)\n",
    "    yy=int((src_size-new_size)//2)\n",
    "    x = x[xx:xx+new_size, yy:yy+new_size,:]\n",
    "    if x.shape[2] != 3:\n",
    "        x = x[:, :, :3]\n",
    "    predictions = model.predict(np.asarray([x]), verbose=0)[0][0]\n",
    "    y_pred = 1 if predictions > binary_threshold else 0\n",
    "    \n",
    "    if y_pred == 0:\n",
    "        pred0_0 += 1\n",
    "    else:\n",
    "        pred0_1 += 1\n",
    "        \n",
    "x_test = []\n",
    "X = []     \n",
    "for file in files_list1:\n",
    "    img = read_img(file)\n",
    "    x_test.append(img)\n",
    "\n",
    "for x in x_test:\n",
    "    x = np.array(x,dtype=\"float32\")\n",
    "    xx = np.random.randint(0, src_size-new_size)\n",
    "    yy = np.random.randint(0, src_size-new_size)\n",
    "\n",
    "    xx=int((src_size-new_size)//2)\n",
    "    yy=int((src_size-new_size)//2)\n",
    "    x = x[xx:xx+new_size, yy:yy+new_size,:]\n",
    "    if x.shape[2] != 3:\n",
    "        x = x[:, :, :3]\n",
    "    predictions = model.predict(np.asarray([x]), verbose=0)[0][0]\n",
    "    y_pred = 1 if predictions > binary_threshold else 0\n",
    "    \n",
    "    if y_pred == 0:\n",
    "        pred1_0 += 1\n",
    "    else:\n",
    "        pred1_1 += 1   \n",
    "    "
   ]
  },
  {
   "cell_type": "code",
   "execution_count": 29,
   "metadata": {},
   "outputs": [],
   "source": [
    "acc = (pred0_0 + pred1_1) / (pred0_0 + pred1_1 + pred0_1 + pred1_0) * 100\n",
    "acc0 = (pred0_0) / (pred0_0 +pred0_1) * 100\n",
    "acc1 = (pred1_1) / (pred1_1 + pred1_0) * 100"
   ]
  },
  {
   "cell_type": "code",
   "execution_count": 30,
   "metadata": {},
   "outputs": [
    {
     "name": "stdout",
     "output_type": "stream",
     "text": [
      "准确率:96.62%, 体外准确率:93.78%,体内准确率:99.12%\n"
     ]
    }
   ],
   "source": [
    "print(f\"准确率:{acc:.2f}%, 体外准确率:{acc0:.2f}%,体内准确率:{acc1:.2f}%\")"
   ]
  },
  {
   "cell_type": "code",
   "execution_count": 55,
   "metadata": {},
   "outputs": [],
   "source": [
    "# 直接resize224 准确率:98.51%, 体外准确率:98.69%,体内准确率:98.35%\n",
    "# 256 准确率:97.75%, 体外准确率:96.19%,体内准确率:99.12%\n",
    "# 232 准确率:98.63%, 体外准确率:98.34%,体内准确率:98.88%\n",
    "# 准确率:96.62%, 体外准确率:93.78%,体内准确率:99.12%\n",
    "# random crop\n",
    "# 256 准确率:97.71%, 体外准确率:96.32%,体内准确率:98.92%\n",
    "# 232 准确率:98.46%, 体外准确率:98.20%,体内准确率:98.69%"
   ]
  },
  {
   "cell_type": "code",
   "execution_count": 9,
   "metadata": {},
   "outputs": [
    {
     "name": "stdout",
     "output_type": "stream",
     "text": [
      "4884/4884 [==============================] - 8s 2ms/sample\n"
     ]
    }
   ],
   "source": [
    "import cv2\n",
    "from mbsh.core.images import sort_by_file_name,load_img_data,fetch_all_files\n",
    "imgs_path0 = r'E:\\projects\\znyx-trainer\\job_2020\\imgs_in_out\\test\\00'\n",
    "imgs_path1 = r'E:\\projects\\znyx-trainer\\job_2020\\imgs_in_out\\test\\01'\n",
    "\n",
    "# 获取该路径下所有图片\n",
    "files_list0=fetch_all_files(imgs_path0)\n",
    "files_list0=sort_by_file_name(files_list0)\n",
    "\n",
    "files_list1=fetch_all_files(imgs_path1)\n",
    "files_list1=sort_by_file_name(files_list1)\n",
    "label0 = [0] * len(files_list0)\n",
    "label1 = [1] * len(files_list1)\n",
    "files_list = files_list0 + files_list1\n",
    "label = label0 + label1\n",
    "x_test = []\n",
    "X = []\n",
    "def read_img(path):\n",
    "    img = cv2.imdecode(np.fromfile(path, dtype=np.uint8), cv2.IMREAD_UNCHANGED) #cv2.imread(path)\n",
    "    img = cv2.resize(img, (224, 224), cv2.INTER_LINEAR)\n",
    "    return img\n",
    "\n",
    "for file in files_list:\n",
    "    img = read_img(file)\n",
    "    x_test.append(img)\n",
    "\n",
    "for x in x_test:\n",
    "    x = np.array(x,dtype=\"float32\")\n",
    "    if x.shape[2] != 3:\n",
    "        x = x[:, :, :3]\n",
    "    X.append(x)\n",
    "\n",
    "X= np.asarray(X)\n",
    "\n",
    "predictions_list = model.predict(X, verbose=1)\n",
    "\n"
   ]
  },
  {
   "cell_type": "code",
   "execution_count": null,
   "metadata": {},
   "outputs": [],
   "source": []
  },
  {
   "cell_type": "code",
   "execution_count": 10,
   "metadata": {},
   "outputs": [],
   "source": [
    "pred = []\n",
    "for i in predictions_list:\n",
    "#     print(i[0])\n",
    "    pred.append(i[0])"
   ]
  },
  {
   "cell_type": "code",
   "execution_count": 11,
   "metadata": {},
   "outputs": [],
   "source": [
    "from sklearn.metrics import roc_curve, auc"
   ]
  },
  {
   "cell_type": "code",
   "execution_count": 12,
   "metadata": {},
   "outputs": [],
   "source": [
    "fpr,tpr,thresholds = roc_curve(label,pred)"
   ]
  },
  {
   "cell_type": "code",
   "execution_count": 13,
   "metadata": {},
   "outputs": [
    {
     "data": {
      "text/plain": [
       "0.9981371244779739"
      ]
     },
     "execution_count": 13,
     "metadata": {},
     "output_type": "execute_result"
    }
   ],
   "source": [
    "roc_auc = auc(fpr, tpr)\n",
    "roc_auc"
   ]
  },
  {
   "cell_type": "code",
   "execution_count": 14,
   "metadata": {},
   "outputs": [
    {
     "data": {
      "text/plain": [
       "130"
      ]
     },
     "execution_count": 14,
     "metadata": {},
     "output_type": "execute_result"
    }
   ],
   "source": [
    "optimal_idx = np.argmax(tpr - fpr)\n",
    "optimal_threshold = thresholds[optimal_idx]\n",
    "optimal_threshold\n",
    "optimal_idx"
   ]
  },
  {
   "cell_type": "code",
   "execution_count": 15,
   "metadata": {},
   "outputs": [
    {
     "data": {
      "text/plain": [
       "0.37347806"
      ]
     },
     "execution_count": 15,
     "metadata": {},
     "output_type": "execute_result"
    }
   ],
   "source": [
    "optimal_threshold"
   ]
  },
  {
   "cell_type": "code",
   "execution_count": 16,
   "metadata": {},
   "outputs": [
    {
     "data": {
      "image/png": "[encoded data removed]",
      "text/plain": [
       "<Figure size 720x576 with 1 Axes>"
      ]
     },
     "metadata": {
      "needs_background": "light"
     },
     "output_type": "display_data"
    }
   ],
   "source": [
    "from matplotlib import pyplot as plt\n",
    "plt.figure(figsize=(10,8))\n",
    "plt.plot(fpr, tpr, lw=1)    # 画出当前分割数据的ROC曲线\n",
    "\n",
    "plt.xlim([-0.05, 1.05])     # 设置x、y轴的上下限，设置宽一点，以免和边缘重合，可以更好的观察图像的整体\n",
    "plt.ylim([-0.05, 1.05])\n",
    "plt.xlabel('False Positive Rate')\n",
    "plt.ylabel('True Positive Rate')    # 可以使用中文，但需要导入一些库即字体\n",
    "plt.title('in_out-ROC-AUS: {:.4f}'.format(roc_auc))\n",
    "\n",
    "\n",
    "plt.annotate(r'threshold={:.3f}'.format(optimal_threshold), xy=(fpr[optimal_idx], tpr[optimal_idx]), xycoords='data', xytext=(+30, -30),\n",
    "             textcoords='offset points', fontsize=12, color='blue',\n",
    "             arrowprops=dict(arrowstyle='->', connectionstyle=\"arc3,rad=.1\",color='red'))\n",
    "plt.savefig(\"roc2.png\")"
   ]
  },
  {
   "cell_type": "code",
   "execution_count": null,
   "metadata": {},
   "outputs": [],
   "source": []
  }
 ],
 "metadata": {
  "kernelspec": {
   "display_name": "Python 3 (ipykernel)",
   "language": "python",
   "name": "python3"
  },
  "language_info": {
   "codemirror_mode": {
    "name": "ipython",
    "version": 3
   },
   "file_extension": ".py",
   "mimetype": "text/x-python",
   "name": "python",
   "nbconvert_exporter": "python",
   "pygments_lexer": "ipython3",
   "version": "3.9.7"
  },
  "toc": {
   "base_numbering": 1,
   "nav_menu": {},
   "number_sections": true,
   "sideBar": true,
   "skip_h1_title": false,
   "title_cell": "Table of Contents",
   "title_sidebar": "Contents",
   "toc_cell": false,
   "toc_position": {},
   "toc_section_display": true,
   "toc_window_display": false
  }
 },
 "nbformat": 4,
 "nbformat_minor": 4
}
