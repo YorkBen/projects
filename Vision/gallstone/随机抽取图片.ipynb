{
 "cells": [
  {
   "cell_type": "code",
   "execution_count": 6,
   "metadata": {
    "ExecuteTime": {
     "end_time": "2020-08-25T08:10:25.120310Z",
     "start_time": "2020-08-25T08:10:23.340046Z"
    }
   },
   "outputs": [
    {
     "data": {
      "text/plain": [
       "'2.8.0'"
      ]
     },
     "execution_count": 6,
     "metadata": {},
     "output_type": "execute_result"
    }
   ],
   "source": [
    "import tensorflow as tf\n",
    "tf.__version__"
   ]
  },
  {
   "cell_type": "code",
   "execution_count": 7,
   "metadata": {
    "ExecuteTime": {
     "end_time": "2021-05-10T09:39:26.609442Z",
     "start_time": "2021-05-10T09:39:24.529913Z"
    }
   },
   "outputs": [
    {
     "data": {
      "text/plain": [
       "'2.8.0'"
      ]
     },
     "execution_count": 7,
     "metadata": {},
     "output_type": "execute_result"
    }
   ],
   "source": [
    "import keras\n",
    "keras.__version__"
   ]
  },
  {
   "cell_type": "code",
   "execution_count": 8,
   "metadata": {
    "ExecuteTime": {
     "end_time": "2022-05-10T03:06:48.154394Z",
     "start_time": "2022-05-10T03:06:48.140432Z"
    }
   },
   "outputs": [],
   "source": [
    "import os\n",
    "import shutil\n",
    "import random\n",
    "from tqdm import tqdm"
   ]
  },
  {
   "cell_type": "code",
   "execution_count": 4,
   "metadata": {
    "ExecuteTime": {
     "end_time": "2022-05-10T03:06:48.449502Z",
     "start_time": "2022-05-10T03:06:48.439530Z"
    }
   },
   "outputs": [],
   "source": [
    "def path_file_sample(in_path, out_path, sample, copy, in_label=None, out_label=None):\n",
    "    if os.path.exists(out_path):\n",
    "        shutil.rmtree(out_path, ignore_errors=True)\n",
    "        if in_label:\n",
    "            shutil.rmtree(out_label, ignore_errors=True)\n",
    "        \n",
    "    os.makedirs(out_path)\n",
    "    os.makedirs(out_label)\n",
    "    \n",
    "    files = os.listdir(in_path)\n",
    "    total = len(files)\n",
    "    \n",
    "    # 按比例\n",
    "    if sample < 1:\n",
    "        count = int(total * sample)\n",
    "        sample_files = random.sample(files, count)\n",
    "    else:\n",
    "        sample_files = random.sample(files, sample)\n",
    "    \n",
    "    if copy:\n",
    "        for item in tqdm(sample_files, ncols=80):\n",
    "            shutil.copy(os.path.join(in_path, item), os.path.join(out_path, item))\n",
    "            if in_label:\n",
    "                shutil.copy(os.path.join(in_label, item), os.path.join(out_label, item))\n",
    "    else:\n",
    "        for item in tqdm(sample_files, ncols=80):\n",
    "            shutil.move(os.path.join(in_path, item), os.path.join(out_path, item))\n",
    "            if in_label:\n",
    "                shutil.move(os.path.join(in_label, item), os.path.join(out_label, item))"
   ]
  },
  {
   "cell_type": "code",
   "execution_count": 5,
   "metadata": {
    "ExecuteTime": {
     "end_time": "2022-05-10T03:06:49.042555Z",
     "start_time": "2022-05-10T03:06:49.022261Z"
    }
   },
   "outputs": [],
   "source": [
    "def path_file_sample1(in_path, out_path, sample, copy):\n",
    "    if os.path.exists(out_path):\n",
    "        shutil.rmtree(out_path, ignore_errors=True)\n",
    "        \n",
    "    os.makedirs(out_path, exist_ok=True)\n",
    "#     os.makedirs(out_label)\n",
    "    \n",
    "    files = os.listdir(in_path)\n",
    "    total = len(files)\n",
    "    \n",
    "    # 按比例\n",
    "    if sample < 1:\n",
    "        count = int(total * sample)\n",
    "        sample_files = random.sample(files, count)\n",
    "    else:\n",
    "        sample_files = random.sample(files, sample)\n",
    "    \n",
    "    if copy:\n",
    "        for item in tqdm(sample_files, ncols=80):\n",
    "            shutil.copy(os.path.join(in_path, item), os.path.join(out_path, item))\n",
    "    else:\n",
    "        for item in tqdm(sample_files, ncols=80):\n",
    "            shutil.move(os.path.join(in_path, item), os.path.join(out_path, item))\n"
   ]
  },
  {
   "cell_type": "markdown",
   "metadata": {},
   "source": [
    "### 单目录"
   ]
  },
  {
   "cell_type": "code",
   "execution_count": 5,
   "metadata": {
    "ExecuteTime": {
     "end_time": "2022-05-10T03:06:51.839113Z",
     "start_time": "2022-05-10T03:06:51.022825Z"
    }
   },
   "outputs": [
    {
     "name": "stderr",
     "output_type": "stream",
     "text": [
      "100%|████████████████████████████████████████| 100/100 [00:00<00:00, 212.96it/s]\n"
     ]
    }
   ],
   "source": [
    "inp = r'I:\\新建文件夹\\眼科UBM\\0510\\闭角非闭角2分类\\res\\1'\n",
    "outp = inp + '_sub4'\n",
    "sample_rate = 100\n",
    "copy = 1\n",
    "\n",
    "path_file_sample1(inp, outp, sample_rate, copy)"
   ]
  },
  {
   "cell_type": "code",
   "execution_count": 6,
   "metadata": {
    "ExecuteTime": {
     "end_time": "2022-02-24T09:52:57.888686Z",
     "start_time": "2022-02-24T09:52:57.515905Z"
    }
   },
   "outputs": [
    {
     "name": "stderr",
     "output_type": "stream",
     "text": [
      "100%|██████████████████████████████████████████| 19/19 [00:00<00:00, 202.86it/s]\n",
      "100%|██████████████████████████████████████████| 19/19 [00:00<00:00, 793.79it/s]\n",
      "100%|██████████████████████████████████████████| 19/19 [00:00<00:00, 865.94it/s]\n",
      "100%|██████████████████████████████████████████| 19/19 [00:00<00:00, 543.88it/s]\n",
      "100%|██████████████████████████████████████████| 19/19 [00:00<00:00, 761.38it/s]\n",
      "100%|██████████████████████████████████████████| 19/19 [00:00<00:00, 793.80it/s]\n",
      "100%|██████████████████████████████████████████| 19/19 [00:00<00:00, 828.09it/s]\n",
      "100%|██████████████████████████████████████████| 19/19 [00:00<00:00, 628.89it/s]\n",
      "100%|██████████████████████████████████████████| 19/19 [00:00<00:00, 828.15it/s]\n"
     ]
    }
   ],
   "source": [
    "inp = r'I:\\郑碧清暂存\\半监督学习\\mean-teacher-master\\pytorch\\data-local\\images\\nbi_ca_new1\\val\\b'\n",
    "for i in range(1,10):\n",
    "    outp = inp + '_sub%s' % i\n",
    "    sample_rate = 19\n",
    "    copy = 0\n",
    "\n",
    "    path_file_sample1(inp, outp, sample_rate, copy)"
   ]
  },
  {
   "cell_type": "code",
   "execution_count": 5,
   "metadata": {
    "ExecuteTime": {
     "end_time": "2020-07-24T07:59:31.201509Z",
     "start_time": "2020-07-24T07:59:31.016409Z"
    }
   },
   "outputs": [
    {
     "name": "stderr",
     "output_type": "stream",
     "text": [
      "100%|███████████████████████████████████████| 700/700 [00:00<00:00, 4164.53it/s]\n"
     ]
    }
   ],
   "source": [
    "inp = r'G:\\ai_data\\ca_depth\\shiguanai\\食管癌ME-NBI范围标注-最终版0612\\0724_ava2cls\\images'\n",
    "outp = r'G:\\ai_data\\ca_depth\\shiguanai\\食管癌ME-NBI范围标注-最终版0612\\0724_ava2cls\\新建文件夹'\n",
    "os.makedirs(outp, exist_ok=True)\n",
    "sample_rate = 700\n",
    "copy = False\n",
    "\n",
    "path_file_sample1(inp, outp, sample_rate, copy)"
   ]
  },
  {
   "cell_type": "markdown",
   "metadata": {
    "ExecuteTime": {
     "end_time": "2020-05-11T09:04:11.172680Z",
     "start_time": "2020-05-11T09:04:11.170701Z"
    }
   },
   "source": [
    "### 多目录"
   ]
  },
  {
   "cell_type": "code",
   "execution_count": 4,
   "metadata": {
    "ExecuteTime": {
     "end_time": "2022-02-24T09:41:50.590291Z",
     "start_time": "2022-02-24T09:41:49.436800Z"
    }
   },
   "outputs": [
    {
     "name": "stderr",
     "output_type": "stream",
     "text": [
      "100%|████████████████████████████████████████| 271/271 [00:00<00:00, 614.58it/s]\n",
      "100%|████████████████████████████████████████| 194/194 [00:00<00:00, 659.59it/s]\n"
     ]
    }
   ],
   "source": [
    "# 下一级子目录含图片文件\n",
    "\n",
    "inp = r'I:\\郑碧清暂存\\半监督学习\\mean-teacher-master\\pytorch\\data-local\\images\\nbi_ca_new1\\train'\n",
    "inp = r'I:\\郑碧清暂存\\半监督学习\\mean-teacher-master\\pytorch\\data-local\\images\\nbi_ca_new1\\val'\n",
    "outp = r'I:\\郑碧清暂存\\半监督学习\\mean-teacher-master\\pytorch\\data-local\\images\\nbi_ca_new1\\val_1'\n",
    "sample_rate = 0.1\n",
    "copy = False\n",
    "\n",
    "subs = os.listdir(inp)\n",
    "for sub in subs:\n",
    "    path_file_sample1(os.path.join(inp, sub), os.path.join(outp, sub), sample_rate, copy)"
   ]
  },
  {
   "cell_type": "markdown",
   "metadata": {},
   "source": [
    "### 随机划分unet训练集为训练、验证集"
   ]
  },
  {
   "cell_type": "code",
   "execution_count": 9,
   "metadata": {
    "ExecuteTime": {
     "end_time": "2022-05-10T00:54:54.998322Z",
     "start_time": "2022-05-10T00:54:54.991334Z"
    }
   },
   "outputs": [],
   "source": [
    "in_path = r'D:\\projects\\Vision\\gallstone\\data\\胆结石分割模型_out'\n",
    "sample_rate = 0.1\n",
    "copy = False"
   ]
  },
  {
   "cell_type": "code",
   "execution_count": 10,
   "metadata": {
    "ExecuteTime": {
     "end_time": "2022-05-10T00:54:55.804044Z",
     "start_time": "2022-05-10T00:54:55.328371Z"
    }
   },
   "outputs": [
    {
     "name": "stderr",
     "output_type": "stream",
     "text": [
      "100%|███████████████████████████████████████████| 93/93 [00:01<00:00, 79.56it/s]\n"
     ]
    }
   ],
   "source": [
    "img_path = os.path.join(in_path, 'images')\n",
    "label_path = os.path.join(in_path, 'labels')\n",
    "\n",
    "valid_img_path = os.path.join(in_path, 'valid_images')\n",
    "valid_labels_path = os.path.join(in_path, 'valid_labels')\n",
    "\n",
    "path_file_sample(img_path, valid_img_path, sample_rate, copy, label_path, valid_labels_path)"
   ]
  },
  {
   "cell_type": "code",
   "execution_count": 6,
   "metadata": {
    "ExecuteTime": {
     "end_time": "2021-01-14T10:49:40.334876Z",
     "start_time": "2021-01-14T10:49:40.259675Z"
    }
   },
   "outputs": [
    {
     "ename": "FileNotFoundError",
     "evalue": "[WinError 3] 系统找不到指定的路径。: 'J:\\\\郑碧清暂存\\\\食管癌产品\\\\视频'",
     "output_type": "error",
     "traceback": [
      "\u001b[1;31m---------------------------------------------------------------------------\u001b[0m",
      "\u001b[1;31mFileNotFoundError\u001b[0m                         Traceback (most recent call last)",
      "\u001b[1;32m<ipython-input-6-d18a280895dc>\u001b[0m in \u001b[0;36m<module>\u001b[1;34m\u001b[0m\n\u001b[0;32m      1\u001b[0m \u001b[1;32mimport\u001b[0m \u001b[0mos\u001b[0m\u001b[1;33m\u001b[0m\u001b[0m\n\u001b[1;32m----> 2\u001b[1;33m \u001b[0mos\u001b[0m\u001b[1;33m.\u001b[0m\u001b[0mlistdir\u001b[0m\u001b[1;33m(\u001b[0m\u001b[1;34mr'J:\\郑碧清暂存\\食管癌产品\\视频'\u001b[0m\u001b[1;33m)\u001b[0m\u001b[1;33m\u001b[0m\u001b[0m\n\u001b[0m",
      "\u001b[1;31mFileNotFoundError\u001b[0m: [WinError 3] 系统找不到指定的路径。: 'J:\\\\郑碧清暂存\\\\食管癌产品\\\\视频'"
     ]
    }
   ],
   "source": [
    "import os\n",
    "os.listdir(r'J:\\郑碧清暂存\\食管癌产品\\视频')"
   ]
  },
  {
   "cell_type": "code",
   "execution_count": null,
   "metadata": {},
   "outputs": [],
   "source": []
  }
 ],
 "metadata": {
  "kernelspec": {
   "display_name": "Python 3 (ipykernel)",
   "language": "python",
   "name": "python3"
  },
  "language_info": {
   "codemirror_mode": {
    "name": "ipython",
    "version": 3
   },
   "file_extension": ".py",
   "mimetype": "text/x-python",
   "name": "python",
   "nbconvert_exporter": "python",
   "pygments_lexer": "ipython3",
   "version": "3.9.7"
  }
 },
 "nbformat": 4,
 "nbformat_minor": 2
}
