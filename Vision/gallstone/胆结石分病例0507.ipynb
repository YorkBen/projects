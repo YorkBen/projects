{
 "cells": [
  {
   "cell_type": "code",
   "execution_count": 1,
   "id": "e93400a6",
   "metadata": {
    "ExecuteTime": {
     "end_time": "2022-05-09T03:56:32.458144Z",
     "start_time": "2022-05-09T03:56:32.451164Z"
    }
   },
   "outputs": [],
   "source": [
    "import os,random,re,shutil"
   ]
  },
  {
   "cell_type": "code",
   "execution_count": 2,
   "id": "f302618d",
   "metadata": {
    "ExecuteTime": {
     "end_time": "2022-05-09T03:56:33.325616Z",
     "start_time": "2022-05-09T03:56:33.303670Z"
    }
   },
   "outputs": [],
   "source": [
    "def add_dict(dic, key):\n",
    "    if key in dic.keys():\n",
    "        dic[key] += 1\n",
    "    else:\n",
    "        dic[key] = 1\n",
    "        \n",
    "    return dic\n",
    "\n",
    "def is_chinese(string):\n",
    "    chinese = re.findall(r'[\\u4e00-\\u9fa5]', string)\n",
    "    chinese = ''.join(chinese)\n",
    "    return chinese\n",
    "    \"\"\"\n",
    "    检查整个字符串是否包含中文\n",
    "    :param string: 需要检查的字符串\n",
    "    :return: bool\n",
    "    \"\"\"\n",
    "#     for ch in string:\n",
    "#         if u'\\u4e00' <= ch <= u'\\u9fff':\n",
    "#             return True\n",
    "\n",
    "#     return False\n",
    "\n",
    "\n",
    "def get_bingli_dict(files):\n",
    "    count1_01 = 0\n",
    "    bingli1_dict = {}\n",
    "    \n",
    "    print(len(files))\n",
    "    \n",
    "    for f1 in files:\n",
    "        chn = is_chinese(f1)\n",
    "        if len(chn):\n",
    "            bingli1_dict = add_dict(bingli1_dict, chn)\n",
    "            continue\n",
    "            \n",
    "        f1_list = f1.split('_01.')\n",
    "        if len(f1_list)  == 1:\n",
    "            f1_list = f1.split('.')\n",
    "            count1_01 += 1\n",
    "            if len(f1_list[1]) == 13:\n",
    "                bingli = f1_list[1]\n",
    "                bingli1_dict = add_dict(bingli1_dict, bingli)\n",
    "        elif len(f1_list[0]) == 5:                \n",
    "            f1_list = f1_list[1].split('.')\n",
    "            if len(f1_list[0]) == 13:\n",
    "                bingli = f1_list[0]\n",
    "                bingli1_dict = add_dict(bingli1_dict, bingli)\n",
    "        elif len(f1_list[0]) == 3:                \n",
    "            f1_list = f1_list[1].split('.')\n",
    "            if len(f1_list[0]) == 13:\n",
    "                bingli = f1_list[0]\n",
    "                bingli1_dict = add_dict(bingli1_dict, bingli)\n",
    "              \n",
    "    print(len(files), count1_01, bingli1_dict, sum(bingli1_dict.values()))\n",
    "    return len(files), count1_01, bingli1_dict, sum(bingli1_dict.values())\n",
    "\n",
    "\n",
    "def get_test_bingli(files, bingli_dict, percent):\n",
    "    keys = list(bingli_dict.keys())\n",
    "    random.shuffle(keys)\n",
    "    bingli_list = []\n",
    "    stop_cond = int(len(files) * percent)\n",
    "    count = 0\n",
    "    \n",
    "    for k in keys:\n",
    "        bingli_list.append(k)\n",
    "        count += bingli_dict[k]\n",
    "        if count >= stop_cond:\n",
    "            break\n",
    "            \n",
    "    return bingli_list, count"
   ]
  },
  {
   "cell_type": "code",
   "execution_count": 7,
   "id": "76cff018",
   "metadata": {
    "ExecuteTime": {
     "end_time": "2022-05-09T03:56:52.033146Z",
     "start_time": "2022-05-09T03:56:52.009193Z"
    }
   },
   "outputs": [
    {
     "name": "stdout",
     "output_type": "stream",
     "text": [
      "1332\n",
      "1332 1332 {'0000000002549': 3, '0000000005497': 6, '0000000005583': 7, '0000000007063': 8, '0000000008371': 3, '0000000010026': 4, '0000000010927': 1, '0000000012754': 1, '0000000019576': 4, '0000000028017': 8, '0000000029815': 5, '0000000032204': 5, '0000000032557': 8, '0000000033569': 2, '0000000045296': 7, '0000000052833': 3, '0000000054129': 2, '0000000075874': 3, '0000000081910': 11, '0000000081971': 9, '0000000083473': 3, '0000000083475': 3, '0000000087097': 11, '0000000088423': 4, '0000000089973': 4, '0000000091382': 26, '0000000091713': 3, '0000000092534': 4, '0000000094454': 2, '0000000095754': 2, '0000000095764': 1, '0000000096312': 11, '0000000096344': 6, '0000000099740': 10, '0000000100165': 5, '0000000100709': 3, '0000000103986': 7, '0000000105737': 1, '0000000107254': 5, '0000000107381': 3, '0000000107578': 4, '0000000109406': 4, '0000000112007': 4, '0000000112436': 1, '0000000114807': 12, '0000000115108': 2, '0000000115164': 12, '0000000118259': 8, '0000000118260': 13, '0000000119137': 5, '0000000121132': 3, '0000000121134': 4, '0000000122133': 6, '0000000123561': 1, '0000000124409': 10, '0000000127199': 8, '0000000127514': 19, '0000000128217': 9, '0000000135210': 10, '0000000140404': 3, '0000000140967': 15, '0000000142674': 7, '0000000144830': 25, '0000000146862': 39, '0000000148567': 5, '0000000150040': 9, '0000000151477': 8, '0000000151836': 6, '0000000152795': 4, '0000000153122': 68, '0000000157281': 11, '0000000159168': 7, '0000000159717': 10, '0000000160150': 4, '0000000160332': 13, '0000000160480': 3, '0000000162425': 17, '0000000163995': 5, '0000000164617': 12, '0000000165177': 9, '0000000165538': 4, '0000000166898': 8, '0000000167215': 27, '0000000175006': 2, '0000000175911': 6, '0000000176851': 21, '0000000176997': 12, '0000000178668': 6, '0000000178892': 19, '0000000179236': 33, '0000000180096': 15, '0000000183103': 3, '0000000183943': 1, '0000000186638': 14, '0000000188857': 10, '0000000188877': 18, '0000000189222': 8, '0000000189255': 29, '0000000189847': 1, '0000000189857': 2, '0000000191156': 4, '0000000192061': 1, '0000000192694': 3, '0000000194270': 3, '0000000196704': 37, '0000000197595': 4, '0000000198193': 70, '0000000201945': 35, '0000000202365': 2, '0000000204000': 24, '0000000204303': 20, '0000000204311': 11, '0000000205287': 25, '0000000205560': 5, '0000000210110': 11, '0000000210820': 12, '0000000212403': 7, '0000000213133': 2, '0000000213336': 62, '0000000216300': 22, '0000000219826': 24, '0000000220864': 7, '0000000225935': 5, '0000000227356': 4, '0000000228295': 1, '0000000231924': 45, '0000000231936': 4, '0000000232107': 4, '0000000232687': 10} 1332\n"
     ]
    }
   ],
   "source": [
    "inp = r'D:\\projects\\Vision\\gallstone\\data\\胆结石分割模型_out\\images'\n",
    "inp_l = r'D:\\projects\\Vision\\gallstone\\data\\胆结石分割模型_out\\labels'\n",
    "inp_test = r'D:\\projects\\Vision\\gallstone\\data\\胆结石分割模型_out\\test\\images'\n",
    "inp_test_l = r'D:\\projects\\Vision\\gallstone\\data\\胆结石分割模型_out\\test\\labels'\n",
    "all_files = os.listdir(inp)\n",
    "fc,_,bli_dict,_ = get_bingli_dict(all_files)\n",
    "test_list = get_test_bingli(all_files,bli_dict, 0.3)"
   ]
  },
  {
   "cell_type": "code",
   "execution_count": 8,
   "id": "4febaa69",
   "metadata": {
    "ExecuteTime": {
     "end_time": "2022-05-09T03:57:21.158530Z",
     "start_time": "2022-05-09T03:57:19.968139Z"
    }
   },
   "outputs": [],
   "source": [
    "for f in all_files:\n",
    "    for test in test_list[0]:\n",
    "        if test in f:\n",
    "            shutil.move(os.path.join(inp, f), inp_test)\n",
    "            shutil.move(os.path.join(inp_l, f), inp_test_l)\n",
    "            break"
   ]
  },
  {
   "cell_type": "code",
   "execution_count": 4,
   "id": "bdebf073",
   "metadata": {
    "ExecuteTime": {
     "end_time": "2022-05-09T03:57:13.721101Z",
     "start_time": "2022-05-09T03:57:13.712126Z"
    }
   },
   "outputs": [
    {
     "data": {
      "text/plain": [
       "(['0000000091382',\n",
       "  '0000000153122',\n",
       "  '0000000122133',\n",
       "  '0000000232687',\n",
       "  '0000000100165',\n",
       "  '0000000188857',\n",
       "  '0000000114807',\n",
       "  '0000000005583',\n",
       "  '0000000204303',\n",
       "  '0000000198193',\n",
       "  '0000000194270',\n",
       "  '0000000019576',\n",
       "  '0000000118259',\n",
       "  '0000000191156',\n",
       "  '0000000092534',\n",
       "  '0000000105737',\n",
       "  '0000000112007',\n",
       "  '0000000231936',\n",
       "  '0000000032557',\n",
       "  '0000000186638',\n",
       "  '0000000175006',\n",
       "  '0000000219826',\n",
       "  '0000000127514',\n",
       "  '0000000201945',\n",
       "  '0000000081971',\n",
       "  '0000000115164'],\n",
       " 380)"
      ]
     },
     "execution_count": 4,
     "metadata": {},
     "output_type": "execute_result"
    }
   ],
   "source": [
    "test_list"
   ]
  },
  {
   "cell_type": "code",
   "execution_count": null,
   "id": "8c678d02",
   "metadata": {},
   "outputs": [],
   "source": []
  }
 ],
 "metadata": {
  "kernelspec": {
   "display_name": "Python 3 (ipykernel)",
   "language": "python",
   "name": "python3"
  },
  "language_info": {
   "codemirror_mode": {
    "name": "ipython",
    "version": 3
   },
   "file_extension": ".py",
   "mimetype": "text/x-python",
   "name": "python",
   "nbconvert_exporter": "python",
   "pygments_lexer": "ipython3",
   "version": "3.9.7"
  }
 },
 "nbformat": 4,
 "nbformat_minor": 5
}
