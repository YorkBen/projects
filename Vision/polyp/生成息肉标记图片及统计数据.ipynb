{
 "cells": [
  {
   "cell_type": "code",
   "execution_count": 1,
   "id": "61be6332",
   "metadata": {},
   "outputs": [
    {
     "name": "stderr",
     "output_type": "stream",
     "text": [
      "2022-09-02 10:58:58,644 - INFO - __init__.py - init_logger - 58 - ini  logger file D:\\projects\\Vision\\Lib\\logs\\kernel-8a9f313c-7673-4e0c-8661-0a1eea4d713b.log\n"
     ]
    },
    {
     "name": "stdout",
     "output_type": "stream",
     "text": [
      "use temp dir:d:\\znyx\\temp\n"
     ]
    },
    {
     "name": "stderr",
     "output_type": "stream",
     "text": [
      "2022-09-02 10:58:59,646 - DEBUG - tpu_cluster_resolver.py - <module> - 32 - Falling back to TensorFlow client; we recommended you install the Cloud TPU client directly with pip install cloud-tpu-client.\n",
      "2022-09-02 10:58:59,918 - DEBUG - __init__.py - <module> - 47 - Creating converter from 7 to 5\n",
      "2022-09-02 10:58:59,919 - DEBUG - __init__.py - <module> - 47 - Creating converter from 5 to 7\n",
      "2022-09-02 10:58:59,919 - DEBUG - __init__.py - <module> - 47 - Creating converter from 7 to 5\n",
      "2022-09-02 10:58:59,920 - DEBUG - __init__.py - <module> - 47 - Creating converter from 5 to 7\n",
      "2022-09-02 10:59:01,728 - INFO - utils.py - _init_num_threads - 147 - Note: NumExpr detected 16 cores but \"NUMEXPR_MAX_THREADS\" not set, so enforcing safe limit of 8.\n",
      "2022-09-02 10:59:01,729 - INFO - utils.py - _init_num_threads - 159 - NumExpr defaulting to 8 threads.\n"
     ]
    }
   ],
   "source": [
    "# show images inline\n",
    "%matplotlib inline\n",
    "\n",
    "# automatically reload modules when they have changed\n",
    "%load_ext autoreload\n",
    "%autoreload 2\n",
    "\n",
    "import sys\n",
    "import os\n",
    "import shutil\n",
    "from PIL import Image, ImageFont, ImageDraw\n",
    "import cv2\n",
    "\n",
    "# 添加路径，以能正常导入mbsh、trainer\n",
    "sys.path.insert(0, r'..\\Lib\\trainer')\n",
    "\n",
    "from mbsh.core.yolo import YOLO\n",
    "import numpy as np\n",
    "import pandas as pd\n",
    "import glob"
   ]
  },
  {
   "cell_type": "code",
   "execution_count": 2,
   "id": "bf008f18",
   "metadata": {},
   "outputs": [],
   "source": [
    "import tensorflow as tf\n",
    "physical_devices = tf.config.list_physical_devices('GPU')\n",
    "for device in physical_devices:\n",
    "  tf.config.experimental.set_memory_growth(device, True)"
   ]
  },
  {
   "cell_type": "markdown",
   "id": "4fa3bfb1",
   "metadata": {},
   "source": [
    "### 公共函数"
   ]
  },
  {
   "cell_type": "code",
   "execution_count": 3,
   "id": "0ccc62d8",
   "metadata": {},
   "outputs": [],
   "source": [
    "delta = 4\n",
    "\n",
    "# 统计一个视频模型标记息肉开始结束帧\n",
    "def stat_ct_file(file_path):\n",
    "    ct, start, end = 0, 0, 0\n",
    "    results = []\n",
    "    with open(file_path, 'r') as f:\n",
    "        for line in f.readlines():\n",
    "            arr = line.strip().split(',')\n",
    "            if arr[1] == '1':\n",
    "                if start == 0:\n",
    "                    start = int(arr[0][:-4])\n",
    "            else:\n",
    "                if start != 0:\n",
    "                    end = int(arr[0][:-4])\n",
    "                    if end - start >= delta:\n",
    "                        results.append([start, end])\n",
    "                    start = 0\n",
    "                    \n",
    "        return results\n",
    "    \n",
    "def stat_ct(data):\n",
    "    ct, start, end = 0, 0, 0\n",
    "    results = []\n",
    "    for arr in data:\n",
    "        if arr[1] == 1:\n",
    "            if start == 0:\n",
    "                start = int(arr[0][:-4])\n",
    "        else:\n",
    "            if start != 0:\n",
    "                end = int(arr[0][:-4])\n",
    "                if end - start >= delta:\n",
    "                    results.append([start, end])\n",
    "                start = 0\n",
    "                    \n",
    "    return results\n",
    "\n",
    "\n",
    "# 合并一个视频模型标记息肉开始结束帧\n",
    "def merge_ct(arr):\n",
    "    if len(arr) == 0:\n",
    "        return []\n",
    "    \n",
    "    results = [arr[0]]\n",
    "    for idx in range(1, len(arr)):\n",
    "        if arr[idx][0] - results[-1][1]  < delta:\n",
    "            results[-1][1] = arr[idx][1]\n",
    "        else:\n",
    "            results.append(arr[idx])\n",
    "            \n",
    "    return results\n",
    "\n",
    "# 将目录的图片名称按照名称数字从小到大排序\n",
    "def get_dir_sorted_imgs(dirs):\n",
    "    names = []\n",
    "    if isinstance(dirs, str):\n",
    "        if os.path.exists(dirs):\n",
    "            names = [int(filename[:-4]) for filename in os.listdir(dirs) if filename.endswith('.jpg')]\n",
    "    elif isinstance(dirs, list):\n",
    "        for dir in dirs:\n",
    "            if os.path.exists(dir):\n",
    "                names.extend([int(filename[:-4]) for filename in os.listdir(dir) if filename.endswith('.jpg')])\n",
    "    names = sorted(names)\n",
    "    img_names = ['%s.jpg' % name for name in names]\n",
    "    return img_names\n"
   ]
  },
  {
   "cell_type": "markdown",
   "id": "1c180c6d",
   "metadata": {},
   "source": [
    "### 息肉检测模型"
   ]
  },
  {
   "cell_type": "code",
   "execution_count": 4,
   "id": "1d7df660",
   "metadata": {},
   "outputs": [],
   "source": [
    "model_path = r'D:\\projects\\Vision\\polyp\\Models\\trained_weights_final.h5'\n",
    "anchors_path = r'D:\\projects\\Vision\\polyp\\Models\\yolo_anchors_0311.txt'\n",
    "classes_path = r'D:\\projects\\Vision\\polyp\\Models\\polyp_classes.txt'\n",
    "iou = 0.1\n",
    "\n",
    "model_image_size = (352, 352)\n",
    "gpu_num = 1 "
   ]
  },
  {
   "cell_type": "code",
   "execution_count": 5,
   "id": "39686ab4",
   "metadata": {},
   "outputs": [],
   "source": [
    "# 模型检测标记息肉\n",
    "def detect_polyp_by_model(input_path, target_path, score):\n",
    "    \"\"\"\n",
    "    input_path：输入视频图片目录\n",
    "    target_path：输出标记图片目录\n",
    "    score：模型参数\n",
    "    \"\"\"\n",
    "    if not os.path.exists(target_path):\n",
    "        os.mkdir(target_path)\n",
    "\n",
    "    # 初始化模型\n",
    "    yolo = YOLO(model_path=model_path, anchors_path=anchors_path, classes_path=classes_path,\n",
    "               score=score, iou=iou, model_image_size=model_image_size, gpu_num=gpu_num)\n",
    "\n",
    "    # 模型预测\n",
    "    results = []\n",
    "    img_names = get_dir_sorted_imgs(input_path)\n",
    "    for filename in img_names:\n",
    "        img_path = os.path.join(input_path, filename)\n",
    "        pred_results, image, c = yolo.predict_file(img_path, target_path, draw_rect=True, cut=False, \n",
    "                                                         one_box=True, timing=False, expand=1)\n",
    "        if len(pred_results) == 1:\n",
    "            #results.append('%s,%s,%s,%s,%s,%s,%s\\n' % (filename, 1, pred_results[0][4], pred_results[0][0], pred_results[0][1],pred_results[0][2], pred_results[0][3]))\n",
    "            results.append((filename, 1))\n",
    "        else:\n",
    "            results.append((filename, 0))\n",
    "\n",
    "    return results\n",
    "\n",
    "# 息肉统计结果写入文件\n",
    "def write_stat_result(output_file, video_name, score, poly_results, video_len, fps):\n",
    "    # 息肉个数\n",
    "    r = stat_ct(poly_results)\n",
    "    r = merge_ct(r)\n",
    "    poly_num = len(r)\n",
    "    \n",
    "    with open(output_file, 'a+') as f:\n",
    "    # 写息肉出现时间点\n",
    "        for rr in r:\n",
    "            f.write('%.3f\\n' % (rr[0] / fps))\n",
    "    \n",
    "    # 写息肉个数和视频长度比\n",
    "        f.write('%s\t%.3f\t%.3f\\n' % (video_name, score, poly_num/video_len))\n",
    "        \n",
    "    return poly_num/video_len\n",
    "        \n",
    "# 根据视频图片数量统计视频长度\n",
    "def get_video_len(video_imgs_dir, fps):\n",
    "    imgs = list(os.listdir(video_imgs_dir))\n",
    "    return len(imgs) / (fps * 60)\n",
    "    "
   ]
  },
  {
   "cell_type": "markdown",
   "id": "9c0fbd79",
   "metadata": {},
   "source": [
    "### 挑选真息肉"
   ]
  },
  {
   "cell_type": "code",
   "execution_count": 8,
   "id": "4ddb58e9",
   "metadata": {},
   "outputs": [],
   "source": [
    "import shutil\n",
    "base_dir = r'D:\\项目资料\\息肉假阳性\\202208\\有息肉肠镜视频'\n",
    "from_path = os.path.join(base_dir, 'images_crop')\n",
    "to_path = os.path.join(base_dir, 'images_truepoly_crop')\n",
    "\n",
    "folder_imgs = [(3457, [(3731, 4667)]), (3471, [(3741, 4479)]), (3477, [(13, 2173), (4334, 5044)]), (3532, [(827, 1606), (3864, 5873), (7284, 8196)]), \n",
    "                (3400, [(3510, 3799)]), (3531, [(1, 2613)]), (3433, [(4971, 5742)]), (3496, [(2584, 3901), (4943, 5132)]), \n",
    "                (3460, [(2225, 2949)]), (3479, [(7194, 8313)]), (3515, [(1439, 2177), (2206, 3737), (7273, 7654)]), \n",
    "                (3538, [(5624, 5906)]), (3474, [(6551, 6684)]), (3481, [(7002, 9126)]), \n",
    "                (3497, [(1612, 2914)]), (3485, [(5334, 5481)]), (3424, [(8168, 8296)]), (3504, [(4016, 4763)]), (3459, [(3092, 4033)]), \\\n",
    "              (3520, [(1016, 1757), (3210, 3325), (3536, 4105)]), (3513, [(2080, 3350), (4065, 4253)]),\n",
    "               (3476, [(368, 1706), (3247, 4225)]), (3488, [(5933, 6044)]), (3428, [(2886, 4608)]), (3410, [(4657, 5239)]), \\\n",
    "               (3526, [(700, 1893), (2696, 2857)]), (3478, [(2176, 3921), (4923, 5152)]), (3444, [(4915, 5769)])]\n",
    "for folder, start_ends in folder_imgs:\n",
    "    from_folder = os.path.join(from_path, str(folder))\n",
    "    to_folder = os.path.join(to_path, str(folder))\n",
    "    print('processing: %s' % folder)\n",
    "    if not os.path.exists(to_folder):\n",
    "        os.mkdir(to_folder)\n",
    "        \n",
    "    for start, end in start_ends:\n",
    "        for i in range(start, end+1):\n",
    "            img_name = '%s.jpg' % i\n",
    "            shutil.copy(os.path.join(from_folder, img_name), os.path.join(to_folder, img_name))\n",
    "              \n"
   ]
  },
  {
   "cell_type": "markdown",
   "id": "a9b1bc86",
   "metadata": {},
   "source": [
    "### 删除息肉假阳性对应的图片"
   ]
  },
  {
   "cell_type": "code",
   "execution_count": 13,
   "id": "a2f8a7e5",
   "metadata": {},
   "outputs": [],
   "source": [
    "import shutil\n",
    "base_dir = r'D:\\项目资料\\息肉假阳性\\202208\\有息肉肠镜视频'\n",
    "del_path = os.path.join(base_dir, 'images_detect')\n",
    "\n",
    "folder_imgs = [(3457, [(3731, 4667)]), (3471, [(3741, 4479)]), (3477, [(13, 2173), (4334, 5044)]), (3532, [(827, 1606), (3864, 5873), (7284, 8196)]), \n",
    "                (3400, [(3510, 3799)]), (3531, [(1, 2613)]), (3433, [(4971, 5742)]), (3496, [(2584, 3901), (4943, 5132)]), \n",
    "                (3460, [(2225, 2949)]), (3479, [(7194, 8313)]), (3515, [(1439, 2177), (2206, 3737), (7273, 7654)]), \n",
    "                (3538, [(5624, 5906)]), (3474, [(6551, 6684)]), (3481, [(7002, 9126)]), \n",
    "                (3497, [(1612, 2914)]), (3485, [(5334, 5481)]), (3424, [(8168, 8296)]), (3504, [(4016, 4763)]), (3459, [(3092, 4033)]), \\\n",
    "              (3520, [(1016, 1757), (3210, 3325), (3536, 4105)]), (3513, [(2080, 3350), (4065, 4253)]),\n",
    "               (3476, [(368, 1706), (3247, 4225)]), (3488, [(5933, 6044)]), (3428, [(2886, 4608)]), (3410, [(4657, 5239)]), \\\n",
    "               (3526, [(700, 1893), (2696, 2857)]), (3478, [(2176, 3921), (4923, 5152)]), (3444, [(4915, 5769)])]\n",
    "\n",
    "# 找到文件夹对应的score后缀\n",
    "folder_score = {}\n",
    "for folder in os.listdir(del_path):\n",
    "    arr = folder.split('_')\n",
    "    folder_score[arr[0]] = arr[1]\n",
    "\n",
    "for folder, start_ends in folder_imgs:\n",
    "    del_folder = os.path.join(del_path, '%s_%s' % (folder, folder_score[folder]))\n",
    "    print('processing: %s' % del_folder)\n",
    "    for start, end in start_ends:\n",
    "        for i in range(start, end+1):\n",
    "            img_name = '%s.jpg' % i\n",
    "            os.remove(os.path.join(del_folder, img_name))\n"
   ]
  },
  {
   "cell_type": "code",
   "execution_count": null,
   "id": "6a734f57",
   "metadata": {},
   "outputs": [],
   "source": []
  },
  {
   "cell_type": "code",
   "execution_count": null,
   "id": "4ec54d3b",
   "metadata": {},
   "outputs": [],
   "source": []
  },
  {
   "cell_type": "markdown",
   "id": "c2c37e8c",
   "metadata": {},
   "source": [
    "### 运行息肉检测部分"
   ]
  },
  {
   "cell_type": "code",
   "execution_count": 12,
   "id": "91b77c84",
   "metadata": {
    "scrolled": true
   },
   "outputs": [
    {
     "name": "stderr",
     "output_type": "stream",
     "text": [
      "2022-09-02 11:14:42,465 - INFO - yolo.py - generate - 132 - load yolo model D:\\projects\\Vision\\polyp\\Models\\trained_weights_final.h5\n"
     ]
    },
    {
     "name": "stdout",
     "output_type": "stream",
     "text": [
      "3400 0.35\n",
      "<class 'keras.engine.functional.Functional'> 111111111\n",
      "D:\\projects\\Vision\\polyp\\Models\\trained_weights_final.h5 model, anchors, and classes loaded.\n"
     ]
    },
    {
     "name": "stderr",
     "output_type": "stream",
     "text": [
      "2022-09-02 11:15:17,916 - INFO - yolo.py - generate - 132 - load yolo model D:\\projects\\Vision\\polyp\\Models\\trained_weights_final.h5\n"
     ]
    },
    {
     "name": "stdout",
     "output_type": "stream",
     "text": [
      "22.344827586206893\n",
      "3410 0.35\n",
      "<class 'keras.engine.functional.Functional'> 111111111\n",
      "D:\\projects\\Vision\\polyp\\Models\\trained_weights_final.h5 model, anchors, and classes loaded.\n"
     ]
    },
    {
     "name": "stderr",
     "output_type": "stream",
     "text": [
      "2022-09-02 11:16:27,705 - INFO - yolo.py - generate - 132 - load yolo model D:\\projects\\Vision\\polyp\\Models\\trained_weights_final.h5\n"
     ]
    },
    {
     "name": "stdout",
     "output_type": "stream",
     "text": [
      "11.114922813036019\n",
      "3424 0.35\n",
      "<class 'keras.engine.functional.Functional'> 111111111\n",
      "D:\\projects\\Vision\\polyp\\Models\\trained_weights_final.h5 model, anchors, and classes loaded.\n"
     ]
    },
    {
     "name": "stderr",
     "output_type": "stream",
     "text": [
      "2022-09-02 11:16:44,348 - INFO - yolo.py - generate - 132 - load yolo model D:\\projects\\Vision\\polyp\\Models\\trained_weights_final.h5\n"
     ]
    },
    {
     "name": "stdout",
     "output_type": "stream",
     "text": [
      "8.372093023255813\n",
      "3428 0.35\n",
      "<class 'keras.engine.functional.Functional'> 111111111\n",
      "D:\\projects\\Vision\\polyp\\Models\\trained_weights_final.h5 model, anchors, and classes loaded.\n"
     ]
    },
    {
     "name": "stderr",
     "output_type": "stream",
     "text": [
      "2022-09-02 11:20:01,342 - INFO - yolo.py - generate - 132 - load yolo model D:\\projects\\Vision\\polyp\\Models\\trained_weights_final.h5\n"
     ]
    },
    {
     "name": "stdout",
     "output_type": "stream",
     "text": [
      "6.268136970400464\n",
      "3433 0.35\n",
      "<class 'keras.engine.functional.Functional'> 111111111\n",
      "D:\\projects\\Vision\\polyp\\Models\\trained_weights_final.h5 model, anchors, and classes loaded.\n"
     ]
    },
    {
     "name": "stderr",
     "output_type": "stream",
     "text": [
      "2022-09-02 11:21:31,391 - INFO - yolo.py - generate - 132 - load yolo model D:\\projects\\Vision\\polyp\\Models\\trained_weights_final.h5\n"
     ]
    },
    {
     "name": "stdout",
     "output_type": "stream",
     "text": [
      "16.787564766839377\n",
      "3444 0.35\n",
      "<class 'keras.engine.functional.Functional'> 111111111\n",
      "D:\\projects\\Vision\\polyp\\Models\\trained_weights_final.h5 model, anchors, and classes loaded.\n"
     ]
    },
    {
     "name": "stderr",
     "output_type": "stream",
     "text": [
      "2022-09-02 11:23:06,046 - INFO - yolo.py - generate - 132 - load yolo model D:\\projects\\Vision\\polyp\\Models\\trained_weights_final.h5\n"
     ]
    },
    {
     "name": "stdout",
     "output_type": "stream",
     "text": [
      "15.157894736842106\n",
      "3457 0.35\n",
      "<class 'keras.engine.functional.Functional'> 111111111\n",
      "D:\\projects\\Vision\\polyp\\Models\\trained_weights_final.h5 model, anchors, and classes loaded.\n"
     ]
    },
    {
     "name": "stderr",
     "output_type": "stream",
     "text": [
      "2022-09-02 11:24:56,980 - INFO - yolo.py - generate - 132 - load yolo model D:\\projects\\Vision\\polyp\\Models\\trained_weights_final.h5\n"
     ]
    },
    {
     "name": "stdout",
     "output_type": "stream",
     "text": [
      "10.373532550693703\n",
      "3459 0.35\n",
      "<class 'keras.engine.functional.Functional'> 111111111\n",
      "D:\\projects\\Vision\\polyp\\Models\\trained_weights_final.h5 model, anchors, and classes loaded.\n"
     ]
    },
    {
     "name": "stderr",
     "output_type": "stream",
     "text": [
      "2022-09-02 11:26:48,441 - INFO - yolo.py - generate - 132 - load yolo model D:\\projects\\Vision\\polyp\\Models\\trained_weights_final.h5\n"
     ]
    },
    {
     "name": "stdout",
     "output_type": "stream",
     "text": [
      "17.197452229299362\n",
      "3460 0.35\n",
      "<class 'keras.engine.functional.Functional'> 111111111\n",
      "D:\\projects\\Vision\\polyp\\Models\\trained_weights_final.h5 model, anchors, and classes loaded.\n"
     ]
    },
    {
     "name": "stderr",
     "output_type": "stream",
     "text": [
      "2022-09-02 11:28:16,901 - INFO - yolo.py - generate - 132 - load yolo model D:\\projects\\Vision\\polyp\\Models\\trained_weights_final.h5\n"
     ]
    },
    {
     "name": "stdout",
     "output_type": "stream",
     "text": [
      "16.386206896551723\n",
      "3471 0.35\n",
      "<class 'keras.engine.functional.Functional'> 111111111\n",
      "D:\\projects\\Vision\\polyp\\Models\\trained_weights_final.h5 model, anchors, and classes loaded.\n"
     ]
    },
    {
     "name": "stderr",
     "output_type": "stream",
     "text": [
      "2022-09-02 11:29:44,288 - INFO - yolo.py - generate - 132 - load yolo model D:\\projects\\Vision\\polyp\\Models\\trained_weights_final.h5\n"
     ]
    },
    {
     "name": "stdout",
     "output_type": "stream",
     "text": [
      "24.844384303112314\n",
      "3474 0.35\n",
      "<class 'keras.engine.functional.Functional'> 111111111\n",
      "D:\\projects\\Vision\\polyp\\Models\\trained_weights_final.h5 model, anchors, and classes loaded.\n"
     ]
    },
    {
     "name": "stderr",
     "output_type": "stream",
     "text": [
      "2022-09-02 11:30:02,260 - INFO - yolo.py - generate - 132 - load yolo model D:\\projects\\Vision\\polyp\\Models\\trained_weights_final.h5\n"
     ]
    },
    {
     "name": "stdout",
     "output_type": "stream",
     "text": [
      "16.119402985074625\n",
      "3476 0.35\n",
      "<class 'keras.engine.functional.Functional'> 111111111\n",
      "D:\\projects\\Vision\\polyp\\Models\\trained_weights_final.h5 model, anchors, and classes loaded.\n"
     ]
    },
    {
     "name": "stderr",
     "output_type": "stream",
     "text": [
      "2022-09-02 11:34:34,841 - INFO - yolo.py - generate - 132 - load yolo model D:\\projects\\Vision\\polyp\\Models\\trained_weights_final.h5\n"
     ]
    },
    {
     "name": "stdout",
     "output_type": "stream",
     "text": [
      "16.773080241587575\n",
      "3477 0.35\n",
      "<class 'keras.engine.functional.Functional'> 111111111\n",
      "D:\\projects\\Vision\\polyp\\Models\\trained_weights_final.h5 model, anchors, and classes loaded.\n"
     ]
    },
    {
     "name": "stderr",
     "output_type": "stream",
     "text": [
      "2022-09-02 11:40:10,099 - INFO - yolo.py - generate - 132 - load yolo model D:\\projects\\Vision\\polyp\\Models\\trained_weights_final.h5\n"
     ]
    },
    {
     "name": "stdout",
     "output_type": "stream",
     "text": [
      "16.92200557103064\n",
      "3478 0.35\n",
      "<class 'keras.engine.functional.Functional'> 111111111\n",
      "D:\\projects\\Vision\\polyp\\Models\\trained_weights_final.h5 model, anchors, and classes loaded.\n"
     ]
    },
    {
     "name": "stderr",
     "output_type": "stream",
     "text": [
      "2022-09-02 11:44:04,435 - INFO - yolo.py - generate - 132 - load yolo model D:\\projects\\Vision\\polyp\\Models\\trained_weights_final.h5\n"
     ]
    },
    {
     "name": "stdout",
     "output_type": "stream",
     "text": [
      "13.11740890688259\n",
      "3479 0.35\n",
      "<class 'keras.engine.functional.Functional'> 111111111\n",
      "D:\\projects\\Vision\\polyp\\Models\\trained_weights_final.h5 model, anchors, and classes loaded.\n"
     ]
    },
    {
     "name": "stderr",
     "output_type": "stream",
     "text": [
      "2022-09-02 11:46:19,903 - INFO - yolo.py - generate - 132 - load yolo model D:\\projects\\Vision\\polyp\\Models\\trained_weights_final.h5\n"
     ]
    },
    {
     "name": "stdout",
     "output_type": "stream",
     "text": [
      "7.714285714285714\n",
      "3481 0.35\n",
      "<class 'keras.engine.functional.Functional'> 111111111\n",
      "D:\\projects\\Vision\\polyp\\Models\\trained_weights_final.h5 model, anchors, and classes loaded.\n"
     ]
    },
    {
     "name": "stderr",
     "output_type": "stream",
     "text": [
      "2022-09-02 11:50:43,320 - INFO - yolo.py - generate - 132 - load yolo model D:\\projects\\Vision\\polyp\\Models\\trained_weights_final.h5\n"
     ]
    },
    {
     "name": "stdout",
     "output_type": "stream",
     "text": [
      "22.36235294117647\n",
      "3485 0.35\n",
      "<class 'keras.engine.functional.Functional'> 111111111\n",
      "D:\\projects\\Vision\\polyp\\Models\\trained_weights_final.h5 model, anchors, and classes loaded.\n"
     ]
    },
    {
     "name": "stderr",
     "output_type": "stream",
     "text": [
      "2022-09-02 11:51:01,950 - INFO - yolo.py - generate - 132 - load yolo model D:\\projects\\Vision\\polyp\\Models\\trained_weights_final.h5\n"
     ]
    },
    {
     "name": "stdout",
     "output_type": "stream",
     "text": [
      "21.89189189189189\n",
      "3488 0.35\n",
      "<class 'keras.engine.functional.Functional'> 111111111\n",
      "D:\\projects\\Vision\\polyp\\Models\\trained_weights_final.h5 model, anchors, and classes loaded.\n"
     ]
    },
    {
     "name": "stderr",
     "output_type": "stream",
     "text": [
      "2022-09-02 11:51:15,825 - INFO - yolo.py - generate - 132 - load yolo model D:\\projects\\Vision\\polyp\\Models\\trained_weights_final.h5\n"
     ]
    },
    {
     "name": "stdout",
     "output_type": "stream",
     "text": [
      "9.642857142857142\n",
      "3496 0.35\n",
      "<class 'keras.engine.functional.Functional'> 111111111\n",
      "D:\\projects\\Vision\\polyp\\Models\\trained_weights_final.h5 model, anchors, and classes loaded.\n"
     ]
    },
    {
     "name": "stderr",
     "output_type": "stream",
     "text": [
      "2022-09-02 11:54:08,697 - INFO - yolo.py - generate - 132 - load yolo model D:\\projects\\Vision\\polyp\\Models\\trained_weights_final.h5\n"
     ]
    },
    {
     "name": "stdout",
     "output_type": "stream",
     "text": [
      "12.891246684350133\n",
      "3497 0.35\n",
      "<class 'keras.engine.functional.Functional'> 111111111\n",
      "D:\\projects\\Vision\\polyp\\Models\\trained_weights_final.h5 model, anchors, and classes loaded.\n"
     ]
    },
    {
     "name": "stderr",
     "output_type": "stream",
     "text": [
      "2022-09-02 11:56:49,231 - INFO - yolo.py - generate - 132 - load yolo model D:\\projects\\Vision\\polyp\\Models\\trained_weights_final.h5\n"
     ]
    },
    {
     "name": "stdout",
     "output_type": "stream",
     "text": [
      "6.6308518802762855\n",
      "3504 0.35\n",
      "<class 'keras.engine.functional.Functional'> 111111111\n",
      "D:\\projects\\Vision\\polyp\\Models\\trained_weights_final.h5 model, anchors, and classes loaded.\n"
     ]
    },
    {
     "name": "stderr",
     "output_type": "stream",
     "text": [
      "2022-09-02 11:58:22,654 - INFO - yolo.py - generate - 132 - load yolo model D:\\projects\\Vision\\polyp\\Models\\trained_weights_final.h5\n"
     ]
    },
    {
     "name": "stdout",
     "output_type": "stream",
     "text": [
      "12.994652406417114\n",
      "3513 0.35\n",
      "<class 'keras.engine.functional.Functional'> 111111111\n",
      "D:\\projects\\Vision\\polyp\\Models\\trained_weights_final.h5 model, anchors, and classes loaded.\n"
     ]
    },
    {
     "name": "stderr",
     "output_type": "stream",
     "text": [
      "2022-09-02 12:01:15,279 - INFO - yolo.py - generate - 132 - load yolo model D:\\projects\\Vision\\polyp\\Models\\trained_weights_final.h5\n"
     ]
    },
    {
     "name": "stdout",
     "output_type": "stream",
     "text": [
      "11.095890410958903\n",
      "3515 0.35\n",
      "<class 'keras.engine.functional.Functional'> 111111111\n",
      "D:\\projects\\Vision\\polyp\\Models\\trained_weights_final.h5 model, anchors, and classes loaded.\n"
     ]
    },
    {
     "name": "stderr",
     "output_type": "stream",
     "text": [
      "2022-09-02 12:06:27,078 - INFO - yolo.py - generate - 132 - load yolo model D:\\projects\\Vision\\polyp\\Models\\trained_weights_final.h5\n"
     ]
    },
    {
     "name": "stdout",
     "output_type": "stream",
     "text": [
      "13.433848473426309\n",
      "3520 0.35\n",
      "<class 'keras.engine.functional.Functional'> 111111111\n",
      "D:\\projects\\Vision\\polyp\\Models\\trained_weights_final.h5 model, anchors, and classes loaded.\n"
     ]
    },
    {
     "name": "stderr",
     "output_type": "stream",
     "text": [
      "2022-09-02 12:09:16,586 - INFO - yolo.py - generate - 132 - load yolo model D:\\projects\\Vision\\polyp\\Models\\trained_weights_final.h5\n"
     ]
    },
    {
     "name": "stdout",
     "output_type": "stream",
     "text": [
      "10.588235294117647\n",
      "3526 0.35\n",
      "<class 'keras.engine.functional.Functional'> 111111111\n",
      "D:\\projects\\Vision\\polyp\\Models\\trained_weights_final.h5 model, anchors, and classes loaded.\n"
     ]
    },
    {
     "name": "stderr",
     "output_type": "stream",
     "text": [
      "2022-09-02 12:11:48,866 - INFO - yolo.py - generate - 132 - load yolo model D:\\projects\\Vision\\polyp\\Models\\trained_weights_final.h5\n"
     ]
    },
    {
     "name": "stdout",
     "output_type": "stream",
     "text": [
      "9.557522123893806\n",
      "3531 0.35\n",
      "<class 'keras.engine.functional.Functional'> 111111111\n",
      "D:\\projects\\Vision\\polyp\\Models\\trained_weights_final.h5 model, anchors, and classes loaded.\n"
     ]
    },
    {
     "name": "stderr",
     "output_type": "stream",
     "text": [
      "2022-09-02 12:16:52,217 - INFO - yolo.py - generate - 132 - load yolo model D:\\projects\\Vision\\polyp\\Models\\trained_weights_final.h5\n"
     ]
    },
    {
     "name": "stdout",
     "output_type": "stream",
     "text": [
      "21.079219288174514\n",
      "3532 0.35\n",
      "<class 'keras.engine.functional.Functional'> 111111111\n",
      "D:\\projects\\Vision\\polyp\\Models\\trained_weights_final.h5 model, anchors, and classes loaded.\n"
     ]
    },
    {
     "name": "stderr",
     "output_type": "stream",
     "text": [
      "2022-09-02 12:23:52,259 - INFO - yolo.py - generate - 132 - load yolo model D:\\projects\\Vision\\polyp\\Models\\trained_weights_final.h5\n"
     ]
    },
    {
     "name": "stdout",
     "output_type": "stream",
     "text": [
      "14.291115311909262\n",
      "3538 0.35\n",
      "<class 'keras.engine.functional.Functional'> 111111111\n",
      "D:\\projects\\Vision\\polyp\\Models\\trained_weights_final.h5 model, anchors, and classes loaded.\n",
      "19.081272084805654\n"
     ]
    }
   ],
   "source": [
    "base_dir = r'D:\\项目资料\\息肉假阳性\\202208\\有息肉肠镜视频'\n",
    "# base_dir = r'D:\\项目资料\\息肉假阳性\\202208\\无息肉肠镜视频'\n",
    "# input_base_dir = os.path.join(base_dir, 'images_crop')\n",
    "# output_base_dir = os.path.join(base_dir, 'images_detect')\n",
    "input_base_dir = os.path.join(base_dir, 'images_truepoly_crop')\n",
    "output_base_dir = os.path.join(base_dir, 'images_truepoly_detect')\n",
    "\n",
    "\n",
    "video_name = '3400'\n",
    "# score = [0.1, 0.15, 0.2, 0.25, 0.3, 0.35]\n",
    "true_poly_score = 0.35\n",
    "fps = 18\n",
    "\n",
    "## 假阳性设置score\n",
    "# for video_name, score in [\n",
    "#     ('3429', 0.008)\n",
    "# ]:\n",
    "## 真阳性检测\n",
    "for video_name in os.listdir(input_base_dir):\n",
    "    score = true_poly_score\n",
    "    \n",
    "    print(video_name, score)\n",
    "    poly_results = detect_polyp_by_model(os.path.join(input_base_dir, video_name), \n",
    "                                         os.path.join(output_base_dir, '%s_%s' % (video_name, score)), score)\n",
    "    val = write_stat_result(os.path.join(base_dir, 'stat.txt'), video_name, score, poly_results,\n",
    "                      get_video_len(os.path.join(input_base_dir, video_name), fps), fps)\n",
    "    print(val)\n",
    "                  "
   ]
  },
  {
   "cell_type": "code",
   "execution_count": null,
   "id": "773b42f8",
   "metadata": {},
   "outputs": [],
   "source": []
  },
  {
   "cell_type": "code",
   "execution_count": null,
   "id": "4c11681c",
   "metadata": {},
   "outputs": [],
   "source": [
    "### 运行记录\n",
    "3400 0.01 12.839\n",
    "3400 0.35 3.959"
   ]
  },
  {
   "cell_type": "markdown",
   "id": "747bdcb2",
   "metadata": {},
   "source": [
    "### 合成视频"
   ]
  },
  {
   "cell_type": "code",
   "execution_count": null,
   "id": "959775c6",
   "metadata": {},
   "outputs": [],
   "source": [
    "# # 将生成的息肉图片和原始图片一起合成息肉标记视频\n",
    "# def create_mp4(base_path, video_name, score):\n",
    "#     input_img_path = os.path.join(base_path, r'input\\imgs\\%s_crop' % video_name)\n",
    "#     input_img_path1 = os.path.join(base_path, r'input\\imgs\\%s_crop_select' % video_name)\n",
    "#     input_img_path2 = os.path.join(base_path, r'input\\imgs\\%s_crop_select2' % video_name)\n",
    "#     process_img_path = os.path.join(base_path, r'output\\imgs\\%s_%s' % (video_name, score))\n",
    "    \n",
    "#     image = cv2.imdecode(np.fromfile(os.path.join(input_img_path, r'1.jpg'), dtype=np.uint8), -1)\n",
    "#     img_h, img_w, _ = image.shape\n",
    "\n",
    "#     video_path = os.path.join(base_path, r'output\\video\\%s_%s.avi' % (video_name, score))\n",
    "#     video = cv2.VideoWriter(video_path, cv2.VideoWriter_fourcc(*\"XVID\"), fps, (img_w, img_h))\n",
    "    \n",
    "#     img_names = get_dir_sorted_imgs([input_img_path1, input_img_path2])\n",
    "#     for f in img_names:\n",
    "#         filepath1 = os.path.join(input_img_path1, f)\n",
    "#         filepath2 = os.path.join(input_img_path2, f)\n",
    "#         filepath3 = os.path.join(process_img_path, f)\n",
    "#         if os.path.exists(filepath3):\n",
    "#             filepath = filepath3\n",
    "#         elif os.path.exists(filepath2):\n",
    "#             filepath = filepath2\n",
    "#         elif os.path.exists(filepath1):\n",
    "#             filepath = filepath1\n",
    "#         image = cv2.imdecode(np.fromfile(filepath, dtype=np.uint8),-1)\n",
    "#         video.write(image)\n",
    "#     video.release()"
   ]
  },
  {
   "cell_type": "code",
   "execution_count": 14,
   "id": "8aa305b2",
   "metadata": {},
   "outputs": [],
   "source": [
    "# 将生成的息肉图片和原始图片一起合成息肉标记视频\n",
    "def create_mp4(raw_img_path, fake_polyp_path, true_polyp_path, output_video_path):\n",
    "    image = cv2.imdecode(np.fromfile(os.path.join(raw_img_path, r'1.jpg'), dtype=np.uint8), -1)\n",
    "    img_h, img_w, _ = image.shape\n",
    "\n",
    "    video_path = output_video_path\n",
    "    video = cv2.VideoWriter(video_path, cv2.VideoWriter_fourcc(*\"XVID\"), fps, (img_w, img_h))\n",
    "    \n",
    "    img_names = get_dir_sorted_imgs([raw_img_path])\n",
    "    for f in img_names:\n",
    "        filepath1 = os.path.join(raw_img_path, f)\n",
    "        filepath2 = os.path.join(fake_polyp_path, f)\n",
    "        filepath3 = os.path.join(true_polyp_path, f)\n",
    "        if os.path.exists(filepath3):\n",
    "            filepath = filepath3\n",
    "        elif os.path.exists(filepath2):\n",
    "            filepath = filepath2\n",
    "        elif os.path.exists(filepath1):\n",
    "            filepath = filepath1\n",
    "        image = cv2.imdecode(np.fromfile(filepath, dtype=np.uint8),-1)\n",
    "        video.write(image)\n",
    "    video.release()"
   ]
  },
  {
   "cell_type": "code",
   "execution_count": 16,
   "id": "0aa346bc",
   "metadata": {},
   "outputs": [
    {
     "name": "stdout",
     "output_type": "stream",
     "text": [
      "processing: 3400, 0.35\n",
      "processing: 3404, \n",
      "processing: 3406, \n",
      "processing: 3410, 0.003\n",
      "processing: 3424, 0.01\n",
      "processing: 3428, 0.001\n",
      "processing: 3431, \n",
      "processing: 3433, 0.35\n",
      "processing: 3436, \n",
      "processing: 3444, 0.01\n",
      "processing: 3454, \n",
      "processing: 3455, \n",
      "processing: 3457, 0.35\n",
      "processing: 3459, 0.03\n",
      "processing: 3460, 0.05\n",
      "processing: 3462, \n",
      "processing: 3469, \n",
      "processing: 3471, 0.45\n",
      "processing: 3474, 0.05\n",
      "processing: 3476, 0.001\n",
      "processing: 3477, 0.9\n",
      "processing: 3478, 0.01\n",
      "processing: 3479, 0.15\n",
      "processing: 3480, \n",
      "processing: 3481, 0.25\n",
      "processing: 3485, 0.02\n",
      "processing: 3488, 0.002\n",
      "processing: 3496, 0.05\n",
      "processing: 3497, 0.003\n",
      "processing: 3499, \n",
      "processing: 3504, 0.003\n",
      "processing: 3510, \n",
      "processing: 3513, 0.02\n",
      "processing: 3515, 0.15\n",
      "processing: 3520, 0.01\n",
      "processing: 3526, 0.01\n",
      "processing: 3531, 0.7\n",
      "processing: 3532, 0.9\n",
      "processing: 3533, \n",
      "processing: 3538, 0.02\n",
      "processing: 3398, \n",
      "processing: 3399, \n",
      "processing: 3402, 0.004\n",
      "processing: 3414, 0.004\n",
      "processing: 3415, 0.002\n",
      "processing: 3416, 0.02\n",
      "processing: 3419, 0.2\n",
      "processing: 3429, 0.008\n",
      "processing: 3434, 0.35\n",
      "processing: 3435, 0.02\n",
      "processing: 3438, 0.35\n",
      "processing: 3442, 0.2\n",
      "processing: 3443, 0.01\n",
      "processing: 3446, 0.35\n",
      "processing: 3450, 0.018\n",
      "processing: 3452, \n",
      "processing: 3456, \n",
      "processing: 3463, 0.35\n",
      "processing: 3464, 0.005\n",
      "processing: 3466, 0.004\n",
      "processing: 3475, 0.004\n",
      "processing: 3486, 0.008\n",
      "processing: 3487, 0.04\n",
      "processing: 3492, 0.013\n",
      "processing: 3502, 0.07\n",
      "processing: 3505, 0.007\n",
      "processing: 3507, 0.01\n",
      "processing: 3512, \n",
      "processing: 3516, \n",
      "processing: 3517, 0.2\n",
      "processing: 3524, \n",
      "processing: 3525, 0.01\n",
      "processing: 3527, 0.02\n",
      "processing: 3530, 0.013\n",
      "processing: 3534, 0.02\n"
     ]
    }
   ],
   "source": [
    "for base_dir in [r'D:\\项目资料\\息肉假阳性\\202208\\有息肉肠镜视频', r'D:\\项目资料\\息肉假阳性\\202208\\无息肉肠镜视频']:\n",
    "    raw_img_folder = os.path.join(base_dir, 'images_crop')\n",
    "    fake_polyp_folder = os.path.join(base_dir, 'images_detect')\n",
    "    true_polyp_folder = os.path.join(base_dir, 'images_truepoly_detect')\n",
    "    output_video_folder = os.path.join(base_dir, 'videos_gen')\n",
    "    \n",
    "    # 文件夹名和分数\n",
    "    video_names = os.listdir(raw_img_folder)\n",
    "    folder_score = {video_name: '' for video_name in video_names}\n",
    "    for folder in os.listdir(fake_polyp_folder):\n",
    "        arr = folder.split('_')\n",
    "        folder_score[arr[0]] = arr[1]\n",
    "    \n",
    "    # 循环处理\n",
    "    for video_name, score in folder_score.items():\n",
    "        print('processing: %s, %s' % (video_name, score))\n",
    "        raw_img_path = os.path.join(raw_img_folder, video_name)\n",
    "        fake_polyp_path = os.path.join(fake_polyp_folder, '%s_%s' % (video_name, score))\n",
    "        true_polyp_path = os.path.join(true_polyp_folder, '%s_%s' % (video_name, 0.35))\n",
    "        output_video_path = os.path.join(output_video_folder, r'%s_%s.avi' % (video_name, score))\n",
    "\n",
    "        create_mp4(raw_img_path, fake_polyp_path, true_polyp_path, output_video_path)"
   ]
  },
  {
   "cell_type": "code",
   "execution_count": null,
   "id": "d0c8ea1e",
   "metadata": {},
   "outputs": [],
   "source": []
  }
 ],
 "metadata": {
  "kernelspec": {
   "display_name": "Python 3 (ipykernel)",
   "language": "python",
   "name": "python3"
  },
  "language_info": {
   "codemirror_mode": {
    "name": "ipython",
    "version": 3
   },
   "file_extension": ".py",
   "mimetype": "text/x-python",
   "name": "python",
   "nbconvert_exporter": "python",
   "pygments_lexer": "ipython3",
   "version": "3.9.12"
  }
 },
 "nbformat": 4,
 "nbformat_minor": 5
}
