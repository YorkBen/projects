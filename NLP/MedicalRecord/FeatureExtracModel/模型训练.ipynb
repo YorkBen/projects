{
 "cells": [
  {
   "cell_type": "code",
   "execution_count": 1,
   "id": "c94074eb",
   "metadata": {},
   "outputs": [],
   "source": [
    "import os\n",
    "from run import train, predict\n",
    "\n",
    "def find_best_mdl(mdl_folder, name):\n",
    "    result = []\n",
    "    for mdl_name in os.listdir(mdl_folder):\n",
    "        if name in mdl_name:\n",
    "            result.append((mdl_name, int(mdl_name.split('_')[-1].split('.')[0])))\n",
    "    result = sorted(result, key=lambda x: x[1], reverse=True)\n",
    "    return result[0][0]\n",
    "\n",
    "def stat_train_total_ct(data_file_path, cols, names):\n",
    "    data_lines = []\n",
    "    with open(data_file_path) as f_in:\n",
    "        data_lines = f_in.readlines()[1:]\n",
    "    \n",
    "    for col, name in zip(cols, names):\n",
    "        stat_result = [0 for i in range(4)]\n",
    "        for line in data_lines:\n",
    "            arr = line.split('\t')\n",
    "            e = int(arr[col])\n",
    "            stat_result[e] = stat_result[e] + 1\n",
    "        \n",
    "        s = name\n",
    "        for item in stat_result:\n",
    "            s = '%s\t\t\t%s' % (s, item)\n",
    "        print(s)\n",
    "        print(s)\n",
    "\n",
    "        \n",
    "mdl_folder = r'output/models'"
   ]
  },
  {
   "cell_type": "markdown",
   "id": "d97bf7b2",
   "metadata": {},
   "source": [
    "### 现病史"
   ]
  },
  {
   "cell_type": "code",
   "execution_count": 2,
   "id": "1fdc676f",
   "metadata": {
    "scrolled": true
   },
   "outputs": [
    {
     "name": "stderr",
     "output_type": "stream",
     "text": [
      "DEBUG:root:Loading data lines...\n",
      "DEBUG:root:689 Lines Loaded!\n",
      "INFO:root:Initializing Class TextClassifier...\n"
     ]
    },
    {
     "name": "stdout",
     "output_type": "stream",
     "text": [
      "output/models\\放射痛（右肩、肩胛和背部）_20220813113811_7327.pth\n"
     ]
    },
    {
     "name": "stderr",
     "output_type": "stream",
     "text": [
      "DEBUG:root:Loading Model output/models\\放射痛（右肩、肩胛和背部）_20220813113811_7327.pth\n",
      "INFO:root:TextClassifier Using Device: CUDA\n",
      "INFO:root:TextClassifier Loading Data...\n",
      "DEBUG:root:Using Text Pair? -> Yes\n",
      "DEBUG:root:Data For Predicting\n",
      "DEBUG:root:Loading data lines...\n",
      "DEBUG:root:184 Lines Loaded!\n",
      "INFO:root:Initializing Class TextClassifier...\n"
     ]
    },
    {
     "name": "stdout",
     "output_type": "stream",
     "text": [
      "best accuracy: 0.7327586206896551\n",
      "{0: '0', 1: '1', 2: '2'}\n"
     ]
    },
    {
     "name": "stderr",
     "output_type": "stream",
     "text": [
      "DEBUG:root:Loading Model output/models\\放射痛（右肩、肩胛和背部）_20220813113811_7327.pth\n",
      "INFO:root:TextClassifier Using Device: CUDA\n",
      "INFO:root:TextClassifier Loading Data...\n",
      "DEBUG:root:Using Text Pair? -> Yes\n",
      "DEBUG:root:Data For Predicting\n",
      "DEBUG:root:Loading data lines...\n",
      "DEBUG:root:689 Lines Loaded!\n",
      "INFO:root:Initializing Class TextClassifier...\n"
     ]
    },
    {
     "name": "stdout",
     "output_type": "stream",
     "text": [
      "best accuracy: 0.8695652173913043\n",
      "{0: '0', 1: '1', 2: '2'}\n",
      "output/models\\上腹痛_20220813120231_8750.pth\n"
     ]
    },
    {
     "name": "stderr",
     "output_type": "stream",
     "text": [
      "DEBUG:root:Loading Model output/models\\上腹痛_20220813120231_8750.pth\n",
      "INFO:root:TextClassifier Using Device: CUDA\n",
      "INFO:root:TextClassifier Loading Data...\n",
      "DEBUG:root:Using Text Pair? -> Yes\n",
      "DEBUG:root:Data For Predicting\n",
      "DEBUG:root:Loading data lines...\n",
      "DEBUG:root:184 Lines Loaded!\n",
      "INFO:root:Initializing Class TextClassifier...\n"
     ]
    },
    {
     "name": "stdout",
     "output_type": "stream",
     "text": [
      "best accuracy: 0.8850574712643678\n",
      "{0: '0', 1: '1', 2: '2'}\n"
     ]
    },
    {
     "name": "stderr",
     "output_type": "stream",
     "text": [
      "DEBUG:root:Loading Model output/models\\上腹痛_20220813120231_8750.pth\n",
      "INFO:root:TextClassifier Using Device: CUDA\n",
      "INFO:root:TextClassifier Loading Data...\n",
      "DEBUG:root:Using Text Pair? -> Yes\n",
      "DEBUG:root:Data For Predicting\n"
     ]
    },
    {
     "ename": "KeyboardInterrupt",
     "evalue": "",
     "output_type": "error",
     "traceback": [
      "\u001b[1;31m---------------------------------------------------------------------------\u001b[0m",
      "\u001b[1;31mKeyboardInterrupt\u001b[0m                         Traceback (most recent call last)",
      "Input \u001b[1;32mIn [2]\u001b[0m, in \u001b[0;36m<cell line: 1>\u001b[1;34m()\u001b[0m\n\u001b[0;32m      9\u001b[0m \u001b[38;5;28mprint\u001b[39m(best_mdl_path)\n\u001b[0;32m     10\u001b[0m predict(best_mdl_path, predict_file_path\u001b[38;5;241m=\u001b[39m\u001b[38;5;124mr\u001b[39m\u001b[38;5;124m'\u001b[39m\u001b[38;5;124mdata\u001b[39m\u001b[38;5;124m\\\u001b[39m\u001b[38;5;124m测试集_现病史_模型.txt\u001b[39m\u001b[38;5;124m'\u001b[39m, result_file_path\u001b[38;5;241m=\u001b[39m\u001b[38;5;124mr\u001b[39m\u001b[38;5;124m'\u001b[39m\u001b[38;5;124moutput/data/\u001b[39m\u001b[38;5;132;01m%s\u001b[39;00m\u001b[38;5;124m_现病史_测试集结果.txt\u001b[39m\u001b[38;5;124m'\u001b[39m \u001b[38;5;241m%\u001b[39m name, \n\u001b[0;32m     11\u001b[0m         log_file_path\u001b[38;5;241m=\u001b[39m\u001b[38;5;124mr\u001b[39m\u001b[38;5;124m'\u001b[39m\u001b[38;5;124moutput/data/predict_20220815_2.txt\u001b[39m\u001b[38;5;124m'\u001b[39m, num_fields\u001b[38;5;241m=\u001b[39m\u001b[38;5;241m24\u001b[39m, text_field\u001b[38;5;241m=\u001b[39m\u001b[38;5;241m2\u001b[39m, label_field\u001b[38;5;241m=\u001b[39mcol, feature_name\u001b[38;5;241m=\u001b[39mname, skip_title\u001b[38;5;241m=\u001b[39m\u001b[38;5;28;01mTrue\u001b[39;00m)\n\u001b[1;32m---> 12\u001b[0m \u001b[43mpredict\u001b[49m\u001b[43m(\u001b[49m\u001b[43mbest_mdl_path\u001b[49m\u001b[43m,\u001b[49m\u001b[43m \u001b[49m\u001b[43mpredict_file_path\u001b[49m\u001b[38;5;241;43m=\u001b[39;49m\u001b[38;5;124;43mr\u001b[39;49m\u001b[38;5;124;43m'\u001b[39;49m\u001b[38;5;124;43mdata\u001b[39;49m\u001b[38;5;124;43m\\\u001b[39;49m\u001b[38;5;124;43m人机_现病史_模型.txt\u001b[39;49m\u001b[38;5;124;43m'\u001b[39;49m\u001b[43m,\u001b[49m\u001b[43m \u001b[49m\u001b[43mresult_file_path\u001b[49m\u001b[38;5;241;43m=\u001b[39;49m\u001b[38;5;124;43mr\u001b[39;49m\u001b[38;5;124;43m'\u001b[39;49m\u001b[38;5;124;43moutput/data/\u001b[39;49m\u001b[38;5;132;43;01m%s\u001b[39;49;00m\u001b[38;5;124;43m_现病史_人机结果.txt\u001b[39;49m\u001b[38;5;124;43m'\u001b[39;49m\u001b[43m \u001b[49m\u001b[38;5;241;43m%\u001b[39;49m\u001b[43m \u001b[49m\u001b[43mname\u001b[49m\u001b[43m,\u001b[49m\u001b[43m \u001b[49m\n\u001b[0;32m     13\u001b[0m \u001b[43m        \u001b[49m\u001b[43mlog_file_path\u001b[49m\u001b[38;5;241;43m=\u001b[39;49m\u001b[38;5;124;43mr\u001b[39;49m\u001b[38;5;124;43m'\u001b[39;49m\u001b[38;5;124;43moutput/data/predict_20220815_2.txt\u001b[39;49m\u001b[38;5;124;43m'\u001b[39;49m\u001b[43m,\u001b[49m\u001b[43m \u001b[49m\u001b[43mnum_fields\u001b[49m\u001b[38;5;241;43m=\u001b[39;49m\u001b[38;5;241;43m24\u001b[39;49m\u001b[43m,\u001b[49m\u001b[43m \u001b[49m\u001b[43mtext_field\u001b[49m\u001b[38;5;241;43m=\u001b[39;49m\u001b[38;5;241;43m2\u001b[39;49m\u001b[43m,\u001b[49m\u001b[43m \u001b[49m\u001b[43mlabel_field\u001b[49m\u001b[38;5;241;43m=\u001b[39;49m\u001b[43mcol\u001b[49m\u001b[43m,\u001b[49m\u001b[43m \u001b[49m\u001b[43mfeature_name\u001b[49m\u001b[38;5;241;43m=\u001b[39;49m\u001b[43mname\u001b[49m\u001b[43m,\u001b[49m\u001b[43m \u001b[49m\u001b[43mskip_title\u001b[49m\u001b[38;5;241;43m=\u001b[39;49m\u001b[38;5;28;43;01mTrue\u001b[39;49;00m\u001b[43m)\u001b[49m\n",
      "File \u001b[1;32mD:\\projects\\NLP\\MedicalRecord\\FeatureExtracModel\\run.py:114\u001b[0m, in \u001b[0;36mpredict\u001b[1;34m(mdl_filepath, predict_file_path, result_file_path, log_file_path, text_field, label_field, num_fields, feature_name, skip_title)\u001b[0m\n\u001b[0;32m    106\u001b[0m model \u001b[38;5;241m=\u001b[39m TextClassifier(model_save_path\u001b[38;5;241m=\u001b[39m\u001b[38;5;124m'\u001b[39m\u001b[38;5;124moutput/models\u001b[39m\u001b[38;5;124m'\u001b[39m,\n\u001b[0;32m    107\u001b[0m                         pre_model_path\u001b[38;5;241m=\u001b[39m\u001b[38;5;124m\"\u001b[39m\u001b[38;5;124m../../BertModels/medical-roberta-wwm\u001b[39m\u001b[38;5;124m\"\u001b[39m,\n\u001b[0;32m    108\u001b[0m                         num_cls\u001b[38;5;241m=\u001b[39m\u001b[38;5;241m3\u001b[39m,\n\u001b[0;32m    109\u001b[0m                         model_name\u001b[38;5;241m=\u001b[39m\u001b[38;5;124m'\u001b[39m\u001b[38;5;124m'\u001b[39m,\n\u001b[0;32m    110\u001b[0m                         model_file_path\u001b[38;5;241m=\u001b[39mmdl_filepath\n\u001b[0;32m    111\u001b[0m                         )\n\u001b[0;32m    113\u001b[0m model\u001b[38;5;241m.\u001b[39mload_data(sentences, labels, label_dict\u001b[38;5;241m=\u001b[39m{\u001b[38;5;124m'\u001b[39m\u001b[38;5;124m0\u001b[39m\u001b[38;5;124m'\u001b[39m: \u001b[38;5;241m0\u001b[39m, \u001b[38;5;124m'\u001b[39m\u001b[38;5;124m1\u001b[39m\u001b[38;5;124m'\u001b[39m: \u001b[38;5;241m1\u001b[39m, \u001b[38;5;124m'\u001b[39m\u001b[38;5;124m2\u001b[39m\u001b[38;5;124m'\u001b[39m: \u001b[38;5;241m2\u001b[39m}, texts_pair\u001b[38;5;241m=\u001b[39mkeywords, batch_size\u001b[38;5;241m=\u001b[39m\u001b[38;5;241m8\u001b[39m, is_training\u001b[38;5;241m=\u001b[39m\u001b[38;5;28;01mFalse\u001b[39;00m)\n\u001b[1;32m--> 114\u001b[0m results \u001b[38;5;241m=\u001b[39m \u001b[43mmodel\u001b[49m\u001b[38;5;241;43m.\u001b[39;49m\u001b[43mpredict_nowrite\u001b[49m\u001b[43m(\u001b[49m\u001b[43m)\u001b[49m\n\u001b[0;32m    115\u001b[0m \u001b[38;5;28;01mwith\u001b[39;00m \u001b[38;5;28mopen\u001b[39m(result_file_path, \u001b[38;5;124m'\u001b[39m\u001b[38;5;124mw\u001b[39m\u001b[38;5;124m'\u001b[39m) \u001b[38;5;28;01mas\u001b[39;00m f:\n\u001b[0;32m    116\u001b[0m     \u001b[38;5;28;01mfor\u001b[39;00m (mrno, rdate), (lbl, pred) \u001b[38;5;129;01min\u001b[39;00m \u001b[38;5;28mzip\u001b[39m(ids, results):\n",
      "File \u001b[1;32mD:\\projects\\NLP\\MedicalRecord\\FeatureExtracModel\\Lib\\TextClassifier.py:278\u001b[0m, in \u001b[0;36mTextClassifier.predict_nowrite\u001b[1;34m(self)\u001b[0m\n\u001b[0;32m    276\u001b[0m \u001b[38;5;28mself\u001b[39m\u001b[38;5;241m.\u001b[39mmodel\u001b[38;5;241m.\u001b[39meval()\n\u001b[0;32m    277\u001b[0m pred_acc \u001b[38;5;241m=\u001b[39m \u001b[38;5;241m0\u001b[39m\n\u001b[1;32m--> 278\u001b[0m \u001b[38;5;28;01mfor\u001b[39;00m data \u001b[38;5;129;01min\u001b[39;00m \u001b[38;5;28mself\u001b[39m\u001b[38;5;241m.\u001b[39mpredict_loader:\n\u001b[0;32m    279\u001b[0m     input_ids, attention_mask, types, labels \u001b[38;5;241m=\u001b[39m [elem\u001b[38;5;241m.\u001b[39mto(\u001b[38;5;28mself\u001b[39m\u001b[38;5;241m.\u001b[39mdevice) \u001b[38;5;28;01mfor\u001b[39;00m elem \u001b[38;5;129;01min\u001b[39;00m data]\n\u001b[0;32m    280\u001b[0m     \u001b[38;5;28;01mwith\u001b[39;00m torch\u001b[38;5;241m.\u001b[39mno_grad():\n",
      "File \u001b[1;32mD:\\Anaconda3\\lib\\site-packages\\torch\\utils\\data\\dataloader.py:530\u001b[0m, in \u001b[0;36m_BaseDataLoaderIter.__next__\u001b[1;34m(self)\u001b[0m\n\u001b[0;32m    528\u001b[0m \u001b[38;5;28;01mif\u001b[39;00m \u001b[38;5;28mself\u001b[39m\u001b[38;5;241m.\u001b[39m_sampler_iter \u001b[38;5;129;01mis\u001b[39;00m \u001b[38;5;28;01mNone\u001b[39;00m:\n\u001b[0;32m    529\u001b[0m     \u001b[38;5;28mself\u001b[39m\u001b[38;5;241m.\u001b[39m_reset()\n\u001b[1;32m--> 530\u001b[0m data \u001b[38;5;241m=\u001b[39m \u001b[38;5;28;43mself\u001b[39;49m\u001b[38;5;241;43m.\u001b[39;49m\u001b[43m_next_data\u001b[49m\u001b[43m(\u001b[49m\u001b[43m)\u001b[49m\n\u001b[0;32m    531\u001b[0m \u001b[38;5;28mself\u001b[39m\u001b[38;5;241m.\u001b[39m_num_yielded \u001b[38;5;241m+\u001b[39m\u001b[38;5;241m=\u001b[39m \u001b[38;5;241m1\u001b[39m\n\u001b[0;32m    532\u001b[0m \u001b[38;5;28;01mif\u001b[39;00m \u001b[38;5;28mself\u001b[39m\u001b[38;5;241m.\u001b[39m_dataset_kind \u001b[38;5;241m==\u001b[39m _DatasetKind\u001b[38;5;241m.\u001b[39mIterable \u001b[38;5;129;01mand\u001b[39;00m \\\n\u001b[0;32m    533\u001b[0m         \u001b[38;5;28mself\u001b[39m\u001b[38;5;241m.\u001b[39m_IterableDataset_len_called \u001b[38;5;129;01mis\u001b[39;00m \u001b[38;5;129;01mnot\u001b[39;00m \u001b[38;5;28;01mNone\u001b[39;00m \u001b[38;5;129;01mand\u001b[39;00m \\\n\u001b[0;32m    534\u001b[0m         \u001b[38;5;28mself\u001b[39m\u001b[38;5;241m.\u001b[39m_num_yielded \u001b[38;5;241m>\u001b[39m \u001b[38;5;28mself\u001b[39m\u001b[38;5;241m.\u001b[39m_IterableDataset_len_called:\n",
      "File \u001b[1;32mD:\\Anaconda3\\lib\\site-packages\\torch\\utils\\data\\dataloader.py:1207\u001b[0m, in \u001b[0;36m_MultiProcessingDataLoaderIter._next_data\u001b[1;34m(self)\u001b[0m\n\u001b[0;32m   1204\u001b[0m     \u001b[38;5;28;01mreturn\u001b[39;00m \u001b[38;5;28mself\u001b[39m\u001b[38;5;241m.\u001b[39m_process_data(data)\n\u001b[0;32m   1206\u001b[0m \u001b[38;5;28;01massert\u001b[39;00m \u001b[38;5;129;01mnot\u001b[39;00m \u001b[38;5;28mself\u001b[39m\u001b[38;5;241m.\u001b[39m_shutdown \u001b[38;5;129;01mand\u001b[39;00m \u001b[38;5;28mself\u001b[39m\u001b[38;5;241m.\u001b[39m_tasks_outstanding \u001b[38;5;241m>\u001b[39m \u001b[38;5;241m0\u001b[39m\n\u001b[1;32m-> 1207\u001b[0m idx, data \u001b[38;5;241m=\u001b[39m \u001b[38;5;28;43mself\u001b[39;49m\u001b[38;5;241;43m.\u001b[39;49m\u001b[43m_get_data\u001b[49m\u001b[43m(\u001b[49m\u001b[43m)\u001b[49m\n\u001b[0;32m   1208\u001b[0m \u001b[38;5;28mself\u001b[39m\u001b[38;5;241m.\u001b[39m_tasks_outstanding \u001b[38;5;241m-\u001b[39m\u001b[38;5;241m=\u001b[39m \u001b[38;5;241m1\u001b[39m\n\u001b[0;32m   1209\u001b[0m \u001b[38;5;28;01mif\u001b[39;00m \u001b[38;5;28mself\u001b[39m\u001b[38;5;241m.\u001b[39m_dataset_kind \u001b[38;5;241m==\u001b[39m _DatasetKind\u001b[38;5;241m.\u001b[39mIterable:\n\u001b[0;32m   1210\u001b[0m     \u001b[38;5;66;03m# Check for _IterableDatasetStopIteration\u001b[39;00m\n",
      "File \u001b[1;32mD:\\Anaconda3\\lib\\site-packages\\torch\\utils\\data\\dataloader.py:1173\u001b[0m, in \u001b[0;36m_MultiProcessingDataLoaderIter._get_data\u001b[1;34m(self)\u001b[0m\n\u001b[0;32m   1169\u001b[0m     \u001b[38;5;66;03m# In this case, `self._data_queue` is a `queue.Queue`,. But we don't\u001b[39;00m\n\u001b[0;32m   1170\u001b[0m     \u001b[38;5;66;03m# need to call `.task_done()` because we don't use `.join()`.\u001b[39;00m\n\u001b[0;32m   1171\u001b[0m \u001b[38;5;28;01melse\u001b[39;00m:\n\u001b[0;32m   1172\u001b[0m     \u001b[38;5;28;01mwhile\u001b[39;00m \u001b[38;5;28;01mTrue\u001b[39;00m:\n\u001b[1;32m-> 1173\u001b[0m         success, data \u001b[38;5;241m=\u001b[39m \u001b[38;5;28;43mself\u001b[39;49m\u001b[38;5;241;43m.\u001b[39;49m\u001b[43m_try_get_data\u001b[49m\u001b[43m(\u001b[49m\u001b[43m)\u001b[49m\n\u001b[0;32m   1174\u001b[0m         \u001b[38;5;28;01mif\u001b[39;00m success:\n\u001b[0;32m   1175\u001b[0m             \u001b[38;5;28;01mreturn\u001b[39;00m data\n",
      "File \u001b[1;32mD:\\Anaconda3\\lib\\site-packages\\torch\\utils\\data\\dataloader.py:1011\u001b[0m, in \u001b[0;36m_MultiProcessingDataLoaderIter._try_get_data\u001b[1;34m(self, timeout)\u001b[0m\n\u001b[0;32m    998\u001b[0m \u001b[38;5;28;01mdef\u001b[39;00m \u001b[38;5;21m_try_get_data\u001b[39m(\u001b[38;5;28mself\u001b[39m, timeout\u001b[38;5;241m=\u001b[39m_utils\u001b[38;5;241m.\u001b[39mMP_STATUS_CHECK_INTERVAL):\n\u001b[0;32m    999\u001b[0m     \u001b[38;5;66;03m# Tries to fetch data from `self._data_queue` once for a given timeout.\u001b[39;00m\n\u001b[0;32m   1000\u001b[0m     \u001b[38;5;66;03m# This can also be used as inner loop of fetching without timeout, with\u001b[39;00m\n\u001b[1;32m   (...)\u001b[0m\n\u001b[0;32m   1008\u001b[0m     \u001b[38;5;66;03m# Returns a 2-tuple:\u001b[39;00m\n\u001b[0;32m   1009\u001b[0m     \u001b[38;5;66;03m#   (bool: whether successfully get data, any: data if successful else None)\u001b[39;00m\n\u001b[0;32m   1010\u001b[0m     \u001b[38;5;28;01mtry\u001b[39;00m:\n\u001b[1;32m-> 1011\u001b[0m         data \u001b[38;5;241m=\u001b[39m \u001b[38;5;28;43mself\u001b[39;49m\u001b[38;5;241;43m.\u001b[39;49m\u001b[43m_data_queue\u001b[49m\u001b[38;5;241;43m.\u001b[39;49m\u001b[43mget\u001b[49m\u001b[43m(\u001b[49m\u001b[43mtimeout\u001b[49m\u001b[38;5;241;43m=\u001b[39;49m\u001b[43mtimeout\u001b[49m\u001b[43m)\u001b[49m\n\u001b[0;32m   1012\u001b[0m         \u001b[38;5;28;01mreturn\u001b[39;00m (\u001b[38;5;28;01mTrue\u001b[39;00m, data)\n\u001b[0;32m   1013\u001b[0m     \u001b[38;5;28;01mexcept\u001b[39;00m \u001b[38;5;167;01mException\u001b[39;00m \u001b[38;5;28;01mas\u001b[39;00m e:\n\u001b[0;32m   1014\u001b[0m         \u001b[38;5;66;03m# At timeout and error, we manually check whether any worker has\u001b[39;00m\n\u001b[0;32m   1015\u001b[0m         \u001b[38;5;66;03m# failed. Note that this is the only mechanism for Windows to detect\u001b[39;00m\n\u001b[0;32m   1016\u001b[0m         \u001b[38;5;66;03m# worker failures.\u001b[39;00m\n",
      "File \u001b[1;32mD:\\Anaconda3\\lib\\multiprocessing\\queues.py:113\u001b[0m, in \u001b[0;36mQueue.get\u001b[1;34m(self, block, timeout)\u001b[0m\n\u001b[0;32m    111\u001b[0m \u001b[38;5;28;01mif\u001b[39;00m block:\n\u001b[0;32m    112\u001b[0m     timeout \u001b[38;5;241m=\u001b[39m deadline \u001b[38;5;241m-\u001b[39m time\u001b[38;5;241m.\u001b[39mmonotonic()\n\u001b[1;32m--> 113\u001b[0m     \u001b[38;5;28;01mif\u001b[39;00m \u001b[38;5;129;01mnot\u001b[39;00m \u001b[38;5;28;43mself\u001b[39;49m\u001b[38;5;241;43m.\u001b[39;49m\u001b[43m_poll\u001b[49m\u001b[43m(\u001b[49m\u001b[43mtimeout\u001b[49m\u001b[43m)\u001b[49m:\n\u001b[0;32m    114\u001b[0m         \u001b[38;5;28;01mraise\u001b[39;00m Empty\n\u001b[0;32m    115\u001b[0m \u001b[38;5;28;01melif\u001b[39;00m \u001b[38;5;129;01mnot\u001b[39;00m \u001b[38;5;28mself\u001b[39m\u001b[38;5;241m.\u001b[39m_poll():\n",
      "File \u001b[1;32mD:\\Anaconda3\\lib\\multiprocessing\\connection.py:262\u001b[0m, in \u001b[0;36m_ConnectionBase.poll\u001b[1;34m(self, timeout)\u001b[0m\n\u001b[0;32m    260\u001b[0m \u001b[38;5;28mself\u001b[39m\u001b[38;5;241m.\u001b[39m_check_closed()\n\u001b[0;32m    261\u001b[0m \u001b[38;5;28mself\u001b[39m\u001b[38;5;241m.\u001b[39m_check_readable()\n\u001b[1;32m--> 262\u001b[0m \u001b[38;5;28;01mreturn\u001b[39;00m \u001b[38;5;28;43mself\u001b[39;49m\u001b[38;5;241;43m.\u001b[39;49m\u001b[43m_poll\u001b[49m\u001b[43m(\u001b[49m\u001b[43mtimeout\u001b[49m\u001b[43m)\u001b[49m\n",
      "File \u001b[1;32mD:\\Anaconda3\\lib\\multiprocessing\\connection.py:335\u001b[0m, in \u001b[0;36mPipeConnection._poll\u001b[1;34m(self, timeout)\u001b[0m\n\u001b[0;32m    332\u001b[0m \u001b[38;5;28;01mif\u001b[39;00m (\u001b[38;5;28mself\u001b[39m\u001b[38;5;241m.\u001b[39m_got_empty_message \u001b[38;5;129;01mor\u001b[39;00m\n\u001b[0;32m    333\u001b[0m             _winapi\u001b[38;5;241m.\u001b[39mPeekNamedPipe(\u001b[38;5;28mself\u001b[39m\u001b[38;5;241m.\u001b[39m_handle)[\u001b[38;5;241m0\u001b[39m] \u001b[38;5;241m!=\u001b[39m \u001b[38;5;241m0\u001b[39m):\n\u001b[0;32m    334\u001b[0m     \u001b[38;5;28;01mreturn\u001b[39;00m \u001b[38;5;28;01mTrue\u001b[39;00m\n\u001b[1;32m--> 335\u001b[0m \u001b[38;5;28;01mreturn\u001b[39;00m \u001b[38;5;28mbool\u001b[39m(\u001b[43mwait\u001b[49m\u001b[43m(\u001b[49m\u001b[43m[\u001b[49m\u001b[38;5;28;43mself\u001b[39;49m\u001b[43m]\u001b[49m\u001b[43m,\u001b[49m\u001b[43m \u001b[49m\u001b[43mtimeout\u001b[49m\u001b[43m)\u001b[49m)\n",
      "File \u001b[1;32mD:\\Anaconda3\\lib\\multiprocessing\\connection.py:884\u001b[0m, in \u001b[0;36mwait\u001b[1;34m(object_list, timeout)\u001b[0m\n\u001b[0;32m    881\u001b[0m                 ready_objects\u001b[38;5;241m.\u001b[39madd(o)\n\u001b[0;32m    882\u001b[0m                 timeout \u001b[38;5;241m=\u001b[39m \u001b[38;5;241m0\u001b[39m\n\u001b[1;32m--> 884\u001b[0m     ready_handles \u001b[38;5;241m=\u001b[39m \u001b[43m_exhaustive_wait\u001b[49m\u001b[43m(\u001b[49m\u001b[43mwaithandle_to_obj\u001b[49m\u001b[38;5;241;43m.\u001b[39;49m\u001b[43mkeys\u001b[49m\u001b[43m(\u001b[49m\u001b[43m)\u001b[49m\u001b[43m,\u001b[49m\u001b[43m \u001b[49m\u001b[43mtimeout\u001b[49m\u001b[43m)\u001b[49m\n\u001b[0;32m    885\u001b[0m \u001b[38;5;28;01mfinally\u001b[39;00m:\n\u001b[0;32m    886\u001b[0m     \u001b[38;5;66;03m# request that overlapped reads stop\u001b[39;00m\n\u001b[0;32m    887\u001b[0m     \u001b[38;5;28;01mfor\u001b[39;00m ov \u001b[38;5;129;01min\u001b[39;00m ov_list:\n",
      "File \u001b[1;32mD:\\Anaconda3\\lib\\multiprocessing\\connection.py:816\u001b[0m, in \u001b[0;36m_exhaustive_wait\u001b[1;34m(handles, timeout)\u001b[0m\n\u001b[0;32m    814\u001b[0m ready \u001b[38;5;241m=\u001b[39m []\n\u001b[0;32m    815\u001b[0m \u001b[38;5;28;01mwhile\u001b[39;00m L:\n\u001b[1;32m--> 816\u001b[0m     res \u001b[38;5;241m=\u001b[39m \u001b[43m_winapi\u001b[49m\u001b[38;5;241;43m.\u001b[39;49m\u001b[43mWaitForMultipleObjects\u001b[49m\u001b[43m(\u001b[49m\u001b[43mL\u001b[49m\u001b[43m,\u001b[49m\u001b[43m \u001b[49m\u001b[38;5;28;43;01mFalse\u001b[39;49;00m\u001b[43m,\u001b[49m\u001b[43m \u001b[49m\u001b[43mtimeout\u001b[49m\u001b[43m)\u001b[49m\n\u001b[0;32m    817\u001b[0m     \u001b[38;5;28;01mif\u001b[39;00m res \u001b[38;5;241m==\u001b[39m WAIT_TIMEOUT:\n\u001b[0;32m    818\u001b[0m         \u001b[38;5;28;01mbreak\u001b[39;00m\n",
      "\u001b[1;31mKeyboardInterrupt\u001b[0m: "
     ]
    }
   ],
   "source": [
    "for col, name in zip(list(range(3, 24)), \n",
    "            ['放射痛（右肩、肩胛和背部）', '上腹痛', '厌食', '腹泻', '盆腔疼痛', '迅速波及全腹', \\\n",
    "             '黑便', '右下腹疼痛', '转移性右下腹疼痛', '中腹痛', '右上腹痛', '放射痛（放射到同侧半腹或背部）', \\\n",
    "             '持续性腹痛', '仰卧加重，坐位缓解', '阵发性疼痛', '剧烈腹痛', '停止排便排气', '阴道流血', '排尿改变', \\\n",
    "             '放射痛（侧腹、腹股沟、睾丸或大阴唇）', '腰_侧腹痛']):\n",
    "#     best_mdl_path = train(train_file_path=r'data\\训练集_现病史_模型.txt', val_file_path=r'data\\测试集_现病史_模型.txt', num_fields=24, \n",
    "#           text_field=2, label_field=col, feature_name=name, log_file=r'output\\logs\\%s.log', skip_title=True)\n",
    "    best_mdl_path = os.path.join(mdl_folder, find_best_mdl(mdl_folder, name))\n",
    "    print(best_mdl_path)\n",
    "    predict(best_mdl_path, predict_file_path=r'data\\测试集_现病史_模型.txt', result_file_path=r'output/data/%s_现病史_测试集结果.txt' % name, \n",
    "            log_file_path=r'output/data/predict_20220815_2.txt', num_fields=24, text_field=2, label_field=col, feature_name=name, skip_title=True)\n",
    "    predict(best_mdl_path, predict_file_path=r'data\\人机_现病史_模型.txt', result_file_path=r'output/data/%s_现病史_人机结果.txt' % name, \n",
    "            log_file_path=r'output/data/predict_20220815_2.txt', num_fields=24, text_field=2, label_field=col, feature_name=name, skip_title=True)"
   ]
  },
  {
   "cell_type": "code",
   "execution_count": 2,
   "id": "8aa1c895",
   "metadata": {
    "collapsed": true
   },
   "outputs": [
    {
     "ename": "IndexError",
     "evalue": "list index out of range",
     "output_type": "error",
     "traceback": [
      "\u001b[1;31m---------------------------------------------------------------------------\u001b[0m",
      "\u001b[1;31mIndexError\u001b[0m                                Traceback (most recent call last)",
      "Input \u001b[1;32mIn [2]\u001b[0m, in \u001b[0;36m<cell line: 1>\u001b[1;34m()\u001b[0m\n\u001b[1;32m----> 1\u001b[0m \u001b[43mstat_train_total_ct\u001b[49m\u001b[43m(\u001b[49m\u001b[38;5;124;43mr\u001b[39;49m\u001b[38;5;124;43m'\u001b[39;49m\u001b[38;5;124;43mdata\u001b[39;49m\u001b[38;5;124;43m\\\u001b[39;49m\u001b[38;5;124;43m训练集_现病史_模型.txt\u001b[39;49m\u001b[38;5;124;43m'\u001b[39;49m\u001b[43m,\u001b[49m\u001b[43m \u001b[49m\u001b[38;5;28;43mlist\u001b[39;49m\u001b[43m(\u001b[49m\u001b[38;5;28;43mrange\u001b[39;49m\u001b[43m(\u001b[49m\u001b[38;5;241;43m4\u001b[39;49m\u001b[43m,\u001b[49m\u001b[43m \u001b[49m\u001b[38;5;241;43m24\u001b[39;49m\u001b[43m)\u001b[49m\u001b[43m)\u001b[49m\u001b[43m,\u001b[49m\u001b[43m \u001b[49m\u001b[43m[\u001b[49m\u001b[38;5;124;43m'\u001b[39;49m\u001b[38;5;124;43m上腹痛\u001b[39;49m\u001b[38;5;124;43m'\u001b[39;49m\u001b[43m,\u001b[49m\u001b[43m \u001b[49m\u001b[38;5;124;43m'\u001b[39;49m\u001b[38;5;124;43m厌食\u001b[39;49m\u001b[38;5;124;43m'\u001b[39;49m\u001b[43m,\u001b[49m\u001b[43m \u001b[49m\u001b[38;5;124;43m'\u001b[39;49m\u001b[38;5;124;43m腹泻\u001b[39;49m\u001b[38;5;124;43m'\u001b[39;49m\u001b[43m,\u001b[49m\u001b[43m \u001b[49m\u001b[38;5;124;43m'\u001b[39;49m\u001b[38;5;124;43m盆腔疼痛\u001b[39;49m\u001b[38;5;124;43m'\u001b[39;49m\u001b[43m,\u001b[49m\u001b[43m \u001b[49m\u001b[38;5;124;43m'\u001b[39;49m\u001b[38;5;124;43m迅速波及全腹\u001b[39;49m\u001b[38;5;124;43m'\u001b[39;49m\u001b[43m,\u001b[49m\u001b[43m \u001b[49m\u001b[43m\\\u001b[49m\n\u001b[0;32m      2\u001b[0m \u001b[43m                     \u001b[49m\u001b[38;5;124;43m'\u001b[39;49m\u001b[38;5;124;43m黑便\u001b[39;49m\u001b[38;5;124;43m'\u001b[39;49m\u001b[43m,\u001b[49m\u001b[43m \u001b[49m\u001b[38;5;124;43m'\u001b[39;49m\u001b[38;5;124;43m右下腹疼痛\u001b[39;49m\u001b[38;5;124;43m'\u001b[39;49m\u001b[43m,\u001b[49m\u001b[43m \u001b[49m\u001b[38;5;124;43m'\u001b[39;49m\u001b[38;5;124;43m转移性右下腹疼痛\u001b[39;49m\u001b[38;5;124;43m'\u001b[39;49m\u001b[43m,\u001b[49m\u001b[43m \u001b[49m\u001b[38;5;124;43m'\u001b[39;49m\u001b[38;5;124;43m中腹痛\u001b[39;49m\u001b[38;5;124;43m'\u001b[39;49m\u001b[43m,\u001b[49m\u001b[43m \u001b[49m\u001b[38;5;124;43m'\u001b[39;49m\u001b[38;5;124;43m右上腹痛\u001b[39;49m\u001b[38;5;124;43m'\u001b[39;49m\u001b[43m,\u001b[49m\u001b[43m \u001b[49m\u001b[38;5;124;43m'\u001b[39;49m\u001b[38;5;124;43m放射痛（放射到同侧半腹或背部）\u001b[39;49m\u001b[38;5;124;43m'\u001b[39;49m\u001b[43m,\u001b[49m\u001b[43m \u001b[49m\u001b[43m\\\u001b[49m\n\u001b[0;32m      3\u001b[0m \u001b[43m                     \u001b[49m\u001b[38;5;124;43m'\u001b[39;49m\u001b[38;5;124;43m持续性腹痛\u001b[39;49m\u001b[38;5;124;43m'\u001b[39;49m\u001b[43m,\u001b[49m\u001b[43m \u001b[49m\u001b[38;5;124;43m'\u001b[39;49m\u001b[38;5;124;43m仰卧加重，坐位缓解\u001b[39;49m\u001b[38;5;124;43m'\u001b[39;49m\u001b[43m,\u001b[49m\u001b[43m \u001b[49m\u001b[38;5;124;43m'\u001b[39;49m\u001b[38;5;124;43m阵发性疼痛\u001b[39;49m\u001b[38;5;124;43m'\u001b[39;49m\u001b[43m,\u001b[49m\u001b[43m \u001b[49m\u001b[38;5;124;43m'\u001b[39;49m\u001b[38;5;124;43m剧烈腹痛\u001b[39;49m\u001b[38;5;124;43m'\u001b[39;49m\u001b[43m,\u001b[49m\u001b[43m \u001b[49m\u001b[38;5;124;43m'\u001b[39;49m\u001b[38;5;124;43m停止排便排气\u001b[39;49m\u001b[38;5;124;43m'\u001b[39;49m\u001b[43m,\u001b[49m\u001b[43m \u001b[49m\u001b[38;5;124;43m'\u001b[39;49m\u001b[38;5;124;43m阴道流血\u001b[39;49m\u001b[38;5;124;43m'\u001b[39;49m\u001b[43m,\u001b[49m\u001b[43m \u001b[49m\u001b[38;5;124;43m'\u001b[39;49m\u001b[38;5;124;43m排尿改变\u001b[39;49m\u001b[38;5;124;43m'\u001b[39;49m\u001b[43m,\u001b[49m\u001b[43m \u001b[49m\u001b[43m\\\u001b[49m\n\u001b[0;32m      4\u001b[0m \u001b[43m                     \u001b[49m\u001b[38;5;124;43m'\u001b[39;49m\u001b[38;5;124;43m放射痛（侧腹、腹股沟、睾丸或大阴唇）\u001b[39;49m\u001b[38;5;124;43m'\u001b[39;49m\u001b[43m,\u001b[49m\u001b[43m \u001b[49m\u001b[38;5;124;43m'\u001b[39;49m\u001b[38;5;124;43m腰_侧腹痛\u001b[39;49m\u001b[38;5;124;43m'\u001b[39;49m\u001b[43m]\u001b[49m\u001b[43m)\u001b[49m\n",
      "Input \u001b[1;32mIn [1]\u001b[0m, in \u001b[0;36mstat_train_total_ct\u001b[1;34m(data_file_path, cols, names)\u001b[0m\n\u001b[0;32m     19\u001b[0m \u001b[38;5;28;01mfor\u001b[39;00m line \u001b[38;5;129;01min\u001b[39;00m data_lines:\n\u001b[0;32m     20\u001b[0m     e \u001b[38;5;241m=\u001b[39m \u001b[38;5;28mint\u001b[39m(line[col])\n\u001b[1;32m---> 21\u001b[0m     stat_result[e] \u001b[38;5;241m=\u001b[39m \u001b[43mstat_result\u001b[49m\u001b[43m[\u001b[49m\u001b[43me\u001b[49m\u001b[43m]\u001b[49m \u001b[38;5;241m+\u001b[39m \u001b[38;5;241m1\u001b[39m\n\u001b[0;32m     23\u001b[0m s \u001b[38;5;241m=\u001b[39m name\n\u001b[0;32m     24\u001b[0m \u001b[38;5;28;01mfor\u001b[39;00m item \u001b[38;5;129;01min\u001b[39;00m stat_result:\n",
      "\u001b[1;31mIndexError\u001b[0m: list index out of range"
     ]
    }
   ],
   "source": [
    "stat_train_total_ct(r'data\\训练集_现病史_模型.txt', list(range(3, 24)), ['放射痛（右肩、肩胛和背部）', '上腹痛', '厌食', '腹泻', '盆腔疼痛', '迅速波及全腹', '黑便', '右下腹疼痛', \\\n",
    "             '转移性右下腹疼痛', '中腹痛', '右上腹痛', '放射痛（放射到同侧半腹或背部）', '持续性腹痛', '仰卧加重，坐位缓解', \\\n",
    "             '阵发性疼痛', '剧烈腹痛', '停止排便排气', '阴道流血', '排尿改变', '放射痛（侧腹、腹股沟、睾丸或大阴唇）', '腰_侧腹痛']) "
   ]
  },
  {
   "cell_type": "markdown",
   "id": "1724126a",
   "metadata": {},
   "source": [
    "### 既往史"
   ]
  },
  {
   "cell_type": "code",
   "execution_count": 4,
   "id": "1f17222d",
   "metadata": {
    "scrolled": true
   },
   "outputs": [
    {
     "name": "stderr",
     "output_type": "stream",
     "text": [
      "DEBUG:root:Loading data lines...\n",
      "DEBUG:root:Shuffle data lines...\n",
      "DEBUG:root:2766 Lines Loaded!\n",
      "DEBUG:root:Loading data lines...\n",
      "DEBUG:root:689 Lines Loaded!\n",
      "INFO:root:Initializing Class TextClassifier...\n",
      "Some weights of the model checkpoint at ../../BertModels/medical-roberta-wwm were not used when initializing BertModel: ['cls.predictions.transform.LayerNorm.weight', 'cls.predictions.transform.LayerNorm.bias', 'cls.predictions.transform.dense.bias', 'cls.predictions.transform.dense.weight', 'cls.predictions.decoder.weight', 'cls.predictions.decoder.bias', 'cls.predictions.bias']\n",
      "- This IS expected if you are initializing BertModel from the checkpoint of a model trained on another task or with another architecture (e.g. initializing a BertForSequenceClassification model from a BertForPreTraining model).\n",
      "- This IS NOT expected if you are initializing BertModel from the checkpoint of a model that you expect to be exactly identical (initializing a BertForSequenceClassification model from a BertForSequenceClassification model).\n",
      "Some weights of BertModel were not initialized from the model checkpoint at ../../BertModels/medical-roberta-wwm and are newly initialized: ['bert.pooler.dense.bias', 'bert.pooler.dense.weight']\n",
      "You should probably TRAIN this model on a down-stream task to be able to use it for predictions and inference.\n",
      "DEBUG:root:Initializing Model BertTextClassfication\n",
      "INFO:root:TextClassifier Using Device: CUDA\n",
      "INFO:root:TextClassifier Loading Data...\n",
      "DEBUG:root:Using Text Pair? -> Yes\n",
      "DEBUG:root:Start Model Traning....\n"
     ]
    },
    {
     "ename": "KeyboardInterrupt",
     "evalue": "",
     "output_type": "error",
     "traceback": [
      "\u001b[1;31m---------------------------------------------------------------------------\u001b[0m",
      "\u001b[1;31mKeyboardInterrupt\u001b[0m                         Traceback (most recent call last)",
      "Input \u001b[1;32mIn [4]\u001b[0m, in \u001b[0;36m<cell line: 1>\u001b[1;34m()\u001b[0m\n\u001b[0;32m      1\u001b[0m \u001b[38;5;28;01mfor\u001b[39;00m col, name \u001b[38;5;129;01min\u001b[39;00m \u001b[38;5;28mzip\u001b[39m(\u001b[38;5;28mlist\u001b[39m(\u001b[38;5;28mrange\u001b[39m(\u001b[38;5;241m3\u001b[39m, \u001b[38;5;241m9\u001b[39m)), \n\u001b[0;32m      2\u001b[0m             [\u001b[38;5;124m'\u001b[39m\u001b[38;5;124m腹部手术史\u001b[39m\u001b[38;5;124m'\u001b[39m, \u001b[38;5;124m'\u001b[39m\u001b[38;5;124m自身免疫性疾病\u001b[39m\u001b[38;5;124m'\u001b[39m, \u001b[38;5;124m'\u001b[39m\u001b[38;5;124m胰腺肿瘤、囊肿病史\u001b[39m\u001b[38;5;124m'\u001b[39m, \u001b[38;5;124m'\u001b[39m\u001b[38;5;124m腹部肿瘤史\u001b[39m\u001b[38;5;124m'\u001b[39m, \u001b[38;5;124m'\u001b[39m\u001b[38;5;124m既往生殖器感染\u001b[39m\u001b[38;5;124m'\u001b[39m, \u001b[38;5;124m'\u001b[39m\u001b[38;5;124m肿瘤化疗史\u001b[39m\u001b[38;5;124m'\u001b[39m]):\n\u001b[1;32m----> 3\u001b[0m     best_mdl_path \u001b[38;5;241m=\u001b[39m \u001b[43mtrain\u001b[49m\u001b[43m(\u001b[49m\u001b[43mtrain_file_path\u001b[49m\u001b[38;5;241;43m=\u001b[39;49m\u001b[38;5;124;43mr\u001b[39;49m\u001b[38;5;124;43m'\u001b[39;49m\u001b[38;5;124;43mdata\u001b[39;49m\u001b[38;5;124;43m\\\u001b[39;49m\u001b[38;5;124;43m训练集_既往史_模型.txt\u001b[39;49m\u001b[38;5;124;43m'\u001b[39;49m\u001b[43m,\u001b[49m\u001b[43m \u001b[49m\u001b[43mval_file_path\u001b[49m\u001b[38;5;241;43m=\u001b[39;49m\u001b[38;5;124;43mr\u001b[39;49m\u001b[38;5;124;43m'\u001b[39;49m\u001b[38;5;124;43mdata\u001b[39;49m\u001b[38;5;124;43m\\\u001b[39;49m\u001b[38;5;124;43m测试集_既往史_模型.txt\u001b[39;49m\u001b[38;5;124;43m'\u001b[39;49m\u001b[43m,\u001b[49m\u001b[43m \u001b[49m\u001b[43mnum_fields\u001b[49m\u001b[38;5;241;43m=\u001b[39;49m\u001b[38;5;241;43m9\u001b[39;49m\u001b[43m,\u001b[49m\u001b[43m \u001b[49m\n\u001b[0;32m      4\u001b[0m \u001b[43m          \u001b[49m\u001b[43mtext_field\u001b[49m\u001b[38;5;241;43m=\u001b[39;49m\u001b[38;5;241;43m2\u001b[39;49m\u001b[43m,\u001b[49m\u001b[43m \u001b[49m\u001b[43mlabel_field\u001b[49m\u001b[38;5;241;43m=\u001b[39;49m\u001b[43mcol\u001b[49m\u001b[43m,\u001b[49m\u001b[43m \u001b[49m\u001b[43mfeature_name\u001b[49m\u001b[38;5;241;43m=\u001b[39;49m\u001b[43mname\u001b[49m\u001b[43m,\u001b[49m\u001b[43m \u001b[49m\u001b[43mlog_file\u001b[49m\u001b[38;5;241;43m=\u001b[39;49m\u001b[38;5;124;43mr\u001b[39;49m\u001b[38;5;124;43m'\u001b[39;49m\u001b[38;5;124;43moutput\u001b[39;49m\u001b[38;5;124;43m\\\u001b[39;49m\u001b[38;5;124;43mlogs\u001b[39;49m\u001b[38;5;124;43m\\\u001b[39;49m\u001b[38;5;124;43m20220814.log\u001b[39;49m\u001b[38;5;124;43m'\u001b[39;49m\u001b[43m,\u001b[49m\u001b[43m \u001b[49m\u001b[43mskip_title\u001b[49m\u001b[38;5;241;43m=\u001b[39;49m\u001b[38;5;28;43;01mTrue\u001b[39;49;00m\u001b[43m)\u001b[49m\n\u001b[0;32m      5\u001b[0m     \u001b[38;5;28mprint\u001b[39m(best_mdl_path)\n\u001b[0;32m      6\u001b[0m     predict(best_mdl_path, predict_file_path\u001b[38;5;241m=\u001b[39m\u001b[38;5;124mr\u001b[39m\u001b[38;5;124m'\u001b[39m\u001b[38;5;124mdata\u001b[39m\u001b[38;5;124m\\\u001b[39m\u001b[38;5;124m测试集_既往史_模型.txt\u001b[39m\u001b[38;5;124m'\u001b[39m, result_file_path\u001b[38;5;241m=\u001b[39m\u001b[38;5;124mr\u001b[39m\u001b[38;5;124m'\u001b[39m\u001b[38;5;124moutput/data/\u001b[39m\u001b[38;5;132;01m%s\u001b[39;00m\u001b[38;5;124m_既往史_测试集结果.txt\u001b[39m\u001b[38;5;124m'\u001b[39m \u001b[38;5;241m%\u001b[39m name, \n\u001b[0;32m      7\u001b[0m             num_fields\u001b[38;5;241m=\u001b[39m\u001b[38;5;241m9\u001b[39m, text_field\u001b[38;5;241m=\u001b[39m\u001b[38;5;241m2\u001b[39m, label_field\u001b[38;5;241m=\u001b[39mcol, feature_name\u001b[38;5;241m=\u001b[39mname, skip_title\u001b[38;5;241m=\u001b[39m\u001b[38;5;28;01mTrue\u001b[39;00m)\n",
      "File \u001b[1;32mD:\\projects\\NLP\\MedicalRecord\\FeatureExtracModel\\run.py:90\u001b[0m, in \u001b[0;36mtrain\u001b[1;34m(train_file_path, val_file_path, text_field, label_field, num_fields, feature_name, log_file, skip_title)\u001b[0m\n\u001b[0;32m     84\u001b[0m model \u001b[38;5;241m=\u001b[39m TextClassifier(model_save_path\u001b[38;5;241m=\u001b[39m\u001b[38;5;124m'\u001b[39m\u001b[38;5;124moutput/models\u001b[39m\u001b[38;5;124m'\u001b[39m,\n\u001b[0;32m     85\u001b[0m                         pre_model_path\u001b[38;5;241m=\u001b[39m\u001b[38;5;124m\"\u001b[39m\u001b[38;5;124m../../BertModels/medical-roberta-wwm\u001b[39m\u001b[38;5;124m\"\u001b[39m,\n\u001b[0;32m     86\u001b[0m                         num_cls\u001b[38;5;241m=\u001b[39m\u001b[38;5;241m3\u001b[39m,\n\u001b[0;32m     87\u001b[0m                         model_name\u001b[38;5;241m=\u001b[39mfeature_name)\n\u001b[0;32m     89\u001b[0m model\u001b[38;5;241m.\u001b[39mload_train_val_data(train_data, val_data, label_dict\u001b[38;5;241m=\u001b[39m{\u001b[38;5;124m'\u001b[39m\u001b[38;5;124m0\u001b[39m\u001b[38;5;124m'\u001b[39m: \u001b[38;5;241m0\u001b[39m, \u001b[38;5;124m'\u001b[39m\u001b[38;5;124m1\u001b[39m\u001b[38;5;124m'\u001b[39m: \u001b[38;5;241m1\u001b[39m, \u001b[38;5;124m'\u001b[39m\u001b[38;5;124m2\u001b[39m\u001b[38;5;124m'\u001b[39m: \u001b[38;5;241m2\u001b[39m}, batch_size\u001b[38;5;241m=\u001b[39m\u001b[38;5;241m8\u001b[39m)\n\u001b[1;32m---> 90\u001b[0m \u001b[38;5;28;01mreturn\u001b[39;00m \u001b[43mmodel\u001b[49m\u001b[38;5;241;43m.\u001b[39;49m\u001b[43mtrain\u001b[49m\u001b[43m(\u001b[49m\u001b[43mwrite_result_to_file\u001b[49m\u001b[38;5;241;43m=\u001b[39;49m\u001b[43mlog_file\u001b[49m\u001b[43m,\u001b[49m\u001b[43m \u001b[49m\u001b[43mearly_stopping_num\u001b[49m\u001b[38;5;241;43m=\u001b[39;49m\u001b[38;5;241;43m5\u001b[39;49m\u001b[43m)\u001b[49m\n",
      "File \u001b[1;32mD:\\projects\\NLP\\MedicalRecord\\FeatureExtracModel\\Lib\\TextClassifier.py:198\u001b[0m, in \u001b[0;36mTextClassifier.train\u001b[1;34m(self, epochs, early_stopping_num, write_result_to_file)\u001b[0m\n\u001b[0;32m    196\u001b[0m train_loss \u001b[38;5;241m+\u001b[39m\u001b[38;5;241m=\u001b[39m loss\u001b[38;5;241m.\u001b[39mitem()\n\u001b[0;32m    197\u001b[0m \u001b[38;5;66;03m#误差反向传播\u001b[39;00m\n\u001b[1;32m--> 198\u001b[0m \u001b[43mloss\u001b[49m\u001b[38;5;241;43m.\u001b[39;49m\u001b[43mbackward\u001b[49m\u001b[43m(\u001b[49m\u001b[43m)\u001b[49m\n\u001b[0;32m    199\u001b[0m \u001b[38;5;66;03m#更新模型参数\u001b[39;00m\n\u001b[0;32m    200\u001b[0m optimizer\u001b[38;5;241m.\u001b[39mstep()\n",
      "File \u001b[1;32mD:\\Anaconda3\\lib\\site-packages\\torch\\_tensor.py:363\u001b[0m, in \u001b[0;36mTensor.backward\u001b[1;34m(self, gradient, retain_graph, create_graph, inputs)\u001b[0m\n\u001b[0;32m    354\u001b[0m \u001b[38;5;28;01mif\u001b[39;00m has_torch_function_unary(\u001b[38;5;28mself\u001b[39m):\n\u001b[0;32m    355\u001b[0m     \u001b[38;5;28;01mreturn\u001b[39;00m handle_torch_function(\n\u001b[0;32m    356\u001b[0m         Tensor\u001b[38;5;241m.\u001b[39mbackward,\n\u001b[0;32m    357\u001b[0m         (\u001b[38;5;28mself\u001b[39m,),\n\u001b[1;32m   (...)\u001b[0m\n\u001b[0;32m    361\u001b[0m         create_graph\u001b[38;5;241m=\u001b[39mcreate_graph,\n\u001b[0;32m    362\u001b[0m         inputs\u001b[38;5;241m=\u001b[39minputs)\n\u001b[1;32m--> 363\u001b[0m \u001b[43mtorch\u001b[49m\u001b[38;5;241;43m.\u001b[39;49m\u001b[43mautograd\u001b[49m\u001b[38;5;241;43m.\u001b[39;49m\u001b[43mbackward\u001b[49m\u001b[43m(\u001b[49m\u001b[38;5;28;43mself\u001b[39;49m\u001b[43m,\u001b[49m\u001b[43m \u001b[49m\u001b[43mgradient\u001b[49m\u001b[43m,\u001b[49m\u001b[43m \u001b[49m\u001b[43mretain_graph\u001b[49m\u001b[43m,\u001b[49m\u001b[43m \u001b[49m\u001b[43mcreate_graph\u001b[49m\u001b[43m,\u001b[49m\u001b[43m \u001b[49m\u001b[43minputs\u001b[49m\u001b[38;5;241;43m=\u001b[39;49m\u001b[43minputs\u001b[49m\u001b[43m)\u001b[49m\n",
      "File \u001b[1;32mD:\\Anaconda3\\lib\\site-packages\\torch\\autograd\\__init__.py:173\u001b[0m, in \u001b[0;36mbackward\u001b[1;34m(tensors, grad_tensors, retain_graph, create_graph, grad_variables, inputs)\u001b[0m\n\u001b[0;32m    168\u001b[0m     retain_graph \u001b[38;5;241m=\u001b[39m create_graph\n\u001b[0;32m    170\u001b[0m \u001b[38;5;66;03m# The reason we repeat same the comment below is that\u001b[39;00m\n\u001b[0;32m    171\u001b[0m \u001b[38;5;66;03m# some Python versions print out the first line of a multi-line function\u001b[39;00m\n\u001b[0;32m    172\u001b[0m \u001b[38;5;66;03m# calls in the traceback and some print out the last line\u001b[39;00m\n\u001b[1;32m--> 173\u001b[0m \u001b[43mVariable\u001b[49m\u001b[38;5;241;43m.\u001b[39;49m\u001b[43m_execution_engine\u001b[49m\u001b[38;5;241;43m.\u001b[39;49m\u001b[43mrun_backward\u001b[49m\u001b[43m(\u001b[49m\u001b[43m  \u001b[49m\u001b[38;5;66;43;03m# Calls into the C++ engine to run the backward pass\u001b[39;49;00m\n\u001b[0;32m    174\u001b[0m \u001b[43m    \u001b[49m\u001b[43mtensors\u001b[49m\u001b[43m,\u001b[49m\u001b[43m \u001b[49m\u001b[43mgrad_tensors_\u001b[49m\u001b[43m,\u001b[49m\u001b[43m \u001b[49m\u001b[43mretain_graph\u001b[49m\u001b[43m,\u001b[49m\u001b[43m \u001b[49m\u001b[43mcreate_graph\u001b[49m\u001b[43m,\u001b[49m\u001b[43m \u001b[49m\u001b[43minputs\u001b[49m\u001b[43m,\u001b[49m\n\u001b[0;32m    175\u001b[0m \u001b[43m    \u001b[49m\u001b[43mallow_unreachable\u001b[49m\u001b[38;5;241;43m=\u001b[39;49m\u001b[38;5;28;43;01mTrue\u001b[39;49;00m\u001b[43m,\u001b[49m\u001b[43m \u001b[49m\u001b[43maccumulate_grad\u001b[49m\u001b[38;5;241;43m=\u001b[39;49m\u001b[38;5;28;43;01mTrue\u001b[39;49;00m\u001b[43m)\u001b[49m\n",
      "\u001b[1;31mKeyboardInterrupt\u001b[0m: "
     ]
    }
   ],
   "source": [
    "for col, name in zip(list(range(3, 9)), \n",
    "            ['腹部手术史', '自身免疫性疾病', '胰腺肿瘤、囊肿病史', '腹部肿瘤史', '既往生殖器感染', '肿瘤化疗史']):\n",
    "    best_mdl_path = train(train_file_path=r'data\\训练集_既往史_模型.txt', val_file_path=r'data\\测试集_既往史_模型.txt', num_fields=9, \n",
    "          text_field=2, label_field=col, feature_name=name, log_file=r'output\\logs\\20220814.log', skip_title=True)\n",
    "    print(best_mdl_path)\n",
    "    predict(best_mdl_path, predict_file_path=r'data\\测试集_既往史_模型.txt', result_file_path=r'output/data/%s_既往史_测试集结果.txt' % name, \n",
    "            num_fields=9, text_field=2, label_field=col, feature_name=name, skip_title=True)\n",
    "    predict(best_mdl_path, predict_file_path=r'data\\人机_既往史_模型.txt', result_file_path=r'output/data/%s_既往史_人机结果.txt' % name, \n",
    "            num_fields=9, text_field=2, label_field=col, feature_name=name, skip_title=True)"
   ]
  },
  {
   "cell_type": "code",
   "execution_count": 5,
   "id": "3854b094",
   "metadata": {
    "scrolled": true
   },
   "outputs": [
    {
     "name": "stderr",
     "output_type": "stream",
     "text": [
      "DEBUG:root:Loading data lines...\n",
      "DEBUG:root:689 Lines Loaded!\n",
      "INFO:root:Initializing Class TextClassifier...\n"
     ]
    },
    {
     "name": "stdout",
     "output_type": "stream",
     "text": [
      "output/models\\腹部手术史_20220813181506_9525.pth\n"
     ]
    },
    {
     "name": "stderr",
     "output_type": "stream",
     "text": [
      "DEBUG:root:Loading Model output/models\\腹部手术史_20220813181506_9525.pth\n",
      "INFO:root:TextClassifier Using Device: CUDA\n",
      "INFO:root:TextClassifier Loading Data...\n",
      "DEBUG:root:Using Text Pair? -> Yes\n",
      "DEBUG:root:Data For Predicting\n",
      "DEBUG:root:Loading data lines...\n",
      "DEBUG:root:184 Lines Loaded!\n",
      "INFO:root:Initializing Class TextClassifier...\n"
     ]
    },
    {
     "name": "stdout",
     "output_type": "stream",
     "text": [
      "best accuracy: 0.9525862068965517\n",
      "{0: '0', 1: '1', 2: '2'}\n"
     ]
    },
    {
     "name": "stderr",
     "output_type": "stream",
     "text": [
      "DEBUG:root:Loading Model output/models\\腹部手术史_20220813181506_9525.pth\n",
      "INFO:root:TextClassifier Using Device: CUDA\n",
      "INFO:root:TextClassifier Loading Data...\n",
      "DEBUG:root:Using Text Pair? -> Yes\n",
      "DEBUG:root:Data For Predicting\n",
      "DEBUG:root:Loading data lines...\n",
      "DEBUG:root:689 Lines Loaded!\n",
      "INFO:root:Initializing Class TextClassifier...\n"
     ]
    },
    {
     "name": "stdout",
     "output_type": "stream",
     "text": [
      "best accuracy: 0.9782608695652174\n",
      "{0: '0', 1: '1', 2: '2'}\n",
      "output/models\\自身免疫性疾病_20220814160531_9971.pth\n"
     ]
    },
    {
     "name": "stderr",
     "output_type": "stream",
     "text": [
      "DEBUG:root:Loading Model output/models\\自身免疫性疾病_20220814160531_9971.pth\n",
      "INFO:root:TextClassifier Using Device: CUDA\n",
      "INFO:root:TextClassifier Loading Data...\n",
      "DEBUG:root:Using Text Pair? -> Yes\n",
      "DEBUG:root:Data For Predicting\n",
      "DEBUG:root:Loading data lines...\n",
      "DEBUG:root:184 Lines Loaded!\n",
      "INFO:root:Initializing Class TextClassifier...\n"
     ]
    },
    {
     "name": "stdout",
     "output_type": "stream",
     "text": [
      "best accuracy: 0.9971264367816092\n",
      "{0: '0', 1: '1', 2: '2'}\n"
     ]
    },
    {
     "name": "stderr",
     "output_type": "stream",
     "text": [
      "DEBUG:root:Loading Model output/models\\自身免疫性疾病_20220814160531_9971.pth\n",
      "INFO:root:TextClassifier Using Device: CUDA\n",
      "INFO:root:TextClassifier Loading Data...\n",
      "DEBUG:root:Using Text Pair? -> Yes\n",
      "DEBUG:root:Data For Predicting\n",
      "DEBUG:root:Loading data lines...\n",
      "DEBUG:root:689 Lines Loaded!\n",
      "INFO:root:Initializing Class TextClassifier...\n"
     ]
    },
    {
     "name": "stdout",
     "output_type": "stream",
     "text": [
      "best accuracy: 1.0\n",
      "{0: '0', 1: '1', 2: '2'}\n",
      "output/models\\胰腺肿瘤、囊肿病史_20220814163429_9971.pth\n"
     ]
    },
    {
     "name": "stderr",
     "output_type": "stream",
     "text": [
      "DEBUG:root:Loading Model output/models\\胰腺肿瘤、囊肿病史_20220814163429_9971.pth\n",
      "INFO:root:TextClassifier Using Device: CUDA\n",
      "INFO:root:TextClassifier Loading Data...\n",
      "DEBUG:root:Using Text Pair? -> Yes\n",
      "DEBUG:root:Data For Predicting\n",
      "DEBUG:root:Loading data lines...\n",
      "DEBUG:root:184 Lines Loaded!\n",
      "INFO:root:Initializing Class TextClassifier...\n"
     ]
    },
    {
     "name": "stdout",
     "output_type": "stream",
     "text": [
      "best accuracy: 0.9971264367816092\n",
      "{0: '0', 1: '1', 2: '2'}\n"
     ]
    },
    {
     "name": "stderr",
     "output_type": "stream",
     "text": [
      "DEBUG:root:Loading Model output/models\\胰腺肿瘤、囊肿病史_20220814163429_9971.pth\n",
      "INFO:root:TextClassifier Using Device: CUDA\n",
      "INFO:root:TextClassifier Loading Data...\n",
      "DEBUG:root:Using Text Pair? -> Yes\n",
      "DEBUG:root:Data For Predicting\n",
      "DEBUG:root:Loading data lines...\n",
      "DEBUG:root:689 Lines Loaded!\n",
      "INFO:root:Initializing Class TextClassifier...\n"
     ]
    },
    {
     "name": "stdout",
     "output_type": "stream",
     "text": [
      "best accuracy: 1.0\n",
      "{0: '0', 1: '1', 2: '2'}\n",
      "output/models\\腹部肿瘤史_20220814180436_9640.pth\n"
     ]
    },
    {
     "name": "stderr",
     "output_type": "stream",
     "text": [
      "DEBUG:root:Loading Model output/models\\腹部肿瘤史_20220814180436_9640.pth\n",
      "INFO:root:TextClassifier Using Device: CUDA\n",
      "INFO:root:TextClassifier Loading Data...\n",
      "DEBUG:root:Using Text Pair? -> Yes\n",
      "DEBUG:root:Data For Predicting\n",
      "DEBUG:root:Loading data lines...\n",
      "DEBUG:root:184 Lines Loaded!\n",
      "INFO:root:Initializing Class TextClassifier...\n"
     ]
    },
    {
     "name": "stdout",
     "output_type": "stream",
     "text": [
      "best accuracy: 0.9640804597701149\n",
      "{0: '0', 1: '1', 2: '2'}\n"
     ]
    },
    {
     "name": "stderr",
     "output_type": "stream",
     "text": [
      "DEBUG:root:Loading Model output/models\\腹部肿瘤史_20220814180436_9640.pth\n",
      "INFO:root:TextClassifier Using Device: CUDA\n",
      "INFO:root:TextClassifier Loading Data...\n",
      "DEBUG:root:Using Text Pair? -> Yes\n",
      "DEBUG:root:Data For Predicting\n",
      "DEBUG:root:Loading data lines...\n",
      "DEBUG:root:689 Lines Loaded!\n",
      "INFO:root:Initializing Class TextClassifier...\n"
     ]
    },
    {
     "name": "stdout",
     "output_type": "stream",
     "text": [
      "best accuracy: 0.9836956521739131\n",
      "{0: '0', 1: '1', 2: '2'}\n",
      "output/models\\既往生殖器感染_20220814183333_9985.pth\n"
     ]
    },
    {
     "name": "stderr",
     "output_type": "stream",
     "text": [
      "DEBUG:root:Loading Model output/models\\既往生殖器感染_20220814183333_9985.pth\n",
      "INFO:root:TextClassifier Using Device: CUDA\n",
      "INFO:root:TextClassifier Loading Data...\n",
      "DEBUG:root:Using Text Pair? -> Yes\n",
      "DEBUG:root:Data For Predicting\n",
      "DEBUG:root:Loading data lines...\n",
      "DEBUG:root:184 Lines Loaded!\n",
      "INFO:root:Initializing Class TextClassifier...\n"
     ]
    },
    {
     "name": "stdout",
     "output_type": "stream",
     "text": [
      "best accuracy: 0.9985632183908046\n",
      "{0: '0', 1: '1', 2: '2'}\n"
     ]
    },
    {
     "name": "stderr",
     "output_type": "stream",
     "text": [
      "DEBUG:root:Loading Model output/models\\既往生殖器感染_20220814183333_9985.pth\n",
      "INFO:root:TextClassifier Using Device: CUDA\n",
      "INFO:root:TextClassifier Loading Data...\n",
      "DEBUG:root:Using Text Pair? -> Yes\n",
      "DEBUG:root:Data For Predicting\n",
      "DEBUG:root:Loading data lines...\n",
      "DEBUG:root:689 Lines Loaded!\n",
      "INFO:root:Initializing Class TextClassifier...\n"
     ]
    },
    {
     "name": "stdout",
     "output_type": "stream",
     "text": [
      "best accuracy: 1.0\n",
      "{0: '0', 1: '1', 2: '2'}\n",
      "output/models\\肿瘤化疗史_20220814190231_9913.pth\n"
     ]
    },
    {
     "name": "stderr",
     "output_type": "stream",
     "text": [
      "DEBUG:root:Loading Model output/models\\肿瘤化疗史_20220814190231_9913.pth\n",
      "INFO:root:TextClassifier Using Device: CUDA\n",
      "INFO:root:TextClassifier Loading Data...\n",
      "DEBUG:root:Using Text Pair? -> Yes\n",
      "DEBUG:root:Data For Predicting\n",
      "DEBUG:root:Loading data lines...\n",
      "DEBUG:root:184 Lines Loaded!\n",
      "INFO:root:Initializing Class TextClassifier...\n"
     ]
    },
    {
     "name": "stdout",
     "output_type": "stream",
     "text": [
      "best accuracy: 0.9913793103448276\n",
      "{0: '0', 1: '1', 2: '2'}\n"
     ]
    },
    {
     "name": "stderr",
     "output_type": "stream",
     "text": [
      "DEBUG:root:Loading Model output/models\\肿瘤化疗史_20220814190231_9913.pth\n",
      "INFO:root:TextClassifier Using Device: CUDA\n",
      "INFO:root:TextClassifier Loading Data...\n",
      "DEBUG:root:Using Text Pair? -> Yes\n",
      "DEBUG:root:Data For Predicting\n"
     ]
    },
    {
     "name": "stdout",
     "output_type": "stream",
     "text": [
      "best accuracy: 1.0\n",
      "{0: '0', 1: '1', 2: '2'}\n"
     ]
    }
   ],
   "source": [
    "mdl_folder = r'output/models'\n",
    "for col, name in zip(list(range(3, 9)), \n",
    "            ['腹部手术史', '自身免疫性疾病', '胰腺肿瘤、囊肿病史', '腹部肿瘤史', '既往生殖器感染', '肿瘤化疗史']\n",
    "            ):\n",
    "    best_mdl_path = os.path.join(mdl_folder, find_best_mdl(mdl_folder, name))\n",
    "    print(best_mdl_path)\n",
    "    predict(best_mdl_path, predict_file_path=r'data\\测试集_既往史_模型.txt', result_file_path=r'output/data/%s_既往史_测试集结果.txt' % name, \n",
    "            log_file_path=r'output/data/predict_20220815.txt', num_fields=9, text_field=2, label_field=col, feature_name=name, skip_title=True)\n",
    "    predict(best_mdl_path, predict_file_path=r'data\\人机_既往史_模型.txt', result_file_path=r'output/data/%s_既往史_人机结果.txt' % name, \n",
    "            log_file_path=r'output/data/predict_20220815.txt', num_fields=9, text_field=2, label_field=col, feature_name=name, skip_title=True)"
   ]
  },
  {
   "cell_type": "code",
   "execution_count": null,
   "id": "ae041f58",
   "metadata": {},
   "outputs": [],
   "source": [
    "stat_train_total_ct(r'data\\训练集_既往史_模型.txt', list(range(3, 9)), ['腹部手术史', '自身免疫性疾病', '胰腺肿瘤、囊肿病史', '腹部肿瘤史', '既往生殖器感染', '肿瘤化疗史']) "
   ]
  }
 ],
 "metadata": {
  "kernelspec": {
   "display_name": "Python 3 (ipykernel)",
   "language": "python",
   "name": "python3"
  },
  "language_info": {
   "codemirror_mode": {
    "name": "ipython",
    "version": 3
   },
   "file_extension": ".py",
   "mimetype": "text/x-python",
   "name": "python",
   "nbconvert_exporter": "python",
   "pygments_lexer": "ipython3",
   "version": "3.9.12"
  }
 },
 "nbformat": 4,
 "nbformat_minor": 5
}
