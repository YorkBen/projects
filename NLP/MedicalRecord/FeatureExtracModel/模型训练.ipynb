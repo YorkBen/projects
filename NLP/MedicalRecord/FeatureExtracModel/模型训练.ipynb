{
 "cells": [
  {
   "cell_type": "code",
   "execution_count": 1,
   "id": "c94074eb",
   "metadata": {},
   "outputs": [],
   "source": [
    "import os\n",
    "from run import train, predict\n",
    "\n",
    "def find_best_mdl(mdl_folder, name):\n",
    "    result = []\n",
    "    for mdl_name in os.listdir(mdl_folder):\n",
    "        if name in mdl_name:\n",
    "            result.append((mdl_name, int(mdl_name.split('_')[-1].split('.')[0])))\n",
    "    result = sorted(result, key=lambda x: x[1], reverse=True)\n",
    "    return result[0][0]\n",
    "\n",
    "def stat_train_total_ct(data_file_path, cols, names):\n",
    "    data_lines = []\n",
    "    with open(data_file_path) as f_in:\n",
    "        data_lines = f_in.readlines()[1:]\n",
    "    \n",
    "    for col, name in zip(cols, names):\n",
    "        stat_result = [0 for i in range(4)]\n",
    "        for line in data_lines:\n",
    "            arr = line.split('\t')\n",
    "            e = int(arr[col])\n",
    "            stat_result[e] = stat_result[e] + 1\n",
    "        \n",
    "        s = name\n",
    "        for item in stat_result:\n",
    "            s = '%s\t\t\t%s' % (s, item)\n",
    "        print(s)\n",
    "        print(s)\n",
    "\n",
    "        \n",
    "mdl_folder = r'output/models'"
   ]
  },
  {
   "cell_type": "markdown",
   "id": "d97bf7b2",
   "metadata": {},
   "source": [
    "### 现病史"
   ]
  },
  {
   "cell_type": "code",
   "execution_count": 6,
   "id": "1fdc676f",
   "metadata": {
    "scrolled": true
   },
   "outputs": [
    {
     "name": "stderr",
     "output_type": "stream",
     "text": [
      "DEBUG:root:Loading data lines...\n",
      "DEBUG:root:2766 Lines Loaded!\n",
      "DEBUG:root:Loading data lines...\n",
      "DEBUG:root:656 Lines Loaded!\n",
      "INFO:root:Initializing Class TextClassifier...\n",
      "Some weights of the model checkpoint at ../BertModels/medical-roberta-wwm were not used when initializing BertModel: ['cls.predictions.decoder.bias', 'cls.predictions.transform.dense.weight', 'cls.predictions.decoder.weight', 'cls.predictions.bias', 'cls.predictions.transform.LayerNorm.bias', 'cls.predictions.transform.dense.bias', 'cls.predictions.transform.LayerNorm.weight']\n",
      "- This IS expected if you are initializing BertModel from the checkpoint of a model trained on another task or with another architecture (e.g. initializing a BertForSequenceClassification model from a BertForPreTraining model).\n",
      "- This IS NOT expected if you are initializing BertModel from the checkpoint of a model that you expect to be exactly identical (initializing a BertForSequenceClassification model from a BertForSequenceClassification model).\n",
      "Some weights of BertModel were not initialized from the model checkpoint at ../BertModels/medical-roberta-wwm and are newly initialized: ['bert.pooler.dense.weight', 'bert.pooler.dense.bias']\n",
      "You should probably TRAIN this model on a down-stream task to be able to use it for predictions and inference.\n",
      "DEBUG:root:Initializing Model BertTextClassfication\n",
      "INFO:root:TextClassifier Using Device: CUDA\n",
      "INFO:root:TextClassifier Loading Data...\n",
      "DEBUG:root:Using Text Pair? -> Yes\n",
      "DEBUG:root:Start Model Traning....\n",
      "DEBUG:root:Epoch: 0/100, Training Loss:0.589432, Acc:0.773242, elapsed: 148.001887\n",
      "DEBUG:root:Evalaton loss:0.500320, Acc:0.797256, elapsed: 25.401999\n",
      "DEBUG:root:Saving Model: output/models/放射痛（右肩、肩胛和背部）_20220906105440_7972.pth\n",
      "DEBUG:root:Epoch: 1/100, Training Loss:0.582438, Acc:0.767582, elapsed: 144.956118\n",
      "DEBUG:root:Evalaton loss:0.687514, Acc:0.760671, elapsed: 25.011361\n",
      "DEBUG:root:Epoch: 2/100, Training Loss:0.644240, Acc:0.748314, elapsed: 145.553226\n",
      "DEBUG:root:Evalaton loss:0.508292, Acc:0.772866, elapsed: 25.237515\n",
      "DEBUG:root:Epoch: 3/100, Training Loss:0.817938, Acc:0.708574, elapsed: 145.887209\n",
      "DEBUG:root:Evalaton loss:0.783992, Acc:0.728659, elapsed: 25.059515\n",
      "DEBUG:root:Epoch: 4/100, Training Loss:0.808024, Acc:0.712669, elapsed: 145.094105\n",
      "DEBUG:root:Evalaton loss:0.772843, Acc:0.728659, elapsed: 21.876035\n",
      "DEBUG:root:Epoch: 5/100, Training Loss:0.804201, Acc:0.713150, elapsed: 146.204139\n",
      "DEBUG:root:Evalaton loss:0.771268, Acc:0.728659, elapsed: 24.294515\n",
      "DEBUG:root:No Improve more than 5 epochs, Exit Training! Best accuracy: 0.797256\n",
      "DEBUG:root:Loading data lines...\n",
      "DEBUG:root:656 Lines Loaded!\n",
      "INFO:root:Initializing Class TextClassifier...\n"
     ]
    },
    {
     "name": "stdout",
     "output_type": "stream",
     "text": [
      "output/models/放射痛（右肩、肩胛和背部）_20220906105440_7972.pth\n"
     ]
    },
    {
     "name": "stderr",
     "output_type": "stream",
     "text": [
      "DEBUG:root:Loading Model output/models/放射痛（右肩、肩胛和背部）_20220906105440_7972.pth\n",
      "INFO:root:TextClassifier Using Device: CUDA\n",
      "INFO:root:TextClassifier Loading Data...\n",
      "DEBUG:root:Using Text Pair? -> Yes\n",
      "DEBUG:root:Data For Predicting\n",
      "DEBUG:root:Loading data lines...\n",
      "DEBUG:root:158 Lines Loaded!\n",
      "INFO:root:Initializing Class TextClassifier...\n"
     ]
    },
    {
     "name": "stdout",
     "output_type": "stream",
     "text": [
      "best accuracy: 0.7972560975609756\n",
      "{0: '0', 1: '1', 2: '2'}\n"
     ]
    },
    {
     "name": "stderr",
     "output_type": "stream",
     "text": [
      "DEBUG:root:Loading Model output/models/放射痛（右肩、肩胛和背部）_20220906105440_7972.pth\n",
      "INFO:root:TextClassifier Using Device: CUDA\n",
      "INFO:root:TextClassifier Loading Data...\n",
      "DEBUG:root:Using Text Pair? -> Yes\n",
      "DEBUG:root:Data For Predicting\n",
      "DEBUG:root:Loading data lines...\n",
      "DEBUG:root:2766 Lines Loaded!\n",
      "DEBUG:root:Loading data lines...\n",
      "DEBUG:root:656 Lines Loaded!\n",
      "INFO:root:Initializing Class TextClassifier...\n"
     ]
    },
    {
     "name": "stdout",
     "output_type": "stream",
     "text": [
      "best accuracy: 0.8166666666666667\n",
      "{0: '0', 1: '1', 2: '2'}\n"
     ]
    },
    {
     "name": "stderr",
     "output_type": "stream",
     "text": [
      "Some weights of the model checkpoint at ../BertModels/medical-roberta-wwm were not used when initializing BertModel: ['cls.predictions.decoder.bias', 'cls.predictions.transform.dense.weight', 'cls.predictions.decoder.weight', 'cls.predictions.bias', 'cls.predictions.transform.LayerNorm.bias', 'cls.predictions.transform.dense.bias', 'cls.predictions.transform.LayerNorm.weight']\n",
      "- This IS expected if you are initializing BertModel from the checkpoint of a model trained on another task or with another architecture (e.g. initializing a BertForSequenceClassification model from a BertForPreTraining model).\n",
      "- This IS NOT expected if you are initializing BertModel from the checkpoint of a model that you expect to be exactly identical (initializing a BertForSequenceClassification model from a BertForSequenceClassification model).\n",
      "Some weights of BertModel were not initialized from the model checkpoint at ../BertModels/medical-roberta-wwm and are newly initialized: ['bert.pooler.dense.weight', 'bert.pooler.dense.bias']\n",
      "You should probably TRAIN this model on a down-stream task to be able to use it for predictions and inference.\n",
      "DEBUG:root:Initializing Model BertTextClassfication\n",
      "INFO:root:TextClassifier Using Device: CUDA\n",
      "INFO:root:TextClassifier Loading Data...\n",
      "DEBUG:root:Using Text Pair? -> Yes\n",
      "DEBUG:root:Start Model Traning....\n",
      "DEBUG:root:Epoch: 0/100, Training Loss:0.446044, Acc:0.834417, elapsed: 144.718885\n",
      "DEBUG:root:Evalaton loss:0.360125, Acc:0.823171, elapsed: 25.219033\n",
      "DEBUG:root:Saving Model: output/models/上腹痛_20220906111240_8231.pth\n",
      "DEBUG:root:Epoch: 1/100, Training Loss:0.439988, Acc:0.839234, elapsed: 145.339029\n",
      "DEBUG:root:Evalaton loss:0.373098, Acc:0.849085, elapsed: 25.203517\n",
      "DEBUG:root:Saving Model: output/models/上腹痛_20220906111532_8490.pth\n",
      "DEBUG:root:Epoch: 2/100, Training Loss:0.438944, Acc:0.838512, elapsed: 145.532283\n",
      "DEBUG:root:Evalaton loss:0.480051, Acc:0.786585, elapsed: 25.180518\n",
      "DEBUG:root:Epoch: 3/100, Training Loss:0.405102, Acc:0.850193, elapsed: 145.269124\n",
      "DEBUG:root:Evalaton loss:0.374867, Acc:0.855183, elapsed: 25.099999\n",
      "DEBUG:root:Saving Model: output/models/上腹痛_20220906112114_8551.pth\n",
      "DEBUG:root:Epoch: 4/100, Training Loss:0.361733, Acc:0.870785, elapsed: 145.957499\n",
      "DEBUG:root:Evalaton loss:0.380190, Acc:0.870427, elapsed: 24.349998\n",
      "DEBUG:root:Saving Model: output/models/上腹痛_20220906112406_8704.pth\n",
      "DEBUG:root:Epoch: 5/100, Training Loss:0.368844, Acc:0.864403, elapsed: 145.916617\n",
      "DEBUG:root:Evalaton loss:0.375556, Acc:0.856707, elapsed: 25.632347\n",
      "DEBUG:root:Epoch: 6/100, Training Loss:0.338609, Acc:0.880660, elapsed: 145.150226\n",
      "DEBUG:root:Evalaton loss:0.335227, Acc:0.865854, elapsed: 25.377000\n",
      "DEBUG:root:Epoch: 7/100, Training Loss:0.315203, Acc:0.880780, elapsed: 143.794976\n",
      "DEBUG:root:Evalaton loss:0.325701, Acc:0.876524, elapsed: 16.680087\n",
      "DEBUG:root:Saving Model: output/models/上腹痛_20220906113229_8765.pth\n",
      "DEBUG:root:Epoch: 8/100, Training Loss:0.306296, Acc:0.883911, elapsed: 135.026463\n",
      "DEBUG:root:Evalaton loss:0.331698, Acc:0.876524, elapsed: 16.504458\n",
      "DEBUG:root:Epoch: 9/100, Training Loss:0.287744, Acc:0.894990, elapsed: 135.017403\n",
      "DEBUG:root:Evalaton loss:0.328519, Acc:0.871951, elapsed: 16.524653\n",
      "DEBUG:root:Epoch: 10/100, Training Loss:0.265019, Acc:0.911127, elapsed: 134.998008\n",
      "DEBUG:root:Evalaton loss:0.359772, Acc:0.865854, elapsed: 16.554177\n",
      "DEBUG:root:Epoch: 11/100, Training Loss:0.238548, Acc:0.915101, elapsed: 135.023324\n",
      "DEBUG:root:Evalaton loss:0.355948, Acc:0.878049, elapsed: 16.532231\n",
      "DEBUG:root:Saving Model: output/models/上腹痛_20220906114236_8780.pth\n",
      "DEBUG:root:Epoch: 12/100, Training Loss:0.216573, Acc:0.924494, elapsed: 135.471950\n",
      "DEBUG:root:Evalaton loss:0.364322, Acc:0.871951, elapsed: 17.040451\n",
      "DEBUG:root:Epoch: 13/100, Training Loss:0.364612, Acc:0.842847, elapsed: 137.213844\n",
      "DEBUG:root:Evalaton loss:1.037425, Acc:0.487805, elapsed: 16.826950\n",
      "DEBUG:root:Epoch: 14/100, Training Loss:0.848721, Acc:0.607539, elapsed: 136.175657\n",
      "DEBUG:root:Evalaton loss:0.871199, Acc:0.591463, elapsed: 16.743961\n",
      "DEBUG:root:Epoch: 15/100, Training Loss:0.323329, Acc:0.877890, elapsed: 135.572935\n",
      "DEBUG:root:Evalaton loss:0.416456, Acc:0.855183, elapsed: 16.978184\n",
      "DEBUG:root:Epoch: 16/100, Training Loss:0.200003, Acc:0.929070, elapsed: 136.082770\n",
      "DEBUG:root:Evalaton loss:0.386394, Acc:0.875000, elapsed: 17.024011\n",
      "DEBUG:root:No Improve more than 5 epochs, Exit Training! Best accuracy: 0.878049\n",
      "DEBUG:root:Loading data lines...\n",
      "DEBUG:root:656 Lines Loaded!\n",
      "INFO:root:Initializing Class TextClassifier...\n"
     ]
    },
    {
     "name": "stdout",
     "output_type": "stream",
     "text": [
      "output/models/上腹痛_20220906114236_8780.pth\n"
     ]
    },
    {
     "name": "stderr",
     "output_type": "stream",
     "text": [
      "DEBUG:root:Loading Model output/models/上腹痛_20220906114236_8780.pth\n",
      "INFO:root:TextClassifier Using Device: CUDA\n",
      "INFO:root:TextClassifier Loading Data...\n",
      "DEBUG:root:Using Text Pair? -> Yes\n",
      "DEBUG:root:Data For Predicting\n",
      "DEBUG:root:Loading data lines...\n",
      "DEBUG:root:158 Lines Loaded!\n",
      "INFO:root:Initializing Class TextClassifier...\n"
     ]
    },
    {
     "name": "stdout",
     "output_type": "stream",
     "text": [
      "best accuracy: 0.8780487804878049\n",
      "{0: '0', 1: '1', 2: '2'}\n"
     ]
    },
    {
     "name": "stderr",
     "output_type": "stream",
     "text": [
      "DEBUG:root:Loading Model output/models/上腹痛_20220906114236_8780.pth\n",
      "INFO:root:TextClassifier Using Device: CUDA\n",
      "INFO:root:TextClassifier Loading Data...\n",
      "DEBUG:root:Using Text Pair? -> Yes\n",
      "DEBUG:root:Data For Predicting\n",
      "DEBUG:root:Loading data lines...\n",
      "DEBUG:root:2766 Lines Loaded!\n",
      "DEBUG:root:Loading data lines...\n",
      "DEBUG:root:656 Lines Loaded!\n",
      "INFO:root:Initializing Class TextClassifier...\n"
     ]
    },
    {
     "name": "stdout",
     "output_type": "stream",
     "text": [
      "best accuracy: 0.475\n",
      "{0: '0', 1: '1', 2: '2'}\n"
     ]
    },
    {
     "name": "stderr",
     "output_type": "stream",
     "text": [
      "Some weights of the model checkpoint at ../BertModels/medical-roberta-wwm were not used when initializing BertModel: ['cls.predictions.decoder.bias', 'cls.predictions.transform.dense.weight', 'cls.predictions.decoder.weight', 'cls.predictions.bias', 'cls.predictions.transform.LayerNorm.bias', 'cls.predictions.transform.dense.bias', 'cls.predictions.transform.LayerNorm.weight']\n",
      "- This IS expected if you are initializing BertModel from the checkpoint of a model trained on another task or with another architecture (e.g. initializing a BertForSequenceClassification model from a BertForPreTraining model).\n",
      "- This IS NOT expected if you are initializing BertModel from the checkpoint of a model that you expect to be exactly identical (initializing a BertForSequenceClassification model from a BertForSequenceClassification model).\n",
      "Some weights of BertModel were not initialized from the model checkpoint at ../BertModels/medical-roberta-wwm and are newly initialized: ['bert.pooler.dense.weight', 'bert.pooler.dense.bias']\n",
      "You should probably TRAIN this model on a down-stream task to be able to use it for predictions and inference.\n",
      "DEBUG:root:Initializing Model BertTextClassfication\n",
      "INFO:root:TextClassifier Using Device: CUDA\n",
      "INFO:root:TextClassifier Loading Data...\n",
      "DEBUG:root:Using Text Pair? -> Yes\n",
      "DEBUG:root:Start Model Traning....\n",
      "DEBUG:root:Epoch: 0/100, Training Loss:0.792173, Acc:0.657635, elapsed: 135.517520\n",
      "DEBUG:root:Evalaton loss:0.967426, Acc:0.559451, elapsed: 16.696559\n",
      "DEBUG:root:Saving Model: output/models/厌食_20220906115828_5594.pth\n",
      "DEBUG:root:Epoch: 1/100, Training Loss:0.986367, Acc:0.521195, elapsed: 135.708521\n",
      "DEBUG:root:Evalaton loss:0.933727, Acc:0.559451, elapsed: 16.788922\n",
      "DEBUG:root:Epoch: 2/100, Training Loss:0.977210, Acc:0.517823, elapsed: 135.735704\n",
      "DEBUG:root:Evalaton loss:0.961965, Acc:0.559451, elapsed: 16.596265\n",
      "DEBUG:root:Epoch: 3/100, Training Loss:0.975382, Acc:0.539619, elapsed: 135.231320\n",
      "DEBUG:root:Evalaton loss:0.934554, Acc:0.559451, elapsed: 16.487109\n",
      "DEBUG:root:Epoch: 4/100, Training Loss:0.967578, Acc:0.543714, elapsed: 135.048094\n",
      "DEBUG:root:Evalaton loss:0.934826, Acc:0.559451, elapsed: 16.504034\n",
      "DEBUG:root:Epoch: 5/100, Training Loss:0.961809, Acc:0.537813, elapsed: 135.237888\n",
      "DEBUG:root:Evalaton loss:0.944314, Acc:0.559451, elapsed: 16.522898\n",
      "DEBUG:root:No Improve more than 5 epochs, Exit Training! Best accuracy: 0.559451\n",
      "DEBUG:root:Loading data lines...\n",
      "DEBUG:root:656 Lines Loaded!\n",
      "INFO:root:Initializing Class TextClassifier...\n"
     ]
    },
    {
     "name": "stdout",
     "output_type": "stream",
     "text": [
      "output/models/厌食_20220906115828_5594.pth\n"
     ]
    },
    {
     "name": "stderr",
     "output_type": "stream",
     "text": [
      "DEBUG:root:Loading Model output/models/厌食_20220906115828_5594.pth\n",
      "INFO:root:TextClassifier Using Device: CUDA\n",
      "INFO:root:TextClassifier Loading Data...\n",
      "DEBUG:root:Using Text Pair? -> Yes\n",
      "DEBUG:root:Data For Predicting\n",
      "DEBUG:root:Loading data lines...\n",
      "DEBUG:root:158 Lines Loaded!\n",
      "INFO:root:Initializing Class TextClassifier...\n"
     ]
    },
    {
     "name": "stdout",
     "output_type": "stream",
     "text": [
      "best accuracy: 0.5594512195121951\n",
      "{0: '0', 1: '1', 2: '2'}\n"
     ]
    },
    {
     "name": "stderr",
     "output_type": "stream",
     "text": [
      "DEBUG:root:Loading Model output/models/厌食_20220906115828_5594.pth\n",
      "INFO:root:TextClassifier Using Device: CUDA\n",
      "INFO:root:TextClassifier Loading Data...\n",
      "DEBUG:root:Using Text Pair? -> Yes\n",
      "DEBUG:root:Data For Predicting\n",
      "DEBUG:root:Loading data lines...\n",
      "DEBUG:root:2766 Lines Loaded!\n",
      "DEBUG:root:Loading data lines...\n",
      "DEBUG:root:656 Lines Loaded!\n",
      "INFO:root:Initializing Class TextClassifier...\n"
     ]
    },
    {
     "name": "stdout",
     "output_type": "stream",
     "text": [
      "best accuracy: 0.25625\n",
      "{0: '0', 1: '1', 2: '2'}\n"
     ]
    },
    {
     "name": "stderr",
     "output_type": "stream",
     "text": [
      "Some weights of the model checkpoint at ../BertModels/medical-roberta-wwm were not used when initializing BertModel: ['cls.predictions.decoder.bias', 'cls.predictions.transform.dense.weight', 'cls.predictions.decoder.weight', 'cls.predictions.bias', 'cls.predictions.transform.LayerNorm.bias', 'cls.predictions.transform.dense.bias', 'cls.predictions.transform.LayerNorm.weight']\n",
      "- This IS expected if you are initializing BertModel from the checkpoint of a model trained on another task or with another architecture (e.g. initializing a BertForSequenceClassification model from a BertForPreTraining model).\n",
      "- This IS NOT expected if you are initializing BertModel from the checkpoint of a model that you expect to be exactly identical (initializing a BertForSequenceClassification model from a BertForSequenceClassification model).\n",
      "Some weights of BertModel were not initialized from the model checkpoint at ../BertModels/medical-roberta-wwm and are newly initialized: ['bert.pooler.dense.weight', 'bert.pooler.dense.bias']\n",
      "You should probably TRAIN this model on a down-stream task to be able to use it for predictions and inference.\n",
      "DEBUG:root:Initializing Model BertTextClassfication\n",
      "INFO:root:TextClassifier Using Device: CUDA\n",
      "INFO:root:TextClassifier Loading Data...\n",
      "DEBUG:root:Using Text Pair? -> Yes\n",
      "DEBUG:root:Start Model Traning....\n",
      "DEBUG:root:Epoch: 0/100, Training Loss:0.563122, Acc:0.763969, elapsed: 135.110480\n",
      "DEBUG:root:Evalaton loss:0.949593, Acc:0.507622, elapsed: 16.601569\n",
      "DEBUG:root:Saving Model: output/models/腹泻_20220906121412_5076.pth\n",
      "DEBUG:root:Epoch: 1/100, Training Loss:0.886843, Acc:0.487115, elapsed: 135.202650\n",
      "DEBUG:root:Evalaton loss:0.894703, Acc:0.429878, elapsed: 16.542660\n",
      "DEBUG:root:Epoch: 2/100, Training Loss:0.875764, Acc:0.496628, elapsed: 135.222098\n",
      "DEBUG:root:Evalaton loss:0.901331, Acc:0.507622, elapsed: 16.519255\n",
      "DEBUG:root:Epoch: 3/100, Training Loss:0.869680, Acc:0.503733, elapsed: 135.208057\n",
      "DEBUG:root:Evalaton loss:0.881298, Acc:0.507622, elapsed: 16.542305\n",
      "DEBUG:root:Epoch: 4/100, Training Loss:0.862327, Acc:0.495424, elapsed: 135.236966\n",
      "DEBUG:root:Evalaton loss:0.891326, Acc:0.507622, elapsed: 16.513972\n",
      "DEBUG:root:Epoch: 5/100, Training Loss:0.860906, Acc:0.502168, elapsed: 135.259276\n",
      "DEBUG:root:Evalaton loss:0.883181, Acc:0.507622, elapsed: 16.714707\n",
      "DEBUG:root:No Improve more than 5 epochs, Exit Training! Best accuracy: 0.507622\n",
      "DEBUG:root:Loading data lines...\n",
      "DEBUG:root:656 Lines Loaded!\n",
      "INFO:root:Initializing Class TextClassifier...\n"
     ]
    },
    {
     "name": "stdout",
     "output_type": "stream",
     "text": [
      "output/models/腹泻_20220906121412_5076.pth\n"
     ]
    },
    {
     "name": "stderr",
     "output_type": "stream",
     "text": [
      "DEBUG:root:Loading Model output/models/腹泻_20220906121412_5076.pth\n",
      "INFO:root:TextClassifier Using Device: CUDA\n",
      "INFO:root:TextClassifier Loading Data...\n",
      "DEBUG:root:Using Text Pair? -> Yes\n",
      "DEBUG:root:Data For Predicting\n",
      "DEBUG:root:Loading data lines...\n",
      "DEBUG:root:158 Lines Loaded!\n",
      "INFO:root:Initializing Class TextClassifier...\n"
     ]
    },
    {
     "name": "stdout",
     "output_type": "stream",
     "text": [
      "best accuracy: 0.5076219512195121\n",
      "{0: '0', 1: '1', 2: '2'}\n"
     ]
    },
    {
     "name": "stderr",
     "output_type": "stream",
     "text": [
      "DEBUG:root:Loading Model output/models/腹泻_20220906121412_5076.pth\n",
      "INFO:root:TextClassifier Using Device: CUDA\n",
      "INFO:root:TextClassifier Loading Data...\n",
      "DEBUG:root:Using Text Pair? -> Yes\n",
      "DEBUG:root:Data For Predicting\n",
      "DEBUG:root:Loading data lines...\n",
      "DEBUG:root:2766 Lines Loaded!\n",
      "DEBUG:root:Loading data lines...\n",
      "DEBUG:root:656 Lines Loaded!\n",
      "INFO:root:Initializing Class TextClassifier...\n"
     ]
    },
    {
     "name": "stdout",
     "output_type": "stream",
     "text": [
      "best accuracy: 0.7041666666666667\n",
      "{0: '0', 1: '1', 2: '2'}\n"
     ]
    },
    {
     "name": "stderr",
     "output_type": "stream",
     "text": [
      "Some weights of the model checkpoint at ../BertModels/medical-roberta-wwm were not used when initializing BertModel: ['cls.predictions.decoder.bias', 'cls.predictions.transform.dense.weight', 'cls.predictions.decoder.weight', 'cls.predictions.bias', 'cls.predictions.transform.LayerNorm.bias', 'cls.predictions.transform.dense.bias', 'cls.predictions.transform.LayerNorm.weight']\n",
      "- This IS expected if you are initializing BertModel from the checkpoint of a model trained on another task or with another architecture (e.g. initializing a BertForSequenceClassification model from a BertForPreTraining model).\n",
      "- This IS NOT expected if you are initializing BertModel from the checkpoint of a model that you expect to be exactly identical (initializing a BertForSequenceClassification model from a BertForSequenceClassification model).\n",
      "Some weights of BertModel were not initialized from the model checkpoint at ../BertModels/medical-roberta-wwm and are newly initialized: ['bert.pooler.dense.weight', 'bert.pooler.dense.bias']\n",
      "You should probably TRAIN this model on a down-stream task to be able to use it for predictions and inference.\n",
      "DEBUG:root:Initializing Model BertTextClassfication\n",
      "INFO:root:TextClassifier Using Device: CUDA\n",
      "INFO:root:TextClassifier Loading Data...\n",
      "DEBUG:root:Using Text Pair? -> Yes\n",
      "DEBUG:root:Start Model Traning....\n",
      "DEBUG:root:Epoch: 0/100, Training Loss:0.006678, Acc:0.997471, elapsed: 135.266637\n",
      "DEBUG:root:Evalaton loss:0.000639, Acc:1.000000, elapsed: 16.604522\n",
      "DEBUG:root:Saving Model: output/models/盆腔疼痛_20220906122957_10000.pth\n",
      "DEBUG:root:Epoch: 1/100, Training Loss:0.000887, Acc:1.000000, elapsed: 135.309012\n",
      "DEBUG:root:Evalaton loss:0.000530, Acc:1.000000, elapsed: 16.571876\n",
      "DEBUG:root:Epoch: 2/100, Training Loss:0.000866, Acc:1.000000, elapsed: 135.242167\n",
      "DEBUG:root:Evalaton loss:0.000567, Acc:1.000000, elapsed: 16.512996\n",
      "DEBUG:root:Epoch: 3/100, Training Loss:0.000797, Acc:1.000000, elapsed: 135.236492\n",
      "DEBUG:root:Evalaton loss:0.000525, Acc:1.000000, elapsed: 16.506347\n",
      "DEBUG:root:Epoch: 4/100, Training Loss:0.000812, Acc:1.000000, elapsed: 135.240536\n",
      "DEBUG:root:Evalaton loss:0.000362, Acc:1.000000, elapsed: 16.509670\n",
      "DEBUG:root:Epoch: 5/100, Training Loss:0.000714, Acc:1.000000, elapsed: 135.233754\n",
      "DEBUG:root:Evalaton loss:0.000197, Acc:1.000000, elapsed: 16.521878\n",
      "DEBUG:root:No Improve more than 5 epochs, Exit Training! Best accuracy: 1.000000\n",
      "DEBUG:root:Loading data lines...\n",
      "DEBUG:root:656 Lines Loaded!\n",
      "INFO:root:Initializing Class TextClassifier...\n"
     ]
    },
    {
     "name": "stdout",
     "output_type": "stream",
     "text": [
      "output/models/盆腔疼痛_20220906122957_10000.pth\n"
     ]
    },
    {
     "name": "stderr",
     "output_type": "stream",
     "text": [
      "DEBUG:root:Loading Model output/models/盆腔疼痛_20220906122957_10000.pth\n",
      "INFO:root:TextClassifier Using Device: CUDA\n",
      "INFO:root:TextClassifier Loading Data...\n",
      "DEBUG:root:Using Text Pair? -> Yes\n",
      "DEBUG:root:Data For Predicting\n",
      "DEBUG:root:Loading data lines...\n",
      "DEBUG:root:158 Lines Loaded!\n",
      "INFO:root:Initializing Class TextClassifier...\n"
     ]
    },
    {
     "name": "stdout",
     "output_type": "stream",
     "text": [
      "best accuracy: 1.0\n",
      "{0: '0', 1: '1', 2: '2'}\n"
     ]
    },
    {
     "name": "stderr",
     "output_type": "stream",
     "text": [
      "DEBUG:root:Loading Model output/models/盆腔疼痛_20220906122957_10000.pth\n",
      "INFO:root:TextClassifier Using Device: CUDA\n",
      "INFO:root:TextClassifier Loading Data...\n",
      "DEBUG:root:Using Text Pair? -> Yes\n",
      "DEBUG:root:Data For Predicting\n",
      "DEBUG:root:Loading data lines...\n",
      "DEBUG:root:2766 Lines Loaded!\n",
      "DEBUG:root:Loading data lines...\n",
      "DEBUG:root:656 Lines Loaded!\n",
      "INFO:root:Initializing Class TextClassifier...\n"
     ]
    },
    {
     "name": "stdout",
     "output_type": "stream",
     "text": [
      "best accuracy: 1.0\n",
      "{0: '0', 1: '1', 2: '2'}\n"
     ]
    },
    {
     "name": "stderr",
     "output_type": "stream",
     "text": [
      "Some weights of the model checkpoint at ../BertModels/medical-roberta-wwm were not used when initializing BertModel: ['cls.predictions.decoder.bias', 'cls.predictions.transform.dense.weight', 'cls.predictions.decoder.weight', 'cls.predictions.bias', 'cls.predictions.transform.LayerNorm.bias', 'cls.predictions.transform.dense.bias', 'cls.predictions.transform.LayerNorm.weight']\n",
      "- This IS expected if you are initializing BertModel from the checkpoint of a model trained on another task or with another architecture (e.g. initializing a BertForSequenceClassification model from a BertForPreTraining model).\n",
      "- This IS NOT expected if you are initializing BertModel from the checkpoint of a model that you expect to be exactly identical (initializing a BertForSequenceClassification model from a BertForSequenceClassification model).\n",
      "Some weights of BertModel were not initialized from the model checkpoint at ../BertModels/medical-roberta-wwm and are newly initialized: ['bert.pooler.dense.weight', 'bert.pooler.dense.bias']\n",
      "You should probably TRAIN this model on a down-stream task to be able to use it for predictions and inference.\n",
      "DEBUG:root:Initializing Model BertTextClassfication\n",
      "INFO:root:TextClassifier Using Device: CUDA\n",
      "INFO:root:TextClassifier Loading Data...\n",
      "DEBUG:root:Using Text Pair? -> Yes\n",
      "DEBUG:root:Start Model Traning....\n",
      "DEBUG:root:Epoch: 0/100, Training Loss:0.046743, Acc:0.992052, elapsed: 135.077488\n",
      "DEBUG:root:Evalaton loss:0.042293, Acc:0.993902, elapsed: 16.604261\n",
      "DEBUG:root:Saving Model: output/models/迅速波及全腹_20220906124541_9939.pth\n",
      "DEBUG:root:Epoch: 1/100, Training Loss:0.037950, Acc:0.994942, elapsed: 135.168012\n",
      "DEBUG:root:Evalaton loss:0.041458, Acc:0.993902, elapsed: 16.720469\n",
      "DEBUG:root:Epoch: 2/100, Training Loss:0.036812, Acc:0.994942, elapsed: 135.234314\n",
      "DEBUG:root:Evalaton loss:0.040926, Acc:0.993902, elapsed: 16.520106\n",
      "DEBUG:root:Epoch: 3/100, Training Loss:0.037838, Acc:0.994942, elapsed: 135.235157\n",
      "DEBUG:root:Evalaton loss:0.042002, Acc:0.993902, elapsed: 16.709853\n",
      "DEBUG:root:Epoch: 4/100, Training Loss:0.035764, Acc:0.994942, elapsed: 135.272957\n",
      "DEBUG:root:Evalaton loss:0.040997, Acc:0.993902, elapsed: 16.483437\n",
      "DEBUG:root:Epoch: 5/100, Training Loss:0.037110, Acc:0.994942, elapsed: 135.247377\n",
      "DEBUG:root:Evalaton loss:0.041823, Acc:0.993902, elapsed: 16.502380\n",
      "DEBUG:root:No Improve more than 5 epochs, Exit Training! Best accuracy: 0.993902\n",
      "DEBUG:root:Loading data lines...\n",
      "DEBUG:root:656 Lines Loaded!\n",
      "INFO:root:Initializing Class TextClassifier...\n"
     ]
    },
    {
     "name": "stdout",
     "output_type": "stream",
     "text": [
      "output/models/迅速波及全腹_20220906124541_9939.pth\n"
     ]
    },
    {
     "name": "stderr",
     "output_type": "stream",
     "text": [
      "DEBUG:root:Loading Model output/models/迅速波及全腹_20220906124541_9939.pth\n",
      "INFO:root:TextClassifier Using Device: CUDA\n",
      "INFO:root:TextClassifier Loading Data...\n",
      "DEBUG:root:Using Text Pair? -> Yes\n",
      "DEBUG:root:Data For Predicting\n",
      "DEBUG:root:Loading data lines...\n",
      "DEBUG:root:158 Lines Loaded!\n",
      "INFO:root:Initializing Class TextClassifier...\n"
     ]
    },
    {
     "name": "stdout",
     "output_type": "stream",
     "text": [
      "best accuracy: 0.9939024390243902\n",
      "{0: '0', 1: '1', 2: '2'}\n"
     ]
    },
    {
     "name": "stderr",
     "output_type": "stream",
     "text": [
      "DEBUG:root:Loading Model output/models/迅速波及全腹_20220906124541_9939.pth\n",
      "INFO:root:TextClassifier Using Device: CUDA\n",
      "INFO:root:TextClassifier Loading Data...\n",
      "DEBUG:root:Using Text Pair? -> Yes\n",
      "DEBUG:root:Data For Predicting\n",
      "DEBUG:root:Loading data lines...\n",
      "DEBUG:root:2766 Lines Loaded!\n",
      "DEBUG:root:Loading data lines...\n",
      "DEBUG:root:656 Lines Loaded!\n",
      "INFO:root:Initializing Class TextClassifier...\n"
     ]
    },
    {
     "name": "stdout",
     "output_type": "stream",
     "text": [
      "best accuracy: 0.99375\n",
      "{0: '0', 1: '1', 2: '2'}\n"
     ]
    },
    {
     "name": "stderr",
     "output_type": "stream",
     "text": [
      "Some weights of the model checkpoint at ../BertModels/medical-roberta-wwm were not used when initializing BertModel: ['cls.predictions.decoder.bias', 'cls.predictions.transform.dense.weight', 'cls.predictions.decoder.weight', 'cls.predictions.bias', 'cls.predictions.transform.LayerNorm.bias', 'cls.predictions.transform.dense.bias', 'cls.predictions.transform.LayerNorm.weight']\n",
      "- This IS expected if you are initializing BertModel from the checkpoint of a model trained on another task or with another architecture (e.g. initializing a BertForSequenceClassification model from a BertForPreTraining model).\n",
      "- This IS NOT expected if you are initializing BertModel from the checkpoint of a model that you expect to be exactly identical (initializing a BertForSequenceClassification model from a BertForSequenceClassification model).\n",
      "Some weights of BertModel were not initialized from the model checkpoint at ../BertModels/medical-roberta-wwm and are newly initialized: ['bert.pooler.dense.weight', 'bert.pooler.dense.bias']\n",
      "You should probably TRAIN this model on a down-stream task to be able to use it for predictions and inference.\n",
      "DEBUG:root:Initializing Model BertTextClassfication\n",
      "INFO:root:TextClassifier Using Device: CUDA\n",
      "INFO:root:TextClassifier Loading Data...\n",
      "DEBUG:root:Using Text Pair? -> Yes\n",
      "DEBUG:root:Start Model Traning....\n",
      "DEBUG:root:Epoch: 0/100, Training Loss:0.544828, Acc:0.788054, elapsed: 135.089103\n",
      "DEBUG:root:Evalaton loss:0.635604, Acc:0.736280, elapsed: 16.417150\n",
      "DEBUG:root:Saving Model: output/models/黑便_20220906130125_7362.pth\n",
      "DEBUG:root:Epoch: 1/100, Training Loss:0.594772, Acc:0.773724, elapsed: 135.198988\n",
      "DEBUG:root:Evalaton loss:0.634322, Acc:0.736280, elapsed: 16.723768\n",
      "DEBUG:root:Epoch: 2/100, Training Loss:0.581077, Acc:0.777697, elapsed: 135.208574\n",
      "DEBUG:root:Evalaton loss:0.645001, Acc:0.736280, elapsed: 16.524862\n",
      "DEBUG:root:Epoch: 3/100, Training Loss:0.581069, Acc:0.777216, elapsed: 135.035856\n",
      "DEBUG:root:Evalaton loss:0.634247, Acc:0.736280, elapsed: 16.512852\n",
      "DEBUG:root:Epoch: 4/100, Training Loss:0.579111, Acc:0.777457, elapsed: 135.228014\n",
      "DEBUG:root:Evalaton loss:0.628586, Acc:0.736280, elapsed: 16.511582\n",
      "DEBUG:root:Epoch: 5/100, Training Loss:0.570461, Acc:0.777336, elapsed: 135.286182\n",
      "DEBUG:root:Evalaton loss:0.637772, Acc:0.736280, elapsed: 16.685562\n",
      "DEBUG:root:No Improve more than 5 epochs, Exit Training! Best accuracy: 0.736280\n",
      "DEBUG:root:Loading data lines...\n",
      "DEBUG:root:656 Lines Loaded!\n",
      "INFO:root:Initializing Class TextClassifier...\n"
     ]
    },
    {
     "name": "stdout",
     "output_type": "stream",
     "text": [
      "output/models/黑便_20220906130125_7362.pth\n"
     ]
    },
    {
     "name": "stderr",
     "output_type": "stream",
     "text": [
      "DEBUG:root:Loading Model output/models/黑便_20220906130125_7362.pth\n",
      "INFO:root:TextClassifier Using Device: CUDA\n",
      "INFO:root:TextClassifier Loading Data...\n",
      "DEBUG:root:Using Text Pair? -> Yes\n",
      "DEBUG:root:Data For Predicting\n",
      "DEBUG:root:Loading data lines...\n",
      "DEBUG:root:158 Lines Loaded!\n",
      "INFO:root:Initializing Class TextClassifier...\n"
     ]
    },
    {
     "name": "stdout",
     "output_type": "stream",
     "text": [
      "best accuracy: 0.7362804878048781\n",
      "{0: '0', 1: '1', 2: '2'}\n"
     ]
    },
    {
     "name": "stderr",
     "output_type": "stream",
     "text": [
      "DEBUG:root:Loading Model output/models/黑便_20220906130125_7362.pth\n",
      "INFO:root:TextClassifier Using Device: CUDA\n",
      "INFO:root:TextClassifier Loading Data...\n",
      "DEBUG:root:Using Text Pair? -> Yes\n",
      "DEBUG:root:Data For Predicting\n",
      "DEBUG:root:Loading data lines...\n",
      "DEBUG:root:2766 Lines Loaded!\n",
      "DEBUG:root:Loading data lines...\n",
      "DEBUG:root:656 Lines Loaded!\n",
      "INFO:root:Initializing Class TextClassifier...\n"
     ]
    },
    {
     "name": "stdout",
     "output_type": "stream",
     "text": [
      "best accuracy: 0.84375\n",
      "{0: '0', 1: '1', 2: '2'}\n"
     ]
    },
    {
     "name": "stderr",
     "output_type": "stream",
     "text": [
      "Some weights of the model checkpoint at ../BertModels/medical-roberta-wwm were not used when initializing BertModel: ['cls.predictions.decoder.bias', 'cls.predictions.transform.dense.weight', 'cls.predictions.decoder.weight', 'cls.predictions.bias', 'cls.predictions.transform.LayerNorm.bias', 'cls.predictions.transform.dense.bias', 'cls.predictions.transform.LayerNorm.weight']\n",
      "- This IS expected if you are initializing BertModel from the checkpoint of a model trained on another task or with another architecture (e.g. initializing a BertForSequenceClassification model from a BertForPreTraining model).\n",
      "- This IS NOT expected if you are initializing BertModel from the checkpoint of a model that you expect to be exactly identical (initializing a BertForSequenceClassification model from a BertForSequenceClassification model).\n",
      "Some weights of BertModel were not initialized from the model checkpoint at ../BertModels/medical-roberta-wwm and are newly initialized: ['bert.pooler.dense.weight', 'bert.pooler.dense.bias']\n",
      "You should probably TRAIN this model on a down-stream task to be able to use it for predictions and inference.\n",
      "DEBUG:root:Initializing Model BertTextClassfication\n",
      "INFO:root:TextClassifier Using Device: CUDA\n",
      "INFO:root:TextClassifier Loading Data...\n",
      "DEBUG:root:Using Text Pair? -> Yes\n",
      "DEBUG:root:Start Model Traning....\n",
      "DEBUG:root:Epoch: 0/100, Training Loss:0.705956, Acc:0.654986, elapsed: 135.083638\n",
      "DEBUG:root:Evalaton loss:0.672866, Acc:0.640244, elapsed: 16.593038\n",
      "DEBUG:root:Saving Model: output/models/右下腹疼痛_20220906131709_6402.pth\n",
      "DEBUG:root:Epoch: 1/100, Training Loss:0.744817, Acc:0.597905, elapsed: 135.151439\n",
      "DEBUG:root:Evalaton loss:0.807328, Acc:0.486280, elapsed: 16.593292\n",
      "DEBUG:root:Epoch: 2/100, Training Loss:0.820044, Acc:0.487235, elapsed: 135.229004\n",
      "DEBUG:root:Evalaton loss:0.793761, Acc:0.486280, elapsed: 16.741215\n",
      "DEBUG:root:Epoch: 3/100, Training Loss:0.812975, Acc:0.490968, elapsed: 135.235883\n",
      "DEBUG:root:Evalaton loss:0.804928, Acc:0.486280, elapsed: 16.695104\n",
      "DEBUG:root:Epoch: 4/100, Training Loss:0.807052, Acc:0.495906, elapsed: 135.183099\n",
      "DEBUG:root:Evalaton loss:0.791147, Acc:0.489329, elapsed: 16.562073\n",
      "DEBUG:root:Epoch: 5/100, Training Loss:0.807250, Acc:0.486633, elapsed: 135.229801\n",
      "DEBUG:root:Evalaton loss:0.797590, Acc:0.489329, elapsed: 16.525186\n",
      "DEBUG:root:No Improve more than 5 epochs, Exit Training! Best accuracy: 0.640244\n",
      "DEBUG:root:Loading data lines...\n",
      "DEBUG:root:656 Lines Loaded!\n",
      "INFO:root:Initializing Class TextClassifier...\n"
     ]
    },
    {
     "name": "stdout",
     "output_type": "stream",
     "text": [
      "output/models/右下腹疼痛_20220906131709_6402.pth\n"
     ]
    },
    {
     "name": "stderr",
     "output_type": "stream",
     "text": [
      "DEBUG:root:Loading Model output/models/右下腹疼痛_20220906131709_6402.pth\n",
      "INFO:root:TextClassifier Using Device: CUDA\n",
      "INFO:root:TextClassifier Loading Data...\n",
      "DEBUG:root:Using Text Pair? -> Yes\n",
      "DEBUG:root:Data For Predicting\n",
      "DEBUG:root:Loading data lines...\n",
      "DEBUG:root:158 Lines Loaded!\n",
      "INFO:root:Initializing Class TextClassifier...\n"
     ]
    },
    {
     "name": "stdout",
     "output_type": "stream",
     "text": [
      "best accuracy: 0.6402439024390244\n",
      "{0: '0', 1: '1', 2: '2'}\n"
     ]
    },
    {
     "name": "stderr",
     "output_type": "stream",
     "text": [
      "DEBUG:root:Loading Model output/models/右下腹疼痛_20220906131709_6402.pth\n",
      "INFO:root:TextClassifier Using Device: CUDA\n",
      "INFO:root:TextClassifier Loading Data...\n",
      "DEBUG:root:Using Text Pair? -> Yes\n",
      "DEBUG:root:Data For Predicting\n",
      "DEBUG:root:Loading data lines...\n",
      "DEBUG:root:2766 Lines Loaded!\n",
      "DEBUG:root:Loading data lines...\n",
      "DEBUG:root:656 Lines Loaded!\n",
      "INFO:root:Initializing Class TextClassifier...\n"
     ]
    },
    {
     "name": "stdout",
     "output_type": "stream",
     "text": [
      "best accuracy: 0.17708333333333331\n",
      "{0: '0', 1: '1', 2: '2'}\n"
     ]
    },
    {
     "name": "stderr",
     "output_type": "stream",
     "text": [
      "Some weights of the model checkpoint at ../BertModels/medical-roberta-wwm were not used when initializing BertModel: ['cls.predictions.decoder.bias', 'cls.predictions.transform.dense.weight', 'cls.predictions.decoder.weight', 'cls.predictions.bias', 'cls.predictions.transform.LayerNorm.bias', 'cls.predictions.transform.dense.bias', 'cls.predictions.transform.LayerNorm.weight']\n",
      "- This IS expected if you are initializing BertModel from the checkpoint of a model trained on another task or with another architecture (e.g. initializing a BertForSequenceClassification model from a BertForPreTraining model).\n",
      "- This IS NOT expected if you are initializing BertModel from the checkpoint of a model that you expect to be exactly identical (initializing a BertForSequenceClassification model from a BertForSequenceClassification model).\n",
      "Some weights of BertModel were not initialized from the model checkpoint at ../BertModels/medical-roberta-wwm and are newly initialized: ['bert.pooler.dense.weight', 'bert.pooler.dense.bias']\n",
      "You should probably TRAIN this model on a down-stream task to be able to use it for predictions and inference.\n",
      "DEBUG:root:Initializing Model BertTextClassfication\n",
      "INFO:root:TextClassifier Using Device: CUDA\n",
      "INFO:root:TextClassifier Loading Data...\n",
      "DEBUG:root:Using Text Pair? -> Yes\n",
      "DEBUG:root:Start Model Traning....\n",
      "DEBUG:root:Epoch: 0/100, Training Loss:0.315167, Acc:0.888849, elapsed: 135.757727\n",
      "DEBUG:root:Evalaton loss:0.204709, Acc:0.935976, elapsed: 16.676047\n",
      "DEBUG:root:Saving Model: output/models/转移性右下腹疼痛_20220906133254_9359.pth\n",
      "DEBUG:root:Epoch: 1/100, Training Loss:0.285834, Acc:0.891257, elapsed: 134.949976\n",
      "DEBUG:root:Evalaton loss:0.499037, Acc:0.876524, elapsed: 16.796866\n",
      "DEBUG:root:Epoch: 2/100, Training Loss:0.416059, Acc:0.849591, elapsed: 135.317053\n",
      "DEBUG:root:Evalaton loss:0.571895, Acc:0.830793, elapsed: 16.594990\n",
      "DEBUG:root:Epoch: 3/100, Training Loss:0.599414, Acc:0.824663, elapsed: 135.600964\n",
      "DEBUG:root:Evalaton loss:0.574406, Acc:0.830793, elapsed: 16.678216\n",
      "DEBUG:root:Epoch: 4/100, Training Loss:0.594902, Acc:0.824663, elapsed: 135.519533\n",
      "DEBUG:root:Evalaton loss:0.577536, Acc:0.830793, elapsed: 16.537332\n",
      "DEBUG:root:Epoch: 5/100, Training Loss:0.590825, Acc:0.824663, elapsed: 135.413002\n",
      "DEBUG:root:Evalaton loss:0.572854, Acc:0.830793, elapsed: 16.766358\n",
      "DEBUG:root:No Improve more than 5 epochs, Exit Training! Best accuracy: 0.935976\n",
      "DEBUG:root:Loading data lines...\n",
      "DEBUG:root:656 Lines Loaded!\n",
      "INFO:root:Initializing Class TextClassifier...\n"
     ]
    },
    {
     "name": "stdout",
     "output_type": "stream",
     "text": [
      "output/models/转移性右下腹疼痛_20220906133254_9359.pth\n"
     ]
    },
    {
     "name": "stderr",
     "output_type": "stream",
     "text": [
      "DEBUG:root:Loading Model output/models/转移性右下腹疼痛_20220906133254_9359.pth\n",
      "INFO:root:TextClassifier Using Device: CUDA\n",
      "INFO:root:TextClassifier Loading Data...\n",
      "DEBUG:root:Using Text Pair? -> Yes\n",
      "DEBUG:root:Data For Predicting\n",
      "DEBUG:root:Loading data lines...\n",
      "DEBUG:root:158 Lines Loaded!\n",
      "INFO:root:Initializing Class TextClassifier...\n"
     ]
    },
    {
     "name": "stdout",
     "output_type": "stream",
     "text": [
      "best accuracy: 0.9359756097560976\n",
      "{0: '0', 1: '1', 2: '2'}\n"
     ]
    },
    {
     "name": "stderr",
     "output_type": "stream",
     "text": [
      "DEBUG:root:Loading Model output/models/转移性右下腹疼痛_20220906133254_9359.pth\n",
      "INFO:root:TextClassifier Using Device: CUDA\n",
      "INFO:root:TextClassifier Loading Data...\n",
      "DEBUG:root:Using Text Pair? -> Yes\n",
      "DEBUG:root:Data For Predicting\n",
      "DEBUG:root:Loading data lines...\n",
      "DEBUG:root:2766 Lines Loaded!\n",
      "DEBUG:root:Loading data lines...\n",
      "DEBUG:root:656 Lines Loaded!\n",
      "INFO:root:Initializing Class TextClassifier...\n"
     ]
    },
    {
     "name": "stdout",
     "output_type": "stream",
     "text": [
      "best accuracy: 0.13333333333333333\n",
      "{0: '0', 1: '1', 2: '2'}\n"
     ]
    },
    {
     "name": "stderr",
     "output_type": "stream",
     "text": [
      "Some weights of the model checkpoint at ../BertModels/medical-roberta-wwm were not used when initializing BertModel: ['cls.predictions.decoder.bias', 'cls.predictions.transform.dense.weight', 'cls.predictions.decoder.weight', 'cls.predictions.bias', 'cls.predictions.transform.LayerNorm.bias', 'cls.predictions.transform.dense.bias', 'cls.predictions.transform.LayerNorm.weight']\n",
      "- This IS expected if you are initializing BertModel from the checkpoint of a model trained on another task or with another architecture (e.g. initializing a BertForSequenceClassification model from a BertForPreTraining model).\n",
      "- This IS NOT expected if you are initializing BertModel from the checkpoint of a model that you expect to be exactly identical (initializing a BertForSequenceClassification model from a BertForSequenceClassification model).\n",
      "Some weights of BertModel were not initialized from the model checkpoint at ../BertModels/medical-roberta-wwm and are newly initialized: ['bert.pooler.dense.weight', 'bert.pooler.dense.bias']\n",
      "You should probably TRAIN this model on a down-stream task to be able to use it for predictions and inference.\n",
      "DEBUG:root:Initializing Model BertTextClassfication\n",
      "INFO:root:TextClassifier Using Device: CUDA\n",
      "INFO:root:TextClassifier Loading Data...\n",
      "DEBUG:root:Using Text Pair? -> Yes\n",
      "DEBUG:root:Start Model Traning....\n",
      "DEBUG:root:Epoch: 0/100, Training Loss:0.814115, Acc:0.628733, elapsed: 135.566919\n",
      "DEBUG:root:Evalaton loss:0.705476, Acc:0.698171, elapsed: 16.725014\n",
      "DEBUG:root:Saving Model: output/models/中腹痛_20220906134840_6981.pth\n",
      "DEBUG:root:Epoch: 1/100, Training Loss:0.790921, Acc:0.620063, elapsed: 135.309048\n",
      "DEBUG:root:Evalaton loss:0.911123, Acc:0.516768, elapsed: 16.601684\n",
      "DEBUG:root:Epoch: 2/100, Training Loss:0.921896, Acc:0.472423, elapsed: 135.653292\n",
      "DEBUG:root:Evalaton loss:0.897369, Acc:0.516768, elapsed: 16.850403\n",
      "DEBUG:root:Epoch: 3/100, Training Loss:0.922834, Acc:0.483863, elapsed: 135.595183\n",
      "DEBUG:root:Evalaton loss:0.916243, Acc:0.411585, elapsed: 16.582323\n",
      "DEBUG:root:Epoch: 4/100, Training Loss:0.915188, Acc:0.473386, elapsed: 135.338056\n",
      "DEBUG:root:Evalaton loss:0.903525, Acc:0.411585, elapsed: 16.575251\n",
      "DEBUG:root:Epoch: 5/100, Training Loss:0.907953, Acc:0.493618, elapsed: 135.783606\n",
      "DEBUG:root:Evalaton loss:0.896771, Acc:0.516768, elapsed: 16.694149\n",
      "DEBUG:root:No Improve more than 5 epochs, Exit Training! Best accuracy: 0.698171\n",
      "DEBUG:root:Loading data lines...\n",
      "DEBUG:root:656 Lines Loaded!\n",
      "INFO:root:Initializing Class TextClassifier...\n"
     ]
    },
    {
     "name": "stdout",
     "output_type": "stream",
     "text": [
      "output/models/中腹痛_20220906134840_6981.pth\n"
     ]
    },
    {
     "name": "stderr",
     "output_type": "stream",
     "text": [
      "DEBUG:root:Loading Model output/models/中腹痛_20220906134840_6981.pth\n",
      "INFO:root:TextClassifier Using Device: CUDA\n",
      "INFO:root:TextClassifier Loading Data...\n",
      "DEBUG:root:Using Text Pair? -> Yes\n",
      "DEBUG:root:Data For Predicting\n",
      "DEBUG:root:Loading data lines...\n",
      "DEBUG:root:158 Lines Loaded!\n",
      "INFO:root:Initializing Class TextClassifier...\n"
     ]
    },
    {
     "name": "stdout",
     "output_type": "stream",
     "text": [
      "best accuracy: 0.698170731707317\n",
      "{0: '0', 1: '1', 2: '2'}\n"
     ]
    },
    {
     "name": "stderr",
     "output_type": "stream",
     "text": [
      "DEBUG:root:Loading Model output/models/中腹痛_20220906134840_6981.pth\n",
      "INFO:root:TextClassifier Using Device: CUDA\n",
      "INFO:root:TextClassifier Loading Data...\n",
      "DEBUG:root:Using Text Pair? -> Yes\n",
      "DEBUG:root:Data For Predicting\n",
      "DEBUG:root:Loading data lines...\n",
      "DEBUG:root:2766 Lines Loaded!\n",
      "DEBUG:root:Loading data lines...\n",
      "DEBUG:root:656 Lines Loaded!\n",
      "INFO:root:Initializing Class TextClassifier...\n"
     ]
    },
    {
     "name": "stdout",
     "output_type": "stream",
     "text": [
      "best accuracy: 0.4083333333333333\n",
      "{0: '0', 1: '1', 2: '2'}\n"
     ]
    },
    {
     "name": "stderr",
     "output_type": "stream",
     "text": [
      "Some weights of the model checkpoint at ../BertModels/medical-roberta-wwm were not used when initializing BertModel: ['cls.predictions.decoder.bias', 'cls.predictions.transform.dense.weight', 'cls.predictions.decoder.weight', 'cls.predictions.bias', 'cls.predictions.transform.LayerNorm.bias', 'cls.predictions.transform.dense.bias', 'cls.predictions.transform.LayerNorm.weight']\n",
      "- This IS expected if you are initializing BertModel from the checkpoint of a model trained on another task or with another architecture (e.g. initializing a BertForSequenceClassification model from a BertForPreTraining model).\n",
      "- This IS NOT expected if you are initializing BertModel from the checkpoint of a model that you expect to be exactly identical (initializing a BertForSequenceClassification model from a BertForSequenceClassification model).\n",
      "Some weights of BertModel were not initialized from the model checkpoint at ../BertModels/medical-roberta-wwm and are newly initialized: ['bert.pooler.dense.weight', 'bert.pooler.dense.bias']\n",
      "You should probably TRAIN this model on a down-stream task to be able to use it for predictions and inference.\n",
      "DEBUG:root:Initializing Model BertTextClassfication\n",
      "INFO:root:TextClassifier Using Device: CUDA\n",
      "INFO:root:TextClassifier Loading Data...\n",
      "DEBUG:root:Using Text Pair? -> Yes\n",
      "DEBUG:root:Start Model Traning....\n",
      "DEBUG:root:Epoch: 0/100, Training Loss:0.703282, Acc:0.686537, elapsed: 137.076716\n",
      "DEBUG:root:Evalaton loss:0.991946, Acc:0.644817, elapsed: 16.964540\n",
      "DEBUG:root:Saving Model: output/models/右上腹痛_20220906140429_6448.pth\n",
      "DEBUG:root:Epoch: 1/100, Training Loss:0.776545, Acc:0.646797, elapsed: 136.211170\n",
      "DEBUG:root:Evalaton loss:0.578358, Acc:0.699695, elapsed: 16.708683\n",
      "DEBUG:root:Saving Model: output/models/右上腹痛_20220906140702_6996.pth\n",
      "DEBUG:root:Epoch: 2/100, Training Loss:0.757701, Acc:0.665222, elapsed: 137.613051\n",
      "DEBUG:root:Evalaton loss:0.699452, Acc:0.760671, elapsed: 16.682911\n",
      "DEBUG:root:Saving Model: output/models/右上腹痛_20220906140937_7606.pth\n",
      "DEBUG:root:Epoch: 3/100, Training Loss:0.794096, Acc:0.662211, elapsed: 136.952597\n",
      "DEBUG:root:Evalaton loss:0.872700, Acc:0.644817, elapsed: 16.707525\n",
      "DEBUG:root:Epoch: 4/100, Training Loss:0.887306, Acc:0.637042, elapsed: 137.003390\n",
      "DEBUG:root:Evalaton loss:0.884387, Acc:0.644817, elapsed: 16.828109\n",
      "DEBUG:root:Epoch: 5/100, Training Loss:0.885994, Acc:0.636681, elapsed: 138.520375\n",
      "DEBUG:root:Evalaton loss:0.882176, Acc:0.644817, elapsed: 16.870042\n",
      "DEBUG:root:Epoch: 6/100, Training Loss:0.883603, Acc:0.637283, elapsed: 136.724042\n",
      "DEBUG:root:Evalaton loss:0.879199, Acc:0.644817, elapsed: 16.953246\n",
      "DEBUG:root:Epoch: 7/100, Training Loss:0.885222, Acc:0.636802, elapsed: 137.617127\n",
      "DEBUG:root:Evalaton loss:0.870829, Acc:0.644817, elapsed: 16.660354\n",
      "DEBUG:root:No Improve more than 5 epochs, Exit Training! Best accuracy: 0.760671\n",
      "DEBUG:root:Loading data lines...\n",
      "DEBUG:root:656 Lines Loaded!\n",
      "INFO:root:Initializing Class TextClassifier...\n"
     ]
    },
    {
     "name": "stdout",
     "output_type": "stream",
     "text": [
      "output/models/右上腹痛_20220906140937_7606.pth\n"
     ]
    },
    {
     "name": "stderr",
     "output_type": "stream",
     "text": [
      "DEBUG:root:Loading Model output/models/右上腹痛_20220906140937_7606.pth\n",
      "INFO:root:TextClassifier Using Device: CUDA\n",
      "INFO:root:TextClassifier Loading Data...\n",
      "DEBUG:root:Using Text Pair? -> Yes\n",
      "DEBUG:root:Data For Predicting\n",
      "DEBUG:root:Loading data lines...\n",
      "DEBUG:root:158 Lines Loaded!\n",
      "INFO:root:Initializing Class TextClassifier...\n"
     ]
    },
    {
     "name": "stdout",
     "output_type": "stream",
     "text": [
      "best accuracy: 0.760670731707317\n",
      "{0: '0', 1: '1', 2: '2'}\n"
     ]
    },
    {
     "name": "stderr",
     "output_type": "stream",
     "text": [
      "DEBUG:root:Loading Model output/models/右上腹痛_20220906140937_7606.pth\n",
      "INFO:root:TextClassifier Using Device: CUDA\n",
      "INFO:root:TextClassifier Loading Data...\n",
      "DEBUG:root:Using Text Pair? -> Yes\n",
      "DEBUG:root:Data For Predicting\n",
      "DEBUG:root:Loading data lines...\n",
      "DEBUG:root:2766 Lines Loaded!\n",
      "DEBUG:root:Loading data lines...\n",
      "DEBUG:root:656 Lines Loaded!\n",
      "INFO:root:Initializing Class TextClassifier...\n"
     ]
    },
    {
     "name": "stdout",
     "output_type": "stream",
     "text": [
      "best accuracy: 0.8104166666666666\n",
      "{0: '0', 1: '1', 2: '2'}\n"
     ]
    },
    {
     "name": "stderr",
     "output_type": "stream",
     "text": [
      "Some weights of the model checkpoint at ../BertModels/medical-roberta-wwm were not used when initializing BertModel: ['cls.predictions.decoder.bias', 'cls.predictions.transform.dense.weight', 'cls.predictions.decoder.weight', 'cls.predictions.bias', 'cls.predictions.transform.LayerNorm.bias', 'cls.predictions.transform.dense.bias', 'cls.predictions.transform.LayerNorm.weight']\n",
      "- This IS expected if you are initializing BertModel from the checkpoint of a model trained on another task or with another architecture (e.g. initializing a BertForSequenceClassification model from a BertForPreTraining model).\n",
      "- This IS NOT expected if you are initializing BertModel from the checkpoint of a model that you expect to be exactly identical (initializing a BertForSequenceClassification model from a BertForSequenceClassification model).\n",
      "Some weights of BertModel were not initialized from the model checkpoint at ../BertModels/medical-roberta-wwm and are newly initialized: ['bert.pooler.dense.weight', 'bert.pooler.dense.bias']\n",
      "You should probably TRAIN this model on a down-stream task to be able to use it for predictions and inference.\n",
      "DEBUG:root:Initializing Model BertTextClassfication\n",
      "INFO:root:TextClassifier Using Device: CUDA\n",
      "INFO:root:TextClassifier Loading Data...\n",
      "DEBUG:root:Using Text Pair? -> Yes\n",
      "DEBUG:root:Start Model Traning....\n",
      "DEBUG:root:Epoch: 0/100, Training Loss:0.577353, Acc:0.763367, elapsed: 136.440450\n",
      "DEBUG:root:Evalaton loss:0.649831, Acc:0.794207, elapsed: 16.777704\n",
      "DEBUG:root:Saving Model: output/models/放射痛（放射到同侧半腹或背部）_20220906142535_7942.pth\n",
      "DEBUG:root:Epoch: 1/100, Training Loss:0.455016, Acc:0.810212, elapsed: 136.575561\n",
      "DEBUG:root:Evalaton loss:0.429361, Acc:0.832317, elapsed: 17.090127\n",
      "DEBUG:root:Saving Model: output/models/放射痛（放射到同侧半腹或背部）_20220906142810_8323.pth\n",
      "DEBUG:root:Epoch: 2/100, Training Loss:0.423862, Acc:0.826228, elapsed: 137.307796\n",
      "DEBUG:root:Evalaton loss:0.357622, Acc:0.846037, elapsed: 16.895447\n",
      "DEBUG:root:Saving Model: output/models/放射痛（放射到同侧半腹或背部）_20220906143045_8460.pth\n",
      "DEBUG:root:Epoch: 3/100, Training Loss:0.431631, Acc:0.811898, elapsed: 137.405742\n",
      "DEBUG:root:Evalaton loss:0.810864, Acc:0.685976, elapsed: 16.754040\n",
      "DEBUG:root:Epoch: 4/100, Training Loss:0.806801, Acc:0.693160, elapsed: 137.687898\n",
      "DEBUG:root:Evalaton loss:0.793334, Acc:0.685976, elapsed: 17.100775\n",
      "DEBUG:root:Epoch: 5/100, Training Loss:0.799616, Acc:0.693160, elapsed: 137.321956\n",
      "DEBUG:root:Evalaton loss:0.792839, Acc:0.685976, elapsed: 16.644601\n",
      "DEBUG:root:Epoch: 6/100, Training Loss:0.797894, Acc:0.693039, elapsed: 137.455791\n",
      "DEBUG:root:Evalaton loss:0.797445, Acc:0.685976, elapsed: 16.909645\n",
      "DEBUG:root:Epoch: 7/100, Training Loss:0.796119, Acc:0.693039, elapsed: 138.545115\n",
      "DEBUG:root:Evalaton loss:0.793234, Acc:0.685976, elapsed: 16.974211\n",
      "DEBUG:root:No Improve more than 5 epochs, Exit Training! Best accuracy: 0.846037\n",
      "DEBUG:root:Loading data lines...\n",
      "DEBUG:root:656 Lines Loaded!\n",
      "INFO:root:Initializing Class TextClassifier...\n"
     ]
    },
    {
     "name": "stdout",
     "output_type": "stream",
     "text": [
      "output/models/放射痛（放射到同侧半腹或背部）_20220906143045_8460.pth\n"
     ]
    },
    {
     "name": "stderr",
     "output_type": "stream",
     "text": [
      "DEBUG:root:Loading Model output/models/放射痛（放射到同侧半腹或背部）_20220906143045_8460.pth\n",
      "INFO:root:TextClassifier Using Device: CUDA\n",
      "INFO:root:TextClassifier Loading Data...\n",
      "DEBUG:root:Using Text Pair? -> Yes\n",
      "DEBUG:root:Data For Predicting\n",
      "DEBUG:root:Loading data lines...\n",
      "DEBUG:root:158 Lines Loaded!\n",
      "INFO:root:Initializing Class TextClassifier...\n"
     ]
    },
    {
     "name": "stdout",
     "output_type": "stream",
     "text": [
      "best accuracy: 0.8460365853658537\n",
      "{0: '0', 1: '1', 2: '2'}\n"
     ]
    },
    {
     "name": "stderr",
     "output_type": "stream",
     "text": [
      "DEBUG:root:Loading Model output/models/放射痛（放射到同侧半腹或背部）_20220906143045_8460.pth\n",
      "INFO:root:TextClassifier Using Device: CUDA\n",
      "INFO:root:TextClassifier Loading Data...\n",
      "DEBUG:root:Using Text Pair? -> Yes\n",
      "DEBUG:root:Data For Predicting\n",
      "DEBUG:root:Loading data lines...\n",
      "DEBUG:root:2766 Lines Loaded!\n",
      "DEBUG:root:Loading data lines...\n",
      "DEBUG:root:656 Lines Loaded!\n",
      "INFO:root:Initializing Class TextClassifier...\n"
     ]
    },
    {
     "name": "stdout",
     "output_type": "stream",
     "text": [
      "best accuracy: 0.7416666666666667\n",
      "{0: '0', 1: '1', 2: '2'}\n"
     ]
    },
    {
     "name": "stderr",
     "output_type": "stream",
     "text": [
      "Some weights of the model checkpoint at ../BertModels/medical-roberta-wwm were not used when initializing BertModel: ['cls.predictions.decoder.bias', 'cls.predictions.transform.dense.weight', 'cls.predictions.decoder.weight', 'cls.predictions.bias', 'cls.predictions.transform.LayerNorm.bias', 'cls.predictions.transform.dense.bias', 'cls.predictions.transform.LayerNorm.weight']\n",
      "- This IS expected if you are initializing BertModel from the checkpoint of a model trained on another task or with another architecture (e.g. initializing a BertForSequenceClassification model from a BertForPreTraining model).\n",
      "- This IS NOT expected if you are initializing BertModel from the checkpoint of a model that you expect to be exactly identical (initializing a BertForSequenceClassification model from a BertForSequenceClassification model).\n",
      "Some weights of BertModel were not initialized from the model checkpoint at ../BertModels/medical-roberta-wwm and are newly initialized: ['bert.pooler.dense.weight', 'bert.pooler.dense.bias']\n",
      "You should probably TRAIN this model on a down-stream task to be able to use it for predictions and inference.\n",
      "DEBUG:root:Initializing Model BertTextClassfication\n",
      "INFO:root:TextClassifier Using Device: CUDA\n",
      "INFO:root:TextClassifier Loading Data...\n",
      "DEBUG:root:Using Text Pair? -> Yes\n",
      "DEBUG:root:Start Model Traning....\n",
      "DEBUG:root:Epoch: 0/100, Training Loss:0.710937, Acc:0.696050, elapsed: 137.792904\n",
      "DEBUG:root:Evalaton loss:0.682443, Acc:0.669207, elapsed: 16.822663\n",
      "DEBUG:root:Saving Model: output/models/持续性腹痛_20220906144646_6692.pth\n",
      "DEBUG:root:Epoch: 1/100, Training Loss:0.733088, Acc:0.709658, elapsed: 138.552797\n",
      "DEBUG:root:Evalaton loss:0.761290, Acc:0.681402, elapsed: 17.123213\n",
      "DEBUG:root:Saving Model: output/models/持续性腹痛_20220906144923_6814.pth\n",
      "DEBUG:root:Epoch: 2/100, Training Loss:0.802077, Acc:0.663174, elapsed: 138.566060\n",
      "DEBUG:root:Evalaton loss:1.030686, Acc:0.609756, elapsed: 16.951692\n",
      "DEBUG:root:Epoch: 3/100, Training Loss:0.925780, Acc:0.624880, elapsed: 138.223658\n",
      "DEBUG:root:Evalaton loss:0.923011, Acc:0.620427, elapsed: 17.143847\n",
      "DEBUG:root:Epoch: 4/100, Training Loss:0.925471, Acc:0.625963, elapsed: 138.891485\n",
      "DEBUG:root:Evalaton loss:0.917421, Acc:0.620427, elapsed: 16.857047\n",
      "DEBUG:root:Epoch: 5/100, Training Loss:0.924972, Acc:0.626325, elapsed: 138.804435\n",
      "DEBUG:root:Evalaton loss:0.922548, Acc:0.620427, elapsed: 16.969906\n",
      "DEBUG:root:Epoch: 6/100, Training Loss:0.922556, Acc:0.626204, elapsed: 137.751642\n",
      "DEBUG:root:Evalaton loss:0.916415, Acc:0.620427, elapsed: 16.654196\n",
      "DEBUG:root:No Improve more than 5 epochs, Exit Training! Best accuracy: 0.681402\n",
      "DEBUG:root:Loading data lines...\n",
      "DEBUG:root:656 Lines Loaded!\n",
      "INFO:root:Initializing Class TextClassifier...\n"
     ]
    },
    {
     "name": "stdout",
     "output_type": "stream",
     "text": [
      "output/models/持续性腹痛_20220906144923_6814.pth\n"
     ]
    },
    {
     "name": "stderr",
     "output_type": "stream",
     "text": [
      "DEBUG:root:Loading Model output/models/持续性腹痛_20220906144923_6814.pth\n",
      "INFO:root:TextClassifier Using Device: CUDA\n",
      "INFO:root:TextClassifier Loading Data...\n",
      "DEBUG:root:Using Text Pair? -> Yes\n",
      "DEBUG:root:Data For Predicting\n",
      "DEBUG:root:Loading data lines...\n",
      "DEBUG:root:158 Lines Loaded!\n",
      "INFO:root:Initializing Class TextClassifier...\n"
     ]
    },
    {
     "name": "stdout",
     "output_type": "stream",
     "text": [
      "best accuracy: 0.6814024390243902\n",
      "{0: '0', 1: '1', 2: '2'}\n"
     ]
    },
    {
     "name": "stderr",
     "output_type": "stream",
     "text": [
      "DEBUG:root:Loading Model output/models/持续性腹痛_20220906144923_6814.pth\n",
      "INFO:root:TextClassifier Using Device: CUDA\n",
      "INFO:root:TextClassifier Loading Data...\n",
      "DEBUG:root:Using Text Pair? -> Yes\n",
      "DEBUG:root:Data For Predicting\n",
      "DEBUG:root:Loading data lines...\n",
      "DEBUG:root:2766 Lines Loaded!\n",
      "DEBUG:root:Loading data lines...\n",
      "DEBUG:root:656 Lines Loaded!\n",
      "INFO:root:Initializing Class TextClassifier...\n"
     ]
    },
    {
     "name": "stdout",
     "output_type": "stream",
     "text": [
      "best accuracy: 0.4479166666666667\n",
      "{0: '0', 1: '1', 2: '2'}\n"
     ]
    },
    {
     "name": "stderr",
     "output_type": "stream",
     "text": [
      "Some weights of the model checkpoint at ../BertModels/medical-roberta-wwm were not used when initializing BertModel: ['cls.predictions.decoder.bias', 'cls.predictions.transform.dense.weight', 'cls.predictions.decoder.weight', 'cls.predictions.bias', 'cls.predictions.transform.LayerNorm.bias', 'cls.predictions.transform.dense.bias', 'cls.predictions.transform.LayerNorm.weight']\n",
      "- This IS expected if you are initializing BertModel from the checkpoint of a model trained on another task or with another architecture (e.g. initializing a BertForSequenceClassification model from a BertForPreTraining model).\n",
      "- This IS NOT expected if you are initializing BertModel from the checkpoint of a model that you expect to be exactly identical (initializing a BertForSequenceClassification model from a BertForSequenceClassification model).\n",
      "Some weights of BertModel were not initialized from the model checkpoint at ../BertModels/medical-roberta-wwm and are newly initialized: ['bert.pooler.dense.weight', 'bert.pooler.dense.bias']\n",
      "You should probably TRAIN this model on a down-stream task to be able to use it for predictions and inference.\n",
      "DEBUG:root:Initializing Model BertTextClassfication\n",
      "INFO:root:TextClassifier Using Device: CUDA\n",
      "INFO:root:TextClassifier Loading Data...\n",
      "DEBUG:root:Using Text Pair? -> Yes\n",
      "DEBUG:root:Start Model Traning....\n",
      "DEBUG:root:Epoch: 0/100, Training Loss:0.571552, Acc:0.737596, elapsed: 137.328635\n",
      "DEBUG:root:Evalaton loss:0.566345, Acc:0.768293, elapsed: 16.817648\n",
      "DEBUG:root:Saving Model: output/models/仰卧加重，坐位缓解_20220906150528_7682.pth\n",
      "DEBUG:root:Epoch: 1/100, Training Loss:0.581890, Acc:0.752770, elapsed: 136.876251\n",
      "DEBUG:root:Evalaton loss:0.543613, Acc:0.768293, elapsed: 16.686589\n",
      "DEBUG:root:Epoch: 2/100, Training Loss:0.578067, Acc:0.758189, elapsed: 136.767060\n",
      "DEBUG:root:Evalaton loss:0.560660, Acc:0.768293, elapsed: 16.703698\n",
      "DEBUG:root:Epoch: 3/100, Training Loss:0.577249, Acc:0.757346, elapsed: 137.038168\n",
      "DEBUG:root:Evalaton loss:0.547621, Acc:0.768293, elapsed: 16.693498\n",
      "DEBUG:root:Epoch: 4/100, Training Loss:0.566671, Acc:0.758068, elapsed: 138.112730\n",
      "DEBUG:root:Evalaton loss:0.554932, Acc:0.768293, elapsed: 16.799277\n",
      "DEBUG:root:Epoch: 5/100, Training Loss:0.571480, Acc:0.758189, elapsed: 138.442114\n",
      "DEBUG:root:Evalaton loss:0.543178, Acc:0.768293, elapsed: 16.908059\n",
      "DEBUG:root:No Improve more than 5 epochs, Exit Training! Best accuracy: 0.768293\n",
      "DEBUG:root:Loading data lines...\n",
      "DEBUG:root:656 Lines Loaded!\n",
      "INFO:root:Initializing Class TextClassifier...\n"
     ]
    },
    {
     "name": "stdout",
     "output_type": "stream",
     "text": [
      "output/models/仰卧加重，坐位缓解_20220906150528_7682.pth\n"
     ]
    },
    {
     "name": "stderr",
     "output_type": "stream",
     "text": [
      "DEBUG:root:Loading Model output/models/仰卧加重，坐位缓解_20220906150528_7682.pth\n",
      "INFO:root:TextClassifier Using Device: CUDA\n",
      "INFO:root:TextClassifier Loading Data...\n",
      "DEBUG:root:Using Text Pair? -> Yes\n",
      "DEBUG:root:Data For Predicting\n",
      "DEBUG:root:Loading data lines...\n",
      "DEBUG:root:158 Lines Loaded!\n",
      "INFO:root:Initializing Class TextClassifier...\n"
     ]
    },
    {
     "name": "stdout",
     "output_type": "stream",
     "text": [
      "best accuracy: 0.7682926829268293\n",
      "{0: '0', 1: '1', 2: '2'}\n"
     ]
    },
    {
     "name": "stderr",
     "output_type": "stream",
     "text": [
      "DEBUG:root:Loading Model output/models/仰卧加重，坐位缓解_20220906150528_7682.pth\n",
      "INFO:root:TextClassifier Using Device: CUDA\n",
      "INFO:root:TextClassifier Loading Data...\n",
      "DEBUG:root:Using Text Pair? -> Yes\n",
      "DEBUG:root:Data For Predicting\n",
      "DEBUG:root:Loading data lines...\n",
      "DEBUG:root:2766 Lines Loaded!\n",
      "DEBUG:root:Loading data lines...\n",
      "DEBUG:root:656 Lines Loaded!\n",
      "INFO:root:Initializing Class TextClassifier...\n"
     ]
    },
    {
     "name": "stdout",
     "output_type": "stream",
     "text": [
      "best accuracy: 1.0\n",
      "{0: '0', 1: '1', 2: '2'}\n"
     ]
    },
    {
     "name": "stderr",
     "output_type": "stream",
     "text": [
      "Some weights of the model checkpoint at ../BertModels/medical-roberta-wwm were not used when initializing BertModel: ['cls.predictions.decoder.bias', 'cls.predictions.transform.dense.weight', 'cls.predictions.decoder.weight', 'cls.predictions.bias', 'cls.predictions.transform.LayerNorm.bias', 'cls.predictions.transform.dense.bias', 'cls.predictions.transform.LayerNorm.weight']\n",
      "- This IS expected if you are initializing BertModel from the checkpoint of a model trained on another task or with another architecture (e.g. initializing a BertForSequenceClassification model from a BertForPreTraining model).\n",
      "- This IS NOT expected if you are initializing BertModel from the checkpoint of a model that you expect to be exactly identical (initializing a BertForSequenceClassification model from a BertForSequenceClassification model).\n",
      "Some weights of BertModel were not initialized from the model checkpoint at ../BertModels/medical-roberta-wwm and are newly initialized: ['bert.pooler.dense.weight', 'bert.pooler.dense.bias']\n",
      "You should probably TRAIN this model on a down-stream task to be able to use it for predictions and inference.\n",
      "DEBUG:root:Initializing Model BertTextClassfication\n",
      "INFO:root:TextClassifier Using Device: CUDA\n",
      "INFO:root:TextClassifier Loading Data...\n",
      "DEBUG:root:Using Text Pair? -> Yes\n",
      "DEBUG:root:Start Model Traning....\n",
      "DEBUG:root:Epoch: 0/100, Training Loss:0.669089, Acc:0.740727, elapsed: 136.061800\n",
      "DEBUG:root:Evalaton loss:0.585697, Acc:0.777439, elapsed: 16.733519\n",
      "DEBUG:root:Saving Model: output/models/阵发性疼痛_20220906152126_7774.pth\n",
      "DEBUG:root:Epoch: 1/100, Training Loss:0.820159, Acc:0.719533, elapsed: 138.474174\n",
      "DEBUG:root:Evalaton loss:0.772015, Acc:0.731707, elapsed: 17.376108\n",
      "DEBUG:root:Epoch: 2/100, Training Loss:0.804069, Acc:0.721098, elapsed: 138.677083\n",
      "DEBUG:root:Evalaton loss:0.784267, Acc:0.731707, elapsed: 17.497176\n",
      "DEBUG:root:Epoch: 3/100, Training Loss:0.796512, Acc:0.720737, elapsed: 137.044277\n",
      "DEBUG:root:Evalaton loss:0.769586, Acc:0.731707, elapsed: 17.682325\n",
      "DEBUG:root:Epoch: 4/100, Training Loss:0.799044, Acc:0.720978, elapsed: 137.430843\n",
      "DEBUG:root:Evalaton loss:0.769740, Acc:0.731707, elapsed: 18.060108\n",
      "DEBUG:root:Epoch: 5/100, Training Loss:0.793926, Acc:0.720857, elapsed: 139.375015\n",
      "DEBUG:root:Evalaton loss:0.768596, Acc:0.731707, elapsed: 17.011511\n",
      "DEBUG:root:No Improve more than 5 epochs, Exit Training! Best accuracy: 0.777439\n",
      "DEBUG:root:Loading data lines...\n",
      "DEBUG:root:656 Lines Loaded!\n",
      "INFO:root:Initializing Class TextClassifier...\n"
     ]
    },
    {
     "name": "stdout",
     "output_type": "stream",
     "text": [
      "output/models/阵发性疼痛_20220906152126_7774.pth\n"
     ]
    },
    {
     "name": "stderr",
     "output_type": "stream",
     "text": [
      "DEBUG:root:Loading Model output/models/阵发性疼痛_20220906152126_7774.pth\n",
      "INFO:root:TextClassifier Using Device: CUDA\n",
      "INFO:root:TextClassifier Loading Data...\n",
      "DEBUG:root:Using Text Pair? -> Yes\n",
      "DEBUG:root:Data For Predicting\n",
      "DEBUG:root:Loading data lines...\n",
      "DEBUG:root:158 Lines Loaded!\n",
      "INFO:root:Initializing Class TextClassifier...\n"
     ]
    },
    {
     "name": "stdout",
     "output_type": "stream",
     "text": [
      "best accuracy: 0.7774390243902439\n",
      "{0: '0', 1: '1', 2: '2'}\n"
     ]
    },
    {
     "name": "stderr",
     "output_type": "stream",
     "text": [
      "DEBUG:root:Loading Model output/models/阵发性疼痛_20220906152126_7774.pth\n",
      "INFO:root:TextClassifier Using Device: CUDA\n",
      "INFO:root:TextClassifier Loading Data...\n",
      "DEBUG:root:Using Text Pair? -> Yes\n",
      "DEBUG:root:Data For Predicting\n",
      "DEBUG:root:Loading data lines...\n",
      "DEBUG:root:2766 Lines Loaded!\n",
      "DEBUG:root:Loading data lines...\n",
      "DEBUG:root:656 Lines Loaded!\n",
      "INFO:root:Initializing Class TextClassifier...\n"
     ]
    },
    {
     "name": "stdout",
     "output_type": "stream",
     "text": [
      "best accuracy: 0.4104166666666667\n",
      "{0: '0', 1: '1', 2: '2'}\n"
     ]
    },
    {
     "name": "stderr",
     "output_type": "stream",
     "text": [
      "Some weights of the model checkpoint at ../BertModels/medical-roberta-wwm were not used when initializing BertModel: ['cls.predictions.decoder.bias', 'cls.predictions.transform.dense.weight', 'cls.predictions.decoder.weight', 'cls.predictions.bias', 'cls.predictions.transform.LayerNorm.bias', 'cls.predictions.transform.dense.bias', 'cls.predictions.transform.LayerNorm.weight']\n",
      "- This IS expected if you are initializing BertModel from the checkpoint of a model trained on another task or with another architecture (e.g. initializing a BertForSequenceClassification model from a BertForPreTraining model).\n",
      "- This IS NOT expected if you are initializing BertModel from the checkpoint of a model that you expect to be exactly identical (initializing a BertForSequenceClassification model from a BertForSequenceClassification model).\n",
      "Some weights of BertModel were not initialized from the model checkpoint at ../BertModels/medical-roberta-wwm and are newly initialized: ['bert.pooler.dense.weight', 'bert.pooler.dense.bias']\n",
      "You should probably TRAIN this model on a down-stream task to be able to use it for predictions and inference.\n",
      "DEBUG:root:Initializing Model BertTextClassfication\n",
      "INFO:root:TextClassifier Using Device: CUDA\n",
      "INFO:root:TextClassifier Loading Data...\n",
      "DEBUG:root:Using Text Pair? -> Yes\n",
      "DEBUG:root:Start Model Traning....\n",
      "DEBUG:root:Epoch: 0/100, Training Loss:0.908085, Acc:0.549013, elapsed: 138.164279\n",
      "DEBUG:root:Evalaton loss:0.958851, Acc:0.478659, elapsed: 17.062073\n",
      "DEBUG:root:Saving Model: output/models/剧烈腹痛_20220906153734_4786.pth\n",
      "DEBUG:root:Epoch: 1/100, Training Loss:0.985132, Acc:0.475072, elapsed: 136.835567\n",
      "DEBUG:root:Evalaton loss:0.979905, Acc:0.419207, elapsed: 17.278751\n",
      "DEBUG:root:Epoch: 2/100, Training Loss:0.979593, Acc:0.464355, elapsed: 138.546857\n",
      "DEBUG:root:Evalaton loss:0.973268, Acc:0.478659, elapsed: 16.851497\n",
      "DEBUG:root:Epoch: 3/100, Training Loss:0.969731, Acc:0.484947, elapsed: 137.595276\n",
      "DEBUG:root:Evalaton loss:0.951766, Acc:0.478659, elapsed: 18.302290\n",
      "DEBUG:root:Epoch: 4/100, Training Loss:0.967028, Acc:0.467004, elapsed: 138.027506\n",
      "DEBUG:root:Evalaton loss:0.950222, Acc:0.478659, elapsed: 16.725377\n",
      "DEBUG:root:Epoch: 5/100, Training Loss:0.964583, Acc:0.471098, elapsed: 137.370429\n",
      "DEBUG:root:Evalaton loss:0.954690, Acc:0.478659, elapsed: 17.158343\n",
      "DEBUG:root:No Improve more than 5 epochs, Exit Training! Best accuracy: 0.478659\n",
      "DEBUG:root:Loading data lines...\n",
      "DEBUG:root:656 Lines Loaded!\n",
      "INFO:root:Initializing Class TextClassifier...\n"
     ]
    },
    {
     "name": "stdout",
     "output_type": "stream",
     "text": [
      "output/models/剧烈腹痛_20220906153734_4786.pth\n"
     ]
    },
    {
     "name": "stderr",
     "output_type": "stream",
     "text": [
      "DEBUG:root:Loading Model output/models/剧烈腹痛_20220906153734_4786.pth\n",
      "INFO:root:TextClassifier Using Device: CUDA\n",
      "INFO:root:TextClassifier Loading Data...\n",
      "DEBUG:root:Using Text Pair? -> Yes\n",
      "DEBUG:root:Data For Predicting\n",
      "DEBUG:root:Loading data lines...\n",
      "DEBUG:root:158 Lines Loaded!\n",
      "INFO:root:Initializing Class TextClassifier...\n"
     ]
    },
    {
     "name": "stdout",
     "output_type": "stream",
     "text": [
      "best accuracy: 0.47865853658536583\n",
      "{0: '0', 1: '1', 2: '2'}\n"
     ]
    },
    {
     "name": "stderr",
     "output_type": "stream",
     "text": [
      "DEBUG:root:Loading Model output/models/剧烈腹痛_20220906153734_4786.pth\n",
      "INFO:root:TextClassifier Using Device: CUDA\n",
      "INFO:root:TextClassifier Loading Data...\n",
      "DEBUG:root:Using Text Pair? -> Yes\n",
      "DEBUG:root:Data For Predicting\n",
      "DEBUG:root:Loading data lines...\n",
      "DEBUG:root:2766 Lines Loaded!\n",
      "DEBUG:root:Loading data lines...\n",
      "DEBUG:root:656 Lines Loaded!\n",
      "INFO:root:Initializing Class TextClassifier...\n"
     ]
    },
    {
     "name": "stdout",
     "output_type": "stream",
     "text": [
      "best accuracy: 0.91875\n",
      "{0: '0', 1: '1', 2: '2'}\n"
     ]
    },
    {
     "name": "stderr",
     "output_type": "stream",
     "text": [
      "Some weights of the model checkpoint at ../BertModels/medical-roberta-wwm were not used when initializing BertModel: ['cls.predictions.decoder.bias', 'cls.predictions.transform.dense.weight', 'cls.predictions.decoder.weight', 'cls.predictions.bias', 'cls.predictions.transform.LayerNorm.bias', 'cls.predictions.transform.dense.bias', 'cls.predictions.transform.LayerNorm.weight']\n",
      "- This IS expected if you are initializing BertModel from the checkpoint of a model trained on another task or with another architecture (e.g. initializing a BertForSequenceClassification model from a BertForPreTraining model).\n",
      "- This IS NOT expected if you are initializing BertModel from the checkpoint of a model that you expect to be exactly identical (initializing a BertForSequenceClassification model from a BertForSequenceClassification model).\n",
      "Some weights of BertModel were not initialized from the model checkpoint at ../BertModels/medical-roberta-wwm and are newly initialized: ['bert.pooler.dense.weight', 'bert.pooler.dense.bias']\n",
      "You should probably TRAIN this model on a down-stream task to be able to use it for predictions and inference.\n",
      "DEBUG:root:Initializing Model BertTextClassfication\n",
      "INFO:root:TextClassifier Using Device: CUDA\n",
      "INFO:root:TextClassifier Loading Data...\n",
      "DEBUG:root:Using Text Pair? -> Yes\n",
      "DEBUG:root:Start Model Traning....\n",
      "DEBUG:root:Epoch: 0/100, Training Loss:0.852950, Acc:0.579480, elapsed: 137.061430\n",
      "DEBUG:root:Evalaton loss:1.008676, Acc:0.414634, elapsed: 16.755898\n",
      "DEBUG:root:Saving Model: output/models/停止排便排气_20220906155336_4146.pth\n",
      "DEBUG:root:Epoch: 1/100, Training Loss:1.023038, Acc:0.437139, elapsed: 136.522298\n",
      "DEBUG:root:Evalaton loss:1.003815, Acc:0.461890, elapsed: 17.254012\n",
      "DEBUG:root:Saving Model: output/models/停止排便排气_20220906155611_4618.pth\n",
      "DEBUG:root:Epoch: 2/100, Training Loss:1.008020, Acc:0.447013, elapsed: 137.738511\n",
      "DEBUG:root:Evalaton loss:0.984485, Acc:0.414634, elapsed: 17.404076\n",
      "DEBUG:root:Epoch: 3/100, Training Loss:1.003644, Acc:0.451590, elapsed: 137.850112\n",
      "DEBUG:root:Evalaton loss:0.980854, Acc:0.461890, elapsed: 17.287120\n",
      "DEBUG:root:Epoch: 4/100, Training Loss:1.005451, Acc:0.445809, elapsed: 137.974065\n",
      "DEBUG:root:Evalaton loss:0.989481, Acc:0.414634, elapsed: 17.056745\n",
      "DEBUG:root:Epoch: 5/100, Training Loss:1.001508, Acc:0.446411, elapsed: 136.463382\n",
      "DEBUG:root:Evalaton loss:0.986197, Acc:0.414634, elapsed: 16.785228\n",
      "DEBUG:root:Epoch: 6/100, Training Loss:1.001586, Acc:0.429793, elapsed: 137.587154\n",
      "DEBUG:root:Evalaton loss:0.984864, Acc:0.461890, elapsed: 17.173594\n",
      "DEBUG:root:No Improve more than 5 epochs, Exit Training! Best accuracy: 0.461890\n",
      "DEBUG:root:Loading data lines...\n",
      "DEBUG:root:656 Lines Loaded!\n",
      "INFO:root:Initializing Class TextClassifier...\n"
     ]
    },
    {
     "name": "stdout",
     "output_type": "stream",
     "text": [
      "output/models/停止排便排气_20220906155611_4618.pth\n"
     ]
    },
    {
     "name": "stderr",
     "output_type": "stream",
     "text": [
      "DEBUG:root:Loading Model output/models/停止排便排气_20220906155611_4618.pth\n",
      "INFO:root:TextClassifier Using Device: CUDA\n",
      "INFO:root:TextClassifier Loading Data...\n",
      "DEBUG:root:Using Text Pair? -> Yes\n",
      "DEBUG:root:Data For Predicting\n",
      "DEBUG:root:Loading data lines...\n",
      "DEBUG:root:158 Lines Loaded!\n",
      "INFO:root:Initializing Class TextClassifier...\n"
     ]
    },
    {
     "name": "stdout",
     "output_type": "stream",
     "text": [
      "best accuracy: 0.46189024390243905\n",
      "{0: '0', 1: '1', 2: '2'}\n"
     ]
    },
    {
     "name": "stderr",
     "output_type": "stream",
     "text": [
      "DEBUG:root:Loading Model output/models/停止排便排气_20220906155611_4618.pth\n",
      "INFO:root:TextClassifier Using Device: CUDA\n",
      "INFO:root:TextClassifier Loading Data...\n",
      "DEBUG:root:Using Text Pair? -> Yes\n",
      "DEBUG:root:Data For Predicting\n",
      "DEBUG:root:Loading data lines...\n",
      "DEBUG:root:2766 Lines Loaded!\n",
      "DEBUG:root:Loading data lines...\n",
      "DEBUG:root:656 Lines Loaded!\n",
      "INFO:root:Initializing Class TextClassifier...\n"
     ]
    },
    {
     "name": "stdout",
     "output_type": "stream",
     "text": [
      "best accuracy: 0.96875\n",
      "{0: '0', 1: '1', 2: '2'}\n"
     ]
    },
    {
     "name": "stderr",
     "output_type": "stream",
     "text": [
      "Some weights of the model checkpoint at ../BertModels/medical-roberta-wwm were not used when initializing BertModel: ['cls.predictions.decoder.bias', 'cls.predictions.transform.dense.weight', 'cls.predictions.decoder.weight', 'cls.predictions.bias', 'cls.predictions.transform.LayerNorm.bias', 'cls.predictions.transform.dense.bias', 'cls.predictions.transform.LayerNorm.weight']\n",
      "- This IS expected if you are initializing BertModel from the checkpoint of a model trained on another task or with another architecture (e.g. initializing a BertForSequenceClassification model from a BertForPreTraining model).\n",
      "- This IS NOT expected if you are initializing BertModel from the checkpoint of a model that you expect to be exactly identical (initializing a BertForSequenceClassification model from a BertForSequenceClassification model).\n",
      "Some weights of BertModel were not initialized from the model checkpoint at ../BertModels/medical-roberta-wwm and are newly initialized: ['bert.pooler.dense.weight', 'bert.pooler.dense.bias']\n",
      "You should probably TRAIN this model on a down-stream task to be able to use it for predictions and inference.\n",
      "DEBUG:root:Initializing Model BertTextClassfication\n",
      "INFO:root:TextClassifier Using Device: CUDA\n",
      "INFO:root:TextClassifier Loading Data...\n",
      "DEBUG:root:Using Text Pair? -> Yes\n",
      "DEBUG:root:Start Model Traning....\n",
      "DEBUG:root:Epoch: 0/100, Training Loss:0.720727, Acc:0.721821, elapsed: 138.073578\n",
      "DEBUG:root:Evalaton loss:0.753978, Acc:0.714939, elapsed: 17.137585\n",
      "DEBUG:root:Saving Model: output/models/阴道流血_20220906161215_7149.pth\n",
      "DEBUG:root:Epoch: 1/100, Training Loss:0.725873, Acc:0.728083, elapsed: 136.672739\n",
      "DEBUG:root:Evalaton loss:0.753427, Acc:0.714939, elapsed: 17.060196\n",
      "DEBUG:root:Epoch: 2/100, Training Loss:0.723539, Acc:0.728685, elapsed: 137.157813\n",
      "DEBUG:root:Evalaton loss:0.748260, Acc:0.714939, elapsed: 16.915335\n",
      "DEBUG:root:Epoch: 3/100, Training Loss:0.718351, Acc:0.728926, elapsed: 136.964445\n",
      "DEBUG:root:Evalaton loss:0.730141, Acc:0.714939, elapsed: 17.032471\n",
      "DEBUG:root:Epoch: 4/100, Training Loss:0.712110, Acc:0.729287, elapsed: 136.766222\n",
      "DEBUG:root:Evalaton loss:0.736456, Acc:0.714939, elapsed: 17.009654\n",
      "DEBUG:root:Epoch: 5/100, Training Loss:0.711745, Acc:0.729408, elapsed: 136.492179\n",
      "DEBUG:root:Evalaton loss:0.743232, Acc:0.714939, elapsed: 17.088737\n",
      "DEBUG:root:No Improve more than 5 epochs, Exit Training! Best accuracy: 0.714939\n",
      "DEBUG:root:Loading data lines...\n",
      "DEBUG:root:656 Lines Loaded!\n",
      "INFO:root:Initializing Class TextClassifier...\n"
     ]
    },
    {
     "name": "stdout",
     "output_type": "stream",
     "text": [
      "output/models/阴道流血_20220906161215_7149.pth\n"
     ]
    },
    {
     "name": "stderr",
     "output_type": "stream",
     "text": [
      "DEBUG:root:Loading Model output/models/阴道流血_20220906161215_7149.pth\n",
      "INFO:root:TextClassifier Using Device: CUDA\n",
      "INFO:root:TextClassifier Loading Data...\n",
      "DEBUG:root:Using Text Pair? -> Yes\n",
      "DEBUG:root:Data For Predicting\n",
      "DEBUG:root:Loading data lines...\n",
      "DEBUG:root:158 Lines Loaded!\n",
      "INFO:root:Initializing Class TextClassifier...\n"
     ]
    },
    {
     "name": "stdout",
     "output_type": "stream",
     "text": [
      "best accuracy: 0.7149390243902439\n",
      "{0: '0', 1: '1', 2: '2'}\n"
     ]
    },
    {
     "name": "stderr",
     "output_type": "stream",
     "text": [
      "DEBUG:root:Loading Model output/models/阴道流血_20220906161215_7149.pth\n",
      "INFO:root:TextClassifier Using Device: CUDA\n",
      "INFO:root:TextClassifier Loading Data...\n",
      "DEBUG:root:Using Text Pair? -> Yes\n",
      "DEBUG:root:Data For Predicting\n",
      "DEBUG:root:Loading data lines...\n",
      "DEBUG:root:2766 Lines Loaded!\n",
      "DEBUG:root:Loading data lines...\n",
      "DEBUG:root:656 Lines Loaded!\n",
      "INFO:root:Initializing Class TextClassifier...\n"
     ]
    },
    {
     "name": "stdout",
     "output_type": "stream",
     "text": [
      "best accuracy: 0.4729166666666667\n",
      "{0: '0', 1: '1', 2: '2'}\n"
     ]
    },
    {
     "name": "stderr",
     "output_type": "stream",
     "text": [
      "Some weights of the model checkpoint at ../BertModels/medical-roberta-wwm were not used when initializing BertModel: ['cls.predictions.decoder.bias', 'cls.predictions.transform.dense.weight', 'cls.predictions.decoder.weight', 'cls.predictions.bias', 'cls.predictions.transform.LayerNorm.bias', 'cls.predictions.transform.dense.bias', 'cls.predictions.transform.LayerNorm.weight']\n",
      "- This IS expected if you are initializing BertModel from the checkpoint of a model trained on another task or with another architecture (e.g. initializing a BertForSequenceClassification model from a BertForPreTraining model).\n",
      "- This IS NOT expected if you are initializing BertModel from the checkpoint of a model that you expect to be exactly identical (initializing a BertForSequenceClassification model from a BertForSequenceClassification model).\n",
      "Some weights of BertModel were not initialized from the model checkpoint at ../BertModels/medical-roberta-wwm and are newly initialized: ['bert.pooler.dense.weight', 'bert.pooler.dense.bias']\n",
      "You should probably TRAIN this model on a down-stream task to be able to use it for predictions and inference.\n",
      "DEBUG:root:Initializing Model BertTextClassfication\n",
      "INFO:root:TextClassifier Using Device: CUDA\n",
      "INFO:root:TextClassifier Loading Data...\n",
      "DEBUG:root:Using Text Pair? -> Yes\n",
      "DEBUG:root:Start Model Traning....\n",
      "DEBUG:root:Epoch: 0/100, Training Loss:0.437029, Acc:0.842606, elapsed: 136.212117\n",
      "DEBUG:root:Evalaton loss:0.343953, Acc:0.888720, elapsed: 17.028967\n",
      "DEBUG:root:Saving Model: output/models/排尿改变_20220906162812_8887.pth\n",
      "DEBUG:root:Epoch: 1/100, Training Loss:0.645564, Acc:0.785645, elapsed: 135.443132\n",
      "DEBUG:root:Evalaton loss:0.763424, Acc:0.728659, elapsed: 18.227748\n",
      "DEBUG:root:Epoch: 2/100, Training Loss:0.819280, Acc:0.710019, elapsed: 138.386758\n",
      "DEBUG:root:Evalaton loss:0.822943, Acc:0.728659, elapsed: 17.054071\n",
      "DEBUG:root:Epoch: 3/100, Training Loss:0.817108, Acc:0.710019, elapsed: 136.761154\n",
      "DEBUG:root:Evalaton loss:0.767125, Acc:0.728659, elapsed: 16.847443\n",
      "DEBUG:root:Epoch: 4/100, Training Loss:0.814658, Acc:0.710140, elapsed: 136.193218\n",
      "DEBUG:root:Evalaton loss:0.774247, Acc:0.728659, elapsed: 18.112447\n",
      "DEBUG:root:Epoch: 5/100, Training Loss:0.808424, Acc:0.710019, elapsed: 136.407818\n",
      "DEBUG:root:Evalaton loss:0.771891, Acc:0.728659, elapsed: 18.167878\n",
      "DEBUG:root:No Improve more than 5 epochs, Exit Training! Best accuracy: 0.888720\n",
      "DEBUG:root:Loading data lines...\n",
      "DEBUG:root:656 Lines Loaded!\n",
      "INFO:root:Initializing Class TextClassifier...\n"
     ]
    },
    {
     "name": "stdout",
     "output_type": "stream",
     "text": [
      "output/models/排尿改变_20220906162812_8887.pth\n"
     ]
    },
    {
     "name": "stderr",
     "output_type": "stream",
     "text": [
      "DEBUG:root:Loading Model output/models/排尿改变_20220906162812_8887.pth\n",
      "INFO:root:TextClassifier Using Device: CUDA\n",
      "INFO:root:TextClassifier Loading Data...\n",
      "DEBUG:root:Using Text Pair? -> Yes\n",
      "DEBUG:root:Data For Predicting\n",
      "DEBUG:root:Loading data lines...\n",
      "DEBUG:root:158 Lines Loaded!\n",
      "INFO:root:Initializing Class TextClassifier...\n"
     ]
    },
    {
     "name": "stdout",
     "output_type": "stream",
     "text": [
      "best accuracy: 0.8887195121951219\n",
      "{0: '0', 1: '1', 2: '2'}\n"
     ]
    },
    {
     "name": "stderr",
     "output_type": "stream",
     "text": [
      "DEBUG:root:Loading Model output/models/排尿改变_20220906162812_8887.pth\n",
      "INFO:root:TextClassifier Using Device: CUDA\n",
      "INFO:root:TextClassifier Loading Data...\n",
      "DEBUG:root:Using Text Pair? -> Yes\n",
      "DEBUG:root:Data For Predicting\n",
      "DEBUG:root:Loading data lines...\n",
      "DEBUG:root:2766 Lines Loaded!\n",
      "DEBUG:root:Loading data lines...\n",
      "DEBUG:root:656 Lines Loaded!\n",
      "INFO:root:Initializing Class TextClassifier...\n"
     ]
    },
    {
     "name": "stdout",
     "output_type": "stream",
     "text": [
      "best accuracy: 0.6166666666666667\n",
      "{0: '0', 1: '1', 2: '2'}\n"
     ]
    },
    {
     "name": "stderr",
     "output_type": "stream",
     "text": [
      "Some weights of the model checkpoint at ../BertModels/medical-roberta-wwm were not used when initializing BertModel: ['cls.predictions.decoder.bias', 'cls.predictions.transform.dense.weight', 'cls.predictions.decoder.weight', 'cls.predictions.bias', 'cls.predictions.transform.LayerNorm.bias', 'cls.predictions.transform.dense.bias', 'cls.predictions.transform.LayerNorm.weight']\n",
      "- This IS expected if you are initializing BertModel from the checkpoint of a model trained on another task or with another architecture (e.g. initializing a BertForSequenceClassification model from a BertForPreTraining model).\n",
      "- This IS NOT expected if you are initializing BertModel from the checkpoint of a model that you expect to be exactly identical (initializing a BertForSequenceClassification model from a BertForSequenceClassification model).\n",
      "Some weights of BertModel were not initialized from the model checkpoint at ../BertModels/medical-roberta-wwm and are newly initialized: ['bert.pooler.dense.weight', 'bert.pooler.dense.bias']\n",
      "You should probably TRAIN this model on a down-stream task to be able to use it for predictions and inference.\n",
      "DEBUG:root:Initializing Model BertTextClassfication\n",
      "INFO:root:TextClassifier Using Device: CUDA\n",
      "INFO:root:TextClassifier Loading Data...\n",
      "DEBUG:root:Using Text Pair? -> Yes\n",
      "DEBUG:root:Start Model Traning....\n",
      "DEBUG:root:Epoch: 0/100, Training Loss:0.423289, Acc:0.865005, elapsed: 135.412350\n",
      "DEBUG:root:Evalaton loss:0.416329, Acc:0.859756, elapsed: 16.978043\n",
      "DEBUG:root:Saving Model: output/models/放射痛（侧腹、腹股沟、睾丸或大阴唇）_20220906164413_8597.pth\n",
      "DEBUG:root:Epoch: 1/100, Training Loss:0.417577, Acc:0.866691, elapsed: 135.348966\n",
      "DEBUG:root:Evalaton loss:0.419135, Acc:0.859756, elapsed: 16.955969\n",
      "DEBUG:root:Epoch: 2/100, Training Loss:0.416469, Acc:0.866570, elapsed: 136.450069\n",
      "DEBUG:root:Evalaton loss:0.417747, Acc:0.859756, elapsed: 16.957910\n",
      "DEBUG:root:Epoch: 3/100, Training Loss:0.412799, Acc:0.866570, elapsed: 135.835862\n",
      "DEBUG:root:Evalaton loss:0.428809, Acc:0.859756, elapsed: 16.758429\n",
      "DEBUG:root:Epoch: 4/100, Training Loss:0.410018, Acc:0.866691, elapsed: 135.815969\n",
      "DEBUG:root:Evalaton loss:0.418810, Acc:0.859756, elapsed: 17.061164\n",
      "DEBUG:root:Epoch: 5/100, Training Loss:0.409004, Acc:0.866691, elapsed: 135.483818\n",
      "DEBUG:root:Evalaton loss:0.426458, Acc:0.859756, elapsed: 16.891052\n",
      "DEBUG:root:No Improve more than 5 epochs, Exit Training! Best accuracy: 0.859756\n",
      "DEBUG:root:Loading data lines...\n",
      "DEBUG:root:656 Lines Loaded!\n",
      "INFO:root:Initializing Class TextClassifier...\n"
     ]
    },
    {
     "name": "stdout",
     "output_type": "stream",
     "text": [
      "output/models/放射痛（侧腹、腹股沟、睾丸或大阴唇）_20220906164413_8597.pth\n"
     ]
    },
    {
     "name": "stderr",
     "output_type": "stream",
     "text": [
      "DEBUG:root:Loading Model output/models/放射痛（侧腹、腹股沟、睾丸或大阴唇）_20220906164413_8597.pth\n",
      "INFO:root:TextClassifier Using Device: CUDA\n",
      "INFO:root:TextClassifier Loading Data...\n",
      "DEBUG:root:Using Text Pair? -> Yes\n",
      "DEBUG:root:Data For Predicting\n",
      "DEBUG:root:Loading data lines...\n",
      "DEBUG:root:158 Lines Loaded!\n",
      "INFO:root:Initializing Class TextClassifier...\n"
     ]
    },
    {
     "name": "stdout",
     "output_type": "stream",
     "text": [
      "best accuracy: 0.8597560975609756\n",
      "{0: '0', 1: '1', 2: '2'}\n"
     ]
    },
    {
     "name": "stderr",
     "output_type": "stream",
     "text": [
      "DEBUG:root:Loading Model output/models/放射痛（侧腹、腹股沟、睾丸或大阴唇）_20220906164413_8597.pth\n",
      "INFO:root:TextClassifier Using Device: CUDA\n",
      "INFO:root:TextClassifier Loading Data...\n",
      "DEBUG:root:Using Text Pair? -> Yes\n",
      "DEBUG:root:Data For Predicting\n",
      "DEBUG:root:Loading data lines...\n",
      "DEBUG:root:2766 Lines Loaded!\n",
      "DEBUG:root:Loading data lines...\n",
      "DEBUG:root:656 Lines Loaded!\n",
      "INFO:root:Initializing Class TextClassifier...\n"
     ]
    },
    {
     "name": "stdout",
     "output_type": "stream",
     "text": [
      "best accuracy: 0.8875\n",
      "{0: '0', 1: '1', 2: '2'}\n"
     ]
    },
    {
     "name": "stderr",
     "output_type": "stream",
     "text": [
      "Some weights of the model checkpoint at ../BertModels/medical-roberta-wwm were not used when initializing BertModel: ['cls.predictions.decoder.bias', 'cls.predictions.transform.dense.weight', 'cls.predictions.decoder.weight', 'cls.predictions.bias', 'cls.predictions.transform.LayerNorm.bias', 'cls.predictions.transform.dense.bias', 'cls.predictions.transform.LayerNorm.weight']\n",
      "- This IS expected if you are initializing BertModel from the checkpoint of a model trained on another task or with another architecture (e.g. initializing a BertForSequenceClassification model from a BertForPreTraining model).\n",
      "- This IS NOT expected if you are initializing BertModel from the checkpoint of a model that you expect to be exactly identical (initializing a BertForSequenceClassification model from a BertForSequenceClassification model).\n",
      "Some weights of BertModel were not initialized from the model checkpoint at ../BertModels/medical-roberta-wwm and are newly initialized: ['bert.pooler.dense.weight', 'bert.pooler.dense.bias']\n",
      "You should probably TRAIN this model on a down-stream task to be able to use it for predictions and inference.\n",
      "DEBUG:root:Initializing Model BertTextClassfication\n",
      "INFO:root:TextClassifier Using Device: CUDA\n",
      "INFO:root:TextClassifier Loading Data...\n",
      "DEBUG:root:Using Text Pair? -> Yes\n",
      "DEBUG:root:Start Model Traning....\n",
      "DEBUG:root:Epoch: 0/100, Training Loss:0.427869, Acc:0.894870, elapsed: 134.756335\n",
      "DEBUG:root:Evalaton loss:0.406953, Acc:0.899390, elapsed: 16.702679\n",
      "DEBUG:root:Saving Model: output/models/腰_侧腹痛_20220906170002_8993.pth\n",
      "DEBUG:root:Epoch: 1/100, Training Loss:0.416402, Acc:0.897278, elapsed: 135.664296\n",
      "DEBUG:root:Evalaton loss:0.403174, Acc:0.899390, elapsed: 17.144719\n",
      "DEBUG:root:Epoch: 2/100, Training Loss:0.419026, Acc:0.897399, elapsed: 137.804669\n",
      "DEBUG:root:Evalaton loss:0.405388, Acc:0.899390, elapsed: 17.536117\n",
      "DEBUG:root:Epoch: 3/100, Training Loss:0.414588, Acc:0.897399, elapsed: 141.655995\n",
      "DEBUG:root:Evalaton loss:0.397717, Acc:0.899390, elapsed: 17.173758\n",
      "DEBUG:root:Epoch: 4/100, Training Loss:0.407776, Acc:0.897399, elapsed: 136.091016\n",
      "DEBUG:root:Evalaton loss:0.400520, Acc:0.899390, elapsed: 17.046951\n",
      "DEBUG:root:Epoch: 5/100, Training Loss:0.409193, Acc:0.897278, elapsed: 137.306438\n",
      "DEBUG:root:Evalaton loss:0.398454, Acc:0.899390, elapsed: 17.339746\n",
      "DEBUG:root:No Improve more than 5 epochs, Exit Training! Best accuracy: 0.899390\n",
      "DEBUG:root:Loading data lines...\n",
      "DEBUG:root:656 Lines Loaded!\n",
      "INFO:root:Initializing Class TextClassifier...\n"
     ]
    },
    {
     "name": "stdout",
     "output_type": "stream",
     "text": [
      "output/models/腰_侧腹痛_20220906170002_8993.pth\n"
     ]
    },
    {
     "name": "stderr",
     "output_type": "stream",
     "text": [
      "DEBUG:root:Loading Model output/models/腰_侧腹痛_20220906170002_8993.pth\n",
      "INFO:root:TextClassifier Using Device: CUDA\n",
      "INFO:root:TextClassifier Loading Data...\n",
      "DEBUG:root:Using Text Pair? -> Yes\n",
      "DEBUG:root:Data For Predicting\n",
      "DEBUG:root:Loading data lines...\n",
      "DEBUG:root:158 Lines Loaded!\n",
      "INFO:root:Initializing Class TextClassifier...\n"
     ]
    },
    {
     "name": "stdout",
     "output_type": "stream",
     "text": [
      "best accuracy: 0.899390243902439\n",
      "{0: '0', 1: '1', 2: '2'}\n"
     ]
    },
    {
     "name": "stderr",
     "output_type": "stream",
     "text": [
      "DEBUG:root:Loading Model output/models/腰_侧腹痛_20220906170002_8993.pth\n",
      "INFO:root:TextClassifier Using Device: CUDA\n",
      "INFO:root:TextClassifier Loading Data...\n",
      "DEBUG:root:Using Text Pair? -> Yes\n",
      "DEBUG:root:Data For Predicting\n"
     ]
    },
    {
     "name": "stdout",
     "output_type": "stream",
     "text": [
      "best accuracy: 0.76875\n",
      "{0: '0', 1: '1', 2: '2'}\n"
     ]
    }
   ],
   "source": [
    "out_folder = r'output_预训练_句子对'\n",
    "mdl_folder = os.path.join(out_folder, 'models')\n",
    "dat_folder = os.path.join(out_folder, 'data')\n",
    "for col, name in zip(list(range(3, 24)), \n",
    "             ['放射痛（右肩、肩胛和背部）', '上腹痛', '厌食', '腹泻', '盆腔疼痛', '迅速波及全腹', \\\n",
    "             '黑便', '右下腹疼痛', '转移性右下腹疼痛', '中腹痛', '右上腹痛', '放射痛（放射到同侧半腹或背部）', \\\n",
    "             '持续性腹痛', '仰卧加重，坐位缓解', '阵发性疼痛', '剧烈腹痛', '停止排便排气', '阴道流血', '排尿改变', \\\n",
    "             '放射痛（侧腹、腹股沟、睾丸或大阴唇）', '腰_侧腹痛']):\n",
    "    best_mdl_path = train(train_file_path=r'data\\训练集_现病史_模型.txt', val_file_path=r'data\\测试集_现病史_模型.txt', num_fields=24, \n",
    "          text_field=2, label_field=col, feature_name=name, log_file=os.path.join(dat_folder, 'run_log.txt'), skip_title=True, \n",
    "                          using_text_pair=True)\n",
    "#     best_mdl_path = os.path.join(mdl_folder, find_best_mdl(mdl_folder, name))\n",
    "    print(best_mdl_path)\n",
    "    predict(best_mdl_path, predict_file_path=r'data\\测试集_现病史_模型.txt', result_file_path=os.path.join(dat_folder, '%s_现病史_测试集结果.txt' % name), \n",
    "            log_file_path=os.path.join(dat_folder, 'stat_result.txt'), num_fields=24, text_field=2, label_field=col, feature_name=name, skip_title=True)\n",
    "    predict(best_mdl_path, predict_file_path=r'data\\人机_现病史_模型.txt', result_file_path=os.path.join(dat_folder, '%s_现病史_测试集结果.txt' % name), \n",
    "            log_file_path=os.path.join(dat_folder, 'stat_result.txt'), num_fields=24, text_field=2, label_field=col, feature_name=name, skip_title=True)"
   ]
  },
  {
   "cell_type": "code",
   "execution_count": null,
   "id": "8aa1c895",
   "metadata": {},
   "outputs": [],
   "source": [
    "stat_train_total_ct(r'data\\训练集_现病史_模型.txt', list(range(3, 24)), ['放射痛（右肩、肩胛和背部）', '上腹痛', '厌食', '腹泻', '盆腔疼痛', '迅速波及全腹', '黑便', '右下腹疼痛', \\\n",
    "             '转移性右下腹疼痛', '中腹痛', '右上腹痛', '放射痛（放射到同侧半腹或背部）', '持续性腹痛', '仰卧加重，坐位缓解', \\\n",
    "             '阵发性疼痛', '剧烈腹痛', '停止排便排气', '阴道流血', '排尿改变', '放射痛（侧腹、腹股沟、睾丸或大阴唇）', '腰_侧腹痛']) "
   ]
  },
  {
   "cell_type": "markdown",
   "id": "1724126a",
   "metadata": {},
   "source": [
    "### 既往史"
   ]
  },
  {
   "cell_type": "code",
   "execution_count": 4,
   "id": "1f17222d",
   "metadata": {
    "scrolled": true
   },
   "outputs": [
    {
     "name": "stderr",
     "output_type": "stream",
     "text": [
      "DEBUG:root:Loading data lines...\n",
      "DEBUG:root:2766 Lines Loaded!\n",
      "DEBUG:root:Loading data lines...\n",
      "DEBUG:root:656 Lines Loaded!\n",
      "INFO:root:Initializing Class TextClassifier...\n",
      "Some weights of the model checkpoint at ../BertModels/medical-roberta-wwm were not used when initializing BertModel: ['cls.predictions.transform.LayerNorm.bias', 'cls.predictions.decoder.bias', 'cls.predictions.transform.dense.weight', 'cls.predictions.transform.dense.bias', 'cls.predictions.bias', 'cls.predictions.transform.LayerNorm.weight', 'cls.predictions.decoder.weight']\n",
      "- This IS expected if you are initializing BertModel from the checkpoint of a model trained on another task or with another architecture (e.g. initializing a BertForSequenceClassification model from a BertForPreTraining model).\n",
      "- This IS NOT expected if you are initializing BertModel from the checkpoint of a model that you expect to be exactly identical (initializing a BertForSequenceClassification model from a BertForSequenceClassification model).\n",
      "Some weights of BertModel were not initialized from the model checkpoint at ../BertModels/medical-roberta-wwm and are newly initialized: ['bert.pooler.dense.weight', 'bert.pooler.dense.bias']\n",
      "You should probably TRAIN this model on a down-stream task to be able to use it for predictions and inference.\n",
      "DEBUG:root:Initializing Model BertTextClassfication\n",
      "INFO:root:TextClassifier Using Device: CUDA\n",
      "INFO:root:TextClassifier Loading Data...\n",
      "DEBUG:root:No\n",
      "DEBUG:root:Start Model Traning....\n",
      "DEBUG:root:Epoch: 0/100, Training Loss:0.282452, Acc:0.890535, elapsed: 134.476465\n",
      "DEBUG:root:Evalaton loss:0.247656, Acc:0.926829, elapsed: 14.111045\n",
      "DEBUG:root:Saving Model: output/models/腹部手术史_20220904051805_9268.pth\n",
      "DEBUG:root:Epoch: 1/100, Training Loss:0.223805, Acc:0.929793, elapsed: 134.274853\n",
      "DEBUG:root:Evalaton loss:0.191952, Acc:0.932927, elapsed: 14.068078\n",
      "DEBUG:root:Saving Model: output/models/腹部手术史_20220904052034_9329.pth\n",
      "DEBUG:root:Epoch: 2/100, Training Loss:0.637194, Acc:0.684610, elapsed: 134.274992\n",
      "DEBUG:root:Evalaton loss:0.646449, Acc:0.685976, elapsed: 14.244297\n",
      "DEBUG:root:Epoch: 3/100, Training Loss:0.500488, Acc:0.768425, elapsed: 134.313676\n",
      "DEBUG:root:Evalaton loss:0.241814, Acc:0.920732, elapsed: 14.247718\n",
      "DEBUG:root:Epoch: 4/100, Training Loss:0.264275, Acc:0.895231, elapsed: 134.483766\n",
      "DEBUG:root:Evalaton loss:0.226785, Acc:0.911585, elapsed: 14.082971\n",
      "DEBUG:root:Epoch: 5/100, Training Loss:0.227168, Acc:0.914740, elapsed: 134.500343\n",
      "DEBUG:root:Evalaton loss:0.674284, Acc:0.685976, elapsed: 14.042735\n",
      "DEBUG:root:Epoch: 6/100, Training Loss:0.626218, Acc:0.689186, elapsed: 134.492589\n",
      "DEBUG:root:Evalaton loss:0.589278, Acc:0.685976, elapsed: 14.051912\n",
      "DEBUG:root:No Improve more than 5 epochs, Exit Training! Best accuracy: 0.932927\n",
      "DEBUG:root:Loading data lines...\n",
      "DEBUG:root:656 Lines Loaded!\n",
      "INFO:root:Initializing Class TextClassifier...\n"
     ]
    },
    {
     "name": "stdout",
     "output_type": "stream",
     "text": [
      "output/models/腹部手术史_20220904052034_9329.pth\n"
     ]
    },
    {
     "name": "stderr",
     "output_type": "stream",
     "text": [
      "DEBUG:root:Loading Model output/models/腹部手术史_20220904052034_9329.pth\n",
      "INFO:root:TextClassifier Using Device: CUDA\n",
      "INFO:root:TextClassifier Loading Data...\n",
      "DEBUG:root:Using Text Pair? -> Yes\n",
      "DEBUG:root:Data For Predicting\n",
      "DEBUG:root:Loading data lines...\n",
      "DEBUG:root:151 Lines Loaded!\n",
      "INFO:root:Initializing Class TextClassifier...\n"
     ]
    },
    {
     "name": "stdout",
     "output_type": "stream",
     "text": [
      "best accuracy: 0.31402439024390244\n",
      "{0: '0', 1: '1', 2: '2'}\n"
     ]
    },
    {
     "name": "stderr",
     "output_type": "stream",
     "text": [
      "DEBUG:root:Loading Model output/models/腹部手术史_20220904052034_9329.pth\n",
      "INFO:root:TextClassifier Using Device: CUDA\n",
      "INFO:root:TextClassifier Loading Data...\n",
      "DEBUG:root:Using Text Pair? -> Yes\n",
      "DEBUG:root:Data For Predicting\n",
      "DEBUG:root:Loading data lines...\n",
      "DEBUG:root:2766 Lines Loaded!\n",
      "DEBUG:root:Loading data lines...\n",
      "DEBUG:root:656 Lines Loaded!\n",
      "INFO:root:Initializing Class TextClassifier...\n"
     ]
    },
    {
     "name": "stdout",
     "output_type": "stream",
     "text": [
      "best accuracy: 0.27631578947368424\n",
      "{0: '0', 1: '1', 2: '2'}\n"
     ]
    },
    {
     "name": "stderr",
     "output_type": "stream",
     "text": [
      "Some weights of the model checkpoint at ../BertModels/medical-roberta-wwm were not used when initializing BertModel: ['cls.predictions.transform.LayerNorm.bias', 'cls.predictions.decoder.bias', 'cls.predictions.transform.dense.weight', 'cls.predictions.transform.dense.bias', 'cls.predictions.bias', 'cls.predictions.transform.LayerNorm.weight', 'cls.predictions.decoder.weight']\n",
      "- This IS expected if you are initializing BertModel from the checkpoint of a model trained on another task or with another architecture (e.g. initializing a BertForSequenceClassification model from a BertForPreTraining model).\n",
      "- This IS NOT expected if you are initializing BertModel from the checkpoint of a model that you expect to be exactly identical (initializing a BertForSequenceClassification model from a BertForSequenceClassification model).\n",
      "Some weights of BertModel were not initialized from the model checkpoint at ../BertModels/medical-roberta-wwm and are newly initialized: ['bert.pooler.dense.weight', 'bert.pooler.dense.bias']\n",
      "You should probably TRAIN this model on a down-stream task to be able to use it for predictions and inference.\n",
      "DEBUG:root:Initializing Model BertTextClassfication\n",
      "INFO:root:TextClassifier Using Device: CUDA\n",
      "INFO:root:TextClassifier Loading Data...\n",
      "DEBUG:root:No\n",
      "DEBUG:root:Start Model Traning....\n",
      "DEBUG:root:Epoch: 0/100, Training Loss:0.043579, Acc:0.991932, elapsed: 134.269316\n",
      "DEBUG:root:Evalaton loss:0.011822, Acc:0.998476, elapsed: 14.122313\n",
      "DEBUG:root:Saving Model: output/models/自身免疫性疾病_20220904053558_9984.pth\n",
      "DEBUG:root:Epoch: 1/100, Training Loss:0.035394, Acc:0.994942, elapsed: 134.286652\n",
      "DEBUG:root:Evalaton loss:0.013595, Acc:0.998476, elapsed: 14.264977\n",
      "DEBUG:root:Epoch: 2/100, Training Loss:0.035641, Acc:0.994822, elapsed: 134.303226\n",
      "DEBUG:root:Evalaton loss:0.018820, Acc:0.998476, elapsed: 14.054906\n",
      "DEBUG:root:Epoch: 3/100, Training Loss:0.034442, Acc:0.994942, elapsed: 134.302642\n",
      "DEBUG:root:Evalaton loss:0.014210, Acc:0.998476, elapsed: 14.057362\n",
      "DEBUG:root:Epoch: 4/100, Training Loss:0.034846, Acc:0.994942, elapsed: 134.276042\n",
      "DEBUG:root:Evalaton loss:0.013257, Acc:0.998476, elapsed: 14.068193\n",
      "DEBUG:root:Epoch: 5/100, Training Loss:0.033971, Acc:0.994942, elapsed: 134.661107\n",
      "DEBUG:root:Evalaton loss:0.012373, Acc:0.998476, elapsed: 14.097582\n",
      "DEBUG:root:No Improve more than 5 epochs, Exit Training! Best accuracy: 0.998476\n",
      "DEBUG:root:Loading data lines...\n",
      "DEBUG:root:656 Lines Loaded!\n",
      "INFO:root:Initializing Class TextClassifier...\n"
     ]
    },
    {
     "name": "stdout",
     "output_type": "stream",
     "text": [
      "output/models/自身免疫性疾病_20220904053558_9984.pth\n"
     ]
    },
    {
     "name": "stderr",
     "output_type": "stream",
     "text": [
      "DEBUG:root:Loading Model output/models/自身免疫性疾病_20220904053558_9984.pth\n",
      "INFO:root:TextClassifier Using Device: CUDA\n",
      "INFO:root:TextClassifier Loading Data...\n",
      "DEBUG:root:Using Text Pair? -> Yes\n",
      "DEBUG:root:Data For Predicting\n",
      "DEBUG:root:Loading data lines...\n",
      "DEBUG:root:151 Lines Loaded!\n",
      "INFO:root:Initializing Class TextClassifier...\n"
     ]
    },
    {
     "name": "stdout",
     "output_type": "stream",
     "text": [
      "best accuracy: 0.9984756097560976\n",
      "{0: '0', 1: '1', 2: '2'}\n"
     ]
    },
    {
     "name": "stderr",
     "output_type": "stream",
     "text": [
      "DEBUG:root:Loading Model output/models/自身免疫性疾病_20220904053558_9984.pth\n",
      "INFO:root:TextClassifier Using Device: CUDA\n",
      "INFO:root:TextClassifier Loading Data...\n",
      "DEBUG:root:Using Text Pair? -> Yes\n",
      "DEBUG:root:Data For Predicting\n",
      "DEBUG:root:Loading data lines...\n",
      "DEBUG:root:2766 Lines Loaded!\n",
      "DEBUG:root:Loading data lines...\n",
      "DEBUG:root:656 Lines Loaded!\n",
      "INFO:root:Initializing Class TextClassifier...\n"
     ]
    },
    {
     "name": "stdout",
     "output_type": "stream",
     "text": [
      "best accuracy: 1.0\n",
      "{0: '0', 1: '1', 2: '2'}\n"
     ]
    },
    {
     "name": "stderr",
     "output_type": "stream",
     "text": [
      "Some weights of the model checkpoint at ../BertModels/medical-roberta-wwm were not used when initializing BertModel: ['cls.predictions.transform.LayerNorm.bias', 'cls.predictions.decoder.bias', 'cls.predictions.transform.dense.weight', 'cls.predictions.transform.dense.bias', 'cls.predictions.bias', 'cls.predictions.transform.LayerNorm.weight', 'cls.predictions.decoder.weight']\n",
      "- This IS expected if you are initializing BertModel from the checkpoint of a model trained on another task or with another architecture (e.g. initializing a BertForSequenceClassification model from a BertForPreTraining model).\n",
      "- This IS NOT expected if you are initializing BertModel from the checkpoint of a model that you expect to be exactly identical (initializing a BertForSequenceClassification model from a BertForSequenceClassification model).\n",
      "Some weights of BertModel were not initialized from the model checkpoint at ../BertModels/medical-roberta-wwm and are newly initialized: ['bert.pooler.dense.weight', 'bert.pooler.dense.bias']\n",
      "You should probably TRAIN this model on a down-stream task to be able to use it for predictions and inference.\n",
      "DEBUG:root:Initializing Model BertTextClassfication\n",
      "INFO:root:TextClassifier Using Device: CUDA\n",
      "INFO:root:TextClassifier Loading Data...\n",
      "DEBUG:root:No\n",
      "DEBUG:root:Start Model Traning....\n",
      "DEBUG:root:Epoch: 0/100, Training Loss:0.023725, Acc:0.994942, elapsed: 134.392080\n",
      "DEBUG:root:Evalaton loss:0.022777, Acc:0.996951, elapsed: 14.101974\n",
      "DEBUG:root:Saving Model: output/models/胰腺肿瘤、囊肿病史_20220904055122_9969.pth\n",
      "DEBUG:root:Epoch: 1/100, Training Loss:0.016801, Acc:0.997832, elapsed: 134.418968\n",
      "DEBUG:root:Evalaton loss:0.022386, Acc:0.996951, elapsed: 14.268482\n",
      "DEBUG:root:Epoch: 2/100, Training Loss:0.016864, Acc:0.997832, elapsed: 134.293474\n",
      "DEBUG:root:Evalaton loss:0.022467, Acc:0.996951, elapsed: 14.073033\n",
      "DEBUG:root:Epoch: 3/100, Training Loss:0.017276, Acc:0.997832, elapsed: 134.471956\n",
      "DEBUG:root:Evalaton loss:0.022281, Acc:0.996951, elapsed: 14.067027\n",
      "DEBUG:root:Epoch: 4/100, Training Loss:0.017213, Acc:0.997832, elapsed: 134.277027\n",
      "DEBUG:root:Evalaton loss:0.021462, Acc:0.996951, elapsed: 14.088408\n",
      "DEBUG:root:Epoch: 5/100, Training Loss:0.016709, Acc:0.997832, elapsed: 134.256304\n",
      "DEBUG:root:Evalaton loss:0.021609, Acc:0.996951, elapsed: 14.080254\n",
      "DEBUG:root:No Improve more than 5 epochs, Exit Training! Best accuracy: 0.996951\n",
      "DEBUG:root:Loading data lines...\n",
      "DEBUG:root:656 Lines Loaded!\n",
      "INFO:root:Initializing Class TextClassifier...\n"
     ]
    },
    {
     "name": "stdout",
     "output_type": "stream",
     "text": [
      "output/models/胰腺肿瘤、囊肿病史_20220904055122_9969.pth\n"
     ]
    },
    {
     "name": "stderr",
     "output_type": "stream",
     "text": [
      "DEBUG:root:Loading Model output/models/胰腺肿瘤、囊肿病史_20220904055122_9969.pth\n",
      "INFO:root:TextClassifier Using Device: CUDA\n",
      "INFO:root:TextClassifier Loading Data...\n",
      "DEBUG:root:Using Text Pair? -> Yes\n",
      "DEBUG:root:Data For Predicting\n",
      "DEBUG:root:Loading data lines...\n",
      "DEBUG:root:151 Lines Loaded!\n",
      "INFO:root:Initializing Class TextClassifier...\n"
     ]
    },
    {
     "name": "stdout",
     "output_type": "stream",
     "text": [
      "best accuracy: 0.9969512195121951\n",
      "{0: '0', 1: '1', 2: '2'}\n"
     ]
    },
    {
     "name": "stderr",
     "output_type": "stream",
     "text": [
      "DEBUG:root:Loading Model output/models/胰腺肿瘤、囊肿病史_20220904055122_9969.pth\n",
      "INFO:root:TextClassifier Using Device: CUDA\n",
      "INFO:root:TextClassifier Loading Data...\n",
      "DEBUG:root:Using Text Pair? -> Yes\n",
      "DEBUG:root:Data For Predicting\n",
      "DEBUG:root:Loading data lines...\n",
      "DEBUG:root:2766 Lines Loaded!\n",
      "DEBUG:root:Loading data lines...\n",
      "DEBUG:root:656 Lines Loaded!\n",
      "INFO:root:Initializing Class TextClassifier...\n"
     ]
    },
    {
     "name": "stdout",
     "output_type": "stream",
     "text": [
      "best accuracy: 1.0\n",
      "{0: '0', 1: '1', 2: '2'}\n"
     ]
    },
    {
     "name": "stderr",
     "output_type": "stream",
     "text": [
      "Some weights of the model checkpoint at ../BertModels/medical-roberta-wwm were not used when initializing BertModel: ['cls.predictions.transform.LayerNorm.bias', 'cls.predictions.decoder.bias', 'cls.predictions.transform.dense.weight', 'cls.predictions.transform.dense.bias', 'cls.predictions.bias', 'cls.predictions.transform.LayerNorm.weight', 'cls.predictions.decoder.weight']\n",
      "- This IS expected if you are initializing BertModel from the checkpoint of a model trained on another task or with another architecture (e.g. initializing a BertForSequenceClassification model from a BertForPreTraining model).\n",
      "- This IS NOT expected if you are initializing BertModel from the checkpoint of a model that you expect to be exactly identical (initializing a BertForSequenceClassification model from a BertForSequenceClassification model).\n",
      "Some weights of BertModel were not initialized from the model checkpoint at ../BertModels/medical-roberta-wwm and are newly initialized: ['bert.pooler.dense.weight', 'bert.pooler.dense.bias']\n",
      "You should probably TRAIN this model on a down-stream task to be able to use it for predictions and inference.\n",
      "DEBUG:root:Initializing Model BertTextClassfication\n",
      "INFO:root:TextClassifier Using Device: CUDA\n",
      "INFO:root:TextClassifier Loading Data...\n",
      "DEBUG:root:No\n",
      "DEBUG:root:Start Model Traning....\n",
      "DEBUG:root:Epoch: 0/100, Training Loss:0.262542, Acc:0.933887, elapsed: 134.315341\n",
      "DEBUG:root:Evalaton loss:0.253380, Acc:0.931402, elapsed: 14.118252\n",
      "DEBUG:root:Saving Model: output/models/腹部肿瘤史_20220904060646_9314.pth\n",
      "DEBUG:root:Epoch: 1/100, Training Loss:0.249615, Acc:0.935332, elapsed: 134.295680\n",
      "DEBUG:root:Evalaton loss:0.261948, Acc:0.931402, elapsed: 14.080660\n",
      "DEBUG:root:Epoch: 2/100, Training Loss:0.246819, Acc:0.935212, elapsed: 134.448732\n",
      "DEBUG:root:Evalaton loss:0.254102, Acc:0.931402, elapsed: 14.095871\n",
      "DEBUG:root:Epoch: 3/100, Training Loss:0.250519, Acc:0.935332, elapsed: 134.281071\n",
      "DEBUG:root:Evalaton loss:0.250996, Acc:0.931402, elapsed: 14.063015\n",
      "DEBUG:root:Epoch: 4/100, Training Loss:0.245999, Acc:0.935332, elapsed: 134.472943\n",
      "DEBUG:root:Evalaton loss:0.251487, Acc:0.931402, elapsed: 14.090848\n",
      "DEBUG:root:Epoch: 5/100, Training Loss:0.243557, Acc:0.935332, elapsed: 134.274193\n",
      "DEBUG:root:Evalaton loss:0.255074, Acc:0.931402, elapsed: 14.065897\n",
      "DEBUG:root:No Improve more than 5 epochs, Exit Training! Best accuracy: 0.931402\n",
      "DEBUG:root:Loading data lines...\n",
      "DEBUG:root:656 Lines Loaded!\n",
      "INFO:root:Initializing Class TextClassifier...\n"
     ]
    },
    {
     "name": "stdout",
     "output_type": "stream",
     "text": [
      "output/models/腹部肿瘤史_20220904060646_9314.pth\n"
     ]
    },
    {
     "name": "stderr",
     "output_type": "stream",
     "text": [
      "DEBUG:root:Loading Model output/models/腹部肿瘤史_20220904060646_9314.pth\n",
      "INFO:root:TextClassifier Using Device: CUDA\n",
      "INFO:root:TextClassifier Loading Data...\n",
      "DEBUG:root:Using Text Pair? -> Yes\n",
      "DEBUG:root:Data For Predicting\n",
      "DEBUG:root:Loading data lines...\n",
      "DEBUG:root:151 Lines Loaded!\n",
      "INFO:root:Initializing Class TextClassifier...\n"
     ]
    },
    {
     "name": "stdout",
     "output_type": "stream",
     "text": [
      "best accuracy: 0.9314024390243902\n",
      "{0: '0', 1: '1', 2: '2'}\n"
     ]
    },
    {
     "name": "stderr",
     "output_type": "stream",
     "text": [
      "DEBUG:root:Loading Model output/models/腹部肿瘤史_20220904060646_9314.pth\n",
      "INFO:root:TextClassifier Using Device: CUDA\n",
      "INFO:root:TextClassifier Loading Data...\n",
      "DEBUG:root:Using Text Pair? -> Yes\n",
      "DEBUG:root:Data For Predicting\n",
      "DEBUG:root:Loading data lines...\n",
      "DEBUG:root:2766 Lines Loaded!\n",
      "DEBUG:root:Loading data lines...\n",
      "DEBUG:root:656 Lines Loaded!\n",
      "INFO:root:Initializing Class TextClassifier...\n"
     ]
    },
    {
     "name": "stdout",
     "output_type": "stream",
     "text": [
      "best accuracy: 0.9539473684210527\n",
      "{0: '0', 1: '1', 2: '2'}\n"
     ]
    },
    {
     "name": "stderr",
     "output_type": "stream",
     "text": [
      "Some weights of the model checkpoint at ../BertModels/medical-roberta-wwm were not used when initializing BertModel: ['cls.predictions.transform.LayerNorm.bias', 'cls.predictions.decoder.bias', 'cls.predictions.transform.dense.weight', 'cls.predictions.transform.dense.bias', 'cls.predictions.bias', 'cls.predictions.transform.LayerNorm.weight', 'cls.predictions.decoder.weight']\n",
      "- This IS expected if you are initializing BertModel from the checkpoint of a model trained on another task or with another architecture (e.g. initializing a BertForSequenceClassification model from a BertForPreTraining model).\n",
      "- This IS NOT expected if you are initializing BertModel from the checkpoint of a model that you expect to be exactly identical (initializing a BertForSequenceClassification model from a BertForSequenceClassification model).\n",
      "Some weights of BertModel were not initialized from the model checkpoint at ../BertModels/medical-roberta-wwm and are newly initialized: ['bert.pooler.dense.weight', 'bert.pooler.dense.bias']\n",
      "You should probably TRAIN this model on a down-stream task to be able to use it for predictions and inference.\n",
      "DEBUG:root:Initializing Model BertTextClassfication\n",
      "INFO:root:TextClassifier Using Device: CUDA\n",
      "INFO:root:TextClassifier Loading Data...\n",
      "DEBUG:root:No\n",
      "DEBUG:root:Start Model Traning....\n",
      "DEBUG:root:Epoch: 0/100, Training Loss:0.008802, Acc:0.997110, elapsed: 134.329232\n",
      "DEBUG:root:Evalaton loss:0.012833, Acc:0.998476, elapsed: 13.937222\n",
      "DEBUG:root:Saving Model: output/models/既往生殖器感染_20220904062209_9984.pth\n",
      "DEBUG:root:Epoch: 1/100, Training Loss:0.004449, Acc:0.999639, elapsed: 134.367914\n",
      "DEBUG:root:Evalaton loss:0.012674, Acc:0.998476, elapsed: 14.086058\n",
      "DEBUG:root:Epoch: 2/100, Training Loss:0.004459, Acc:0.999639, elapsed: 134.455855\n",
      "DEBUG:root:Evalaton loss:0.012465, Acc:0.998476, elapsed: 14.095069\n",
      "DEBUG:root:Epoch: 3/100, Training Loss:0.003933, Acc:0.999639, elapsed: 134.263026\n",
      "DEBUG:root:Evalaton loss:0.012768, Acc:0.998476, elapsed: 14.096704\n",
      "DEBUG:root:Epoch: 4/100, Training Loss:0.004285, Acc:0.999639, elapsed: 134.267324\n",
      "DEBUG:root:Evalaton loss:0.012637, Acc:0.998476, elapsed: 14.075253\n",
      "DEBUG:root:Epoch: 5/100, Training Loss:0.003996, Acc:0.999639, elapsed: 134.295766\n",
      "DEBUG:root:Evalaton loss:0.012717, Acc:0.998476, elapsed: 14.067777\n",
      "DEBUG:root:No Improve more than 5 epochs, Exit Training! Best accuracy: 0.998476\n",
      "DEBUG:root:Loading data lines...\n",
      "DEBUG:root:656 Lines Loaded!\n",
      "INFO:root:Initializing Class TextClassifier...\n"
     ]
    },
    {
     "name": "stdout",
     "output_type": "stream",
     "text": [
      "output/models/既往生殖器感染_20220904062209_9984.pth\n"
     ]
    },
    {
     "name": "stderr",
     "output_type": "stream",
     "text": [
      "DEBUG:root:Loading Model output/models/既往生殖器感染_20220904062209_9984.pth\n",
      "INFO:root:TextClassifier Using Device: CUDA\n",
      "INFO:root:TextClassifier Loading Data...\n",
      "DEBUG:root:Using Text Pair? -> Yes\n",
      "DEBUG:root:Data For Predicting\n",
      "DEBUG:root:Loading data lines...\n",
      "DEBUG:root:151 Lines Loaded!\n",
      "INFO:root:Initializing Class TextClassifier...\n"
     ]
    },
    {
     "name": "stdout",
     "output_type": "stream",
     "text": [
      "best accuracy: 0.9984756097560976\n",
      "{0: '0', 1: '1', 2: '2'}\n"
     ]
    },
    {
     "name": "stderr",
     "output_type": "stream",
     "text": [
      "DEBUG:root:Loading Model output/models/既往生殖器感染_20220904062209_9984.pth\n",
      "INFO:root:TextClassifier Using Device: CUDA\n",
      "INFO:root:TextClassifier Loading Data...\n",
      "DEBUG:root:Using Text Pair? -> Yes\n",
      "DEBUG:root:Data For Predicting\n",
      "DEBUG:root:Loading data lines...\n",
      "DEBUG:root:2766 Lines Loaded!\n",
      "DEBUG:root:Loading data lines...\n",
      "DEBUG:root:656 Lines Loaded!\n",
      "INFO:root:Initializing Class TextClassifier...\n"
     ]
    },
    {
     "name": "stdout",
     "output_type": "stream",
     "text": [
      "best accuracy: 1.0\n",
      "{0: '0', 1: '1', 2: '2'}\n"
     ]
    },
    {
     "name": "stderr",
     "output_type": "stream",
     "text": [
      "Some weights of the model checkpoint at ../BertModels/medical-roberta-wwm were not used when initializing BertModel: ['cls.predictions.transform.LayerNorm.bias', 'cls.predictions.decoder.bias', 'cls.predictions.transform.dense.weight', 'cls.predictions.transform.dense.bias', 'cls.predictions.bias', 'cls.predictions.transform.LayerNorm.weight', 'cls.predictions.decoder.weight']\n",
      "- This IS expected if you are initializing BertModel from the checkpoint of a model trained on another task or with another architecture (e.g. initializing a BertForSequenceClassification model from a BertForPreTraining model).\n",
      "- This IS NOT expected if you are initializing BertModel from the checkpoint of a model that you expect to be exactly identical (initializing a BertForSequenceClassification model from a BertForSequenceClassification model).\n",
      "Some weights of BertModel were not initialized from the model checkpoint at ../BertModels/medical-roberta-wwm and are newly initialized: ['bert.pooler.dense.weight', 'bert.pooler.dense.bias']\n",
      "You should probably TRAIN this model on a down-stream task to be able to use it for predictions and inference.\n",
      "DEBUG:root:Initializing Model BertTextClassfication\n",
      "INFO:root:TextClassifier Using Device: CUDA\n",
      "INFO:root:TextClassifier Loading Data...\n",
      "DEBUG:root:No\n",
      "DEBUG:root:Start Model Traning....\n",
      "DEBUG:root:Epoch: 0/100, Training Loss:0.065097, Acc:0.987355, elapsed: 134.365643\n",
      "DEBUG:root:Evalaton loss:0.053218, Acc:0.990854, elapsed: 14.102921\n",
      "DEBUG:root:Saving Model: output/models/肿瘤化疗史_20220904063732_9908.pth\n",
      "DEBUG:root:Epoch: 1/100, Training Loss:0.059428, Acc:0.990246, elapsed: 134.293062\n",
      "DEBUG:root:Evalaton loss:0.052556, Acc:0.990854, elapsed: 14.244175\n",
      "DEBUG:root:Epoch: 2/100, Training Loss:0.058718, Acc:0.990246, elapsed: 134.495503\n",
      "DEBUG:root:Evalaton loss:0.052637, Acc:0.990854, elapsed: 14.055855\n",
      "DEBUG:root:Epoch: 3/100, Training Loss:0.058475, Acc:0.990246, elapsed: 134.298185\n",
      "DEBUG:root:Evalaton loss:0.056651, Acc:0.990854, elapsed: 14.057287\n",
      "DEBUG:root:Epoch: 4/100, Training Loss:0.058070, Acc:0.990246, elapsed: 134.285875\n",
      "DEBUG:root:Evalaton loss:0.053241, Acc:0.990854, elapsed: 14.075289\n",
      "DEBUG:root:Epoch: 5/100, Training Loss:0.056359, Acc:0.990246, elapsed: 134.494665\n",
      "DEBUG:root:Evalaton loss:0.053338, Acc:0.990854, elapsed: 14.044710\n",
      "DEBUG:root:No Improve more than 5 epochs, Exit Training! Best accuracy: 0.990854\n",
      "DEBUG:root:Loading data lines...\n",
      "DEBUG:root:656 Lines Loaded!\n",
      "INFO:root:Initializing Class TextClassifier...\n"
     ]
    },
    {
     "name": "stdout",
     "output_type": "stream",
     "text": [
      "output/models/肿瘤化疗史_20220904063732_9908.pth\n"
     ]
    },
    {
     "name": "stderr",
     "output_type": "stream",
     "text": [
      "DEBUG:root:Loading Model output/models/肿瘤化疗史_20220904063732_9908.pth\n",
      "INFO:root:TextClassifier Using Device: CUDA\n",
      "INFO:root:TextClassifier Loading Data...\n",
      "DEBUG:root:Using Text Pair? -> Yes\n",
      "DEBUG:root:Data For Predicting\n",
      "DEBUG:root:Loading data lines...\n",
      "DEBUG:root:151 Lines Loaded!\n",
      "INFO:root:Initializing Class TextClassifier...\n"
     ]
    },
    {
     "name": "stdout",
     "output_type": "stream",
     "text": [
      "best accuracy: 0.9908536585365854\n",
      "{0: '0', 1: '1', 2: '2'}\n"
     ]
    },
    {
     "name": "stderr",
     "output_type": "stream",
     "text": [
      "DEBUG:root:Loading Model output/models/肿瘤化疗史_20220904063732_9908.pth\n",
      "INFO:root:TextClassifier Using Device: CUDA\n",
      "INFO:root:TextClassifier Loading Data...\n",
      "DEBUG:root:Using Text Pair? -> Yes\n",
      "DEBUG:root:Data For Predicting\n"
     ]
    },
    {
     "name": "stdout",
     "output_type": "stream",
     "text": [
      "best accuracy: 1.0\n",
      "{0: '0', 1: '1', 2: '2'}\n"
     ]
    }
   ],
   "source": [
    "for col, name in zip(list(range(3, 9)), \n",
    "            ['腹部手术史', '自身免疫性疾病', '胰腺肿瘤、囊肿病史', '腹部肿瘤史', '既往生殖器感染', '肿瘤化疗史']):\n",
    "    best_mdl_path = train(train_file_path=r'data\\训练集_既往史_模型.txt', val_file_path=r'data\\测试集_既往史_模型.txt', num_fields=9, \n",
    "          text_field=2, label_field=col, feature_name=name, log_file=r'output\\logs\\20220902_预训练_句子对_既往史.log', skip_title=True, using_text_pair=False)\n",
    "    print(best_mdl_path)\n",
    "    predict(best_mdl_path, predict_file_path=r'data\\测试集_既往史_模型.txt', result_file_path=r'output/data/%s_既往史_测试集结果.txt' % name, \n",
    "            log_file_path=r'output/data/stat_既往史_预训练_句子对_测试集.log', num_fields=9, text_field=2, label_field=col, feature_name=name, skip_title=True)\n",
    "    predict(best_mdl_path, predict_file_path=r'data\\人机_既往史_模型.txt', result_file_path=r'output/data/%s_既往史_人机结果.txt' % name, \n",
    "            log_file_path=r'output/data/stat_既往史_预训练_句子对_人机.txt', num_fields=9, text_field=2, label_field=col, feature_name=name, skip_title=True)"
   ]
  },
  {
   "cell_type": "code",
   "execution_count": 5,
   "id": "3854b094",
   "metadata": {
    "scrolled": true
   },
   "outputs": [
    {
     "name": "stderr",
     "output_type": "stream",
     "text": [
      "DEBUG:root:Loading data lines...\n",
      "DEBUG:root:689 Lines Loaded!\n",
      "INFO:root:Initializing Class TextClassifier...\n"
     ]
    },
    {
     "name": "stdout",
     "output_type": "stream",
     "text": [
      "output/models\\腹部手术史_20220813181506_9525.pth\n"
     ]
    },
    {
     "name": "stderr",
     "output_type": "stream",
     "text": [
      "DEBUG:root:Loading Model output/models\\腹部手术史_20220813181506_9525.pth\n",
      "INFO:root:TextClassifier Using Device: CUDA\n",
      "INFO:root:TextClassifier Loading Data...\n",
      "DEBUG:root:Using Text Pair? -> Yes\n",
      "DEBUG:root:Data For Predicting\n",
      "DEBUG:root:Loading data lines...\n",
      "DEBUG:root:184 Lines Loaded!\n",
      "INFO:root:Initializing Class TextClassifier...\n"
     ]
    },
    {
     "name": "stdout",
     "output_type": "stream",
     "text": [
      "best accuracy: 0.9525862068965517\n",
      "{0: '0', 1: '1', 2: '2'}\n"
     ]
    },
    {
     "name": "stderr",
     "output_type": "stream",
     "text": [
      "DEBUG:root:Loading Model output/models\\腹部手术史_20220813181506_9525.pth\n",
      "INFO:root:TextClassifier Using Device: CUDA\n",
      "INFO:root:TextClassifier Loading Data...\n",
      "DEBUG:root:Using Text Pair? -> Yes\n",
      "DEBUG:root:Data For Predicting\n",
      "DEBUG:root:Loading data lines...\n",
      "DEBUG:root:689 Lines Loaded!\n",
      "INFO:root:Initializing Class TextClassifier...\n"
     ]
    },
    {
     "name": "stdout",
     "output_type": "stream",
     "text": [
      "best accuracy: 0.9782608695652174\n",
      "{0: '0', 1: '1', 2: '2'}\n",
      "output/models\\自身免疫性疾病_20220814160531_9971.pth\n"
     ]
    },
    {
     "name": "stderr",
     "output_type": "stream",
     "text": [
      "DEBUG:root:Loading Model output/models\\自身免疫性疾病_20220814160531_9971.pth\n",
      "INFO:root:TextClassifier Using Device: CUDA\n",
      "INFO:root:TextClassifier Loading Data...\n",
      "DEBUG:root:Using Text Pair? -> Yes\n",
      "DEBUG:root:Data For Predicting\n",
      "DEBUG:root:Loading data lines...\n",
      "DEBUG:root:184 Lines Loaded!\n",
      "INFO:root:Initializing Class TextClassifier...\n"
     ]
    },
    {
     "name": "stdout",
     "output_type": "stream",
     "text": [
      "best accuracy: 0.9971264367816092\n",
      "{0: '0', 1: '1', 2: '2'}\n"
     ]
    },
    {
     "name": "stderr",
     "output_type": "stream",
     "text": [
      "DEBUG:root:Loading Model output/models\\自身免疫性疾病_20220814160531_9971.pth\n",
      "INFO:root:TextClassifier Using Device: CUDA\n",
      "INFO:root:TextClassifier Loading Data...\n",
      "DEBUG:root:Using Text Pair? -> Yes\n",
      "DEBUG:root:Data For Predicting\n",
      "DEBUG:root:Loading data lines...\n",
      "DEBUG:root:689 Lines Loaded!\n",
      "INFO:root:Initializing Class TextClassifier...\n"
     ]
    },
    {
     "name": "stdout",
     "output_type": "stream",
     "text": [
      "best accuracy: 1.0\n",
      "{0: '0', 1: '1', 2: '2'}\n",
      "output/models\\胰腺肿瘤、囊肿病史_20220814163429_9971.pth\n"
     ]
    },
    {
     "name": "stderr",
     "output_type": "stream",
     "text": [
      "DEBUG:root:Loading Model output/models\\胰腺肿瘤、囊肿病史_20220814163429_9971.pth\n",
      "INFO:root:TextClassifier Using Device: CUDA\n",
      "INFO:root:TextClassifier Loading Data...\n",
      "DEBUG:root:Using Text Pair? -> Yes\n",
      "DEBUG:root:Data For Predicting\n",
      "DEBUG:root:Loading data lines...\n",
      "DEBUG:root:184 Lines Loaded!\n",
      "INFO:root:Initializing Class TextClassifier...\n"
     ]
    },
    {
     "name": "stdout",
     "output_type": "stream",
     "text": [
      "best accuracy: 0.9971264367816092\n",
      "{0: '0', 1: '1', 2: '2'}\n"
     ]
    },
    {
     "name": "stderr",
     "output_type": "stream",
     "text": [
      "DEBUG:root:Loading Model output/models\\胰腺肿瘤、囊肿病史_20220814163429_9971.pth\n",
      "INFO:root:TextClassifier Using Device: CUDA\n",
      "INFO:root:TextClassifier Loading Data...\n",
      "DEBUG:root:Using Text Pair? -> Yes\n",
      "DEBUG:root:Data For Predicting\n",
      "DEBUG:root:Loading data lines...\n",
      "DEBUG:root:689 Lines Loaded!\n",
      "INFO:root:Initializing Class TextClassifier...\n"
     ]
    },
    {
     "name": "stdout",
     "output_type": "stream",
     "text": [
      "best accuracy: 1.0\n",
      "{0: '0', 1: '1', 2: '2'}\n",
      "output/models\\腹部肿瘤史_20220814180436_9640.pth\n"
     ]
    },
    {
     "name": "stderr",
     "output_type": "stream",
     "text": [
      "DEBUG:root:Loading Model output/models\\腹部肿瘤史_20220814180436_9640.pth\n",
      "INFO:root:TextClassifier Using Device: CUDA\n",
      "INFO:root:TextClassifier Loading Data...\n",
      "DEBUG:root:Using Text Pair? -> Yes\n",
      "DEBUG:root:Data For Predicting\n",
      "DEBUG:root:Loading data lines...\n",
      "DEBUG:root:184 Lines Loaded!\n",
      "INFO:root:Initializing Class TextClassifier...\n"
     ]
    },
    {
     "name": "stdout",
     "output_type": "stream",
     "text": [
      "best accuracy: 0.9640804597701149\n",
      "{0: '0', 1: '1', 2: '2'}\n"
     ]
    },
    {
     "name": "stderr",
     "output_type": "stream",
     "text": [
      "DEBUG:root:Loading Model output/models\\腹部肿瘤史_20220814180436_9640.pth\n",
      "INFO:root:TextClassifier Using Device: CUDA\n",
      "INFO:root:TextClassifier Loading Data...\n",
      "DEBUG:root:Using Text Pair? -> Yes\n",
      "DEBUG:root:Data For Predicting\n",
      "DEBUG:root:Loading data lines...\n",
      "DEBUG:root:689 Lines Loaded!\n",
      "INFO:root:Initializing Class TextClassifier...\n"
     ]
    },
    {
     "name": "stdout",
     "output_type": "stream",
     "text": [
      "best accuracy: 0.9836956521739131\n",
      "{0: '0', 1: '1', 2: '2'}\n",
      "output/models\\既往生殖器感染_20220814183333_9985.pth\n"
     ]
    },
    {
     "name": "stderr",
     "output_type": "stream",
     "text": [
      "DEBUG:root:Loading Model output/models\\既往生殖器感染_20220814183333_9985.pth\n",
      "INFO:root:TextClassifier Using Device: CUDA\n",
      "INFO:root:TextClassifier Loading Data...\n",
      "DEBUG:root:Using Text Pair? -> Yes\n",
      "DEBUG:root:Data For Predicting\n",
      "DEBUG:root:Loading data lines...\n",
      "DEBUG:root:184 Lines Loaded!\n",
      "INFO:root:Initializing Class TextClassifier...\n"
     ]
    },
    {
     "name": "stdout",
     "output_type": "stream",
     "text": [
      "best accuracy: 0.9985632183908046\n",
      "{0: '0', 1: '1', 2: '2'}\n"
     ]
    },
    {
     "name": "stderr",
     "output_type": "stream",
     "text": [
      "DEBUG:root:Loading Model output/models\\既往生殖器感染_20220814183333_9985.pth\n",
      "INFO:root:TextClassifier Using Device: CUDA\n",
      "INFO:root:TextClassifier Loading Data...\n",
      "DEBUG:root:Using Text Pair? -> Yes\n",
      "DEBUG:root:Data For Predicting\n",
      "DEBUG:root:Loading data lines...\n",
      "DEBUG:root:689 Lines Loaded!\n",
      "INFO:root:Initializing Class TextClassifier...\n"
     ]
    },
    {
     "name": "stdout",
     "output_type": "stream",
     "text": [
      "best accuracy: 1.0\n",
      "{0: '0', 1: '1', 2: '2'}\n",
      "output/models\\肿瘤化疗史_20220814190231_9913.pth\n"
     ]
    },
    {
     "name": "stderr",
     "output_type": "stream",
     "text": [
      "DEBUG:root:Loading Model output/models\\肿瘤化疗史_20220814190231_9913.pth\n",
      "INFO:root:TextClassifier Using Device: CUDA\n",
      "INFO:root:TextClassifier Loading Data...\n",
      "DEBUG:root:Using Text Pair? -> Yes\n",
      "DEBUG:root:Data For Predicting\n",
      "DEBUG:root:Loading data lines...\n",
      "DEBUG:root:184 Lines Loaded!\n",
      "INFO:root:Initializing Class TextClassifier...\n"
     ]
    },
    {
     "name": "stdout",
     "output_type": "stream",
     "text": [
      "best accuracy: 0.9913793103448276\n",
      "{0: '0', 1: '1', 2: '2'}\n"
     ]
    },
    {
     "name": "stderr",
     "output_type": "stream",
     "text": [
      "DEBUG:root:Loading Model output/models\\肿瘤化疗史_20220814190231_9913.pth\n",
      "INFO:root:TextClassifier Using Device: CUDA\n",
      "INFO:root:TextClassifier Loading Data...\n",
      "DEBUG:root:Using Text Pair? -> Yes\n",
      "DEBUG:root:Data For Predicting\n"
     ]
    },
    {
     "name": "stdout",
     "output_type": "stream",
     "text": [
      "best accuracy: 1.0\n",
      "{0: '0', 1: '1', 2: '2'}\n"
     ]
    }
   ],
   "source": [
    "mdl_folder = r'output/models'\n",
    "for col, name in zip(list(range(3, 9)), \n",
    "            ['腹部手术史', '自身免疫性疾病', '胰腺肿瘤、囊肿病史', '腹部肿瘤史', '既往生殖器感染', '肿瘤化疗史']\n",
    "            ):\n",
    "    best_mdl_path = os.path.join(mdl_folder, find_best_mdl(mdl_folder, name))\n",
    "    print(best_mdl_path)\n",
    "    predict(best_mdl_path, predict_file_path=r'data\\测试集_既往史_模型.txt', result_file_path=r'output/data/%s_既往史_测试集结果.txt' % name, \n",
    "            log_file_path=r'output/data/predict_20220815.txt', num_fields=9, text_field=2, label_field=col, feature_name=name, skip_title=True)\n",
    "    predict(best_mdl_path, predict_file_path=r'data\\人机_既往史_模型.txt', result_file_path=r'output/data/%s_既往史_人机结果.txt' % name, \n",
    "            log_file_path=r'output/data/predict_20220815.txt', num_fields=9, text_field=2, label_field=col, feature_name=name, skip_title=True)"
   ]
  },
  {
   "cell_type": "code",
   "execution_count": null,
   "id": "ae041f58",
   "metadata": {},
   "outputs": [],
   "source": [
    "stat_train_total_ct(r'data\\训练集_既往史_模型.txt', list(range(3, 9)), ['腹部手术史', '自身免疫性疾病', '胰腺肿瘤、囊肿病史', '腹部肿瘤史', '既往生殖器感染', '肿瘤化疗史']) "
   ]
  }
 ],
 "metadata": {
  "kernelspec": {
   "display_name": "Python 3 (ipykernel)",
   "language": "python",
   "name": "python3"
  },
  "language_info": {
   "codemirror_mode": {
    "name": "ipython",
    "version": 3
   },
   "file_extension": ".py",
   "mimetype": "text/x-python",
   "name": "python",
   "nbconvert_exporter": "python",
   "pygments_lexer": "ipython3",
   "version": "3.9.12"
  }
 },
 "nbformat": 4,
 "nbformat_minor": 5
}
