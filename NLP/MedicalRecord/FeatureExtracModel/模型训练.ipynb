{
 "cells": [
  {
   "cell_type": "code",
   "execution_count": 1,
   "id": "c94074eb",
   "metadata": {},
   "outputs": [],
   "source": [
    "import os\n",
    "from run import train, predict\n",
    "\n",
    "def find_best_mdl(mdl_folder, name):\n",
    "    result = []\n",
    "    for mdl_name in os.listdir(mdl_folder):\n",
    "        if name in mdl_name:\n",
    "            result.append((mdl_name, int(mdl_name.split('_')[-1].split('.')[0])))\n",
    "    result = sorted(result, key=lambda x: x[1], reverse=True)\n",
    "    return result[0][0]\n",
    "\n",
    "def stat_train_total_ct(data_file_path, cols, names):\n",
    "    data_lines = []\n",
    "    with open(data_file_path) as f_in:\n",
    "        data_lines = f_in.readlines()[1:]\n",
    "    \n",
    "    for col, name in zip(cols, names):\n",
    "        stat_result = [0 for i in range(4)]\n",
    "        for line in data_lines:\n",
    "            arr = line.split('\t')\n",
    "            e = int(arr[col])\n",
    "            stat_result[e] = stat_result[e] + 1\n",
    "        \n",
    "        s = name\n",
    "        for item in stat_result:\n",
    "            s = '%s\t\t\t%s' % (s, item)\n",
    "        print(s)\n",
    "        print(s)"
   ]
  },
  {
   "cell_type": "code",
   "execution_count": 2,
   "id": "9db84d27",
   "metadata": {},
   "outputs": [],
   "source": [
    "out_folder = r'output'\n",
    "mdl_folder = os.path.join(out_folder, 'models')\n",
    "dat_folder = os.path.join(out_folder, 'data')"
   ]
  },
  {
   "cell_type": "markdown",
   "id": "d97bf7b2",
   "metadata": {},
   "source": [
    "### 现病史"
   ]
  },
  {
   "cell_type": "code",
   "execution_count": 3,
   "id": "1fdc676f",
   "metadata": {
    "scrolled": true
   },
   "outputs": [
    {
     "name": "stderr",
     "output_type": "stream",
     "text": [
      "DEBUG:root:Loading data lines...\n",
      "DEBUG:root:2766 Lines Loaded!\n",
      "DEBUG:root:Loading data lines...\n",
      "DEBUG:root:656 Lines Loaded!\n",
      "INFO:root:Initializing Class TextClassifier...\n",
      "Some weights of the model checkpoint at ../BertModels/medical-roberta-wwm were not used when initializing BertModel: ['cls.predictions.bias', 'cls.predictions.decoder.bias', 'cls.predictions.decoder.weight', 'cls.predictions.transform.dense.weight', 'cls.predictions.transform.LayerNorm.weight', 'cls.predictions.transform.LayerNorm.bias', 'cls.predictions.transform.dense.bias']\n",
      "- This IS expected if you are initializing BertModel from the checkpoint of a model trained on another task or with another architecture (e.g. initializing a BertForSequenceClassification model from a BertForPreTraining model).\n",
      "- This IS NOT expected if you are initializing BertModel from the checkpoint of a model that you expect to be exactly identical (initializing a BertForSequenceClassification model from a BertForSequenceClassification model).\n",
      "Some weights of BertModel were not initialized from the model checkpoint at ../BertModels/medical-roberta-wwm and are newly initialized: ['bert.pooler.dense.bias', 'bert.pooler.dense.weight']\n",
      "You should probably TRAIN this model on a down-stream task to be able to use it for predictions and inference.\n",
      "DEBUG:root:Initializing Model BertTextClassfication\n",
      "INFO:root:TextClassifier Using Device: CUDA\n",
      "INFO:root:TextClassifier Loading Data...\n",
      "DEBUG:root:No\n",
      "DEBUG:root:Start Model Traning....\n",
      "DEBUG:root:Epoch: 0/100, Training Loss:0.672547, Acc:0.752890, elapsed: 147.174103\n",
      "DEBUG:root:Evalaton loss:0.789728, Acc:0.728659, elapsed: 16.580869\n",
      "DEBUG:root:Saving Model: output/models/放射痛（右肩、肩胛和背部）_20220915084014_7286.pth\n",
      "DEBUG:root:Epoch: 1/100, Training Loss:0.822194, Acc:0.711103, elapsed: 133.640221\n",
      "DEBUG:root:Evalaton loss:0.777491, Acc:0.728659, elapsed: 16.481176\n",
      "DEBUG:root:Epoch: 2/100, Training Loss:0.817382, Acc:0.712669, elapsed: 133.687843\n",
      "DEBUG:root:Evalaton loss:0.776726, Acc:0.728659, elapsed: 16.477020\n",
      "DEBUG:root:Epoch: 3/100, Training Loss:0.810666, Acc:0.712428, elapsed: 134.798973\n",
      "DEBUG:root:Evalaton loss:0.780859, Acc:0.728659, elapsed: 16.456001\n",
      "DEBUG:root:Epoch: 4/100, Training Loss:0.805472, Acc:0.713030, elapsed: 135.670845\n",
      "DEBUG:root:Evalaton loss:0.772182, Acc:0.728659, elapsed: 16.558224\n",
      "DEBUG:root:Epoch: 5/100, Training Loss:0.803352, Acc:0.712909, elapsed: 134.381903\n",
      "DEBUG:root:Evalaton loss:0.771320, Acc:0.728659, elapsed: 16.471999\n",
      "DEBUG:root:No Improve more than 5 epochs, Exit Training! Best accuracy: 0.728659\n",
      "DEBUG:root:Loading data lines...\n",
      "DEBUG:root:656 Lines Loaded!\n",
      "INFO:root:Initializing Class TextClassifier...\n"
     ]
    },
    {
     "name": "stdout",
     "output_type": "stream",
     "text": [
      "output/models/放射痛（右肩、肩胛和背部）_20220915084014_7286.pth\n"
     ]
    },
    {
     "name": "stderr",
     "output_type": "stream",
     "text": [
      "DEBUG:root:Loading Model output/models/放射痛（右肩、肩胛和背部）_20220915084014_7286.pth\n",
      "INFO:root:TextClassifier Using Device: CUDA\n",
      "INFO:root:TextClassifier Loading Data...\n",
      "DEBUG:root:Using Text Pair? -> Yes\n",
      "DEBUG:root:Data For Predicting\n",
      "DEBUG:root:Loading data lines...\n",
      "DEBUG:root:158 Lines Loaded!\n",
      "INFO:root:Initializing Class TextClassifier...\n"
     ]
    },
    {
     "name": "stdout",
     "output_type": "stream",
     "text": [
      "best accuracy: 0.7286585365853658\n",
      "{0: '0', 1: '1', 2: '2'}\n"
     ]
    },
    {
     "name": "stderr",
     "output_type": "stream",
     "text": [
      "DEBUG:root:Loading Model output/models/放射痛（右肩、肩胛和背部）_20220915084014_7286.pth\n",
      "INFO:root:TextClassifier Using Device: CUDA\n",
      "INFO:root:TextClassifier Loading Data...\n",
      "DEBUG:root:Using Text Pair? -> Yes\n",
      "DEBUG:root:Data For Predicting\n",
      "DEBUG:root:Loading data lines...\n",
      "DEBUG:root:2766 Lines Loaded!\n",
      "DEBUG:root:Loading data lines...\n",
      "DEBUG:root:656 Lines Loaded!\n",
      "INFO:root:Initializing Class TextClassifier...\n"
     ]
    },
    {
     "name": "stdout",
     "output_type": "stream",
     "text": [
      "best accuracy: 0.875\n",
      "{0: '0', 1: '1', 2: '2'}\n"
     ]
    },
    {
     "name": "stderr",
     "output_type": "stream",
     "text": [
      "Some weights of the model checkpoint at ../BertModels/medical-roberta-wwm were not used when initializing BertModel: ['cls.predictions.bias', 'cls.predictions.decoder.bias', 'cls.predictions.decoder.weight', 'cls.predictions.transform.dense.weight', 'cls.predictions.transform.LayerNorm.weight', 'cls.predictions.transform.LayerNorm.bias', 'cls.predictions.transform.dense.bias']\n",
      "- This IS expected if you are initializing BertModel from the checkpoint of a model trained on another task or with another architecture (e.g. initializing a BertForSequenceClassification model from a BertForPreTraining model).\n",
      "- This IS NOT expected if you are initializing BertModel from the checkpoint of a model that you expect to be exactly identical (initializing a BertForSequenceClassification model from a BertForSequenceClassification model).\n",
      "Some weights of BertModel were not initialized from the model checkpoint at ../BertModels/medical-roberta-wwm and are newly initialized: ['bert.pooler.dense.bias', 'bert.pooler.dense.weight']\n",
      "You should probably TRAIN this model on a down-stream task to be able to use it for predictions and inference.\n",
      "DEBUG:root:Initializing Model BertTextClassfication\n",
      "INFO:root:TextClassifier Using Device: CUDA\n",
      "INFO:root:TextClassifier Loading Data...\n",
      "DEBUG:root:No\n",
      "DEBUG:root:Start Model Traning....\n",
      "DEBUG:root:Epoch: 0/100, Training Loss:0.412161, Acc:0.845978, elapsed: 133.774358\n",
      "DEBUG:root:Evalaton loss:0.435790, Acc:0.832317, elapsed: 16.561998\n",
      "DEBUG:root:Saving Model: output/models/上腹痛_20220915085552_8323.pth\n",
      "DEBUG:root:Epoch: 1/100, Training Loss:0.407118, Acc:0.846098, elapsed: 133.323997\n",
      "DEBUG:root:Evalaton loss:0.378672, Acc:0.844512, elapsed: 16.400992\n",
      "DEBUG:root:Saving Model: output/models/上腹痛_20220915085823_8445.pth\n",
      "DEBUG:root:Epoch: 2/100, Training Loss:0.645672, Acc:0.743618, elapsed: 134.193030\n",
      "DEBUG:root:Evalaton loss:1.087621, Acc:0.487805, elapsed: 16.684971\n",
      "DEBUG:root:Epoch: 3/100, Training Loss:0.973089, Acc:0.508550, elapsed: 134.046030\n",
      "DEBUG:root:Evalaton loss:0.505738, Acc:0.783537, elapsed: 16.815001\n",
      "DEBUG:root:Epoch: 4/100, Training Loss:0.497955, Acc:0.812982, elapsed: 133.971987\n",
      "DEBUG:root:Evalaton loss:0.401831, Acc:0.839939, elapsed: 16.783733\n",
      "DEBUG:root:Epoch: 5/100, Training Loss:0.471345, Acc:0.820207, elapsed: 134.415372\n",
      "DEBUG:root:Evalaton loss:0.373173, Acc:0.846037, elapsed: 16.748002\n",
      "DEBUG:root:Saving Model: output/models/上腹痛_20220915090827_8460.pth\n",
      "DEBUG:root:Epoch: 6/100, Training Loss:0.389425, Acc:0.850193, elapsed: 134.260031\n",
      "DEBUG:root:Evalaton loss:0.456782, Acc:0.812500, elapsed: 16.722998\n",
      "DEBUG:root:Epoch: 7/100, Training Loss:0.358241, Acc:0.870063, elapsed: 134.405006\n",
      "DEBUG:root:Evalaton loss:0.424409, Acc:0.861280, elapsed: 16.636967\n",
      "DEBUG:root:Saving Model: output/models/上腹痛_20220915091330_8612.pth\n",
      "DEBUG:root:Epoch: 8/100, Training Loss:0.366012, Acc:0.865246, elapsed: 134.525031\n",
      "DEBUG:root:Evalaton loss:0.323668, Acc:0.873476, elapsed: 16.793998\n",
      "DEBUG:root:Saving Model: output/models/上腹痛_20220915091602_8734.pth\n",
      "DEBUG:root:Epoch: 9/100, Training Loss:0.333521, Acc:0.878974, elapsed: 134.685546\n",
      "DEBUG:root:Evalaton loss:0.343729, Acc:0.856707, elapsed: 16.636000\n",
      "DEBUG:root:Epoch: 10/100, Training Loss:0.319267, Acc:0.889330, elapsed: 134.565969\n",
      "DEBUG:root:Evalaton loss:0.324011, Acc:0.867378, elapsed: 16.836030\n",
      "DEBUG:root:Epoch: 11/100, Training Loss:0.293050, Acc:0.894990, elapsed: 134.545002\n",
      "DEBUG:root:Evalaton loss:0.346362, Acc:0.861280, elapsed: 16.722000\n",
      "DEBUG:root:Epoch: 12/100, Training Loss:0.270518, Acc:0.901734, elapsed: 134.361028\n",
      "DEBUG:root:Evalaton loss:0.336724, Acc:0.859756, elapsed: 16.456001\n",
      "DEBUG:root:Epoch: 13/100, Training Loss:0.244572, Acc:0.911248, elapsed: 134.209028\n",
      "DEBUG:root:Evalaton loss:0.400933, Acc:0.856707, elapsed: 16.975010\n",
      "DEBUG:root:No Improve more than 5 epochs, Exit Training! Best accuracy: 0.873476\n",
      "DEBUG:root:Loading data lines...\n",
      "DEBUG:root:656 Lines Loaded!\n",
      "INFO:root:Initializing Class TextClassifier...\n"
     ]
    },
    {
     "name": "stdout",
     "output_type": "stream",
     "text": [
      "output/models/上腹痛_20220915091602_8734.pth\n"
     ]
    },
    {
     "name": "stderr",
     "output_type": "stream",
     "text": [
      "DEBUG:root:Loading Model output/models/上腹痛_20220915091602_8734.pth\n",
      "INFO:root:TextClassifier Using Device: CUDA\n",
      "INFO:root:TextClassifier Loading Data...\n",
      "DEBUG:root:Using Text Pair? -> Yes\n",
      "DEBUG:root:Data For Predicting\n",
      "DEBUG:root:Loading data lines...\n",
      "DEBUG:root:158 Lines Loaded!\n",
      "INFO:root:Initializing Class TextClassifier...\n"
     ]
    },
    {
     "name": "stdout",
     "output_type": "stream",
     "text": [
      "best accuracy: 0.625\n",
      "{0: '0', 1: '1', 2: '2'}\n"
     ]
    },
    {
     "name": "stderr",
     "output_type": "stream",
     "text": [
      "DEBUG:root:Loading Model output/models/上腹痛_20220915091602_8734.pth\n",
      "INFO:root:TextClassifier Using Device: CUDA\n",
      "INFO:root:TextClassifier Loading Data...\n",
      "DEBUG:root:Using Text Pair? -> Yes\n",
      "DEBUG:root:Data For Predicting\n",
      "DEBUG:root:Loading data lines...\n",
      "DEBUG:root:2766 Lines Loaded!\n",
      "DEBUG:root:Loading data lines...\n",
      "DEBUG:root:656 Lines Loaded!\n",
      "INFO:root:Initializing Class TextClassifier...\n"
     ]
    },
    {
     "name": "stdout",
     "output_type": "stream",
     "text": [
      "best accuracy: 0.4666666666666667\n",
      "{0: '0', 1: '1', 2: '2'}\n"
     ]
    },
    {
     "name": "stderr",
     "output_type": "stream",
     "text": [
      "Some weights of the model checkpoint at ../BertModels/medical-roberta-wwm were not used when initializing BertModel: ['cls.predictions.bias', 'cls.predictions.decoder.bias', 'cls.predictions.decoder.weight', 'cls.predictions.transform.dense.weight', 'cls.predictions.transform.LayerNorm.weight', 'cls.predictions.transform.LayerNorm.bias', 'cls.predictions.transform.dense.bias']\n",
      "- This IS expected if you are initializing BertModel from the checkpoint of a model trained on another task or with another architecture (e.g. initializing a BertForSequenceClassification model from a BertForPreTraining model).\n",
      "- This IS NOT expected if you are initializing BertModel from the checkpoint of a model that you expect to be exactly identical (initializing a BertForSequenceClassification model from a BertForSequenceClassification model).\n",
      "Some weights of BertModel were not initialized from the model checkpoint at ../BertModels/medical-roberta-wwm and are newly initialized: ['bert.pooler.dense.bias', 'bert.pooler.dense.weight']\n",
      "You should probably TRAIN this model on a down-stream task to be able to use it for predictions and inference.\n",
      "DEBUG:root:Initializing Model BertTextClassfication\n",
      "INFO:root:TextClassifier Using Device: CUDA\n",
      "INFO:root:TextClassifier Loading Data...\n",
      "DEBUG:root:No\n",
      "DEBUG:root:Start Model Traning....\n",
      "DEBUG:root:Epoch: 0/100, Training Loss:0.563574, Acc:0.756864, elapsed: 134.474033\n",
      "DEBUG:root:Evalaton loss:0.439550, Acc:0.862805, elapsed: 16.544998\n",
      "DEBUG:root:Saving Model: output/models/厌食_20220915093143_8628.pth\n",
      "DEBUG:root:Epoch: 1/100, Training Loss:0.502730, Acc:0.781671, elapsed: 133.939030\n",
      "DEBUG:root:Evalaton loss:0.445232, Acc:0.832317, elapsed: 16.786990\n",
      "DEBUG:root:Epoch: 2/100, Training Loss:0.599329, Acc:0.699542, elapsed: 134.375278\n",
      "DEBUG:root:Evalaton loss:0.684777, Acc:0.435976, elapsed: 16.772000\n",
      "DEBUG:root:Epoch: 3/100, Training Loss:0.662918, Acc:0.635477, elapsed: 134.277979\n",
      "DEBUG:root:Evalaton loss:0.628746, Acc:0.661585, elapsed: 16.942031\n",
      "DEBUG:root:Epoch: 4/100, Training Loss:0.662073, Acc:0.635477, elapsed: 134.161999\n",
      "DEBUG:root:Evalaton loss:0.626596, Acc:0.661585, elapsed: 16.837146\n",
      "DEBUG:root:Epoch: 5/100, Training Loss:0.628466, Acc:0.652577, elapsed: 134.325367\n",
      "DEBUG:root:Evalaton loss:0.630647, Acc:0.661585, elapsed: 16.789028\n",
      "DEBUG:root:No Improve more than 5 epochs, Exit Training! Best accuracy: 0.862805\n",
      "DEBUG:root:Loading data lines...\n",
      "DEBUG:root:656 Lines Loaded!\n",
      "INFO:root:Initializing Class TextClassifier...\n"
     ]
    },
    {
     "name": "stdout",
     "output_type": "stream",
     "text": [
      "output/models/厌食_20220915093143_8628.pth\n"
     ]
    },
    {
     "name": "stderr",
     "output_type": "stream",
     "text": [
      "DEBUG:root:Loading Model output/models/厌食_20220915093143_8628.pth\n",
      "INFO:root:TextClassifier Using Device: CUDA\n",
      "INFO:root:TextClassifier Loading Data...\n",
      "DEBUG:root:Using Text Pair? -> Yes\n",
      "DEBUG:root:Data For Predicting\n",
      "DEBUG:root:Loading data lines...\n",
      "DEBUG:root:158 Lines Loaded!\n",
      "INFO:root:Initializing Class TextClassifier...\n"
     ]
    },
    {
     "name": "stdout",
     "output_type": "stream",
     "text": [
      "best accuracy: 0.75\n",
      "{0: '0', 1: '1', 2: '2'}\n"
     ]
    },
    {
     "name": "stderr",
     "output_type": "stream",
     "text": [
      "DEBUG:root:Loading Model output/models/厌食_20220915093143_8628.pth\n",
      "INFO:root:TextClassifier Using Device: CUDA\n",
      "INFO:root:TextClassifier Loading Data...\n",
      "DEBUG:root:Using Text Pair? -> Yes\n",
      "DEBUG:root:Data For Predicting\n",
      "DEBUG:root:Loading data lines...\n",
      "DEBUG:root:2766 Lines Loaded!\n",
      "DEBUG:root:Loading data lines...\n",
      "DEBUG:root:656 Lines Loaded!\n",
      "INFO:root:Initializing Class TextClassifier...\n"
     ]
    },
    {
     "name": "stdout",
     "output_type": "stream",
     "text": [
      "best accuracy: 0.37916666666666665\n",
      "{0: '0', 1: '1', 2: '2'}\n"
     ]
    },
    {
     "name": "stderr",
     "output_type": "stream",
     "text": [
      "Some weights of the model checkpoint at ../BertModels/medical-roberta-wwm were not used when initializing BertModel: ['cls.predictions.bias', 'cls.predictions.decoder.bias', 'cls.predictions.decoder.weight', 'cls.predictions.transform.dense.weight', 'cls.predictions.transform.LayerNorm.weight', 'cls.predictions.transform.LayerNorm.bias', 'cls.predictions.transform.dense.bias']\n",
      "- This IS expected if you are initializing BertModel from the checkpoint of a model trained on another task or with another architecture (e.g. initializing a BertForSequenceClassification model from a BertForPreTraining model).\n",
      "- This IS NOT expected if you are initializing BertModel from the checkpoint of a model that you expect to be exactly identical (initializing a BertForSequenceClassification model from a BertForSequenceClassification model).\n",
      "Some weights of BertModel were not initialized from the model checkpoint at ../BertModels/medical-roberta-wwm and are newly initialized: ['bert.pooler.dense.bias', 'bert.pooler.dense.weight']\n",
      "You should probably TRAIN this model on a down-stream task to be able to use it for predictions and inference.\n",
      "DEBUG:root:Initializing Model BertTextClassfication\n",
      "INFO:root:TextClassifier Using Device: CUDA\n",
      "INFO:root:TextClassifier Loading Data...\n",
      "DEBUG:root:No\n",
      "DEBUG:root:Start Model Traning....\n",
      "DEBUG:root:Epoch: 0/100, Training Loss:0.691897, Acc:0.664619, elapsed: 134.135988\n",
      "DEBUG:root:Evalaton loss:0.887060, Acc:0.507622, elapsed: 16.387015\n",
      "DEBUG:root:Saving Model: output/models/腹泻_20220915094723_5076.pth\n",
      "DEBUG:root:Epoch: 1/100, Training Loss:0.877880, Acc:0.497712, elapsed: 134.102029\n",
      "DEBUG:root:Evalaton loss:0.884515, Acc:0.507622, elapsed: 16.967973\n",
      "DEBUG:root:Epoch: 2/100, Training Loss:0.871386, Acc:0.484706, elapsed: 134.380027\n",
      "DEBUG:root:Evalaton loss:0.898213, Acc:0.507622, elapsed: 16.707030\n",
      "DEBUG:root:Epoch: 3/100, Training Loss:0.867132, Acc:0.487235, elapsed: 135.112999\n",
      "DEBUG:root:Evalaton loss:0.894420, Acc:0.507622, elapsed: 16.649029\n",
      "DEBUG:root:Epoch: 4/100, Training Loss:0.863950, Acc:0.490607, elapsed: 133.984954\n",
      "DEBUG:root:Evalaton loss:0.889735, Acc:0.429878, elapsed: 16.777000\n",
      "DEBUG:root:Epoch: 5/100, Training Loss:0.860844, Acc:0.506142, elapsed: 134.345030\n",
      "DEBUG:root:Evalaton loss:0.886172, Acc:0.507622, elapsed: 16.848024\n",
      "DEBUG:root:No Improve more than 5 epochs, Exit Training! Best accuracy: 0.507622\n",
      "DEBUG:root:Loading data lines...\n",
      "DEBUG:root:656 Lines Loaded!\n",
      "INFO:root:Initializing Class TextClassifier...\n"
     ]
    },
    {
     "name": "stdout",
     "output_type": "stream",
     "text": [
      "output/models/腹泻_20220915094723_5076.pth\n"
     ]
    },
    {
     "name": "stderr",
     "output_type": "stream",
     "text": [
      "DEBUG:root:Loading Model output/models/腹泻_20220915094723_5076.pth\n",
      "INFO:root:TextClassifier Using Device: CUDA\n",
      "INFO:root:TextClassifier Loading Data...\n",
      "DEBUG:root:Using Text Pair? -> Yes\n",
      "DEBUG:root:Data For Predicting\n",
      "DEBUG:root:Loading data lines...\n",
      "DEBUG:root:158 Lines Loaded!\n",
      "INFO:root:Initializing Class TextClassifier...\n"
     ]
    },
    {
     "name": "stdout",
     "output_type": "stream",
     "text": [
      "best accuracy: 0.5076219512195121\n",
      "{0: '0', 1: '1', 2: '2'}\n"
     ]
    },
    {
     "name": "stderr",
     "output_type": "stream",
     "text": [
      "DEBUG:root:Loading Model output/models/腹泻_20220915094723_5076.pth\n",
      "INFO:root:TextClassifier Using Device: CUDA\n",
      "INFO:root:TextClassifier Loading Data...\n",
      "DEBUG:root:Using Text Pair? -> Yes\n",
      "DEBUG:root:Data For Predicting\n",
      "DEBUG:root:Loading data lines...\n",
      "DEBUG:root:2766 Lines Loaded!\n",
      "DEBUG:root:Loading data lines...\n",
      "DEBUG:root:656 Lines Loaded!\n",
      "INFO:root:Initializing Class TextClassifier...\n"
     ]
    },
    {
     "name": "stdout",
     "output_type": "stream",
     "text": [
      "best accuracy: 0.7041666666666667\n",
      "{0: '0', 1: '1', 2: '2'}\n"
     ]
    },
    {
     "name": "stderr",
     "output_type": "stream",
     "text": [
      "Some weights of the model checkpoint at ../BertModels/medical-roberta-wwm were not used when initializing BertModel: ['cls.predictions.bias', 'cls.predictions.decoder.bias', 'cls.predictions.decoder.weight', 'cls.predictions.transform.dense.weight', 'cls.predictions.transform.LayerNorm.weight', 'cls.predictions.transform.LayerNorm.bias', 'cls.predictions.transform.dense.bias']\n",
      "- This IS expected if you are initializing BertModel from the checkpoint of a model trained on another task or with another architecture (e.g. initializing a BertForSequenceClassification model from a BertForPreTraining model).\n",
      "- This IS NOT expected if you are initializing BertModel from the checkpoint of a model that you expect to be exactly identical (initializing a BertForSequenceClassification model from a BertForSequenceClassification model).\n",
      "Some weights of BertModel were not initialized from the model checkpoint at ../BertModels/medical-roberta-wwm and are newly initialized: ['bert.pooler.dense.bias', 'bert.pooler.dense.weight']\n",
      "You should probably TRAIN this model on a down-stream task to be able to use it for predictions and inference.\n",
      "DEBUG:root:Initializing Model BertTextClassfication\n",
      "INFO:root:TextClassifier Using Device: CUDA\n",
      "INFO:root:TextClassifier Loading Data...\n",
      "DEBUG:root:No\n",
      "DEBUG:root:Start Model Traning....\n",
      "DEBUG:root:Epoch: 0/100, Training Loss:0.007644, Acc:0.997110, elapsed: 134.167999\n",
      "DEBUG:root:Evalaton loss:0.000700, Acc:1.000000, elapsed: 16.489027\n",
      "DEBUG:root:Saving Model: output/models/盆腔疼痛_20220915100302_10000.pth\n",
      "DEBUG:root:Epoch: 1/100, Training Loss:0.000878, Acc:1.000000, elapsed: 133.864399\n",
      "DEBUG:root:Evalaton loss:0.000617, Acc:1.000000, elapsed: 16.345036\n",
      "DEBUG:root:Epoch: 2/100, Training Loss:0.000835, Acc:1.000000, elapsed: 133.824964\n",
      "DEBUG:root:Evalaton loss:0.000572, Acc:1.000000, elapsed: 16.520030\n",
      "DEBUG:root:Epoch: 3/100, Training Loss:0.000824, Acc:1.000000, elapsed: 134.088001\n",
      "DEBUG:root:Evalaton loss:0.000585, Acc:1.000000, elapsed: 16.458972\n",
      "DEBUG:root:Epoch: 4/100, Training Loss:0.000824, Acc:1.000000, elapsed: 134.404031\n",
      "DEBUG:root:Evalaton loss:0.000425, Acc:1.000000, elapsed: 16.739996\n",
      "DEBUG:root:Epoch: 5/100, Training Loss:0.000906, Acc:1.000000, elapsed: 134.293125\n",
      "DEBUG:root:Evalaton loss:0.000314, Acc:1.000000, elapsed: 16.814000\n",
      "DEBUG:root:No Improve more than 5 epochs, Exit Training! Best accuracy: 1.000000\n",
      "DEBUG:root:Loading data lines...\n",
      "DEBUG:root:656 Lines Loaded!\n",
      "INFO:root:Initializing Class TextClassifier...\n"
     ]
    },
    {
     "name": "stdout",
     "output_type": "stream",
     "text": [
      "output/models/盆腔疼痛_20220915100302_10000.pth\n"
     ]
    },
    {
     "name": "stderr",
     "output_type": "stream",
     "text": [
      "DEBUG:root:Loading Model output/models/盆腔疼痛_20220915100302_10000.pth\n",
      "INFO:root:TextClassifier Using Device: CUDA\n",
      "INFO:root:TextClassifier Loading Data...\n",
      "DEBUG:root:Using Text Pair? -> Yes\n",
      "DEBUG:root:Data For Predicting\n",
      "DEBUG:root:Loading data lines...\n",
      "DEBUG:root:158 Lines Loaded!\n",
      "INFO:root:Initializing Class TextClassifier...\n"
     ]
    },
    {
     "name": "stdout",
     "output_type": "stream",
     "text": [
      "best accuracy: 1.0\n",
      "{0: '0', 1: '1', 2: '2'}\n"
     ]
    },
    {
     "name": "stderr",
     "output_type": "stream",
     "text": [
      "DEBUG:root:Loading Model output/models/盆腔疼痛_20220915100302_10000.pth\n",
      "INFO:root:TextClassifier Using Device: CUDA\n",
      "INFO:root:TextClassifier Loading Data...\n",
      "DEBUG:root:Using Text Pair? -> Yes\n",
      "DEBUG:root:Data For Predicting\n",
      "DEBUG:root:Loading data lines...\n",
      "DEBUG:root:2766 Lines Loaded!\n",
      "DEBUG:root:Loading data lines...\n",
      "DEBUG:root:656 Lines Loaded!\n",
      "INFO:root:Initializing Class TextClassifier...\n"
     ]
    },
    {
     "name": "stdout",
     "output_type": "stream",
     "text": [
      "best accuracy: 1.0\n",
      "{0: '0', 1: '1', 2: '2'}\n"
     ]
    },
    {
     "name": "stderr",
     "output_type": "stream",
     "text": [
      "Some weights of the model checkpoint at ../BertModels/medical-roberta-wwm were not used when initializing BertModel: ['cls.predictions.bias', 'cls.predictions.decoder.bias', 'cls.predictions.decoder.weight', 'cls.predictions.transform.dense.weight', 'cls.predictions.transform.LayerNorm.weight', 'cls.predictions.transform.LayerNorm.bias', 'cls.predictions.transform.dense.bias']\n",
      "- This IS expected if you are initializing BertModel from the checkpoint of a model trained on another task or with another architecture (e.g. initializing a BertForSequenceClassification model from a BertForPreTraining model).\n",
      "- This IS NOT expected if you are initializing BertModel from the checkpoint of a model that you expect to be exactly identical (initializing a BertForSequenceClassification model from a BertForSequenceClassification model).\n",
      "Some weights of BertModel were not initialized from the model checkpoint at ../BertModels/medical-roberta-wwm and are newly initialized: ['bert.pooler.dense.bias', 'bert.pooler.dense.weight']\n",
      "You should probably TRAIN this model on a down-stream task to be able to use it for predictions and inference.\n",
      "DEBUG:root:Initializing Model BertTextClassfication\n",
      "INFO:root:TextClassifier Using Device: CUDA\n",
      "INFO:root:TextClassifier Loading Data...\n",
      "DEBUG:root:No\n",
      "DEBUG:root:Start Model Traning....\n",
      "DEBUG:root:Epoch: 0/100, Training Loss:0.045503, Acc:0.992413, elapsed: 134.460982\n",
      "DEBUG:root:Evalaton loss:0.044400, Acc:0.993902, elapsed: 17.053551\n",
      "DEBUG:root:Saving Model: output/models/迅速波及全腹_20220915101841_9939.pth\n",
      "DEBUG:root:Epoch: 1/100, Training Loss:0.036692, Acc:0.994942, elapsed: 135.129992\n",
      "DEBUG:root:Evalaton loss:0.041971, Acc:0.993902, elapsed: 16.457029\n",
      "DEBUG:root:Epoch: 2/100, Training Loss:0.037302, Acc:0.994942, elapsed: 133.901957\n",
      "DEBUG:root:Evalaton loss:0.040971, Acc:0.993902, elapsed: 16.383998\n",
      "DEBUG:root:Epoch: 3/100, Training Loss:0.036370, Acc:0.994942, elapsed: 134.235000\n",
      "DEBUG:root:Evalaton loss:0.041219, Acc:0.993902, elapsed: 16.559062\n",
      "DEBUG:root:Epoch: 4/100, Training Loss:0.036942, Acc:0.994942, elapsed: 133.845221\n",
      "DEBUG:root:Evalaton loss:0.040874, Acc:0.993902, elapsed: 16.520978\n",
      "DEBUG:root:Epoch: 5/100, Training Loss:0.037358, Acc:0.994942, elapsed: 134.188027\n",
      "DEBUG:root:Evalaton loss:0.042076, Acc:0.993902, elapsed: 16.497972\n",
      "DEBUG:root:No Improve more than 5 epochs, Exit Training! Best accuracy: 0.993902\n",
      "DEBUG:root:Loading data lines...\n",
      "DEBUG:root:656 Lines Loaded!\n",
      "INFO:root:Initializing Class TextClassifier...\n"
     ]
    },
    {
     "name": "stdout",
     "output_type": "stream",
     "text": [
      "output/models/迅速波及全腹_20220915101841_9939.pth\n"
     ]
    },
    {
     "name": "stderr",
     "output_type": "stream",
     "text": [
      "DEBUG:root:Loading Model output/models/迅速波及全腹_20220915101841_9939.pth\n",
      "INFO:root:TextClassifier Using Device: CUDA\n",
      "INFO:root:TextClassifier Loading Data...\n",
      "DEBUG:root:Using Text Pair? -> Yes\n",
      "DEBUG:root:Data For Predicting\n",
      "DEBUG:root:Loading data lines...\n",
      "DEBUG:root:158 Lines Loaded!\n",
      "INFO:root:Initializing Class TextClassifier...\n"
     ]
    },
    {
     "name": "stdout",
     "output_type": "stream",
     "text": [
      "best accuracy: 0.9939024390243902\n",
      "{0: '0', 1: '1', 2: '2'}\n"
     ]
    },
    {
     "name": "stderr",
     "output_type": "stream",
     "text": [
      "DEBUG:root:Loading Model output/models/迅速波及全腹_20220915101841_9939.pth\n",
      "INFO:root:TextClassifier Using Device: CUDA\n",
      "INFO:root:TextClassifier Loading Data...\n",
      "DEBUG:root:Using Text Pair? -> Yes\n",
      "DEBUG:root:Data For Predicting\n",
      "DEBUG:root:Loading data lines...\n",
      "DEBUG:root:2766 Lines Loaded!\n",
      "DEBUG:root:Loading data lines...\n",
      "DEBUG:root:656 Lines Loaded!\n",
      "INFO:root:Initializing Class TextClassifier...\n"
     ]
    },
    {
     "name": "stdout",
     "output_type": "stream",
     "text": [
      "best accuracy: 0.99375\n",
      "{0: '0', 1: '1', 2: '2'}\n"
     ]
    },
    {
     "name": "stderr",
     "output_type": "stream",
     "text": [
      "Some weights of the model checkpoint at ../BertModels/medical-roberta-wwm were not used when initializing BertModel: ['cls.predictions.bias', 'cls.predictions.decoder.bias', 'cls.predictions.decoder.weight', 'cls.predictions.transform.dense.weight', 'cls.predictions.transform.LayerNorm.weight', 'cls.predictions.transform.LayerNorm.bias', 'cls.predictions.transform.dense.bias']\n",
      "- This IS expected if you are initializing BertModel from the checkpoint of a model trained on another task or with another architecture (e.g. initializing a BertForSequenceClassification model from a BertForPreTraining model).\n",
      "- This IS NOT expected if you are initializing BertModel from the checkpoint of a model that you expect to be exactly identical (initializing a BertForSequenceClassification model from a BertForSequenceClassification model).\n",
      "Some weights of BertModel were not initialized from the model checkpoint at ../BertModels/medical-roberta-wwm and are newly initialized: ['bert.pooler.dense.bias', 'bert.pooler.dense.weight']\n",
      "You should probably TRAIN this model on a down-stream task to be able to use it for predictions and inference.\n",
      "DEBUG:root:Initializing Model BertTextClassfication\n",
      "INFO:root:TextClassifier Using Device: CUDA\n",
      "INFO:root:TextClassifier Loading Data...\n",
      "DEBUG:root:No\n",
      "DEBUG:root:Start Model Traning....\n",
      "DEBUG:root:Epoch: 0/100, Training Loss:0.564715, Acc:0.780708, elapsed: 133.994037\n",
      "DEBUG:root:Evalaton loss:0.653758, Acc:0.736280, elapsed: 16.786053\n",
      "DEBUG:root:Saving Model: output/models/黑便_20220915103418_7362.pth\n",
      "DEBUG:root:Epoch: 1/100, Training Loss:0.586335, Acc:0.776734, elapsed: 134.732001\n",
      "DEBUG:root:Evalaton loss:0.639438, Acc:0.736280, elapsed: 16.874970\n",
      "DEBUG:root:Epoch: 2/100, Training Loss:0.590743, Acc:0.776855, elapsed: 134.387999\n",
      "DEBUG:root:Evalaton loss:0.676577, Acc:0.736280, elapsed: 16.502030\n",
      "DEBUG:root:Epoch: 3/100, Training Loss:0.579448, Acc:0.777336, elapsed: 134.035028\n",
      "DEBUG:root:Evalaton loss:0.637717, Acc:0.736280, elapsed: 16.470969\n",
      "DEBUG:root:Epoch: 4/100, Training Loss:0.576270, Acc:0.777336, elapsed: 134.170030\n",
      "DEBUG:root:Evalaton loss:0.630983, Acc:0.736280, elapsed: 16.425000\n",
      "DEBUG:root:Epoch: 5/100, Training Loss:0.572496, Acc:0.777336, elapsed: 133.898022\n",
      "DEBUG:root:Evalaton loss:0.646585, Acc:0.736280, elapsed: 16.413029\n",
      "DEBUG:root:No Improve more than 5 epochs, Exit Training! Best accuracy: 0.736280\n",
      "DEBUG:root:Loading data lines...\n",
      "DEBUG:root:656 Lines Loaded!\n",
      "INFO:root:Initializing Class TextClassifier...\n"
     ]
    },
    {
     "name": "stdout",
     "output_type": "stream",
     "text": [
      "output/models/黑便_20220915103418_7362.pth\n"
     ]
    },
    {
     "name": "stderr",
     "output_type": "stream",
     "text": [
      "DEBUG:root:Loading Model output/models/黑便_20220915103418_7362.pth\n",
      "INFO:root:TextClassifier Using Device: CUDA\n",
      "INFO:root:TextClassifier Loading Data...\n",
      "DEBUG:root:Using Text Pair? -> Yes\n",
      "DEBUG:root:Data For Predicting\n",
      "DEBUG:root:Loading data lines...\n",
      "DEBUG:root:158 Lines Loaded!\n",
      "INFO:root:Initializing Class TextClassifier...\n"
     ]
    },
    {
     "name": "stdout",
     "output_type": "stream",
     "text": [
      "best accuracy: 0.7362804878048781\n",
      "{0: '0', 1: '1', 2: '2'}\n"
     ]
    },
    {
     "name": "stderr",
     "output_type": "stream",
     "text": [
      "DEBUG:root:Loading Model output/models/黑便_20220915103418_7362.pth\n",
      "INFO:root:TextClassifier Using Device: CUDA\n",
      "INFO:root:TextClassifier Loading Data...\n",
      "DEBUG:root:Using Text Pair? -> Yes\n",
      "DEBUG:root:Data For Predicting\n",
      "DEBUG:root:Loading data lines...\n",
      "DEBUG:root:2766 Lines Loaded!\n",
      "DEBUG:root:Loading data lines...\n",
      "DEBUG:root:656 Lines Loaded!\n",
      "INFO:root:Initializing Class TextClassifier...\n"
     ]
    },
    {
     "name": "stdout",
     "output_type": "stream",
     "text": [
      "best accuracy: 0.84375\n",
      "{0: '0', 1: '1', 2: '2'}\n"
     ]
    },
    {
     "name": "stderr",
     "output_type": "stream",
     "text": [
      "Some weights of the model checkpoint at ../BertModels/medical-roberta-wwm were not used when initializing BertModel: ['cls.predictions.bias', 'cls.predictions.decoder.bias', 'cls.predictions.decoder.weight', 'cls.predictions.transform.dense.weight', 'cls.predictions.transform.LayerNorm.weight', 'cls.predictions.transform.LayerNorm.bias', 'cls.predictions.transform.dense.bias']\n",
      "- This IS expected if you are initializing BertModel from the checkpoint of a model trained on another task or with another architecture (e.g. initializing a BertForSequenceClassification model from a BertForPreTraining model).\n",
      "- This IS NOT expected if you are initializing BertModel from the checkpoint of a model that you expect to be exactly identical (initializing a BertForSequenceClassification model from a BertForSequenceClassification model).\n",
      "Some weights of BertModel were not initialized from the model checkpoint at ../BertModels/medical-roberta-wwm and are newly initialized: ['bert.pooler.dense.bias', 'bert.pooler.dense.weight']\n",
      "You should probably TRAIN this model on a down-stream task to be able to use it for predictions and inference.\n",
      "DEBUG:root:Initializing Model BertTextClassfication\n",
      "INFO:root:TextClassifier Using Device: CUDA\n",
      "INFO:root:TextClassifier Loading Data...\n",
      "DEBUG:root:No\n",
      "DEBUG:root:Start Model Traning....\n",
      "DEBUG:root:Epoch: 0/100, Training Loss:0.769165, Acc:0.572977, elapsed: 134.015634\n",
      "DEBUG:root:Evalaton loss:0.795784, Acc:0.486280, elapsed: 16.448997\n",
      "DEBUG:root:Saving Model: output/models/右下腹疼痛_20220915104956_4862.pth\n",
      "DEBUG:root:Epoch: 1/100, Training Loss:0.829905, Acc:0.485549, elapsed: 134.097911\n",
      "DEBUG:root:Evalaton loss:0.791838, Acc:0.486280, elapsed: 16.483999\n",
      "DEBUG:root:Epoch: 2/100, Training Loss:0.818448, Acc:0.481455, elapsed: 134.091028\n",
      "DEBUG:root:Evalaton loss:0.814619, Acc:0.486280, elapsed: 16.766001\n",
      "DEBUG:root:Epoch: 3/100, Training Loss:0.812787, Acc:0.493738, elapsed: 134.064030\n",
      "DEBUG:root:Evalaton loss:0.794822, Acc:0.489329, elapsed: 16.442970\n",
      "DEBUG:root:Saving Model: output/models/右下腹疼痛_20220915105729_4893.pth\n",
      "DEBUG:root:Epoch: 4/100, Training Loss:0.812576, Acc:0.479648, elapsed: 133.928006\n",
      "DEBUG:root:Evalaton loss:0.797441, Acc:0.486280, elapsed: 16.525000\n",
      "DEBUG:root:Epoch: 5/100, Training Loss:0.808139, Acc:0.483261, elapsed: 134.113029\n",
      "DEBUG:root:Evalaton loss:0.790916, Acc:0.489329, elapsed: 16.460076\n",
      "DEBUG:root:Epoch: 6/100, Training Loss:0.803161, Acc:0.484586, elapsed: 134.379905\n",
      "DEBUG:root:Evalaton loss:0.794525, Acc:0.489329, elapsed: 16.937200\n",
      "DEBUG:root:Epoch: 7/100, Training Loss:0.804367, Acc:0.488198, elapsed: 134.243029\n",
      "DEBUG:root:Evalaton loss:0.791852, Acc:0.486280, elapsed: 16.757972\n",
      "DEBUG:root:Epoch: 8/100, Training Loss:0.806067, Acc:0.485067, elapsed: 134.262003\n",
      "DEBUG:root:Evalaton loss:0.791690, Acc:0.486280, elapsed: 16.669001\n",
      "DEBUG:root:No Improve more than 5 epochs, Exit Training! Best accuracy: 0.489329\n",
      "DEBUG:root:Loading data lines...\n",
      "DEBUG:root:656 Lines Loaded!\n",
      "INFO:root:Initializing Class TextClassifier...\n"
     ]
    },
    {
     "name": "stdout",
     "output_type": "stream",
     "text": [
      "output/models/右下腹疼痛_20220915105729_4893.pth\n"
     ]
    },
    {
     "name": "stderr",
     "output_type": "stream",
     "text": [
      "DEBUG:root:Loading Model output/models/右下腹疼痛_20220915105729_4893.pth\n",
      "INFO:root:TextClassifier Using Device: CUDA\n",
      "INFO:root:TextClassifier Loading Data...\n",
      "DEBUG:root:Using Text Pair? -> Yes\n",
      "DEBUG:root:Data For Predicting\n",
      "DEBUG:root:Loading data lines...\n",
      "DEBUG:root:158 Lines Loaded!\n",
      "INFO:root:Initializing Class TextClassifier...\n"
     ]
    },
    {
     "name": "stdout",
     "output_type": "stream",
     "text": [
      "best accuracy: 0.4893292682926829\n",
      "{0: '0', 1: '1', 2: '2'}\n"
     ]
    },
    {
     "name": "stderr",
     "output_type": "stream",
     "text": [
      "DEBUG:root:Loading Model output/models/右下腹疼痛_20220915105729_4893.pth\n",
      "INFO:root:TextClassifier Using Device: CUDA\n",
      "INFO:root:TextClassifier Loading Data...\n",
      "DEBUG:root:Using Text Pair? -> Yes\n",
      "DEBUG:root:Data For Predicting\n",
      "DEBUG:root:Loading data lines...\n",
      "DEBUG:root:2766 Lines Loaded!\n",
      "DEBUG:root:Loading data lines...\n",
      "DEBUG:root:656 Lines Loaded!\n",
      "INFO:root:Initializing Class TextClassifier...\n"
     ]
    },
    {
     "name": "stdout",
     "output_type": "stream",
     "text": [
      "best accuracy: 0.05\n",
      "{0: '0', 1: '1', 2: '2'}\n"
     ]
    },
    {
     "name": "stderr",
     "output_type": "stream",
     "text": [
      "Some weights of the model checkpoint at ../BertModels/medical-roberta-wwm were not used when initializing BertModel: ['cls.predictions.bias', 'cls.predictions.decoder.bias', 'cls.predictions.decoder.weight', 'cls.predictions.transform.dense.weight', 'cls.predictions.transform.LayerNorm.weight', 'cls.predictions.transform.LayerNorm.bias', 'cls.predictions.transform.dense.bias']\n",
      "- This IS expected if you are initializing BertModel from the checkpoint of a model trained on another task or with another architecture (e.g. initializing a BertForSequenceClassification model from a BertForPreTraining model).\n",
      "- This IS NOT expected if you are initializing BertModel from the checkpoint of a model that you expect to be exactly identical (initializing a BertForSequenceClassification model from a BertForSequenceClassification model).\n",
      "Some weights of BertModel were not initialized from the model checkpoint at ../BertModels/medical-roberta-wwm and are newly initialized: ['bert.pooler.dense.bias', 'bert.pooler.dense.weight']\n",
      "You should probably TRAIN this model on a down-stream task to be able to use it for predictions and inference.\n",
      "DEBUG:root:Initializing Model BertTextClassfication\n",
      "INFO:root:TextClassifier Using Device: CUDA\n",
      "INFO:root:TextClassifier Loading Data...\n",
      "DEBUG:root:No\n",
      "DEBUG:root:Start Model Traning....\n",
      "DEBUG:root:Epoch: 0/100, Training Loss:0.340623, Acc:0.882346, elapsed: 134.872699\n",
      "DEBUG:root:Evalaton loss:0.676833, Acc:0.830793, elapsed: 16.748030\n",
      "DEBUG:root:Saving Model: output/models/转移性右下腹疼痛_20220915111309_8307.pth\n",
      "DEBUG:root:Epoch: 1/100, Training Loss:0.455765, Acc:0.829480, elapsed: 134.506027\n",
      "DEBUG:root:Evalaton loss:0.320516, Acc:0.862805, elapsed: 16.867806\n",
      "DEBUG:root:Saving Model: output/models/转移性右下腹疼痛_20220915111541_8628.pth\n",
      "DEBUG:root:Epoch: 2/100, Training Loss:0.381161, Acc:0.835140, elapsed: 134.546638\n",
      "DEBUG:root:Evalaton loss:0.330679, Acc:0.824695, elapsed: 16.510947\n",
      "DEBUG:root:Epoch: 3/100, Training Loss:0.531459, Acc:0.831407, elapsed: 133.975133\n",
      "DEBUG:root:Evalaton loss:0.581458, Acc:0.830793, elapsed: 16.598353\n",
      "DEBUG:root:Epoch: 4/100, Training Loss:0.594450, Acc:0.824663, elapsed: 134.187618\n",
      "DEBUG:root:Evalaton loss:0.572007, Acc:0.830793, elapsed: 16.583068\n",
      "DEBUG:root:Epoch: 5/100, Training Loss:0.589117, Acc:0.824663, elapsed: 134.597702\n",
      "DEBUG:root:Evalaton loss:0.568016, Acc:0.830793, elapsed: 20.300287\n",
      "DEBUG:root:Epoch: 6/100, Training Loss:0.587913, Acc:0.824663, elapsed: 134.654410\n",
      "DEBUG:root:Evalaton loss:0.567254, Acc:0.830793, elapsed: 19.999941\n",
      "DEBUG:root:No Improve more than 5 epochs, Exit Training! Best accuracy: 0.862805\n",
      "DEBUG:root:Loading data lines...\n",
      "DEBUG:root:656 Lines Loaded!\n",
      "INFO:root:Initializing Class TextClassifier...\n"
     ]
    },
    {
     "name": "stdout",
     "output_type": "stream",
     "text": [
      "output/models/转移性右下腹疼痛_20220915111541_8628.pth\n"
     ]
    },
    {
     "name": "stderr",
     "output_type": "stream",
     "text": [
      "DEBUG:root:Loading Model output/models/转移性右下腹疼痛_20220915111541_8628.pth\n",
      "INFO:root:TextClassifier Using Device: CUDA\n",
      "INFO:root:TextClassifier Loading Data...\n",
      "DEBUG:root:Using Text Pair? -> Yes\n",
      "DEBUG:root:Data For Predicting\n",
      "DEBUG:root:Loading data lines...\n",
      "DEBUG:root:158 Lines Loaded!\n",
      "INFO:root:Initializing Class TextClassifier...\n"
     ]
    },
    {
     "name": "stdout",
     "output_type": "stream",
     "text": [
      "best accuracy: 0.8399390243902439\n",
      "{0: '0', 1: '1', 2: '2'}\n"
     ]
    },
    {
     "name": "stderr",
     "output_type": "stream",
     "text": [
      "DEBUG:root:Loading Model output/models/转移性右下腹疼痛_20220915111541_8628.pth\n",
      "INFO:root:TextClassifier Using Device: CUDA\n",
      "INFO:root:TextClassifier Loading Data...\n",
      "DEBUG:root:Using Text Pair? -> Yes\n",
      "DEBUG:root:Data For Predicting\n",
      "DEBUG:root:Loading data lines...\n",
      "DEBUG:root:2766 Lines Loaded!\n",
      "DEBUG:root:Loading data lines...\n",
      "DEBUG:root:656 Lines Loaded!\n",
      "INFO:root:Initializing Class TextClassifier...\n"
     ]
    },
    {
     "name": "stdout",
     "output_type": "stream",
     "text": [
      "best accuracy: 0.06875\n",
      "{0: '0', 1: '1', 2: '2'}\n"
     ]
    },
    {
     "name": "stderr",
     "output_type": "stream",
     "text": [
      "Some weights of the model checkpoint at ../BertModels/medical-roberta-wwm were not used when initializing BertModel: ['cls.predictions.bias', 'cls.predictions.decoder.bias', 'cls.predictions.decoder.weight', 'cls.predictions.transform.dense.weight', 'cls.predictions.transform.LayerNorm.weight', 'cls.predictions.transform.LayerNorm.bias', 'cls.predictions.transform.dense.bias']\n",
      "- This IS expected if you are initializing BertModel from the checkpoint of a model trained on another task or with another architecture (e.g. initializing a BertForSequenceClassification model from a BertForPreTraining model).\n",
      "- This IS NOT expected if you are initializing BertModel from the checkpoint of a model that you expect to be exactly identical (initializing a BertForSequenceClassification model from a BertForSequenceClassification model).\n",
      "Some weights of BertModel were not initialized from the model checkpoint at ../BertModels/medical-roberta-wwm and are newly initialized: ['bert.pooler.dense.bias', 'bert.pooler.dense.weight']\n",
      "You should probably TRAIN this model on a down-stream task to be able to use it for predictions and inference.\n",
      "DEBUG:root:Initializing Model BertTextClassfication\n",
      "INFO:root:TextClassifier Using Device: CUDA\n",
      "INFO:root:TextClassifier Loading Data...\n",
      "DEBUG:root:No\n",
      "DEBUG:root:Start Model Traning....\n",
      "DEBUG:root:Epoch: 0/100, Training Loss:0.856064, Acc:0.578637, elapsed: 141.326679\n",
      "DEBUG:root:Evalaton loss:0.716595, Acc:0.679878, elapsed: 23.257688\n",
      "DEBUG:root:Saving Model: output/models/中腹痛_20220915113146_6798.pth\n",
      "DEBUG:root:Epoch: 1/100, Training Loss:0.891221, Acc:0.555877, elapsed: 140.547808\n",
      "DEBUG:root:Evalaton loss:0.813704, Acc:0.675305, elapsed: 16.285368\n",
      "DEBUG:root:Epoch: 2/100, Training Loss:0.830839, Acc:0.598386, elapsed: 133.528957\n",
      "DEBUG:root:Evalaton loss:0.701464, Acc:0.705793, elapsed: 16.428642\n",
      "DEBUG:root:Saving Model: output/models/中腹痛_20220915113654_7057.pth\n",
      "DEBUG:root:Epoch: 3/100, Training Loss:0.809790, Acc:0.586103, elapsed: 133.949883\n",
      "DEBUG:root:Evalaton loss:0.825240, Acc:0.527439, elapsed: 16.783180\n",
      "DEBUG:root:Epoch: 4/100, Training Loss:0.919114, Acc:0.475554, elapsed: 134.845759\n",
      "DEBUG:root:Evalaton loss:0.904125, Acc:0.516768, elapsed: 21.591727\n",
      "DEBUG:root:Epoch: 5/100, Training Loss:0.913815, Acc:0.480853, elapsed: 140.796018\n",
      "DEBUG:root:Evalaton loss:0.897140, Acc:0.516768, elapsed: 16.460039\n",
      "DEBUG:root:Epoch: 6/100, Training Loss:0.906121, Acc:0.491329, elapsed: 134.676052\n",
      "DEBUG:root:Evalaton loss:0.899598, Acc:0.516768, elapsed: 23.662722\n",
      "DEBUG:root:Epoch: 7/100, Training Loss:0.909319, Acc:0.489764, elapsed: 141.471629\n",
      "DEBUG:root:Evalaton loss:0.895602, Acc:0.516768, elapsed: 23.157894\n",
      "DEBUG:root:No Improve more than 5 epochs, Exit Training! Best accuracy: 0.705793\n",
      "DEBUG:root:Loading data lines...\n",
      "DEBUG:root:656 Lines Loaded!\n",
      "INFO:root:Initializing Class TextClassifier...\n"
     ]
    },
    {
     "name": "stdout",
     "output_type": "stream",
     "text": [
      "output/models/中腹痛_20220915113654_7057.pth\n"
     ]
    },
    {
     "name": "stderr",
     "output_type": "stream",
     "text": [
      "DEBUG:root:Loading Model output/models/中腹痛_20220915113654_7057.pth\n",
      "INFO:root:TextClassifier Using Device: CUDA\n",
      "INFO:root:TextClassifier Loading Data...\n",
      "DEBUG:root:Using Text Pair? -> Yes\n",
      "DEBUG:root:Data For Predicting\n",
      "DEBUG:root:Loading data lines...\n",
      "DEBUG:root:158 Lines Loaded!\n",
      "INFO:root:Initializing Class TextClassifier...\n"
     ]
    },
    {
     "name": "stdout",
     "output_type": "stream",
     "text": [
      "best accuracy: 0.7042682926829268\n",
      "{0: '0', 1: '1', 2: '2'}\n"
     ]
    },
    {
     "name": "stderr",
     "output_type": "stream",
     "text": [
      "DEBUG:root:Loading Model output/models/中腹痛_20220915113654_7057.pth\n",
      "INFO:root:TextClassifier Using Device: CUDA\n",
      "INFO:root:TextClassifier Loading Data...\n",
      "DEBUG:root:Using Text Pair? -> Yes\n",
      "DEBUG:root:Data For Predicting\n",
      "DEBUG:root:Loading data lines...\n",
      "DEBUG:root:2766 Lines Loaded!\n",
      "DEBUG:root:Loading data lines...\n",
      "DEBUG:root:656 Lines Loaded!\n",
      "INFO:root:Initializing Class TextClassifier...\n"
     ]
    },
    {
     "name": "stdout",
     "output_type": "stream",
     "text": [
      "best accuracy: 0.06875\n",
      "{0: '0', 1: '1', 2: '2'}\n"
     ]
    },
    {
     "name": "stderr",
     "output_type": "stream",
     "text": [
      "Some weights of the model checkpoint at ../BertModels/medical-roberta-wwm were not used when initializing BertModel: ['cls.predictions.bias', 'cls.predictions.decoder.bias', 'cls.predictions.decoder.weight', 'cls.predictions.transform.dense.weight', 'cls.predictions.transform.LayerNorm.weight', 'cls.predictions.transform.LayerNorm.bias', 'cls.predictions.transform.dense.bias']\n",
      "- This IS expected if you are initializing BertModel from the checkpoint of a model trained on another task or with another architecture (e.g. initializing a BertForSequenceClassification model from a BertForPreTraining model).\n",
      "- This IS NOT expected if you are initializing BertModel from the checkpoint of a model that you expect to be exactly identical (initializing a BertForSequenceClassification model from a BertForSequenceClassification model).\n",
      "Some weights of BertModel were not initialized from the model checkpoint at ../BertModels/medical-roberta-wwm and are newly initialized: ['bert.pooler.dense.bias', 'bert.pooler.dense.weight']\n",
      "You should probably TRAIN this model on a down-stream task to be able to use it for predictions and inference.\n",
      "DEBUG:root:Initializing Model BertTextClassfication\n",
      "INFO:root:TextClassifier Using Device: CUDA\n",
      "INFO:root:TextClassifier Loading Data...\n",
      "DEBUG:root:No\n",
      "DEBUG:root:Start Model Traning....\n",
      "DEBUG:root:Epoch: 0/100, Training Loss:0.558116, Acc:0.757587, elapsed: 135.425617\n",
      "DEBUG:root:Evalaton loss:0.610934, Acc:0.748476, elapsed: 16.514338\n",
      "DEBUG:root:Saving Model: output/models/右上腹痛_20220915115321_7484.pth\n",
      "DEBUG:root:Epoch: 1/100, Training Loss:0.456610, Acc:0.793353, elapsed: 135.438795\n",
      "DEBUG:root:Evalaton loss:0.709913, Acc:0.769817, elapsed: 22.535857\n",
      "DEBUG:root:Saving Model: output/models/右上腹痛_20220915115600_7698.pth\n",
      "DEBUG:root:Epoch: 2/100, Training Loss:0.704370, Acc:0.707009, elapsed: 135.957607\n",
      "DEBUG:root:Evalaton loss:0.879195, Acc:0.644817, elapsed: 23.324292\n",
      "DEBUG:root:Epoch: 3/100, Training Loss:0.901827, Acc:0.635838, elapsed: 139.374485\n",
      "DEBUG:root:Evalaton loss:0.872103, Acc:0.644817, elapsed: 16.702238\n",
      "DEBUG:root:Epoch: 4/100, Training Loss:0.887496, Acc:0.636681, elapsed: 135.080173\n",
      "DEBUG:root:Evalaton loss:0.876435, Acc:0.644817, elapsed: 23.146163\n",
      "DEBUG:root:Epoch: 5/100, Training Loss:0.887096, Acc:0.636922, elapsed: 141.455647\n",
      "DEBUG:root:Evalaton loss:0.875202, Acc:0.644817, elapsed: 16.500077\n",
      "DEBUG:root:Epoch: 6/100, Training Loss:0.885577, Acc:0.637042, elapsed: 134.098052\n",
      "DEBUG:root:Evalaton loss:0.870269, Acc:0.644817, elapsed: 16.371278\n",
      "DEBUG:root:No Improve more than 5 epochs, Exit Training! Best accuracy: 0.769817\n",
      "DEBUG:root:Loading data lines...\n",
      "DEBUG:root:656 Lines Loaded!\n",
      "INFO:root:Initializing Class TextClassifier...\n"
     ]
    },
    {
     "name": "stdout",
     "output_type": "stream",
     "text": [
      "output/models/右上腹痛_20220915115600_7698.pth\n"
     ]
    },
    {
     "name": "stderr",
     "output_type": "stream",
     "text": [
      "DEBUG:root:Loading Model output/models/右上腹痛_20220915115600_7698.pth\n",
      "INFO:root:TextClassifier Using Device: CUDA\n",
      "INFO:root:TextClassifier Loading Data...\n",
      "DEBUG:root:Using Text Pair? -> Yes\n",
      "DEBUG:root:Data For Predicting\n",
      "DEBUG:root:Loading data lines...\n",
      "DEBUG:root:158 Lines Loaded!\n",
      "INFO:root:Initializing Class TextClassifier...\n"
     ]
    },
    {
     "name": "stdout",
     "output_type": "stream",
     "text": [
      "best accuracy: 0.27134146341463417\n",
      "{0: '0', 1: '1', 2: '2'}\n"
     ]
    },
    {
     "name": "stderr",
     "output_type": "stream",
     "text": [
      "DEBUG:root:Loading Model output/models/右上腹痛_20220915115600_7698.pth\n",
      "INFO:root:TextClassifier Using Device: CUDA\n",
      "INFO:root:TextClassifier Loading Data...\n",
      "DEBUG:root:Using Text Pair? -> Yes\n",
      "DEBUG:root:Data For Predicting\n",
      "DEBUG:root:Loading data lines...\n",
      "DEBUG:root:2766 Lines Loaded!\n",
      "DEBUG:root:Loading data lines...\n",
      "DEBUG:root:656 Lines Loaded!\n",
      "INFO:root:Initializing Class TextClassifier...\n"
     ]
    },
    {
     "name": "stdout",
     "output_type": "stream",
     "text": [
      "best accuracy: 0.1375\n",
      "{0: '0', 1: '1', 2: '2'}\n"
     ]
    },
    {
     "name": "stderr",
     "output_type": "stream",
     "text": [
      "Some weights of the model checkpoint at ../BertModels/medical-roberta-wwm were not used when initializing BertModel: ['cls.predictions.bias', 'cls.predictions.decoder.bias', 'cls.predictions.decoder.weight', 'cls.predictions.transform.dense.weight', 'cls.predictions.transform.LayerNorm.weight', 'cls.predictions.transform.LayerNorm.bias', 'cls.predictions.transform.dense.bias']\n",
      "- This IS expected if you are initializing BertModel from the checkpoint of a model trained on another task or with another architecture (e.g. initializing a BertForSequenceClassification model from a BertForPreTraining model).\n",
      "- This IS NOT expected if you are initializing BertModel from the checkpoint of a model that you expect to be exactly identical (initializing a BertForSequenceClassification model from a BertForSequenceClassification model).\n",
      "Some weights of BertModel were not initialized from the model checkpoint at ../BertModels/medical-roberta-wwm and are newly initialized: ['bert.pooler.dense.bias', 'bert.pooler.dense.weight']\n",
      "You should probably TRAIN this model on a down-stream task to be able to use it for predictions and inference.\n",
      "DEBUG:root:Initializing Model BertTextClassfication\n",
      "INFO:root:TextClassifier Using Device: CUDA\n",
      "INFO:root:TextClassifier Loading Data...\n",
      "DEBUG:root:No\n",
      "DEBUG:root:Start Model Traning....\n",
      "DEBUG:root:Epoch: 0/100, Training Loss:0.566037, Acc:0.777336, elapsed: 134.193463\n",
      "DEBUG:root:Evalaton loss:0.466042, Acc:0.809451, elapsed: 16.497603\n",
      "DEBUG:root:Saving Model: output/models/放射痛（放射到同侧半腹或背部）_20220915121206_8094.pth\n",
      "DEBUG:root:Epoch: 1/100, Training Loss:0.627189, Acc:0.759995, elapsed: 134.136377\n",
      "DEBUG:root:Evalaton loss:0.808520, Acc:0.685976, elapsed: 16.425483\n",
      "DEBUG:root:Epoch: 2/100, Training Loss:0.811030, Acc:0.691715, elapsed: 134.147912\n",
      "DEBUG:root:Evalaton loss:0.797057, Acc:0.685976, elapsed: 16.445101\n",
      "DEBUG:root:Epoch: 3/100, Training Loss:0.804488, Acc:0.692919, elapsed: 134.720228\n",
      "DEBUG:root:Evalaton loss:0.796518, Acc:0.685976, elapsed: 23.389855\n",
      "DEBUG:root:Epoch: 4/100, Training Loss:0.802854, Acc:0.693160, elapsed: 140.896186\n",
      "DEBUG:root:Evalaton loss:0.797455, Acc:0.685976, elapsed: 23.025175\n",
      "DEBUG:root:Epoch: 5/100, Training Loss:0.797565, Acc:0.693160, elapsed: 136.310091\n",
      "DEBUG:root:Evalaton loss:0.793731, Acc:0.685976, elapsed: 23.487311\n",
      "DEBUG:root:No Improve more than 5 epochs, Exit Training! Best accuracy: 0.809451\n",
      "DEBUG:root:Loading data lines...\n",
      "DEBUG:root:656 Lines Loaded!\n",
      "INFO:root:Initializing Class TextClassifier...\n"
     ]
    },
    {
     "name": "stdout",
     "output_type": "stream",
     "text": [
      "output/models/放射痛（放射到同侧半腹或背部）_20220915121206_8094.pth\n"
     ]
    },
    {
     "name": "stderr",
     "output_type": "stream",
     "text": [
      "DEBUG:root:Loading Model output/models/放射痛（放射到同侧半腹或背部）_20220915121206_8094.pth\n",
      "INFO:root:TextClassifier Using Device: CUDA\n",
      "INFO:root:TextClassifier Loading Data...\n",
      "DEBUG:root:Using Text Pair? -> Yes\n",
      "DEBUG:root:Data For Predicting\n",
      "DEBUG:root:Loading data lines...\n",
      "DEBUG:root:158 Lines Loaded!\n",
      "INFO:root:Initializing Class TextClassifier...\n"
     ]
    },
    {
     "name": "stdout",
     "output_type": "stream",
     "text": [
      "best accuracy: 0.2545731707317073\n",
      "{0: '0', 1: '1', 2: '2'}\n"
     ]
    },
    {
     "name": "stderr",
     "output_type": "stream",
     "text": [
      "DEBUG:root:Loading Model output/models/放射痛（放射到同侧半腹或背部）_20220915121206_8094.pth\n",
      "INFO:root:TextClassifier Using Device: CUDA\n",
      "INFO:root:TextClassifier Loading Data...\n",
      "DEBUG:root:Using Text Pair? -> Yes\n",
      "DEBUG:root:Data For Predicting\n",
      "DEBUG:root:Loading data lines...\n",
      "DEBUG:root:2766 Lines Loaded!\n",
      "DEBUG:root:Loading data lines...\n",
      "DEBUG:root:656 Lines Loaded!\n",
      "INFO:root:Initializing Class TextClassifier...\n"
     ]
    },
    {
     "name": "stdout",
     "output_type": "stream",
     "text": [
      "best accuracy: 0.19375\n",
      "{0: '0', 1: '1', 2: '2'}\n"
     ]
    },
    {
     "name": "stderr",
     "output_type": "stream",
     "text": [
      "Some weights of the model checkpoint at ../BertModels/medical-roberta-wwm were not used when initializing BertModel: ['cls.predictions.bias', 'cls.predictions.decoder.bias', 'cls.predictions.decoder.weight', 'cls.predictions.transform.dense.weight', 'cls.predictions.transform.LayerNorm.weight', 'cls.predictions.transform.LayerNorm.bias', 'cls.predictions.transform.dense.bias']\n",
      "- This IS expected if you are initializing BertModel from the checkpoint of a model trained on another task or with another architecture (e.g. initializing a BertForSequenceClassification model from a BertForPreTraining model).\n",
      "- This IS NOT expected if you are initializing BertModel from the checkpoint of a model that you expect to be exactly identical (initializing a BertForSequenceClassification model from a BertForSequenceClassification model).\n",
      "Some weights of BertModel were not initialized from the model checkpoint at ../BertModels/medical-roberta-wwm and are newly initialized: ['bert.pooler.dense.bias', 'bert.pooler.dense.weight']\n",
      "You should probably TRAIN this model on a down-stream task to be able to use it for predictions and inference.\n",
      "DEBUG:root:Initializing Model BertTextClassfication\n",
      "INFO:root:TextClassifier Using Device: CUDA\n",
      "INFO:root:TextClassifier Loading Data...\n",
      "DEBUG:root:No\n",
      "DEBUG:root:Start Model Traning....\n",
      "DEBUG:root:Epoch: 0/100, Training Loss:0.821950, Acc:0.672808, elapsed: 135.459511\n",
      "DEBUG:root:Evalaton loss:0.958392, Acc:0.620427, elapsed: 23.500266\n",
      "DEBUG:root:Saving Model: output/models/持续性腹痛_20220915122837_6204.pth\n",
      "DEBUG:root:Epoch: 1/100, Training Loss:0.942589, Acc:0.618377, elapsed: 141.097456\n",
      "DEBUG:root:Evalaton loss:0.916138, Acc:0.620427, elapsed: 17.030329\n",
      "DEBUG:root:Epoch: 2/100, Training Loss:0.942577, Acc:0.622351, elapsed: 141.221610\n",
      "DEBUG:root:Evalaton loss:0.929050, Acc:0.620427, elapsed: 23.285522\n",
      "DEBUG:root:Epoch: 3/100, Training Loss:0.931883, Acc:0.626204, elapsed: 141.291179\n",
      "DEBUG:root:Evalaton loss:0.916553, Acc:0.620427, elapsed: 23.282490\n",
      "DEBUG:root:Epoch: 4/100, Training Loss:0.925037, Acc:0.625843, elapsed: 141.237953\n",
      "DEBUG:root:Evalaton loss:0.923372, Acc:0.620427, elapsed: 23.374838\n",
      "DEBUG:root:Epoch: 5/100, Training Loss:0.922203, Acc:0.625963, elapsed: 136.860126\n",
      "DEBUG:root:Evalaton loss:0.917682, Acc:0.620427, elapsed: 23.403960\n",
      "DEBUG:root:No Improve more than 5 epochs, Exit Training! Best accuracy: 0.620427\n",
      "DEBUG:root:Loading data lines...\n",
      "DEBUG:root:656 Lines Loaded!\n",
      "INFO:root:Initializing Class TextClassifier...\n"
     ]
    },
    {
     "name": "stdout",
     "output_type": "stream",
     "text": [
      "output/models/持续性腹痛_20220915122837_6204.pth\n"
     ]
    },
    {
     "name": "stderr",
     "output_type": "stream",
     "text": [
      "DEBUG:root:Loading Model output/models/持续性腹痛_20220915122837_6204.pth\n",
      "INFO:root:TextClassifier Using Device: CUDA\n",
      "INFO:root:TextClassifier Loading Data...\n",
      "DEBUG:root:Using Text Pair? -> Yes\n",
      "DEBUG:root:Data For Predicting\n",
      "DEBUG:root:Loading data lines...\n",
      "DEBUG:root:158 Lines Loaded!\n",
      "INFO:root:Initializing Class TextClassifier...\n"
     ]
    },
    {
     "name": "stdout",
     "output_type": "stream",
     "text": [
      "best accuracy: 0.6204268292682927\n",
      "{0: '0', 1: '1', 2: '2'}\n"
     ]
    },
    {
     "name": "stderr",
     "output_type": "stream",
     "text": [
      "DEBUG:root:Loading Model output/models/持续性腹痛_20220915122837_6204.pth\n",
      "INFO:root:TextClassifier Using Device: CUDA\n",
      "INFO:root:TextClassifier Loading Data...\n",
      "DEBUG:root:Using Text Pair? -> Yes\n",
      "DEBUG:root:Data For Predicting\n",
      "DEBUG:root:Loading data lines...\n",
      "DEBUG:root:2766 Lines Loaded!\n",
      "DEBUG:root:Loading data lines...\n",
      "DEBUG:root:656 Lines Loaded!\n",
      "INFO:root:Initializing Class TextClassifier...\n"
     ]
    },
    {
     "name": "stdout",
     "output_type": "stream",
     "text": [
      "best accuracy: 0.525\n",
      "{0: '0', 1: '1', 2: '2'}\n"
     ]
    },
    {
     "name": "stderr",
     "output_type": "stream",
     "text": [
      "Some weights of the model checkpoint at ../BertModels/medical-roberta-wwm were not used when initializing BertModel: ['cls.predictions.bias', 'cls.predictions.decoder.bias', 'cls.predictions.decoder.weight', 'cls.predictions.transform.dense.weight', 'cls.predictions.transform.LayerNorm.weight', 'cls.predictions.transform.LayerNorm.bias', 'cls.predictions.transform.dense.bias']\n",
      "- This IS expected if you are initializing BertModel from the checkpoint of a model trained on another task or with another architecture (e.g. initializing a BertForSequenceClassification model from a BertForPreTraining model).\n",
      "- This IS NOT expected if you are initializing BertModel from the checkpoint of a model that you expect to be exactly identical (initializing a BertForSequenceClassification model from a BertForSequenceClassification model).\n",
      "Some weights of BertModel were not initialized from the model checkpoint at ../BertModels/medical-roberta-wwm and are newly initialized: ['bert.pooler.dense.bias', 'bert.pooler.dense.weight']\n",
      "You should probably TRAIN this model on a down-stream task to be able to use it for predictions and inference.\n",
      "DEBUG:root:Initializing Model BertTextClassfication\n",
      "INFO:root:TextClassifier Using Device: CUDA\n",
      "INFO:root:TextClassifier Loading Data...\n",
      "DEBUG:root:No\n",
      "DEBUG:root:Start Model Traning....\n",
      "DEBUG:root:Epoch: 0/100, Training Loss:0.571128, Acc:0.742293, elapsed: 135.691424\n",
      "DEBUG:root:Evalaton loss:0.542725, Acc:0.768293, elapsed: 23.368360\n",
      "DEBUG:root:Saving Model: output/models/仰卧加重，坐位缓解_20220915124538_7682.pth\n",
      "DEBUG:root:Epoch: 1/100, Training Loss:0.581114, Acc:0.756382, elapsed: 141.050404\n",
      "DEBUG:root:Evalaton loss:0.567274, Acc:0.768293, elapsed: 16.981305\n",
      "DEBUG:root:Epoch: 2/100, Training Loss:0.577834, Acc:0.758189, elapsed: 140.947275\n",
      "DEBUG:root:Evalaton loss:0.544659, Acc:0.768293, elapsed: 23.306158\n",
      "DEBUG:root:Epoch: 3/100, Training Loss:0.575892, Acc:0.757828, elapsed: 140.946182\n",
      "DEBUG:root:Evalaton loss:0.545460, Acc:0.768293, elapsed: 17.208196\n",
      "DEBUG:root:Epoch: 4/100, Training Loss:0.572175, Acc:0.758068, elapsed: 141.080801\n",
      "DEBUG:root:Evalaton loss:0.548268, Acc:0.768293, elapsed: 23.456734\n",
      "DEBUG:root:Epoch: 5/100, Training Loss:0.571994, Acc:0.757948, elapsed: 140.890561\n",
      "DEBUG:root:Evalaton loss:0.545438, Acc:0.768293, elapsed: 23.219225\n",
      "DEBUG:root:No Improve more than 5 epochs, Exit Training! Best accuracy: 0.768293\n",
      "DEBUG:root:Loading data lines...\n",
      "DEBUG:root:656 Lines Loaded!\n",
      "INFO:root:Initializing Class TextClassifier...\n"
     ]
    },
    {
     "name": "stdout",
     "output_type": "stream",
     "text": [
      "output/models/仰卧加重，坐位缓解_20220915124538_7682.pth\n"
     ]
    },
    {
     "name": "stderr",
     "output_type": "stream",
     "text": [
      "DEBUG:root:Loading Model output/models/仰卧加重，坐位缓解_20220915124538_7682.pth\n",
      "INFO:root:TextClassifier Using Device: CUDA\n",
      "INFO:root:TextClassifier Loading Data...\n",
      "DEBUG:root:Using Text Pair? -> Yes\n",
      "DEBUG:root:Data For Predicting\n",
      "DEBUG:root:Loading data lines...\n",
      "DEBUG:root:158 Lines Loaded!\n",
      "INFO:root:Initializing Class TextClassifier...\n"
     ]
    },
    {
     "name": "stdout",
     "output_type": "stream",
     "text": [
      "best accuracy: 0.7682926829268293\n",
      "{0: '0', 1: '1', 2: '2'}\n"
     ]
    },
    {
     "name": "stderr",
     "output_type": "stream",
     "text": [
      "DEBUG:root:Loading Model output/models/仰卧加重，坐位缓解_20220915124538_7682.pth\n",
      "INFO:root:TextClassifier Using Device: CUDA\n",
      "INFO:root:TextClassifier Loading Data...\n",
      "DEBUG:root:Using Text Pair? -> Yes\n",
      "DEBUG:root:Data For Predicting\n",
      "DEBUG:root:Loading data lines...\n",
      "DEBUG:root:2766 Lines Loaded!\n",
      "DEBUG:root:Loading data lines...\n",
      "DEBUG:root:656 Lines Loaded!\n",
      "INFO:root:Initializing Class TextClassifier...\n"
     ]
    },
    {
     "name": "stdout",
     "output_type": "stream",
     "text": [
      "best accuracy: 1.0\n",
      "{0: '0', 1: '1', 2: '2'}\n"
     ]
    },
    {
     "name": "stderr",
     "output_type": "stream",
     "text": [
      "Some weights of the model checkpoint at ../BertModels/medical-roberta-wwm were not used when initializing BertModel: ['cls.predictions.bias', 'cls.predictions.decoder.bias', 'cls.predictions.decoder.weight', 'cls.predictions.transform.dense.weight', 'cls.predictions.transform.LayerNorm.weight', 'cls.predictions.transform.LayerNorm.bias', 'cls.predictions.transform.dense.bias']\n",
      "- This IS expected if you are initializing BertModel from the checkpoint of a model trained on another task or with another architecture (e.g. initializing a BertForSequenceClassification model from a BertForPreTraining model).\n",
      "- This IS NOT expected if you are initializing BertModel from the checkpoint of a model that you expect to be exactly identical (initializing a BertForSequenceClassification model from a BertForSequenceClassification model).\n",
      "Some weights of BertModel were not initialized from the model checkpoint at ../BertModels/medical-roberta-wwm and are newly initialized: ['bert.pooler.dense.bias', 'bert.pooler.dense.weight']\n",
      "You should probably TRAIN this model on a down-stream task to be able to use it for predictions and inference.\n",
      "DEBUG:root:Initializing Model BertTextClassfication\n",
      "INFO:root:TextClassifier Using Device: CUDA\n",
      "INFO:root:TextClassifier Loading Data...\n",
      "DEBUG:root:No\n",
      "DEBUG:root:Start Model Traning....\n",
      "DEBUG:root:Epoch: 0/100, Training Loss:0.548578, Acc:0.787693, elapsed: 139.732593\n",
      "DEBUG:root:Evalaton loss:0.422333, Acc:0.838415, elapsed: 23.311477\n",
      "DEBUG:root:Saving Model: output/models/阵发性疼痛_20220915130245_8384.pth\n",
      "DEBUG:root:Epoch: 1/100, Training Loss:0.549977, Acc:0.791305, elapsed: 141.199860\n",
      "DEBUG:root:Evalaton loss:0.774928, Acc:0.731707, elapsed: 21.459533\n",
      "DEBUG:root:Epoch: 2/100, Training Loss:0.817417, Acc:0.721098, elapsed: 140.234136\n",
      "DEBUG:root:Evalaton loss:0.776499, Acc:0.731707, elapsed: 18.367274\n",
      "DEBUG:root:Epoch: 3/100, Training Loss:0.804867, Acc:0.721098, elapsed: 135.362939\n",
      "DEBUG:root:Evalaton loss:0.769007, Acc:0.731707, elapsed: 16.317349\n",
      "DEBUG:root:Epoch: 4/100, Training Loss:0.796718, Acc:0.721098, elapsed: 133.298214\n",
      "DEBUG:root:Evalaton loss:0.771291, Acc:0.731707, elapsed: 16.436323\n",
      "DEBUG:root:Epoch: 5/100, Training Loss:0.795801, Acc:0.720857, elapsed: 134.010448\n",
      "DEBUG:root:Evalaton loss:0.774392, Acc:0.731707, elapsed: 16.426396\n",
      "DEBUG:root:No Improve more than 5 epochs, Exit Training! Best accuracy: 0.838415\n",
      "DEBUG:root:Loading data lines...\n",
      "DEBUG:root:656 Lines Loaded!\n",
      "INFO:root:Initializing Class TextClassifier...\n"
     ]
    },
    {
     "name": "stdout",
     "output_type": "stream",
     "text": [
      "output/models/阵发性疼痛_20220915130245_8384.pth\n"
     ]
    },
    {
     "name": "stderr",
     "output_type": "stream",
     "text": [
      "DEBUG:root:Loading Model output/models/阵发性疼痛_20220915130245_8384.pth\n",
      "INFO:root:TextClassifier Using Device: CUDA\n",
      "INFO:root:TextClassifier Loading Data...\n",
      "DEBUG:root:Using Text Pair? -> Yes\n",
      "DEBUG:root:Data For Predicting\n",
      "DEBUG:root:Loading data lines...\n",
      "DEBUG:root:158 Lines Loaded!\n",
      "INFO:root:Initializing Class TextClassifier...\n"
     ]
    },
    {
     "name": "stdout",
     "output_type": "stream",
     "text": [
      "best accuracy: 0.5929878048780488\n",
      "{0: '0', 1: '1', 2: '2'}\n"
     ]
    },
    {
     "name": "stderr",
     "output_type": "stream",
     "text": [
      "DEBUG:root:Loading Model output/models/阵发性疼痛_20220915130245_8384.pth\n",
      "INFO:root:TextClassifier Using Device: CUDA\n",
      "INFO:root:TextClassifier Loading Data...\n",
      "DEBUG:root:Using Text Pair? -> Yes\n",
      "DEBUG:root:Data For Predicting\n",
      "DEBUG:root:Loading data lines...\n",
      "DEBUG:root:2766 Lines Loaded!\n",
      "DEBUG:root:Loading data lines...\n",
      "DEBUG:root:656 Lines Loaded!\n",
      "INFO:root:Initializing Class TextClassifier...\n"
     ]
    },
    {
     "name": "stdout",
     "output_type": "stream",
     "text": [
      "best accuracy: 0.4104166666666667\n",
      "{0: '0', 1: '1', 2: '2'}\n"
     ]
    },
    {
     "name": "stderr",
     "output_type": "stream",
     "text": [
      "Some weights of the model checkpoint at ../BertModels/medical-roberta-wwm were not used when initializing BertModel: ['cls.predictions.bias', 'cls.predictions.decoder.bias', 'cls.predictions.decoder.weight', 'cls.predictions.transform.dense.weight', 'cls.predictions.transform.LayerNorm.weight', 'cls.predictions.transform.LayerNorm.bias', 'cls.predictions.transform.dense.bias']\n",
      "- This IS expected if you are initializing BertModel from the checkpoint of a model trained on another task or with another architecture (e.g. initializing a BertForSequenceClassification model from a BertForPreTraining model).\n",
      "- This IS NOT expected if you are initializing BertModel from the checkpoint of a model that you expect to be exactly identical (initializing a BertForSequenceClassification model from a BertForSequenceClassification model).\n",
      "Some weights of BertModel were not initialized from the model checkpoint at ../BertModels/medical-roberta-wwm and are newly initialized: ['bert.pooler.dense.bias', 'bert.pooler.dense.weight']\n",
      "You should probably TRAIN this model on a down-stream task to be able to use it for predictions and inference.\n",
      "DEBUG:root:Initializing Model BertTextClassfication\n",
      "INFO:root:TextClassifier Using Device: CUDA\n",
      "INFO:root:TextClassifier Loading Data...\n",
      "DEBUG:root:No\n",
      "DEBUG:root:Start Model Traning....\n",
      "DEBUG:root:Epoch: 0/100, Training Loss:0.713880, Acc:0.701469, elapsed: 134.121297\n",
      "DEBUG:root:Evalaton loss:0.564649, Acc:0.743902, elapsed: 16.517952\n",
      "DEBUG:root:Saving Model: output/models/剧烈腹痛_20220915131842_7439.pth\n",
      "DEBUG:root:Epoch: 1/100, Training Loss:0.612564, Acc:0.723748, elapsed: 134.478256\n",
      "DEBUG:root:Evalaton loss:0.548636, Acc:0.803354, elapsed: 16.386901\n",
      "DEBUG:root:Saving Model: output/models/剧烈腹痛_20220915132114_8033.pth\n",
      "DEBUG:root:Epoch: 2/100, Training Loss:0.739627, Acc:0.640535, elapsed: 133.858854\n",
      "DEBUG:root:Evalaton loss:0.994996, Acc:0.478659, elapsed: 16.381860\n",
      "DEBUG:root:Epoch: 3/100, Training Loss:0.971409, Acc:0.477722, elapsed: 133.827030\n",
      "DEBUG:root:Evalaton loss:0.932594, Acc:0.478659, elapsed: 16.517722\n",
      "DEBUG:root:Epoch: 4/100, Training Loss:0.967860, Acc:0.479408, elapsed: 133.872033\n",
      "DEBUG:root:Evalaton loss:0.954045, Acc:0.478659, elapsed: 16.432521\n",
      "DEBUG:root:Epoch: 5/100, Training Loss:0.962695, Acc:0.485790, elapsed: 134.095370\n",
      "DEBUG:root:Evalaton loss:0.952091, Acc:0.478659, elapsed: 16.546491\n",
      "DEBUG:root:Epoch: 6/100, Training Loss:0.963804, Acc:0.470376, elapsed: 135.901871\n",
      "DEBUG:root:Evalaton loss:0.956461, Acc:0.478659, elapsed: 23.424567\n",
      "DEBUG:root:No Improve more than 5 epochs, Exit Training! Best accuracy: 0.803354\n",
      "DEBUG:root:Loading data lines...\n",
      "DEBUG:root:656 Lines Loaded!\n",
      "INFO:root:Initializing Class TextClassifier...\n"
     ]
    },
    {
     "name": "stdout",
     "output_type": "stream",
     "text": [
      "output/models/剧烈腹痛_20220915132114_8033.pth\n"
     ]
    },
    {
     "name": "stderr",
     "output_type": "stream",
     "text": [
      "DEBUG:root:Loading Model output/models/剧烈腹痛_20220915132114_8033.pth\n",
      "INFO:root:TextClassifier Using Device: CUDA\n",
      "INFO:root:TextClassifier Loading Data...\n",
      "DEBUG:root:Using Text Pair? -> Yes\n",
      "DEBUG:root:Data For Predicting\n",
      "DEBUG:root:Loading data lines...\n",
      "DEBUG:root:158 Lines Loaded!\n",
      "INFO:root:Initializing Class TextClassifier...\n"
     ]
    },
    {
     "name": "stdout",
     "output_type": "stream",
     "text": [
      "best accuracy: 0.10365853658536585\n",
      "{0: '0', 1: '1', 2: '2'}\n"
     ]
    },
    {
     "name": "stderr",
     "output_type": "stream",
     "text": [
      "DEBUG:root:Loading Model output/models/剧烈腹痛_20220915132114_8033.pth\n",
      "INFO:root:TextClassifier Using Device: CUDA\n",
      "INFO:root:TextClassifier Loading Data...\n",
      "DEBUG:root:Using Text Pair? -> Yes\n",
      "DEBUG:root:Data For Predicting\n",
      "DEBUG:root:Loading data lines...\n",
      "DEBUG:root:2766 Lines Loaded!\n",
      "DEBUG:root:Loading data lines...\n",
      "DEBUG:root:656 Lines Loaded!\n",
      "INFO:root:Initializing Class TextClassifier...\n"
     ]
    },
    {
     "name": "stdout",
     "output_type": "stream",
     "text": [
      "best accuracy: 0.05625\n",
      "{0: '0', 1: '1', 2: '2'}\n"
     ]
    },
    {
     "name": "stderr",
     "output_type": "stream",
     "text": [
      "Some weights of the model checkpoint at ../BertModels/medical-roberta-wwm were not used when initializing BertModel: ['cls.predictions.bias', 'cls.predictions.decoder.bias', 'cls.predictions.decoder.weight', 'cls.predictions.transform.dense.weight', 'cls.predictions.transform.LayerNorm.weight', 'cls.predictions.transform.LayerNorm.bias', 'cls.predictions.transform.dense.bias']\n",
      "- This IS expected if you are initializing BertModel from the checkpoint of a model trained on another task or with another architecture (e.g. initializing a BertForSequenceClassification model from a BertForPreTraining model).\n",
      "- This IS NOT expected if you are initializing BertModel from the checkpoint of a model that you expect to be exactly identical (initializing a BertForSequenceClassification model from a BertForSequenceClassification model).\n",
      "Some weights of BertModel were not initialized from the model checkpoint at ../BertModels/medical-roberta-wwm and are newly initialized: ['bert.pooler.dense.bias', 'bert.pooler.dense.weight']\n",
      "You should probably TRAIN this model on a down-stream task to be able to use it for predictions and inference.\n",
      "DEBUG:root:Initializing Model BertTextClassfication\n",
      "INFO:root:TextClassifier Using Device: CUDA\n",
      "INFO:root:TextClassifier Loading Data...\n",
      "DEBUG:root:No\n",
      "DEBUG:root:Start Model Traning....\n",
      "DEBUG:root:Epoch: 0/100, Training Loss:0.918939, Acc:0.518184, elapsed: 134.000952\n",
      "DEBUG:root:Evalaton loss:1.019487, Acc:0.461890, elapsed: 16.572739\n",
      "DEBUG:root:Saving Model: output/models/停止排便排气_20220915133713_4618.pth\n",
      "DEBUG:root:Epoch: 1/100, Training Loss:1.030719, Acc:0.432201, elapsed: 134.164764\n",
      "DEBUG:root:Evalaton loss:0.980279, Acc:0.461890, elapsed: 16.508126\n",
      "DEBUG:root:Epoch: 2/100, Training Loss:1.016612, Acc:0.433887, elapsed: 134.127932\n",
      "DEBUG:root:Evalaton loss:0.982574, Acc:0.461890, elapsed: 16.412323\n",
      "DEBUG:root:Epoch: 3/100, Training Loss:1.011011, Acc:0.428107, elapsed: 134.174682\n",
      "DEBUG:root:Evalaton loss:0.995792, Acc:0.414634, elapsed: 16.564432\n",
      "DEBUG:root:Epoch: 4/100, Training Loss:1.000477, Acc:0.453516, elapsed: 134.038705\n",
      "DEBUG:root:Evalaton loss:0.983837, Acc:0.461890, elapsed: 16.542222\n",
      "DEBUG:root:Epoch: 5/100, Training Loss:1.001682, Acc:0.434971, elapsed: 134.277522\n",
      "DEBUG:root:Evalaton loss:0.993719, Acc:0.461890, elapsed: 16.446285\n",
      "DEBUG:root:No Improve more than 5 epochs, Exit Training! Best accuracy: 0.461890\n",
      "DEBUG:root:Loading data lines...\n",
      "DEBUG:root:656 Lines Loaded!\n",
      "INFO:root:Initializing Class TextClassifier...\n"
     ]
    },
    {
     "name": "stdout",
     "output_type": "stream",
     "text": [
      "output/models/停止排便排气_20220915133713_4618.pth\n"
     ]
    },
    {
     "name": "stderr",
     "output_type": "stream",
     "text": [
      "DEBUG:root:Loading Model output/models/停止排便排气_20220915133713_4618.pth\n",
      "INFO:root:TextClassifier Using Device: CUDA\n",
      "INFO:root:TextClassifier Loading Data...\n",
      "DEBUG:root:Using Text Pair? -> Yes\n",
      "DEBUG:root:Data For Predicting\n",
      "DEBUG:root:Loading data lines...\n",
      "DEBUG:root:158 Lines Loaded!\n",
      "INFO:root:Initializing Class TextClassifier...\n"
     ]
    },
    {
     "name": "stdout",
     "output_type": "stream",
     "text": [
      "best accuracy: 0.46189024390243905\n",
      "{0: '0', 1: '1', 2: '2'}\n"
     ]
    },
    {
     "name": "stderr",
     "output_type": "stream",
     "text": [
      "DEBUG:root:Loading Model output/models/停止排便排气_20220915133713_4618.pth\n",
      "INFO:root:TextClassifier Using Device: CUDA\n",
      "INFO:root:TextClassifier Loading Data...\n",
      "DEBUG:root:Using Text Pair? -> Yes\n",
      "DEBUG:root:Data For Predicting\n",
      "DEBUG:root:Loading data lines...\n",
      "DEBUG:root:2766 Lines Loaded!\n",
      "DEBUG:root:Loading data lines...\n",
      "DEBUG:root:656 Lines Loaded!\n",
      "INFO:root:Initializing Class TextClassifier...\n"
     ]
    },
    {
     "name": "stdout",
     "output_type": "stream",
     "text": [
      "best accuracy: 0.96875\n",
      "{0: '0', 1: '1', 2: '2'}\n"
     ]
    },
    {
     "name": "stderr",
     "output_type": "stream",
     "text": [
      "Some weights of the model checkpoint at ../BertModels/medical-roberta-wwm were not used when initializing BertModel: ['cls.predictions.bias', 'cls.predictions.decoder.bias', 'cls.predictions.decoder.weight', 'cls.predictions.transform.dense.weight', 'cls.predictions.transform.LayerNorm.weight', 'cls.predictions.transform.LayerNorm.bias', 'cls.predictions.transform.dense.bias']\n",
      "- This IS expected if you are initializing BertModel from the checkpoint of a model trained on another task or with another architecture (e.g. initializing a BertForSequenceClassification model from a BertForPreTraining model).\n",
      "- This IS NOT expected if you are initializing BertModel from the checkpoint of a model that you expect to be exactly identical (initializing a BertForSequenceClassification model from a BertForSequenceClassification model).\n",
      "Some weights of BertModel were not initialized from the model checkpoint at ../BertModels/medical-roberta-wwm and are newly initialized: ['bert.pooler.dense.bias', 'bert.pooler.dense.weight']\n",
      "You should probably TRAIN this model on a down-stream task to be able to use it for predictions and inference.\n",
      "DEBUG:root:Initializing Model BertTextClassfication\n",
      "INFO:root:TextClassifier Using Device: CUDA\n",
      "INFO:root:TextClassifier Loading Data...\n",
      "DEBUG:root:No\n",
      "DEBUG:root:Start Model Traning....\n",
      "DEBUG:root:Epoch: 0/100, Training Loss:0.537521, Acc:0.753733, elapsed: 134.059419\n",
      "DEBUG:root:Evalaton loss:0.415846, Acc:0.774390, elapsed: 16.521401\n",
      "DEBUG:root:Saving Model: output/models/阴道流血_20220915135250_7743.pth\n",
      "DEBUG:root:Epoch: 1/100, Training Loss:0.699952, Acc:0.724831, elapsed: 134.029179\n",
      "DEBUG:root:Evalaton loss:0.743338, Acc:0.714939, elapsed: 16.529882\n",
      "DEBUG:root:Epoch: 2/100, Training Loss:0.721973, Acc:0.729167, elapsed: 134.025179\n",
      "DEBUG:root:Evalaton loss:0.728770, Acc:0.714939, elapsed: 16.584363\n",
      "DEBUG:root:Epoch: 3/100, Training Loss:0.720779, Acc:0.728926, elapsed: 134.135490\n",
      "DEBUG:root:Evalaton loss:0.742123, Acc:0.714939, elapsed: 16.370763\n",
      "DEBUG:root:Epoch: 4/100, Training Loss:0.710710, Acc:0.729046, elapsed: 134.308443\n",
      "DEBUG:root:Evalaton loss:0.734667, Acc:0.714939, elapsed: 16.689638\n",
      "DEBUG:root:Epoch: 5/100, Training Loss:0.615565, Acc:0.741691, elapsed: 134.185277\n",
      "DEBUG:root:Evalaton loss:0.559141, Acc:0.759146, elapsed: 16.514778\n",
      "DEBUG:root:No Improve more than 5 epochs, Exit Training! Best accuracy: 0.774390\n",
      "DEBUG:root:Loading data lines...\n",
      "DEBUG:root:656 Lines Loaded!\n",
      "INFO:root:Initializing Class TextClassifier...\n"
     ]
    },
    {
     "name": "stdout",
     "output_type": "stream",
     "text": [
      "output/models/阴道流血_20220915135250_7743.pth\n"
     ]
    },
    {
     "name": "stderr",
     "output_type": "stream",
     "text": [
      "DEBUG:root:Loading Model output/models/阴道流血_20220915135250_7743.pth\n",
      "INFO:root:TextClassifier Using Device: CUDA\n",
      "INFO:root:TextClassifier Loading Data...\n",
      "DEBUG:root:Using Text Pair? -> Yes\n",
      "DEBUG:root:Data For Predicting\n",
      "DEBUG:root:Loading data lines...\n",
      "DEBUG:root:158 Lines Loaded!\n",
      "INFO:root:Initializing Class TextClassifier...\n"
     ]
    },
    {
     "name": "stdout",
     "output_type": "stream",
     "text": [
      "best accuracy: 0.7149390243902439\n",
      "{0: '0', 1: '1', 2: '2'}\n"
     ]
    },
    {
     "name": "stderr",
     "output_type": "stream",
     "text": [
      "DEBUG:root:Loading Model output/models/阴道流血_20220915135250_7743.pth\n",
      "INFO:root:TextClassifier Using Device: CUDA\n",
      "INFO:root:TextClassifier Loading Data...\n",
      "DEBUG:root:Using Text Pair? -> Yes\n",
      "DEBUG:root:Data For Predicting\n",
      "DEBUG:root:Loading data lines...\n",
      "DEBUG:root:2766 Lines Loaded!\n",
      "DEBUG:root:Loading data lines...\n",
      "DEBUG:root:656 Lines Loaded!\n",
      "INFO:root:Initializing Class TextClassifier...\n"
     ]
    },
    {
     "name": "stdout",
     "output_type": "stream",
     "text": [
      "best accuracy: 0.4458333333333333\n",
      "{0: '0', 1: '1', 2: '2'}\n"
     ]
    },
    {
     "name": "stderr",
     "output_type": "stream",
     "text": [
      "Some weights of the model checkpoint at ../BertModels/medical-roberta-wwm were not used when initializing BertModel: ['cls.predictions.bias', 'cls.predictions.decoder.bias', 'cls.predictions.decoder.weight', 'cls.predictions.transform.dense.weight', 'cls.predictions.transform.LayerNorm.weight', 'cls.predictions.transform.LayerNorm.bias', 'cls.predictions.transform.dense.bias']\n",
      "- This IS expected if you are initializing BertModel from the checkpoint of a model trained on another task or with another architecture (e.g. initializing a BertForSequenceClassification model from a BertForPreTraining model).\n",
      "- This IS NOT expected if you are initializing BertModel from the checkpoint of a model that you expect to be exactly identical (initializing a BertForSequenceClassification model from a BertForSequenceClassification model).\n",
      "Some weights of BertModel were not initialized from the model checkpoint at ../BertModels/medical-roberta-wwm and are newly initialized: ['bert.pooler.dense.bias', 'bert.pooler.dense.weight']\n",
      "You should probably TRAIN this model on a down-stream task to be able to use it for predictions and inference.\n",
      "DEBUG:root:Initializing Model BertTextClassfication\n",
      "INFO:root:TextClassifier Using Device: CUDA\n",
      "INFO:root:TextClassifier Loading Data...\n",
      "DEBUG:root:No\n",
      "DEBUG:root:Start Model Traning....\n",
      "DEBUG:root:Epoch: 0/100, Training Loss:0.482511, Acc:0.829239, elapsed: 133.995899\n",
      "DEBUG:root:Evalaton loss:0.258034, Acc:0.907012, elapsed: 16.485228\n",
      "DEBUG:root:Saving Model: output/models/排尿改变_20220915140827_9070.pth\n",
      "DEBUG:root:Epoch: 1/100, Training Loss:0.325300, Acc:0.888006, elapsed: 133.941872\n",
      "DEBUG:root:Evalaton loss:0.327233, Acc:0.870427, elapsed: 16.415978\n",
      "DEBUG:root:Epoch: 2/100, Training Loss:0.303422, Acc:0.890294, elapsed: 133.667197\n",
      "DEBUG:root:Evalaton loss:0.235315, Acc:0.913110, elapsed: 16.433791\n",
      "DEBUG:root:Saving Model: output/models/排尿改变_20220915141328_9131.pth\n",
      "DEBUG:root:Epoch: 3/100, Training Loss:0.257282, Acc:0.911488, elapsed: 133.536422\n",
      "DEBUG:root:Evalaton loss:0.240165, Acc:0.910061, elapsed: 16.498527\n",
      "DEBUG:root:Epoch: 4/100, Training Loss:0.226491, Acc:0.921484, elapsed: 134.611677\n",
      "DEBUG:root:Evalaton loss:0.279067, Acc:0.905488, elapsed: 16.733596\n",
      "DEBUG:root:Epoch: 5/100, Training Loss:0.229163, Acc:0.920520, elapsed: 133.927408\n",
      "DEBUG:root:Evalaton loss:0.271940, Acc:0.908537, elapsed: 16.563857\n",
      "DEBUG:root:Epoch: 6/100, Training Loss:0.215432, Acc:0.922929, elapsed: 134.600348\n",
      "DEBUG:root:Evalaton loss:0.295225, Acc:0.893293, elapsed: 17.012002\n",
      "DEBUG:root:Epoch: 7/100, Training Loss:0.177225, Acc:0.936777, elapsed: 134.254781\n",
      "DEBUG:root:Evalaton loss:0.350010, Acc:0.910061, elapsed: 16.452904\n",
      "DEBUG:root:No Improve more than 5 epochs, Exit Training! Best accuracy: 0.913110\n",
      "DEBUG:root:Loading data lines...\n",
      "DEBUG:root:656 Lines Loaded!\n",
      "INFO:root:Initializing Class TextClassifier...\n"
     ]
    },
    {
     "name": "stdout",
     "output_type": "stream",
     "text": [
      "output/models/排尿改变_20220915141328_9131.pth\n"
     ]
    },
    {
     "name": "stderr",
     "output_type": "stream",
     "text": [
      "DEBUG:root:Loading Model output/models/排尿改变_20220915141328_9131.pth\n",
      "INFO:root:TextClassifier Using Device: CUDA\n",
      "INFO:root:TextClassifier Loading Data...\n",
      "DEBUG:root:Using Text Pair? -> Yes\n",
      "DEBUG:root:Data For Predicting\n",
      "DEBUG:root:Loading data lines...\n",
      "DEBUG:root:158 Lines Loaded!\n",
      "INFO:root:Initializing Class TextClassifier...\n"
     ]
    },
    {
     "name": "stdout",
     "output_type": "stream",
     "text": [
      "best accuracy: 0.9176829268292683\n",
      "{0: '0', 1: '1', 2: '2'}\n"
     ]
    },
    {
     "name": "stderr",
     "output_type": "stream",
     "text": [
      "DEBUG:root:Loading Model output/models/排尿改变_20220915141328_9131.pth\n",
      "INFO:root:TextClassifier Using Device: CUDA\n",
      "INFO:root:TextClassifier Loading Data...\n",
      "DEBUG:root:Using Text Pair? -> Yes\n",
      "DEBUG:root:Data For Predicting\n",
      "DEBUG:root:Loading data lines...\n",
      "DEBUG:root:2766 Lines Loaded!\n",
      "DEBUG:root:Loading data lines...\n",
      "DEBUG:root:656 Lines Loaded!\n",
      "INFO:root:Initializing Class TextClassifier...\n"
     ]
    },
    {
     "name": "stdout",
     "output_type": "stream",
     "text": [
      "best accuracy: 0.6270833333333333\n",
      "{0: '0', 1: '1', 2: '2'}\n"
     ]
    },
    {
     "name": "stderr",
     "output_type": "stream",
     "text": [
      "Some weights of the model checkpoint at ../BertModels/medical-roberta-wwm were not used when initializing BertModel: ['cls.predictions.bias', 'cls.predictions.decoder.bias', 'cls.predictions.decoder.weight', 'cls.predictions.transform.dense.weight', 'cls.predictions.transform.LayerNorm.weight', 'cls.predictions.transform.LayerNorm.bias', 'cls.predictions.transform.dense.bias']\n",
      "- This IS expected if you are initializing BertModel from the checkpoint of a model trained on another task or with another architecture (e.g. initializing a BertForSequenceClassification model from a BertForPreTraining model).\n",
      "- This IS NOT expected if you are initializing BertModel from the checkpoint of a model that you expect to be exactly identical (initializing a BertForSequenceClassification model from a BertForSequenceClassification model).\n",
      "Some weights of BertModel were not initialized from the model checkpoint at ../BertModels/medical-roberta-wwm and are newly initialized: ['bert.pooler.dense.bias', 'bert.pooler.dense.weight']\n",
      "You should probably TRAIN this model on a down-stream task to be able to use it for predictions and inference.\n",
      "DEBUG:root:Initializing Model BertTextClassfication\n",
      "INFO:root:TextClassifier Using Device: CUDA\n",
      "INFO:root:TextClassifier Loading Data...\n",
      "DEBUG:root:No\n",
      "DEBUG:root:Start Model Traning....\n",
      "DEBUG:root:Epoch: 0/100, Training Loss:0.363397, Acc:0.879456, elapsed: 134.686420\n",
      "DEBUG:root:Evalaton loss:0.424538, Acc:0.859756, elapsed: 17.303032\n",
      "DEBUG:root:Saving Model: output/models/放射痛（侧腹、腹股沟、睾丸或大阴唇）_20220915142907_8597.pth\n",
      "DEBUG:root:Epoch: 1/100, Training Loss:0.419388, Acc:0.866691, elapsed: 134.325675\n",
      "DEBUG:root:Evalaton loss:0.431028, Acc:0.859756, elapsed: 17.105023\n",
      "DEBUG:root:Epoch: 2/100, Training Loss:0.418990, Acc:0.866691, elapsed: 135.006966\n",
      "DEBUG:root:Evalaton loss:0.426303, Acc:0.859756, elapsed: 17.171613\n",
      "DEBUG:root:Epoch: 3/100, Training Loss:0.412329, Acc:0.866691, elapsed: 135.052380\n",
      "DEBUG:root:Evalaton loss:0.423661, Acc:0.859756, elapsed: 17.027000\n",
      "DEBUG:root:Epoch: 4/100, Training Loss:0.410579, Acc:0.866691, elapsed: 134.882600\n",
      "DEBUG:root:Evalaton loss:0.414885, Acc:0.859756, elapsed: 16.725173\n",
      "DEBUG:root:Epoch: 5/100, Training Loss:0.410966, Acc:0.866691, elapsed: 134.531927\n",
      "DEBUG:root:Evalaton loss:0.414603, Acc:0.859756, elapsed: 17.012999\n",
      "DEBUG:root:No Improve more than 5 epochs, Exit Training! Best accuracy: 0.859756\n",
      "DEBUG:root:Loading data lines...\n",
      "DEBUG:root:656 Lines Loaded!\n",
      "INFO:root:Initializing Class TextClassifier...\n"
     ]
    },
    {
     "name": "stdout",
     "output_type": "stream",
     "text": [
      "output/models/放射痛（侧腹、腹股沟、睾丸或大阴唇）_20220915142907_8597.pth\n"
     ]
    },
    {
     "name": "stderr",
     "output_type": "stream",
     "text": [
      "DEBUG:root:Loading Model output/models/放射痛（侧腹、腹股沟、睾丸或大阴唇）_20220915142907_8597.pth\n",
      "INFO:root:TextClassifier Using Device: CUDA\n",
      "INFO:root:TextClassifier Loading Data...\n",
      "DEBUG:root:Using Text Pair? -> Yes\n",
      "DEBUG:root:Data For Predicting\n",
      "DEBUG:root:Loading data lines...\n",
      "DEBUG:root:158 Lines Loaded!\n",
      "INFO:root:Initializing Class TextClassifier...\n"
     ]
    },
    {
     "name": "stdout",
     "output_type": "stream",
     "text": [
      "best accuracy: 0.8597560975609756\n",
      "{0: '0', 1: '1', 2: '2'}\n"
     ]
    },
    {
     "name": "stderr",
     "output_type": "stream",
     "text": [
      "DEBUG:root:Loading Model output/models/放射痛（侧腹、腹股沟、睾丸或大阴唇）_20220915142907_8597.pth\n",
      "INFO:root:TextClassifier Using Device: CUDA\n",
      "INFO:root:TextClassifier Loading Data...\n",
      "DEBUG:root:Using Text Pair? -> Yes\n",
      "DEBUG:root:Data For Predicting\n",
      "DEBUG:root:Loading data lines...\n",
      "DEBUG:root:2766 Lines Loaded!\n",
      "DEBUG:root:Loading data lines...\n",
      "DEBUG:root:656 Lines Loaded!\n",
      "INFO:root:Initializing Class TextClassifier...\n"
     ]
    },
    {
     "name": "stdout",
     "output_type": "stream",
     "text": [
      "best accuracy: 0.8875\n",
      "{0: '0', 1: '1', 2: '2'}\n"
     ]
    },
    {
     "name": "stderr",
     "output_type": "stream",
     "text": [
      "Some weights of the model checkpoint at ../BertModels/medical-roberta-wwm were not used when initializing BertModel: ['cls.predictions.bias', 'cls.predictions.decoder.bias', 'cls.predictions.decoder.weight', 'cls.predictions.transform.dense.weight', 'cls.predictions.transform.LayerNorm.weight', 'cls.predictions.transform.LayerNorm.bias', 'cls.predictions.transform.dense.bias']\n",
      "- This IS expected if you are initializing BertModel from the checkpoint of a model trained on another task or with another architecture (e.g. initializing a BertForSequenceClassification model from a BertForPreTraining model).\n",
      "- This IS NOT expected if you are initializing BertModel from the checkpoint of a model that you expect to be exactly identical (initializing a BertForSequenceClassification model from a BertForSequenceClassification model).\n",
      "Some weights of BertModel were not initialized from the model checkpoint at ../BertModels/medical-roberta-wwm and are newly initialized: ['bert.pooler.dense.bias', 'bert.pooler.dense.weight']\n",
      "You should probably TRAIN this model on a down-stream task to be able to use it for predictions and inference.\n",
      "DEBUG:root:Initializing Model BertTextClassfication\n",
      "INFO:root:TextClassifier Using Device: CUDA\n",
      "INFO:root:TextClassifier Loading Data...\n",
      "DEBUG:root:No\n",
      "DEBUG:root:Start Model Traning....\n",
      "DEBUG:root:Epoch: 0/100, Training Loss:0.316607, Acc:0.891859, elapsed: 133.951787\n",
      "DEBUG:root:Evalaton loss:0.229206, Acc:0.899390, elapsed: 16.453028\n",
      "DEBUG:root:Saving Model: output/models/腰_侧腹痛_20220915144450_8993.pth\n",
      "DEBUG:root:Epoch: 1/100, Training Loss:0.349553, Acc:0.890173, elapsed: 134.225353\n",
      "DEBUG:root:Evalaton loss:0.403396, Acc:0.899390, elapsed: 16.959998\n",
      "DEBUG:root:Epoch: 2/100, Training Loss:0.413255, Acc:0.897399, elapsed: 134.826282\n",
      "DEBUG:root:Evalaton loss:0.399433, Acc:0.899390, elapsed: 17.071485\n",
      "DEBUG:root:Epoch: 3/100, Training Loss:0.411804, Acc:0.897278, elapsed: 134.756544\n",
      "DEBUG:root:Evalaton loss:0.418836, Acc:0.899390, elapsed: 17.159969\n",
      "DEBUG:root:Epoch: 4/100, Training Loss:0.411007, Acc:0.897399, elapsed: 134.676002\n",
      "DEBUG:root:Evalaton loss:0.399306, Acc:0.899390, elapsed: 17.004999\n",
      "DEBUG:root:Epoch: 5/100, Training Loss:0.407947, Acc:0.897278, elapsed: 134.447999\n",
      "DEBUG:root:Evalaton loss:0.396255, Acc:0.899390, elapsed: 16.617233\n",
      "DEBUG:root:No Improve more than 5 epochs, Exit Training! Best accuracy: 0.899390\n",
      "DEBUG:root:Loading data lines...\n",
      "DEBUG:root:656 Lines Loaded!\n",
      "INFO:root:Initializing Class TextClassifier...\n"
     ]
    },
    {
     "name": "stdout",
     "output_type": "stream",
     "text": [
      "output/models/腰_侧腹痛_20220915144450_8993.pth\n"
     ]
    },
    {
     "name": "stderr",
     "output_type": "stream",
     "text": [
      "DEBUG:root:Loading Model output/models/腰_侧腹痛_20220915144450_8993.pth\n",
      "INFO:root:TextClassifier Using Device: CUDA\n",
      "INFO:root:TextClassifier Loading Data...\n",
      "DEBUG:root:Using Text Pair? -> Yes\n",
      "DEBUG:root:Data For Predicting\n",
      "DEBUG:root:Loading data lines...\n",
      "DEBUG:root:158 Lines Loaded!\n",
      "INFO:root:Initializing Class TextClassifier...\n"
     ]
    },
    {
     "name": "stdout",
     "output_type": "stream",
     "text": [
      "best accuracy: 0.899390243902439\n",
      "{0: '0', 1: '1', 2: '2'}\n"
     ]
    },
    {
     "name": "stderr",
     "output_type": "stream",
     "text": [
      "DEBUG:root:Loading Model output/models/腰_侧腹痛_20220915144450_8993.pth\n",
      "INFO:root:TextClassifier Using Device: CUDA\n",
      "INFO:root:TextClassifier Loading Data...\n",
      "DEBUG:root:Using Text Pair? -> Yes\n",
      "DEBUG:root:Data For Predicting\n"
     ]
    },
    {
     "name": "stdout",
     "output_type": "stream",
     "text": [
      "best accuracy: 0.76875\n",
      "{0: '0', 1: '1', 2: '2'}\n"
     ]
    }
   ],
   "source": [
    "for col, name in zip(list(range(3, 24)), \n",
    "             ['放射痛（右肩、肩胛和背部）', '上腹痛', '厌食', '腹泻', '盆腔疼痛', '迅速波及全腹', \\\n",
    "             '黑便', '右下腹疼痛', '转移性右下腹疼痛', '中腹痛', '右上腹痛', '放射痛（放射到同侧半腹或背部）', \\\n",
    "             '持续性腹痛', '仰卧加重，坐位缓解', '阵发性疼痛', '剧烈腹痛', '停止排便排气', '阴道流血', '排尿改变', \\\n",
    "             '放射痛（侧腹、腹股沟、睾丸或大阴唇）', '腰_侧腹痛']):\n",
    "    best_mdl_path = train(train_file_path=r'data\\训练集_现病史_模型.txt', val_file_path=r'data\\测试集_现病史_模型.txt', num_fields=24, \n",
    "          text_field=2, label_field=col, feature_name=name, log_file=os.path.join(dat_folder, 'run_log.txt'), skip_title=True, \n",
    "                          using_text_pair=False, model_save_path=mdl_folder)\n",
    "#     best_mdl_path = os.path.join(mdl_folder, find_best_mdl(mdl_folder, name))\n",
    "    print(best_mdl_path)\n",
    "    predict(best_mdl_path, predict_file_path=r'data\\测试集_现病史_模型.txt', result_file_path=os.path.join(dat_folder, '%s_现病史_测试集结果.txt' % name), \n",
    "            log_file_path=os.path.join(dat_folder, 'stat_result.txt'), num_fields=24, text_field=2, label_field=col, feature_name=name, skip_title=True)\n",
    "    predict(best_mdl_path, predict_file_path=r'data\\人机_现病史_模型.txt', result_file_path=os.path.join(dat_folder, '%s_现病史_人机集结果.txt' % name), \n",
    "            log_file_path=os.path.join(dat_folder, 'stat_result.txt'), num_fields=24, text_field=2, label_field=col, feature_name=name, skip_title=True)"
   ]
  },
  {
   "cell_type": "code",
   "execution_count": null,
   "id": "8aa1c895",
   "metadata": {},
   "outputs": [],
   "source": [
    "stat_train_total_ct(r'data\\训练集_现病史_模型.txt', list(range(3, 24)), ['放射痛（右肩、肩胛和背部）', '上腹痛', '厌食', '腹泻', '盆腔疼痛', '迅速波及全腹', '黑便', '右下腹疼痛', \\\n",
    "             '转移性右下腹疼痛', '中腹痛', '右上腹痛', '放射痛（放射到同侧半腹或背部）', '持续性腹痛', '仰卧加重，坐位缓解', \\\n",
    "             '阵发性疼痛', '剧烈腹痛', '停止排便排气', '阴道流血', '排尿改变', '放射痛（侧腹、腹股沟、睾丸或大阴唇）', '腰_侧腹痛']) "
   ]
  },
  {
   "cell_type": "markdown",
   "id": "1724126a",
   "metadata": {},
   "source": [
    "### 既往史"
   ]
  },
  {
   "cell_type": "code",
   "execution_count": 4,
   "id": "1f17222d",
   "metadata": {
    "scrolled": true
   },
   "outputs": [
    {
     "name": "stderr",
     "output_type": "stream",
     "text": [
      "DEBUG:root:Loading data lines...\n",
      "DEBUG:root:2766 Lines Loaded!\n",
      "DEBUG:root:Loading data lines...\n",
      "DEBUG:root:656 Lines Loaded!\n",
      "INFO:root:Initializing Class TextClassifier...\n",
      "Some weights of the model checkpoint at ../BertModels/medical-roberta-wwm were not used when initializing BertModel: ['cls.predictions.bias', 'cls.predictions.decoder.bias', 'cls.predictions.decoder.weight', 'cls.predictions.transform.dense.weight', 'cls.predictions.transform.LayerNorm.weight', 'cls.predictions.transform.LayerNorm.bias', 'cls.predictions.transform.dense.bias']\n",
      "- This IS expected if you are initializing BertModel from the checkpoint of a model trained on another task or with another architecture (e.g. initializing a BertForSequenceClassification model from a BertForPreTraining model).\n",
      "- This IS NOT expected if you are initializing BertModel from the checkpoint of a model that you expect to be exactly identical (initializing a BertForSequenceClassification model from a BertForSequenceClassification model).\n",
      "Some weights of BertModel were not initialized from the model checkpoint at ../BertModels/medical-roberta-wwm and are newly initialized: ['bert.pooler.dense.bias', 'bert.pooler.dense.weight']\n",
      "You should probably TRAIN this model on a down-stream task to be able to use it for predictions and inference.\n",
      "DEBUG:root:Initializing Model BertTextClassfication\n",
      "INFO:root:TextClassifier Using Device: CUDA\n",
      "INFO:root:TextClassifier Loading Data...\n",
      "DEBUG:root:No\n",
      "DEBUG:root:Start Model Traning....\n",
      "DEBUG:root:Epoch: 0/100, Training Loss:0.272328, Acc:0.897399, elapsed: 134.729045\n",
      "DEBUG:root:Evalaton loss:0.197432, Acc:0.946646, elapsed: 20.868076\n",
      "DEBUG:root:Saving Model: output/models/腹部手术史_20220915150036_9466.pth\n",
      "DEBUG:root:Epoch: 1/100, Training Loss:0.273309, Acc:0.898724, elapsed: 139.346949\n",
      "DEBUG:root:Evalaton loss:0.172847, Acc:0.945122, elapsed: 14.560003\n",
      "DEBUG:root:Epoch: 2/100, Training Loss:0.551401, Acc:0.739523, elapsed: 136.785457\n",
      "DEBUG:root:Evalaton loss:0.601221, Acc:0.685976, elapsed: 21.051468\n",
      "DEBUG:root:Epoch: 3/100, Training Loss:0.324501, Acc:0.884393, elapsed: 141.689145\n",
      "DEBUG:root:Evalaton loss:0.230274, Acc:0.913110, elapsed: 21.178273\n",
      "DEBUG:root:Epoch: 4/100, Training Loss:0.528044, Acc:0.759273, elapsed: 137.195946\n",
      "DEBUG:root:Evalaton loss:0.623743, Acc:0.685976, elapsed: 21.239011\n",
      "DEBUG:root:Epoch: 5/100, Training Loss:0.626822, Acc:0.696893, elapsed: 141.846866\n",
      "DEBUG:root:Evalaton loss:0.627133, Acc:0.685976, elapsed: 21.108689\n",
      "DEBUG:root:No Improve more than 5 epochs, Exit Training! Best accuracy: 0.946646\n",
      "DEBUG:root:Loading data lines...\n",
      "DEBUG:root:656 Lines Loaded!\n",
      "INFO:root:Initializing Class TextClassifier...\n"
     ]
    },
    {
     "name": "stdout",
     "output_type": "stream",
     "text": [
      "output/models/腹部手术史_20220915150036_9466.pth\n"
     ]
    },
    {
     "name": "stderr",
     "output_type": "stream",
     "text": [
      "DEBUG:root:Loading Model output/models/腹部手术史_20220915150036_9466.pth\n",
      "INFO:root:TextClassifier Using Device: CUDA\n",
      "INFO:root:TextClassifier Loading Data...\n",
      "DEBUG:root:Using Text Pair? -> Yes\n",
      "DEBUG:root:Data For Predicting\n",
      "DEBUG:root:Loading data lines...\n",
      "DEBUG:root:158 Lines Loaded!\n",
      "INFO:root:Initializing Class TextClassifier...\n"
     ]
    },
    {
     "name": "stdout",
     "output_type": "stream",
     "text": [
      "best accuracy: 0.9283536585365854\n",
      "{0: '0', 1: '1', 2: '2'}\n"
     ]
    },
    {
     "name": "stderr",
     "output_type": "stream",
     "text": [
      "DEBUG:root:Loading Model output/models/腹部手术史_20220915150036_9466.pth\n",
      "INFO:root:TextClassifier Using Device: CUDA\n",
      "INFO:root:TextClassifier Loading Data...\n",
      "DEBUG:root:Using Text Pair? -> Yes\n",
      "DEBUG:root:Data For Predicting\n",
      "DEBUG:root:Loading data lines...\n",
      "DEBUG:root:2766 Lines Loaded!\n",
      "DEBUG:root:Loading data lines...\n",
      "DEBUG:root:656 Lines Loaded!\n",
      "INFO:root:Initializing Class TextClassifier...\n"
     ]
    },
    {
     "name": "stdout",
     "output_type": "stream",
     "text": [
      "best accuracy: 0.55625\n",
      "{0: '0', 1: '1', 2: '2'}\n"
     ]
    },
    {
     "name": "stderr",
     "output_type": "stream",
     "text": [
      "Some weights of the model checkpoint at ../BertModels/medical-roberta-wwm were not used when initializing BertModel: ['cls.predictions.bias', 'cls.predictions.decoder.bias', 'cls.predictions.decoder.weight', 'cls.predictions.transform.dense.weight', 'cls.predictions.transform.LayerNorm.weight', 'cls.predictions.transform.LayerNorm.bias', 'cls.predictions.transform.dense.bias']\n",
      "- This IS expected if you are initializing BertModel from the checkpoint of a model trained on another task or with another architecture (e.g. initializing a BertForSequenceClassification model from a BertForPreTraining model).\n",
      "- This IS NOT expected if you are initializing BertModel from the checkpoint of a model that you expect to be exactly identical (initializing a BertForSequenceClassification model from a BertForSequenceClassification model).\n",
      "Some weights of BertModel were not initialized from the model checkpoint at ../BertModels/medical-roberta-wwm and are newly initialized: ['bert.pooler.dense.bias', 'bert.pooler.dense.weight']\n",
      "You should probably TRAIN this model on a down-stream task to be able to use it for predictions and inference.\n",
      "DEBUG:root:Initializing Model BertTextClassfication\n",
      "INFO:root:TextClassifier Using Device: CUDA\n",
      "INFO:root:TextClassifier Loading Data...\n",
      "DEBUG:root:No\n",
      "DEBUG:root:Start Model Traning....\n",
      "DEBUG:root:Epoch: 0/100, Training Loss:0.040286, Acc:0.992413, elapsed: 141.806127\n",
      "DEBUG:root:Evalaton loss:0.012306, Acc:0.998476, elapsed: 22.100239\n",
      "DEBUG:root:Saving Model: output/models/自身免疫性疾病_20220915151720_9984.pth\n",
      "DEBUG:root:Epoch: 1/100, Training Loss:0.035265, Acc:0.994942, elapsed: 142.865169\n",
      "DEBUG:root:Evalaton loss:0.012340, Acc:0.998476, elapsed: 21.853332\n",
      "DEBUG:root:Epoch: 2/100, Training Loss:0.034810, Acc:0.994942, elapsed: 140.594690\n",
      "DEBUG:root:Evalaton loss:0.014077, Acc:0.998476, elapsed: 14.683109\n",
      "DEBUG:root:Epoch: 3/100, Training Loss:0.033902, Acc:0.994942, elapsed: 142.474269\n",
      "DEBUG:root:Evalaton loss:0.014991, Acc:0.998476, elapsed: 21.700459\n",
      "DEBUG:root:Epoch: 4/100, Training Loss:0.033002, Acc:0.994942, elapsed: 142.783564\n",
      "DEBUG:root:Evalaton loss:0.013509, Acc:0.998476, elapsed: 21.786354\n",
      "DEBUG:root:Epoch: 5/100, Training Loss:0.033594, Acc:0.994942, elapsed: 141.218374\n",
      "DEBUG:root:Evalaton loss:0.012367, Acc:0.998476, elapsed: 18.703520\n",
      "DEBUG:root:No Improve more than 5 epochs, Exit Training! Best accuracy: 0.998476\n",
      "DEBUG:root:Loading data lines...\n",
      "DEBUG:root:656 Lines Loaded!\n",
      "INFO:root:Initializing Class TextClassifier...\n"
     ]
    },
    {
     "name": "stdout",
     "output_type": "stream",
     "text": [
      "output/models/自身免疫性疾病_20220915151720_9984.pth\n"
     ]
    },
    {
     "name": "stderr",
     "output_type": "stream",
     "text": [
      "DEBUG:root:Loading Model output/models/自身免疫性疾病_20220915151720_9984.pth\n",
      "INFO:root:TextClassifier Using Device: CUDA\n",
      "INFO:root:TextClassifier Loading Data...\n",
      "DEBUG:root:Using Text Pair? -> Yes\n",
      "DEBUG:root:Data For Predicting\n",
      "DEBUG:root:Loading data lines...\n",
      "DEBUG:root:158 Lines Loaded!\n",
      "INFO:root:Initializing Class TextClassifier...\n"
     ]
    },
    {
     "name": "stdout",
     "output_type": "stream",
     "text": [
      "best accuracy: 0.9984756097560976\n",
      "{0: '0', 1: '1', 2: '2'}\n"
     ]
    },
    {
     "name": "stderr",
     "output_type": "stream",
     "text": [
      "DEBUG:root:Loading Model output/models/自身免疫性疾病_20220915151720_9984.pth\n",
      "INFO:root:TextClassifier Using Device: CUDA\n",
      "INFO:root:TextClassifier Loading Data...\n",
      "DEBUG:root:Using Text Pair? -> Yes\n",
      "DEBUG:root:Data For Predicting\n",
      "DEBUG:root:Loading data lines...\n",
      "DEBUG:root:2766 Lines Loaded!\n",
      "DEBUG:root:Loading data lines...\n",
      "DEBUG:root:656 Lines Loaded!\n",
      "INFO:root:Initializing Class TextClassifier...\n"
     ]
    },
    {
     "name": "stdout",
     "output_type": "stream",
     "text": [
      "best accuracy: 1.0\n",
      "{0: '0', 1: '1', 2: '2'}\n"
     ]
    },
    {
     "name": "stderr",
     "output_type": "stream",
     "text": [
      "Some weights of the model checkpoint at ../BertModels/medical-roberta-wwm were not used when initializing BertModel: ['cls.predictions.bias', 'cls.predictions.decoder.bias', 'cls.predictions.decoder.weight', 'cls.predictions.transform.dense.weight', 'cls.predictions.transform.LayerNorm.weight', 'cls.predictions.transform.LayerNorm.bias', 'cls.predictions.transform.dense.bias']\n",
      "- This IS expected if you are initializing BertModel from the checkpoint of a model trained on another task or with another architecture (e.g. initializing a BertForSequenceClassification model from a BertForPreTraining model).\n",
      "- This IS NOT expected if you are initializing BertModel from the checkpoint of a model that you expect to be exactly identical (initializing a BertForSequenceClassification model from a BertForSequenceClassification model).\n",
      "Some weights of BertModel were not initialized from the model checkpoint at ../BertModels/medical-roberta-wwm and are newly initialized: ['bert.pooler.dense.bias', 'bert.pooler.dense.weight']\n",
      "You should probably TRAIN this model on a down-stream task to be able to use it for predictions and inference.\n",
      "DEBUG:root:Initializing Model BertTextClassfication\n",
      "INFO:root:TextClassifier Using Device: CUDA\n",
      "INFO:root:TextClassifier Loading Data...\n",
      "DEBUG:root:No\n",
      "DEBUG:root:Start Model Traning....\n",
      "DEBUG:root:Epoch: 0/100, Training Loss:0.019491, Acc:0.997471, elapsed: 142.761627\n",
      "DEBUG:root:Evalaton loss:0.023672, Acc:0.996951, elapsed: 16.726573\n",
      "DEBUG:root:Saving Model: output/models/胰腺肿瘤、囊肿病史_20220915153424_9969.pth\n",
      "DEBUG:root:Epoch: 1/100, Training Loss:0.017382, Acc:0.997832, elapsed: 137.578369\n",
      "DEBUG:root:Evalaton loss:0.022953, Acc:0.996951, elapsed: 21.356167\n",
      "DEBUG:root:Epoch: 2/100, Training Loss:0.016801, Acc:0.997832, elapsed: 143.311457\n",
      "DEBUG:root:Evalaton loss:0.022289, Acc:0.996951, elapsed: 21.558791\n",
      "DEBUG:root:Epoch: 3/100, Training Loss:0.017033, Acc:0.997832, elapsed: 141.721839\n",
      "DEBUG:root:Evalaton loss:0.021291, Acc:0.996951, elapsed: 21.216228\n",
      "DEBUG:root:Epoch: 4/100, Training Loss:0.016826, Acc:0.997832, elapsed: 139.960357\n",
      "DEBUG:root:Evalaton loss:0.021233, Acc:0.996951, elapsed: 14.583000\n",
      "DEBUG:root:Epoch: 5/100, Training Loss:0.016877, Acc:0.997832, elapsed: 138.323673\n",
      "DEBUG:root:Evalaton loss:0.021233, Acc:0.996951, elapsed: 21.020564\n",
      "DEBUG:root:No Improve more than 5 epochs, Exit Training! Best accuracy: 0.996951\n",
      "DEBUG:root:Loading data lines...\n",
      "DEBUG:root:656 Lines Loaded!\n",
      "INFO:root:Initializing Class TextClassifier...\n"
     ]
    },
    {
     "name": "stdout",
     "output_type": "stream",
     "text": [
      "output/models/胰腺肿瘤、囊肿病史_20220915153424_9969.pth\n"
     ]
    },
    {
     "name": "stderr",
     "output_type": "stream",
     "text": [
      "DEBUG:root:Loading Model output/models/胰腺肿瘤、囊肿病史_20220915153424_9969.pth\n",
      "INFO:root:TextClassifier Using Device: CUDA\n",
      "INFO:root:TextClassifier Loading Data...\n",
      "DEBUG:root:Using Text Pair? -> Yes\n",
      "DEBUG:root:Data For Predicting\n",
      "DEBUG:root:Loading data lines...\n",
      "DEBUG:root:158 Lines Loaded!\n",
      "INFO:root:Initializing Class TextClassifier...\n"
     ]
    },
    {
     "name": "stdout",
     "output_type": "stream",
     "text": [
      "best accuracy: 0.9969512195121951\n",
      "{0: '0', 1: '1', 2: '2'}\n"
     ]
    },
    {
     "name": "stderr",
     "output_type": "stream",
     "text": [
      "DEBUG:root:Loading Model output/models/胰腺肿瘤、囊肿病史_20220915153424_9969.pth\n",
      "INFO:root:TextClassifier Using Device: CUDA\n",
      "INFO:root:TextClassifier Loading Data...\n",
      "DEBUG:root:Using Text Pair? -> Yes\n",
      "DEBUG:root:Data For Predicting\n",
      "DEBUG:root:Loading data lines...\n",
      "DEBUG:root:2766 Lines Loaded!\n",
      "DEBUG:root:Loading data lines...\n",
      "DEBUG:root:656 Lines Loaded!\n",
      "INFO:root:Initializing Class TextClassifier...\n"
     ]
    },
    {
     "name": "stdout",
     "output_type": "stream",
     "text": [
      "best accuracy: 1.0\n",
      "{0: '0', 1: '1', 2: '2'}\n"
     ]
    },
    {
     "name": "stderr",
     "output_type": "stream",
     "text": [
      "Some weights of the model checkpoint at ../BertModels/medical-roberta-wwm were not used when initializing BertModel: ['cls.predictions.bias', 'cls.predictions.decoder.bias', 'cls.predictions.decoder.weight', 'cls.predictions.transform.dense.weight', 'cls.predictions.transform.LayerNorm.weight', 'cls.predictions.transform.LayerNorm.bias', 'cls.predictions.transform.dense.bias']\n",
      "- This IS expected if you are initializing BertModel from the checkpoint of a model trained on another task or with another architecture (e.g. initializing a BertForSequenceClassification model from a BertForPreTraining model).\n",
      "- This IS NOT expected if you are initializing BertModel from the checkpoint of a model that you expect to be exactly identical (initializing a BertForSequenceClassification model from a BertForSequenceClassification model).\n",
      "Some weights of BertModel were not initialized from the model checkpoint at ../BertModels/medical-roberta-wwm and are newly initialized: ['bert.pooler.dense.bias', 'bert.pooler.dense.weight']\n",
      "You should probably TRAIN this model on a down-stream task to be able to use it for predictions and inference.\n",
      "DEBUG:root:Initializing Model BertTextClassfication\n",
      "INFO:root:TextClassifier Using Device: CUDA\n",
      "INFO:root:TextClassifier Loading Data...\n",
      "DEBUG:root:No\n",
      "DEBUG:root:Start Model Traning....\n",
      "DEBUG:root:Epoch: 0/100, Training Loss:0.250246, Acc:0.935694, elapsed: 137.782531\n",
      "DEBUG:root:Evalaton loss:0.251784, Acc:0.931402, elapsed: 21.232851\n",
      "DEBUG:root:Saving Model: output/models/腹部肿瘤史_20220915155119_9314.pth\n",
      "DEBUG:root:Epoch: 1/100, Training Loss:0.247156, Acc:0.935332, elapsed: 142.549313\n",
      "DEBUG:root:Evalaton loss:0.253369, Acc:0.931402, elapsed: 21.214025\n",
      "DEBUG:root:Epoch: 2/100, Training Loss:0.253764, Acc:0.935332, elapsed: 141.440141\n",
      "DEBUG:root:Evalaton loss:0.266659, Acc:0.931402, elapsed: 14.790649\n",
      "DEBUG:root:Epoch: 3/100, Training Loss:0.248868, Acc:0.935332, elapsed: 143.751040\n",
      "DEBUG:root:Evalaton loss:0.258704, Acc:0.931402, elapsed: 21.203456\n",
      "DEBUG:root:Epoch: 4/100, Training Loss:0.250541, Acc:0.935212, elapsed: 143.436281\n",
      "DEBUG:root:Evalaton loss:0.256175, Acc:0.931402, elapsed: 21.042001\n",
      "DEBUG:root:Epoch: 5/100, Training Loss:0.243301, Acc:0.935332, elapsed: 136.491801\n",
      "DEBUG:root:Evalaton loss:0.251114, Acc:0.931402, elapsed: 21.457729\n",
      "DEBUG:root:No Improve more than 5 epochs, Exit Training! Best accuracy: 0.931402\n",
      "DEBUG:root:Loading data lines...\n",
      "DEBUG:root:656 Lines Loaded!\n",
      "INFO:root:Initializing Class TextClassifier...\n"
     ]
    },
    {
     "name": "stdout",
     "output_type": "stream",
     "text": [
      "output/models/腹部肿瘤史_20220915155119_9314.pth\n"
     ]
    },
    {
     "name": "stderr",
     "output_type": "stream",
     "text": [
      "DEBUG:root:Loading Model output/models/腹部肿瘤史_20220915155119_9314.pth\n",
      "INFO:root:TextClassifier Using Device: CUDA\n",
      "INFO:root:TextClassifier Loading Data...\n",
      "DEBUG:root:Using Text Pair? -> Yes\n",
      "DEBUG:root:Data For Predicting\n",
      "DEBUG:root:Loading data lines...\n",
      "DEBUG:root:158 Lines Loaded!\n",
      "INFO:root:Initializing Class TextClassifier...\n"
     ]
    },
    {
     "name": "stdout",
     "output_type": "stream",
     "text": [
      "best accuracy: 0.9314024390243902\n",
      "{0: '0', 1: '1', 2: '2'}\n"
     ]
    },
    {
     "name": "stderr",
     "output_type": "stream",
     "text": [
      "DEBUG:root:Loading Model output/models/腹部肿瘤史_20220915155119_9314.pth\n",
      "INFO:root:TextClassifier Using Device: CUDA\n",
      "INFO:root:TextClassifier Loading Data...\n",
      "DEBUG:root:Using Text Pair? -> Yes\n",
      "DEBUG:root:Data For Predicting\n",
      "DEBUG:root:Loading data lines...\n",
      "DEBUG:root:2766 Lines Loaded!\n",
      "DEBUG:root:Loading data lines...\n",
      "DEBUG:root:656 Lines Loaded!\n",
      "INFO:root:Initializing Class TextClassifier...\n"
     ]
    },
    {
     "name": "stdout",
     "output_type": "stream",
     "text": [
      "best accuracy: 0.95625\n",
      "{0: '0', 1: '1', 2: '2'}\n"
     ]
    },
    {
     "name": "stderr",
     "output_type": "stream",
     "text": [
      "Some weights of the model checkpoint at ../BertModels/medical-roberta-wwm were not used when initializing BertModel: ['cls.predictions.bias', 'cls.predictions.decoder.bias', 'cls.predictions.decoder.weight', 'cls.predictions.transform.dense.weight', 'cls.predictions.transform.LayerNorm.weight', 'cls.predictions.transform.LayerNorm.bias', 'cls.predictions.transform.dense.bias']\n",
      "- This IS expected if you are initializing BertModel from the checkpoint of a model trained on another task or with another architecture (e.g. initializing a BertForSequenceClassification model from a BertForPreTraining model).\n",
      "- This IS NOT expected if you are initializing BertModel from the checkpoint of a model that you expect to be exactly identical (initializing a BertForSequenceClassification model from a BertForSequenceClassification model).\n",
      "Some weights of BertModel were not initialized from the model checkpoint at ../BertModels/medical-roberta-wwm and are newly initialized: ['bert.pooler.dense.bias', 'bert.pooler.dense.weight']\n",
      "You should probably TRAIN this model on a down-stream task to be able to use it for predictions and inference.\n",
      "DEBUG:root:Initializing Model BertTextClassfication\n",
      "INFO:root:TextClassifier Using Device: CUDA\n",
      "INFO:root:TextClassifier Loading Data...\n",
      "DEBUG:root:No\n",
      "DEBUG:root:Start Model Traning....\n",
      "DEBUG:root:Epoch: 0/100, Training Loss:0.009040, Acc:0.997110, elapsed: 141.621642\n",
      "DEBUG:root:Evalaton loss:0.019279, Acc:0.998476, elapsed: 15.390189\n",
      "DEBUG:root:Saving Model: output/models/既往生殖器感染_20220915160818_9984.pth\n",
      "DEBUG:root:Epoch: 1/100, Training Loss:0.004388, Acc:0.999639, elapsed: 141.969650\n",
      "DEBUG:root:Evalaton loss:0.012507, Acc:0.998476, elapsed: 21.457117\n",
      "DEBUG:root:Epoch: 2/100, Training Loss:0.004233, Acc:0.999639, elapsed: 142.335436\n",
      "DEBUG:root:Evalaton loss:0.012415, Acc:0.998476, elapsed: 20.594760\n",
      "DEBUG:root:Epoch: 3/100, Training Loss:0.004072, Acc:0.999639, elapsed: 137.655815\n",
      "DEBUG:root:Evalaton loss:0.012584, Acc:0.998476, elapsed: 21.262218\n",
      "DEBUG:root:Epoch: 4/100, Training Loss:0.004107, Acc:0.999639, elapsed: 142.481358\n",
      "DEBUG:root:Evalaton loss:0.012607, Acc:0.998476, elapsed: 21.285590\n",
      "DEBUG:root:Epoch: 5/100, Training Loss:0.003529, Acc:0.999639, elapsed: 142.045452\n",
      "DEBUG:root:Evalaton loss:0.012574, Acc:0.998476, elapsed: 18.798423\n",
      "DEBUG:root:No Improve more than 5 epochs, Exit Training! Best accuracy: 0.998476\n",
      "DEBUG:root:Loading data lines...\n",
      "DEBUG:root:656 Lines Loaded!\n",
      "INFO:root:Initializing Class TextClassifier...\n"
     ]
    },
    {
     "name": "stdout",
     "output_type": "stream",
     "text": [
      "output/models/既往生殖器感染_20220915160818_9984.pth\n"
     ]
    },
    {
     "name": "stderr",
     "output_type": "stream",
     "text": [
      "DEBUG:root:Loading Model output/models/既往生殖器感染_20220915160818_9984.pth\n",
      "INFO:root:TextClassifier Using Device: CUDA\n",
      "INFO:root:TextClassifier Loading Data...\n",
      "DEBUG:root:Using Text Pair? -> Yes\n",
      "DEBUG:root:Data For Predicting\n",
      "DEBUG:root:Loading data lines...\n",
      "DEBUG:root:158 Lines Loaded!\n",
      "INFO:root:Initializing Class TextClassifier...\n"
     ]
    },
    {
     "name": "stdout",
     "output_type": "stream",
     "text": [
      "best accuracy: 0.9984756097560976\n",
      "{0: '0', 1: '1', 2: '2'}\n"
     ]
    },
    {
     "name": "stderr",
     "output_type": "stream",
     "text": [
      "DEBUG:root:Loading Model output/models/既往生殖器感染_20220915160818_9984.pth\n",
      "INFO:root:TextClassifier Using Device: CUDA\n",
      "INFO:root:TextClassifier Loading Data...\n",
      "DEBUG:root:Using Text Pair? -> Yes\n",
      "DEBUG:root:Data For Predicting\n",
      "DEBUG:root:Loading data lines...\n",
      "DEBUG:root:2766 Lines Loaded!\n",
      "DEBUG:root:Loading data lines...\n",
      "DEBUG:root:656 Lines Loaded!\n",
      "INFO:root:Initializing Class TextClassifier...\n"
     ]
    },
    {
     "name": "stdout",
     "output_type": "stream",
     "text": [
      "best accuracy: 1.0\n",
      "{0: '0', 1: '1', 2: '2'}\n"
     ]
    },
    {
     "name": "stderr",
     "output_type": "stream",
     "text": [
      "Some weights of the model checkpoint at ../BertModels/medical-roberta-wwm were not used when initializing BertModel: ['cls.predictions.bias', 'cls.predictions.decoder.bias', 'cls.predictions.decoder.weight', 'cls.predictions.transform.dense.weight', 'cls.predictions.transform.LayerNorm.weight', 'cls.predictions.transform.LayerNorm.bias', 'cls.predictions.transform.dense.bias']\n",
      "- This IS expected if you are initializing BertModel from the checkpoint of a model trained on another task or with another architecture (e.g. initializing a BertForSequenceClassification model from a BertForPreTraining model).\n",
      "- This IS NOT expected if you are initializing BertModel from the checkpoint of a model that you expect to be exactly identical (initializing a BertForSequenceClassification model from a BertForSequenceClassification model).\n",
      "Some weights of BertModel were not initialized from the model checkpoint at ../BertModels/medical-roberta-wwm and are newly initialized: ['bert.pooler.dense.bias', 'bert.pooler.dense.weight']\n",
      "You should probably TRAIN this model on a down-stream task to be able to use it for predictions and inference.\n",
      "DEBUG:root:Initializing Model BertTextClassfication\n",
      "INFO:root:TextClassifier Using Device: CUDA\n",
      "INFO:root:TextClassifier Loading Data...\n",
      "DEBUG:root:No\n",
      "DEBUG:root:Start Model Traning....\n",
      "DEBUG:root:Epoch: 0/100, Training Loss:0.063520, Acc:0.987355, elapsed: 141.614639\n",
      "DEBUG:root:Evalaton loss:0.052842, Acc:0.990854, elapsed: 21.187554\n",
      "DEBUG:root:Saving Model: output/models/肿瘤化疗史_20220915162519_9908.pth\n",
      "DEBUG:root:Epoch: 1/100, Training Loss:0.059529, Acc:0.990246, elapsed: 141.832422\n",
      "DEBUG:root:Evalaton loss:0.053115, Acc:0.990854, elapsed: 17.509224\n",
      "DEBUG:root:Epoch: 2/100, Training Loss:0.058561, Acc:0.990246, elapsed: 142.441127\n",
      "DEBUG:root:Evalaton loss:0.053418, Acc:0.990854, elapsed: 21.073321\n",
      "DEBUG:root:Epoch: 3/100, Training Loss:0.058010, Acc:0.990246, elapsed: 142.068378\n",
      "DEBUG:root:Evalaton loss:0.052960, Acc:0.990854, elapsed: 18.260805\n",
      "DEBUG:root:Epoch: 4/100, Training Loss:0.056597, Acc:0.990246, elapsed: 138.159147\n",
      "DEBUG:root:Evalaton loss:0.052480, Acc:0.990854, elapsed: 21.427766\n",
      "DEBUG:root:Epoch: 5/100, Training Loss:0.056926, Acc:0.990246, elapsed: 141.669403\n",
      "DEBUG:root:Evalaton loss:0.052538, Acc:0.990854, elapsed: 15.966941\n",
      "DEBUG:root:No Improve more than 5 epochs, Exit Training! Best accuracy: 0.990854\n",
      "DEBUG:root:Loading data lines...\n",
      "DEBUG:root:656 Lines Loaded!\n",
      "INFO:root:Initializing Class TextClassifier...\n"
     ]
    },
    {
     "name": "stdout",
     "output_type": "stream",
     "text": [
      "output/models/肿瘤化疗史_20220915162519_9908.pth\n"
     ]
    },
    {
     "name": "stderr",
     "output_type": "stream",
     "text": [
      "DEBUG:root:Loading Model output/models/肿瘤化疗史_20220915162519_9908.pth\n",
      "INFO:root:TextClassifier Using Device: CUDA\n",
      "INFO:root:TextClassifier Loading Data...\n",
      "DEBUG:root:Using Text Pair? -> Yes\n",
      "DEBUG:root:Data For Predicting\n",
      "DEBUG:root:Loading data lines...\n",
      "DEBUG:root:158 Lines Loaded!\n",
      "INFO:root:Initializing Class TextClassifier...\n"
     ]
    },
    {
     "name": "stdout",
     "output_type": "stream",
     "text": [
      "best accuracy: 0.9908536585365854\n",
      "{0: '0', 1: '1', 2: '2'}\n"
     ]
    },
    {
     "name": "stderr",
     "output_type": "stream",
     "text": [
      "DEBUG:root:Loading Model output/models/肿瘤化疗史_20220915162519_9908.pth\n",
      "INFO:root:TextClassifier Using Device: CUDA\n",
      "INFO:root:TextClassifier Loading Data...\n",
      "DEBUG:root:Using Text Pair? -> Yes\n",
      "DEBUG:root:Data For Predicting\n"
     ]
    },
    {
     "name": "stdout",
     "output_type": "stream",
     "text": [
      "best accuracy: 1.0\n",
      "{0: '0', 1: '1', 2: '2'}\n"
     ]
    }
   ],
   "source": [
    "for col, name in zip(list(range(3, 9)), \n",
    "            ['腹部手术史', '自身免疫性疾病', '胰腺肿瘤、囊肿病史', '腹部肿瘤史', '既往生殖器感染', '肿瘤化疗史']):\n",
    "    best_mdl_path = train(train_file_path=r'data\\训练集_既往史_模型.txt', val_file_path=r'data\\测试集_既往史_模型.txt', num_fields=9, \n",
    "          text_field=2, label_field=col, feature_name=name, log_file=r'output\\logs\\20220902_预训练_句子对_既往史.log', skip_title=True, \n",
    "            using_text_pair=False, model_save_path=mdl_folder)\n",
    "    print(best_mdl_path)\n",
    "    predict(best_mdl_path, predict_file_path=r'data\\测试集_既往史_模型.txt', result_file_path=r'output/data/%s_既往史_测试集结果.txt' % name, \n",
    "            log_file_path=os.path.join(dat_folder, 'stat_result.txt'), num_fields=9, text_field=2, label_field=col, feature_name=name, skip_title=True)\n",
    "    predict(best_mdl_path, predict_file_path=r'data\\人机_既往史_模型.txt', result_file_path=r'output/data/%s_既往史_人机结果.txt' % name, \n",
    "            log_file_path=os.path.join(dat_folder, 'stat_result.txt'), num_fields=9, text_field=2, label_field=col, feature_name=name, skip_title=True)"
   ]
  },
  {
   "cell_type": "code",
   "execution_count": 5,
   "id": "3854b094",
   "metadata": {
    "scrolled": true
   },
   "outputs": [
    {
     "name": "stderr",
     "output_type": "stream",
     "text": [
      "DEBUG:root:Loading data lines...\n",
      "DEBUG:root:689 Lines Loaded!\n",
      "INFO:root:Initializing Class TextClassifier...\n"
     ]
    },
    {
     "name": "stdout",
     "output_type": "stream",
     "text": [
      "output/models\\腹部手术史_20220813181506_9525.pth\n"
     ]
    },
    {
     "name": "stderr",
     "output_type": "stream",
     "text": [
      "DEBUG:root:Loading Model output/models\\腹部手术史_20220813181506_9525.pth\n",
      "INFO:root:TextClassifier Using Device: CUDA\n",
      "INFO:root:TextClassifier Loading Data...\n",
      "DEBUG:root:Using Text Pair? -> Yes\n",
      "DEBUG:root:Data For Predicting\n",
      "DEBUG:root:Loading data lines...\n",
      "DEBUG:root:184 Lines Loaded!\n",
      "INFO:root:Initializing Class TextClassifier...\n"
     ]
    },
    {
     "name": "stdout",
     "output_type": "stream",
     "text": [
      "best accuracy: 0.9525862068965517\n",
      "{0: '0', 1: '1', 2: '2'}\n"
     ]
    },
    {
     "name": "stderr",
     "output_type": "stream",
     "text": [
      "DEBUG:root:Loading Model output/models\\腹部手术史_20220813181506_9525.pth\n",
      "INFO:root:TextClassifier Using Device: CUDA\n",
      "INFO:root:TextClassifier Loading Data...\n",
      "DEBUG:root:Using Text Pair? -> Yes\n",
      "DEBUG:root:Data For Predicting\n",
      "DEBUG:root:Loading data lines...\n",
      "DEBUG:root:689 Lines Loaded!\n",
      "INFO:root:Initializing Class TextClassifier...\n"
     ]
    },
    {
     "name": "stdout",
     "output_type": "stream",
     "text": [
      "best accuracy: 0.9782608695652174\n",
      "{0: '0', 1: '1', 2: '2'}\n",
      "output/models\\自身免疫性疾病_20220814160531_9971.pth\n"
     ]
    },
    {
     "name": "stderr",
     "output_type": "stream",
     "text": [
      "DEBUG:root:Loading Model output/models\\自身免疫性疾病_20220814160531_9971.pth\n",
      "INFO:root:TextClassifier Using Device: CUDA\n",
      "INFO:root:TextClassifier Loading Data...\n",
      "DEBUG:root:Using Text Pair? -> Yes\n",
      "DEBUG:root:Data For Predicting\n",
      "DEBUG:root:Loading data lines...\n",
      "DEBUG:root:184 Lines Loaded!\n",
      "INFO:root:Initializing Class TextClassifier...\n"
     ]
    },
    {
     "name": "stdout",
     "output_type": "stream",
     "text": [
      "best accuracy: 0.9971264367816092\n",
      "{0: '0', 1: '1', 2: '2'}\n"
     ]
    },
    {
     "name": "stderr",
     "output_type": "stream",
     "text": [
      "DEBUG:root:Loading Model output/models\\自身免疫性疾病_20220814160531_9971.pth\n",
      "INFO:root:TextClassifier Using Device: CUDA\n",
      "INFO:root:TextClassifier Loading Data...\n",
      "DEBUG:root:Using Text Pair? -> Yes\n",
      "DEBUG:root:Data For Predicting\n",
      "DEBUG:root:Loading data lines...\n",
      "DEBUG:root:689 Lines Loaded!\n",
      "INFO:root:Initializing Class TextClassifier...\n"
     ]
    },
    {
     "name": "stdout",
     "output_type": "stream",
     "text": [
      "best accuracy: 1.0\n",
      "{0: '0', 1: '1', 2: '2'}\n",
      "output/models\\胰腺肿瘤、囊肿病史_20220814163429_9971.pth\n"
     ]
    },
    {
     "name": "stderr",
     "output_type": "stream",
     "text": [
      "DEBUG:root:Loading Model output/models\\胰腺肿瘤、囊肿病史_20220814163429_9971.pth\n",
      "INFO:root:TextClassifier Using Device: CUDA\n",
      "INFO:root:TextClassifier Loading Data...\n",
      "DEBUG:root:Using Text Pair? -> Yes\n",
      "DEBUG:root:Data For Predicting\n",
      "DEBUG:root:Loading data lines...\n",
      "DEBUG:root:184 Lines Loaded!\n",
      "INFO:root:Initializing Class TextClassifier...\n"
     ]
    },
    {
     "name": "stdout",
     "output_type": "stream",
     "text": [
      "best accuracy: 0.9971264367816092\n",
      "{0: '0', 1: '1', 2: '2'}\n"
     ]
    },
    {
     "name": "stderr",
     "output_type": "stream",
     "text": [
      "DEBUG:root:Loading Model output/models\\胰腺肿瘤、囊肿病史_20220814163429_9971.pth\n",
      "INFO:root:TextClassifier Using Device: CUDA\n",
      "INFO:root:TextClassifier Loading Data...\n",
      "DEBUG:root:Using Text Pair? -> Yes\n",
      "DEBUG:root:Data For Predicting\n",
      "DEBUG:root:Loading data lines...\n",
      "DEBUG:root:689 Lines Loaded!\n",
      "INFO:root:Initializing Class TextClassifier...\n"
     ]
    },
    {
     "name": "stdout",
     "output_type": "stream",
     "text": [
      "best accuracy: 1.0\n",
      "{0: '0', 1: '1', 2: '2'}\n",
      "output/models\\腹部肿瘤史_20220814180436_9640.pth\n"
     ]
    },
    {
     "name": "stderr",
     "output_type": "stream",
     "text": [
      "DEBUG:root:Loading Model output/models\\腹部肿瘤史_20220814180436_9640.pth\n",
      "INFO:root:TextClassifier Using Device: CUDA\n",
      "INFO:root:TextClassifier Loading Data...\n",
      "DEBUG:root:Using Text Pair? -> Yes\n",
      "DEBUG:root:Data For Predicting\n",
      "DEBUG:root:Loading data lines...\n",
      "DEBUG:root:184 Lines Loaded!\n",
      "INFO:root:Initializing Class TextClassifier...\n"
     ]
    },
    {
     "name": "stdout",
     "output_type": "stream",
     "text": [
      "best accuracy: 0.9640804597701149\n",
      "{0: '0', 1: '1', 2: '2'}\n"
     ]
    },
    {
     "name": "stderr",
     "output_type": "stream",
     "text": [
      "DEBUG:root:Loading Model output/models\\腹部肿瘤史_20220814180436_9640.pth\n",
      "INFO:root:TextClassifier Using Device: CUDA\n",
      "INFO:root:TextClassifier Loading Data...\n",
      "DEBUG:root:Using Text Pair? -> Yes\n",
      "DEBUG:root:Data For Predicting\n",
      "DEBUG:root:Loading data lines...\n",
      "DEBUG:root:689 Lines Loaded!\n",
      "INFO:root:Initializing Class TextClassifier...\n"
     ]
    },
    {
     "name": "stdout",
     "output_type": "stream",
     "text": [
      "best accuracy: 0.9836956521739131\n",
      "{0: '0', 1: '1', 2: '2'}\n",
      "output/models\\既往生殖器感染_20220814183333_9985.pth\n"
     ]
    },
    {
     "name": "stderr",
     "output_type": "stream",
     "text": [
      "DEBUG:root:Loading Model output/models\\既往生殖器感染_20220814183333_9985.pth\n",
      "INFO:root:TextClassifier Using Device: CUDA\n",
      "INFO:root:TextClassifier Loading Data...\n",
      "DEBUG:root:Using Text Pair? -> Yes\n",
      "DEBUG:root:Data For Predicting\n",
      "DEBUG:root:Loading data lines...\n",
      "DEBUG:root:184 Lines Loaded!\n",
      "INFO:root:Initializing Class TextClassifier...\n"
     ]
    },
    {
     "name": "stdout",
     "output_type": "stream",
     "text": [
      "best accuracy: 0.9985632183908046\n",
      "{0: '0', 1: '1', 2: '2'}\n"
     ]
    },
    {
     "name": "stderr",
     "output_type": "stream",
     "text": [
      "DEBUG:root:Loading Model output/models\\既往生殖器感染_20220814183333_9985.pth\n",
      "INFO:root:TextClassifier Using Device: CUDA\n",
      "INFO:root:TextClassifier Loading Data...\n",
      "DEBUG:root:Using Text Pair? -> Yes\n",
      "DEBUG:root:Data For Predicting\n",
      "DEBUG:root:Loading data lines...\n",
      "DEBUG:root:689 Lines Loaded!\n",
      "INFO:root:Initializing Class TextClassifier...\n"
     ]
    },
    {
     "name": "stdout",
     "output_type": "stream",
     "text": [
      "best accuracy: 1.0\n",
      "{0: '0', 1: '1', 2: '2'}\n",
      "output/models\\肿瘤化疗史_20220814190231_9913.pth\n"
     ]
    },
    {
     "name": "stderr",
     "output_type": "stream",
     "text": [
      "DEBUG:root:Loading Model output/models\\肿瘤化疗史_20220814190231_9913.pth\n",
      "INFO:root:TextClassifier Using Device: CUDA\n",
      "INFO:root:TextClassifier Loading Data...\n",
      "DEBUG:root:Using Text Pair? -> Yes\n",
      "DEBUG:root:Data For Predicting\n",
      "DEBUG:root:Loading data lines...\n",
      "DEBUG:root:184 Lines Loaded!\n",
      "INFO:root:Initializing Class TextClassifier...\n"
     ]
    },
    {
     "name": "stdout",
     "output_type": "stream",
     "text": [
      "best accuracy: 0.9913793103448276\n",
      "{0: '0', 1: '1', 2: '2'}\n"
     ]
    },
    {
     "name": "stderr",
     "output_type": "stream",
     "text": [
      "DEBUG:root:Loading Model output/models\\肿瘤化疗史_20220814190231_9913.pth\n",
      "INFO:root:TextClassifier Using Device: CUDA\n",
      "INFO:root:TextClassifier Loading Data...\n",
      "DEBUG:root:Using Text Pair? -> Yes\n",
      "DEBUG:root:Data For Predicting\n"
     ]
    },
    {
     "name": "stdout",
     "output_type": "stream",
     "text": [
      "best accuracy: 1.0\n",
      "{0: '0', 1: '1', 2: '2'}\n"
     ]
    }
   ],
   "source": [
    "mdl_folder = r'output/models'\n",
    "for col, name in zip(list(range(3, 9)), \n",
    "            ['腹部手术史', '自身免疫性疾病', '胰腺肿瘤、囊肿病史', '腹部肿瘤史', '既往生殖器感染', '肿瘤化疗史']\n",
    "            ):\n",
    "    best_mdl_path = os.path.join(mdl_folder, find_best_mdl(mdl_folder, name))\n",
    "    print(best_mdl_path)\n",
    "    predict(best_mdl_path, predict_file_path=r'data\\测试集_既往史_模型.txt', result_file_path=r'output/data/%s_既往史_测试集结果.txt' % name, \n",
    "            log_file_path=r'output/data/predict_20220815.txt', num_fields=9, text_field=2, label_field=col, feature_name=name, skip_title=True)\n",
    "    predict(best_mdl_path, predict_file_path=r'data\\人机_既往史_模型.txt', result_file_path=r'output/data/%s_既往史_人机结果.txt' % name, \n",
    "            log_file_path=r'output/data/predict_20220815.txt', num_fields=9, text_field=2, label_field=col, feature_name=name, skip_title=True)"
   ]
  },
  {
   "cell_type": "code",
   "execution_count": null,
   "id": "ae041f58",
   "metadata": {},
   "outputs": [],
   "source": [
    "stat_train_total_ct(r'data\\训练集_既往史_模型.txt', list(range(3, 9)), ['腹部手术史', '自身免疫性疾病', '胰腺肿瘤、囊肿病史', '腹部肿瘤史', '既往生殖器感染', '肿瘤化疗史']) "
   ]
  }
 ],
 "metadata": {
  "kernelspec": {
   "display_name": "Python 3 (ipykernel)",
   "language": "python",
   "name": "python3"
  },
  "language_info": {
   "codemirror_mode": {
    "name": "ipython",
    "version": 3
   },
   "file_extension": ".py",
   "mimetype": "text/x-python",
   "name": "python",
   "nbconvert_exporter": "python",
   "pygments_lexer": "ipython3",
   "version": "3.9.12"
  }
 },
 "nbformat": 4,
 "nbformat_minor": 5
}
