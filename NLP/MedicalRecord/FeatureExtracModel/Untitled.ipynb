{
 "cells": [
  {
   "cell_type": "code",
   "execution_count": 6,
   "id": "a0b44614",
   "metadata": {},
   "outputs": [],
   "source": [
    "def stat_train_total_ct(data_file_path, cols, names):\n",
    "    data_lines = []\n",
    "    with open(data_file_path) as f_in:\n",
    "        data_lines = f_in.readlines()[1:]\n",
    "    \n",
    "    for col, name in zip(cols, names):\n",
    "        stat_result = [0 for i in range(4)]\n",
    "        for line in data_lines:\n",
    "            arr = line.split('\t')\n",
    "            e = int(arr[col])\n",
    "            stat_result[e] = stat_result[e] + 1\n",
    "        \n",
    "        s = name\n",
    "        for item in stat_result:\n",
    "            s = '%s\t\t\t%s' % (s, item)\n",
    "        print(s)\n",
    "        print(s)\n"
   ]
  },
  {
   "cell_type": "code",
   "execution_count": 7,
   "id": "43977d7b",
   "metadata": {
    "scrolled": true
   },
   "outputs": [
    {
     "name": "stdout",
     "output_type": "stream",
     "text": [
      "放射痛（右肩、肩胛和背部）\t327\t467\t1972\t0\n",
      "放射痛（右肩、肩胛和背部）\t327\t467\t1972\t0\n",
      "上腹痛\t349\t1384\t1033\t0\n",
      "上腹痛\t349\t1384\t1033\t0\n",
      "厌食\t909\t1516\t341\t0\n",
      "厌食\t909\t1516\t341\t0\n",
      "腹泻\t1202\t134\t1430\t0\n",
      "腹泻\t1202\t134\t1430\t0\n",
      "盆腔疼痛\t0\t0\t2766\t0\n",
      "盆腔疼痛\t0\t0\t2766\t0\n",
      "迅速波及全腹\t9\t5\t2752\t0\n",
      "迅速波及全腹\t9\t5\t2752\t0\n",
      "黑便\t593\t23\t2150\t0\n",
      "黑便\t593\t23\t2150\t0\n",
      "右下腹疼痛\t1352\t73\t1341\t0\n",
      "右下腹疼痛\t1352\t73\t1341\t0\n",
      "转移性右下腹疼痛\t2281\t187\t298\t0\n",
      "转移性右下腹疼痛\t2281\t187\t298\t0\n",
      "中腹痛\t1180\t202\t1384\t0\n",
      "中腹痛\t1180\t202\t1384\t0\n",
      "右上腹痛\t1762\t300\t704\t0\n",
      "右上腹痛\t1762\t300\t704\t0\n",
      "放射痛（放射到同侧半腹或背部），现病史\t641\t208\t1917\t0\n",
      "放射痛（放射到同侧半腹或背部），现病史\t641\t208\t1917\t0\n",
      "持续性腹痛\t416\t618\t1732\t0\n",
      "持续性腹痛\t416\t618\t1732\t0\n",
      "仰卧加重，坐位缓解\t666\t3\t2097\t0\n",
      "仰卧加重，坐位缓解\t666\t3\t2097\t0\n",
      "阵发性疼痛\t379\t393\t1994\t0\n",
      "阵发性疼痛\t379\t393\t1994\t0\n",
      "剧烈腹痛\t1097\t294\t1375\t0\n",
      "剧烈腹痛\t1097\t294\t1375\t0\n",
      "停止排便排气\t1271\t363\t1132\t0\n",
      "停止排便排气\t1271\t363\t1132\t0\n",
      "阴道流血\t632\t117\t2017\t0\n",
      "阴道流血\t632\t117\t2017\t0\n",
      "排尿改变\t1964\t461\t341\t0\n",
      "排尿改变\t1964\t461\t341\t0\n",
      "放射痛（侧腹、腹股沟、睾丸或大阴唇）\t364\t5\t2397\t0\n",
      "放射痛（侧腹、腹股沟、睾丸或大阴唇）\t364\t5\t2397\t0\n",
      "腰_侧腹痛\t128\t156\t2482\t0\n",
      "腰_侧腹痛\t128\t156\t2482\t0\n"
     ]
    }
   ],
   "source": [
    "stat_train_total_ct(r'data\\训练集_现病史_模型.txt', list(range(3, 24)), ['放射痛（右肩、肩胛和背部）', '上腹痛', '厌食', '腹泻', '盆腔疼痛', '迅速波及全腹', '黑便', '右下腹疼痛', \\\n",
    "             '转移性右下腹疼痛', '中腹痛', '右上腹痛', '放射痛（放射到同侧半腹或背部），现病史', '持续性腹痛', '仰卧加重，坐位缓解', \\\n",
    "             '阵发性疼痛', '剧烈腹痛', '停止排便排气', '阴道流血', '排尿改变', '放射痛（侧腹、腹股沟、睾丸或大阴唇）', '腰_侧腹痛']) "
   ]
  },
  {
   "cell_type": "code",
   "execution_count": 8,
   "id": "ba634d21",
   "metadata": {},
   "outputs": [
    {
     "name": "stdout",
     "output_type": "stream",
     "text": [
      "腹部手术史\t1929\t836\t1\t0\n",
      "腹部手术史\t1929\t836\t1\t0\n",
      "自身免疫性疾病\t2752\t14\t0\t0\n",
      "自身免疫性疾病\t2752\t14\t0\t0\n",
      "胰腺肿瘤、囊肿病史\t2760\t6\t0\t0\n",
      "胰腺肿瘤、囊肿病史\t2760\t6\t0\t0\n",
      "腹部肿瘤史\t2587\t179\t0\t0\n",
      "腹部肿瘤史\t2587\t179\t0\t0\n",
      "既往生殖器感染\t2765\t1\t0\t0\n",
      "既往生殖器感染\t2765\t1\t0\t0\n",
      "肿瘤化疗史\t2739\t27\t0\t0\n",
      "肿瘤化疗史\t2739\t27\t0\t0\n"
     ]
    }
   ],
   "source": [
    "stat_train_total_ct(r'data\\训练集_既往史_模型.txt', list(range(3, 9)), ['腹部手术史', '自身免疫性疾病', '胰腺肿瘤、囊肿病史', '腹部肿瘤史', '既往生殖器感染', '肿瘤化疗史']) "
   ]
  },
  {
   "cell_type": "code",
   "execution_count": null,
   "id": "247cdd28",
   "metadata": {},
   "outputs": [],
   "source": []
  }
 ],
 "metadata": {
  "kernelspec": {
   "display_name": "Python 3 (ipykernel)",
   "language": "python",
   "name": "python3"
  },
  "language_info": {
   "codemirror_mode": {
    "name": "ipython",
    "version": 3
   },
   "file_extension": ".py",
   "mimetype": "text/x-python",
   "name": "python",
   "nbconvert_exporter": "python",
   "pygments_lexer": "ipython3",
   "version": "3.9.12"
  }
 },
 "nbformat": 4,
 "nbformat_minor": 5
}
