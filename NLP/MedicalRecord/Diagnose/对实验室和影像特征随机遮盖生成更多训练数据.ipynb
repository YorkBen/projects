{
 "cells": [
  {
   "cell_type": "code",
   "execution_count": 1,
   "id": "4cb6591a",
   "metadata": {},
   "outputs": [],
   "source": [
    "data_raw = []\n",
    "start_mask_field = 121\n",
    "num_fields = 176\n",
    "title = ''\n",
    "separator = '\t'\n",
    "\n",
    "def read_file(file_path):\n",
    "    with open(file_path) as f:\n",
    "        for idx, line in enumerate(f.readlines()):\n",
    "            if idx == 0:\n",
    "                title = line.strip()\n",
    "            else:\n",
    "                data_raw.append(line.strip().split(separator))\n",
    "    return title, data_raw\n",
    "\n",
    "def write_to_file(file_path, title, data):\n",
    "    with open(file_path, 'w') as f:\n",
    "        f.write('%s\\n' % title)\n",
    "        for arr in data:\n",
    "            f.write('%s\\n' % separator.join(arr))\n"
   ]
  },
  {
   "cell_type": "code",
   "execution_count": 2,
   "id": "14e9a3cf",
   "metadata": {},
   "outputs": [],
   "source": [
    "#print(title_arr.index('全血_白细胞_大于_9.5'))"
   ]
  },
  {
   "cell_type": "code",
   "execution_count": 5,
   "id": "36452cbb",
   "metadata": {},
   "outputs": [],
   "source": [
    "import copy\n",
    "import random\n",
    "def gen_data_with_mask(arr, mask_list):\n",
    "    result = [arr]\n",
    "    for mask in mask_list:\n",
    "        arr_ = copy.copy(arr)\n",
    "        for idx in mask:\n",
    "            arr_[idx] = '2'\n",
    "        result.append(arr_)\n",
    "    return result\n",
    "\n",
    "def gen_data(data_raw, start_mask_field, num_fields):\n",
    "    data_result = []\n",
    "    for arr in data_raw:\n",
    "        pos_idx_sets = []\n",
    "        pos_idx_arr = []\n",
    "        for i in range(start_mask_field, num_fields):\n",
    "            if arr[i] == \"1\":\n",
    "                pos_idx_arr.append(i)\n",
    "#         print(pos_idx_arr)            \n",
    "        for k in range(1, len(pos_idx_arr) + 1):\n",
    "            # 最多选10个\n",
    "            for n in range(0, 2):\n",
    "                pos_idx_sets.append(tuple(random.sample(pos_idx_arr, k)))\n",
    "        pos_idx_sets = list(set(pos_idx_sets))\n",
    "#         print(pos_idx_sets)\n",
    "#         print('')\n",
    "        data_result.extend(gen_data_with_mask(arr, pos_idx_sets))\n",
    "    return data_result"
   ]
  },
  {
   "cell_type": "code",
   "execution_count": 6,
   "id": "f82876c2",
   "metadata": {},
   "outputs": [],
   "source": [
    "title, data_xl = read_file(r'data/训练_全特征.txt')\n",
    "title, data_cs = read_file(r'data/测试_全特征.txt')\n",
    "title, data_xl1 = read_file(r'data/训练_临床.txt')\n",
    "title, data_cs1 = read_file(r'data/测试_临床.txt')\n",
    "\n",
    "gen_data_xl = gen_data(data_xl, start_mask_field, num_fields)\n",
    "gen_data_cs = gen_data(data_cs, start_mask_field, num_fields)\n",
    "\n",
    "write_to_file(r'data/训练测试_合成.txt', title, gen_data_xl + gen_data_cs + data_xl1 + data_cs1)"
   ]
  },
  {
   "cell_type": "code",
   "execution_count": null,
   "id": "52f1b65c",
   "metadata": {},
   "outputs": [],
   "source": []
  }
 ],
 "metadata": {
  "kernelspec": {
   "display_name": "Python 3 (ipykernel)",
   "language": "python",
   "name": "python3"
  },
  "language_info": {
   "codemirror_mode": {
    "name": "ipython",
    "version": 3
   },
   "file_extension": ".py",
   "mimetype": "text/x-python",
   "name": "python",
   "nbconvert_exporter": "python",
   "pygments_lexer": "ipython3",
   "version": "3.9.12"
  }
 },
 "nbformat": 4,
 "nbformat_minor": 5
}
