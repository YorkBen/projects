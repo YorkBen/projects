{
 "cells": [
  {
   "cell_type": "code",
   "execution_count": 15,
   "id": "4cb6591a",
   "metadata": {},
   "outputs": [],
   "source": [
    "separator = '\t'\n",
    "\n",
    "def read_file(file_path):\n",
    "    title, data_raw = '', []\n",
    "    with open(file_path, encoding=\"utf-8\") as f:\n",
    "        for idx, line in enumerate(f.readlines()):\n",
    "            if idx == 0:\n",
    "                title = line.strip()\n",
    "            else:\n",
    "                data_raw.append(line.strip().split(separator))\n",
    "    return title, data_raw\n",
    "\n",
    "def write_to_file(file_path, title, data):\n",
    "    with open(file_path, 'w', encoding=\"utf-8\") as f:\n",
    "        f.write('%s\\n' % title)\n",
    "        for arr in data:\n",
    "            f.write('%s\\n' % separator.join(arr))\n"
   ]
  },
  {
   "cell_type": "code",
   "execution_count": 16,
   "id": "36452cbb",
   "metadata": {},
   "outputs": [],
   "source": [
    "import copy\n",
    "import random\n",
    "def gen_data_with_mask(arr, mask_list):\n",
    "    result = []\n",
    "    for mask in mask_list:\n",
    "        arr_ = copy.copy(arr)\n",
    "        for idx in mask:\n",
    "            arr_[idx] = '2'\n",
    "        result.append(arr_)\n",
    "    return result\n",
    "\n",
    "def gen_data(data_raw, start_mask_field, num_fields):\n",
    "    data_result = []\n",
    "    for arr in data_raw:\n",
    "        pos_idx_sets = []\n",
    "        pos_idx_arr = []\n",
    "        for i in range(start_mask_field, num_fields):\n",
    "            if arr[i] != \"1\":\n",
    "                pos_idx_arr.append(i)\n",
    "\n",
    "        # 选择最多两个\n",
    "        arr_len = len(pos_idx_arr)\n",
    "        \n",
    "        if arr_len == 0:\n",
    "            continue\n",
    "        elif arr_len == 1:\n",
    "            pos_idx_lists = []\n",
    "        elif arr_len == 2:\n",
    "            pos_idx_lists = [[pos_idx_arr[0]], [pos_idx_arr[1]]]\n",
    "        else:\n",
    "            pos_idx_lists = [\n",
    "                random.sample(pos_idx_arr, random.choice([1+i for i in range(arr_len-1)])),\n",
    "                random.sample(pos_idx_arr, random.choice([1+i for i in range(arr_len-1)]))\n",
    "            ]\n",
    "        pos_idx_lists.append(pos_idx_arr)\n",
    "        data_result.extend(gen_data_with_mask(arr, pos_idx_lists))\n",
    "        \n",
    "    return data_result"
   ]
  },
  {
   "cell_type": "code",
   "execution_count": 18,
   "id": "f82876c2",
   "metadata": {},
   "outputs": [
    {
     "name": "stdout",
     "output_type": "stream",
     "text": [
      "2766 607 151\n",
      "11064 2428 604\n"
     ]
    }
   ],
   "source": [
    "start_mask_field, num_fields = 121, 176\n",
    "title, data_xl = read_file(r'data/训练_全特征.txt')\n",
    "title, data_cs = read_file(r'data/测试_全特征.txt')\n",
    "title, data_rj = read_file(r'data/人机_全特征.txt')\n",
    "print(len(data_xl), len(data_cs), len(data_rj))\n",
    "\n",
    "data_xl += gen_data(data_xl, start_mask_field, num_fields)\n",
    "random.shuffle(data_xl)\n",
    "data_cs += gen_data(data_cs, start_mask_field, num_fields)\n",
    "random.shuffle(data_cs)\n",
    "data_rj += gen_data(data_rj, start_mask_field, num_fields)\n",
    "random.shuffle(data_rj)\n",
    "print(len(data_xl), len(data_cs), len(data_rj))\n",
    "\n",
    "write_to_file(r'data/训练数据_合成.txt', title, data_xl)\n",
    "write_to_file(r'data/测试数据_合成.txt', title, data_cs)\n",
    "write_to_file(r'data/人机数据_合成.txt', title, data_rj)"
   ]
  },
  {
   "cell_type": "code",
   "execution_count": 7,
   "id": "6fdaa2f4",
   "metadata": {},
   "outputs": [
    {
     "name": "stdout",
     "output_type": "stream",
     "text": [
      "184\n",
      "129\n"
     ]
    }
   ],
   "source": [
    "title='医保编号\t入院日期\t急性阑尾炎\t急性胰腺炎\t肠梗阻\t异位妊娠\t急性胆管炎\t急性胆囊炎\t上尿路结石\t卵巢囊肿\t消化道穿孔\t放射痛（右肩、肩胛和背部）\t上腹痛\t厌食\t腹泻\t头晕\t黄疸\t盆腔疼痛\t迅速波及全腹\t坐立不安\t黑便\t右下腹疼痛\t转移性右下腹疼痛\t中腹痛\t右上腹痛\t放射痛（放射到同侧半腹或背部）\t持续性腹痛\t仰卧加重，坐位缓解\t阵发性疼痛\t突然发作\t绞痛\t剧烈腹痛\t恶心呕吐\t腹胀\t停止排便排气\t停经\t阴道流血\t排尿改变\t放射痛（侧腹、腹股沟、睾丸或大阴唇）\t腰、侧腹痛\t性别\t年龄\t阑尾炎家族史阳性\t腹部手术史\t胆结石病史\t酗酒\t美沙拉明、速尿、氯沙坦、6-巯基嘌呤或硫唑嘌呤、异烟肼、袢利尿剂和去羟肌苷使用史\t高钙血症病史\t高甘油三酯血症病史\t病毒、细菌、寄生虫和真菌\t基因突变\t自身免疫性疾病\t内镜逆行胰胆管造影、EUS与FNA、主动脉手术胰腺切除术史\t胰腺肿瘤、囊肿病史\t腹部肿瘤史\t疝气或疝气修复史\t炎症性肠病病史\t子宫内膜异位症病史\t憩室炎病史\t阑尾炎手术史\t肠系膜缺血病史\t异物摄入史\t钩虫感染病史\t非甾体抗炎药，氯化钾肠溶片使用史\t输卵管手术史\t不孕\t既往生殖器感染\t既往流产\t吸烟\t年龄35岁及以上\t宫内节育器使用\t既往异位妊娠史\t肥胖\t输卵管积水\t杀精剂接触史\t饱餐、进食油腻食物史\t结节病病史\t尿路感染史\t卵巢旁囊肿\t禁食\t胃泌素瘤\tCXCR1低表达\t畸胎瘤病史\t类固醇\t药物服用史\t重症监护室（应激性溃疡）\t消化道溃疡病史\t尿石症家族史\t尿石症病史\t痛风病史\t高血压病史\t高盐饮食\t高草酸饮食\t糖尿病病史\t饮水较少\t超过一个性伴侣\t新的性伴侣\t低钙饮食\t肿瘤化疗史\tHp感染史\t盆腔炎病史\t克罗恩病病史\t原发性甲状旁腺功能亢进\t甲亢病史\t二乙基己烯雌酚\t多发性骨髓瘤病史\t肾小管酸中毒病史\t短肠综合征\t胃绕道手术史、减肥手术史\t慢性肾病病史\t下腹压痛\t子宫压痛\t附件区压痛\t肾脏叩击痛\t可能触到囊肿\t肠鸣音消失\t宫颈刺激\t板状腹\t肿大胆囊\t腹部叩诊鼓音\t肠鸣音亢进（病程早期）\t肠鸣音减弱（病程晚期）\t昏迷\t体温升高\t脉搏显著加快\t低血压\t反跳痛或肌紧张\t墨菲征Murphy征\t附件肿块\t全血白细胞大于9.5\t全血白细胞小于4\t全血白细胞大于10\t全血中性粒细胞%大于75\t全血C反应蛋白大于10\t全血血沉大于26\t全血降钙素原大于0.1\t血清降钙素原大于0.1\t血清脂肪酶大于900\t血清淀粉酶大于405\t血清天冬氨酸氨基转移酶大于75\t血清丙氨酸氨基转移酶大于60\t血清碱性磷酸酶大于187.5\t血清γ-谷氨酰转移酶大于90\t血清β-绒毛膜促性腺激素大于10\t血清总胆红素大于22\t尿液红细胞大于28\t尿液白细胞大于17\t血清C反应蛋白大于5\t超声急性阑尾炎\t超声急性胰腺炎\t超声肠梗阻\t超声异位妊娠\t超声急性胆管炎\t超声急性胆囊炎\t超声上尿路结石\t超声消化道穿孔\t超声卵巢囊肿\tCT急性阑尾炎\tCT急性胰腺炎\tCT肠梗阻\tCT异位妊娠\tCT急性胆管炎\tCT急性胆囊炎\tCT上尿路结石\tCT消化道穿孔\tCT卵巢囊肿\tMR急性阑尾炎\tMR急性胰腺炎\tMR肠梗阻\tMR异位妊娠\tMR急性胆管炎\tMR急性胆囊炎\tMR上尿路结石\tMR消化道穿孔\tMR卵巢囊肿\tDR急性阑尾炎\tDR急性胰腺炎\tDR肠梗阻\tDR异位妊娠\tDR急性胆管炎\tDR急性胆囊炎\tDR上尿路结石\tDR消化道穿孔\tDR卵巢囊肿'\n",
    "title_arr = title.split(separator)\n",
    "print(len(title_arr))\n",
    "print(title_arr.index('全血白细胞大于9.5'))"
   ]
  },
  {
   "cell_type": "code",
   "execution_count": 21,
   "id": "52f1b65c",
   "metadata": {},
   "outputs": [
    {
     "name": "stdout",
     "output_type": "stream",
     "text": [
      "2766 607 151\n",
      "11064 2428 604\n"
     ]
    }
   ],
   "source": [
    "start_mask_field, num_fields = 129, 184\n",
    "title, data_xl = read_file(r'data/uie/训练_全特征_多诊断.txt')\n",
    "title, data_cs = read_file(r'data/uie/测试_全特征_多诊断.txt')\n",
    "title, data_rj = read_file(r'data/uie/人机_全特征_多诊断.txt')\n",
    "print(len(data_xl), len(data_cs), len(data_rj))\n",
    "\n",
    "data_xl += gen_data(data_xl, start_mask_field, num_fields)\n",
    "random.shuffle(data_xl)\n",
    "data_cs += gen_data(data_cs, start_mask_field, num_fields)\n",
    "random.shuffle(data_cs)\n",
    "data_rj += gen_data(data_rj, start_mask_field, num_fields)\n",
    "random.shuffle(data_rj)\n",
    "print(len(data_xl), len(data_cs), len(data_rj))\n",
    "\n",
    "write_to_file(r'data/uie/训练数据_合成_多诊断.txt', title, data_xl)\n",
    "write_to_file(r'data/uie/测试数据_合成_多诊断.txt', title, data_cs)\n",
    "write_to_file(r'data/uie/人机数据_合成_多诊断.txt', title, data_rj)"
   ]
  },
  {
   "cell_type": "code",
   "execution_count": null,
   "id": "648f81fd",
   "metadata": {},
   "outputs": [],
   "source": []
  }
 ],
 "metadata": {
  "kernelspec": {
   "display_name": "Python 3 (ipykernel)",
   "language": "python",
   "name": "python3"
  },
  "language_info": {
   "codemirror_mode": {
    "name": "ipython",
    "version": 3
   },
   "file_extension": ".py",
   "mimetype": "text/x-python",
   "name": "python",
   "nbconvert_exporter": "python",
   "pygments_lexer": "ipython3",
   "version": "3.9.12"
  }
 },
 "nbformat": 4,
 "nbformat_minor": 5
}
