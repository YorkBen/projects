{
 "cells": [
  {
   "cell_type": "code",
   "execution_count": 1,
   "id": "4e12562d",
   "metadata": {},
   "outputs": [],
   "source": [
    "import sys\n",
    "\n",
    "sys.path.append(\"../Lib\")\n",
    "\n",
    "from MRRecordUtil import *"
   ]
  },
  {
   "cell_type": "code",
   "execution_count": 2,
   "id": "30ae6bd2",
   "metadata": {},
   "outputs": [],
   "source": [
    "from sklearn import metrics\n",
    "import itertools\n",
    "import matplotlib.pyplot as plt\n",
    "import numpy as np\n",
    "from matplotlib.font_manager import FontProperties\n",
    "\n",
    "font = FontProperties(fname=\"SimHei.ttf\", size=14)\n",
    "# 绘制混淆矩阵\n",
    "def plot_confusion_matrix(cm, classes, normalize=False, title='Confusion matrix', cmap=plt.cm.Blues):\n",
    "    \"\"\"\n",
    "    - cm : 计算出的混淆矩阵的值\n",
    "    - classes : 混淆矩阵中每一行每一列对应的列\n",
    "    - normalize : True:显示百分比, False:显示个数\n",
    "    \"\"\"\n",
    "    if normalize:\n",
    "        print(cm)\n",
    "        cm = cm.astype('float') / cm.sum(axis=1)[:, np.newaxis]\n",
    "#         print(\"显示百分比：\")\n",
    "#         np.set_printoptions(formatter={'float': '{: 0.2f}'.format})\n",
    "    else:\n",
    "        cm_ = cm.astype('float') / cm.sum(axis=1)[:, np.newaxis]\n",
    "        np.set_printoptions(formatter={'float': '{: 0.2f}'.format})\n",
    "#         print('显示具体数字：')\n",
    "#         print(cm_)\n",
    "    plt.figure(figsize=(4,4))\n",
    "    plt.imshow(cm, interpolation='nearest', cmap=cmap)\n",
    "    plt.title(title)\n",
    "    plt.colorbar()\n",
    "    tick_marks = np.arange(len(classes))\n",
    "    plt.xticks(tick_marks, classes, rotation=45)\n",
    "    plt.yticks(tick_marks, classes)\n",
    "    # matplotlib版本问题，如果不加下面这行代码，则绘制的混淆矩阵上下只能显示一半，有的版本的matplotlib不需要下面的代码，分别试一下即可\n",
    "#     plt.ylim(len(classes) - 0.5, -0.5)\n",
    "    fmt = '.2f' if normalize else 'd'\n",
    "    thresh = cm.max() / 2.\n",
    "    for i, j in itertools.product(range(cm.shape[0]), range(cm.shape[1])):\n",
    "        plt.text(j, i, format(cm[i, j], fmt),\n",
    "                 horizontalalignment=\"center\",\n",
    "                 color=\"white\" if cm[i, j] > thresh else \"black\")\n",
    "    plt.tight_layout()\n",
    "    plt.ylabel('True label', fontproperties=font)\n",
    "    plt.xlabel('Predicted label', fontproperties=font)\n",
    "    plt.show()\n"
   ]
  },
  {
   "cell_type": "code",
   "execution_count": 9,
   "id": "d18871f7",
   "metadata": {},
   "outputs": [],
   "source": [
    "xlsx_path = r'D:\\projects\\NLP\\MedicalRecord\\FeatureExtracRegex\\data\\腹痛\\临床特征_机器_人工.xls'\n",
    "xlsx_data1 = load_sheet_arr_dict(xlsx_path, 'Sheet1')\n",
    "xlsx_data2 = load_sheet_arr_dict(xlsx_path, 'Sheet2')"
   ]
  },
  {
   "cell_type": "markdown",
   "id": "8f47817d",
   "metadata": {},
   "source": [
    "### 按列统计两个数据"
   ]
  },
  {
   "cell_type": "code",
   "execution_count": 11,
   "id": "e680008d",
   "metadata": {},
   "outputs": [],
   "source": [
    "stat_dict = {}\n",
    "keys = [key for key in xlsx_data1[0]]\n",
    "for key in keys:\n",
    "    stat_dict[key] = {'p':[], 'y':[]}\n",
    "    for r1, r2 in zip(xlsx_data1, xlsx_data2):\n",
    "        stat_dict[key]['p'].append(float(r1[key]) if r1[key] != '' else 0)\n",
    "        stat_dict[key]['y'].append(float(r2[key]) if r2[key] != '' else 0)\n"
   ]
  },
  {
   "cell_type": "code",
   "execution_count": 17,
   "id": "a4e0e2af",
   "metadata": {},
   "outputs": [],
   "source": [
    "tags = ['0', '1', '2']\n",
    "def plot_key_matrix(key):\n",
    "    y, pred = stat_dict[key]['y'], stat_dict[key]['p']\n",
    "    matrix = metrics.confusion_matrix(y, pred)\n",
    "    plot_confusion_matrix(matrix, tags, False, 'Confusion matrix')\n",
    "    \n",
    "def show_acc(key):\n",
    "    same = {0:0, 1:0, 2:0}\n",
    "    tota = {0:0, 1:0, 2:0}\n",
    "    y, pred = stat_dict[key]['y'], stat_dict[key]['p']\n",
    "    for v1, v2 in zip(y, pred):\n",
    "        tota[v1] = tota[v1] + 1\n",
    "        if v1 == v2:\n",
    "            same[v1] = same[v1] + 1\n",
    "            \n",
    "    same_all, tota_all = 0, 0\n",
    "    for k in tota:\n",
    "        print('%s: total: %s, same: %s, acc: %s' % (k, tota[k], same[k], same[k]/tota[k]))\n",
    "        same_all = same_all + same[k]\n",
    "        tota_all = tota_all + tota[k]\n",
    "    print('ALL: total: %s, same: %s, acc: %s' % (tota_all, same_all, same_all/tota_all))\n",
    "    \n",
    "def show_1_notsame(key):\n",
    "    y, pred = stat_dict[key]['y'], stat_dict[key]['p']\n",
    "    for i, (v1, v2) in enumerate(zip(y, pred)):\n",
    "        if v1 != v2 and (v1 == 1 or v2 == 1):\n",
    "            print('%s\t%s\t%s\t%s' % (stat_dict['医保编号']['y'][i],stat_dict['入院日期']['y'][i], v1, v2))"
   ]
  },
  {
   "cell_type": "code",
   "execution_count": 13,
   "id": "f69d4591",
   "metadata": {},
   "outputs": [
    {
     "data": {
      "image/png": "[encoded data removed]",
      "text/plain": [
       "<Figure size 288x288 with 2 Axes>"
      ]
     },
     "metadata": {
      "needs_background": "light"
     },
     "output_type": "display_data"
    }
   ],
   "source": [
    "plot_key_matrix('腹胀')"
   ]
  },
  {
   "cell_type": "code",
   "execution_count": 18,
   "id": "688fea15",
   "metadata": {},
   "outputs": [
    {
     "name": "stdout",
     "output_type": "stream",
     "text": [
      "0: total: 231, same: 38, acc: 0.1645021645021645\n",
      "1: total: 187, same: 184, acc: 0.983957219251337\n",
      "2: total: 189, same: 189, acc: 1.0\n",
      "ALL: total: 607, same: 411, acc: 0.6771004942339374\n"
     ]
    }
   ],
   "source": [
    "show_acc('腹胀')"
   ]
  },
  {
   "cell_type": "code",
   "execution_count": 46,
   "id": "92331e07",
   "metadata": {},
   "outputs": [
    {
     "name": "stdout",
     "output_type": "stream",
     "text": [
      "20078298\t20220304\t2\t1\n",
      "20084585\t20220421\t2\t1\n",
      "10269159\t20220212\t2\t1\n",
      "10307760\t20220513\t2\t1\n",
      "10308395\t20220515\t2\t1\n",
      "10311590\t20220521\t2\t1\n"
     ]
    }
   ],
   "source": [
    "show_1_notsame('腹胀')"
   ]
  },
  {
   "cell_type": "code",
   "execution_count": null,
   "id": "6a928f73",
   "metadata": {},
   "outputs": [],
   "source": []
  }
 ],
 "metadata": {
  "kernelspec": {
   "display_name": "Python 3 (ipykernel)",
   "language": "python",
   "name": "python3"
  },
  "language_info": {
   "codemirror_mode": {
    "name": "ipython",
    "version": 3
   },
   "file_extension": ".py",
   "mimetype": "text/x-python",
   "name": "python",
   "nbconvert_exporter": "python",
   "pygments_lexer": "ipython3",
   "version": "3.9.12"
  }
 },
 "nbformat": 4,
 "nbformat_minor": 5
}
