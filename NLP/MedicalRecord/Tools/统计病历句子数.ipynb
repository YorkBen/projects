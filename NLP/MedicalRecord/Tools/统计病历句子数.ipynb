{
 "cells": [
  {
   "cell_type": "code",
   "execution_count": 1,
   "id": "6e2f1889",
   "metadata": {},
   "outputs": [],
   "source": [
    "import sys\n",
    "sys.path.append('..\\Lib')\n",
    "\n",
    "from RegexBase import RegexBase\n",
    "\n",
    "rb = RegexBase()"
   ]
  },
  {
   "cell_type": "code",
   "execution_count": 17,
   "id": "6cacf38f",
   "metadata": {},
   "outputs": [],
   "source": [
    "data = []\n",
    "with open('all_txt.txt') as f:\n",
    "    for line in f.readlines():\n",
    "        arr = line.strip().split('\\\\n')\n",
    "        for s in arr:\n",
    "            arr_s = rb.split_text(s, '。|，|；|,|;')\n",
    "            for s2 in arr_s:\n",
    "#                 print(s2)\n",
    "                if s2 != '':\n",
    "                    data.append(s2)\n",
    "        break"
   ]
  },
  {
   "cell_type": "code",
   "execution_count": 18,
   "id": "9d594fd5",
   "metadata": {},
   "outputs": [
    {
     "data": {
      "text/plain": [
       "108"
      ]
     },
     "execution_count": 18,
     "metadata": {},
     "output_type": "execute_result"
    }
   ],
   "source": [
    "len(data)"
   ]
  },
  {
   "cell_type": "code",
   "execution_count": null,
   "id": "b036818a",
   "metadata": {},
   "outputs": [],
   "source": []
  }
 ],
 "metadata": {
  "kernelspec": {
   "display_name": "Python 3 (ipykernel)",
   "language": "python",
   "name": "python3"
  },
  "language_info": {
   "codemirror_mode": {
    "name": "ipython",
    "version": 3
   },
   "file_extension": ".py",
   "mimetype": "text/x-python",
   "name": "python",
   "nbconvert_exporter": "python",
   "pygments_lexer": "ipython3",
   "version": "3.9.12"
  }
 },
 "nbformat": 4,
 "nbformat_minor": 5
}
