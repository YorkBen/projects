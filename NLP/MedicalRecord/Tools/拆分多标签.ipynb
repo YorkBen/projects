{
 "cells": [
  {
   "cell_type": "code",
   "execution_count": 2,
   "id": "c0bdf257",
   "metadata": {},
   "outputs": [],
   "source": [
    "import sys\n",
    "sys.path.append('..')\n",
    "\n",
    "from Lib.MRRecordUtil import *"
   ]
  },
  {
   "cell_type": "code",
   "execution_count": 14,
   "id": "d853df69",
   "metadata": {},
   "outputs": [],
   "source": [
    "import copy\n",
    "def duplicate_record_by_labels(data_sheet, label_sheet):\n",
    "    result_sheet = []\n",
    "    label_dict = {}\n",
    "    for record in label_sheet:\n",
    "        key = '%d_%d' % (record['医保编号'], record['入院日期'])\n",
    "        labels = '%d' % record['诊断编号']\n",
    "        label_dict[key] = labels\n",
    "        \n",
    "    for record in data_sheet:\n",
    "        key = '%d_%d' % (record['医保编号'], record['入院日期'])\n",
    "        labels = label_dict[key]\n",
    "        for l in labels:\n",
    "            record_ = copy.copy(record)\n",
    "            record_['诊断编号'] = l\n",
    "            result_sheet.append(record_)\n",
    "        \n",
    "    return result_sheet"
   ]
  },
  {
   "cell_type": "code",
   "execution_count": 15,
   "id": "47e51cc1",
   "metadata": {},
   "outputs": [],
   "source": [
    "path1 = r'D:\\项目资料\\病历辅助诊断\\特征抽取\\数据\\拟合数据\\20220902\\多诊断训练.xlsx'\n",
    "path2 = r'D:\\项目资料\\病历辅助诊断\\特征抽取\\数据\\拟合数据\\20220902\\多诊断测试.xlsx'\n",
    "\n",
    "sheet_xl_ql = load_sheet_arr_dict(path1, '全量特征')\n",
    "sheet_xl_lc = load_sheet_arr_dict(path1, '临床特征')\n",
    "sheet_xl_bq = load_sheet_arr_dict(path1, '多标签')\n",
    "\n",
    "sheet_cs_ql = load_sheet_arr_dict(path2, '全量特征')\n",
    "sheet_cs_lc = load_sheet_arr_dict(path2, '临床特征')\n",
    "sheet_cs_bq = load_sheet_arr_dict(path2, '多标签')\n"
   ]
  },
  {
   "cell_type": "code",
   "execution_count": 16,
   "id": "6aaedb7e",
   "metadata": {},
   "outputs": [],
   "source": [
    "sheet_xl_ql_expand = duplicate_record_by_labels(sheet_xl_ql, sheet_xl_bq)\n",
    "sheet_xl_lc_expand = duplicate_record_by_labels(sheet_xl_lc, sheet_xl_bq)\n",
    "sheet_cs_ql_expand = duplicate_record_by_labels(sheet_cs_ql, sheet_cs_bq)\n",
    "sheet_cs_lc_expand = duplicate_record_by_labels(sheet_cs_lc, sheet_cs_bq)"
   ]
  },
  {
   "cell_type": "code",
   "execution_count": 17,
   "id": "a0c569dc",
   "metadata": {},
   "outputs": [
    {
     "name": "stdout",
     "output_type": "stream",
     "text": [
      "Debug Mode Opened!\n",
      "save file: 训练_全特征_多标签_扩充数据集.xlsx\n",
      "Debug Mode Opened!\n",
      "save file: 训练_临床_多标签_扩充数据集.xlsx\n",
      "Debug Mode Opened!\n",
      "save file: 测试_全特征_多标签_扩充数据集.xlsx\n",
      "Debug Mode Opened!\n",
      "save file: 测试_临床_多标签_扩充数据集.xlsx\n"
     ]
    }
   ],
   "source": [
    "write_sheet_arr_dict(sheet_xl_ql_expand, '训练_全特征_多标签_扩充数据集.xlsx')\n",
    "write_sheet_arr_dict(sheet_xl_lc_expand, '训练_临床_多标签_扩充数据集.xlsx')\n",
    "write_sheet_arr_dict(sheet_cs_ql_expand, '测试_全特征_多标签_扩充数据集.xlsx')\n",
    "write_sheet_arr_dict(sheet_cs_lc_expand, '测试_临床_多标签_扩充数据集.xlsx')"
   ]
  },
  {
   "cell_type": "code",
   "execution_count": null,
   "id": "8eb68a66",
   "metadata": {},
   "outputs": [],
   "source": []
  }
 ],
 "metadata": {
  "kernelspec": {
   "display_name": "Python 3 (ipykernel)",
   "language": "python",
   "name": "python3"
  },
  "language_info": {
   "codemirror_mode": {
    "name": "ipython",
    "version": 3
   },
   "file_extension": ".py",
   "mimetype": "text/x-python",
   "name": "python",
   "nbconvert_exporter": "python",
   "pygments_lexer": "ipython3",
   "version": "3.9.12"
  }
 },
 "nbformat": 4,
 "nbformat_minor": 5
}
