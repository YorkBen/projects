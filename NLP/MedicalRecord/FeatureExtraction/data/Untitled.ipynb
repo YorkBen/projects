{
 "cells": [
  {
   "cell_type": "code",
   "execution_count": 1,
   "id": "7ef83f28",
   "metadata": {},
   "outputs": [],
   "source": [
    "import re\n",
    "\n",
    "results = []\n",
    "with open('1.txt') as f:\n",
    "    for line in f.readlines():\n",
    "        for match in re.finditer('.{4}妊娠.{4}', line):\n",
    "            results.append(match.group(0))"
   ]
  },
  {
   "cell_type": "code",
   "execution_count": 2,
   "id": "3e5af198",
   "metadata": {},
   "outputs": [
    {
     "name": "stdout",
     "output_type": "stream",
     "text": [
      "1.宫内妊娠，胚胎存\n",
      "发现切口妊娠3天',\n",
      "发现异位妊娠1天',\n",
      "6年宫角妊娠。因子宫\n",
      "年因切口妊娠行子宫动\n",
      "提示1.妊娠子宫，胎\n",
      "001年妊娠期甲亢'\n",
      "提示切口妊娠1天。'\n",
      "胎存活，妊娠孕囊位置\n",
      "左侧卵巢妊娠行手术治\n",
      "“输卵管妊娠”行腹腔\n",
      "年因异位妊娠于鄂州妇\n",
      " '本次妊娠产检手册\n",
      "颈内口处妊娠囊样声像\n",
      "考虑切口妊娠。202\n",
      "考虑切口妊娠） 三维\n",
      "左侧宫角妊娠）。'}\n",
      "余，切口妊娠药流术后\n",
      "日自测尿妊娠试验阳性\n",
      "99年因妊娠期高血压\n",
      "区（卵巢妊娠？）3、\n",
      "23岁 妊娠1次 产\n",
      ": '尿妊娠试验阴性\n",
      "因“异位妊娠”行腹腔\n",
      "考虑切口妊娠 胚胎存\n",
      "下腹可见妊娠斑。无胃\n",
      "考虑切口妊娠），20\n",
      "年前瘢痕妊娠药流+清\n",
      "虑间质部妊娠）；2.\n",
      "06年因妊娠行剖宫产\n",
      "考虑异位妊娠，建议进\n",
      "考虑切口妊娠）；2.\n",
      "发现宫角妊娠2天。'\n",
      "现切口处妊娠组织1天\n",
      "年行异位妊娠行腹腔镜\n",
      "囊。异位妊娠？）。尿\n",
      "年因异位妊娠行宫腹腔\n",
      "活（切口妊娠可能）；\n",
      "6年宫角妊娠。', \n",
      "腹产瘢痕妊娠（II型\n",
      "宫瘢痕处妊娠1天',\n",
      "年因异位妊娠行经腹左\n",
      "26岁 妊娠3次 产\n",
      "示：切口妊娠 宫腔积\n",
      "8-6因妊娠合并急性\n",
      "侧输卵管妊娠于我院手\n",
      "20岁 妊娠5次 产\n",
      "）及异位妊娠手术（2\n",
      "腔镜异位妊娠切除手术\n",
      "医院切口妊娠手术',\n",
      " '本次妊娠产检病历\n",
      "20年前妊娠期甲亢，\n",
      "年因异位妊娠行腹腔镜\n",
      "），异位妊娠？、右侧\n",
      "侧输卵管妊娠行右侧输\n",
      "B超1.妊娠子宫，胎\n",
      "低（疤痕妊娠不除外）\n",
      "左侧卵巢妊娠在外院行\n",
      "（间质部妊娠？） 2\n",
      "发现异位妊娠当天',\n",
      "，曾异位妊娠两次（保\n",
      "声（切口妊娠待排，4\n",
      "发现切口妊娠4天',\n"
     ]
    }
   ],
   "source": [
    "results = list(set(results))\n",
    "for r in results:\n",
    "    print(r)"
   ]
  },
  {
   "cell_type": "code",
   "execution_count": null,
   "id": "edc58b02",
   "metadata": {},
   "outputs": [],
   "source": []
  }
 ],
 "metadata": {
  "kernelspec": {
   "display_name": "Python 3 (ipykernel)",
   "language": "python",
   "name": "python3"
  },
  "language_info": {
   "codemirror_mode": {
    "name": "ipython",
    "version": 3
   },
   "file_extension": ".py",
   "mimetype": "text/x-python",
   "name": "python",
   "nbconvert_exporter": "python",
   "pygments_lexer": "ipython3",
   "version": "3.9.12"
  }
 },
 "nbformat": 4,
 "nbformat_minor": 5
}
