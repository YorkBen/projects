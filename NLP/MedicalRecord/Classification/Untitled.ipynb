{
 "cells": [
  {
   "cell_type": "code",
   "execution_count": 14,
   "id": "4826d8d5",
   "metadata": {},
   "outputs": [],
   "source": [
    "from scipy.sparse import csr_matrix, lil_matrix\n",
    "import random\n",
    "import numpy as np"
   ]
  },
  {
   "cell_type": "code",
   "execution_count": 8,
   "id": "0c5f4702",
   "metadata": {},
   "outputs": [],
   "source": [
    "def load_data_file(file_path, n_labels, separator='\t', skip_head=True):\n",
    "    \"\"\"\n",
    "    加载数据文件，文件格式：\n",
    "    f1, f2, f3, ... fn, lbl1, lbl2, lbl3...\n",
    "    \"\"\"\n",
    "    features, labels = [], []\n",
    "    lines = []\n",
    "    with open(file_path) as f:\n",
    "        for idx, line in enumerate(f.readlines()):\n",
    "            if idx == 0 and skip_head:\n",
    "                continue\n",
    "            arr = line.strip().split(separator)\n",
    "            lines.append(arr)\n",
    "\n",
    "    random.shuffle(lines)\n",
    "    features = [[float(e) for e in arr[:-n_labels]] for arr in lines]\n",
    "    labels = [[float(1) if float(e) > 1 else float(e) for e in arr[-n_labels:]] for arr in lines]\n",
    "\n",
    "    return features, labels"
   ]
  },
  {
   "cell_type": "code",
   "execution_count": 15,
   "id": "23e6d0b0",
   "metadata": {},
   "outputs": [
    {
     "name": "stdout",
     "output_type": "stream",
     "text": [
      "train data size: 1586, val data size: 397\n",
      "train feature num: 118, predict label num: 11\n"
     ]
    }
   ],
   "source": [
    "n_labels = 11\n",
    "# 加载数据\n",
    "features, labels = load_data_file(r'data\\multilbl_data_20220721.txt', n_labels)\n",
    "n_features = len(features[0])\n",
    "\n",
    "train_size = int(len(labels) * 0.8)\n",
    "val_size = len(labels) - train_size\n",
    "print('train data size: %s, val data size: %s' % (train_size, val_size))\n",
    "print('train feature num: %s, predict label num: %s' % (len(features[0]), len(labels[0])))\n",
    "\n",
    "X_train, y_train = np.array(features[:train_size]), np.array(labels[:train_size])\n",
    "X_test, y_test = np.array(features[train_size:]), np.array(labels[train_size:])"
   ]
  },
  {
   "cell_type": "code",
   "execution_count": 16,
   "id": "657dc852",
   "metadata": {},
   "outputs": [
    {
     "data": {
      "text/plain": [
       "<1586x118 sparse matrix of type '<class 'numpy.float64'>'\n",
       "\twith 59443 stored elements in List of Lists format>"
      ]
     },
     "execution_count": 16,
     "metadata": {},
     "output_type": "execute_result"
    }
   ],
   "source": [
    "X_train = lil_matrix(X_train)\n",
    "X_train"
   ]
  },
  {
   "cell_type": "code",
   "execution_count": 10,
   "id": "16e3c939",
   "metadata": {},
   "outputs": [],
   "source": [
    "X_train = csr_matrix(X_train)"
   ]
  },
  {
   "cell_type": "code",
   "execution_count": 13,
   "id": "ecad8cdb",
   "metadata": {},
   "outputs": [
    {
     "data": {
      "text/plain": [
       "<1586x118 sparse matrix of type '<class 'numpy.float64'>'\n",
       "\twith 59669 stored elements in Compressed Sparse Row format>"
      ]
     },
     "execution_count": 13,
     "metadata": {},
     "output_type": "execute_result"
    }
   ],
   "source": [
    "X_train"
   ]
  },
  {
   "cell_type": "code",
   "execution_count": null,
   "id": "755cdef9",
   "metadata": {},
   "outputs": [],
   "source": []
  },
  {
   "cell_type": "code",
   "execution_count": null,
   "id": "27fd33d0",
   "metadata": {},
   "outputs": [],
   "source": []
  }
 ],
 "metadata": {
  "kernelspec": {
   "display_name": "Python 3 (ipykernel)",
   "language": "python",
   "name": "python3"
  },
  "language_info": {
   "codemirror_mode": {
    "name": "ipython",
    "version": 3
   },
   "file_extension": ".py",
   "mimetype": "text/x-python",
   "name": "python",
   "nbconvert_exporter": "python",
   "pygments_lexer": "ipython3",
   "version": "3.9.12"
  }
 },
 "nbformat": 4,
 "nbformat_minor": 5
}
